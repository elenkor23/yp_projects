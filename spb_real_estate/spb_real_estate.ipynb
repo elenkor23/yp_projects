{
 "cells": [
  {
   "cell_type": "markdown",
   "metadata": {},
   "source": [
    "# Исследование объявлений о продаже квартир\n",
    "\n",
    "В вашем распоряжении данные сервиса Яндекс.Недвижимость — архив объявлений о продаже квартир в Санкт-Петербурге и соседних населённых пунктов за несколько лет. Нужно научиться определять рыночную стоимость объектов недвижимости. Ваша задача — установить параметры. Это позволит построить автоматизированную систему: она отследит аномалии и мошенническую деятельность. \n",
    "\n",
    "По каждой квартире на продажу доступны два вида данных. Первые вписаны пользователем, вторые — получены автоматически на основе картографических данных. Например, расстояние до центра, аэропорта, ближайшего парка и водоёма. "
   ]
  },
  {
   "cell_type": "markdown",
   "metadata": {},
   "source": [
    "**Этапы исследования:**\n",
    "* Обзор данных\n",
    "* Предобработка данных, в том числе:\n",
    " * Удаление пропусков\n",
    " * Изменение типов данных\n",
    " * Обработка аномальных значений\n",
    "* Добавление  дополнительных данных\n",
    "* Исследовательский анализ данных\n",
    "* Выводы"
   ]
  },
  {
   "cell_type": "markdown",
   "metadata": {},
   "source": [
    "### Откройте файл с данными и изучите общую информацию. "
   ]
  },
  {
   "cell_type": "code",
   "execution_count": 1,
   "metadata": {},
   "outputs": [],
   "source": [
    "# импорт библиотеки для работы с таблицами\n",
    "import pandas as pd\n",
    "import matplotlib.pyplot as plt\n",
    "import seaborn as sns"
   ]
  },
  {
   "cell_type": "code",
   "execution_count": 2,
   "metadata": {},
   "outputs": [],
   "source": [
    "# Применяем try .. except для обработки возможных ошибок и открываем датасет\n",
    "try:\n",
    "    data = pd.read_csv('/datasets/real_estate_data.csv', sep='\\t')\n",
    "    #data_raw = pd.read_csv('/datasets/real_estate_data.csv', sep='\\t')\n",
    "except:\n",
    "    data = pd.read_csv('https://code.s3.yandex.net/datasets/real_estate_data.csv', sep='\\t')\n",
    "    #data_raw = pd.read_csv('https://code.s3.yandex.net/datasets/real_estate_data.csv', sep='\\t')"
   ]
  },
  {
   "cell_type": "code",
   "execution_count": 3,
   "metadata": {
    "scrolled": true
   },
   "outputs": [
    {
     "data": {
      "text/html": [
       "<div>\n",
       "<style scoped>\n",
       "    .dataframe tbody tr th:only-of-type {\n",
       "        vertical-align: middle;\n",
       "    }\n",
       "\n",
       "    .dataframe tbody tr th {\n",
       "        vertical-align: top;\n",
       "    }\n",
       "\n",
       "    .dataframe thead th {\n",
       "        text-align: right;\n",
       "    }\n",
       "</style>\n",
       "<table border=\"1\" class=\"dataframe\">\n",
       "  <thead>\n",
       "    <tr style=\"text-align: right;\">\n",
       "      <th></th>\n",
       "      <th>total_images</th>\n",
       "      <th>last_price</th>\n",
       "      <th>total_area</th>\n",
       "      <th>first_day_exposition</th>\n",
       "      <th>rooms</th>\n",
       "      <th>ceiling_height</th>\n",
       "      <th>floors_total</th>\n",
       "      <th>living_area</th>\n",
       "      <th>floor</th>\n",
       "      <th>is_apartment</th>\n",
       "      <th>studio</th>\n",
       "      <th>open_plan</th>\n",
       "      <th>kitchen_area</th>\n",
       "      <th>balcony</th>\n",
       "      <th>locality_name</th>\n",
       "      <th>airports_nearest</th>\n",
       "      <th>cityCenters_nearest</th>\n",
       "      <th>parks_around3000</th>\n",
       "      <th>parks_nearest</th>\n",
       "      <th>ponds_around3000</th>\n",
       "      <th>ponds_nearest</th>\n",
       "      <th>days_exposition</th>\n",
       "    </tr>\n",
       "  </thead>\n",
       "  <tbody>\n",
       "    <tr>\n",
       "      <th>0</th>\n",
       "      <td>20</td>\n",
       "      <td>13000000.0</td>\n",
       "      <td>108.00</td>\n",
       "      <td>2019-03-07T00:00:00</td>\n",
       "      <td>3</td>\n",
       "      <td>2.70</td>\n",
       "      <td>16.0</td>\n",
       "      <td>51.00</td>\n",
       "      <td>8</td>\n",
       "      <td>NaN</td>\n",
       "      <td>False</td>\n",
       "      <td>False</td>\n",
       "      <td>25.00</td>\n",
       "      <td>NaN</td>\n",
       "      <td>Санкт-Петербург</td>\n",
       "      <td>18863.0</td>\n",
       "      <td>16028.0</td>\n",
       "      <td>1.0</td>\n",
       "      <td>482.0</td>\n",
       "      <td>2.0</td>\n",
       "      <td>755.0</td>\n",
       "      <td>NaN</td>\n",
       "    </tr>\n",
       "    <tr>\n",
       "      <th>1</th>\n",
       "      <td>7</td>\n",
       "      <td>3350000.0</td>\n",
       "      <td>40.40</td>\n",
       "      <td>2018-12-04T00:00:00</td>\n",
       "      <td>1</td>\n",
       "      <td>NaN</td>\n",
       "      <td>11.0</td>\n",
       "      <td>18.60</td>\n",
       "      <td>1</td>\n",
       "      <td>NaN</td>\n",
       "      <td>False</td>\n",
       "      <td>False</td>\n",
       "      <td>11.00</td>\n",
       "      <td>2.0</td>\n",
       "      <td>посёлок Шушары</td>\n",
       "      <td>12817.0</td>\n",
       "      <td>18603.0</td>\n",
       "      <td>0.0</td>\n",
       "      <td>NaN</td>\n",
       "      <td>0.0</td>\n",
       "      <td>NaN</td>\n",
       "      <td>81.0</td>\n",
       "    </tr>\n",
       "    <tr>\n",
       "      <th>2</th>\n",
       "      <td>10</td>\n",
       "      <td>5196000.0</td>\n",
       "      <td>56.00</td>\n",
       "      <td>2015-08-20T00:00:00</td>\n",
       "      <td>2</td>\n",
       "      <td>NaN</td>\n",
       "      <td>5.0</td>\n",
       "      <td>34.30</td>\n",
       "      <td>4</td>\n",
       "      <td>NaN</td>\n",
       "      <td>False</td>\n",
       "      <td>False</td>\n",
       "      <td>8.30</td>\n",
       "      <td>0.0</td>\n",
       "      <td>Санкт-Петербург</td>\n",
       "      <td>21741.0</td>\n",
       "      <td>13933.0</td>\n",
       "      <td>1.0</td>\n",
       "      <td>90.0</td>\n",
       "      <td>2.0</td>\n",
       "      <td>574.0</td>\n",
       "      <td>558.0</td>\n",
       "    </tr>\n",
       "    <tr>\n",
       "      <th>3</th>\n",
       "      <td>0</td>\n",
       "      <td>64900000.0</td>\n",
       "      <td>159.00</td>\n",
       "      <td>2015-07-24T00:00:00</td>\n",
       "      <td>3</td>\n",
       "      <td>NaN</td>\n",
       "      <td>14.0</td>\n",
       "      <td>NaN</td>\n",
       "      <td>9</td>\n",
       "      <td>NaN</td>\n",
       "      <td>False</td>\n",
       "      <td>False</td>\n",
       "      <td>NaN</td>\n",
       "      <td>0.0</td>\n",
       "      <td>Санкт-Петербург</td>\n",
       "      <td>28098.0</td>\n",
       "      <td>6800.0</td>\n",
       "      <td>2.0</td>\n",
       "      <td>84.0</td>\n",
       "      <td>3.0</td>\n",
       "      <td>234.0</td>\n",
       "      <td>424.0</td>\n",
       "    </tr>\n",
       "    <tr>\n",
       "      <th>4</th>\n",
       "      <td>2</td>\n",
       "      <td>10000000.0</td>\n",
       "      <td>100.00</td>\n",
       "      <td>2018-06-19T00:00:00</td>\n",
       "      <td>2</td>\n",
       "      <td>3.03</td>\n",
       "      <td>14.0</td>\n",
       "      <td>32.00</td>\n",
       "      <td>13</td>\n",
       "      <td>NaN</td>\n",
       "      <td>False</td>\n",
       "      <td>False</td>\n",
       "      <td>41.00</td>\n",
       "      <td>NaN</td>\n",
       "      <td>Санкт-Петербург</td>\n",
       "      <td>31856.0</td>\n",
       "      <td>8098.0</td>\n",
       "      <td>2.0</td>\n",
       "      <td>112.0</td>\n",
       "      <td>1.0</td>\n",
       "      <td>48.0</td>\n",
       "      <td>121.0</td>\n",
       "    </tr>\n",
       "    <tr>\n",
       "      <th>5</th>\n",
       "      <td>10</td>\n",
       "      <td>2890000.0</td>\n",
       "      <td>30.40</td>\n",
       "      <td>2018-09-10T00:00:00</td>\n",
       "      <td>1</td>\n",
       "      <td>NaN</td>\n",
       "      <td>12.0</td>\n",
       "      <td>14.40</td>\n",
       "      <td>5</td>\n",
       "      <td>NaN</td>\n",
       "      <td>False</td>\n",
       "      <td>False</td>\n",
       "      <td>9.10</td>\n",
       "      <td>NaN</td>\n",
       "      <td>городской посёлок Янино-1</td>\n",
       "      <td>NaN</td>\n",
       "      <td>NaN</td>\n",
       "      <td>NaN</td>\n",
       "      <td>NaN</td>\n",
       "      <td>NaN</td>\n",
       "      <td>NaN</td>\n",
       "      <td>55.0</td>\n",
       "    </tr>\n",
       "    <tr>\n",
       "      <th>6</th>\n",
       "      <td>6</td>\n",
       "      <td>3700000.0</td>\n",
       "      <td>37.30</td>\n",
       "      <td>2017-11-02T00:00:00</td>\n",
       "      <td>1</td>\n",
       "      <td>NaN</td>\n",
       "      <td>26.0</td>\n",
       "      <td>10.60</td>\n",
       "      <td>6</td>\n",
       "      <td>NaN</td>\n",
       "      <td>False</td>\n",
       "      <td>False</td>\n",
       "      <td>14.40</td>\n",
       "      <td>1.0</td>\n",
       "      <td>посёлок Парголово</td>\n",
       "      <td>52996.0</td>\n",
       "      <td>19143.0</td>\n",
       "      <td>0.0</td>\n",
       "      <td>NaN</td>\n",
       "      <td>0.0</td>\n",
       "      <td>NaN</td>\n",
       "      <td>155.0</td>\n",
       "    </tr>\n",
       "    <tr>\n",
       "      <th>7</th>\n",
       "      <td>5</td>\n",
       "      <td>7915000.0</td>\n",
       "      <td>71.60</td>\n",
       "      <td>2019-04-18T00:00:00</td>\n",
       "      <td>2</td>\n",
       "      <td>NaN</td>\n",
       "      <td>24.0</td>\n",
       "      <td>NaN</td>\n",
       "      <td>22</td>\n",
       "      <td>NaN</td>\n",
       "      <td>False</td>\n",
       "      <td>False</td>\n",
       "      <td>18.90</td>\n",
       "      <td>2.0</td>\n",
       "      <td>Санкт-Петербург</td>\n",
       "      <td>23982.0</td>\n",
       "      <td>11634.0</td>\n",
       "      <td>0.0</td>\n",
       "      <td>NaN</td>\n",
       "      <td>0.0</td>\n",
       "      <td>NaN</td>\n",
       "      <td>NaN</td>\n",
       "    </tr>\n",
       "    <tr>\n",
       "      <th>8</th>\n",
       "      <td>20</td>\n",
       "      <td>2900000.0</td>\n",
       "      <td>33.16</td>\n",
       "      <td>2018-05-23T00:00:00</td>\n",
       "      <td>1</td>\n",
       "      <td>NaN</td>\n",
       "      <td>27.0</td>\n",
       "      <td>15.43</td>\n",
       "      <td>26</td>\n",
       "      <td>NaN</td>\n",
       "      <td>False</td>\n",
       "      <td>False</td>\n",
       "      <td>8.81</td>\n",
       "      <td>NaN</td>\n",
       "      <td>посёлок Мурино</td>\n",
       "      <td>NaN</td>\n",
       "      <td>NaN</td>\n",
       "      <td>NaN</td>\n",
       "      <td>NaN</td>\n",
       "      <td>NaN</td>\n",
       "      <td>NaN</td>\n",
       "      <td>189.0</td>\n",
       "    </tr>\n",
       "    <tr>\n",
       "      <th>9</th>\n",
       "      <td>18</td>\n",
       "      <td>5400000.0</td>\n",
       "      <td>61.00</td>\n",
       "      <td>2017-02-26T00:00:00</td>\n",
       "      <td>3</td>\n",
       "      <td>2.50</td>\n",
       "      <td>9.0</td>\n",
       "      <td>43.60</td>\n",
       "      <td>7</td>\n",
       "      <td>NaN</td>\n",
       "      <td>False</td>\n",
       "      <td>False</td>\n",
       "      <td>6.50</td>\n",
       "      <td>2.0</td>\n",
       "      <td>Санкт-Петербург</td>\n",
       "      <td>50898.0</td>\n",
       "      <td>15008.0</td>\n",
       "      <td>0.0</td>\n",
       "      <td>NaN</td>\n",
       "      <td>0.0</td>\n",
       "      <td>NaN</td>\n",
       "      <td>289.0</td>\n",
       "    </tr>\n",
       "    <tr>\n",
       "      <th>10</th>\n",
       "      <td>5</td>\n",
       "      <td>5050000.0</td>\n",
       "      <td>39.60</td>\n",
       "      <td>2017-11-16T00:00:00</td>\n",
       "      <td>1</td>\n",
       "      <td>2.67</td>\n",
       "      <td>12.0</td>\n",
       "      <td>20.30</td>\n",
       "      <td>3</td>\n",
       "      <td>NaN</td>\n",
       "      <td>False</td>\n",
       "      <td>False</td>\n",
       "      <td>8.50</td>\n",
       "      <td>NaN</td>\n",
       "      <td>Санкт-Петербург</td>\n",
       "      <td>38357.0</td>\n",
       "      <td>13878.0</td>\n",
       "      <td>1.0</td>\n",
       "      <td>310.0</td>\n",
       "      <td>2.0</td>\n",
       "      <td>553.0</td>\n",
       "      <td>137.0</td>\n",
       "    </tr>\n",
       "    <tr>\n",
       "      <th>11</th>\n",
       "      <td>9</td>\n",
       "      <td>3300000.0</td>\n",
       "      <td>44.00</td>\n",
       "      <td>2018-08-27T00:00:00</td>\n",
       "      <td>2</td>\n",
       "      <td>NaN</td>\n",
       "      <td>5.0</td>\n",
       "      <td>31.00</td>\n",
       "      <td>4</td>\n",
       "      <td>False</td>\n",
       "      <td>False</td>\n",
       "      <td>False</td>\n",
       "      <td>6.00</td>\n",
       "      <td>1.0</td>\n",
       "      <td>Ломоносов</td>\n",
       "      <td>48252.0</td>\n",
       "      <td>51677.0</td>\n",
       "      <td>0.0</td>\n",
       "      <td>NaN</td>\n",
       "      <td>0.0</td>\n",
       "      <td>NaN</td>\n",
       "      <td>7.0</td>\n",
       "    </tr>\n",
       "    <tr>\n",
       "      <th>12</th>\n",
       "      <td>10</td>\n",
       "      <td>3890000.0</td>\n",
       "      <td>54.00</td>\n",
       "      <td>2016-06-30T00:00:00</td>\n",
       "      <td>2</td>\n",
       "      <td>NaN</td>\n",
       "      <td>5.0</td>\n",
       "      <td>30.00</td>\n",
       "      <td>5</td>\n",
       "      <td>NaN</td>\n",
       "      <td>False</td>\n",
       "      <td>False</td>\n",
       "      <td>9.00</td>\n",
       "      <td>0.0</td>\n",
       "      <td>Сертолово</td>\n",
       "      <td>NaN</td>\n",
       "      <td>NaN</td>\n",
       "      <td>NaN</td>\n",
       "      <td>NaN</td>\n",
       "      <td>NaN</td>\n",
       "      <td>NaN</td>\n",
       "      <td>90.0</td>\n",
       "    </tr>\n",
       "    <tr>\n",
       "      <th>13</th>\n",
       "      <td>20</td>\n",
       "      <td>3550000.0</td>\n",
       "      <td>42.80</td>\n",
       "      <td>2017-07-01T00:00:00</td>\n",
       "      <td>2</td>\n",
       "      <td>2.56</td>\n",
       "      <td>5.0</td>\n",
       "      <td>27.00</td>\n",
       "      <td>5</td>\n",
       "      <td>NaN</td>\n",
       "      <td>False</td>\n",
       "      <td>False</td>\n",
       "      <td>5.20</td>\n",
       "      <td>1.0</td>\n",
       "      <td>Петергоф</td>\n",
       "      <td>37868.0</td>\n",
       "      <td>33058.0</td>\n",
       "      <td>1.0</td>\n",
       "      <td>294.0</td>\n",
       "      <td>3.0</td>\n",
       "      <td>298.0</td>\n",
       "      <td>366.0</td>\n",
       "    </tr>\n",
       "    <tr>\n",
       "      <th>14</th>\n",
       "      <td>1</td>\n",
       "      <td>4400000.0</td>\n",
       "      <td>36.00</td>\n",
       "      <td>2016-06-23T00:00:00</td>\n",
       "      <td>1</td>\n",
       "      <td>NaN</td>\n",
       "      <td>6.0</td>\n",
       "      <td>17.00</td>\n",
       "      <td>1</td>\n",
       "      <td>NaN</td>\n",
       "      <td>False</td>\n",
       "      <td>False</td>\n",
       "      <td>8.00</td>\n",
       "      <td>0.0</td>\n",
       "      <td>Пушкин</td>\n",
       "      <td>20782.0</td>\n",
       "      <td>30759.0</td>\n",
       "      <td>0.0</td>\n",
       "      <td>NaN</td>\n",
       "      <td>1.0</td>\n",
       "      <td>96.0</td>\n",
       "      <td>203.0</td>\n",
       "    </tr>\n",
       "    <tr>\n",
       "      <th>15</th>\n",
       "      <td>16</td>\n",
       "      <td>4650000.0</td>\n",
       "      <td>39.00</td>\n",
       "      <td>2017-11-18T00:00:00</td>\n",
       "      <td>1</td>\n",
       "      <td>NaN</td>\n",
       "      <td>14.0</td>\n",
       "      <td>20.50</td>\n",
       "      <td>5</td>\n",
       "      <td>NaN</td>\n",
       "      <td>False</td>\n",
       "      <td>False</td>\n",
       "      <td>7.60</td>\n",
       "      <td>1.0</td>\n",
       "      <td>Санкт-Петербург</td>\n",
       "      <td>12900.0</td>\n",
       "      <td>14259.0</td>\n",
       "      <td>1.0</td>\n",
       "      <td>590.0</td>\n",
       "      <td>1.0</td>\n",
       "      <td>296.0</td>\n",
       "      <td>19.0</td>\n",
       "    </tr>\n",
       "    <tr>\n",
       "      <th>16</th>\n",
       "      <td>11</td>\n",
       "      <td>6700000.0</td>\n",
       "      <td>82.00</td>\n",
       "      <td>2017-11-23T00:00:00</td>\n",
       "      <td>3</td>\n",
       "      <td>3.05</td>\n",
       "      <td>5.0</td>\n",
       "      <td>55.60</td>\n",
       "      <td>1</td>\n",
       "      <td>NaN</td>\n",
       "      <td>False</td>\n",
       "      <td>False</td>\n",
       "      <td>9.00</td>\n",
       "      <td>NaN</td>\n",
       "      <td>Санкт-Петербург</td>\n",
       "      <td>22108.0</td>\n",
       "      <td>10698.0</td>\n",
       "      <td>3.0</td>\n",
       "      <td>420.0</td>\n",
       "      <td>0.0</td>\n",
       "      <td>NaN</td>\n",
       "      <td>397.0</td>\n",
       "    </tr>\n",
       "    <tr>\n",
       "      <th>17</th>\n",
       "      <td>6</td>\n",
       "      <td>4180000.0</td>\n",
       "      <td>36.00</td>\n",
       "      <td>2016-09-09T00:00:00</td>\n",
       "      <td>1</td>\n",
       "      <td>NaN</td>\n",
       "      <td>17.0</td>\n",
       "      <td>16.50</td>\n",
       "      <td>7</td>\n",
       "      <td>NaN</td>\n",
       "      <td>False</td>\n",
       "      <td>False</td>\n",
       "      <td>11.00</td>\n",
       "      <td>1.0</td>\n",
       "      <td>Санкт-Петербург</td>\n",
       "      <td>33564.0</td>\n",
       "      <td>14616.0</td>\n",
       "      <td>0.0</td>\n",
       "      <td>NaN</td>\n",
       "      <td>1.0</td>\n",
       "      <td>859.0</td>\n",
       "      <td>571.0</td>\n",
       "    </tr>\n",
       "    <tr>\n",
       "      <th>18</th>\n",
       "      <td>8</td>\n",
       "      <td>3250000.0</td>\n",
       "      <td>31.00</td>\n",
       "      <td>2017-01-27T00:00:00</td>\n",
       "      <td>1</td>\n",
       "      <td>2.50</td>\n",
       "      <td>5.0</td>\n",
       "      <td>19.40</td>\n",
       "      <td>2</td>\n",
       "      <td>NaN</td>\n",
       "      <td>False</td>\n",
       "      <td>False</td>\n",
       "      <td>5.60</td>\n",
       "      <td>1.0</td>\n",
       "      <td>Санкт-Петербург</td>\n",
       "      <td>44060.0</td>\n",
       "      <td>10842.0</td>\n",
       "      <td>1.0</td>\n",
       "      <td>759.0</td>\n",
       "      <td>0.0</td>\n",
       "      <td>NaN</td>\n",
       "      <td>168.0</td>\n",
       "    </tr>\n",
       "    <tr>\n",
       "      <th>19</th>\n",
       "      <td>16</td>\n",
       "      <td>14200000.0</td>\n",
       "      <td>121.00</td>\n",
       "      <td>2019-01-09T00:00:00</td>\n",
       "      <td>3</td>\n",
       "      <td>2.75</td>\n",
       "      <td>16.0</td>\n",
       "      <td>76.00</td>\n",
       "      <td>8</td>\n",
       "      <td>NaN</td>\n",
       "      <td>False</td>\n",
       "      <td>False</td>\n",
       "      <td>12.00</td>\n",
       "      <td>NaN</td>\n",
       "      <td>Санкт-Петербург</td>\n",
       "      <td>38900.0</td>\n",
       "      <td>12843.0</td>\n",
       "      <td>0.0</td>\n",
       "      <td>NaN</td>\n",
       "      <td>0.0</td>\n",
       "      <td>NaN</td>\n",
       "      <td>97.0</td>\n",
       "    </tr>\n",
       "  </tbody>\n",
       "</table>\n",
       "</div>"
      ],
      "text/plain": [
       "    total_images  last_price  total_area first_day_exposition  rooms  \\\n",
       "0             20  13000000.0      108.00  2019-03-07T00:00:00      3   \n",
       "1              7   3350000.0       40.40  2018-12-04T00:00:00      1   \n",
       "2             10   5196000.0       56.00  2015-08-20T00:00:00      2   \n",
       "3              0  64900000.0      159.00  2015-07-24T00:00:00      3   \n",
       "4              2  10000000.0      100.00  2018-06-19T00:00:00      2   \n",
       "5             10   2890000.0       30.40  2018-09-10T00:00:00      1   \n",
       "6              6   3700000.0       37.30  2017-11-02T00:00:00      1   \n",
       "7              5   7915000.0       71.60  2019-04-18T00:00:00      2   \n",
       "8             20   2900000.0       33.16  2018-05-23T00:00:00      1   \n",
       "9             18   5400000.0       61.00  2017-02-26T00:00:00      3   \n",
       "10             5   5050000.0       39.60  2017-11-16T00:00:00      1   \n",
       "11             9   3300000.0       44.00  2018-08-27T00:00:00      2   \n",
       "12            10   3890000.0       54.00  2016-06-30T00:00:00      2   \n",
       "13            20   3550000.0       42.80  2017-07-01T00:00:00      2   \n",
       "14             1   4400000.0       36.00  2016-06-23T00:00:00      1   \n",
       "15            16   4650000.0       39.00  2017-11-18T00:00:00      1   \n",
       "16            11   6700000.0       82.00  2017-11-23T00:00:00      3   \n",
       "17             6   4180000.0       36.00  2016-09-09T00:00:00      1   \n",
       "18             8   3250000.0       31.00  2017-01-27T00:00:00      1   \n",
       "19            16  14200000.0      121.00  2019-01-09T00:00:00      3   \n",
       "\n",
       "    ceiling_height  floors_total  living_area  floor is_apartment  studio  \\\n",
       "0             2.70          16.0        51.00      8          NaN   False   \n",
       "1              NaN          11.0        18.60      1          NaN   False   \n",
       "2              NaN           5.0        34.30      4          NaN   False   \n",
       "3              NaN          14.0          NaN      9          NaN   False   \n",
       "4             3.03          14.0        32.00     13          NaN   False   \n",
       "5              NaN          12.0        14.40      5          NaN   False   \n",
       "6              NaN          26.0        10.60      6          NaN   False   \n",
       "7              NaN          24.0          NaN     22          NaN   False   \n",
       "8              NaN          27.0        15.43     26          NaN   False   \n",
       "9             2.50           9.0        43.60      7          NaN   False   \n",
       "10            2.67          12.0        20.30      3          NaN   False   \n",
       "11             NaN           5.0        31.00      4        False   False   \n",
       "12             NaN           5.0        30.00      5          NaN   False   \n",
       "13            2.56           5.0        27.00      5          NaN   False   \n",
       "14             NaN           6.0        17.00      1          NaN   False   \n",
       "15             NaN          14.0        20.50      5          NaN   False   \n",
       "16            3.05           5.0        55.60      1          NaN   False   \n",
       "17             NaN          17.0        16.50      7          NaN   False   \n",
       "18            2.50           5.0        19.40      2          NaN   False   \n",
       "19            2.75          16.0        76.00      8          NaN   False   \n",
       "\n",
       "    open_plan  kitchen_area  balcony              locality_name  \\\n",
       "0       False         25.00      NaN            Санкт-Петербург   \n",
       "1       False         11.00      2.0             посёлок Шушары   \n",
       "2       False          8.30      0.0            Санкт-Петербург   \n",
       "3       False           NaN      0.0            Санкт-Петербург   \n",
       "4       False         41.00      NaN            Санкт-Петербург   \n",
       "5       False          9.10      NaN  городской посёлок Янино-1   \n",
       "6       False         14.40      1.0          посёлок Парголово   \n",
       "7       False         18.90      2.0            Санкт-Петербург   \n",
       "8       False          8.81      NaN             посёлок Мурино   \n",
       "9       False          6.50      2.0            Санкт-Петербург   \n",
       "10      False          8.50      NaN            Санкт-Петербург   \n",
       "11      False          6.00      1.0                  Ломоносов   \n",
       "12      False          9.00      0.0                  Сертолово   \n",
       "13      False          5.20      1.0                   Петергоф   \n",
       "14      False          8.00      0.0                     Пушкин   \n",
       "15      False          7.60      1.0            Санкт-Петербург   \n",
       "16      False          9.00      NaN            Санкт-Петербург   \n",
       "17      False         11.00      1.0            Санкт-Петербург   \n",
       "18      False          5.60      1.0            Санкт-Петербург   \n",
       "19      False         12.00      NaN            Санкт-Петербург   \n",
       "\n",
       "    airports_nearest  cityCenters_nearest  parks_around3000  parks_nearest  \\\n",
       "0            18863.0              16028.0               1.0          482.0   \n",
       "1            12817.0              18603.0               0.0            NaN   \n",
       "2            21741.0              13933.0               1.0           90.0   \n",
       "3            28098.0               6800.0               2.0           84.0   \n",
       "4            31856.0               8098.0               2.0          112.0   \n",
       "5                NaN                  NaN               NaN            NaN   \n",
       "6            52996.0              19143.0               0.0            NaN   \n",
       "7            23982.0              11634.0               0.0            NaN   \n",
       "8                NaN                  NaN               NaN            NaN   \n",
       "9            50898.0              15008.0               0.0            NaN   \n",
       "10           38357.0              13878.0               1.0          310.0   \n",
       "11           48252.0              51677.0               0.0            NaN   \n",
       "12               NaN                  NaN               NaN            NaN   \n",
       "13           37868.0              33058.0               1.0          294.0   \n",
       "14           20782.0              30759.0               0.0            NaN   \n",
       "15           12900.0              14259.0               1.0          590.0   \n",
       "16           22108.0              10698.0               3.0          420.0   \n",
       "17           33564.0              14616.0               0.0            NaN   \n",
       "18           44060.0              10842.0               1.0          759.0   \n",
       "19           38900.0              12843.0               0.0            NaN   \n",
       "\n",
       "    ponds_around3000  ponds_nearest  days_exposition  \n",
       "0                2.0          755.0              NaN  \n",
       "1                0.0            NaN             81.0  \n",
       "2                2.0          574.0            558.0  \n",
       "3                3.0          234.0            424.0  \n",
       "4                1.0           48.0            121.0  \n",
       "5                NaN            NaN             55.0  \n",
       "6                0.0            NaN            155.0  \n",
       "7                0.0            NaN              NaN  \n",
       "8                NaN            NaN            189.0  \n",
       "9                0.0            NaN            289.0  \n",
       "10               2.0          553.0            137.0  \n",
       "11               0.0            NaN              7.0  \n",
       "12               NaN            NaN             90.0  \n",
       "13               3.0          298.0            366.0  \n",
       "14               1.0           96.0            203.0  \n",
       "15               1.0          296.0             19.0  \n",
       "16               0.0            NaN            397.0  \n",
       "17               1.0          859.0            571.0  \n",
       "18               0.0            NaN            168.0  \n",
       "19               0.0            NaN             97.0  "
      ]
     },
     "execution_count": 3,
     "metadata": {},
     "output_type": "execute_result"
    }
   ],
   "source": [
    "# просмотр первых 20 строк данных\n",
    "pd.set_option('display.max_columns', None)\n",
    "data.head(20)"
   ]
  },
  {
   "cell_type": "code",
   "execution_count": 4,
   "metadata": {},
   "outputs": [
    {
     "data": {
      "text/plain": [
       "23699"
      ]
     },
     "execution_count": 4,
     "metadata": {},
     "output_type": "execute_result"
    }
   ],
   "source": [
    "# сохраним изначальное количество строк\n",
    "shape = data.shape[0]\n",
    "shape"
   ]
  },
  {
   "cell_type": "code",
   "execution_count": 5,
   "metadata": {},
   "outputs": [
    {
     "name": "stdout",
     "output_type": "stream",
     "text": [
      "<class 'pandas.core.frame.DataFrame'>\n",
      "RangeIndex: 23699 entries, 0 to 23698\n",
      "Data columns (total 22 columns):\n",
      " #   Column                Non-Null Count  Dtype  \n",
      "---  ------                --------------  -----  \n",
      " 0   total_images          23699 non-null  int64  \n",
      " 1   last_price            23699 non-null  float64\n",
      " 2   total_area            23699 non-null  float64\n",
      " 3   first_day_exposition  23699 non-null  object \n",
      " 4   rooms                 23699 non-null  int64  \n",
      " 5   ceiling_height        14504 non-null  float64\n",
      " 6   floors_total          23613 non-null  float64\n",
      " 7   living_area           21796 non-null  float64\n",
      " 8   floor                 23699 non-null  int64  \n",
      " 9   is_apartment          2775 non-null   object \n",
      " 10  studio                23699 non-null  bool   \n",
      " 11  open_plan             23699 non-null  bool   \n",
      " 12  kitchen_area          21421 non-null  float64\n",
      " 13  balcony               12180 non-null  float64\n",
      " 14  locality_name         23650 non-null  object \n",
      " 15  airports_nearest      18157 non-null  float64\n",
      " 16  cityCenters_nearest   18180 non-null  float64\n",
      " 17  parks_around3000      18181 non-null  float64\n",
      " 18  parks_nearest         8079 non-null   float64\n",
      " 19  ponds_around3000      18181 non-null  float64\n",
      " 20  ponds_nearest         9110 non-null   float64\n",
      " 21  days_exposition       20518 non-null  float64\n",
      "dtypes: bool(2), float64(14), int64(3), object(3)\n",
      "memory usage: 3.7+ MB\n"
     ]
    }
   ],
   "source": [
    "# просмотр основной информации \n",
    "data.info()"
   ]
  },
  {
   "cell_type": "markdown",
   "metadata": {},
   "source": [
    "Предварительные выводы: в таблице 23699 строк, 22 столбца, есть много пропусков, некоторые столбцы (напр., количество балконов, количество этажей, и т.п.) целесообразно перевести в целочисленный формат. "
   ]
  },
  {
   "cell_type": "code",
   "execution_count": 6,
   "metadata": {},
   "outputs": [
    {
     "data": {
      "text/html": [
       "<div>\n",
       "<style scoped>\n",
       "    .dataframe tbody tr th:only-of-type {\n",
       "        vertical-align: middle;\n",
       "    }\n",
       "\n",
       "    .dataframe tbody tr th {\n",
       "        vertical-align: top;\n",
       "    }\n",
       "\n",
       "    .dataframe thead th {\n",
       "        text-align: right;\n",
       "    }\n",
       "</style>\n",
       "<table border=\"1\" class=\"dataframe\">\n",
       "  <thead>\n",
       "    <tr style=\"text-align: right;\">\n",
       "      <th></th>\n",
       "      <th>total_images</th>\n",
       "      <th>last_price</th>\n",
       "      <th>total_area</th>\n",
       "      <th>rooms</th>\n",
       "      <th>ceiling_height</th>\n",
       "      <th>floors_total</th>\n",
       "      <th>living_area</th>\n",
       "      <th>floor</th>\n",
       "      <th>kitchen_area</th>\n",
       "      <th>balcony</th>\n",
       "      <th>airports_nearest</th>\n",
       "      <th>cityCenters_nearest</th>\n",
       "      <th>parks_around3000</th>\n",
       "      <th>parks_nearest</th>\n",
       "      <th>ponds_around3000</th>\n",
       "      <th>ponds_nearest</th>\n",
       "      <th>days_exposition</th>\n",
       "    </tr>\n",
       "  </thead>\n",
       "  <tbody>\n",
       "    <tr>\n",
       "      <th>count</th>\n",
       "      <td>23699.000000</td>\n",
       "      <td>2.369900e+04</td>\n",
       "      <td>23699.000000</td>\n",
       "      <td>23699.000000</td>\n",
       "      <td>14504.000000</td>\n",
       "      <td>23613.000000</td>\n",
       "      <td>21796.000000</td>\n",
       "      <td>23699.000000</td>\n",
       "      <td>21421.000000</td>\n",
       "      <td>12180.000000</td>\n",
       "      <td>18157.000000</td>\n",
       "      <td>18180.000000</td>\n",
       "      <td>18181.000000</td>\n",
       "      <td>8079.000000</td>\n",
       "      <td>18181.000000</td>\n",
       "      <td>9110.000000</td>\n",
       "      <td>20518.000000</td>\n",
       "    </tr>\n",
       "    <tr>\n",
       "      <th>mean</th>\n",
       "      <td>9.858475</td>\n",
       "      <td>6.541549e+06</td>\n",
       "      <td>60.348651</td>\n",
       "      <td>2.070636</td>\n",
       "      <td>2.771499</td>\n",
       "      <td>10.673824</td>\n",
       "      <td>34.457852</td>\n",
       "      <td>5.892358</td>\n",
       "      <td>10.569807</td>\n",
       "      <td>1.150082</td>\n",
       "      <td>28793.672193</td>\n",
       "      <td>14191.277833</td>\n",
       "      <td>0.611408</td>\n",
       "      <td>490.804555</td>\n",
       "      <td>0.770255</td>\n",
       "      <td>517.980900</td>\n",
       "      <td>180.888634</td>\n",
       "    </tr>\n",
       "    <tr>\n",
       "      <th>std</th>\n",
       "      <td>5.682529</td>\n",
       "      <td>1.088701e+07</td>\n",
       "      <td>35.654083</td>\n",
       "      <td>1.078405</td>\n",
       "      <td>1.261056</td>\n",
       "      <td>6.597173</td>\n",
       "      <td>22.030445</td>\n",
       "      <td>4.885249</td>\n",
       "      <td>5.905438</td>\n",
       "      <td>1.071300</td>\n",
       "      <td>12630.880622</td>\n",
       "      <td>8608.386210</td>\n",
       "      <td>0.802074</td>\n",
       "      <td>342.317995</td>\n",
       "      <td>0.938346</td>\n",
       "      <td>277.720643</td>\n",
       "      <td>219.727988</td>\n",
       "    </tr>\n",
       "    <tr>\n",
       "      <th>min</th>\n",
       "      <td>0.000000</td>\n",
       "      <td>1.219000e+04</td>\n",
       "      <td>12.000000</td>\n",
       "      <td>0.000000</td>\n",
       "      <td>1.000000</td>\n",
       "      <td>1.000000</td>\n",
       "      <td>2.000000</td>\n",
       "      <td>1.000000</td>\n",
       "      <td>1.300000</td>\n",
       "      <td>0.000000</td>\n",
       "      <td>0.000000</td>\n",
       "      <td>181.000000</td>\n",
       "      <td>0.000000</td>\n",
       "      <td>1.000000</td>\n",
       "      <td>0.000000</td>\n",
       "      <td>13.000000</td>\n",
       "      <td>1.000000</td>\n",
       "    </tr>\n",
       "    <tr>\n",
       "      <th>25%</th>\n",
       "      <td>6.000000</td>\n",
       "      <td>3.400000e+06</td>\n",
       "      <td>40.000000</td>\n",
       "      <td>1.000000</td>\n",
       "      <td>2.520000</td>\n",
       "      <td>5.000000</td>\n",
       "      <td>18.600000</td>\n",
       "      <td>2.000000</td>\n",
       "      <td>7.000000</td>\n",
       "      <td>0.000000</td>\n",
       "      <td>18585.000000</td>\n",
       "      <td>9238.000000</td>\n",
       "      <td>0.000000</td>\n",
       "      <td>288.000000</td>\n",
       "      <td>0.000000</td>\n",
       "      <td>294.000000</td>\n",
       "      <td>45.000000</td>\n",
       "    </tr>\n",
       "    <tr>\n",
       "      <th>50%</th>\n",
       "      <td>9.000000</td>\n",
       "      <td>4.650000e+06</td>\n",
       "      <td>52.000000</td>\n",
       "      <td>2.000000</td>\n",
       "      <td>2.650000</td>\n",
       "      <td>9.000000</td>\n",
       "      <td>30.000000</td>\n",
       "      <td>4.000000</td>\n",
       "      <td>9.100000</td>\n",
       "      <td>1.000000</td>\n",
       "      <td>26726.000000</td>\n",
       "      <td>13098.500000</td>\n",
       "      <td>0.000000</td>\n",
       "      <td>455.000000</td>\n",
       "      <td>1.000000</td>\n",
       "      <td>502.000000</td>\n",
       "      <td>95.000000</td>\n",
       "    </tr>\n",
       "    <tr>\n",
       "      <th>75%</th>\n",
       "      <td>14.000000</td>\n",
       "      <td>6.800000e+06</td>\n",
       "      <td>69.900000</td>\n",
       "      <td>3.000000</td>\n",
       "      <td>2.800000</td>\n",
       "      <td>16.000000</td>\n",
       "      <td>42.300000</td>\n",
       "      <td>8.000000</td>\n",
       "      <td>12.000000</td>\n",
       "      <td>2.000000</td>\n",
       "      <td>37273.000000</td>\n",
       "      <td>16293.000000</td>\n",
       "      <td>1.000000</td>\n",
       "      <td>612.000000</td>\n",
       "      <td>1.000000</td>\n",
       "      <td>729.000000</td>\n",
       "      <td>232.000000</td>\n",
       "    </tr>\n",
       "    <tr>\n",
       "      <th>max</th>\n",
       "      <td>50.000000</td>\n",
       "      <td>7.630000e+08</td>\n",
       "      <td>900.000000</td>\n",
       "      <td>19.000000</td>\n",
       "      <td>100.000000</td>\n",
       "      <td>60.000000</td>\n",
       "      <td>409.700000</td>\n",
       "      <td>33.000000</td>\n",
       "      <td>112.000000</td>\n",
       "      <td>5.000000</td>\n",
       "      <td>84869.000000</td>\n",
       "      <td>65968.000000</td>\n",
       "      <td>3.000000</td>\n",
       "      <td>3190.000000</td>\n",
       "      <td>3.000000</td>\n",
       "      <td>1344.000000</td>\n",
       "      <td>1580.000000</td>\n",
       "    </tr>\n",
       "  </tbody>\n",
       "</table>\n",
       "</div>"
      ],
      "text/plain": [
       "       total_images    last_price    total_area         rooms  ceiling_height  \\\n",
       "count  23699.000000  2.369900e+04  23699.000000  23699.000000    14504.000000   \n",
       "mean       9.858475  6.541549e+06     60.348651      2.070636        2.771499   \n",
       "std        5.682529  1.088701e+07     35.654083      1.078405        1.261056   \n",
       "min        0.000000  1.219000e+04     12.000000      0.000000        1.000000   \n",
       "25%        6.000000  3.400000e+06     40.000000      1.000000        2.520000   \n",
       "50%        9.000000  4.650000e+06     52.000000      2.000000        2.650000   \n",
       "75%       14.000000  6.800000e+06     69.900000      3.000000        2.800000   \n",
       "max       50.000000  7.630000e+08    900.000000     19.000000      100.000000   \n",
       "\n",
       "       floors_total   living_area         floor  kitchen_area       balcony  \\\n",
       "count  23613.000000  21796.000000  23699.000000  21421.000000  12180.000000   \n",
       "mean      10.673824     34.457852      5.892358     10.569807      1.150082   \n",
       "std        6.597173     22.030445      4.885249      5.905438      1.071300   \n",
       "min        1.000000      2.000000      1.000000      1.300000      0.000000   \n",
       "25%        5.000000     18.600000      2.000000      7.000000      0.000000   \n",
       "50%        9.000000     30.000000      4.000000      9.100000      1.000000   \n",
       "75%       16.000000     42.300000      8.000000     12.000000      2.000000   \n",
       "max       60.000000    409.700000     33.000000    112.000000      5.000000   \n",
       "\n",
       "       airports_nearest  cityCenters_nearest  parks_around3000  parks_nearest  \\\n",
       "count      18157.000000         18180.000000      18181.000000    8079.000000   \n",
       "mean       28793.672193         14191.277833          0.611408     490.804555   \n",
       "std        12630.880622          8608.386210          0.802074     342.317995   \n",
       "min            0.000000           181.000000          0.000000       1.000000   \n",
       "25%        18585.000000          9238.000000          0.000000     288.000000   \n",
       "50%        26726.000000         13098.500000          0.000000     455.000000   \n",
       "75%        37273.000000         16293.000000          1.000000     612.000000   \n",
       "max        84869.000000         65968.000000          3.000000    3190.000000   \n",
       "\n",
       "       ponds_around3000  ponds_nearest  days_exposition  \n",
       "count      18181.000000    9110.000000     20518.000000  \n",
       "mean           0.770255     517.980900       180.888634  \n",
       "std            0.938346     277.720643       219.727988  \n",
       "min            0.000000      13.000000         1.000000  \n",
       "25%            0.000000     294.000000        45.000000  \n",
       "50%            1.000000     502.000000        95.000000  \n",
       "75%            1.000000     729.000000       232.000000  \n",
       "max            3.000000    1344.000000      1580.000000  "
      ]
     },
     "execution_count": 6,
     "metadata": {},
     "output_type": "execute_result"
    }
   ],
   "source": [
    "# общая информация о количественных данных в таблице \n",
    "data.describe()"
   ]
  },
  {
   "cell_type": "markdown",
   "metadata": {},
   "source": [
    "**Вывод:** Разброс данных большой, заметны артефакты. Например, максимальная высота потолков (100 м) или количество комнат (19).  Площади квартир находятся в диапазон от 12 (комнаты в общежитиях?) до 900 кв. м. Разброс цен огромный: от 12190 до 763 млн."
   ]
  },
  {
   "cell_type": "code",
   "execution_count": 7,
   "metadata": {},
   "outputs": [
    {
     "data": {
      "image/png": "[encoded data removed]",
      "text/plain": [
       "<Figure size 1080x1440 with 20 Axes>"
      ]
     },
     "metadata": {
      "needs_background": "light"
     },
     "output_type": "display_data"
    }
   ],
   "source": [
    "# постром гистограммы по \"сырым\" данным\n",
    "data.hist(figsize=(15, 20));"
   ]
  },
  {
   "cell_type": "markdown",
   "metadata": {},
   "source": [
    "### Предобработка данных"
   ]
  },
  {
   "cell_type": "code",
   "execution_count": 8,
   "metadata": {},
   "outputs": [
    {
     "data": {
      "text/plain": [
       "Index(['total_images', 'last_price', 'total_area', 'first_day_exposition',\n",
       "       'rooms', 'ceiling_height', 'floors_total', 'living_area', 'floor',\n",
       "       'is_apartment', 'is_studio', 'is_open_plan', 'kitchen_area', 'balcony',\n",
       "       'locality_name', 'airports_nearest', 'city_centers_nearest',\n",
       "       'parks_around_3000', 'parks_nearest', 'ponds_around_3000',\n",
       "       'ponds_nearest', 'days_exposition'],\n",
       "      dtype='object')"
      ]
     },
     "execution_count": 8,
     "metadata": {},
     "output_type": "execute_result"
    }
   ],
   "source": [
    "# переименуем столбцы со стилистическими нарушениями \n",
    "data = data.rename(columns={'cityCenters_nearest': 'city_centers_nearest', \n",
    "                            'studio': 'is_studio', \n",
    "                            'open_plan': 'is_open_plan',\n",
    "                            'parks_around3000': 'parks_around_3000',\n",
    "                            'ponds_around3000': 'ponds_around_3000'\n",
    "                           })\n",
    "\n",
    "# выведем итоговые названия столбцов\n",
    "data.columns"
   ]
  },
  {
   "cell_type": "markdown",
   "metadata": {},
   "source": [
    "#### Пропуски, типы данных, артефакты"
   ]
  },
  {
   "cell_type": "markdown",
   "metadata": {},
   "source": [
    "**Общее количество пропусков**"
   ]
  },
  {
   "cell_type": "code",
   "execution_count": 9,
   "metadata": {},
   "outputs": [
    {
     "data": {
      "text/plain": [
       "total_images                0\n",
       "last_price                  0\n",
       "total_area                  0\n",
       "first_day_exposition        0\n",
       "rooms                       0\n",
       "ceiling_height           9195\n",
       "floors_total               86\n",
       "living_area              1903\n",
       "floor                       0\n",
       "is_apartment            20924\n",
       "is_studio                   0\n",
       "is_open_plan                0\n",
       "kitchen_area             2278\n",
       "balcony                 11519\n",
       "locality_name              49\n",
       "airports_nearest         5542\n",
       "city_centers_nearest     5519\n",
       "parks_around_3000        5518\n",
       "parks_nearest           15620\n",
       "ponds_around_3000        5518\n",
       "ponds_nearest           14589\n",
       "days_exposition          3181\n",
       "dtype: int64"
      ]
     },
     "execution_count": 9,
     "metadata": {},
     "output_type": "execute_result"
    }
   ],
   "source": [
    "# подсчет количества пропущенных значений в каждой категории данных\n",
    "data.isna().sum()"
   ]
  },
  {
   "cell_type": "markdown",
   "metadata": {},
   "source": [
    "Пропусков очень много. В графе с балконами это, скорее всего, означает отсутствие балкона, можно смело заполнить нулями. \n",
    "во многих графах пропуски могли появиться по причине того, что продавец просто не заполнил их из-за незнания этих параметров.\n",
    "В графах с количеством парков и водоемов в радиусе 3000м (parks_around_3000 и ponds_around_3000 соответственно) пропуски вероятно означают отсутствие парков/водоемов вблизи объекта, а также влекут пропуски в графах с расстоянием до этих \"улучшений\".\n",
    "(?)"
   ]
  },
  {
   "cell_type": "markdown",
   "metadata": {},
   "source": [
    "**balcony, is_apartment**  \n",
    "Сразу можно заполнить пропуски в графах \"balcony\" и \"is_apartment\". В первом случае пропуск почти 100% означает отсутсвие балкона, т.к. его наличие является преимуществом при продаже квартиры и продавец заполнил бы эти данные. В случае с типом объекта (апартаменты/нет) продавец тоже сразу заполнил бы графу."
   ]
  },
  {
   "cell_type": "code",
   "execution_count": 10,
   "metadata": {},
   "outputs": [],
   "source": [
    "# заполняем пропуски в графах balcony, is_apartment\n",
    "data['balcony'] = data['balcony'].fillna(0)\n",
    "data['is_apartment'] = data['is_apartment'].fillna(False)\n",
    "data['balcony'] = data['balcony'].astype('int')\n",
    "data['is_apartment'] = data['is_apartment'].astype('bool')"
   ]
  },
  {
   "cell_type": "code",
   "execution_count": 11,
   "metadata": {},
   "outputs": [
    {
     "data": {
      "text/plain": [
       "0    15277\n",
       "1     4195\n",
       "2     3659\n",
       "5      304\n",
       "4      183\n",
       "3       81\n",
       "Name: balcony, dtype: int64"
      ]
     },
     "execution_count": 11,
     "metadata": {},
     "output_type": "execute_result"
    }
   ],
   "source": [
    "data['balcony'].value_counts()"
   ]
  },
  {
   "cell_type": "markdown",
   "metadata": {},
   "source": [
    "В принципе все нормально. Аномальных значений нет."
   ]
  },
  {
   "cell_type": "markdown",
   "metadata": {},
   "source": [
    "**ceiling_height**  \n",
    "В графе \"высота потолков\" пропуски логично заполнить медианным значением, т.к. в случае каких-то преимуществ (например, потолки выше среднего) продавец не пропустил бы эти графы."
   ]
  },
  {
   "cell_type": "code",
   "execution_count": 12,
   "metadata": {},
   "outputs": [
    {
     "data": {
      "text/plain": [
       "count    14504.000000\n",
       "mean         2.771499\n",
       "std          1.261056\n",
       "min          1.000000\n",
       "25%          2.520000\n",
       "50%          2.650000\n",
       "75%          2.800000\n",
       "max        100.000000\n",
       "Name: ceiling_height, dtype: float64"
      ]
     },
     "execution_count": 12,
     "metadata": {},
     "output_type": "execute_result"
    }
   ],
   "source": [
    "data['ceiling_height'].describe()"
   ]
  },
  {
   "cell_type": "markdown",
   "metadata": {},
   "source": [
    "Обзор данных: высота потолков колеблется от 1 до 100 м. Налицо явные артефакты. "
   ]
  },
  {
   "cell_type": "code",
   "execution_count": 13,
   "metadata": {},
   "outputs": [],
   "source": [
    "# заполянем пропуски медианным значением\n",
    "data['ceiling_height'] = data['ceiling_height'].fillna(data['ceiling_height'].median())"
   ]
  },
  {
   "cell_type": "markdown",
   "metadata": {},
   "source": [
    "Посмотрим на наличие артефактов, где, например, высота потолков больше 5 м или меньше 2 м."
   ]
  },
  {
   "cell_type": "code",
   "execution_count": 14,
   "metadata": {},
   "outputs": [
    {
     "data": {
      "text/plain": [
       "39"
      ]
     },
     "execution_count": 14,
     "metadata": {},
     "output_type": "execute_result"
    }
   ],
   "source": [
    "len(data[data['ceiling_height'] > 5]) + len(data[data['ceiling_height'] < 2])"
   ]
  },
  {
   "cell_type": "markdown",
   "metadata": {},
   "source": [
    "Итого 39 строк с аномальными значениями. Вероятно, потолки в 27 метров это фактически 2.7 м. Скорректируем, разделив на 10. В строках с аномально низкими значениями (меньше 2м), присвоим типовое значение высоты потолка - 2.5 м."
   ]
  },
  {
   "cell_type": "code",
   "execution_count": 15,
   "metadata": {},
   "outputs": [],
   "source": [
    "data['ceiling_height'] = data['ceiling_height'].where(data['ceiling_height'] < 5, data['ceiling_height']/10)\n",
    "data['ceiling_height'] = data['ceiling_height'].where(data['ceiling_height'] > 2, 2.5)"
   ]
  },
  {
   "cell_type": "markdown",
   "metadata": {},
   "source": [
    "**rooms**"
   ]
  },
  {
   "cell_type": "markdown",
   "metadata": {},
   "source": [
    "Посмотрим уникальные значения в столбце."
   ]
  },
  {
   "cell_type": "code",
   "execution_count": 16,
   "metadata": {},
   "outputs": [
    {
     "data": {
      "text/plain": [
       "array([ 3,  1,  2,  4,  5,  6,  0,  7, 11,  8, 14, 10, 15,  9, 19, 16, 12])"
      ]
     },
     "execution_count": 16,
     "metadata": {},
     "output_type": "execute_result"
    }
   ],
   "source": [
    "data['rooms'].unique()\n",
    "# data['rooms'].value_counts()"
   ]
  },
  {
   "cell_type": "markdown",
   "metadata": {},
   "source": [
    "Помимо подозрительного числа комнат в количестве 12, 19 и т.п.. Оставим пока так, возможно, это чьи-то дворцы. \n",
    "Есть объекты с нулевым количеством комнат. Вероятно, имелись ввиду однокомнатные квартиры-студии, где единое пространство разделено на зону кухни и жилую зону. Эти нули можно заменить на 1. "
   ]
  },
  {
   "cell_type": "code",
   "execution_count": 17,
   "metadata": {},
   "outputs": [],
   "source": [
    "data['rooms'] = data['rooms'].where(data['rooms'] != 0, 1)"
   ]
  },
  {
   "cell_type": "code",
   "execution_count": 18,
   "metadata": {},
   "outputs": [
    {
     "data": {
      "text/plain": [
       "array([ 3,  1,  2,  4,  5,  6,  7, 11,  8, 14, 10, 15,  9, 19, 16, 12])"
      ]
     },
     "execution_count": 18,
     "metadata": {},
     "output_type": "execute_result"
    }
   ],
   "source": [
    "# проверка\n",
    "data['rooms'].unique()"
   ]
  },
  {
   "cell_type": "markdown",
   "metadata": {},
   "source": [
    "**living_area, kitchen_area**  \n",
    "Пропуски в жилой площади и площади кухни заполним с помощью медианных коэффициентов долей этих площадей в общей площади. \n"
   ]
  },
  {
   "cell_type": "code",
   "execution_count": 19,
   "metadata": {},
   "outputs": [
    {
     "data": {
      "text/plain": [
       "count    21796.000000\n",
       "mean        34.457852\n",
       "std         22.030445\n",
       "min          2.000000\n",
       "25%         18.600000\n",
       "50%         30.000000\n",
       "75%         42.300000\n",
       "max        409.700000\n",
       "Name: living_area, dtype: float64"
      ]
     },
     "execution_count": 19,
     "metadata": {},
     "output_type": "execute_result"
    }
   ],
   "source": [
    "data['living_area'].describe()"
   ]
  },
  {
   "cell_type": "code",
   "execution_count": 20,
   "metadata": {},
   "outputs": [
    {
     "data": {
      "text/plain": [
       "count    21421.000000\n",
       "mean        10.569807\n",
       "std          5.905438\n",
       "min          1.300000\n",
       "25%          7.000000\n",
       "50%          9.100000\n",
       "75%         12.000000\n",
       "max        112.000000\n",
       "Name: kitchen_area, dtype: float64"
      ]
     },
     "execution_count": 20,
     "metadata": {},
     "output_type": "execute_result"
    }
   ],
   "source": [
    "data['kitchen_area'].describe()"
   ]
  },
  {
   "cell_type": "code",
   "execution_count": 21,
   "metadata": {},
   "outputs": [],
   "source": [
    "# расчет коэффициента долей жилой площади и площади кухни в общей площади\n",
    "living_area_ratio = data['living_area'].median() / data['total_area'].median()\n",
    "kitchen_area_ratio = data['kitchen_area'].median() / data['total_area'].median()\n",
    "\n",
    "# заполняем пропуски с учетом рассчитанных коэффициентов\n",
    "data['living_area'].fillna(living_area_ratio * data['total_area'], inplace=True)\n",
    "data['kitchen_area'].fillna(kitchen_area_ratio * data['total_area'], inplace=True)"
   ]
  },
  {
   "cell_type": "markdown",
   "metadata": {},
   "source": [
    "Посмотрим аномалии в столбцах с жилой площадью и площадью кухни."
   ]
  },
  {
   "cell_type": "code",
   "execution_count": 22,
   "metadata": {},
   "outputs": [
    {
     "data": {
      "text/html": [
       "<div>\n",
       "<style scoped>\n",
       "    .dataframe tbody tr th:only-of-type {\n",
       "        vertical-align: middle;\n",
       "    }\n",
       "\n",
       "    .dataframe tbody tr th {\n",
       "        vertical-align: top;\n",
       "    }\n",
       "\n",
       "    .dataframe thead th {\n",
       "        text-align: right;\n",
       "    }\n",
       "</style>\n",
       "<table border=\"1\" class=\"dataframe\">\n",
       "  <thead>\n",
       "    <tr style=\"text-align: right;\">\n",
       "      <th></th>\n",
       "      <th>total_images</th>\n",
       "      <th>last_price</th>\n",
       "      <th>total_area</th>\n",
       "      <th>first_day_exposition</th>\n",
       "      <th>rooms</th>\n",
       "      <th>ceiling_height</th>\n",
       "      <th>floors_total</th>\n",
       "      <th>living_area</th>\n",
       "      <th>floor</th>\n",
       "      <th>is_apartment</th>\n",
       "      <th>is_studio</th>\n",
       "      <th>is_open_plan</th>\n",
       "      <th>kitchen_area</th>\n",
       "      <th>balcony</th>\n",
       "      <th>locality_name</th>\n",
       "      <th>airports_nearest</th>\n",
       "      <th>city_centers_nearest</th>\n",
       "      <th>parks_around_3000</th>\n",
       "      <th>parks_nearest</th>\n",
       "      <th>ponds_around_3000</th>\n",
       "      <th>ponds_nearest</th>\n",
       "      <th>days_exposition</th>\n",
       "    </tr>\n",
       "  </thead>\n",
       "  <tbody>\n",
       "    <tr>\n",
       "      <th>35</th>\n",
       "      <td>6</td>\n",
       "      <td>15500000.0</td>\n",
       "      <td>149.0</td>\n",
       "      <td>2017-06-26T00:00:00</td>\n",
       "      <td>5</td>\n",
       "      <td>2.65</td>\n",
       "      <td>5.0</td>\n",
       "      <td>104.00</td>\n",
       "      <td>4</td>\n",
       "      <td>False</td>\n",
       "      <td>False</td>\n",
       "      <td>False</td>\n",
       "      <td>17.000</td>\n",
       "      <td>0</td>\n",
       "      <td>Санкт-Петербург</td>\n",
       "      <td>23670.0</td>\n",
       "      <td>3502.0</td>\n",
       "      <td>0.0</td>\n",
       "      <td>NaN</td>\n",
       "      <td>1.0</td>\n",
       "      <td>779.0</td>\n",
       "      <td>644.0</td>\n",
       "    </tr>\n",
       "    <tr>\n",
       "      <th>155</th>\n",
       "      <td>8</td>\n",
       "      <td>96000000.0</td>\n",
       "      <td>317.0</td>\n",
       "      <td>2017-07-07T00:00:00</td>\n",
       "      <td>4</td>\n",
       "      <td>3.50</td>\n",
       "      <td>3.0</td>\n",
       "      <td>183.00</td>\n",
       "      <td>3</td>\n",
       "      <td>False</td>\n",
       "      <td>False</td>\n",
       "      <td>False</td>\n",
       "      <td>55.475</td>\n",
       "      <td>1</td>\n",
       "      <td>Санкт-Петербург</td>\n",
       "      <td>22673.0</td>\n",
       "      <td>1771.0</td>\n",
       "      <td>2.0</td>\n",
       "      <td>508.0</td>\n",
       "      <td>3.0</td>\n",
       "      <td>366.0</td>\n",
       "      <td>62.0</td>\n",
       "    </tr>\n",
       "    <tr>\n",
       "      <th>335</th>\n",
       "      <td>1</td>\n",
       "      <td>21800000.0</td>\n",
       "      <td>163.4</td>\n",
       "      <td>2017-12-10T00:00:00</td>\n",
       "      <td>5</td>\n",
       "      <td>3.50</td>\n",
       "      <td>5.0</td>\n",
       "      <td>119.50</td>\n",
       "      <td>2</td>\n",
       "      <td>False</td>\n",
       "      <td>False</td>\n",
       "      <td>False</td>\n",
       "      <td>10.000</td>\n",
       "      <td>0</td>\n",
       "      <td>Санкт-Петербург</td>\n",
       "      <td>26791.0</td>\n",
       "      <td>5493.0</td>\n",
       "      <td>1.0</td>\n",
       "      <td>349.0</td>\n",
       "      <td>0.0</td>\n",
       "      <td>NaN</td>\n",
       "      <td>106.0</td>\n",
       "    </tr>\n",
       "    <tr>\n",
       "      <th>417</th>\n",
       "      <td>5</td>\n",
       "      <td>14200000.0</td>\n",
       "      <td>178.0</td>\n",
       "      <td>2017-10-26T00:00:00</td>\n",
       "      <td>5</td>\n",
       "      <td>3.30</td>\n",
       "      <td>4.0</td>\n",
       "      <td>126.60</td>\n",
       "      <td>2</td>\n",
       "      <td>False</td>\n",
       "      <td>False</td>\n",
       "      <td>False</td>\n",
       "      <td>19.400</td>\n",
       "      <td>0</td>\n",
       "      <td>Санкт-Петербург</td>\n",
       "      <td>24287.0</td>\n",
       "      <td>2835.0</td>\n",
       "      <td>0.0</td>\n",
       "      <td>NaN</td>\n",
       "      <td>3.0</td>\n",
       "      <td>257.0</td>\n",
       "      <td>104.0</td>\n",
       "    </tr>\n",
       "    <tr>\n",
       "      <th>464</th>\n",
       "      <td>15</td>\n",
       "      <td>66571000.0</td>\n",
       "      <td>280.3</td>\n",
       "      <td>2015-06-11T00:00:00</td>\n",
       "      <td>6</td>\n",
       "      <td>2.50</td>\n",
       "      <td>8.0</td>\n",
       "      <td>159.50</td>\n",
       "      <td>7</td>\n",
       "      <td>False</td>\n",
       "      <td>False</td>\n",
       "      <td>False</td>\n",
       "      <td>21.100</td>\n",
       "      <td>0</td>\n",
       "      <td>Санкт-Петербург</td>\n",
       "      <td>26316.0</td>\n",
       "      <td>6655.0</td>\n",
       "      <td>3.0</td>\n",
       "      <td>187.0</td>\n",
       "      <td>1.0</td>\n",
       "      <td>616.0</td>\n",
       "      <td>578.0</td>\n",
       "    </tr>\n",
       "    <tr>\n",
       "      <th>...</th>\n",
       "      <td>...</td>\n",
       "      <td>...</td>\n",
       "      <td>...</td>\n",
       "      <td>...</td>\n",
       "      <td>...</td>\n",
       "      <td>...</td>\n",
       "      <td>...</td>\n",
       "      <td>...</td>\n",
       "      <td>...</td>\n",
       "      <td>...</td>\n",
       "      <td>...</td>\n",
       "      <td>...</td>\n",
       "      <td>...</td>\n",
       "      <td>...</td>\n",
       "      <td>...</td>\n",
       "      <td>...</td>\n",
       "      <td>...</td>\n",
       "      <td>...</td>\n",
       "      <td>...</td>\n",
       "      <td>...</td>\n",
       "      <td>...</td>\n",
       "      <td>...</td>\n",
       "    </tr>\n",
       "    <tr>\n",
       "      <th>23299</th>\n",
       "      <td>20</td>\n",
       "      <td>25900000.0</td>\n",
       "      <td>167.1</td>\n",
       "      <td>2017-08-28T00:00:00</td>\n",
       "      <td>4</td>\n",
       "      <td>2.75</td>\n",
       "      <td>15.0</td>\n",
       "      <td>102.30</td>\n",
       "      <td>6</td>\n",
       "      <td>False</td>\n",
       "      <td>False</td>\n",
       "      <td>False</td>\n",
       "      <td>22.300</td>\n",
       "      <td>1</td>\n",
       "      <td>Санкт-Петербург</td>\n",
       "      <td>29860.0</td>\n",
       "      <td>7232.0</td>\n",
       "      <td>0.0</td>\n",
       "      <td>NaN</td>\n",
       "      <td>3.0</td>\n",
       "      <td>212.0</td>\n",
       "      <td>110.0</td>\n",
       "    </tr>\n",
       "    <tr>\n",
       "      <th>23395</th>\n",
       "      <td>4</td>\n",
       "      <td>40000000.0</td>\n",
       "      <td>188.0</td>\n",
       "      <td>2017-05-29T00:00:00</td>\n",
       "      <td>6</td>\n",
       "      <td>2.65</td>\n",
       "      <td>6.0</td>\n",
       "      <td>109.51</td>\n",
       "      <td>4</td>\n",
       "      <td>False</td>\n",
       "      <td>False</td>\n",
       "      <td>False</td>\n",
       "      <td>31.300</td>\n",
       "      <td>0</td>\n",
       "      <td>Санкт-Петербург</td>\n",
       "      <td>23390.0</td>\n",
       "      <td>2254.0</td>\n",
       "      <td>2.0</td>\n",
       "      <td>425.0</td>\n",
       "      <td>1.0</td>\n",
       "      <td>62.0</td>\n",
       "      <td>30.0</td>\n",
       "    </tr>\n",
       "    <tr>\n",
       "      <th>23400</th>\n",
       "      <td>17</td>\n",
       "      <td>30000000.0</td>\n",
       "      <td>213.0</td>\n",
       "      <td>2017-09-28T00:00:00</td>\n",
       "      <td>7</td>\n",
       "      <td>3.40</td>\n",
       "      <td>5.0</td>\n",
       "      <td>151.40</td>\n",
       "      <td>5</td>\n",
       "      <td>False</td>\n",
       "      <td>False</td>\n",
       "      <td>False</td>\n",
       "      <td>30.800</td>\n",
       "      <td>0</td>\n",
       "      <td>Санкт-Петербург</td>\n",
       "      <td>21146.0</td>\n",
       "      <td>1225.0</td>\n",
       "      <td>2.0</td>\n",
       "      <td>342.0</td>\n",
       "      <td>3.0</td>\n",
       "      <td>30.0</td>\n",
       "      <td>299.0</td>\n",
       "    </tr>\n",
       "    <tr>\n",
       "      <th>23448</th>\n",
       "      <td>3</td>\n",
       "      <td>14700000.0</td>\n",
       "      <td>180.0</td>\n",
       "      <td>2018-02-08T00:00:00</td>\n",
       "      <td>6</td>\n",
       "      <td>3.00</td>\n",
       "      <td>6.0</td>\n",
       "      <td>126.00</td>\n",
       "      <td>5</td>\n",
       "      <td>False</td>\n",
       "      <td>False</td>\n",
       "      <td>False</td>\n",
       "      <td>20.000</td>\n",
       "      <td>0</td>\n",
       "      <td>Санкт-Петербург</td>\n",
       "      <td>23955.0</td>\n",
       "      <td>5089.0</td>\n",
       "      <td>0.0</td>\n",
       "      <td>NaN</td>\n",
       "      <td>2.0</td>\n",
       "      <td>616.0</td>\n",
       "      <td>NaN</td>\n",
       "    </tr>\n",
       "    <tr>\n",
       "      <th>23491</th>\n",
       "      <td>20</td>\n",
       "      <td>21800000.0</td>\n",
       "      <td>250.0</td>\n",
       "      <td>2017-09-16T00:00:00</td>\n",
       "      <td>3</td>\n",
       "      <td>2.65</td>\n",
       "      <td>12.0</td>\n",
       "      <td>104.00</td>\n",
       "      <td>7</td>\n",
       "      <td>False</td>\n",
       "      <td>False</td>\n",
       "      <td>False</td>\n",
       "      <td>45.000</td>\n",
       "      <td>0</td>\n",
       "      <td>Санкт-Петербург</td>\n",
       "      <td>43558.0</td>\n",
       "      <td>13138.0</td>\n",
       "      <td>0.0</td>\n",
       "      <td>NaN</td>\n",
       "      <td>0.0</td>\n",
       "      <td>NaN</td>\n",
       "      <td>49.0</td>\n",
       "    </tr>\n",
       "  </tbody>\n",
       "</table>\n",
       "<p>397 rows × 22 columns</p>\n",
       "</div>"
      ],
      "text/plain": [
       "       total_images  last_price  total_area first_day_exposition  rooms  \\\n",
       "35                6  15500000.0       149.0  2017-06-26T00:00:00      5   \n",
       "155               8  96000000.0       317.0  2017-07-07T00:00:00      4   \n",
       "335               1  21800000.0       163.4  2017-12-10T00:00:00      5   \n",
       "417               5  14200000.0       178.0  2017-10-26T00:00:00      5   \n",
       "464              15  66571000.0       280.3  2015-06-11T00:00:00      6   \n",
       "...             ...         ...         ...                  ...    ...   \n",
       "23299            20  25900000.0       167.1  2017-08-28T00:00:00      4   \n",
       "23395             4  40000000.0       188.0  2017-05-29T00:00:00      6   \n",
       "23400            17  30000000.0       213.0  2017-09-28T00:00:00      7   \n",
       "23448             3  14700000.0       180.0  2018-02-08T00:00:00      6   \n",
       "23491            20  21800000.0       250.0  2017-09-16T00:00:00      3   \n",
       "\n",
       "       ceiling_height  floors_total  living_area  floor  is_apartment  \\\n",
       "35               2.65           5.0       104.00      4         False   \n",
       "155              3.50           3.0       183.00      3         False   \n",
       "335              3.50           5.0       119.50      2         False   \n",
       "417              3.30           4.0       126.60      2         False   \n",
       "464              2.50           8.0       159.50      7         False   \n",
       "...               ...           ...          ...    ...           ...   \n",
       "23299            2.75          15.0       102.30      6         False   \n",
       "23395            2.65           6.0       109.51      4         False   \n",
       "23400            3.40           5.0       151.40      5         False   \n",
       "23448            3.00           6.0       126.00      5         False   \n",
       "23491            2.65          12.0       104.00      7         False   \n",
       "\n",
       "       is_studio  is_open_plan  kitchen_area  balcony    locality_name  \\\n",
       "35         False         False        17.000        0  Санкт-Петербург   \n",
       "155        False         False        55.475        1  Санкт-Петербург   \n",
       "335        False         False        10.000        0  Санкт-Петербург   \n",
       "417        False         False        19.400        0  Санкт-Петербург   \n",
       "464        False         False        21.100        0  Санкт-Петербург   \n",
       "...          ...           ...           ...      ...              ...   \n",
       "23299      False         False        22.300        1  Санкт-Петербург   \n",
       "23395      False         False        31.300        0  Санкт-Петербург   \n",
       "23400      False         False        30.800        0  Санкт-Петербург   \n",
       "23448      False         False        20.000        0  Санкт-Петербург   \n",
       "23491      False         False        45.000        0  Санкт-Петербург   \n",
       "\n",
       "       airports_nearest  city_centers_nearest  parks_around_3000  \\\n",
       "35              23670.0                3502.0                0.0   \n",
       "155             22673.0                1771.0                2.0   \n",
       "335             26791.0                5493.0                1.0   \n",
       "417             24287.0                2835.0                0.0   \n",
       "464             26316.0                6655.0                3.0   \n",
       "...                 ...                   ...                ...   \n",
       "23299           29860.0                7232.0                0.0   \n",
       "23395           23390.0                2254.0                2.0   \n",
       "23400           21146.0                1225.0                2.0   \n",
       "23448           23955.0                5089.0                0.0   \n",
       "23491           43558.0               13138.0                0.0   \n",
       "\n",
       "       parks_nearest  ponds_around_3000  ponds_nearest  days_exposition  \n",
       "35               NaN                1.0          779.0            644.0  \n",
       "155            508.0                3.0          366.0             62.0  \n",
       "335            349.0                0.0            NaN            106.0  \n",
       "417              NaN                3.0          257.0            104.0  \n",
       "464            187.0                1.0          616.0            578.0  \n",
       "...              ...                ...            ...              ...  \n",
       "23299            NaN                3.0          212.0            110.0  \n",
       "23395          425.0                1.0           62.0             30.0  \n",
       "23400          342.0                3.0           30.0            299.0  \n",
       "23448            NaN                2.0          616.0              NaN  \n",
       "23491            NaN                0.0            NaN             49.0  \n",
       "\n",
       "[397 rows x 22 columns]"
      ]
     },
     "execution_count": 22,
     "metadata": {},
     "output_type": "execute_result"
    }
   ],
   "source": [
    "data[data['living_area'] > 100]"
   ]
  },
  {
   "cell_type": "code",
   "execution_count": 23,
   "metadata": {},
   "outputs": [
    {
     "data": {
      "text/html": [
       "<div>\n",
       "<style scoped>\n",
       "    .dataframe tbody tr th:only-of-type {\n",
       "        vertical-align: middle;\n",
       "    }\n",
       "\n",
       "    .dataframe tbody tr th {\n",
       "        vertical-align: top;\n",
       "    }\n",
       "\n",
       "    .dataframe thead th {\n",
       "        text-align: right;\n",
       "    }\n",
       "</style>\n",
       "<table border=\"1\" class=\"dataframe\">\n",
       "  <thead>\n",
       "    <tr style=\"text-align: right;\">\n",
       "      <th></th>\n",
       "      <th>total_images</th>\n",
       "      <th>last_price</th>\n",
       "      <th>total_area</th>\n",
       "      <th>first_day_exposition</th>\n",
       "      <th>rooms</th>\n",
       "      <th>ceiling_height</th>\n",
       "      <th>floors_total</th>\n",
       "      <th>living_area</th>\n",
       "      <th>floor</th>\n",
       "      <th>is_apartment</th>\n",
       "      <th>is_studio</th>\n",
       "      <th>is_open_plan</th>\n",
       "      <th>kitchen_area</th>\n",
       "      <th>balcony</th>\n",
       "      <th>locality_name</th>\n",
       "      <th>airports_nearest</th>\n",
       "      <th>city_centers_nearest</th>\n",
       "      <th>parks_around_3000</th>\n",
       "      <th>parks_nearest</th>\n",
       "      <th>ponds_around_3000</th>\n",
       "      <th>ponds_nearest</th>\n",
       "      <th>days_exposition</th>\n",
       "    </tr>\n",
       "  </thead>\n",
       "  <tbody>\n",
       "    <tr>\n",
       "      <th>155</th>\n",
       "      <td>8</td>\n",
       "      <td>96000000.0</td>\n",
       "      <td>317.0</td>\n",
       "      <td>2017-07-07T00:00:00</td>\n",
       "      <td>4</td>\n",
       "      <td>3.50</td>\n",
       "      <td>3.0</td>\n",
       "      <td>183.000000</td>\n",
       "      <td>3</td>\n",
       "      <td>False</td>\n",
       "      <td>False</td>\n",
       "      <td>False</td>\n",
       "      <td>55.4750</td>\n",
       "      <td>1</td>\n",
       "      <td>Санкт-Петербург</td>\n",
       "      <td>22673.0</td>\n",
       "      <td>1771.0</td>\n",
       "      <td>2.0</td>\n",
       "      <td>508.0</td>\n",
       "      <td>3.0</td>\n",
       "      <td>366.0</td>\n",
       "      <td>62.0</td>\n",
       "    </tr>\n",
       "    <tr>\n",
       "      <th>492</th>\n",
       "      <td>18</td>\n",
       "      <td>95000000.0</td>\n",
       "      <td>216.0</td>\n",
       "      <td>2017-12-05T00:00:00</td>\n",
       "      <td>4</td>\n",
       "      <td>3.00</td>\n",
       "      <td>5.0</td>\n",
       "      <td>86.000000</td>\n",
       "      <td>4</td>\n",
       "      <td>False</td>\n",
       "      <td>False</td>\n",
       "      <td>False</td>\n",
       "      <td>77.0000</td>\n",
       "      <td>0</td>\n",
       "      <td>Санкт-Петербург</td>\n",
       "      <td>21740.0</td>\n",
       "      <td>436.0</td>\n",
       "      <td>2.0</td>\n",
       "      <td>138.0</td>\n",
       "      <td>3.0</td>\n",
       "      <td>620.0</td>\n",
       "      <td>14.0</td>\n",
       "    </tr>\n",
       "    <tr>\n",
       "      <th>581</th>\n",
       "      <td>20</td>\n",
       "      <td>65000000.0</td>\n",
       "      <td>365.0</td>\n",
       "      <td>2019-03-18T00:00:00</td>\n",
       "      <td>7</td>\n",
       "      <td>2.90</td>\n",
       "      <td>7.0</td>\n",
       "      <td>210.576923</td>\n",
       "      <td>7</td>\n",
       "      <td>False</td>\n",
       "      <td>False</td>\n",
       "      <td>False</td>\n",
       "      <td>63.8750</td>\n",
       "      <td>0</td>\n",
       "      <td>Санкт-Петербург</td>\n",
       "      <td>19827.0</td>\n",
       "      <td>1690.0</td>\n",
       "      <td>3.0</td>\n",
       "      <td>378.0</td>\n",
       "      <td>3.0</td>\n",
       "      <td>58.0</td>\n",
       "      <td>NaN</td>\n",
       "    </tr>\n",
       "    <tr>\n",
       "      <th>1026</th>\n",
       "      <td>20</td>\n",
       "      <td>155000000.0</td>\n",
       "      <td>310.0</td>\n",
       "      <td>2018-10-12T00:00:00</td>\n",
       "      <td>5</td>\n",
       "      <td>2.50</td>\n",
       "      <td>3.0</td>\n",
       "      <td>190.000000</td>\n",
       "      <td>3</td>\n",
       "      <td>False</td>\n",
       "      <td>False</td>\n",
       "      <td>False</td>\n",
       "      <td>63.0000</td>\n",
       "      <td>2</td>\n",
       "      <td>Санкт-Петербург</td>\n",
       "      <td>24899.0</td>\n",
       "      <td>4785.0</td>\n",
       "      <td>0.0</td>\n",
       "      <td>NaN</td>\n",
       "      <td>1.0</td>\n",
       "      <td>603.0</td>\n",
       "      <td>NaN</td>\n",
       "    </tr>\n",
       "    <tr>\n",
       "      <th>1085</th>\n",
       "      <td>16</td>\n",
       "      <td>75000000.0</td>\n",
       "      <td>323.0</td>\n",
       "      <td>2017-07-10T00:00:00</td>\n",
       "      <td>5</td>\n",
       "      <td>4.00</td>\n",
       "      <td>5.0</td>\n",
       "      <td>255.700000</td>\n",
       "      <td>4</td>\n",
       "      <td>False</td>\n",
       "      <td>False</td>\n",
       "      <td>False</td>\n",
       "      <td>66.0000</td>\n",
       "      <td>0</td>\n",
       "      <td>Санкт-Петербург</td>\n",
       "      <td>23713.0</td>\n",
       "      <td>594.0</td>\n",
       "      <td>3.0</td>\n",
       "      <td>398.0</td>\n",
       "      <td>2.0</td>\n",
       "      <td>515.0</td>\n",
       "      <td>259.0</td>\n",
       "    </tr>\n",
       "    <tr>\n",
       "      <th>1388</th>\n",
       "      <td>20</td>\n",
       "      <td>59800000.0</td>\n",
       "      <td>399.0</td>\n",
       "      <td>2015-01-21T00:00:00</td>\n",
       "      <td>5</td>\n",
       "      <td>2.50</td>\n",
       "      <td>6.0</td>\n",
       "      <td>230.192308</td>\n",
       "      <td>6</td>\n",
       "      <td>False</td>\n",
       "      <td>False</td>\n",
       "      <td>False</td>\n",
       "      <td>69.8250</td>\n",
       "      <td>0</td>\n",
       "      <td>Санкт-Петербург</td>\n",
       "      <td>26204.0</td>\n",
       "      <td>6934.0</td>\n",
       "      <td>2.0</td>\n",
       "      <td>149.0</td>\n",
       "      <td>2.0</td>\n",
       "      <td>577.0</td>\n",
       "      <td>719.0</td>\n",
       "    </tr>\n",
       "    <tr>\n",
       "      <th>2243</th>\n",
       "      <td>9</td>\n",
       "      <td>130278280.0</td>\n",
       "      <td>304.0</td>\n",
       "      <td>2015-07-24T00:00:00</td>\n",
       "      <td>5</td>\n",
       "      <td>3.11</td>\n",
       "      <td>9.0</td>\n",
       "      <td>175.384615</td>\n",
       "      <td>7</td>\n",
       "      <td>False</td>\n",
       "      <td>False</td>\n",
       "      <td>False</td>\n",
       "      <td>53.2000</td>\n",
       "      <td>0</td>\n",
       "      <td>Санкт-Петербург</td>\n",
       "      <td>25593.0</td>\n",
       "      <td>5913.0</td>\n",
       "      <td>2.0</td>\n",
       "      <td>164.0</td>\n",
       "      <td>0.0</td>\n",
       "      <td>NaN</td>\n",
       "      <td>599.0</td>\n",
       "    </tr>\n",
       "    <tr>\n",
       "      <th>2489</th>\n",
       "      <td>9</td>\n",
       "      <td>12500000.0</td>\n",
       "      <td>255.0</td>\n",
       "      <td>2017-04-21T00:00:00</td>\n",
       "      <td>3</td>\n",
       "      <td>2.65</td>\n",
       "      <td>2.0</td>\n",
       "      <td>153.900000</td>\n",
       "      <td>2</td>\n",
       "      <td>False</td>\n",
       "      <td>False</td>\n",
       "      <td>False</td>\n",
       "      <td>100.7000</td>\n",
       "      <td>0</td>\n",
       "      <td>Санкт-Петербург</td>\n",
       "      <td>29544.0</td>\n",
       "      <td>6916.0</td>\n",
       "      <td>0.0</td>\n",
       "      <td>NaN</td>\n",
       "      <td>3.0</td>\n",
       "      <td>198.0</td>\n",
       "      <td>102.0</td>\n",
       "    </tr>\n",
       "    <tr>\n",
       "      <th>3117</th>\n",
       "      <td>19</td>\n",
       "      <td>140000000.0</td>\n",
       "      <td>631.0</td>\n",
       "      <td>2019-03-30T00:00:00</td>\n",
       "      <td>7</td>\n",
       "      <td>2.65</td>\n",
       "      <td>5.0</td>\n",
       "      <td>364.038462</td>\n",
       "      <td>5</td>\n",
       "      <td>False</td>\n",
       "      <td>False</td>\n",
       "      <td>False</td>\n",
       "      <td>60.0000</td>\n",
       "      <td>0</td>\n",
       "      <td>Санкт-Петербург</td>\n",
       "      <td>25707.0</td>\n",
       "      <td>4972.0</td>\n",
       "      <td>0.0</td>\n",
       "      <td>NaN</td>\n",
       "      <td>2.0</td>\n",
       "      <td>210.0</td>\n",
       "      <td>NaN</td>\n",
       "    </tr>\n",
       "    <tr>\n",
       "      <th>3561</th>\n",
       "      <td>5</td>\n",
       "      <td>12300000.0</td>\n",
       "      <td>115.0</td>\n",
       "      <td>2017-08-09T00:00:00</td>\n",
       "      <td>3</td>\n",
       "      <td>2.70</td>\n",
       "      <td>20.0</td>\n",
       "      <td>45.000000</td>\n",
       "      <td>16</td>\n",
       "      <td>False</td>\n",
       "      <td>False</td>\n",
       "      <td>False</td>\n",
       "      <td>60.0000</td>\n",
       "      <td>1</td>\n",
       "      <td>Санкт-Петербург</td>\n",
       "      <td>33386.0</td>\n",
       "      <td>14234.0</td>\n",
       "      <td>0.0</td>\n",
       "      <td>NaN</td>\n",
       "      <td>0.0</td>\n",
       "      <td>NaN</td>\n",
       "      <td>63.0</td>\n",
       "    </tr>\n",
       "    <tr>\n",
       "      <th>4320</th>\n",
       "      <td>20</td>\n",
       "      <td>19700000.0</td>\n",
       "      <td>146.3</td>\n",
       "      <td>2017-02-10T00:00:00</td>\n",
       "      <td>3</td>\n",
       "      <td>3.40</td>\n",
       "      <td>6.0</td>\n",
       "      <td>55.800000</td>\n",
       "      <td>6</td>\n",
       "      <td>False</td>\n",
       "      <td>False</td>\n",
       "      <td>False</td>\n",
       "      <td>56.2000</td>\n",
       "      <td>0</td>\n",
       "      <td>Санкт-Петербург</td>\n",
       "      <td>23312.0</td>\n",
       "      <td>2450.0</td>\n",
       "      <td>1.0</td>\n",
       "      <td>548.0</td>\n",
       "      <td>3.0</td>\n",
       "      <td>883.0</td>\n",
       "      <td>638.0</td>\n",
       "    </tr>\n",
       "    <tr>\n",
       "      <th>4394</th>\n",
       "      <td>20</td>\n",
       "      <td>57000000.0</td>\n",
       "      <td>174.0</td>\n",
       "      <td>2015-11-09T00:00:00</td>\n",
       "      <td>3</td>\n",
       "      <td>3.20</td>\n",
       "      <td>10.0</td>\n",
       "      <td>95.000000</td>\n",
       "      <td>6</td>\n",
       "      <td>False</td>\n",
       "      <td>False</td>\n",
       "      <td>False</td>\n",
       "      <td>77.0000</td>\n",
       "      <td>0</td>\n",
       "      <td>Санкт-Петербург</td>\n",
       "      <td>31706.0</td>\n",
       "      <td>4166.0</td>\n",
       "      <td>1.0</td>\n",
       "      <td>193.0</td>\n",
       "      <td>3.0</td>\n",
       "      <td>199.0</td>\n",
       "      <td>1039.0</td>\n",
       "    </tr>\n",
       "    <tr>\n",
       "      <th>5358</th>\n",
       "      <td>20</td>\n",
       "      <td>65000000.0</td>\n",
       "      <td>590.0</td>\n",
       "      <td>2019-02-14T00:00:00</td>\n",
       "      <td>15</td>\n",
       "      <td>3.50</td>\n",
       "      <td>6.0</td>\n",
       "      <td>409.000000</td>\n",
       "      <td>3</td>\n",
       "      <td>False</td>\n",
       "      <td>False</td>\n",
       "      <td>False</td>\n",
       "      <td>100.0000</td>\n",
       "      <td>0</td>\n",
       "      <td>Санкт-Петербург</td>\n",
       "      <td>24447.0</td>\n",
       "      <td>4666.0</td>\n",
       "      <td>1.0</td>\n",
       "      <td>767.0</td>\n",
       "      <td>0.0</td>\n",
       "      <td>NaN</td>\n",
       "      <td>14.0</td>\n",
       "    </tr>\n",
       "    <tr>\n",
       "      <th>5873</th>\n",
       "      <td>0</td>\n",
       "      <td>38000000.0</td>\n",
       "      <td>400.0</td>\n",
       "      <td>2019-03-15T00:00:00</td>\n",
       "      <td>7</td>\n",
       "      <td>3.60</td>\n",
       "      <td>3.0</td>\n",
       "      <td>230.769231</td>\n",
       "      <td>1</td>\n",
       "      <td>False</td>\n",
       "      <td>False</td>\n",
       "      <td>False</td>\n",
       "      <td>70.0000</td>\n",
       "      <td>0</td>\n",
       "      <td>Санкт-Петербург</td>\n",
       "      <td>24889.0</td>\n",
       "      <td>5457.0</td>\n",
       "      <td>1.0</td>\n",
       "      <td>271.0</td>\n",
       "      <td>0.0</td>\n",
       "      <td>NaN</td>\n",
       "      <td>NaN</td>\n",
       "    </tr>\n",
       "    <tr>\n",
       "      <th>6021</th>\n",
       "      <td>19</td>\n",
       "      <td>16830000.0</td>\n",
       "      <td>117.4</td>\n",
       "      <td>2019-04-04T00:00:00</td>\n",
       "      <td>2</td>\n",
       "      <td>2.75</td>\n",
       "      <td>16.0</td>\n",
       "      <td>33.400000</td>\n",
       "      <td>13</td>\n",
       "      <td>False</td>\n",
       "      <td>False</td>\n",
       "      <td>False</td>\n",
       "      <td>51.0000</td>\n",
       "      <td>2</td>\n",
       "      <td>Санкт-Петербург</td>\n",
       "      <td>51030.0</td>\n",
       "      <td>14721.0</td>\n",
       "      <td>0.0</td>\n",
       "      <td>NaN</td>\n",
       "      <td>0.0</td>\n",
       "      <td>NaN</td>\n",
       "      <td>NaN</td>\n",
       "    </tr>\n",
       "    <tr>\n",
       "      <th>6193</th>\n",
       "      <td>19</td>\n",
       "      <td>24300000.0</td>\n",
       "      <td>230.0</td>\n",
       "      <td>2016-06-03T00:00:00</td>\n",
       "      <td>4</td>\n",
       "      <td>2.65</td>\n",
       "      <td>3.0</td>\n",
       "      <td>90.000000</td>\n",
       "      <td>2</td>\n",
       "      <td>False</td>\n",
       "      <td>False</td>\n",
       "      <td>False</td>\n",
       "      <td>70.0000</td>\n",
       "      <td>0</td>\n",
       "      <td>Санкт-Петербург</td>\n",
       "      <td>39422.0</td>\n",
       "      <td>15354.0</td>\n",
       "      <td>0.0</td>\n",
       "      <td>NaN</td>\n",
       "      <td>1.0</td>\n",
       "      <td>345.0</td>\n",
       "      <td>397.0</td>\n",
       "    </tr>\n",
       "    <tr>\n",
       "      <th>7543</th>\n",
       "      <td>20</td>\n",
       "      <td>130000000.0</td>\n",
       "      <td>307.8</td>\n",
       "      <td>2016-04-24T00:00:00</td>\n",
       "      <td>5</td>\n",
       "      <td>2.65</td>\n",
       "      <td>4.0</td>\n",
       "      <td>187.900000</td>\n",
       "      <td>3</td>\n",
       "      <td>False</td>\n",
       "      <td>False</td>\n",
       "      <td>False</td>\n",
       "      <td>63.4000</td>\n",
       "      <td>0</td>\n",
       "      <td>Санкт-Петербург</td>\n",
       "      <td>24899.0</td>\n",
       "      <td>4785.0</td>\n",
       "      <td>0.0</td>\n",
       "      <td>NaN</td>\n",
       "      <td>1.0</td>\n",
       "      <td>603.0</td>\n",
       "      <td>1094.0</td>\n",
       "    </tr>\n",
       "    <tr>\n",
       "      <th>7674</th>\n",
       "      <td>20</td>\n",
       "      <td>131000000.0</td>\n",
       "      <td>380.0</td>\n",
       "      <td>2016-09-23T00:00:00</td>\n",
       "      <td>5</td>\n",
       "      <td>3.90</td>\n",
       "      <td>6.0</td>\n",
       "      <td>150.000000</td>\n",
       "      <td>4</td>\n",
       "      <td>False</td>\n",
       "      <td>False</td>\n",
       "      <td>False</td>\n",
       "      <td>66.5000</td>\n",
       "      <td>1</td>\n",
       "      <td>Санкт-Петербург</td>\n",
       "      <td>25801.0</td>\n",
       "      <td>4504.0</td>\n",
       "      <td>2.0</td>\n",
       "      <td>161.0</td>\n",
       "      <td>1.0</td>\n",
       "      <td>635.0</td>\n",
       "      <td>901.0</td>\n",
       "    </tr>\n",
       "    <tr>\n",
       "      <th>8261</th>\n",
       "      <td>20</td>\n",
       "      <td>36000000.0</td>\n",
       "      <td>123.2</td>\n",
       "      <td>2018-01-14T00:00:00</td>\n",
       "      <td>1</td>\n",
       "      <td>3.00</td>\n",
       "      <td>14.0</td>\n",
       "      <td>31.200000</td>\n",
       "      <td>7</td>\n",
       "      <td>False</td>\n",
       "      <td>False</td>\n",
       "      <td>False</td>\n",
       "      <td>58.4000</td>\n",
       "      <td>1</td>\n",
       "      <td>Санкт-Петербург</td>\n",
       "      <td>28098.0</td>\n",
       "      <td>6800.0</td>\n",
       "      <td>2.0</td>\n",
       "      <td>84.0</td>\n",
       "      <td>3.0</td>\n",
       "      <td>234.0</td>\n",
       "      <td>61.0</td>\n",
       "    </tr>\n",
       "    <tr>\n",
       "      <th>8559</th>\n",
       "      <td>20</td>\n",
       "      <td>48000000.0</td>\n",
       "      <td>203.3</td>\n",
       "      <td>2017-11-20T00:00:00</td>\n",
       "      <td>7</td>\n",
       "      <td>3.30</td>\n",
       "      <td>6.0</td>\n",
       "      <td>104.200000</td>\n",
       "      <td>3</td>\n",
       "      <td>False</td>\n",
       "      <td>False</td>\n",
       "      <td>False</td>\n",
       "      <td>53.1000</td>\n",
       "      <td>0</td>\n",
       "      <td>Санкт-Петербург</td>\n",
       "      <td>25293.0</td>\n",
       "      <td>3868.0</td>\n",
       "      <td>1.0</td>\n",
       "      <td>341.0</td>\n",
       "      <td>0.0</td>\n",
       "      <td>NaN</td>\n",
       "      <td>146.0</td>\n",
       "    </tr>\n",
       "    <tr>\n",
       "      <th>8709</th>\n",
       "      <td>19</td>\n",
       "      <td>24500000.0</td>\n",
       "      <td>105.0</td>\n",
       "      <td>2017-04-20T00:00:00</td>\n",
       "      <td>2</td>\n",
       "      <td>3.20</td>\n",
       "      <td>6.0</td>\n",
       "      <td>31.100000</td>\n",
       "      <td>2</td>\n",
       "      <td>False</td>\n",
       "      <td>False</td>\n",
       "      <td>False</td>\n",
       "      <td>51.0000</td>\n",
       "      <td>0</td>\n",
       "      <td>Санкт-Петербург</td>\n",
       "      <td>24980.0</td>\n",
       "      <td>3310.0</td>\n",
       "      <td>2.0</td>\n",
       "      <td>445.0</td>\n",
       "      <td>0.0</td>\n",
       "      <td>NaN</td>\n",
       "      <td>159.0</td>\n",
       "    </tr>\n",
       "    <tr>\n",
       "      <th>9826</th>\n",
       "      <td>1</td>\n",
       "      <td>43185328.0</td>\n",
       "      <td>494.1</td>\n",
       "      <td>2017-05-12T00:00:00</td>\n",
       "      <td>1</td>\n",
       "      <td>2.85</td>\n",
       "      <td>12.0</td>\n",
       "      <td>285.057692</td>\n",
       "      <td>3</td>\n",
       "      <td>False</td>\n",
       "      <td>False</td>\n",
       "      <td>False</td>\n",
       "      <td>86.4675</td>\n",
       "      <td>0</td>\n",
       "      <td>Санкт-Петербург</td>\n",
       "      <td>28529.0</td>\n",
       "      <td>6832.0</td>\n",
       "      <td>1.0</td>\n",
       "      <td>592.0</td>\n",
       "      <td>0.0</td>\n",
       "      <td>NaN</td>\n",
       "      <td>5.0</td>\n",
       "    </tr>\n",
       "    <tr>\n",
       "      <th>10181</th>\n",
       "      <td>9</td>\n",
       "      <td>35000000.0</td>\n",
       "      <td>295.0</td>\n",
       "      <td>2017-12-16T00:00:00</td>\n",
       "      <td>4</td>\n",
       "      <td>2.65</td>\n",
       "      <td>5.0</td>\n",
       "      <td>170.192308</td>\n",
       "      <td>4</td>\n",
       "      <td>False</td>\n",
       "      <td>False</td>\n",
       "      <td>False</td>\n",
       "      <td>51.6250</td>\n",
       "      <td>0</td>\n",
       "      <td>Санкт-Петербург</td>\n",
       "      <td>26711.0</td>\n",
       "      <td>5559.0</td>\n",
       "      <td>0.0</td>\n",
       "      <td>NaN</td>\n",
       "      <td>1.0</td>\n",
       "      <td>785.0</td>\n",
       "      <td>90.0</td>\n",
       "    </tr>\n",
       "    <tr>\n",
       "      <th>10684</th>\n",
       "      <td>6</td>\n",
       "      <td>32894076.0</td>\n",
       "      <td>364.7</td>\n",
       "      <td>2019-05-02T00:00:00</td>\n",
       "      <td>7</td>\n",
       "      <td>3.32</td>\n",
       "      <td>3.0</td>\n",
       "      <td>210.403846</td>\n",
       "      <td>1</td>\n",
       "      <td>False</td>\n",
       "      <td>False</td>\n",
       "      <td>False</td>\n",
       "      <td>63.8225</td>\n",
       "      <td>5</td>\n",
       "      <td>Санкт-Петербург</td>\n",
       "      <td>NaN</td>\n",
       "      <td>NaN</td>\n",
       "      <td>NaN</td>\n",
       "      <td>NaN</td>\n",
       "      <td>NaN</td>\n",
       "      <td>NaN</td>\n",
       "      <td>NaN</td>\n",
       "    </tr>\n",
       "    <tr>\n",
       "      <th>10789</th>\n",
       "      <td>20</td>\n",
       "      <td>38900000.0</td>\n",
       "      <td>151.6</td>\n",
       "      <td>2018-03-06T00:00:00</td>\n",
       "      <td>4</td>\n",
       "      <td>2.65</td>\n",
       "      <td>9.0</td>\n",
       "      <td>63.310000</td>\n",
       "      <td>5</td>\n",
       "      <td>False</td>\n",
       "      <td>False</td>\n",
       "      <td>False</td>\n",
       "      <td>56.0000</td>\n",
       "      <td>0</td>\n",
       "      <td>Санкт-Петербург</td>\n",
       "      <td>26055.0</td>\n",
       "      <td>4800.0</td>\n",
       "      <td>1.0</td>\n",
       "      <td>648.0</td>\n",
       "      <td>1.0</td>\n",
       "      <td>779.0</td>\n",
       "      <td>106.0</td>\n",
       "    </tr>\n",
       "    <tr>\n",
       "      <th>10867</th>\n",
       "      <td>1</td>\n",
       "      <td>56844500.0</td>\n",
       "      <td>177.9</td>\n",
       "      <td>2015-01-15T00:00:00</td>\n",
       "      <td>3</td>\n",
       "      <td>2.65</td>\n",
       "      <td>6.0</td>\n",
       "      <td>87.200000</td>\n",
       "      <td>5</td>\n",
       "      <td>True</td>\n",
       "      <td>False</td>\n",
       "      <td>False</td>\n",
       "      <td>87.2000</td>\n",
       "      <td>0</td>\n",
       "      <td>Санкт-Петербург</td>\n",
       "      <td>21860.0</td>\n",
       "      <td>318.0</td>\n",
       "      <td>2.0</td>\n",
       "      <td>160.0</td>\n",
       "      <td>3.0</td>\n",
       "      <td>569.0</td>\n",
       "      <td>NaN</td>\n",
       "    </tr>\n",
       "    <tr>\n",
       "      <th>11436</th>\n",
       "      <td>4</td>\n",
       "      <td>24000000.0</td>\n",
       "      <td>316.3</td>\n",
       "      <td>2015-03-25T00:00:00</td>\n",
       "      <td>8</td>\n",
       "      <td>2.65</td>\n",
       "      <td>5.0</td>\n",
       "      <td>187.000000</td>\n",
       "      <td>5</td>\n",
       "      <td>False</td>\n",
       "      <td>False</td>\n",
       "      <td>False</td>\n",
       "      <td>55.3525</td>\n",
       "      <td>0</td>\n",
       "      <td>Санкт-Петербург</td>\n",
       "      <td>24555.0</td>\n",
       "      <td>5129.0</td>\n",
       "      <td>0.0</td>\n",
       "      <td>NaN</td>\n",
       "      <td>1.0</td>\n",
       "      <td>934.0</td>\n",
       "      <td>542.0</td>\n",
       "    </tr>\n",
       "    <tr>\n",
       "      <th>11723</th>\n",
       "      <td>18</td>\n",
       "      <td>32500000.0</td>\n",
       "      <td>127.1</td>\n",
       "      <td>2015-01-15T00:00:00</td>\n",
       "      <td>3</td>\n",
       "      <td>3.40</td>\n",
       "      <td>6.0</td>\n",
       "      <td>56.200000</td>\n",
       "      <td>2</td>\n",
       "      <td>False</td>\n",
       "      <td>False</td>\n",
       "      <td>False</td>\n",
       "      <td>51.8000</td>\n",
       "      <td>0</td>\n",
       "      <td>Санкт-Петербург</td>\n",
       "      <td>21860.0</td>\n",
       "      <td>318.0</td>\n",
       "      <td>2.0</td>\n",
       "      <td>160.0</td>\n",
       "      <td>3.0</td>\n",
       "      <td>569.0</td>\n",
       "      <td>725.0</td>\n",
       "    </tr>\n",
       "    <tr>\n",
       "      <th>12971</th>\n",
       "      <td>19</td>\n",
       "      <td>763000000.0</td>\n",
       "      <td>400.0</td>\n",
       "      <td>2017-09-30T00:00:00</td>\n",
       "      <td>7</td>\n",
       "      <td>2.65</td>\n",
       "      <td>10.0</td>\n",
       "      <td>250.000000</td>\n",
       "      <td>10</td>\n",
       "      <td>False</td>\n",
       "      <td>False</td>\n",
       "      <td>False</td>\n",
       "      <td>70.0000</td>\n",
       "      <td>2</td>\n",
       "      <td>Санкт-Петербург</td>\n",
       "      <td>25108.0</td>\n",
       "      <td>3956.0</td>\n",
       "      <td>1.0</td>\n",
       "      <td>530.0</td>\n",
       "      <td>3.0</td>\n",
       "      <td>756.0</td>\n",
       "      <td>33.0</td>\n",
       "    </tr>\n",
       "    <tr>\n",
       "      <th>13139</th>\n",
       "      <td>20</td>\n",
       "      <td>55000000.0</td>\n",
       "      <td>288.0</td>\n",
       "      <td>2017-11-14T00:00:00</td>\n",
       "      <td>5</td>\n",
       "      <td>3.51</td>\n",
       "      <td>6.0</td>\n",
       "      <td>100.700000</td>\n",
       "      <td>2</td>\n",
       "      <td>False</td>\n",
       "      <td>False</td>\n",
       "      <td>False</td>\n",
       "      <td>62.0000</td>\n",
       "      <td>0</td>\n",
       "      <td>Санкт-Петербург</td>\n",
       "      <td>26228.0</td>\n",
       "      <td>4930.0</td>\n",
       "      <td>2.0</td>\n",
       "      <td>175.0</td>\n",
       "      <td>1.0</td>\n",
       "      <td>682.0</td>\n",
       "      <td>338.0</td>\n",
       "    </tr>\n",
       "    <tr>\n",
       "      <th>13845</th>\n",
       "      <td>12</td>\n",
       "      <td>65000000.0</td>\n",
       "      <td>250.0</td>\n",
       "      <td>2014-12-09T00:00:00</td>\n",
       "      <td>5</td>\n",
       "      <td>3.10</td>\n",
       "      <td>5.0</td>\n",
       "      <td>167.000000</td>\n",
       "      <td>5</td>\n",
       "      <td>False</td>\n",
       "      <td>False</td>\n",
       "      <td>False</td>\n",
       "      <td>60.0000</td>\n",
       "      <td>1</td>\n",
       "      <td>Санкт-Петербург</td>\n",
       "      <td>23553.0</td>\n",
       "      <td>1862.0</td>\n",
       "      <td>3.0</td>\n",
       "      <td>286.0</td>\n",
       "      <td>3.0</td>\n",
       "      <td>577.0</td>\n",
       "      <td>714.0</td>\n",
       "    </tr>\n",
       "    <tr>\n",
       "      <th>14088</th>\n",
       "      <td>8</td>\n",
       "      <td>51000000.0</td>\n",
       "      <td>402.0</td>\n",
       "      <td>2017-02-07T00:00:00</td>\n",
       "      <td>6</td>\n",
       "      <td>3.15</td>\n",
       "      <td>8.0</td>\n",
       "      <td>300.000000</td>\n",
       "      <td>6</td>\n",
       "      <td>False</td>\n",
       "      <td>False</td>\n",
       "      <td>False</td>\n",
       "      <td>56.0000</td>\n",
       "      <td>2</td>\n",
       "      <td>Санкт-Петербург</td>\n",
       "      <td>24484.0</td>\n",
       "      <td>5052.0</td>\n",
       "      <td>1.0</td>\n",
       "      <td>253.0</td>\n",
       "      <td>0.0</td>\n",
       "      <td>NaN</td>\n",
       "      <td>32.0</td>\n",
       "    </tr>\n",
       "    <tr>\n",
       "      <th>14644</th>\n",
       "      <td>17</td>\n",
       "      <td>47000000.0</td>\n",
       "      <td>150.0</td>\n",
       "      <td>2017-02-28T00:00:00</td>\n",
       "      <td>4</td>\n",
       "      <td>3.70</td>\n",
       "      <td>6.0</td>\n",
       "      <td>58.000000</td>\n",
       "      <td>5</td>\n",
       "      <td>False</td>\n",
       "      <td>False</td>\n",
       "      <td>False</td>\n",
       "      <td>75.0000</td>\n",
       "      <td>1</td>\n",
       "      <td>Санкт-Петербург</td>\n",
       "      <td>16085.0</td>\n",
       "      <td>7616.0</td>\n",
       "      <td>0.0</td>\n",
       "      <td>NaN</td>\n",
       "      <td>0.0</td>\n",
       "      <td>NaN</td>\n",
       "      <td>507.0</td>\n",
       "    </tr>\n",
       "    <tr>\n",
       "      <th>14794</th>\n",
       "      <td>18</td>\n",
       "      <td>76837000.0</td>\n",
       "      <td>222.6</td>\n",
       "      <td>2015-01-21T00:00:00</td>\n",
       "      <td>4</td>\n",
       "      <td>4.00</td>\n",
       "      <td>5.0</td>\n",
       "      <td>126.400000</td>\n",
       "      <td>4</td>\n",
       "      <td>False</td>\n",
       "      <td>False</td>\n",
       "      <td>False</td>\n",
       "      <td>54.3000</td>\n",
       "      <td>0</td>\n",
       "      <td>Санкт-Петербург</td>\n",
       "      <td>23604.0</td>\n",
       "      <td>5294.0</td>\n",
       "      <td>0.0</td>\n",
       "      <td>NaN</td>\n",
       "      <td>1.0</td>\n",
       "      <td>434.0</td>\n",
       "      <td>719.0</td>\n",
       "    </tr>\n",
       "    <tr>\n",
       "      <th>14900</th>\n",
       "      <td>20</td>\n",
       "      <td>25900000.0</td>\n",
       "      <td>125.6</td>\n",
       "      <td>2018-08-14T00:00:00</td>\n",
       "      <td>2</td>\n",
       "      <td>4.00</td>\n",
       "      <td>4.0</td>\n",
       "      <td>42.700000</td>\n",
       "      <td>4</td>\n",
       "      <td>False</td>\n",
       "      <td>False</td>\n",
       "      <td>False</td>\n",
       "      <td>62.5000</td>\n",
       "      <td>2</td>\n",
       "      <td>Пушкин</td>\n",
       "      <td>13426.0</td>\n",
       "      <td>25580.0</td>\n",
       "      <td>0.0</td>\n",
       "      <td>NaN</td>\n",
       "      <td>0.0</td>\n",
       "      <td>NaN</td>\n",
       "      <td>194.0</td>\n",
       "    </tr>\n",
       "    <tr>\n",
       "      <th>15016</th>\n",
       "      <td>8</td>\n",
       "      <td>150000000.0</td>\n",
       "      <td>500.0</td>\n",
       "      <td>2016-01-13T00:00:00</td>\n",
       "      <td>4</td>\n",
       "      <td>3.20</td>\n",
       "      <td>7.0</td>\n",
       "      <td>288.461538</td>\n",
       "      <td>7</td>\n",
       "      <td>False</td>\n",
       "      <td>False</td>\n",
       "      <td>False</td>\n",
       "      <td>87.5000</td>\n",
       "      <td>0</td>\n",
       "      <td>Санкт-Петербург</td>\n",
       "      <td>33058.0</td>\n",
       "      <td>6150.0</td>\n",
       "      <td>3.0</td>\n",
       "      <td>209.0</td>\n",
       "      <td>3.0</td>\n",
       "      <td>531.0</td>\n",
       "      <td>303.0</td>\n",
       "    </tr>\n",
       "    <tr>\n",
       "      <th>15651</th>\n",
       "      <td>20</td>\n",
       "      <td>300000000.0</td>\n",
       "      <td>618.0</td>\n",
       "      <td>2017-12-18T00:00:00</td>\n",
       "      <td>7</td>\n",
       "      <td>3.40</td>\n",
       "      <td>7.0</td>\n",
       "      <td>258.000000</td>\n",
       "      <td>5</td>\n",
       "      <td>False</td>\n",
       "      <td>False</td>\n",
       "      <td>False</td>\n",
       "      <td>70.0000</td>\n",
       "      <td>0</td>\n",
       "      <td>Санкт-Петербург</td>\n",
       "      <td>32440.0</td>\n",
       "      <td>5297.0</td>\n",
       "      <td>0.0</td>\n",
       "      <td>NaN</td>\n",
       "      <td>2.0</td>\n",
       "      <td>198.0</td>\n",
       "      <td>111.0</td>\n",
       "    </tr>\n",
       "    <tr>\n",
       "      <th>15780</th>\n",
       "      <td>9</td>\n",
       "      <td>12990000.0</td>\n",
       "      <td>119.6</td>\n",
       "      <td>2017-03-13T00:00:00</td>\n",
       "      <td>3</td>\n",
       "      <td>3.00</td>\n",
       "      <td>5.0</td>\n",
       "      <td>36.400000</td>\n",
       "      <td>4</td>\n",
       "      <td>False</td>\n",
       "      <td>False</td>\n",
       "      <td>False</td>\n",
       "      <td>64.0000</td>\n",
       "      <td>4</td>\n",
       "      <td>Пушкин</td>\n",
       "      <td>18616.0</td>\n",
       "      <td>30770.0</td>\n",
       "      <td>1.0</td>\n",
       "      <td>569.0</td>\n",
       "      <td>0.0</td>\n",
       "      <td>NaN</td>\n",
       "      <td>NaN</td>\n",
       "    </tr>\n",
       "    <tr>\n",
       "      <th>16239</th>\n",
       "      <td>5</td>\n",
       "      <td>82400000.0</td>\n",
       "      <td>181.1</td>\n",
       "      <td>2017-05-24T00:00:00</td>\n",
       "      <td>3</td>\n",
       "      <td>3.90</td>\n",
       "      <td>9.0</td>\n",
       "      <td>58.200000</td>\n",
       "      <td>4</td>\n",
       "      <td>False</td>\n",
       "      <td>False</td>\n",
       "      <td>False</td>\n",
       "      <td>93.2000</td>\n",
       "      <td>0</td>\n",
       "      <td>Санкт-Петербург</td>\n",
       "      <td>25525.0</td>\n",
       "      <td>5845.0</td>\n",
       "      <td>2.0</td>\n",
       "      <td>116.0</td>\n",
       "      <td>0.0</td>\n",
       "      <td>NaN</td>\n",
       "      <td>501.0</td>\n",
       "    </tr>\n",
       "    <tr>\n",
       "      <th>16647</th>\n",
       "      <td>15</td>\n",
       "      <td>122000000.0</td>\n",
       "      <td>145.0</td>\n",
       "      <td>2017-04-25T00:00:00</td>\n",
       "      <td>3</td>\n",
       "      <td>3.30</td>\n",
       "      <td>6.0</td>\n",
       "      <td>36.000000</td>\n",
       "      <td>2</td>\n",
       "      <td>False</td>\n",
       "      <td>False</td>\n",
       "      <td>False</td>\n",
       "      <td>72.0000</td>\n",
       "      <td>0</td>\n",
       "      <td>Санкт-Петербург</td>\n",
       "      <td>33931.0</td>\n",
       "      <td>7023.0</td>\n",
       "      <td>2.0</td>\n",
       "      <td>478.0</td>\n",
       "      <td>3.0</td>\n",
       "      <td>250.0</td>\n",
       "      <td>335.0</td>\n",
       "    </tr>\n",
       "    <tr>\n",
       "      <th>16797</th>\n",
       "      <td>9</td>\n",
       "      <td>65850000.0</td>\n",
       "      <td>146.0</td>\n",
       "      <td>2017-07-14T00:00:00</td>\n",
       "      <td>2</td>\n",
       "      <td>2.65</td>\n",
       "      <td>9.0</td>\n",
       "      <td>40.000000</td>\n",
       "      <td>3</td>\n",
       "      <td>False</td>\n",
       "      <td>False</td>\n",
       "      <td>False</td>\n",
       "      <td>93.0000</td>\n",
       "      <td>0</td>\n",
       "      <td>Санкт-Петербург</td>\n",
       "      <td>25525.0</td>\n",
       "      <td>5845.0</td>\n",
       "      <td>2.0</td>\n",
       "      <td>116.0</td>\n",
       "      <td>0.0</td>\n",
       "      <td>NaN</td>\n",
       "      <td>77.0</td>\n",
       "    </tr>\n",
       "    <tr>\n",
       "      <th>16964</th>\n",
       "      <td>15</td>\n",
       "      <td>16500000.0</td>\n",
       "      <td>101.3</td>\n",
       "      <td>2017-12-18T00:00:00</td>\n",
       "      <td>3</td>\n",
       "      <td>2.80</td>\n",
       "      <td>18.0</td>\n",
       "      <td>32.900000</td>\n",
       "      <td>10</td>\n",
       "      <td>False</td>\n",
       "      <td>False</td>\n",
       "      <td>False</td>\n",
       "      <td>55.7000</td>\n",
       "      <td>0</td>\n",
       "      <td>Санкт-Петербург</td>\n",
       "      <td>30766.0</td>\n",
       "      <td>8059.0</td>\n",
       "      <td>0.0</td>\n",
       "      <td>NaN</td>\n",
       "      <td>1.0</td>\n",
       "      <td>213.0</td>\n",
       "      <td>442.0</td>\n",
       "    </tr>\n",
       "    <tr>\n",
       "      <th>17038</th>\n",
       "      <td>11</td>\n",
       "      <td>41900000.0</td>\n",
       "      <td>170.0</td>\n",
       "      <td>2018-02-26T00:00:00</td>\n",
       "      <td>4</td>\n",
       "      <td>2.65</td>\n",
       "      <td>9.0</td>\n",
       "      <td>62.000000</td>\n",
       "      <td>4</td>\n",
       "      <td>False</td>\n",
       "      <td>False</td>\n",
       "      <td>False</td>\n",
       "      <td>56.0000</td>\n",
       "      <td>2</td>\n",
       "      <td>Санкт-Петербург</td>\n",
       "      <td>26055.0</td>\n",
       "      <td>4800.0</td>\n",
       "      <td>1.0</td>\n",
       "      <td>648.0</td>\n",
       "      <td>1.0</td>\n",
       "      <td>779.0</td>\n",
       "      <td>120.0</td>\n",
       "    </tr>\n",
       "    <tr>\n",
       "      <th>17563</th>\n",
       "      <td>6</td>\n",
       "      <td>24500000.0</td>\n",
       "      <td>167.5</td>\n",
       "      <td>2017-10-07T00:00:00</td>\n",
       "      <td>3</td>\n",
       "      <td>2.65</td>\n",
       "      <td>6.0</td>\n",
       "      <td>83.600000</td>\n",
       "      <td>6</td>\n",
       "      <td>False</td>\n",
       "      <td>False</td>\n",
       "      <td>False</td>\n",
       "      <td>54.2000</td>\n",
       "      <td>1</td>\n",
       "      <td>Санкт-Петербург</td>\n",
       "      <td>24126.0</td>\n",
       "      <td>2291.0</td>\n",
       "      <td>2.0</td>\n",
       "      <td>305.0</td>\n",
       "      <td>3.0</td>\n",
       "      <td>329.0</td>\n",
       "      <td>72.0</td>\n",
       "    </tr>\n",
       "    <tr>\n",
       "      <th>17912</th>\n",
       "      <td>17</td>\n",
       "      <td>135000000.0</td>\n",
       "      <td>166.0</td>\n",
       "      <td>2019-02-07T00:00:00</td>\n",
       "      <td>3</td>\n",
       "      <td>3.30</td>\n",
       "      <td>7.0</td>\n",
       "      <td>52.000000</td>\n",
       "      <td>1</td>\n",
       "      <td>False</td>\n",
       "      <td>False</td>\n",
       "      <td>False</td>\n",
       "      <td>64.0000</td>\n",
       "      <td>0</td>\n",
       "      <td>Санкт-Петербург</td>\n",
       "      <td>32863.0</td>\n",
       "      <td>5955.0</td>\n",
       "      <td>2.0</td>\n",
       "      <td>230.0</td>\n",
       "      <td>3.0</td>\n",
       "      <td>215.0</td>\n",
       "      <td>NaN</td>\n",
       "    </tr>\n",
       "    <tr>\n",
       "      <th>18447</th>\n",
       "      <td>17</td>\n",
       "      <td>21800000.0</td>\n",
       "      <td>187.0</td>\n",
       "      <td>2018-01-14T00:00:00</td>\n",
       "      <td>5</td>\n",
       "      <td>2.65</td>\n",
       "      <td>4.0</td>\n",
       "      <td>120.000000</td>\n",
       "      <td>4</td>\n",
       "      <td>False</td>\n",
       "      <td>False</td>\n",
       "      <td>False</td>\n",
       "      <td>65.0000</td>\n",
       "      <td>0</td>\n",
       "      <td>Санкт-Петербург</td>\n",
       "      <td>43758.0</td>\n",
       "      <td>15461.0</td>\n",
       "      <td>1.0</td>\n",
       "      <td>756.0</td>\n",
       "      <td>2.0</td>\n",
       "      <td>278.0</td>\n",
       "      <td>NaN</td>\n",
       "    </tr>\n",
       "    <tr>\n",
       "      <th>19130</th>\n",
       "      <td>11</td>\n",
       "      <td>40000000.0</td>\n",
       "      <td>153.0</td>\n",
       "      <td>2017-09-02T00:00:00</td>\n",
       "      <td>3</td>\n",
       "      <td>3.30</td>\n",
       "      <td>10.0</td>\n",
       "      <td>45.200000</td>\n",
       "      <td>7</td>\n",
       "      <td>False</td>\n",
       "      <td>False</td>\n",
       "      <td>False</td>\n",
       "      <td>63.0000</td>\n",
       "      <td>2</td>\n",
       "      <td>Санкт-Петербург</td>\n",
       "      <td>NaN</td>\n",
       "      <td>NaN</td>\n",
       "      <td>NaN</td>\n",
       "      <td>NaN</td>\n",
       "      <td>NaN</td>\n",
       "      <td>NaN</td>\n",
       "      <td>455.0</td>\n",
       "    </tr>\n",
       "    <tr>\n",
       "      <th>19382</th>\n",
       "      <td>9</td>\n",
       "      <td>20786000.0</td>\n",
       "      <td>109.0</td>\n",
       "      <td>2018-07-16T00:00:00</td>\n",
       "      <td>2</td>\n",
       "      <td>3.00</td>\n",
       "      <td>7.0</td>\n",
       "      <td>62.884615</td>\n",
       "      <td>4</td>\n",
       "      <td>False</td>\n",
       "      <td>False</td>\n",
       "      <td>False</td>\n",
       "      <td>53.0000</td>\n",
       "      <td>0</td>\n",
       "      <td>Санкт-Петербург</td>\n",
       "      <td>24283.0</td>\n",
       "      <td>4850.0</td>\n",
       "      <td>2.0</td>\n",
       "      <td>335.0</td>\n",
       "      <td>0.0</td>\n",
       "      <td>NaN</td>\n",
       "      <td>5.0</td>\n",
       "    </tr>\n",
       "    <tr>\n",
       "      <th>19392</th>\n",
       "      <td>5</td>\n",
       "      <td>71000000.0</td>\n",
       "      <td>371.0</td>\n",
       "      <td>2018-07-26T00:00:00</td>\n",
       "      <td>1</td>\n",
       "      <td>3.57</td>\n",
       "      <td>7.0</td>\n",
       "      <td>214.038462</td>\n",
       "      <td>6</td>\n",
       "      <td>False</td>\n",
       "      <td>False</td>\n",
       "      <td>True</td>\n",
       "      <td>64.9250</td>\n",
       "      <td>0</td>\n",
       "      <td>Санкт-Петербург</td>\n",
       "      <td>25257.0</td>\n",
       "      <td>6060.0</td>\n",
       "      <td>1.0</td>\n",
       "      <td>761.0</td>\n",
       "      <td>1.0</td>\n",
       "      <td>584.0</td>\n",
       "      <td>90.0</td>\n",
       "    </tr>\n",
       "    <tr>\n",
       "      <th>19499</th>\n",
       "      <td>10</td>\n",
       "      <td>8000000.0</td>\n",
       "      <td>118.0</td>\n",
       "      <td>2017-08-31T00:00:00</td>\n",
       "      <td>3</td>\n",
       "      <td>3.00</td>\n",
       "      <td>5.0</td>\n",
       "      <td>36.000000</td>\n",
       "      <td>4</td>\n",
       "      <td>False</td>\n",
       "      <td>False</td>\n",
       "      <td>False</td>\n",
       "      <td>64.0000</td>\n",
       "      <td>4</td>\n",
       "      <td>Пушкин</td>\n",
       "      <td>18616.0</td>\n",
       "      <td>30770.0</td>\n",
       "      <td>1.0</td>\n",
       "      <td>569.0</td>\n",
       "      <td>0.0</td>\n",
       "      <td>NaN</td>\n",
       "      <td>7.0</td>\n",
       "    </tr>\n",
       "    <tr>\n",
       "      <th>19540</th>\n",
       "      <td>8</td>\n",
       "      <td>420000000.0</td>\n",
       "      <td>900.0</td>\n",
       "      <td>2017-12-06T00:00:00</td>\n",
       "      <td>12</td>\n",
       "      <td>2.80</td>\n",
       "      <td>25.0</td>\n",
       "      <td>409.700000</td>\n",
       "      <td>25</td>\n",
       "      <td>False</td>\n",
       "      <td>False</td>\n",
       "      <td>False</td>\n",
       "      <td>112.0000</td>\n",
       "      <td>0</td>\n",
       "      <td>Санкт-Петербург</td>\n",
       "      <td>30706.0</td>\n",
       "      <td>7877.0</td>\n",
       "      <td>0.0</td>\n",
       "      <td>NaN</td>\n",
       "      <td>2.0</td>\n",
       "      <td>318.0</td>\n",
       "      <td>106.0</td>\n",
       "    </tr>\n",
       "    <tr>\n",
       "      <th>19977</th>\n",
       "      <td>16</td>\n",
       "      <td>33000000.0</td>\n",
       "      <td>283.3</td>\n",
       "      <td>2018-03-28T00:00:00</td>\n",
       "      <td>5</td>\n",
       "      <td>2.65</td>\n",
       "      <td>3.0</td>\n",
       "      <td>99.000000</td>\n",
       "      <td>3</td>\n",
       "      <td>False</td>\n",
       "      <td>False</td>\n",
       "      <td>False</td>\n",
       "      <td>54.0000</td>\n",
       "      <td>0</td>\n",
       "      <td>Санкт-Петербург</td>\n",
       "      <td>38746.0</td>\n",
       "      <td>13644.0</td>\n",
       "      <td>0.0</td>\n",
       "      <td>NaN</td>\n",
       "      <td>0.0</td>\n",
       "      <td>NaN</td>\n",
       "      <td>90.0</td>\n",
       "    </tr>\n",
       "    <tr>\n",
       "      <th>20215</th>\n",
       "      <td>2</td>\n",
       "      <td>85000000.0</td>\n",
       "      <td>249.7</td>\n",
       "      <td>2018-02-01T00:00:00</td>\n",
       "      <td>3</td>\n",
       "      <td>2.65</td>\n",
       "      <td>10.0</td>\n",
       "      <td>72.000000</td>\n",
       "      <td>9</td>\n",
       "      <td>False</td>\n",
       "      <td>False</td>\n",
       "      <td>False</td>\n",
       "      <td>107.0000</td>\n",
       "      <td>4</td>\n",
       "      <td>Санкт-Петербург</td>\n",
       "      <td>31532.0</td>\n",
       "      <td>4624.0</td>\n",
       "      <td>1.0</td>\n",
       "      <td>2218.0</td>\n",
       "      <td>2.0</td>\n",
       "      <td>99.0</td>\n",
       "      <td>26.0</td>\n",
       "    </tr>\n",
       "    <tr>\n",
       "      <th>20273</th>\n",
       "      <td>12</td>\n",
       "      <td>20000000.0</td>\n",
       "      <td>460.8</td>\n",
       "      <td>2019-03-20T00:00:00</td>\n",
       "      <td>6</td>\n",
       "      <td>3.10</td>\n",
       "      <td>3.0</td>\n",
       "      <td>279.600000</td>\n",
       "      <td>1</td>\n",
       "      <td>False</td>\n",
       "      <td>False</td>\n",
       "      <td>False</td>\n",
       "      <td>55.5000</td>\n",
       "      <td>0</td>\n",
       "      <td>Санкт-Петербург</td>\n",
       "      <td>43756.0</td>\n",
       "      <td>15459.0</td>\n",
       "      <td>1.0</td>\n",
       "      <td>852.0</td>\n",
       "      <td>3.0</td>\n",
       "      <td>122.0</td>\n",
       "      <td>21.0</td>\n",
       "    </tr>\n",
       "    <tr>\n",
       "      <th>20314</th>\n",
       "      <td>8</td>\n",
       "      <td>42000000.0</td>\n",
       "      <td>374.0</td>\n",
       "      <td>2017-04-09T00:00:00</td>\n",
       "      <td>7</td>\n",
       "      <td>2.65</td>\n",
       "      <td>4.0</td>\n",
       "      <td>239.400000</td>\n",
       "      <td>3</td>\n",
       "      <td>False</td>\n",
       "      <td>False</td>\n",
       "      <td>False</td>\n",
       "      <td>51.0000</td>\n",
       "      <td>0</td>\n",
       "      <td>Пушкин</td>\n",
       "      <td>15595.0</td>\n",
       "      <td>27749.0</td>\n",
       "      <td>3.0</td>\n",
       "      <td>62.0</td>\n",
       "      <td>3.0</td>\n",
       "      <td>274.0</td>\n",
       "      <td>9.0</td>\n",
       "    </tr>\n",
       "    <tr>\n",
       "      <th>20499</th>\n",
       "      <td>15</td>\n",
       "      <td>20950000.0</td>\n",
       "      <td>152.0</td>\n",
       "      <td>2017-02-07T00:00:00</td>\n",
       "      <td>4</td>\n",
       "      <td>3.30</td>\n",
       "      <td>4.0</td>\n",
       "      <td>70.000000</td>\n",
       "      <td>4</td>\n",
       "      <td>False</td>\n",
       "      <td>False</td>\n",
       "      <td>False</td>\n",
       "      <td>53.0000</td>\n",
       "      <td>0</td>\n",
       "      <td>Санкт-Петербург</td>\n",
       "      <td>24777.0</td>\n",
       "      <td>4344.0</td>\n",
       "      <td>1.0</td>\n",
       "      <td>633.0</td>\n",
       "      <td>0.0</td>\n",
       "      <td>NaN</td>\n",
       "      <td>298.0</td>\n",
       "    </tr>\n",
       "    <tr>\n",
       "      <th>20636</th>\n",
       "      <td>10</td>\n",
       "      <td>13500000.0</td>\n",
       "      <td>135.0</td>\n",
       "      <td>2017-08-19T00:00:00</td>\n",
       "      <td>3</td>\n",
       "      <td>3.00</td>\n",
       "      <td>12.0</td>\n",
       "      <td>52.400000</td>\n",
       "      <td>11</td>\n",
       "      <td>False</td>\n",
       "      <td>False</td>\n",
       "      <td>False</td>\n",
       "      <td>50.2000</td>\n",
       "      <td>1</td>\n",
       "      <td>Санкт-Петербург</td>\n",
       "      <td>16285.0</td>\n",
       "      <td>6303.0</td>\n",
       "      <td>1.0</td>\n",
       "      <td>156.0</td>\n",
       "      <td>0.0</td>\n",
       "      <td>NaN</td>\n",
       "      <td>101.0</td>\n",
       "    </tr>\n",
       "    <tr>\n",
       "      <th>20871</th>\n",
       "      <td>19</td>\n",
       "      <td>21500000.0</td>\n",
       "      <td>140.0</td>\n",
       "      <td>2018-10-01T00:00:00</td>\n",
       "      <td>4</td>\n",
       "      <td>3.00</td>\n",
       "      <td>4.0</td>\n",
       "      <td>70.000000</td>\n",
       "      <td>3</td>\n",
       "      <td>False</td>\n",
       "      <td>False</td>\n",
       "      <td>False</td>\n",
       "      <td>58.0000</td>\n",
       "      <td>0</td>\n",
       "      <td>Санкт-Петербург</td>\n",
       "      <td>38332.0</td>\n",
       "      <td>13229.0</td>\n",
       "      <td>0.0</td>\n",
       "      <td>NaN</td>\n",
       "      <td>1.0</td>\n",
       "      <td>840.0</td>\n",
       "      <td>NaN</td>\n",
       "    </tr>\n",
       "    <tr>\n",
       "      <th>22131</th>\n",
       "      <td>14</td>\n",
       "      <td>27000000.0</td>\n",
       "      <td>422.2</td>\n",
       "      <td>2018-10-18T00:00:00</td>\n",
       "      <td>5</td>\n",
       "      <td>2.70</td>\n",
       "      <td>13.0</td>\n",
       "      <td>243.576923</td>\n",
       "      <td>11</td>\n",
       "      <td>False</td>\n",
       "      <td>False</td>\n",
       "      <td>False</td>\n",
       "      <td>73.8850</td>\n",
       "      <td>0</td>\n",
       "      <td>Санкт-Петербург</td>\n",
       "      <td>46625.0</td>\n",
       "      <td>16554.0</td>\n",
       "      <td>0.0</td>\n",
       "      <td>NaN</td>\n",
       "      <td>0.0</td>\n",
       "      <td>NaN</td>\n",
       "      <td>NaN</td>\n",
       "    </tr>\n",
       "    <tr>\n",
       "      <th>22980</th>\n",
       "      <td>19</td>\n",
       "      <td>24500000.0</td>\n",
       "      <td>155.4</td>\n",
       "      <td>2017-10-10T00:00:00</td>\n",
       "      <td>3</td>\n",
       "      <td>3.00</td>\n",
       "      <td>4.0</td>\n",
       "      <td>72.000000</td>\n",
       "      <td>2</td>\n",
       "      <td>False</td>\n",
       "      <td>False</td>\n",
       "      <td>False</td>\n",
       "      <td>65.0000</td>\n",
       "      <td>0</td>\n",
       "      <td>Санкт-Петербург</td>\n",
       "      <td>43758.0</td>\n",
       "      <td>15461.0</td>\n",
       "      <td>1.0</td>\n",
       "      <td>756.0</td>\n",
       "      <td>2.0</td>\n",
       "      <td>278.0</td>\n",
       "      <td>325.0</td>\n",
       "    </tr>\n",
       "  </tbody>\n",
       "</table>\n",
       "</div>"
      ],
      "text/plain": [
       "       total_images   last_price  total_area first_day_exposition  rooms  \\\n",
       "155               8   96000000.0       317.0  2017-07-07T00:00:00      4   \n",
       "492              18   95000000.0       216.0  2017-12-05T00:00:00      4   \n",
       "581              20   65000000.0       365.0  2019-03-18T00:00:00      7   \n",
       "1026             20  155000000.0       310.0  2018-10-12T00:00:00      5   \n",
       "1085             16   75000000.0       323.0  2017-07-10T00:00:00      5   \n",
       "1388             20   59800000.0       399.0  2015-01-21T00:00:00      5   \n",
       "2243              9  130278280.0       304.0  2015-07-24T00:00:00      5   \n",
       "2489              9   12500000.0       255.0  2017-04-21T00:00:00      3   \n",
       "3117             19  140000000.0       631.0  2019-03-30T00:00:00      7   \n",
       "3561              5   12300000.0       115.0  2017-08-09T00:00:00      3   \n",
       "4320             20   19700000.0       146.3  2017-02-10T00:00:00      3   \n",
       "4394             20   57000000.0       174.0  2015-11-09T00:00:00      3   \n",
       "5358             20   65000000.0       590.0  2019-02-14T00:00:00     15   \n",
       "5873              0   38000000.0       400.0  2019-03-15T00:00:00      7   \n",
       "6021             19   16830000.0       117.4  2019-04-04T00:00:00      2   \n",
       "6193             19   24300000.0       230.0  2016-06-03T00:00:00      4   \n",
       "7543             20  130000000.0       307.8  2016-04-24T00:00:00      5   \n",
       "7674             20  131000000.0       380.0  2016-09-23T00:00:00      5   \n",
       "8261             20   36000000.0       123.2  2018-01-14T00:00:00      1   \n",
       "8559             20   48000000.0       203.3  2017-11-20T00:00:00      7   \n",
       "8709             19   24500000.0       105.0  2017-04-20T00:00:00      2   \n",
       "9826              1   43185328.0       494.1  2017-05-12T00:00:00      1   \n",
       "10181             9   35000000.0       295.0  2017-12-16T00:00:00      4   \n",
       "10684             6   32894076.0       364.7  2019-05-02T00:00:00      7   \n",
       "10789            20   38900000.0       151.6  2018-03-06T00:00:00      4   \n",
       "10867             1   56844500.0       177.9  2015-01-15T00:00:00      3   \n",
       "11436             4   24000000.0       316.3  2015-03-25T00:00:00      8   \n",
       "11723            18   32500000.0       127.1  2015-01-15T00:00:00      3   \n",
       "12971            19  763000000.0       400.0  2017-09-30T00:00:00      7   \n",
       "13139            20   55000000.0       288.0  2017-11-14T00:00:00      5   \n",
       "13845            12   65000000.0       250.0  2014-12-09T00:00:00      5   \n",
       "14088             8   51000000.0       402.0  2017-02-07T00:00:00      6   \n",
       "14644            17   47000000.0       150.0  2017-02-28T00:00:00      4   \n",
       "14794            18   76837000.0       222.6  2015-01-21T00:00:00      4   \n",
       "14900            20   25900000.0       125.6  2018-08-14T00:00:00      2   \n",
       "15016             8  150000000.0       500.0  2016-01-13T00:00:00      4   \n",
       "15651            20  300000000.0       618.0  2017-12-18T00:00:00      7   \n",
       "15780             9   12990000.0       119.6  2017-03-13T00:00:00      3   \n",
       "16239             5   82400000.0       181.1  2017-05-24T00:00:00      3   \n",
       "16647            15  122000000.0       145.0  2017-04-25T00:00:00      3   \n",
       "16797             9   65850000.0       146.0  2017-07-14T00:00:00      2   \n",
       "16964            15   16500000.0       101.3  2017-12-18T00:00:00      3   \n",
       "17038            11   41900000.0       170.0  2018-02-26T00:00:00      4   \n",
       "17563             6   24500000.0       167.5  2017-10-07T00:00:00      3   \n",
       "17912            17  135000000.0       166.0  2019-02-07T00:00:00      3   \n",
       "18447            17   21800000.0       187.0  2018-01-14T00:00:00      5   \n",
       "19130            11   40000000.0       153.0  2017-09-02T00:00:00      3   \n",
       "19382             9   20786000.0       109.0  2018-07-16T00:00:00      2   \n",
       "19392             5   71000000.0       371.0  2018-07-26T00:00:00      1   \n",
       "19499            10    8000000.0       118.0  2017-08-31T00:00:00      3   \n",
       "19540             8  420000000.0       900.0  2017-12-06T00:00:00     12   \n",
       "19977            16   33000000.0       283.3  2018-03-28T00:00:00      5   \n",
       "20215             2   85000000.0       249.7  2018-02-01T00:00:00      3   \n",
       "20273            12   20000000.0       460.8  2019-03-20T00:00:00      6   \n",
       "20314             8   42000000.0       374.0  2017-04-09T00:00:00      7   \n",
       "20499            15   20950000.0       152.0  2017-02-07T00:00:00      4   \n",
       "20636            10   13500000.0       135.0  2017-08-19T00:00:00      3   \n",
       "20871            19   21500000.0       140.0  2018-10-01T00:00:00      4   \n",
       "22131            14   27000000.0       422.2  2018-10-18T00:00:00      5   \n",
       "22980            19   24500000.0       155.4  2017-10-10T00:00:00      3   \n",
       "\n",
       "       ceiling_height  floors_total  living_area  floor  is_apartment  \\\n",
       "155              3.50           3.0   183.000000      3         False   \n",
       "492              3.00           5.0    86.000000      4         False   \n",
       "581              2.90           7.0   210.576923      7         False   \n",
       "1026             2.50           3.0   190.000000      3         False   \n",
       "1085             4.00           5.0   255.700000      4         False   \n",
       "1388             2.50           6.0   230.192308      6         False   \n",
       "2243             3.11           9.0   175.384615      7         False   \n",
       "2489             2.65           2.0   153.900000      2         False   \n",
       "3117             2.65           5.0   364.038462      5         False   \n",
       "3561             2.70          20.0    45.000000     16         False   \n",
       "4320             3.40           6.0    55.800000      6         False   \n",
       "4394             3.20          10.0    95.000000      6         False   \n",
       "5358             3.50           6.0   409.000000      3         False   \n",
       "5873             3.60           3.0   230.769231      1         False   \n",
       "6021             2.75          16.0    33.400000     13         False   \n",
       "6193             2.65           3.0    90.000000      2         False   \n",
       "7543             2.65           4.0   187.900000      3         False   \n",
       "7674             3.90           6.0   150.000000      4         False   \n",
       "8261             3.00          14.0    31.200000      7         False   \n",
       "8559             3.30           6.0   104.200000      3         False   \n",
       "8709             3.20           6.0    31.100000      2         False   \n",
       "9826             2.85          12.0   285.057692      3         False   \n",
       "10181            2.65           5.0   170.192308      4         False   \n",
       "10684            3.32           3.0   210.403846      1         False   \n",
       "10789            2.65           9.0    63.310000      5         False   \n",
       "10867            2.65           6.0    87.200000      5          True   \n",
       "11436            2.65           5.0   187.000000      5         False   \n",
       "11723            3.40           6.0    56.200000      2         False   \n",
       "12971            2.65          10.0   250.000000     10         False   \n",
       "13139            3.51           6.0   100.700000      2         False   \n",
       "13845            3.10           5.0   167.000000      5         False   \n",
       "14088            3.15           8.0   300.000000      6         False   \n",
       "14644            3.70           6.0    58.000000      5         False   \n",
       "14794            4.00           5.0   126.400000      4         False   \n",
       "14900            4.00           4.0    42.700000      4         False   \n",
       "15016            3.20           7.0   288.461538      7         False   \n",
       "15651            3.40           7.0   258.000000      5         False   \n",
       "15780            3.00           5.0    36.400000      4         False   \n",
       "16239            3.90           9.0    58.200000      4         False   \n",
       "16647            3.30           6.0    36.000000      2         False   \n",
       "16797            2.65           9.0    40.000000      3         False   \n",
       "16964            2.80          18.0    32.900000     10         False   \n",
       "17038            2.65           9.0    62.000000      4         False   \n",
       "17563            2.65           6.0    83.600000      6         False   \n",
       "17912            3.30           7.0    52.000000      1         False   \n",
       "18447            2.65           4.0   120.000000      4         False   \n",
       "19130            3.30          10.0    45.200000      7         False   \n",
       "19382            3.00           7.0    62.884615      4         False   \n",
       "19392            3.57           7.0   214.038462      6         False   \n",
       "19499            3.00           5.0    36.000000      4         False   \n",
       "19540            2.80          25.0   409.700000     25         False   \n",
       "19977            2.65           3.0    99.000000      3         False   \n",
       "20215            2.65          10.0    72.000000      9         False   \n",
       "20273            3.10           3.0   279.600000      1         False   \n",
       "20314            2.65           4.0   239.400000      3         False   \n",
       "20499            3.30           4.0    70.000000      4         False   \n",
       "20636            3.00          12.0    52.400000     11         False   \n",
       "20871            3.00           4.0    70.000000      3         False   \n",
       "22131            2.70          13.0   243.576923     11         False   \n",
       "22980            3.00           4.0    72.000000      2         False   \n",
       "\n",
       "       is_studio  is_open_plan  kitchen_area  balcony    locality_name  \\\n",
       "155        False         False       55.4750        1  Санкт-Петербург   \n",
       "492        False         False       77.0000        0  Санкт-Петербург   \n",
       "581        False         False       63.8750        0  Санкт-Петербург   \n",
       "1026       False         False       63.0000        2  Санкт-Петербург   \n",
       "1085       False         False       66.0000        0  Санкт-Петербург   \n",
       "1388       False         False       69.8250        0  Санкт-Петербург   \n",
       "2243       False         False       53.2000        0  Санкт-Петербург   \n",
       "2489       False         False      100.7000        0  Санкт-Петербург   \n",
       "3117       False         False       60.0000        0  Санкт-Петербург   \n",
       "3561       False         False       60.0000        1  Санкт-Петербург   \n",
       "4320       False         False       56.2000        0  Санкт-Петербург   \n",
       "4394       False         False       77.0000        0  Санкт-Петербург   \n",
       "5358       False         False      100.0000        0  Санкт-Петербург   \n",
       "5873       False         False       70.0000        0  Санкт-Петербург   \n",
       "6021       False         False       51.0000        2  Санкт-Петербург   \n",
       "6193       False         False       70.0000        0  Санкт-Петербург   \n",
       "7543       False         False       63.4000        0  Санкт-Петербург   \n",
       "7674       False         False       66.5000        1  Санкт-Петербург   \n",
       "8261       False         False       58.4000        1  Санкт-Петербург   \n",
       "8559       False         False       53.1000        0  Санкт-Петербург   \n",
       "8709       False         False       51.0000        0  Санкт-Петербург   \n",
       "9826       False         False       86.4675        0  Санкт-Петербург   \n",
       "10181      False         False       51.6250        0  Санкт-Петербург   \n",
       "10684      False         False       63.8225        5  Санкт-Петербург   \n",
       "10789      False         False       56.0000        0  Санкт-Петербург   \n",
       "10867      False         False       87.2000        0  Санкт-Петербург   \n",
       "11436      False         False       55.3525        0  Санкт-Петербург   \n",
       "11723      False         False       51.8000        0  Санкт-Петербург   \n",
       "12971      False         False       70.0000        2  Санкт-Петербург   \n",
       "13139      False         False       62.0000        0  Санкт-Петербург   \n",
       "13845      False         False       60.0000        1  Санкт-Петербург   \n",
       "14088      False         False       56.0000        2  Санкт-Петербург   \n",
       "14644      False         False       75.0000        1  Санкт-Петербург   \n",
       "14794      False         False       54.3000        0  Санкт-Петербург   \n",
       "14900      False         False       62.5000        2           Пушкин   \n",
       "15016      False         False       87.5000        0  Санкт-Петербург   \n",
       "15651      False         False       70.0000        0  Санкт-Петербург   \n",
       "15780      False         False       64.0000        4           Пушкин   \n",
       "16239      False         False       93.2000        0  Санкт-Петербург   \n",
       "16647      False         False       72.0000        0  Санкт-Петербург   \n",
       "16797      False         False       93.0000        0  Санкт-Петербург   \n",
       "16964      False         False       55.7000        0  Санкт-Петербург   \n",
       "17038      False         False       56.0000        2  Санкт-Петербург   \n",
       "17563      False         False       54.2000        1  Санкт-Петербург   \n",
       "17912      False         False       64.0000        0  Санкт-Петербург   \n",
       "18447      False         False       65.0000        0  Санкт-Петербург   \n",
       "19130      False         False       63.0000        2  Санкт-Петербург   \n",
       "19382      False         False       53.0000        0  Санкт-Петербург   \n",
       "19392      False          True       64.9250        0  Санкт-Петербург   \n",
       "19499      False         False       64.0000        4           Пушкин   \n",
       "19540      False         False      112.0000        0  Санкт-Петербург   \n",
       "19977      False         False       54.0000        0  Санкт-Петербург   \n",
       "20215      False         False      107.0000        4  Санкт-Петербург   \n",
       "20273      False         False       55.5000        0  Санкт-Петербург   \n",
       "20314      False         False       51.0000        0           Пушкин   \n",
       "20499      False         False       53.0000        0  Санкт-Петербург   \n",
       "20636      False         False       50.2000        1  Санкт-Петербург   \n",
       "20871      False         False       58.0000        0  Санкт-Петербург   \n",
       "22131      False         False       73.8850        0  Санкт-Петербург   \n",
       "22980      False         False       65.0000        0  Санкт-Петербург   \n",
       "\n",
       "       airports_nearest  city_centers_nearest  parks_around_3000  \\\n",
       "155             22673.0                1771.0                2.0   \n",
       "492             21740.0                 436.0                2.0   \n",
       "581             19827.0                1690.0                3.0   \n",
       "1026            24899.0                4785.0                0.0   \n",
       "1085            23713.0                 594.0                3.0   \n",
       "1388            26204.0                6934.0                2.0   \n",
       "2243            25593.0                5913.0                2.0   \n",
       "2489            29544.0                6916.0                0.0   \n",
       "3117            25707.0                4972.0                0.0   \n",
       "3561            33386.0               14234.0                0.0   \n",
       "4320            23312.0                2450.0                1.0   \n",
       "4394            31706.0                4166.0                1.0   \n",
       "5358            24447.0                4666.0                1.0   \n",
       "5873            24889.0                5457.0                1.0   \n",
       "6021            51030.0               14721.0                0.0   \n",
       "6193            39422.0               15354.0                0.0   \n",
       "7543            24899.0                4785.0                0.0   \n",
       "7674            25801.0                4504.0                2.0   \n",
       "8261            28098.0                6800.0                2.0   \n",
       "8559            25293.0                3868.0                1.0   \n",
       "8709            24980.0                3310.0                2.0   \n",
       "9826            28529.0                6832.0                1.0   \n",
       "10181           26711.0                5559.0                0.0   \n",
       "10684               NaN                   NaN                NaN   \n",
       "10789           26055.0                4800.0                1.0   \n",
       "10867           21860.0                 318.0                2.0   \n",
       "11436           24555.0                5129.0                0.0   \n",
       "11723           21860.0                 318.0                2.0   \n",
       "12971           25108.0                3956.0                1.0   \n",
       "13139           26228.0                4930.0                2.0   \n",
       "13845           23553.0                1862.0                3.0   \n",
       "14088           24484.0                5052.0                1.0   \n",
       "14644           16085.0                7616.0                0.0   \n",
       "14794           23604.0                5294.0                0.0   \n",
       "14900           13426.0               25580.0                0.0   \n",
       "15016           33058.0                6150.0                3.0   \n",
       "15651           32440.0                5297.0                0.0   \n",
       "15780           18616.0               30770.0                1.0   \n",
       "16239           25525.0                5845.0                2.0   \n",
       "16647           33931.0                7023.0                2.0   \n",
       "16797           25525.0                5845.0                2.0   \n",
       "16964           30766.0                8059.0                0.0   \n",
       "17038           26055.0                4800.0                1.0   \n",
       "17563           24126.0                2291.0                2.0   \n",
       "17912           32863.0                5955.0                2.0   \n",
       "18447           43758.0               15461.0                1.0   \n",
       "19130               NaN                   NaN                NaN   \n",
       "19382           24283.0                4850.0                2.0   \n",
       "19392           25257.0                6060.0                1.0   \n",
       "19499           18616.0               30770.0                1.0   \n",
       "19540           30706.0                7877.0                0.0   \n",
       "19977           38746.0               13644.0                0.0   \n",
       "20215           31532.0                4624.0                1.0   \n",
       "20273           43756.0               15459.0                1.0   \n",
       "20314           15595.0               27749.0                3.0   \n",
       "20499           24777.0                4344.0                1.0   \n",
       "20636           16285.0                6303.0                1.0   \n",
       "20871           38332.0               13229.0                0.0   \n",
       "22131           46625.0               16554.0                0.0   \n",
       "22980           43758.0               15461.0                1.0   \n",
       "\n",
       "       parks_nearest  ponds_around_3000  ponds_nearest  days_exposition  \n",
       "155            508.0                3.0          366.0             62.0  \n",
       "492            138.0                3.0          620.0             14.0  \n",
       "581            378.0                3.0           58.0              NaN  \n",
       "1026             NaN                1.0          603.0              NaN  \n",
       "1085           398.0                2.0          515.0            259.0  \n",
       "1388           149.0                2.0          577.0            719.0  \n",
       "2243           164.0                0.0            NaN            599.0  \n",
       "2489             NaN                3.0          198.0            102.0  \n",
       "3117             NaN                2.0          210.0              NaN  \n",
       "3561             NaN                0.0            NaN             63.0  \n",
       "4320           548.0                3.0          883.0            638.0  \n",
       "4394           193.0                3.0          199.0           1039.0  \n",
       "5358           767.0                0.0            NaN             14.0  \n",
       "5873           271.0                0.0            NaN              NaN  \n",
       "6021             NaN                0.0            NaN              NaN  \n",
       "6193             NaN                1.0          345.0            397.0  \n",
       "7543             NaN                1.0          603.0           1094.0  \n",
       "7674           161.0                1.0          635.0            901.0  \n",
       "8261            84.0                3.0          234.0             61.0  \n",
       "8559           341.0                0.0            NaN            146.0  \n",
       "8709           445.0                0.0            NaN            159.0  \n",
       "9826           592.0                0.0            NaN              5.0  \n",
       "10181            NaN                1.0          785.0             90.0  \n",
       "10684            NaN                NaN            NaN              NaN  \n",
       "10789          648.0                1.0          779.0            106.0  \n",
       "10867          160.0                3.0          569.0              NaN  \n",
       "11436            NaN                1.0          934.0            542.0  \n",
       "11723          160.0                3.0          569.0            725.0  \n",
       "12971          530.0                3.0          756.0             33.0  \n",
       "13139          175.0                1.0          682.0            338.0  \n",
       "13845          286.0                3.0          577.0            714.0  \n",
       "14088          253.0                0.0            NaN             32.0  \n",
       "14644            NaN                0.0            NaN            507.0  \n",
       "14794            NaN                1.0          434.0            719.0  \n",
       "14900            NaN                0.0            NaN            194.0  \n",
       "15016          209.0                3.0          531.0            303.0  \n",
       "15651            NaN                2.0          198.0            111.0  \n",
       "15780          569.0                0.0            NaN              NaN  \n",
       "16239          116.0                0.0            NaN            501.0  \n",
       "16647          478.0                3.0          250.0            335.0  \n",
       "16797          116.0                0.0            NaN             77.0  \n",
       "16964            NaN                1.0          213.0            442.0  \n",
       "17038          648.0                1.0          779.0            120.0  \n",
       "17563          305.0                3.0          329.0             72.0  \n",
       "17912          230.0                3.0          215.0              NaN  \n",
       "18447          756.0                2.0          278.0              NaN  \n",
       "19130            NaN                NaN            NaN            455.0  \n",
       "19382          335.0                0.0            NaN              5.0  \n",
       "19392          761.0                1.0          584.0             90.0  \n",
       "19499          569.0                0.0            NaN              7.0  \n",
       "19540            NaN                2.0          318.0            106.0  \n",
       "19977            NaN                0.0            NaN             90.0  \n",
       "20215         2218.0                2.0           99.0             26.0  \n",
       "20273          852.0                3.0          122.0             21.0  \n",
       "20314           62.0                3.0          274.0              9.0  \n",
       "20499          633.0                0.0            NaN            298.0  \n",
       "20636          156.0                0.0            NaN            101.0  \n",
       "20871            NaN                1.0          840.0              NaN  \n",
       "22131            NaN                0.0            NaN              NaN  \n",
       "22980          756.0                2.0          278.0            325.0  "
      ]
     },
     "execution_count": 23,
     "metadata": {},
     "output_type": "execute_result"
    }
   ],
   "source": [
    "data[data['kitchen_area'] > 50]"
   ]
  },
  {
   "cell_type": "markdown",
   "metadata": {},
   "source": [
    "Есть, конечно, большие числа по каждому из столбцов, но они \"бьются\" с большой общей площадью. Оставим, как есть. Округлим площади до двух знаков после запятой."
   ]
  },
  {
   "cell_type": "code",
   "execution_count": 24,
   "metadata": {},
   "outputs": [],
   "source": [
    "data['kitchen_area'] = data['kitchen_area'].round(2)\n",
    "data['living_area'] = data['living_area'].round(2)"
   ]
  },
  {
   "cell_type": "markdown",
   "metadata": {},
   "source": [
    "**locality_name**  \n",
    "Выберем те строки таблицы, где не заполнены данные о населенном пункте, и посмотрим, какое указано расстояние до центра города.\n"
   ]
  },
  {
   "cell_type": "code",
   "execution_count": 25,
   "metadata": {},
   "outputs": [
    {
     "data": {
      "text/html": [
       "<div>\n",
       "<style scoped>\n",
       "    .dataframe tbody tr th:only-of-type {\n",
       "        vertical-align: middle;\n",
       "    }\n",
       "\n",
       "    .dataframe tbody tr th {\n",
       "        vertical-align: top;\n",
       "    }\n",
       "\n",
       "    .dataframe thead th {\n",
       "        text-align: right;\n",
       "    }\n",
       "</style>\n",
       "<table border=\"1\" class=\"dataframe\">\n",
       "  <thead>\n",
       "    <tr style=\"text-align: right;\">\n",
       "      <th></th>\n",
       "      <th>locality_name</th>\n",
       "      <th>city_centers_nearest</th>\n",
       "    </tr>\n",
       "  </thead>\n",
       "  <tbody>\n",
       "    <tr>\n",
       "      <th>21276</th>\n",
       "      <td>NaN</td>\n",
       "      <td>41294.0</td>\n",
       "    </tr>\n",
       "    <tr>\n",
       "      <th>21119</th>\n",
       "      <td>NaN</td>\n",
       "      <td>31897.0</td>\n",
       "    </tr>\n",
       "    <tr>\n",
       "      <th>8986</th>\n",
       "      <td>NaN</td>\n",
       "      <td>31813.0</td>\n",
       "    </tr>\n",
       "    <tr>\n",
       "      <th>13690</th>\n",
       "      <td>NaN</td>\n",
       "      <td>23659.0</td>\n",
       "    </tr>\n",
       "    <tr>\n",
       "      <th>6765</th>\n",
       "      <td>NaN</td>\n",
       "      <td>17369.0</td>\n",
       "    </tr>\n",
       "    <tr>\n",
       "      <th>14273</th>\n",
       "      <td>NaN</td>\n",
       "      <td>17369.0</td>\n",
       "    </tr>\n",
       "    <tr>\n",
       "      <th>16499</th>\n",
       "      <td>NaN</td>\n",
       "      <td>17369.0</td>\n",
       "    </tr>\n",
       "    <tr>\n",
       "      <th>2603</th>\n",
       "      <td>NaN</td>\n",
       "      <td>17369.0</td>\n",
       "    </tr>\n",
       "    <tr>\n",
       "      <th>13223</th>\n",
       "      <td>NaN</td>\n",
       "      <td>17369.0</td>\n",
       "    </tr>\n",
       "    <tr>\n",
       "      <th>19972</th>\n",
       "      <td>NaN</td>\n",
       "      <td>17369.0</td>\n",
       "    </tr>\n",
       "    <tr>\n",
       "      <th>22933</th>\n",
       "      <td>NaN</td>\n",
       "      <td>17369.0</td>\n",
       "    </tr>\n",
       "    <tr>\n",
       "      <th>2632</th>\n",
       "      <td>NaN</td>\n",
       "      <td>17369.0</td>\n",
       "    </tr>\n",
       "    <tr>\n",
       "      <th>5707</th>\n",
       "      <td>NaN</td>\n",
       "      <td>16788.0</td>\n",
       "    </tr>\n",
       "    <tr>\n",
       "      <th>7600</th>\n",
       "      <td>NaN</td>\n",
       "      <td>12332.0</td>\n",
       "    </tr>\n",
       "    <tr>\n",
       "      <th>12879</th>\n",
       "      <td>NaN</td>\n",
       "      <td>12332.0</td>\n",
       "    </tr>\n",
       "  </tbody>\n",
       "</table>\n",
       "</div>"
      ],
      "text/plain": [
       "      locality_name  city_centers_nearest\n",
       "21276           NaN               41294.0\n",
       "21119           NaN               31897.0\n",
       "8986            NaN               31813.0\n",
       "13690           NaN               23659.0\n",
       "6765            NaN               17369.0\n",
       "14273           NaN               17369.0\n",
       "16499           NaN               17369.0\n",
       "2603            NaN               17369.0\n",
       "13223           NaN               17369.0\n",
       "19972           NaN               17369.0\n",
       "22933           NaN               17369.0\n",
       "2632            NaN               17369.0\n",
       "5707            NaN               16788.0\n",
       "7600            NaN               12332.0\n",
       "12879           NaN               12332.0"
      ]
     },
     "execution_count": 25,
     "metadata": {},
     "output_type": "execute_result"
    }
   ],
   "source": [
    "data[(data['locality_name'].isnull())][['locality_name', 'city_centers_nearest']].sort_values(by='city_centers_nearest', ascending=False).head(15)"
   ]
  },
  {
   "cell_type": "markdown",
   "metadata": {},
   "source": [
    "Протяжённость Санкт-Петербурга в административных границах: с севера на юг в пределах КАД — 32 км (за пределами КАД — 52 км), с северо-запада на юго-восток за пределами КАД, — около 90 км. Все строки, где расстояние до центра находится в пределах 16 км (32/2), можно смело отнести к Санкт-Петербургу. Остальные строки можно удалить, т.к. их количество мизерное по отношению к общеиму объему выборки. "
   ]
  },
  {
   "cell_type": "code",
   "execution_count": 26,
   "metadata": {},
   "outputs": [
    {
     "data": {
      "text/plain": [
       "49"
      ]
     },
     "execution_count": 26,
     "metadata": {},
     "output_type": "execute_result"
    }
   ],
   "source": [
    "# заполняем пропуски\n",
    "data.loc[data['city_centers_nearest'] < 16000, 'locality_name'].fillna('Санкт-Петербург')\n",
    "# смотрим, сколько пустых строк осталось\n",
    "data['locality_name'].isna().sum()"
   ]
  },
  {
   "cell_type": "code",
   "execution_count": 27,
   "metadata": {},
   "outputs": [],
   "source": [
    "data= data.dropna(subset=['locality_name'])"
   ]
  },
  {
   "cell_type": "markdown",
   "metadata": {},
   "source": [
    "**floors_total**  "
   ]
  },
  {
   "cell_type": "code",
   "execution_count": 28,
   "metadata": {},
   "outputs": [
    {
     "name": "stdout",
     "output_type": "stream",
     "text": [
      "Доля пропусков в графе floors_total: 0.003594080338266385\n"
     ]
    }
   ],
   "source": [
    "print('Доля пропусков в графе floors_total:', data['floors_total'].isna().sum()/len(data))"
   ]
  },
  {
   "cell_type": "markdown",
   "metadata": {},
   "source": [
    "Возможная причина пропусков: продавец сознательно или не сознательно пропустил при заполнении эту графу. На будущее следует сделать заполнение этой графы обязательным, т.к. от показателя зависит, находится ли квартира на крайнем этаже или нет, что влияет на цену объекта. \n",
    "Пропусков в столбце floors_total крайне мало, при этом не очень понятно, как корректно их заполнить. В связи с чем принято решение удалить эти строки."
   ]
  },
  {
   "cell_type": "code",
   "execution_count": 29,
   "metadata": {},
   "outputs": [],
   "source": [
    "data = data.dropna(subset=['floors_total'])\n",
    "# сразу меняем формат на целочисленный\n",
    "data['floors_total'] = data['floors_total'].astype('int')"
   ]
  },
  {
   "cell_type": "markdown",
   "metadata": {},
   "source": [
    "**parks_around_3000, parks_nearest, ponds_around_3000, ponds_nearest, airports_nearest, city_centers_nearest**  \n",
    "\n",
    "По аналогии с количеством балконов заполним пропуски в столбцах parks_around_3000 и ponds_around_3000 нулями, сразу приведем к цельночисленному формату. Данных о расстоянии до ближайшего пруда или парка у нас нет, оставлим эти пропуски.\n",
    "\n",
    "В данныз о расстоянии до центра города, до аэропорта тоже есть пропуски. Предположительно, эта часть информации должна была заполняться автоматически на основании данных о геолокации конкретного объекта. Этих данных у нас нет, считаем более правильным оставить пропуски, чем заполнять какими-то синтетическими данными.\n",
    "\n"
   ]
  },
  {
   "cell_type": "code",
   "execution_count": 30,
   "metadata": {},
   "outputs": [],
   "source": [
    "data['ponds_around_3000'] = data['ponds_around_3000'].fillna(0).astype('int')\n",
    "data['parks_around_3000'] = data['parks_around_3000'].fillna(0).astype('int')"
   ]
  },
  {
   "cell_type": "markdown",
   "metadata": {},
   "source": [
    "Среди \"подозрительных\" объектов был замечен объект, где расстояние до аэропорта равно 0. Посмотрим."
   ]
  },
  {
   "cell_type": "code",
   "execution_count": 31,
   "metadata": {},
   "outputs": [
    {
     "data": {
      "text/html": [
       "<div>\n",
       "<style scoped>\n",
       "    .dataframe tbody tr th:only-of-type {\n",
       "        vertical-align: middle;\n",
       "    }\n",
       "\n",
       "    .dataframe tbody tr th {\n",
       "        vertical-align: top;\n",
       "    }\n",
       "\n",
       "    .dataframe thead th {\n",
       "        text-align: right;\n",
       "    }\n",
       "</style>\n",
       "<table border=\"1\" class=\"dataframe\">\n",
       "  <thead>\n",
       "    <tr style=\"text-align: right;\">\n",
       "      <th></th>\n",
       "      <th>total_images</th>\n",
       "      <th>last_price</th>\n",
       "      <th>total_area</th>\n",
       "      <th>first_day_exposition</th>\n",
       "      <th>rooms</th>\n",
       "      <th>ceiling_height</th>\n",
       "      <th>floors_total</th>\n",
       "      <th>living_area</th>\n",
       "      <th>floor</th>\n",
       "      <th>is_apartment</th>\n",
       "      <th>is_studio</th>\n",
       "      <th>is_open_plan</th>\n",
       "      <th>kitchen_area</th>\n",
       "      <th>balcony</th>\n",
       "      <th>locality_name</th>\n",
       "      <th>airports_nearest</th>\n",
       "      <th>city_centers_nearest</th>\n",
       "      <th>parks_around_3000</th>\n",
       "      <th>parks_nearest</th>\n",
       "      <th>ponds_around_3000</th>\n",
       "      <th>ponds_nearest</th>\n",
       "      <th>days_exposition</th>\n",
       "    </tr>\n",
       "  </thead>\n",
       "  <tbody>\n",
       "    <tr>\n",
       "      <th>21085</th>\n",
       "      <td>0</td>\n",
       "      <td>7000000.0</td>\n",
       "      <td>34.7</td>\n",
       "      <td>2018-09-23T00:00:00</td>\n",
       "      <td>1</td>\n",
       "      <td>2.7</td>\n",
       "      <td>9</td>\n",
       "      <td>19.8</td>\n",
       "      <td>3</td>\n",
       "      <td>False</td>\n",
       "      <td>False</td>\n",
       "      <td>False</td>\n",
       "      <td>6.0</td>\n",
       "      <td>2</td>\n",
       "      <td>Санкт-Петербург</td>\n",
       "      <td>0.0</td>\n",
       "      <td>22801.0</td>\n",
       "      <td>0</td>\n",
       "      <td>NaN</td>\n",
       "      <td>0</td>\n",
       "      <td>NaN</td>\n",
       "      <td>60.0</td>\n",
       "    </tr>\n",
       "  </tbody>\n",
       "</table>\n",
       "</div>"
      ],
      "text/plain": [
       "       total_images  last_price  total_area first_day_exposition  rooms  \\\n",
       "21085             0   7000000.0        34.7  2018-09-23T00:00:00      1   \n",
       "\n",
       "       ceiling_height  floors_total  living_area  floor  is_apartment  \\\n",
       "21085             2.7             9         19.8      3         False   \n",
       "\n",
       "       is_studio  is_open_plan  kitchen_area  balcony    locality_name  \\\n",
       "21085      False         False           6.0        2  Санкт-Петербург   \n",
       "\n",
       "       airports_nearest  city_centers_nearest  parks_around_3000  \\\n",
       "21085               0.0               22801.0                  0   \n",
       "\n",
       "       parks_nearest  ponds_around_3000  ponds_nearest  days_exposition  \n",
       "21085            NaN                  0            NaN             60.0  "
      ]
     },
     "execution_count": 31,
     "metadata": {},
     "output_type": "execute_result"
    }
   ],
   "source": [
    "data.query('airports_nearest < 10')"
   ]
  },
  {
   "cell_type": "markdown",
   "metadata": {},
   "source": [
    "Удаляем эту строку, квартир в аэропорту быть не может."
   ]
  },
  {
   "cell_type": "code",
   "execution_count": 32,
   "metadata": {},
   "outputs": [],
   "source": [
    "data = data.query('airports_nearest != 0')"
   ]
  },
  {
   "cell_type": "markdown",
   "metadata": {},
   "source": [
    "**first_day_exposition, days_exposition**  \n",
    "В  столбце days_exposition также есть пропуски. Это может быть связано с тем, что объект либо еще не продан, либо был продан, но объявление с продажи не снято. Вносить какие-то расчетные данные считаю некорректным. Оставляем как есть."
   ]
  },
  {
   "cell_type": "code",
   "execution_count": 33,
   "metadata": {},
   "outputs": [],
   "source": [
    "# приведем формат столбца из строки в дату\n",
    "data['first_day_exposition'] = pd.to_datetime(data['first_day_exposition'], format='%Y-%m-%dT%H:%M:%S')"
   ]
  },
  {
   "cell_type": "code",
   "execution_count": 34,
   "metadata": {},
   "outputs": [
    {
     "data": {
      "text/plain": [
       "total_images                0\n",
       "last_price                  0\n",
       "total_area                  0\n",
       "first_day_exposition        0\n",
       "rooms                       0\n",
       "ceiling_height              0\n",
       "floors_total                0\n",
       "living_area                 0\n",
       "floor                       0\n",
       "is_apartment                0\n",
       "is_studio                   0\n",
       "is_open_plan                0\n",
       "kitchen_area                0\n",
       "balcony                     0\n",
       "locality_name               0\n",
       "airports_nearest         5524\n",
       "city_centers_nearest     5501\n",
       "parks_around_3000           0\n",
       "parks_nearest           15534\n",
       "ponds_around_3000           0\n",
       "ponds_nearest           14528\n",
       "days_exposition          3171\n",
       "dtype: int64"
      ]
     },
     "execution_count": 34,
     "metadata": {},
     "output_type": "execute_result"
    }
   ],
   "source": [
    "# проверка\n",
    "data.isna().sum()"
   ]
  },
  {
   "cell_type": "markdown",
   "metadata": {},
   "source": [
    "**last_price**  \n",
    "Тут пропусков нет, поменяем только тип данных. Разброс цен большой:"
   ]
  },
  {
   "cell_type": "code",
   "execution_count": 35,
   "metadata": {},
   "outputs": [
    {
     "data": {
      "text/plain": [
       "count    2.356400e+04\n",
       "mean     6.540039e+06\n",
       "std      1.091117e+07\n",
       "min      1.219000e+04\n",
       "25%      3.400000e+06\n",
       "50%      4.646000e+06\n",
       "75%      6.790000e+06\n",
       "max      7.630000e+08\n",
       "Name: last_price, dtype: float64"
      ]
     },
     "execution_count": 35,
     "metadata": {},
     "output_type": "execute_result"
    }
   ],
   "source": [
    "data['last_price'].describe()"
   ]
  },
  {
   "cell_type": "code",
   "execution_count": 36,
   "metadata": {},
   "outputs": [],
   "source": [
    "data['last_price'] = data['last_price'].astype('int')"
   ]
  },
  {
   "cell_type": "markdown",
   "metadata": {},
   "source": [
    "#### Дубликаты"
   ]
  },
  {
   "cell_type": "markdown",
   "metadata": {},
   "source": [
    "Для поиска явных дубликатов приведем все названия населенных пунктов к нижнему регистру, букву \"ё\" заменим на \"е\"."
   ]
  },
  {
   "cell_type": "code",
   "execution_count": 37,
   "metadata": {},
   "outputs": [
    {
     "data": {
      "text/plain": [
       "364"
      ]
     },
     "execution_count": 37,
     "metadata": {},
     "output_type": "execute_result"
    }
   ],
   "source": [
    "# посмотрим количество населенных пунктов до замены\n",
    "len(data['locality_name'].unique())"
   ]
  },
  {
   "cell_type": "code",
   "execution_count": 38,
   "metadata": {},
   "outputs": [],
   "source": [
    "# перевод в нижний регистр\n",
    "data['locality_name'] = data['locality_name'].str.lower()\n",
    "# замена буквы\n",
    "data['locality_name'] = data['locality_name'].str.replace('ё', 'е', regex=True)"
   ]
  },
  {
   "cell_type": "markdown",
   "metadata": {},
   "source": [
    "Проверка на явные дубликаты."
   ]
  },
  {
   "cell_type": "code",
   "execution_count": 39,
   "metadata": {},
   "outputs": [
    {
     "name": "stdout",
     "output_type": "stream",
     "text": [
      "Количество явных дубликатов: 0\n"
     ]
    }
   ],
   "source": [
    "print('Количество явных дубликатов:', data.duplicated().sum())"
   ]
  },
  {
   "cell_type": "code",
   "execution_count": 40,
   "metadata": {},
   "outputs": [
    {
     "data": {
      "text/plain": [
       "array(['санкт-петербург', 'поселок шушары', 'городской поселок янино-1',\n",
       "       'поселок парголово', 'поселок мурино', 'ломоносов', 'сертолово',\n",
       "       'петергоф', 'пушкин', 'деревня кудрово', 'коммунар', 'колпино',\n",
       "       'поселок городского типа красный бор', 'гатчина',\n",
       "       'деревня федоровское', 'выборг', 'кронштадт', 'кировск',\n",
       "       'деревня новое девяткино', 'поселок металлострой',\n",
       "       'поселок городского типа лебяжье',\n",
       "       'поселок городского типа сиверский', 'поселок молодцово',\n",
       "       'поселок городского типа кузьмоловский',\n",
       "       'садовое товарищество новая ропша', 'павловск',\n",
       "       'деревня пикколово', 'всеволожск', 'волхов', 'кингисепп',\n",
       "       'приозерск', 'сестрорецк', 'деревня куттузи', 'поселок аннино',\n",
       "       'поселок городского типа ефимовский', 'поселок плодовое',\n",
       "       'деревня заклинье', 'поселок торковичи', 'поселок первомайское',\n",
       "       'красное село', 'поселок понтонный', 'сясьстрой', 'деревня старая',\n",
       "       'деревня лесколово', 'поселок новый свет', 'сланцы',\n",
       "       'село путилово', 'ивангород', 'мурино', 'шлиссельбург',\n",
       "       'никольское', 'зеленогорск', 'сосновый бор', 'деревня оржицы',\n",
       "       'деревня кальтино', 'кудрово', 'поселок романовка',\n",
       "       'поселок бугры', 'поселок городского типа рощино', 'кириши',\n",
       "       'луга', 'волосово', 'отрадное', 'село павлово', 'поселок оредеж',\n",
       "       'село копорье', 'поселок молодежное', 'тихвин', 'поселок победа',\n",
       "       'деревня нурма', 'поселок городского типа синявино', 'тосно',\n",
       "       'поселок стрельна', 'бокситогорск', 'поселок александровская',\n",
       "       'деревня лопухинка', 'пикалево', 'поселок терволово',\n",
       "       'поселок городского типа советский', 'подпорожье',\n",
       "       'поселок петровское', 'поселок городского типа токсово',\n",
       "       'поселок сельцо', 'поселок городского типа вырица',\n",
       "       'деревня кипень', 'деревня келози', 'деревня вартемяги',\n",
       "       'поселок тельмана', 'поселок севастьяново',\n",
       "       'городской поселок большая ижора', 'городской поселок павлово',\n",
       "       'деревня агалатово', 'поселок новогорелово',\n",
       "       'городской поселок лесогорский', 'деревня лаголово',\n",
       "       'поселок цвелодубово', 'поселок городского типа рахья',\n",
       "       'деревня белогорка', 'поселок заводской',\n",
       "       'городской поселок новоселье', 'деревня большие колпаны',\n",
       "       'деревня горбунки', 'деревня батово', 'деревня заневка',\n",
       "       'деревня иссад', 'приморск', 'городской поселок федоровское',\n",
       "       'деревня мистолово', 'новая ладога', 'поселок зимитицы',\n",
       "       'поселок барышево', 'деревня разметелево',\n",
       "       'поселок городского типа имени свердлова', 'деревня пеники',\n",
       "       'поселок рябово', 'деревня пудомяги', 'поселок станции корнево',\n",
       "       'деревня низино', 'деревня бегуницы', 'поселок поляны',\n",
       "       'городской поселок мга', 'поселок елизаветино',\n",
       "       'поселок городского типа кузнечное', 'деревня колтуши',\n",
       "       'поселок запорожское', 'деревня гостилицы',\n",
       "       'деревня малое карлино', 'поселок мичуринское',\n",
       "       'поселок городского типа имени морозова', 'поселок песочный',\n",
       "       'поселок сосново', 'деревня аро', 'поселок ильичево',\n",
       "       'поселок городского типа тайцы', 'деревня малое верево',\n",
       "       'деревня извара', 'поселок станции вещево', 'село паша',\n",
       "       'деревня калитино', 'поселок городского типа ульяновка',\n",
       "       'деревня чудской бор', 'поселок городского типа дубровка',\n",
       "       'деревня мины', 'поселок войсковицы', 'деревня коркино',\n",
       "       'поселок ропша', 'поселок городского типа приладожский',\n",
       "       'поселок щеглово', 'поселок гаврилово', 'лодейное поле',\n",
       "       'деревня рабитицы', 'поселок городского типа никольский',\n",
       "       'деревня кузьмолово', 'деревня малые колпаны',\n",
       "       'поселок петро-славянка', 'городской поселок назия',\n",
       "       'поселок репино', 'поселок углово', 'поселок старая малукса',\n",
       "       'садовое товарищество рахья', 'деревня меньково',\n",
       "       'деревня старые бегуницы', 'поселок саперный', 'поселок семрино',\n",
       "       'поселок глажево', 'поселок кобринское', 'деревня гарболово',\n",
       "       'деревня юкки', 'поселок станции приветнинское',\n",
       "       'деревня мануйлово', 'деревня пчева', 'поселок цвылево',\n",
       "       'поселок мельниково', 'поселок пудость', 'поселок усть-луга',\n",
       "       'светогорск', 'любань', 'поселок селезнево',\n",
       "       'поселок городского типа рябово', 'каменногорск', 'деревня кривко',\n",
       "       'поселок глебычево', 'деревня парицы', 'поселок жилпоселок',\n",
       "       'поселок городского типа мга', 'поселок войскорово',\n",
       "       'село никольское', 'поселок стеклянный',\n",
       "       'поселок городского типа важины', 'поселок мыза-ивановка',\n",
       "       'село русско-высоцкое', 'поселок городского типа форносово',\n",
       "       'село старая ладога', 'поселок житково',\n",
       "       'городской поселок виллози', 'деревня лампово',\n",
       "       'деревня шпаньково', 'деревня лаврики', 'поселок сумино',\n",
       "       'поселок возрождение', 'деревня старосиверская',\n",
       "       'поселок кикерино', 'деревня старое хинколово',\n",
       "       'поселок пригородный', 'поселок торфяное',\n",
       "       'городской поселок будогощь', 'поселок суходолье',\n",
       "       'поселок красная долина', 'деревня хапо-ое',\n",
       "       'поселок городского типа дружная горка', 'поселок лисий нос',\n",
       "       'деревня яльгелево', 'село рождествено', 'деревня старополье',\n",
       "       'поселок левашово', 'деревня сяськелево', 'деревня камышовка',\n",
       "       'садоводческое некоммерческое товарищество лесная поляна',\n",
       "       'деревня хязельки', 'поселок жилгородок',\n",
       "       'поселок городского типа павлово', 'деревня ялгино',\n",
       "       'поселок новый учхоз', 'городской поселок рощино',\n",
       "       'поселок гончарово', 'поселок почап', 'поселок саперное',\n",
       "       'поселок платформа 69-й километр', 'поселок каложицы',\n",
       "       'деревня фалилеево', 'деревня пельгора',\n",
       "       'поселок городского типа лесогорский', 'деревня торошковичи',\n",
       "       'поселок белоостров', 'поселок алексеевка', 'поселок серебрянский',\n",
       "       'поселок лукаши', 'деревня щеглово', 'деревня тарасово',\n",
       "       'поселок кингисеппский',\n",
       "       'поселок при железнодорожной станции вещево', 'поселок ушаки',\n",
       "       'деревня котлы', 'деревня сижно', 'деревня торосово',\n",
       "       'поселок форт красная горка', 'деревня новолисино',\n",
       "       'поселок станции громово', 'деревня глинка',\n",
       "       'поселок городского типа назия', 'деревня старая пустошь',\n",
       "       'поселок коммунары', 'поселок починок',\n",
       "       'поселок городского типа вознесенье', 'деревня разбегаево',\n",
       "       'поселок гладкое',\n",
       "       'поселок при железнодорожной станции приветнинское',\n",
       "       'поселок тесово-4', 'деревня бор', 'поселок коробицыно',\n",
       "       'деревня большая вруда', 'деревня курковицы',\n",
       "       'городской поселок советский', 'поселок кобралово',\n",
       "       'деревня суоранда', 'поселок городского типа кондратьево',\n",
       "       'коттеджный поселок счастье', 'поселок любань', 'деревня реброво',\n",
       "       'деревня зимитицы', 'деревня тойворово', 'поселок семиозерье',\n",
       "       'поселок лесное', 'поселок совхозный', 'поселок ленинское',\n",
       "       'поселок суйда', 'деревня нижние осельки', 'поселок станции свирь',\n",
       "       'поселок перово', 'высоцк', 'поселок гарболово', 'село шум',\n",
       "       'поселок котельский', 'поселок станции лужайка',\n",
       "       'деревня большая пустомержа', 'поселок красносельское',\n",
       "       'деревня вахнова кара', 'деревня пижма',\n",
       "       'коттеджный поселок кивеннапа север', 'поселок ромашки',\n",
       "       'деревня каськово', 'деревня куровицы', 'поселок плоское',\n",
       "       'поселок городского типа большая ижора', 'поселок кирпичное',\n",
       "       'деревня ям-тесово', 'деревня раздолье', 'деревня терпилицы',\n",
       "       'поселок шугозеро', 'деревня ваганово', 'поселок пушное',\n",
       "       'садовое товарищество садко', 'поселок усть-ижора',\n",
       "       'деревня выскатка', 'городской поселок свирьстрой',\n",
       "       'поселок громово', 'деревня кисельня', 'деревня трубников бор',\n",
       "       'поселок калитино', 'поселок высокоключевой',\n",
       "       'садовое товарищество приладожский',\n",
       "       'поселок пансионат зеленый бор', 'деревня ненимяки',\n",
       "       'деревня снегиревка', 'деревня рапполово', 'деревня пустынка',\n",
       "       'поселок рабитицы', 'деревня большой сабск', 'деревня русско',\n",
       "       'деревня лупполово', 'деревня большое рейзино',\n",
       "       'деревня малая романовка', 'поселок дружноселье', 'поселок пчевжа',\n",
       "       'поселок володарское', 'деревня нижняя',\n",
       "       'коттеджный поселок лесное', 'деревня тихковицы',\n",
       "       'деревня борисова грива', 'поселок дзержинского'], dtype=object)"
      ]
     },
     "execution_count": 40,
     "metadata": {},
     "output_type": "execute_result"
    }
   ],
   "source": [
    "data['locality_name'].unique()"
   ]
  },
  {
   "cell_type": "markdown",
   "metadata": {},
   "source": [
    "Населенных пунктов много. При беглом просмотре явных повторов нет, но для надежности можно заменить типа \"поселок городского типа\" на \"поселок\""
   ]
  },
  {
   "cell_type": "code",
   "execution_count": 41,
   "metadata": {},
   "outputs": [
    {
     "data": {
      "text/plain": [
       "329"
      ]
     },
     "execution_count": 41,
     "metadata": {},
     "output_type": "execute_result"
    }
   ],
   "source": [
    "# меняем наименования населенных пунктов и считаем количество\n",
    "data['locality_name'] = data['locality_name'].str.replace('поселок городского типа', 'поселок', regex=True)\n",
    "len(data['locality_name'].unique())"
   ]
  },
  {
   "cell_type": "markdown",
   "metadata": {},
   "source": [
    "Было 364, стало 329."
   ]
  },
  {
   "cell_type": "code",
   "execution_count": 42,
   "metadata": {},
   "outputs": [
    {
     "name": "stdout",
     "output_type": "stream",
     "text": [
      "Количество явных дубликатов: 0\n"
     ]
    }
   ],
   "source": [
    "# повторная проверка на явные дубликаты\n",
    "print('Количество явных дубликатов:', data.duplicated().sum())"
   ]
  },
  {
   "cell_type": "code",
   "execution_count": 43,
   "metadata": {},
   "outputs": [
    {
     "data": {
      "text/html": [
       "<div>\n",
       "<style scoped>\n",
       "    .dataframe tbody tr th:only-of-type {\n",
       "        vertical-align: middle;\n",
       "    }\n",
       "\n",
       "    .dataframe tbody tr th {\n",
       "        vertical-align: top;\n",
       "    }\n",
       "\n",
       "    .dataframe thead th {\n",
       "        text-align: right;\n",
       "    }\n",
       "</style>\n",
       "<table border=\"1\" class=\"dataframe\">\n",
       "  <thead>\n",
       "    <tr style=\"text-align: right;\">\n",
       "      <th></th>\n",
       "      <th>total_area</th>\n",
       "      <th>rooms</th>\n",
       "      <th>last_price</th>\n",
       "    </tr>\n",
       "  </thead>\n",
       "  <tbody>\n",
       "    <tr>\n",
       "      <th>count</th>\n",
       "      <td>23564.000000</td>\n",
       "      <td>23564.000000</td>\n",
       "      <td>2.356400e+04</td>\n",
       "    </tr>\n",
       "    <tr>\n",
       "      <th>mean</th>\n",
       "      <td>60.323911</td>\n",
       "      <td>2.078934</td>\n",
       "      <td>6.540039e+06</td>\n",
       "    </tr>\n",
       "    <tr>\n",
       "      <th>std</th>\n",
       "      <td>35.657425</td>\n",
       "      <td>1.066502</td>\n",
       "      <td>1.091117e+07</td>\n",
       "    </tr>\n",
       "    <tr>\n",
       "      <th>min</th>\n",
       "      <td>12.000000</td>\n",
       "      <td>1.000000</td>\n",
       "      <td>1.219000e+04</td>\n",
       "    </tr>\n",
       "    <tr>\n",
       "      <th>25%</th>\n",
       "      <td>40.000000</td>\n",
       "      <td>1.000000</td>\n",
       "      <td>3.400000e+06</td>\n",
       "    </tr>\n",
       "    <tr>\n",
       "      <th>50%</th>\n",
       "      <td>52.000000</td>\n",
       "      <td>2.000000</td>\n",
       "      <td>4.646000e+06</td>\n",
       "    </tr>\n",
       "    <tr>\n",
       "      <th>75%</th>\n",
       "      <td>69.700000</td>\n",
       "      <td>3.000000</td>\n",
       "      <td>6.790000e+06</td>\n",
       "    </tr>\n",
       "    <tr>\n",
       "      <th>max</th>\n",
       "      <td>900.000000</td>\n",
       "      <td>19.000000</td>\n",
       "      <td>7.630000e+08</td>\n",
       "    </tr>\n",
       "  </tbody>\n",
       "</table>\n",
       "</div>"
      ],
      "text/plain": [
       "         total_area         rooms    last_price\n",
       "count  23564.000000  23564.000000  2.356400e+04\n",
       "mean      60.323911      2.078934  6.540039e+06\n",
       "std       35.657425      1.066502  1.091117e+07\n",
       "min       12.000000      1.000000  1.219000e+04\n",
       "25%       40.000000      1.000000  3.400000e+06\n",
       "50%       52.000000      2.000000  4.646000e+06\n",
       "75%       69.700000      3.000000  6.790000e+06\n",
       "max      900.000000     19.000000  7.630000e+08"
      ]
     },
     "execution_count": 43,
     "metadata": {},
     "output_type": "execute_result"
    }
   ],
   "source": [
    "# дополнительно посмотрим аномалии в столбцах с общей площадью, количеством комнат, ценой объекта\n",
    "data[['total_area', 'rooms', 'last_price']].describe()"
   ]
  },
  {
   "cell_type": "code",
   "execution_count": 44,
   "metadata": {},
   "outputs": [
    {
     "data": {
      "image/png": "[encoded data removed]",
      "text/plain": [
       "<Figure size 1008x216 with 1 Axes>"
      ]
     },
     "metadata": {
      "needs_background": "light"
     },
     "output_type": "display_data"
    }
   ],
   "source": [
    "data.plot(y='total_area', kind='hist', bins=100, grid=True, figsize=(14,3), title='Общая площадь')\n",
    "plt.show() "
   ]
  },
  {
   "cell_type": "markdown",
   "metadata": {},
   "source": [
    "На графике видно, что квартиры общей площадью более примерно 350 кв. м - скорее редкость. Посмотрим их количество."
   ]
  },
  {
   "cell_type": "code",
   "execution_count": 45,
   "metadata": {},
   "outputs": [
    {
     "name": "stdout",
     "output_type": "stream",
     "text": [
      "Количество квартир общей площадью > 350 кв. м.: 41\n"
     ]
    }
   ],
   "source": [
    "print('Количество квартир общей площадью > 350 кв. м.:', data.query('total_area > 350')['total_area'].count())"
   ]
  },
  {
   "cell_type": "code",
   "execution_count": 46,
   "metadata": {},
   "outputs": [],
   "source": [
    "# список строк на удаление\n",
    "rows_to_del = []\n",
    "rows_to_del.extend(data['total_area'][data['total_area']>350].index)"
   ]
  },
  {
   "cell_type": "code",
   "execution_count": 47,
   "metadata": {},
   "outputs": [
    {
     "data": {
      "image/png": "[encoded data removed]",
      "text/plain": [
       "<Figure size 1008x216 with 1 Axes>"
      ]
     },
     "metadata": {
      "needs_background": "light"
     },
     "output_type": "display_data"
    }
   ],
   "source": [
    "data.plot(y='rooms', kind='hist', bins=10, grid=True, figsize=(14,3), title='Количество комнат')\n",
    "plt.show()"
   ]
  },
  {
   "cell_type": "markdown",
   "metadata": {},
   "source": [
    "Квартиры, где более 8 комнат, скорее аномалии. Посчитаем количество."
   ]
  },
  {
   "cell_type": "code",
   "execution_count": 48,
   "metadata": {},
   "outputs": [
    {
     "name": "stdout",
     "output_type": "stream",
     "text": [
      "Количество квартир более чем с 8 комнатами: 19\n"
     ]
    }
   ],
   "source": [
    "print('Количество квартир более чем с 8 комнатами:', data.query('rooms > 8')['rooms'].count())"
   ]
  },
  {
   "cell_type": "code",
   "execution_count": 49,
   "metadata": {},
   "outputs": [],
   "source": [
    "# добавим с список индексы строк на удаление\n",
    "rows_to_del.extend(data['rooms'][data['rooms']>8].index)"
   ]
  },
  {
   "cell_type": "code",
   "execution_count": 50,
   "metadata": {},
   "outputs": [
    {
     "data": {
      "image/png": "[encoded data removed]",
      "text/plain": [
       "<Figure size 432x288 with 1 Axes>"
      ]
     },
     "metadata": {
      "needs_background": "light"
     },
     "output_type": "display_data"
    }
   ],
   "source": [
    "#data.plot(y='last_price', kind='hist', bins=50, grid=True, figsize=(14,3), title='Стоимость объекта')\n",
    "#plt.show()\n",
    "plt.hist(data['last_price']/1000, bins=50, range=(0, 100000))\n",
    "plt.title('Стоимость объекта')\n",
    "plt.xlabel('Стоимость')\n",
    "plt.ylabel('Количество объектов')\n",
    "plt.grid(True)\n",
    "plt.show()"
   ]
  },
  {
   "cell_type": "code",
   "execution_count": 51,
   "metadata": {},
   "outputs": [
    {
     "name": "stdout",
     "output_type": "stream",
     "text": [
      "Количество квартир дороже 50млн. руб.: 131\n"
     ]
    }
   ],
   "source": [
    "print('Количество квартир дороже 50млн. руб.:', data.query('last_price > 50000000')['last_price'].count())"
   ]
  },
  {
   "cell_type": "code",
   "execution_count": 52,
   "metadata": {},
   "outputs": [],
   "source": [
    "# добавим с список индексы строк на удаление\n",
    "rows_to_del.extend(data['last_price'][data['last_price']>50000000].index)"
   ]
  },
  {
   "cell_type": "code",
   "execution_count": 53,
   "metadata": {},
   "outputs": [
    {
     "data": {
      "text/plain": [
       "161"
      ]
     },
     "execution_count": 53,
     "metadata": {},
     "output_type": "execute_result"
    }
   ],
   "source": [
    "# итого строк на удаление\n",
    "len(pd.Series(rows_to_del).unique())"
   ]
  },
  {
   "cell_type": "code",
   "execution_count": 54,
   "metadata": {},
   "outputs": [
    {
     "name": "stdout",
     "output_type": "stream",
     "text": [
      "Процент числа строк на удаление: 0.68\n"
     ]
    }
   ],
   "source": [
    "# процент от общего числа строк:\n",
    "print('Процент числа строк на удаление:', round((len(pd.Series(rows_to_del).unique())/ shape)*100, 2))"
   ]
  },
  {
   "cell_type": "markdown",
   "metadata": {},
   "source": [
    "Число строк на удаление меньше 5%, можно удалять."
   ]
  },
  {
   "cell_type": "code",
   "execution_count": 55,
   "metadata": {},
   "outputs": [
    {
     "data": {
      "text/html": [
       "<div>\n",
       "<style scoped>\n",
       "    .dataframe tbody tr th:only-of-type {\n",
       "        vertical-align: middle;\n",
       "    }\n",
       "\n",
       "    .dataframe tbody tr th {\n",
       "        vertical-align: top;\n",
       "    }\n",
       "\n",
       "    .dataframe thead th {\n",
       "        text-align: right;\n",
       "    }\n",
       "</style>\n",
       "<table border=\"1\" class=\"dataframe\">\n",
       "  <thead>\n",
       "    <tr style=\"text-align: right;\">\n",
       "      <th></th>\n",
       "      <th>total_images</th>\n",
       "      <th>last_price</th>\n",
       "      <th>total_area</th>\n",
       "      <th>first_day_exposition</th>\n",
       "      <th>rooms</th>\n",
       "      <th>ceiling_height</th>\n",
       "      <th>floors_total</th>\n",
       "      <th>living_area</th>\n",
       "      <th>floor</th>\n",
       "      <th>is_apartment</th>\n",
       "      <th>is_studio</th>\n",
       "      <th>is_open_plan</th>\n",
       "      <th>kitchen_area</th>\n",
       "      <th>balcony</th>\n",
       "      <th>locality_name</th>\n",
       "      <th>airports_nearest</th>\n",
       "      <th>city_centers_nearest</th>\n",
       "      <th>parks_around_3000</th>\n",
       "      <th>parks_nearest</th>\n",
       "      <th>ponds_around_3000</th>\n",
       "      <th>ponds_nearest</th>\n",
       "      <th>days_exposition</th>\n",
       "    </tr>\n",
       "  </thead>\n",
       "  <tbody>\n",
       "    <tr>\n",
       "      <th>0</th>\n",
       "      <td>20</td>\n",
       "      <td>13000000</td>\n",
       "      <td>108.00</td>\n",
       "      <td>2019-03-07</td>\n",
       "      <td>3</td>\n",
       "      <td>2.70</td>\n",
       "      <td>16</td>\n",
       "      <td>51.00</td>\n",
       "      <td>8</td>\n",
       "      <td>False</td>\n",
       "      <td>False</td>\n",
       "      <td>False</td>\n",
       "      <td>25.00</td>\n",
       "      <td>0</td>\n",
       "      <td>санкт-петербург</td>\n",
       "      <td>18863.0</td>\n",
       "      <td>16028.0</td>\n",
       "      <td>1</td>\n",
       "      <td>482.0</td>\n",
       "      <td>2</td>\n",
       "      <td>755.0</td>\n",
       "      <td>NaN</td>\n",
       "    </tr>\n",
       "    <tr>\n",
       "      <th>1</th>\n",
       "      <td>7</td>\n",
       "      <td>3350000</td>\n",
       "      <td>40.40</td>\n",
       "      <td>2018-12-04</td>\n",
       "      <td>1</td>\n",
       "      <td>2.65</td>\n",
       "      <td>11</td>\n",
       "      <td>18.60</td>\n",
       "      <td>1</td>\n",
       "      <td>False</td>\n",
       "      <td>False</td>\n",
       "      <td>False</td>\n",
       "      <td>11.00</td>\n",
       "      <td>2</td>\n",
       "      <td>поселок шушары</td>\n",
       "      <td>12817.0</td>\n",
       "      <td>18603.0</td>\n",
       "      <td>0</td>\n",
       "      <td>NaN</td>\n",
       "      <td>0</td>\n",
       "      <td>NaN</td>\n",
       "      <td>81.0</td>\n",
       "    </tr>\n",
       "    <tr>\n",
       "      <th>2</th>\n",
       "      <td>10</td>\n",
       "      <td>5196000</td>\n",
       "      <td>56.00</td>\n",
       "      <td>2015-08-20</td>\n",
       "      <td>2</td>\n",
       "      <td>2.65</td>\n",
       "      <td>5</td>\n",
       "      <td>34.30</td>\n",
       "      <td>4</td>\n",
       "      <td>False</td>\n",
       "      <td>False</td>\n",
       "      <td>False</td>\n",
       "      <td>8.30</td>\n",
       "      <td>0</td>\n",
       "      <td>санкт-петербург</td>\n",
       "      <td>21741.0</td>\n",
       "      <td>13933.0</td>\n",
       "      <td>1</td>\n",
       "      <td>90.0</td>\n",
       "      <td>2</td>\n",
       "      <td>574.0</td>\n",
       "      <td>558.0</td>\n",
       "    </tr>\n",
       "    <tr>\n",
       "      <th>3</th>\n",
       "      <td>2</td>\n",
       "      <td>10000000</td>\n",
       "      <td>100.00</td>\n",
       "      <td>2018-06-19</td>\n",
       "      <td>2</td>\n",
       "      <td>3.03</td>\n",
       "      <td>14</td>\n",
       "      <td>32.00</td>\n",
       "      <td>13</td>\n",
       "      <td>False</td>\n",
       "      <td>False</td>\n",
       "      <td>False</td>\n",
       "      <td>41.00</td>\n",
       "      <td>0</td>\n",
       "      <td>санкт-петербург</td>\n",
       "      <td>31856.0</td>\n",
       "      <td>8098.0</td>\n",
       "      <td>2</td>\n",
       "      <td>112.0</td>\n",
       "      <td>1</td>\n",
       "      <td>48.0</td>\n",
       "      <td>121.0</td>\n",
       "    </tr>\n",
       "    <tr>\n",
       "      <th>4</th>\n",
       "      <td>10</td>\n",
       "      <td>2890000</td>\n",
       "      <td>30.40</td>\n",
       "      <td>2018-09-10</td>\n",
       "      <td>1</td>\n",
       "      <td>2.65</td>\n",
       "      <td>12</td>\n",
       "      <td>14.40</td>\n",
       "      <td>5</td>\n",
       "      <td>False</td>\n",
       "      <td>False</td>\n",
       "      <td>False</td>\n",
       "      <td>9.10</td>\n",
       "      <td>0</td>\n",
       "      <td>городской поселок янино-1</td>\n",
       "      <td>NaN</td>\n",
       "      <td>NaN</td>\n",
       "      <td>0</td>\n",
       "      <td>NaN</td>\n",
       "      <td>0</td>\n",
       "      <td>NaN</td>\n",
       "      <td>55.0</td>\n",
       "    </tr>\n",
       "    <tr>\n",
       "      <th>...</th>\n",
       "      <td>...</td>\n",
       "      <td>...</td>\n",
       "      <td>...</td>\n",
       "      <td>...</td>\n",
       "      <td>...</td>\n",
       "      <td>...</td>\n",
       "      <td>...</td>\n",
       "      <td>...</td>\n",
       "      <td>...</td>\n",
       "      <td>...</td>\n",
       "      <td>...</td>\n",
       "      <td>...</td>\n",
       "      <td>...</td>\n",
       "      <td>...</td>\n",
       "      <td>...</td>\n",
       "      <td>...</td>\n",
       "      <td>...</td>\n",
       "      <td>...</td>\n",
       "      <td>...</td>\n",
       "      <td>...</td>\n",
       "      <td>...</td>\n",
       "      <td>...</td>\n",
       "    </tr>\n",
       "    <tr>\n",
       "      <th>23398</th>\n",
       "      <td>9</td>\n",
       "      <td>9700000</td>\n",
       "      <td>133.81</td>\n",
       "      <td>2017-03-21</td>\n",
       "      <td>3</td>\n",
       "      <td>3.70</td>\n",
       "      <td>5</td>\n",
       "      <td>73.30</td>\n",
       "      <td>3</td>\n",
       "      <td>False</td>\n",
       "      <td>False</td>\n",
       "      <td>False</td>\n",
       "      <td>13.83</td>\n",
       "      <td>0</td>\n",
       "      <td>санкт-петербург</td>\n",
       "      <td>24665.0</td>\n",
       "      <td>4232.0</td>\n",
       "      <td>1</td>\n",
       "      <td>796.0</td>\n",
       "      <td>3</td>\n",
       "      <td>381.0</td>\n",
       "      <td>NaN</td>\n",
       "    </tr>\n",
       "    <tr>\n",
       "      <th>23399</th>\n",
       "      <td>14</td>\n",
       "      <td>3100000</td>\n",
       "      <td>59.00</td>\n",
       "      <td>2018-01-15</td>\n",
       "      <td>3</td>\n",
       "      <td>2.65</td>\n",
       "      <td>5</td>\n",
       "      <td>38.00</td>\n",
       "      <td>4</td>\n",
       "      <td>False</td>\n",
       "      <td>False</td>\n",
       "      <td>False</td>\n",
       "      <td>8.50</td>\n",
       "      <td>0</td>\n",
       "      <td>тосно</td>\n",
       "      <td>NaN</td>\n",
       "      <td>NaN</td>\n",
       "      <td>0</td>\n",
       "      <td>NaN</td>\n",
       "      <td>0</td>\n",
       "      <td>NaN</td>\n",
       "      <td>45.0</td>\n",
       "    </tr>\n",
       "    <tr>\n",
       "      <th>23400</th>\n",
       "      <td>18</td>\n",
       "      <td>2500000</td>\n",
       "      <td>56.70</td>\n",
       "      <td>2018-02-11</td>\n",
       "      <td>2</td>\n",
       "      <td>2.65</td>\n",
       "      <td>3</td>\n",
       "      <td>29.70</td>\n",
       "      <td>1</td>\n",
       "      <td>False</td>\n",
       "      <td>False</td>\n",
       "      <td>False</td>\n",
       "      <td>9.92</td>\n",
       "      <td>0</td>\n",
       "      <td>село рождествено</td>\n",
       "      <td>NaN</td>\n",
       "      <td>NaN</td>\n",
       "      <td>0</td>\n",
       "      <td>NaN</td>\n",
       "      <td>0</td>\n",
       "      <td>NaN</td>\n",
       "      <td>NaN</td>\n",
       "    </tr>\n",
       "    <tr>\n",
       "      <th>23401</th>\n",
       "      <td>13</td>\n",
       "      <td>11475000</td>\n",
       "      <td>76.75</td>\n",
       "      <td>2017-03-28</td>\n",
       "      <td>2</td>\n",
       "      <td>3.00</td>\n",
       "      <td>17</td>\n",
       "      <td>44.28</td>\n",
       "      <td>12</td>\n",
       "      <td>False</td>\n",
       "      <td>False</td>\n",
       "      <td>False</td>\n",
       "      <td>23.30</td>\n",
       "      <td>2</td>\n",
       "      <td>санкт-петербург</td>\n",
       "      <td>39140.0</td>\n",
       "      <td>10364.0</td>\n",
       "      <td>2</td>\n",
       "      <td>173.0</td>\n",
       "      <td>3</td>\n",
       "      <td>196.0</td>\n",
       "      <td>602.0</td>\n",
       "    </tr>\n",
       "    <tr>\n",
       "      <th>23402</th>\n",
       "      <td>4</td>\n",
       "      <td>1350000</td>\n",
       "      <td>32.30</td>\n",
       "      <td>2017-07-21</td>\n",
       "      <td>1</td>\n",
       "      <td>2.50</td>\n",
       "      <td>5</td>\n",
       "      <td>12.30</td>\n",
       "      <td>1</td>\n",
       "      <td>False</td>\n",
       "      <td>False</td>\n",
       "      <td>False</td>\n",
       "      <td>9.00</td>\n",
       "      <td>0</td>\n",
       "      <td>поселок новый учхоз</td>\n",
       "      <td>NaN</td>\n",
       "      <td>NaN</td>\n",
       "      <td>0</td>\n",
       "      <td>NaN</td>\n",
       "      <td>0</td>\n",
       "      <td>NaN</td>\n",
       "      <td>NaN</td>\n",
       "    </tr>\n",
       "  </tbody>\n",
       "</table>\n",
       "<p>23403 rows × 22 columns</p>\n",
       "</div>"
      ],
      "text/plain": [
       "       total_images  last_price  total_area first_day_exposition  rooms  \\\n",
       "0                20    13000000      108.00           2019-03-07      3   \n",
       "1                 7     3350000       40.40           2018-12-04      1   \n",
       "2                10     5196000       56.00           2015-08-20      2   \n",
       "3                 2    10000000      100.00           2018-06-19      2   \n",
       "4                10     2890000       30.40           2018-09-10      1   \n",
       "...             ...         ...         ...                  ...    ...   \n",
       "23398             9     9700000      133.81           2017-03-21      3   \n",
       "23399            14     3100000       59.00           2018-01-15      3   \n",
       "23400            18     2500000       56.70           2018-02-11      2   \n",
       "23401            13    11475000       76.75           2017-03-28      2   \n",
       "23402             4     1350000       32.30           2017-07-21      1   \n",
       "\n",
       "       ceiling_height  floors_total  living_area  floor  is_apartment  \\\n",
       "0                2.70            16        51.00      8         False   \n",
       "1                2.65            11        18.60      1         False   \n",
       "2                2.65             5        34.30      4         False   \n",
       "3                3.03            14        32.00     13         False   \n",
       "4                2.65            12        14.40      5         False   \n",
       "...               ...           ...          ...    ...           ...   \n",
       "23398            3.70             5        73.30      3         False   \n",
       "23399            2.65             5        38.00      4         False   \n",
       "23400            2.65             3        29.70      1         False   \n",
       "23401            3.00            17        44.28     12         False   \n",
       "23402            2.50             5        12.30      1         False   \n",
       "\n",
       "       is_studio  is_open_plan  kitchen_area  balcony  \\\n",
       "0          False         False         25.00        0   \n",
       "1          False         False         11.00        2   \n",
       "2          False         False          8.30        0   \n",
       "3          False         False         41.00        0   \n",
       "4          False         False          9.10        0   \n",
       "...          ...           ...           ...      ...   \n",
       "23398      False         False         13.83        0   \n",
       "23399      False         False          8.50        0   \n",
       "23400      False         False          9.92        0   \n",
       "23401      False         False         23.30        2   \n",
       "23402      False         False          9.00        0   \n",
       "\n",
       "                   locality_name  airports_nearest  city_centers_nearest  \\\n",
       "0                санкт-петербург           18863.0               16028.0   \n",
       "1                 поселок шушары           12817.0               18603.0   \n",
       "2                санкт-петербург           21741.0               13933.0   \n",
       "3                санкт-петербург           31856.0                8098.0   \n",
       "4      городской поселок янино-1               NaN                   NaN   \n",
       "...                          ...               ...                   ...   \n",
       "23398            санкт-петербург           24665.0                4232.0   \n",
       "23399                      тосно               NaN                   NaN   \n",
       "23400           село рождествено               NaN                   NaN   \n",
       "23401            санкт-петербург           39140.0               10364.0   \n",
       "23402        поселок новый учхоз               NaN                   NaN   \n",
       "\n",
       "       parks_around_3000  parks_nearest  ponds_around_3000  ponds_nearest  \\\n",
       "0                      1          482.0                  2          755.0   \n",
       "1                      0            NaN                  0            NaN   \n",
       "2                      1           90.0                  2          574.0   \n",
       "3                      2          112.0                  1           48.0   \n",
       "4                      0            NaN                  0            NaN   \n",
       "...                  ...            ...                ...            ...   \n",
       "23398                  1          796.0                  3          381.0   \n",
       "23399                  0            NaN                  0            NaN   \n",
       "23400                  0            NaN                  0            NaN   \n",
       "23401                  2          173.0                  3          196.0   \n",
       "23402                  0            NaN                  0            NaN   \n",
       "\n",
       "       days_exposition  \n",
       "0                  NaN  \n",
       "1                 81.0  \n",
       "2                558.0  \n",
       "3                121.0  \n",
       "4                 55.0  \n",
       "...                ...  \n",
       "23398              NaN  \n",
       "23399             45.0  \n",
       "23400              NaN  \n",
       "23401            602.0  \n",
       "23402              NaN  \n",
       "\n",
       "[23403 rows x 22 columns]"
      ]
     },
     "execution_count": 55,
     "metadata": {},
     "output_type": "execute_result"
    }
   ],
   "source": [
    "# удаляем помеченные строки\n",
    "data.drop(labels = rows_to_del, axis=0, inplace=True)\n",
    "# Сбрасываем индексы\n",
    "data.reset_index(drop=True)"
   ]
  },
  {
   "cell_type": "markdown",
   "metadata": {},
   "source": [
    "### Посчитайте и добавьте в таблицу новые столбцы"
   ]
  },
  {
   "cell_type": "markdown",
   "metadata": {},
   "source": [
    "Добавляем в таблицу новые столбцы:  \n",
    "* цена одного квадратного метра;  \n",
    "* день недели публикации объявления (0 — понедельник, 1 — вторник и так далее);\n",
    "* месяц публикации объявления;\n",
    "* год публикации объявления;\n",
    "* тип этажа квартиры (значения — «‎первый», «последний», «другой»);\n",
    "* расстояние до центра города в километрах (переведите из м в км и округлите до целых значений).\n"
   ]
  },
  {
   "cell_type": "code",
   "execution_count": 56,
   "metadata": {},
   "outputs": [],
   "source": [
    "# цена одного кв. м, округляем до двух знаков после запятой\n",
    "data['price_per_m2'] = data['last_price'] / data['total_area']\n",
    "data['price_per_m2'] = data['price_per_m2'].round(2)\n",
    "\n",
    "# день недели публикации\n",
    "data['day'] = data['first_day_exposition'].dt.weekday\n",
    "# месяц публикации\n",
    "data['month'] = data['first_day_exposition'].dt.month\n",
    "# год публикации\n",
    "data['year'] = data['first_day_exposition'].dt.year"
   ]
  },
  {
   "cell_type": "code",
   "execution_count": 57,
   "metadata": {},
   "outputs": [],
   "source": [
    "# добавляем столбец с типом этажа. По умолчанию заполним значением other\n",
    "data['floor_type'] = ['other']*len(data)\n",
    "# если этаж - 1, заполняем значением first\n",
    "data.loc[data['floor'] == 1, 'floor_type'] = 'first' \n",
    "# если этаж последний (равен количеству этажей в здании), заполняем last\n",
    "data.loc[data['floor'] == data['floors_total'], 'floor_type'] = 'last' "
   ]
  },
  {
   "cell_type": "code",
   "execution_count": 58,
   "metadata": {},
   "outputs": [],
   "source": [
    "# расстояние до центра города в км\n",
    "data['city_centers_km'] = data['city_centers_nearest'] / 1000\n",
    "data['city_centers_km'] = data['city_centers_km'].round(0)"
   ]
  },
  {
   "cell_type": "code",
   "execution_count": 59,
   "metadata": {},
   "outputs": [
    {
     "data": {
      "text/html": [
       "<div>\n",
       "<style scoped>\n",
       "    .dataframe tbody tr th:only-of-type {\n",
       "        vertical-align: middle;\n",
       "    }\n",
       "\n",
       "    .dataframe tbody tr th {\n",
       "        vertical-align: top;\n",
       "    }\n",
       "\n",
       "    .dataframe thead th {\n",
       "        text-align: right;\n",
       "    }\n",
       "</style>\n",
       "<table border=\"1\" class=\"dataframe\">\n",
       "  <thead>\n",
       "    <tr style=\"text-align: right;\">\n",
       "      <th></th>\n",
       "      <th>total_images</th>\n",
       "      <th>last_price</th>\n",
       "      <th>total_area</th>\n",
       "      <th>first_day_exposition</th>\n",
       "      <th>rooms</th>\n",
       "      <th>ceiling_height</th>\n",
       "      <th>floors_total</th>\n",
       "      <th>living_area</th>\n",
       "      <th>floor</th>\n",
       "      <th>is_apartment</th>\n",
       "      <th>is_studio</th>\n",
       "      <th>is_open_plan</th>\n",
       "      <th>kitchen_area</th>\n",
       "      <th>balcony</th>\n",
       "      <th>locality_name</th>\n",
       "      <th>airports_nearest</th>\n",
       "      <th>city_centers_nearest</th>\n",
       "      <th>parks_around_3000</th>\n",
       "      <th>parks_nearest</th>\n",
       "      <th>ponds_around_3000</th>\n",
       "      <th>ponds_nearest</th>\n",
       "      <th>days_exposition</th>\n",
       "      <th>price_per_m2</th>\n",
       "      <th>day</th>\n",
       "      <th>month</th>\n",
       "      <th>year</th>\n",
       "      <th>floor_type</th>\n",
       "      <th>city_centers_km</th>\n",
       "    </tr>\n",
       "  </thead>\n",
       "  <tbody>\n",
       "    <tr>\n",
       "      <th>0</th>\n",
       "      <td>20</td>\n",
       "      <td>13000000</td>\n",
       "      <td>108.00</td>\n",
       "      <td>2019-03-07</td>\n",
       "      <td>3</td>\n",
       "      <td>2.70</td>\n",
       "      <td>16</td>\n",
       "      <td>51.00</td>\n",
       "      <td>8</td>\n",
       "      <td>False</td>\n",
       "      <td>False</td>\n",
       "      <td>False</td>\n",
       "      <td>25.00</td>\n",
       "      <td>0</td>\n",
       "      <td>санкт-петербург</td>\n",
       "      <td>18863.0</td>\n",
       "      <td>16028.0</td>\n",
       "      <td>1</td>\n",
       "      <td>482.0</td>\n",
       "      <td>2</td>\n",
       "      <td>755.0</td>\n",
       "      <td>NaN</td>\n",
       "      <td>120370.37</td>\n",
       "      <td>3</td>\n",
       "      <td>3</td>\n",
       "      <td>2019</td>\n",
       "      <td>other</td>\n",
       "      <td>16.0</td>\n",
       "    </tr>\n",
       "    <tr>\n",
       "      <th>1</th>\n",
       "      <td>7</td>\n",
       "      <td>3350000</td>\n",
       "      <td>40.40</td>\n",
       "      <td>2018-12-04</td>\n",
       "      <td>1</td>\n",
       "      <td>2.65</td>\n",
       "      <td>11</td>\n",
       "      <td>18.60</td>\n",
       "      <td>1</td>\n",
       "      <td>False</td>\n",
       "      <td>False</td>\n",
       "      <td>False</td>\n",
       "      <td>11.00</td>\n",
       "      <td>2</td>\n",
       "      <td>поселок шушары</td>\n",
       "      <td>12817.0</td>\n",
       "      <td>18603.0</td>\n",
       "      <td>0</td>\n",
       "      <td>NaN</td>\n",
       "      <td>0</td>\n",
       "      <td>NaN</td>\n",
       "      <td>81.0</td>\n",
       "      <td>82920.79</td>\n",
       "      <td>1</td>\n",
       "      <td>12</td>\n",
       "      <td>2018</td>\n",
       "      <td>first</td>\n",
       "      <td>19.0</td>\n",
       "    </tr>\n",
       "    <tr>\n",
       "      <th>2</th>\n",
       "      <td>10</td>\n",
       "      <td>5196000</td>\n",
       "      <td>56.00</td>\n",
       "      <td>2015-08-20</td>\n",
       "      <td>2</td>\n",
       "      <td>2.65</td>\n",
       "      <td>5</td>\n",
       "      <td>34.30</td>\n",
       "      <td>4</td>\n",
       "      <td>False</td>\n",
       "      <td>False</td>\n",
       "      <td>False</td>\n",
       "      <td>8.30</td>\n",
       "      <td>0</td>\n",
       "      <td>санкт-петербург</td>\n",
       "      <td>21741.0</td>\n",
       "      <td>13933.0</td>\n",
       "      <td>1</td>\n",
       "      <td>90.0</td>\n",
       "      <td>2</td>\n",
       "      <td>574.0</td>\n",
       "      <td>558.0</td>\n",
       "      <td>92785.71</td>\n",
       "      <td>3</td>\n",
       "      <td>8</td>\n",
       "      <td>2015</td>\n",
       "      <td>other</td>\n",
       "      <td>14.0</td>\n",
       "    </tr>\n",
       "    <tr>\n",
       "      <th>4</th>\n",
       "      <td>2</td>\n",
       "      <td>10000000</td>\n",
       "      <td>100.00</td>\n",
       "      <td>2018-06-19</td>\n",
       "      <td>2</td>\n",
       "      <td>3.03</td>\n",
       "      <td>14</td>\n",
       "      <td>32.00</td>\n",
       "      <td>13</td>\n",
       "      <td>False</td>\n",
       "      <td>False</td>\n",
       "      <td>False</td>\n",
       "      <td>41.00</td>\n",
       "      <td>0</td>\n",
       "      <td>санкт-петербург</td>\n",
       "      <td>31856.0</td>\n",
       "      <td>8098.0</td>\n",
       "      <td>2</td>\n",
       "      <td>112.0</td>\n",
       "      <td>1</td>\n",
       "      <td>48.0</td>\n",
       "      <td>121.0</td>\n",
       "      <td>100000.00</td>\n",
       "      <td>1</td>\n",
       "      <td>6</td>\n",
       "      <td>2018</td>\n",
       "      <td>other</td>\n",
       "      <td>8.0</td>\n",
       "    </tr>\n",
       "    <tr>\n",
       "      <th>5</th>\n",
       "      <td>10</td>\n",
       "      <td>2890000</td>\n",
       "      <td>30.40</td>\n",
       "      <td>2018-09-10</td>\n",
       "      <td>1</td>\n",
       "      <td>2.65</td>\n",
       "      <td>12</td>\n",
       "      <td>14.40</td>\n",
       "      <td>5</td>\n",
       "      <td>False</td>\n",
       "      <td>False</td>\n",
       "      <td>False</td>\n",
       "      <td>9.10</td>\n",
       "      <td>0</td>\n",
       "      <td>городской поселок янино-1</td>\n",
       "      <td>NaN</td>\n",
       "      <td>NaN</td>\n",
       "      <td>0</td>\n",
       "      <td>NaN</td>\n",
       "      <td>0</td>\n",
       "      <td>NaN</td>\n",
       "      <td>55.0</td>\n",
       "      <td>95065.79</td>\n",
       "      <td>0</td>\n",
       "      <td>9</td>\n",
       "      <td>2018</td>\n",
       "      <td>other</td>\n",
       "      <td>NaN</td>\n",
       "    </tr>\n",
       "    <tr>\n",
       "      <th>6</th>\n",
       "      <td>6</td>\n",
       "      <td>3700000</td>\n",
       "      <td>37.30</td>\n",
       "      <td>2017-11-02</td>\n",
       "      <td>1</td>\n",
       "      <td>2.65</td>\n",
       "      <td>26</td>\n",
       "      <td>10.60</td>\n",
       "      <td>6</td>\n",
       "      <td>False</td>\n",
       "      <td>False</td>\n",
       "      <td>False</td>\n",
       "      <td>14.40</td>\n",
       "      <td>1</td>\n",
       "      <td>поселок парголово</td>\n",
       "      <td>52996.0</td>\n",
       "      <td>19143.0</td>\n",
       "      <td>0</td>\n",
       "      <td>NaN</td>\n",
       "      <td>0</td>\n",
       "      <td>NaN</td>\n",
       "      <td>155.0</td>\n",
       "      <td>99195.71</td>\n",
       "      <td>3</td>\n",
       "      <td>11</td>\n",
       "      <td>2017</td>\n",
       "      <td>other</td>\n",
       "      <td>19.0</td>\n",
       "    </tr>\n",
       "    <tr>\n",
       "      <th>7</th>\n",
       "      <td>5</td>\n",
       "      <td>7915000</td>\n",
       "      <td>71.60</td>\n",
       "      <td>2019-04-18</td>\n",
       "      <td>2</td>\n",
       "      <td>2.65</td>\n",
       "      <td>24</td>\n",
       "      <td>41.31</td>\n",
       "      <td>22</td>\n",
       "      <td>False</td>\n",
       "      <td>False</td>\n",
       "      <td>False</td>\n",
       "      <td>18.90</td>\n",
       "      <td>2</td>\n",
       "      <td>санкт-петербург</td>\n",
       "      <td>23982.0</td>\n",
       "      <td>11634.0</td>\n",
       "      <td>0</td>\n",
       "      <td>NaN</td>\n",
       "      <td>0</td>\n",
       "      <td>NaN</td>\n",
       "      <td>NaN</td>\n",
       "      <td>110544.69</td>\n",
       "      <td>3</td>\n",
       "      <td>4</td>\n",
       "      <td>2019</td>\n",
       "      <td>other</td>\n",
       "      <td>12.0</td>\n",
       "    </tr>\n",
       "    <tr>\n",
       "      <th>8</th>\n",
       "      <td>20</td>\n",
       "      <td>2900000</td>\n",
       "      <td>33.16</td>\n",
       "      <td>2018-05-23</td>\n",
       "      <td>1</td>\n",
       "      <td>2.65</td>\n",
       "      <td>27</td>\n",
       "      <td>15.43</td>\n",
       "      <td>26</td>\n",
       "      <td>False</td>\n",
       "      <td>False</td>\n",
       "      <td>False</td>\n",
       "      <td>8.81</td>\n",
       "      <td>0</td>\n",
       "      <td>поселок мурино</td>\n",
       "      <td>NaN</td>\n",
       "      <td>NaN</td>\n",
       "      <td>0</td>\n",
       "      <td>NaN</td>\n",
       "      <td>0</td>\n",
       "      <td>NaN</td>\n",
       "      <td>189.0</td>\n",
       "      <td>87454.76</td>\n",
       "      <td>2</td>\n",
       "      <td>5</td>\n",
       "      <td>2018</td>\n",
       "      <td>other</td>\n",
       "      <td>NaN</td>\n",
       "    </tr>\n",
       "    <tr>\n",
       "      <th>9</th>\n",
       "      <td>18</td>\n",
       "      <td>5400000</td>\n",
       "      <td>61.00</td>\n",
       "      <td>2017-02-26</td>\n",
       "      <td>3</td>\n",
       "      <td>2.50</td>\n",
       "      <td>9</td>\n",
       "      <td>43.60</td>\n",
       "      <td>7</td>\n",
       "      <td>False</td>\n",
       "      <td>False</td>\n",
       "      <td>False</td>\n",
       "      <td>6.50</td>\n",
       "      <td>2</td>\n",
       "      <td>санкт-петербург</td>\n",
       "      <td>50898.0</td>\n",
       "      <td>15008.0</td>\n",
       "      <td>0</td>\n",
       "      <td>NaN</td>\n",
       "      <td>0</td>\n",
       "      <td>NaN</td>\n",
       "      <td>289.0</td>\n",
       "      <td>88524.59</td>\n",
       "      <td>6</td>\n",
       "      <td>2</td>\n",
       "      <td>2017</td>\n",
       "      <td>other</td>\n",
       "      <td>15.0</td>\n",
       "    </tr>\n",
       "    <tr>\n",
       "      <th>10</th>\n",
       "      <td>5</td>\n",
       "      <td>5050000</td>\n",
       "      <td>39.60</td>\n",
       "      <td>2017-11-16</td>\n",
       "      <td>1</td>\n",
       "      <td>2.67</td>\n",
       "      <td>12</td>\n",
       "      <td>20.30</td>\n",
       "      <td>3</td>\n",
       "      <td>False</td>\n",
       "      <td>False</td>\n",
       "      <td>False</td>\n",
       "      <td>8.50</td>\n",
       "      <td>0</td>\n",
       "      <td>санкт-петербург</td>\n",
       "      <td>38357.0</td>\n",
       "      <td>13878.0</td>\n",
       "      <td>1</td>\n",
       "      <td>310.0</td>\n",
       "      <td>2</td>\n",
       "      <td>553.0</td>\n",
       "      <td>137.0</td>\n",
       "      <td>127525.25</td>\n",
       "      <td>3</td>\n",
       "      <td>11</td>\n",
       "      <td>2017</td>\n",
       "      <td>other</td>\n",
       "      <td>14.0</td>\n",
       "    </tr>\n",
       "  </tbody>\n",
       "</table>\n",
       "</div>"
      ],
      "text/plain": [
       "    total_images  last_price  total_area first_day_exposition  rooms  \\\n",
       "0             20    13000000      108.00           2019-03-07      3   \n",
       "1              7     3350000       40.40           2018-12-04      1   \n",
       "2             10     5196000       56.00           2015-08-20      2   \n",
       "4              2    10000000      100.00           2018-06-19      2   \n",
       "5             10     2890000       30.40           2018-09-10      1   \n",
       "6              6     3700000       37.30           2017-11-02      1   \n",
       "7              5     7915000       71.60           2019-04-18      2   \n",
       "8             20     2900000       33.16           2018-05-23      1   \n",
       "9             18     5400000       61.00           2017-02-26      3   \n",
       "10             5     5050000       39.60           2017-11-16      1   \n",
       "\n",
       "    ceiling_height  floors_total  living_area  floor  is_apartment  is_studio  \\\n",
       "0             2.70            16        51.00      8         False      False   \n",
       "1             2.65            11        18.60      1         False      False   \n",
       "2             2.65             5        34.30      4         False      False   \n",
       "4             3.03            14        32.00     13         False      False   \n",
       "5             2.65            12        14.40      5         False      False   \n",
       "6             2.65            26        10.60      6         False      False   \n",
       "7             2.65            24        41.31     22         False      False   \n",
       "8             2.65            27        15.43     26         False      False   \n",
       "9             2.50             9        43.60      7         False      False   \n",
       "10            2.67            12        20.30      3         False      False   \n",
       "\n",
       "    is_open_plan  kitchen_area  balcony              locality_name  \\\n",
       "0          False         25.00        0            санкт-петербург   \n",
       "1          False         11.00        2             поселок шушары   \n",
       "2          False          8.30        0            санкт-петербург   \n",
       "4          False         41.00        0            санкт-петербург   \n",
       "5          False          9.10        0  городской поселок янино-1   \n",
       "6          False         14.40        1          поселок парголово   \n",
       "7          False         18.90        2            санкт-петербург   \n",
       "8          False          8.81        0             поселок мурино   \n",
       "9          False          6.50        2            санкт-петербург   \n",
       "10         False          8.50        0            санкт-петербург   \n",
       "\n",
       "    airports_nearest  city_centers_nearest  parks_around_3000  parks_nearest  \\\n",
       "0            18863.0               16028.0                  1          482.0   \n",
       "1            12817.0               18603.0                  0            NaN   \n",
       "2            21741.0               13933.0                  1           90.0   \n",
       "4            31856.0                8098.0                  2          112.0   \n",
       "5                NaN                   NaN                  0            NaN   \n",
       "6            52996.0               19143.0                  0            NaN   \n",
       "7            23982.0               11634.0                  0            NaN   \n",
       "8                NaN                   NaN                  0            NaN   \n",
       "9            50898.0               15008.0                  0            NaN   \n",
       "10           38357.0               13878.0                  1          310.0   \n",
       "\n",
       "    ponds_around_3000  ponds_nearest  days_exposition  price_per_m2  day  \\\n",
       "0                   2          755.0              NaN     120370.37    3   \n",
       "1                   0            NaN             81.0      82920.79    1   \n",
       "2                   2          574.0            558.0      92785.71    3   \n",
       "4                   1           48.0            121.0     100000.00    1   \n",
       "5                   0            NaN             55.0      95065.79    0   \n",
       "6                   0            NaN            155.0      99195.71    3   \n",
       "7                   0            NaN              NaN     110544.69    3   \n",
       "8                   0            NaN            189.0      87454.76    2   \n",
       "9                   0            NaN            289.0      88524.59    6   \n",
       "10                  2          553.0            137.0     127525.25    3   \n",
       "\n",
       "    month  year floor_type  city_centers_km  \n",
       "0       3  2019      other             16.0  \n",
       "1      12  2018      first             19.0  \n",
       "2       8  2015      other             14.0  \n",
       "4       6  2018      other              8.0  \n",
       "5       9  2018      other              NaN  \n",
       "6      11  2017      other             19.0  \n",
       "7       4  2019      other             12.0  \n",
       "8       5  2018      other              NaN  \n",
       "9       2  2017      other             15.0  \n",
       "10     11  2017      other             14.0  "
      ]
     },
     "execution_count": 59,
     "metadata": {},
     "output_type": "execute_result"
    }
   ],
   "source": [
    "# посмотрим, что получилось\n",
    "data.head(10)"
   ]
  },
  {
   "cell_type": "markdown",
   "metadata": {},
   "source": [
    "### Проведите исследовательский анализ данных"
   ]
  },
  {
   "cell_type": "markdown",
   "metadata": {},
   "source": [
    "#### Обзор параметров"
   ]
  },
  {
   "cell_type": "code",
   "execution_count": 60,
   "metadata": {},
   "outputs": [
    {
     "data": {
      "text/html": [
       "<div>\n",
       "<style scoped>\n",
       "    .dataframe tbody tr th:only-of-type {\n",
       "        vertical-align: middle;\n",
       "    }\n",
       "\n",
       "    .dataframe tbody tr th {\n",
       "        vertical-align: top;\n",
       "    }\n",
       "\n",
       "    .dataframe thead th {\n",
       "        text-align: right;\n",
       "    }\n",
       "</style>\n",
       "<table border=\"1\" class=\"dataframe\">\n",
       "  <thead>\n",
       "    <tr style=\"text-align: right;\">\n",
       "      <th></th>\n",
       "      <th>total_images</th>\n",
       "      <th>last_price</th>\n",
       "      <th>total_area</th>\n",
       "      <th>rooms</th>\n",
       "      <th>ceiling_height</th>\n",
       "      <th>floors_total</th>\n",
       "      <th>living_area</th>\n",
       "      <th>floor</th>\n",
       "      <th>kitchen_area</th>\n",
       "      <th>balcony</th>\n",
       "      <th>airports_nearest</th>\n",
       "      <th>city_centers_nearest</th>\n",
       "      <th>parks_around_3000</th>\n",
       "      <th>parks_nearest</th>\n",
       "      <th>ponds_around_3000</th>\n",
       "      <th>ponds_nearest</th>\n",
       "      <th>days_exposition</th>\n",
       "      <th>price_per_m2</th>\n",
       "      <th>day</th>\n",
       "      <th>month</th>\n",
       "      <th>year</th>\n",
       "      <th>city_centers_km</th>\n",
       "    </tr>\n",
       "  </thead>\n",
       "  <tbody>\n",
       "    <tr>\n",
       "      <th>count</th>\n",
       "      <td>23403.000000</td>\n",
       "      <td>2.340300e+04</td>\n",
       "      <td>23403.000000</td>\n",
       "      <td>23403.000000</td>\n",
       "      <td>23403.000000</td>\n",
       "      <td>23403.000000</td>\n",
       "      <td>23403.000000</td>\n",
       "      <td>23403.000000</td>\n",
       "      <td>23403.000000</td>\n",
       "      <td>23403.000000</td>\n",
       "      <td>17884.000000</td>\n",
       "      <td>17905.000000</td>\n",
       "      <td>23403.000000</td>\n",
       "      <td>7908.000000</td>\n",
       "      <td>23403.000000</td>\n",
       "      <td>8913.000000</td>\n",
       "      <td>20270.000000</td>\n",
       "      <td>23403.000000</td>\n",
       "      <td>23403.000000</td>\n",
       "      <td>23403.000000</td>\n",
       "      <td>23403.000000</td>\n",
       "      <td>17905.000000</td>\n",
       "    </tr>\n",
       "    <tr>\n",
       "      <th>mean</th>\n",
       "      <td>9.860659</td>\n",
       "      <td>5.962356e+06</td>\n",
       "      <td>58.838799</td>\n",
       "      <td>2.056360</td>\n",
       "      <td>2.693507</td>\n",
       "      <td>10.701320</td>\n",
       "      <td>33.762325</td>\n",
       "      <td>5.883263</td>\n",
       "      <td>10.326230</td>\n",
       "      <td>0.595009</td>\n",
       "      <td>28820.538973</td>\n",
       "      <td>14270.095057</td>\n",
       "      <td>0.461479</td>\n",
       "      <td>492.213202</td>\n",
       "      <td>0.582618</td>\n",
       "      <td>520.627286</td>\n",
       "      <td>179.885940</td>\n",
       "      <td>97583.682228</td>\n",
       "      <td>2.565697</td>\n",
       "      <td>6.402171</td>\n",
       "      <td>2017.373756</td>\n",
       "      <td>14.264004</td>\n",
       "    </tr>\n",
       "    <tr>\n",
       "      <th>std</th>\n",
       "      <td>5.670671</td>\n",
       "      <td>4.881124e+06</td>\n",
       "      <td>29.130861</td>\n",
       "      <td>1.008778</td>\n",
       "      <td>0.214264</td>\n",
       "      <td>6.604275</td>\n",
       "      <td>18.873946</td>\n",
       "      <td>4.880107</td>\n",
       "      <td>5.386842</td>\n",
       "      <td>0.961028</td>\n",
       "      <td>12671.582961</td>\n",
       "      <td>8602.515197</td>\n",
       "      <td>0.739916</td>\n",
       "      <td>341.825426</td>\n",
       "      <td>0.877240</td>\n",
       "      <td>278.198941</td>\n",
       "      <td>218.966202</td>\n",
       "      <td>39637.713514</td>\n",
       "      <td>1.788034</td>\n",
       "      <td>3.493195</td>\n",
       "      <td>1.035185</td>\n",
       "      <td>8.610071</td>\n",
       "    </tr>\n",
       "    <tr>\n",
       "      <th>min</th>\n",
       "      <td>0.000000</td>\n",
       "      <td>1.219000e+04</td>\n",
       "      <td>12.000000</td>\n",
       "      <td>1.000000</td>\n",
       "      <td>2.200000</td>\n",
       "      <td>1.000000</td>\n",
       "      <td>2.000000</td>\n",
       "      <td>1.000000</td>\n",
       "      <td>1.300000</td>\n",
       "      <td>0.000000</td>\n",
       "      <td>6450.000000</td>\n",
       "      <td>181.000000</td>\n",
       "      <td>0.000000</td>\n",
       "      <td>1.000000</td>\n",
       "      <td>0.000000</td>\n",
       "      <td>13.000000</td>\n",
       "      <td>1.000000</td>\n",
       "      <td>111.830000</td>\n",
       "      <td>0.000000</td>\n",
       "      <td>1.000000</td>\n",
       "      <td>2014.000000</td>\n",
       "      <td>0.000000</td>\n",
       "    </tr>\n",
       "    <tr>\n",
       "      <th>25%</th>\n",
       "      <td>6.000000</td>\n",
       "      <td>3.400000e+06</td>\n",
       "      <td>40.000000</td>\n",
       "      <td>1.000000</td>\n",
       "      <td>2.600000</td>\n",
       "      <td>5.000000</td>\n",
       "      <td>19.000000</td>\n",
       "      <td>2.000000</td>\n",
       "      <td>7.000000</td>\n",
       "      <td>0.000000</td>\n",
       "      <td>18516.000000</td>\n",
       "      <td>9403.000000</td>\n",
       "      <td>0.000000</td>\n",
       "      <td>288.000000</td>\n",
       "      <td>0.000000</td>\n",
       "      <td>297.000000</td>\n",
       "      <td>45.000000</td>\n",
       "      <td>76455.675000</td>\n",
       "      <td>1.000000</td>\n",
       "      <td>3.000000</td>\n",
       "      <td>2017.000000</td>\n",
       "      <td>9.000000</td>\n",
       "    </tr>\n",
       "    <tr>\n",
       "      <th>50%</th>\n",
       "      <td>9.000000</td>\n",
       "      <td>4.600000e+06</td>\n",
       "      <td>52.000000</td>\n",
       "      <td>2.000000</td>\n",
       "      <td>2.650000</td>\n",
       "      <td>9.000000</td>\n",
       "      <td>30.000000</td>\n",
       "      <td>4.000000</td>\n",
       "      <td>9.000000</td>\n",
       "      <td>0.000000</td>\n",
       "      <td>26786.000000</td>\n",
       "      <td>13149.000000</td>\n",
       "      <td>0.000000</td>\n",
       "      <td>456.000000</td>\n",
       "      <td>0.000000</td>\n",
       "      <td>505.000000</td>\n",
       "      <td>95.000000</td>\n",
       "      <td>94805.190000</td>\n",
       "      <td>3.000000</td>\n",
       "      <td>6.000000</td>\n",
       "      <td>2017.000000</td>\n",
       "      <td>13.000000</td>\n",
       "    </tr>\n",
       "    <tr>\n",
       "      <th>75%</th>\n",
       "      <td>14.000000</td>\n",
       "      <td>6.700000e+06</td>\n",
       "      <td>69.000000</td>\n",
       "      <td>3.000000</td>\n",
       "      <td>2.700000</td>\n",
       "      <td>16.000000</td>\n",
       "      <td>42.000000</td>\n",
       "      <td>8.000000</td>\n",
       "      <td>11.900000</td>\n",
       "      <td>1.000000</td>\n",
       "      <td>37348.000000</td>\n",
       "      <td>16316.000000</td>\n",
       "      <td>1.000000</td>\n",
       "      <td>613.000000</td>\n",
       "      <td>1.000000</td>\n",
       "      <td>733.000000</td>\n",
       "      <td>230.000000</td>\n",
       "      <td>113772.460000</td>\n",
       "      <td>4.000000</td>\n",
       "      <td>10.000000</td>\n",
       "      <td>2018.000000</td>\n",
       "      <td>16.000000</td>\n",
       "    </tr>\n",
       "    <tr>\n",
       "      <th>max</th>\n",
       "      <td>50.000000</td>\n",
       "      <td>5.000000e+07</td>\n",
       "      <td>347.500000</td>\n",
       "      <td>8.000000</td>\n",
       "      <td>10.000000</td>\n",
       "      <td>60.000000</td>\n",
       "      <td>230.000000</td>\n",
       "      <td>33.000000</td>\n",
       "      <td>100.700000</td>\n",
       "      <td>5.000000</td>\n",
       "      <td>84869.000000</td>\n",
       "      <td>65968.000000</td>\n",
       "      <td>3.000000</td>\n",
       "      <td>3190.000000</td>\n",
       "      <td>3.000000</td>\n",
       "      <td>1344.000000</td>\n",
       "      <td>1580.000000</td>\n",
       "      <td>848484.850000</td>\n",
       "      <td>6.000000</td>\n",
       "      <td>12.000000</td>\n",
       "      <td>2019.000000</td>\n",
       "      <td>66.000000</td>\n",
       "    </tr>\n",
       "  </tbody>\n",
       "</table>\n",
       "</div>"
      ],
      "text/plain": [
       "       total_images    last_price    total_area         rooms  ceiling_height  \\\n",
       "count  23403.000000  2.340300e+04  23403.000000  23403.000000    23403.000000   \n",
       "mean       9.860659  5.962356e+06     58.838799      2.056360        2.693507   \n",
       "std        5.670671  4.881124e+06     29.130861      1.008778        0.214264   \n",
       "min        0.000000  1.219000e+04     12.000000      1.000000        2.200000   \n",
       "25%        6.000000  3.400000e+06     40.000000      1.000000        2.600000   \n",
       "50%        9.000000  4.600000e+06     52.000000      2.000000        2.650000   \n",
       "75%       14.000000  6.700000e+06     69.000000      3.000000        2.700000   \n",
       "max       50.000000  5.000000e+07    347.500000      8.000000       10.000000   \n",
       "\n",
       "       floors_total   living_area         floor  kitchen_area       balcony  \\\n",
       "count  23403.000000  23403.000000  23403.000000  23403.000000  23403.000000   \n",
       "mean      10.701320     33.762325      5.883263     10.326230      0.595009   \n",
       "std        6.604275     18.873946      4.880107      5.386842      0.961028   \n",
       "min        1.000000      2.000000      1.000000      1.300000      0.000000   \n",
       "25%        5.000000     19.000000      2.000000      7.000000      0.000000   \n",
       "50%        9.000000     30.000000      4.000000      9.000000      0.000000   \n",
       "75%       16.000000     42.000000      8.000000     11.900000      1.000000   \n",
       "max       60.000000    230.000000     33.000000    100.700000      5.000000   \n",
       "\n",
       "       airports_nearest  city_centers_nearest  parks_around_3000  \\\n",
       "count      17884.000000          17905.000000       23403.000000   \n",
       "mean       28820.538973          14270.095057           0.461479   \n",
       "std        12671.582961           8602.515197           0.739916   \n",
       "min         6450.000000            181.000000           0.000000   \n",
       "25%        18516.000000           9403.000000           0.000000   \n",
       "50%        26786.000000          13149.000000           0.000000   \n",
       "75%        37348.000000          16316.000000           1.000000   \n",
       "max        84869.000000          65968.000000           3.000000   \n",
       "\n",
       "       parks_nearest  ponds_around_3000  ponds_nearest  days_exposition  \\\n",
       "count    7908.000000       23403.000000    8913.000000     20270.000000   \n",
       "mean      492.213202           0.582618     520.627286       179.885940   \n",
       "std       341.825426           0.877240     278.198941       218.966202   \n",
       "min         1.000000           0.000000      13.000000         1.000000   \n",
       "25%       288.000000           0.000000     297.000000        45.000000   \n",
       "50%       456.000000           0.000000     505.000000        95.000000   \n",
       "75%       613.000000           1.000000     733.000000       230.000000   \n",
       "max      3190.000000           3.000000    1344.000000      1580.000000   \n",
       "\n",
       "        price_per_m2           day         month          year  \\\n",
       "count   23403.000000  23403.000000  23403.000000  23403.000000   \n",
       "mean    97583.682228      2.565697      6.402171   2017.373756   \n",
       "std     39637.713514      1.788034      3.493195      1.035185   \n",
       "min       111.830000      0.000000      1.000000   2014.000000   \n",
       "25%     76455.675000      1.000000      3.000000   2017.000000   \n",
       "50%     94805.190000      3.000000      6.000000   2017.000000   \n",
       "75%    113772.460000      4.000000     10.000000   2018.000000   \n",
       "max    848484.850000      6.000000     12.000000   2019.000000   \n",
       "\n",
       "       city_centers_km  \n",
       "count     17905.000000  \n",
       "mean         14.264004  \n",
       "std           8.610071  \n",
       "min           0.000000  \n",
       "25%           9.000000  \n",
       "50%          13.000000  \n",
       "75%          16.000000  \n",
       "max          66.000000  "
      ]
     },
     "execution_count": 60,
     "metadata": {},
     "output_type": "execute_result"
    }
   ],
   "source": [
    "data.describe()"
   ]
  },
  {
   "cell_type": "markdown",
   "metadata": {},
   "source": [
    "* ***Общая площадь (total_area), жилая площадь (living_area), площадь кухни (kitchen_area)***  "
   ]
  },
  {
   "cell_type": "code",
   "execution_count": 61,
   "metadata": {},
   "outputs": [
    {
     "data": {
      "image/png": "[encoded data removed]",
      "text/plain": [
       "<Figure size 576x216 with 1 Axes>"
      ]
     },
     "metadata": {
      "needs_background": "light"
     },
     "output_type": "display_data"
    },
    {
     "data": {
      "image/png": "[encoded data removed]",
      "text/plain": [
       "<Figure size 576x216 with 1 Axes>"
      ]
     },
     "metadata": {
      "needs_background": "light"
     },
     "output_type": "display_data"
    },
    {
     "data": {
      "image/png": "[encoded data removed]",
      "text/plain": [
       "<Figure size 576x216 with 1 Axes>"
      ]
     },
     "metadata": {
      "needs_background": "light"
     },
     "output_type": "display_data"
    }
   ],
   "source": [
    "# Общая площадь\n",
    "data.plot(y='total_area', kind='hist', bins=100, grid=True, figsize=(8,3), range=(0,200), title='Общая площадь')\n",
    "plt.show() \n",
    "# жилая площадь\n",
    "data.plot(y='living_area', kind='hist', bins=70, grid=True, figsize=(8,3), range=(10,80), title='Жилая площадь')\n",
    "plt.show() \n",
    "# площадь кухни\n",
    "data.plot(y='kitchen_area', kind='hist', bins=30, grid=True, figsize=(8,3), range=(0,30), title='Площадь кухни')\n",
    "plt.show() "
   ]
  },
  {
   "cell_type": "markdown",
   "metadata": {},
   "source": [
    "**Выводы:**   \n",
    "* *total_area* - В основном представлены квартиры общей площадью от 45 до 70 кв. м. В выборке есть незначительное количество квартир с площадью более 100 кв. м. \n",
    "* *living_area* - наиболее часто встречаются квартиры с жилой площадью примерно до 50 кв. м. В районе 23-25 кв. м наблюдается некоторый провал. Видимо, этого количества жилой площади \"много\" для 1-комнатных квартир и мало для 2(и более)-комнатных квартир.\n",
    "* *kitchen_area* - В основном представлены кухни площадью 5-15 кв. м, что типично для рынка. Незначительное количество с площадью более 20 кв. м. "
   ]
  },
  {
   "cell_type": "markdown",
   "metadata": {},
   "source": [
    "* ***Этаж (floor), тип этажа (floor_type), общее количество этажей (floors_total)***"
   ]
  },
  {
   "cell_type": "code",
   "execution_count": 62,
   "metadata": {},
   "outputs": [
    {
     "data": {
      "image/png": "[encoded data removed]",
      "text/plain": [
       "<Figure size 576x216 with 1 Axes>"
      ]
     },
     "metadata": {
      "needs_background": "light"
     },
     "output_type": "display_data"
    },
    {
     "data": {
      "image/png": "[encoded data removed]",
      "text/plain": [
       "<Figure size 576x216 with 1 Axes>"
      ]
     },
     "metadata": {
      "needs_background": "light"
     },
     "output_type": "display_data"
    },
    {
     "data": {
      "image/png": "[encoded data removed]",
      "text/plain": [
       "<Figure size 576x216 with 1 Axes>"
      ]
     },
     "metadata": {
      "needs_background": "light"
     },
     "output_type": "display_data"
    }
   ],
   "source": [
    "# Этаж\n",
    "data.plot(y='floor', kind='hist', bins=30, grid=True, figsize=(8,3), range=(0,35), title='Этаж')\n",
    "plt.show() \n",
    "# Этажность дома\n",
    "data.plot(y='floors_total', kind='hist', bins=30, grid=True, figsize=(8,3), range=(0,60), title='Общее количество этажей')\n",
    "plt.show() \n",
    "# Тип этажа\n",
    "data['floor_type'].hist(bins=6, figsize=(8,3))\n",
    "plt.show() "
   ]
  },
  {
   "cell_type": "markdown",
   "metadata": {},
   "source": [
    "**Выводы:**    \n",
    "* *floor* - В основном представлены квартиры на 1-5. 7-8 этажах, выше - ощутимо меньшее количество.\n",
    "* *floors_total* - наиболее часто встречаются квартиры в 5 и 9-этажных домах. Небольшие пики в районе 18 и 25 этажей, видимо, дома новой постройки.\n",
    "* *floor_type* - Вполне логично, что наибольшее количество квартир представлено на средних (не крайних) этажах. "
   ]
  },
  {
   "cell_type": "markdown",
   "metadata": {},
   "source": [
    "* ***Количество комнат (rooms), высота потолков (ceiling_height)***  "
   ]
  },
  {
   "cell_type": "code",
   "execution_count": 63,
   "metadata": {},
   "outputs": [
    {
     "data": {
      "image/png": "[encoded data removed]",
      "text/plain": [
       "<Figure size 576x216 with 1 Axes>"
      ]
     },
     "metadata": {
      "needs_background": "light"
     },
     "output_type": "display_data"
    },
    {
     "data": {
      "image/png": "[encoded data removed]",
      "text/plain": [
       "<Figure size 576x216 with 1 Axes>"
      ]
     },
     "metadata": {
      "needs_background": "light"
     },
     "output_type": "display_data"
    }
   ],
   "source": [
    "data.plot(y='rooms', kind='hist', bins=15, grid=True, figsize=(8,3), range=(1,20), title='Количество комнат')\n",
    "plt.show() \n",
    "data.plot(y='ceiling_height', kind='hist', bins=30, grid=True, figsize=(8,3), range=(2.5,5), title='Высота потолков')\n",
    "plt.show()"
   ]
  },
  {
   "cell_type": "markdown",
   "metadata": {},
   "source": [
    "**Выводы:**  \n",
    "* *rooms* - Традиционно самые популярные квартиры - 1-2-комнатные, меньше 3-комнатных. Многокомнатных (5 и более) - незначительное количество.\n",
    "* *ceiling_height* - логично, что самые распространенные это квартиры с высотой потолков в районе 2.7м, небольшой пик в районе 3м. Выше - незначительное количество.\n"
   ]
  },
  {
   "cell_type": "markdown",
   "metadata": {},
   "source": [
    "* ***Цена объекта (last_price)***  "
   ]
  },
  {
   "cell_type": "code",
   "execution_count": 64,
   "metadata": {},
   "outputs": [
    {
     "data": {
      "image/png": "[encoded data removed]",
      "text/plain": [
       "<Figure size 432x288 with 1 Axes>"
      ]
     },
     "metadata": {
      "needs_background": "light"
     },
     "output_type": "display_data"
    }
   ],
   "source": [
    "#max_price = data['last_price'].max()\n",
    "#max_price\n",
    "#data.plot(y='last_price', kind='hist', bins=50, grid=True, range = (0,2e+07), figsize=(8,3), title='Цена объекта')\n",
    "# plt.show() \n",
    "\n",
    "plt.hist(data['last_price']/1000, bins=50, range=(0, 50000))\n",
    "plt.title('Стоимость объекта')\n",
    "plt.xlabel('Стоимость')\n",
    "plt.ylabel('Количество объектов')\n",
    "plt.grid(True)\n",
    "plt.show()"
   ]
  },
  {
   "cell_type": "markdown",
   "metadata": {},
   "source": [
    "**Вывод:**  \n",
    "* *last_price* - Основная масса квартир в районе 4-5 млн. руб. Наблюдается длинный \"хвост\" - это, видимо, элитная недвижимость."
   ]
  },
  {
   "cell_type": "markdown",
   "metadata": {},
   "source": [
    "* ***Расстояние до центра города (city_centers_nearest), расстояние до ближайшего аэропорта (airports_nearest), парка (parks_nearest), день и месяц публикации объявления (day, month)***  "
   ]
  },
  {
   "cell_type": "code",
   "execution_count": 65,
   "metadata": {},
   "outputs": [
    {
     "data": {
      "image/png": "[encoded data removed]",
      "text/plain": [
       "<Figure size 576x216 with 1 Axes>"
      ]
     },
     "metadata": {
      "needs_background": "light"
     },
     "output_type": "display_data"
    },
    {
     "data": {
      "image/png": "[encoded data removed]",
      "text/plain": [
       "<Figure size 576x216 with 1 Axes>"
      ]
     },
     "metadata": {
      "needs_background": "light"
     },
     "output_type": "display_data"
    },
    {
     "data": {
      "image/png": "[encoded data removed]",
      "text/plain": [
       "<Figure size 576x216 with 1 Axes>"
      ]
     },
     "metadata": {
      "needs_background": "light"
     },
     "output_type": "display_data"
    },
    {
     "data": {
      "image/png": "[encoded data removed]",
      "text/plain": [
       "<Figure size 576x216 with 1 Axes>"
      ]
     },
     "metadata": {
      "needs_background": "light"
     },
     "output_type": "display_data"
    },
    {
     "data": {
      "image/png": "[encoded data removed]",
      "text/plain": [
       "<Figure size 576x216 with 1 Axes>"
      ]
     },
     "metadata": {
      "needs_background": "light"
     },
     "output_type": "display_data"
    }
   ],
   "source": [
    "# расстояние до центра города\n",
    "data.plot(y='city_centers_nearest', kind='hist', bins=30, grid=True, figsize=(8,3), range=(0, 66000), title='Расстояние до центра города, м')\n",
    "plt.show() \n",
    "# расстояние до аэропорта\n",
    "data.plot(y='airports_nearest', kind='hist', bins=30, grid=True, figsize=(8,3), range=(0, 85000), title='Расстояние до ближайшего аэропорта, м')\n",
    "plt.show()\n",
    "# расстояние до парка\n",
    "data.plot(y='parks_nearest', kind='hist', bins=30, grid=True, figsize=(8,3), range=(0, 3500), title='Расстояние до ближайшего парка')\n",
    "plt.show()\n",
    "# день публикации\n",
    "data.plot(y='day', kind='hist', bins=7, grid=True, figsize=(8,3), title='День публикации')\n",
    "plt.show()\n",
    "# месяц публикации\n",
    "data.plot(y='month', kind='hist', bins=12, grid=True, figsize=(8,3), title='Месяц публикации')\n",
    "plt.show()"
   ]
  },
  {
   "cell_type": "markdown",
   "metadata": {},
   "source": [
    "**Выводы:**   \n",
    "* *city_centers_nearest* - видны два пика: квартиры на расстоянии примерно 5км и 12-16 км от центра города. В районе 30км также небольшой пик. \n",
    "* *airports_nearest* - тут вообще разброс большой: от 15 до 50 км.\n",
    "* *parks_nearest* - тут все красиво, у большинства объектов парк в относительно пешей доступности - от 300 до 700 м, более удаленных от парков квартир ощутимо меньше. \n",
    "* *day* - в основном объявления публикуются в будни, примерно в одинаковом количестве, в выходные - примерно в два раза реже. \n",
    "* *month* - наибольшая активность с февраля по апрель, дальше идет небольшой спад (лето, сезон дач и отпусков), ближе к осени снова начинается рост примерно до ноября, декабрь-январь - традиционный новогодний спад на рынке недвижимости."
   ]
  },
  {
   "cell_type": "markdown",
   "metadata": {},
   "source": [
    "#### Исследование срока экспозиции объектов (days_exposition)\n"
   ]
  },
  {
   "cell_type": "code",
   "execution_count": 66,
   "metadata": {},
   "outputs": [
    {
     "data": {
      "image/png": "[encoded data removed]",
      "text/plain": [
       "<Figure size 432x288 with 1 Axes>"
      ]
     },
     "metadata": {
      "needs_background": "light"
     },
     "output_type": "display_data"
    },
    {
     "name": "stdout",
     "output_type": "stream",
     "text": [
      "Медианный срок экспозиции: 95.0\n",
      "Средний срок экспозиции: 180.0\n"
     ]
    }
   ],
   "source": [
    "# диаграмма размаха\n",
    "sns.boxplot(x='days_exposition', data=data)\n",
    "plt.title('Срок экспозиции объекта', fontsize=10)\n",
    "#plt.xlim(0,1000)\n",
    "plt.show()\n",
    "\n",
    "# медиана\n",
    "print('Медианный срок экспозиции:', data['days_exposition'].median())\n",
    "# среднее\n",
    "print('Средний срок экспозиции:', data['days_exposition'].mean().round())"
   ]
  },
  {
   "cell_type": "code",
   "execution_count": 67,
   "metadata": {},
   "outputs": [
    {
     "data": {
      "image/png": "[encoded data removed]",
      "text/plain": [
       "<Figure size 360x360 with 1 Axes>"
      ]
     },
     "metadata": {
      "needs_background": "light"
     },
     "output_type": "display_data"
    },
    {
     "data": {
      "text/plain": [
       "count    20270.000000\n",
       "mean       179.885940\n",
       "std        218.966202\n",
       "min          1.000000\n",
       "25%         45.000000\n",
       "50%         95.000000\n",
       "75%        230.000000\n",
       "max       1580.000000\n",
       "Name: days_exposition, dtype: float64"
      ]
     },
     "execution_count": 67,
     "metadata": {},
     "output_type": "execute_result"
    }
   ],
   "source": [
    "plt.figure(figsize=(5,5))    \n",
    "data.days_exposition.hist(bins=500)\n",
    "plt.xlabel('Срок экспозиции, дней')\n",
    "plt.ylabel('Количество объявлений')\n",
    "plt.title('Срок экспозиции')\n",
    "plt.xlim(0,200)\n",
    "plt.show()\n",
    "\n",
    "data['days_exposition'].describe()"
   ]
  },
  {
   "cell_type": "markdown",
   "metadata": {},
   "source": [
    "**Вывод:** \n",
    "Медианный срок экспозиции жилой недвижимости - 95 дней, средний - 181 день. \n",
    "В основном квартиры продаются за срок в 100 дней. На гистограмме виды пики в районе 45 и 60 дней, которые сильно выбиваются из общей картины. Возможно, это как-то связано с правилами публикации объявлений сервиса Яндекс.Недвижимость. \n",
    "Быстрой продажей можно считать срок менее 45 дней. Долгой - от 231 дня."
   ]
  },
  {
   "cell_type": "markdown",
   "metadata": {},
   "source": [
    "#### Влияние факторов на общую стоимость объекта\n"
   ]
  },
  {
   "cell_type": "code",
   "execution_count": 68,
   "metadata": {},
   "outputs": [
    {
     "data": {
      "text/html": [
       "<style  type=\"text/css\" >\n",
       "#T_1970c_row0_col0,#T_1970c_row1_col1,#T_1970c_row2_col2,#T_1970c_row3_col3,#T_1970c_row4_col4{\n",
       "            background-color:  #b40426;\n",
       "            color:  #f1f1f1;\n",
       "        }#T_1970c_row0_col1{\n",
       "            background-color:  #c5d6f2;\n",
       "            color:  #000000;\n",
       "        }#T_1970c_row0_col2{\n",
       "            background-color:  #d1dae9;\n",
       "            color:  #000000;\n",
       "        }#T_1970c_row0_col3{\n",
       "            background-color:  #d4dbe6;\n",
       "            color:  #000000;\n",
       "        }#T_1970c_row0_col4{\n",
       "            background-color:  #9ebeff;\n",
       "            color:  #000000;\n",
       "        }#T_1970c_row1_col0{\n",
       "            background-color:  #ead4c8;\n",
       "            color:  #000000;\n",
       "        }#T_1970c_row1_col2{\n",
       "            background-color:  #d95847;\n",
       "            color:  #000000;\n",
       "        }#T_1970c_row1_col3{\n",
       "            background-color:  #d5dbe5;\n",
       "            color:  #000000;\n",
       "        }#T_1970c_row1_col4{\n",
       "            background-color:  #f7aa8c;\n",
       "            color:  #000000;\n",
       "        }#T_1970c_row2_col0{\n",
       "            background-color:  #b7cff9;\n",
       "            color:  #000000;\n",
       "        }#T_1970c_row2_col1{\n",
       "            background-color:  #e7745b;\n",
       "            color:  #000000;\n",
       "        }#T_1970c_row2_col3{\n",
       "            background-color:  #7a9df8;\n",
       "            color:  #000000;\n",
       "        }#T_1970c_row2_col4{\n",
       "            background-color:  #ec8165;\n",
       "            color:  #000000;\n",
       "        }#T_1970c_row3_col0{\n",
       "            background-color:  #89acfd;\n",
       "            color:  #000000;\n",
       "        }#T_1970c_row3_col1,#T_1970c_row3_col2,#T_1970c_row3_col4,#T_1970c_row4_col0,#T_1970c_row4_col3{\n",
       "            background-color:  #3b4cc0;\n",
       "            color:  #f1f1f1;\n",
       "        }#T_1970c_row4_col1{\n",
       "            background-color:  #cdd9ec;\n",
       "            color:  #000000;\n",
       "        }#T_1970c_row4_col2{\n",
       "            background-color:  #f39577;\n",
       "            color:  #000000;\n",
       "        }</style><table id=\"T_1970c_\" ><thead>    <tr>        <th class=\"blank level0\" ></th>        <th class=\"col_heading level0 col0\" >last_price</th>        <th class=\"col_heading level0 col1\" >total_area</th>        <th class=\"col_heading level0 col2\" >living_area</th>        <th class=\"col_heading level0 col3\" >kitchen_area</th>        <th class=\"col_heading level0 col4\" >rooms</th>    </tr></thead><tbody>\n",
       "                <tr>\n",
       "                        <th id=\"T_1970c_level0_row0\" class=\"row_heading level0 row0\" >last_price</th>\n",
       "                        <td id=\"T_1970c_row0_col0\" class=\"data row0 col0\" >1.000000</td>\n",
       "                        <td id=\"T_1970c_row0_col1\" class=\"data row0 col1\" >0.778367</td>\n",
       "                        <td id=\"T_1970c_row0_col2\" class=\"data row0 col2\" >0.684958</td>\n",
       "                        <td id=\"T_1970c_row0_col3\" class=\"data row0 col3\" >0.618406</td>\n",
       "                        <td id=\"T_1970c_row0_col4\" class=\"data row0 col4\" >0.497995</td>\n",
       "            </tr>\n",
       "            <tr>\n",
       "                        <th id=\"T_1970c_level0_row1\" class=\"row_heading level0 row1\" >total_area</th>\n",
       "                        <td id=\"T_1970c_row1_col0\" class=\"data row1 col0\" >0.778367</td>\n",
       "                        <td id=\"T_1970c_row1_col1\" class=\"data row1 col1\" >1.000000</td>\n",
       "                        <td id=\"T_1970c_row1_col2\" class=\"data row1 col2\" >0.936782</td>\n",
       "                        <td id=\"T_1970c_row1_col3\" class=\"data row1 col3\" >0.620261</td>\n",
       "                        <td id=\"T_1970c_row1_col4\" class=\"data row1 col4\" >0.789058</td>\n",
       "            </tr>\n",
       "            <tr>\n",
       "                        <th id=\"T_1970c_level0_row2\" class=\"row_heading level0 row2\" >living_area</th>\n",
       "                        <td id=\"T_1970c_row2_col0\" class=\"data row2 col0\" >0.684958</td>\n",
       "                        <td id=\"T_1970c_row2_col1\" class=\"data row2 col1\" >0.936782</td>\n",
       "                        <td id=\"T_1970c_row2_col2\" class=\"data row2 col2\" >1.000000</td>\n",
       "                        <td id=\"T_1970c_row2_col3\" class=\"data row2 col3\" >0.423674</td>\n",
       "                        <td id=\"T_1970c_row2_col4\" class=\"data row2 col4\" >0.862102</td>\n",
       "            </tr>\n",
       "            <tr>\n",
       "                        <th id=\"T_1970c_level0_row3\" class=\"row_heading level0 row3\" >kitchen_area</th>\n",
       "                        <td id=\"T_1970c_row3_col0\" class=\"data row3 col0\" >0.618406</td>\n",
       "                        <td id=\"T_1970c_row3_col1\" class=\"data row3 col1\" >0.620261</td>\n",
       "                        <td id=\"T_1970c_row3_col2\" class=\"data row3 col2\" >0.423674</td>\n",
       "                        <td id=\"T_1970c_row3_col3\" class=\"data row3 col3\" >1.000000</td>\n",
       "                        <td id=\"T_1970c_row3_col4\" class=\"data row3 col4\" >0.282616</td>\n",
       "            </tr>\n",
       "            <tr>\n",
       "                        <th id=\"T_1970c_level0_row4\" class=\"row_heading level0 row4\" >rooms</th>\n",
       "                        <td id=\"T_1970c_row4_col0\" class=\"data row4 col0\" >0.497995</td>\n",
       "                        <td id=\"T_1970c_row4_col1\" class=\"data row4 col1\" >0.789058</td>\n",
       "                        <td id=\"T_1970c_row4_col2\" class=\"data row4 col2\" >0.862102</td>\n",
       "                        <td id=\"T_1970c_row4_col3\" class=\"data row4 col3\" >0.282616</td>\n",
       "                        <td id=\"T_1970c_row4_col4\" class=\"data row4 col4\" >1.000000</td>\n",
       "            </tr>\n",
       "    </tbody></table>"
      ],
      "text/plain": [
       "<pandas.io.formats.style.Styler at 0x7f20219e3c10>"
      ]
     },
     "execution_count": 68,
     "metadata": {},
     "output_type": "execute_result"
    }
   ],
   "source": [
    "# построим матрицу корреляций для исследуемых параметров\n",
    "data_corr = data[['last_price', \\\n",
    "                  'total_area', \\\n",
    "                  'living_area', \\\n",
    "                  'kitchen_area', \\\n",
    "                  'rooms', \n",
    "                 ]].corr()\n",
    "data_corr.style.background_gradient(cmap='coolwarm')"
   ]
  },
  {
   "cell_type": "markdown",
   "metadata": {},
   "source": [
    "Из матрицы корреляций видно, что наибольшая зависимость у цены объекта от общей площади, поменьше от площади жилой и кухни и еще меньше, но есть, от количества комнат. Разберем каждый параметр отдельно."
   ]
  },
  {
   "cell_type": "code",
   "execution_count": 69,
   "metadata": {},
   "outputs": [
    {
     "data": {
      "image/png": "[encoded data removed]",
      "text/plain": [
       "<Figure size 288x288 with 1 Axes>"
      ]
     },
     "metadata": {
      "needs_background": "light"
     },
     "output_type": "display_data"
    },
    {
     "name": "stdout",
     "output_type": "stream",
     "text": [
      "Корреляция цены и площади: \n",
      "\n",
      "            last_price  total_area\n",
      "last_price    1.000000    0.879689\n",
      "total_area    0.879689    1.000000 \n",
      "\n"
     ]
    },
    {
     "data": {
      "image/png": "[encoded data removed]",
      "text/plain": [
       "<Figure size 288x288 with 1 Axes>"
      ]
     },
     "metadata": {
      "needs_background": "light"
     },
     "output_type": "display_data"
    },
    {
     "name": "stdout",
     "output_type": "stream",
     "text": [
      "Корреляция цены и жилой площади: \n",
      "\n",
      "             last_price  living_area\n",
      "last_price      1.00000      0.73464\n",
      "living_area     0.73464      1.00000 \n",
      "\n"
     ]
    },
    {
     "data": {
      "image/png": "[encoded data removed]",
      "text/plain": [
       "<Figure size 288x288 with 1 Axes>"
      ]
     },
     "metadata": {
      "needs_background": "light"
     },
     "output_type": "display_data"
    },
    {
     "name": "stdout",
     "output_type": "stream",
     "text": [
      "Корреляция цены и площади кухни: \n",
      "\n",
      "              kitchen_area  last_price\n",
      "kitchen_area      1.000000    0.391126\n",
      "last_price        0.391126    1.000000 \n",
      "\n"
     ]
    }
   ],
   "source": [
    "# Влияние общей площади на стоимость \n",
    "data.pivot_table(index='total_area', values='last_price').plot(grid=True, style='-', figsize=(4,4), y='last_price')\n",
    "plt.show()\n",
    "print('Корреляция цены и площади:','\\n')\n",
    "print(data.pivot_table(index='floor', values=['total_area', 'last_price']).corr(),'\\n')\n",
    "\n",
    "# Влияние жилой площади на стоимость\n",
    "data.pivot_table(index='living_area', values='last_price').plot(grid=True, style='-', figsize=(4,4), y='last_price')\n",
    "plt.show()\n",
    "print('Корреляция цены и жилой площади:','\\n')\n",
    "print(data.pivot_table(index='floor', values=['living_area', 'last_price']).corr(),'\\n')\n",
    "\n",
    "# Влияние площади кухни на стоимость\n",
    "data.pivot_table(index='kitchen_area', values='last_price').plot(grid=True, style='-', figsize=(4,4), y='last_price')\n",
    "plt.show()\n",
    "print('Корреляция цены и площади кухни:','\\n')\n",
    "print(data.pivot_table(index='floor', values=['kitchen_area', 'last_price']).corr(),'\\n')"
   ]
  },
  {
   "cell_type": "markdown",
   "metadata": {},
   "source": [
    "**Вывод:** Логично, что чем больше общая площадь объекта, тем выше общая стоимость объекта, коэффициент коррелиции достаточно высокий - 0,88, зависимость прямая и сильная. Аналогичный вывод можно сделать и по влиянию жилой площади на стоимость, коэф. коррелиции - 0,73. А вот от площади кухни стоимость хоть и зависит, но уже не так сильно, коэф. коррелиции - 0,39."
   ]
  },
  {
   "cell_type": "code",
   "execution_count": 70,
   "metadata": {},
   "outputs": [
    {
     "data": {
      "image/png": "[encoded data removed]",
      "text/plain": [
       "<Figure size 288x288 with 1 Axes>"
      ]
     },
     "metadata": {
      "needs_background": "light"
     },
     "output_type": "display_data"
    },
    {
     "name": "stdout",
     "output_type": "stream",
     "text": [
      "Корреляция цены и количества комнат: \n",
      "\n",
      "            last_price     rooms\n",
      "last_price    1.000000  0.583536\n",
      "rooms         0.583536  1.000000 \n",
      "\n"
     ]
    }
   ],
   "source": [
    "# Влияние количества комнат на стоимость\n",
    "data.pivot_table(index='rooms', values='last_price').plot(grid=True, style='-', figsize=(4,4),  y='last_price')\n",
    "plt.show()\n",
    "print('Корреляция цены и количества комнат:','\\n')\n",
    "print(data.pivot_table(index='floor', values=['rooms', 'last_price']).corr(),'\\n')"
   ]
  },
  {
   "cell_type": "markdown",
   "metadata": {},
   "source": [
    "**Вывод:** Количество комнат влияет на цену (чем больше комнат, тем выше цена), но зависимость не такая сильная как с площадями."
   ]
  },
  {
   "cell_type": "code",
   "execution_count": 71,
   "metadata": {},
   "outputs": [
    {
     "data": {
      "image/png": "[encoded data removed]",
      "text/plain": [
       "<Figure size 432x288 with 1 Axes>"
      ]
     },
     "metadata": {
      "needs_background": "light"
     },
     "output_type": "display_data"
    }
   ],
   "source": [
    "# Влияние типа этажа на стоимость\n",
    "data.groupby('floor_type')['last_price'].median().plot(x='floor_type',y='last_price',style='o-',legend=True)\n",
    "plt.show()"
   ]
  },
  {
   "cell_type": "markdown",
   "metadata": {},
   "source": [
    "**Вывод.** Цены на первом этаже, очевидно, самые низкие. Чуть дороже последний этаж. Наибольшая стоимость у квартир, расположенных не на крайних этажах."
   ]
  },
  {
   "cell_type": "code",
   "execution_count": 72,
   "metadata": {},
   "outputs": [
    {
     "data": {
      "image/png": "[encoded data removed]",
      "text/plain": [
       "<Figure size 720x288 with 1 Axes>"
      ]
     },
     "metadata": {
      "needs_background": "light"
     },
     "output_type": "display_data"
    },
    {
     "data": {
      "image/png": "[encoded data removed]",
      "text/plain": [
       "<Figure size 720x288 with 1 Axes>"
      ]
     },
     "metadata": {
      "needs_background": "light"
     },
     "output_type": "display_data"
    },
    {
     "data": {
      "image/png": "[encoded data removed]",
      "text/plain": [
       "<Figure size 720x288 with 1 Axes>"
      ]
     },
     "metadata": {
      "needs_background": "light"
     },
     "output_type": "display_data"
    }
   ],
   "source": [
    "# Влияние дня недели публикации\n",
    "data.pivot_table(index='day', values='last_price').plot(grid=True, style='o-', figsize=(10,4))\n",
    "plt.show()\n",
    "# Влияние месяца публикации\n",
    "data.pivot_table(index='month', values='last_price').plot(grid=True, style='o-', xlim=(1,12), figsize=(10,4))\n",
    "plt.show()\n",
    "# ВЛияние года публикации\n",
    "data.pivot_table(index='year', values='last_price').plot(grid=True, style='o-', figsize=(10,4))\n",
    "plt.show()"
   ]
  },
  {
   "cell_type": "markdown",
   "metadata": {},
   "source": [
    "**Вывод:**  \n",
    "День недели: цена выше у квартир, выставленных на продажу в середине недели.\n",
    "Месяц публикации: дороже всего квартиры, выставленные на продажу в апреле и сентябре.\n",
    "Год публикации: Начиная с 2014 года цена на квартиры падала, но начиная к 2019 наблюдается плавный рост. "
   ]
  },
  {
   "cell_type": "markdown",
   "metadata": {},
   "source": [
    "#### Сравнение средней стоимости 1 кв. м жилья в топ-10 населенных пунктов\n"
   ]
  },
  {
   "cell_type": "code",
   "execution_count": 73,
   "metadata": {},
   "outputs": [
    {
     "data": {
      "image/png": "[encoded data removed]",
      "text/plain": [
       "<Figure size 432x288 with 1 Axes>"
      ]
     },
     "metadata": {
      "needs_background": "light"
     },
     "output_type": "display_data"
    }
   ],
   "source": [
    "# Отбор 10 населенных пунктов с наибольшим количеством объявлений:\n",
    "locality_top_10 = data['locality_name'].value_counts().index[0:10]\n",
    "locality_top_10\n",
    "\n",
    "# Рассчет средней стоимости кв. м в списке locality_top_10\n",
    "(data\n",
    "     .query('locality_name in @locality_top_10')\n",
    "     .pivot_table(index='locality_name', values='price_per_m2', aggfunc='mean')\n",
    "     .sort_values(by='price_per_m2', ascending=False).round(2)\n",
    "     .plot(kind='barh')\n",
    "     );"
   ]
  },
  {
   "cell_type": "markdown",
   "metadata": {},
   "source": [
    "**Вывод:** Среди топ-10 населенных пунктов с наибольшим количеством объявлений ожидаемо самая высокая стоимость 1 кв. м жилья в Санкт-Петербурге. В Выборге - минимальная цена 1 кв. м среди топ-10 населенных пунктов."
   ]
  },
  {
   "cell_type": "markdown",
   "metadata": {},
   "source": [
    "#### Анализ цен предложений в г. Санкт-Петербурге\n"
   ]
  },
  {
   "cell_type": "code",
   "execution_count": 74,
   "metadata": {},
   "outputs": [
    {
     "data": {
      "image/png": "[encoded data removed]",
      "text/plain": [
       "<Figure size 720x360 with 1 Axes>"
      ]
     },
     "metadata": {
      "needs_background": "light"
     },
     "output_type": "display_data"
    }
   ],
   "source": [
    "# Отбор объявлений по населенному пункту (Спб), \n",
    "# строим график заивисмости цены за 1 кв. м от параметра \"расстояние до центра города\"\n",
    "(\n",
    "    data.query('locality_name == \"санкт-петербург\"')\n",
    "    .pivot_table(index='city_centers_km', values='price_per_m2', aggfunc = 'mean')\n",
    "    .plot(grid=True, style='o-', xlim=(0,15), figsize=(10, 5))\n",
    ")\n",
    "plt.show()\n"
   ]
  },
  {
   "cell_type": "markdown",
   "metadata": {},
   "source": [
    "На графике видно, что после 7 км наблюдается снижение стоимости 1 кв. м жилья. В связи с чем можно считать центральной зоной - удаленность в пределах 7 км. "
   ]
  },
  {
   "cell_type": "code",
   "execution_count": 75,
   "metadata": {},
   "outputs": [
    {
     "data": {
      "text/html": [
       "<div>\n",
       "<style scoped>\n",
       "    .dataframe tbody tr th:only-of-type {\n",
       "        vertical-align: middle;\n",
       "    }\n",
       "\n",
       "    .dataframe tbody tr th {\n",
       "        vertical-align: top;\n",
       "    }\n",
       "\n",
       "    .dataframe thead th {\n",
       "        text-align: right;\n",
       "    }\n",
       "</style>\n",
       "<table border=\"1\" class=\"dataframe\">\n",
       "  <thead>\n",
       "    <tr style=\"text-align: right;\">\n",
       "      <th></th>\n",
       "      <th>price_per_m2</th>\n",
       "    </tr>\n",
       "    <tr>\n",
       "      <th>city_centers_km</th>\n",
       "      <th></th>\n",
       "    </tr>\n",
       "  </thead>\n",
       "  <tbody>\n",
       "    <tr>\n",
       "      <th>0.0</th>\n",
       "      <td>207075.888696</td>\n",
       "    </tr>\n",
       "    <tr>\n",
       "      <th>1.0</th>\n",
       "      <td>146068.259148</td>\n",
       "    </tr>\n",
       "    <tr>\n",
       "      <th>2.0</th>\n",
       "      <td>136788.859031</td>\n",
       "    </tr>\n",
       "    <tr>\n",
       "      <th>3.0</th>\n",
       "      <td>118845.980233</td>\n",
       "    </tr>\n",
       "    <tr>\n",
       "      <th>4.0</th>\n",
       "      <td>127515.757500</td>\n",
       "    </tr>\n",
       "    <tr>\n",
       "      <th>5.0</th>\n",
       "      <td>135137.555102</td>\n",
       "    </tr>\n",
       "    <tr>\n",
       "      <th>6.0</th>\n",
       "      <td>140678.404054</td>\n",
       "    </tr>\n",
       "    <tr>\n",
       "      <th>7.0</th>\n",
       "      <td>142087.445758</td>\n",
       "    </tr>\n",
       "    <tr>\n",
       "      <th>8.0</th>\n",
       "      <td>125073.007665</td>\n",
       "    </tr>\n",
       "    <tr>\n",
       "      <th>9.0</th>\n",
       "      <td>113159.373333</td>\n",
       "    </tr>\n",
       "    <tr>\n",
       "      <th>10.0</th>\n",
       "      <td>112785.843165</td>\n",
       "    </tr>\n",
       "    <tr>\n",
       "      <th>11.0</th>\n",
       "      <td>107983.690531</td>\n",
       "    </tr>\n",
       "    <tr>\n",
       "      <th>12.0</th>\n",
       "      <td>107490.735492</td>\n",
       "    </tr>\n",
       "    <tr>\n",
       "      <th>13.0</th>\n",
       "      <td>108099.098036</td>\n",
       "    </tr>\n",
       "    <tr>\n",
       "      <th>14.0</th>\n",
       "      <td>104213.429027</td>\n",
       "    </tr>\n",
       "  </tbody>\n",
       "</table>\n",
       "</div>"
      ],
      "text/plain": [
       "                  price_per_m2\n",
       "city_centers_km               \n",
       "0.0              207075.888696\n",
       "1.0              146068.259148\n",
       "2.0              136788.859031\n",
       "3.0              118845.980233\n",
       "4.0              127515.757500\n",
       "5.0              135137.555102\n",
       "6.0              140678.404054\n",
       "7.0              142087.445758\n",
       "8.0              125073.007665\n",
       "9.0              113159.373333\n",
       "10.0             112785.843165\n",
       "11.0             107983.690531\n",
       "12.0             107490.735492\n",
       "13.0             108099.098036\n",
       "14.0             104213.429027"
      ]
     },
     "execution_count": 75,
     "metadata": {},
     "output_type": "execute_result"
    }
   ],
   "source": [
    "# сделам сводную таблицу с удаленностью от центра и стоимостью 1 кв. м по Спб\n",
    "pivot_table_km = data.query('locality_name == \"санкт-петербург\"') \\\n",
    "                 .pivot_table(index='city_centers_km', values='price_per_m2', aggfunc = 'mean')\n",
    "pivot_table_km.head(15)"
   ]
  },
  {
   "cell_type": "markdown",
   "metadata": {},
   "source": [
    "**Вывод:** Итак, выяснили, что центром Санкт-Петербурга можно считать удаленность в пределах 7 км. По сводной таблице видно, что, начиная с 8 км, начинает плавно снижаться стоимость 1 кв. м."
   ]
  },
  {
   "cell_type": "markdown",
   "metadata": {},
   "source": [
    "### Общий вывод"
   ]
  },
  {
   "cell_type": "markdown",
   "metadata": {},
   "source": [
    "Произведен анализ рынка жилой недвижимости г. Санкт-Петербурга и соседних населенных пунктов. Основные выводы следующие:  \n",
    "* Больше всего на рынке представлено квартир общей площадью 45-70 кв. м, на средних (не крайних) этажах в 5-9-этажгных домах. \n",
    "* Основная масса квартир стоит в районе 4-5 млн. рублей, но есть и значительно более дорогие, элитные объекты.\n",
    "* У больше части объектов есть в пешей доступности парк.\n",
    "* Наибольшая активность на рынке жилой недвижимости наблюдается в районе февраля-апреля и осенью. Летом, в сезон отпусков, традиционный спад.\n",
    "* В среднем квартиры продаются за срок в 100 дней. Продажу менее чем за 45 дней можно считать быстрой.\n",
    "* Самая дорогая недвижимость в Санкт-Петербурге и г. Пушкин. \n",
    "* Начиная с 2014 года цена на квартиры падала, но начиная к 2019 наблюдается плавный рост.\n",
    "* Основные ценообразующие факторы на рынке жилой недвижимости: общая и жилая площадь, местоположение (удаленность от центра населенного пункта), количество комнат, расположения (первый - самый дешевый) и площадь кухни. (Естественно, одним из главных ценообразующих факторов является и состояние объекта (как отделки, так и жилого дома), но данной информации в выборке не представлено)."
   ]
  },
  {
   "cell_type": "markdown",
   "metadata": {},
   "source": [
    "**Рекомендации для сервиса Яндекс. Недвижимость:**\n",
    "* Сделать заполнение таких полей как этажность дома, адрес дома обязательным. Это решит проблему с пропусками в соответствующих столбцах, а также при расчете расстояния до центра, парков, и т.д.\n",
    "* Ввести поля, описывающие состояние отделки объекта (Например, без ремонта/требуется косметический ремонт/хорошее состояние/отличное/улучшенная отделка).\n",
    "* По точному адресу дома определять его год постройки (жилье в \"хрущевках\" дешевле жилья в новостройках).\n",
    "* Данные о расстоянии до аэропорта/парков/водоемов/центра считать в км с округлением, например, до 1 знака.\n",
    "\n"
   ]
  },
  {
   "cell_type": "markdown",
   "metadata": {},
   "source": [
    "**Чек-лист готовности проекта**\n",
    "\n",
    "Поставьте 'x' в выполненных пунктах. Далее нажмите Shift+Enter."
   ]
  },
  {
   "cell_type": "markdown",
   "metadata": {},
   "source": [
    "- [x]  открыт файл\n",
    "- [x]  файлы изучены (выведены первые строки, метод `info()`, гистограммы и т.д.)\n",
    "- [x]  определены пропущенные значения\n",
    "- [x]  заполнены пропущенные значения там, где это возможно\n",
    "- [x]  есть пояснение, какие пропущенные значения обнаружены\n",
    "- [x]  изменены типы данных\n",
    "- [x]  есть пояснение, в каких столбцах изменены типы и почему\n",
    "- [x]  устранены неявные дубликаты в названиях населённых пунктов\n",
    "- [x]  устранены редкие и выбивающиеся значения (аномалии) во всех столбцах\n",
    "- [x]  посчитано и добавлено в таблицу: цена одного квадратного метра\n",
    "- [x]  посчитано и добавлено в таблицу: день публикации объявления (0 - понедельник, 1 - вторник и т.д.)\n",
    "- [x]  посчитано и добавлено в таблицу: месяц публикации объявления\n",
    "- [x]  посчитано и добавлено в таблицу: год публикации объявления\n",
    "- [x]  посчитано и добавлено в таблицу: тип этажа квартиры (значения — «первый», «последний», «другой»)\n",
    "- [x]  посчитано и добавлено в таблицу: расстояние в км до центра города\n",
    "- [x]  изучены и описаны следующие параметры:\n",
    "        - общая площадь;\n",
    "        - жилая площадь;\n",
    "        - площадь кухни;\n",
    "        - цена объекта;\n",
    "        - количество комнат;\n",
    "        - высота потолков;\n",
    "        - этаж квартиры;\n",
    "        - тип этажа квартиры («первый», «последний», «другой»);\n",
    "        - общее количество этажей в доме;\n",
    "        - расстояние до центра города в метрах;\n",
    "        - расстояние до ближайшего аэропорта;\n",
    "        - расстояние до ближайшего парка;\n",
    "        - день и месяц публикации объявления\n",
    "- [x]  построены гистограммы для каждого параметра\n",
    "- [x]  выполнено задание: \"Изучите, как быстро продавались квартиры (столбец days_exposition). Этот параметр показывает, сколько дней «висело» каждое объявление.\n",
    "    - Постройте гистограмму.\n",
    "    - Посчитайте среднее и медиану.\n",
    "    - В ячейке типа markdown опишите, сколько обычно занимает продажа. Какие продажи можно считать быстрыми, а какие — необычно долгими?\"\n",
    "- [x]  выполнено задание: \"Какие факторы больше всего влияют на общую (полную) стоимость объекта? Постройте графики, которые покажут зависимость цены от указанных ниже параметров. Для подготовки данных перед визуализацией вы можете использовать сводные таблицы.\"\n",
    "        - общей площади;\n",
    "        - жилой площади;\n",
    "        - площади кухни;\n",
    "        - количество комнат;\n",
    "        - типа этажа, на котором расположена квартира (первый, последний, другой);\n",
    "        - даты размещения (день недели, месяц, год);\n",
    "- [x]  выполнено задание: \"Посчитайте среднюю цену одного квадратного метра в 10 населённых пунктах с наибольшим числом объявлений. Выделите населённые пункты с самой высокой и низкой стоимостью квадратного метра. Эти данные можно найти по имени в столбце `locality_name`.\"\n",
    "- [x]  выполнено задание: \"Ранее вы посчитали расстояние до центра в километрах. Теперь выделите квартиры в Санкт-Петербурге с помощью столбца `locality_name` и вычислите среднюю цену каждого километра. Опишите, как стоимость объектов зависит от расстояния до центра города.\"\n",
    "- [x]  в каждом этапе есть промежуточные выводы\n",
    "- [x]  есть общий вывод"
   ]
  }
 ],
 "metadata": {
  "ExecuteTimeLog": [
   {
    "duration": 608,
    "start_time": "2023-04-21T10:24:16.925Z"
   },
   {
    "duration": 16,
    "start_time": "2023-04-21T10:25:18.158Z"
   },
   {
    "duration": 3,
    "start_time": "2023-04-21T10:26:25.384Z"
   },
   {
    "duration": 19,
    "start_time": "2023-04-21T10:26:46.122Z"
   },
   {
    "duration": 537,
    "start_time": "2023-04-21T13:38:50.996Z"
   },
   {
    "duration": 13,
    "start_time": "2023-04-21T13:38:53.814Z"
   },
   {
    "duration": 84,
    "start_time": "2023-04-21T13:42:31.887Z"
   },
   {
    "duration": 8,
    "start_time": "2023-04-21T13:42:33.547Z"
   },
   {
    "duration": 91,
    "start_time": "2023-04-21T13:43:35.980Z"
   },
   {
    "duration": 37,
    "start_time": "2023-04-21T13:43:37.257Z"
   },
   {
    "duration": 15,
    "start_time": "2023-04-21T13:47:10.725Z"
   },
   {
    "duration": 10,
    "start_time": "2023-04-21T14:03:28.676Z"
   },
   {
    "duration": 4,
    "start_time": "2023-04-21T14:08:45.664Z"
   },
   {
    "duration": 10,
    "start_time": "2023-04-21T14:08:48.160Z"
   },
   {
    "duration": 7,
    "start_time": "2023-04-21T14:15:43.765Z"
   },
   {
    "duration": 14,
    "start_time": "2023-04-21T14:15:45.078Z"
   },
   {
    "duration": 80,
    "start_time": "2023-04-21T14:17:11.729Z"
   },
   {
    "duration": 5,
    "start_time": "2023-04-21T14:20:39.039Z"
   },
   {
    "duration": 8,
    "start_time": "2023-04-21T14:27:57.548Z"
   },
   {
    "duration": 7,
    "start_time": "2023-04-21T14:28:16.733Z"
   },
   {
    "duration": 4,
    "start_time": "2023-04-21T14:45:20.919Z"
   },
   {
    "duration": 10,
    "start_time": "2023-04-21T14:45:39.616Z"
   },
   {
    "duration": 4,
    "start_time": "2023-04-21T14:45:57.582Z"
   },
   {
    "duration": 13,
    "start_time": "2023-04-21T14:51:13.785Z"
   },
   {
    "duration": 10,
    "start_time": "2023-04-21T14:58:20.148Z"
   },
   {
    "duration": 6,
    "start_time": "2023-04-21T15:01:00.850Z"
   },
   {
    "duration": 4,
    "start_time": "2023-04-21T15:01:12.822Z"
   },
   {
    "duration": 11,
    "start_time": "2023-04-21T15:01:18.513Z"
   },
   {
    "duration": 11,
    "start_time": "2023-04-21T15:04:18.019Z"
   },
   {
    "duration": 60,
    "start_time": "2023-04-21T17:23:07.385Z"
   },
   {
    "duration": 1131,
    "start_time": "2023-04-21T17:23:22.328Z"
   },
   {
    "duration": 42,
    "start_time": "2023-04-21T17:23:26.261Z"
   },
   {
    "duration": 87,
    "start_time": "2023-04-21T17:23:33.791Z"
   },
   {
    "duration": 34,
    "start_time": "2023-04-21T17:23:36.565Z"
   },
   {
    "duration": 14,
    "start_time": "2023-04-21T17:23:49.469Z"
   },
   {
    "duration": 82,
    "start_time": "2023-04-21T17:23:52.661Z"
   },
   {
    "duration": 2251,
    "start_time": "2023-04-21T17:23:55.445Z"
   },
   {
    "duration": 679,
    "start_time": "2023-04-22T12:41:31.180Z"
   },
   {
    "duration": 38,
    "start_time": "2023-04-22T12:41:54.283Z"
   },
   {
    "duration": 14,
    "start_time": "2023-04-22T12:41:59.756Z"
   },
   {
    "duration": 66,
    "start_time": "2023-04-22T12:42:02.323Z"
   },
   {
    "duration": 2150,
    "start_time": "2023-04-22T12:42:27.098Z"
   },
   {
    "duration": 8,
    "start_time": "2023-04-22T12:42:38.383Z"
   },
   {
    "duration": 8,
    "start_time": "2023-04-22T12:42:42.606Z"
   },
   {
    "duration": 9,
    "start_time": "2023-04-22T12:45:19.053Z"
   },
   {
    "duration": 8,
    "start_time": "2023-04-22T12:45:22.110Z"
   },
   {
    "duration": 11,
    "start_time": "2023-04-22T12:45:24.188Z"
   },
   {
    "duration": 78,
    "start_time": "2023-04-22T12:48:03.672Z"
   },
   {
    "duration": 8,
    "start_time": "2023-04-22T12:48:08.739Z"
   },
   {
    "duration": 7,
    "start_time": "2023-04-22T12:48:16.919Z"
   },
   {
    "duration": 26,
    "start_time": "2023-04-22T12:48:59.355Z"
   },
   {
    "duration": 5,
    "start_time": "2023-04-22T12:49:26.974Z"
   },
   {
    "duration": 4,
    "start_time": "2023-04-22T12:50:00.025Z"
   },
   {
    "duration": 12,
    "start_time": "2023-04-22T12:50:24.163Z"
   },
   {
    "duration": 5,
    "start_time": "2023-04-22T12:50:58.539Z"
   },
   {
    "duration": 5,
    "start_time": "2023-04-22T12:54:53.109Z"
   },
   {
    "duration": 7,
    "start_time": "2023-04-22T12:55:31.952Z"
   },
   {
    "duration": 6,
    "start_time": "2023-04-22T12:55:37.853Z"
   },
   {
    "duration": 5,
    "start_time": "2023-04-22T12:57:00.566Z"
   },
   {
    "duration": 6,
    "start_time": "2023-04-22T13:02:01.917Z"
   },
   {
    "duration": 73,
    "start_time": "2023-04-22T13:09:20.050Z"
   },
   {
    "duration": 2,
    "start_time": "2023-04-22T13:12:12.948Z"
   },
   {
    "duration": 9,
    "start_time": "2023-04-22T13:33:47.227Z"
   },
   {
    "duration": 8,
    "start_time": "2023-04-22T13:33:52.438Z"
   },
   {
    "duration": 8,
    "start_time": "2023-04-22T13:34:02.647Z"
   },
   {
    "duration": 4,
    "start_time": "2023-04-22T13:34:58.374Z"
   },
   {
    "duration": 8,
    "start_time": "2023-04-22T13:42:38.950Z"
   },
   {
    "duration": 4,
    "start_time": "2023-04-22T13:43:25.785Z"
   },
   {
    "duration": 6,
    "start_time": "2023-04-22T13:43:30.051Z"
   },
   {
    "duration": 5,
    "start_time": "2023-04-22T13:43:30.914Z"
   },
   {
    "duration": 6,
    "start_time": "2023-04-22T13:43:47.593Z"
   },
   {
    "duration": 5,
    "start_time": "2023-04-22T13:43:54.269Z"
   },
   {
    "duration": 5,
    "start_time": "2023-04-22T13:43:58.732Z"
   },
   {
    "duration": 4,
    "start_time": "2023-04-22T13:44:50.369Z"
   },
   {
    "duration": 5,
    "start_time": "2023-04-22T13:44:51.725Z"
   },
   {
    "duration": 4,
    "start_time": "2023-04-22T13:45:14.835Z"
   },
   {
    "duration": 9,
    "start_time": "2023-04-22T13:45:16.581Z"
   },
   {
    "duration": 8,
    "start_time": "2023-04-22T13:45:17.877Z"
   },
   {
    "duration": 764,
    "start_time": "2023-04-23T13:21:48.093Z"
   },
   {
    "duration": 57,
    "start_time": "2023-04-23T13:21:50.500Z"
   },
   {
    "duration": 14,
    "start_time": "2023-04-23T13:21:59.466Z"
   },
   {
    "duration": 76,
    "start_time": "2023-04-23T13:22:02.003Z"
   },
   {
    "duration": 2352,
    "start_time": "2023-04-23T13:22:04.303Z"
   },
   {
    "duration": 9,
    "start_time": "2023-04-23T13:22:12.701Z"
   },
   {
    "duration": 9,
    "start_time": "2023-04-23T13:22:58.998Z"
   },
   {
    "duration": 11,
    "start_time": "2023-04-23T13:23:24.156Z"
   },
   {
    "duration": 7,
    "start_time": "2023-04-23T13:23:53.963Z"
   },
   {
    "duration": 6,
    "start_time": "2023-04-23T13:24:17.566Z"
   },
   {
    "duration": 4,
    "start_time": "2023-04-23T13:24:21.127Z"
   },
   {
    "duration": 6,
    "start_time": "2023-04-23T13:24:24.396Z"
   },
   {
    "duration": 4,
    "start_time": "2023-04-23T13:24:25.027Z"
   },
   {
    "duration": 4,
    "start_time": "2023-04-23T13:24:34.356Z"
   },
   {
    "duration": 10,
    "start_time": "2023-04-23T13:24:39.652Z"
   },
   {
    "duration": 9,
    "start_time": "2023-04-23T13:24:41.426Z"
   },
   {
    "duration": 22,
    "start_time": "2023-04-23T13:35:30.993Z"
   },
   {
    "duration": 3,
    "start_time": "2023-04-23T13:43:42.858Z"
   },
   {
    "duration": 74,
    "start_time": "2023-04-23T13:45:35.720Z"
   },
   {
    "duration": 105,
    "start_time": "2023-04-23T13:45:42.716Z"
   },
   {
    "duration": 25,
    "start_time": "2023-04-23T13:45:49.855Z"
   },
   {
    "duration": 13,
    "start_time": "2023-04-23T13:46:28.486Z"
   },
   {
    "duration": 3,
    "start_time": "2023-04-23T13:47:05.860Z"
   },
   {
    "duration": 12,
    "start_time": "2023-04-23T13:47:12.115Z"
   },
   {
    "duration": 1294,
    "start_time": "2023-04-23T13:47:37.399Z"
   },
   {
    "duration": 1456,
    "start_time": "2023-04-23T13:47:40.891Z"
   },
   {
    "duration": 13,
    "start_time": "2023-04-23T13:48:21.781Z"
   },
   {
    "duration": 4,
    "start_time": "2023-04-23T13:49:09.189Z"
   },
   {
    "duration": 15,
    "start_time": "2023-04-23T13:52:45.557Z"
   },
   {
    "duration": 15,
    "start_time": "2023-04-23T13:53:14.292Z"
   },
   {
    "duration": 16,
    "start_time": "2023-04-23T13:53:23.588Z"
   },
   {
    "duration": 15,
    "start_time": "2023-04-23T13:53:38.719Z"
   },
   {
    "duration": 5,
    "start_time": "2023-04-23T13:54:42.080Z"
   },
   {
    "duration": 8,
    "start_time": "2023-04-23T13:56:43.891Z"
   },
   {
    "duration": 11,
    "start_time": "2023-04-23T14:00:40.052Z"
   },
   {
    "duration": 13,
    "start_time": "2023-04-23T14:02:07.217Z"
   },
   {
    "duration": 10,
    "start_time": "2023-04-23T14:02:22.221Z"
   },
   {
    "duration": 12,
    "start_time": "2023-04-23T14:02:31.322Z"
   },
   {
    "duration": 12,
    "start_time": "2023-04-23T14:02:49.093Z"
   },
   {
    "duration": 13,
    "start_time": "2023-04-23T14:03:38.022Z"
   },
   {
    "duration": 91,
    "start_time": "2023-04-23T14:09:03.546Z"
   },
   {
    "duration": 69,
    "start_time": "2023-04-23T14:09:08.953Z"
   },
   {
    "duration": 80,
    "start_time": "2023-04-23T14:09:16.384Z"
   },
   {
    "duration": 12,
    "start_time": "2023-04-23T14:09:29.822Z"
   },
   {
    "duration": 12,
    "start_time": "2023-04-23T14:16:23.631Z"
   },
   {
    "duration": 11,
    "start_time": "2023-04-23T14:18:30.307Z"
   },
   {
    "duration": 12,
    "start_time": "2023-04-23T14:18:32.637Z"
   },
   {
    "duration": 11,
    "start_time": "2023-04-23T14:21:25.150Z"
   },
   {
    "duration": 28,
    "start_time": "2023-04-23T14:21:36.781Z"
   },
   {
    "duration": 30,
    "start_time": "2023-04-23T14:21:41.394Z"
   },
   {
    "duration": 5,
    "start_time": "2023-04-23T14:23:22.721Z"
   },
   {
    "duration": 4,
    "start_time": "2023-04-23T14:24:14.910Z"
   },
   {
    "duration": 10,
    "start_time": "2023-04-23T14:24:32.828Z"
   },
   {
    "duration": 4,
    "start_time": "2023-04-23T14:24:43.803Z"
   },
   {
    "duration": 9,
    "start_time": "2023-04-23T14:24:49.600Z"
   },
   {
    "duration": 9,
    "start_time": "2023-04-23T14:25:03.095Z"
   },
   {
    "duration": 10,
    "start_time": "2023-04-23T14:25:12.130Z"
   },
   {
    "duration": 99,
    "start_time": "2023-04-23T14:25:25.606Z"
   },
   {
    "duration": 39,
    "start_time": "2023-04-23T14:25:28.490Z"
   },
   {
    "duration": 14,
    "start_time": "2023-04-23T14:25:31.380Z"
   },
   {
    "duration": 70,
    "start_time": "2023-04-23T14:25:34.814Z"
   },
   {
    "duration": 1968,
    "start_time": "2023-04-23T14:25:37.178Z"
   },
   {
    "duration": 6,
    "start_time": "2023-04-23T14:25:39.530Z"
   },
   {
    "duration": 12,
    "start_time": "2023-04-23T14:25:42.438Z"
   },
   {
    "duration": 9,
    "start_time": "2023-04-23T14:25:45.477Z"
   },
   {
    "duration": 10,
    "start_time": "2023-04-23T14:26:13.777Z"
   },
   {
    "duration": 9,
    "start_time": "2023-04-23T14:26:15.969Z"
   },
   {
    "duration": 92,
    "start_time": "2023-04-23T14:26:26.494Z"
   },
   {
    "duration": 43,
    "start_time": "2023-04-23T14:26:26.588Z"
   },
   {
    "duration": 21,
    "start_time": "2023-04-23T14:26:26.632Z"
   },
   {
    "duration": 94,
    "start_time": "2023-04-23T14:26:26.655Z"
   },
   {
    "duration": 1974,
    "start_time": "2023-04-23T14:26:26.751Z"
   },
   {
    "duration": 6,
    "start_time": "2023-04-23T14:26:28.727Z"
   },
   {
    "duration": 26,
    "start_time": "2023-04-23T14:26:28.734Z"
   },
   {
    "duration": 7,
    "start_time": "2023-04-23T14:26:34.498Z"
   },
   {
    "duration": 7,
    "start_time": "2023-04-23T14:26:44.139Z"
   },
   {
    "duration": 6,
    "start_time": "2023-04-23T14:26:59.035Z"
   },
   {
    "duration": 5,
    "start_time": "2023-04-23T14:27:03.725Z"
   },
   {
    "duration": 4,
    "start_time": "2023-04-23T14:27:06.719Z"
   },
   {
    "duration": 6,
    "start_time": "2023-04-23T14:27:09.548Z"
   },
   {
    "duration": 5,
    "start_time": "2023-04-23T14:27:10.827Z"
   },
   {
    "duration": 9,
    "start_time": "2023-04-23T14:27:13.774Z"
   },
   {
    "duration": 13,
    "start_time": "2023-04-23T14:27:17.390Z"
   },
   {
    "duration": 12,
    "start_time": "2023-04-23T14:27:24.816Z"
   },
   {
    "duration": 124,
    "start_time": "2023-04-23T14:27:58.048Z"
   },
   {
    "duration": 76,
    "start_time": "2023-04-23T14:28:06.833Z"
   },
   {
    "duration": 13,
    "start_time": "2023-04-23T14:28:27.373Z"
   },
   {
    "duration": 10,
    "start_time": "2023-04-23T14:28:37.618Z"
   },
   {
    "duration": 30,
    "start_time": "2023-04-23T14:28:40.783Z"
   },
   {
    "duration": 6,
    "start_time": "2023-04-23T14:40:16.803Z"
   },
   {
    "duration": 10,
    "start_time": "2023-04-23T14:42:02.813Z"
   },
   {
    "duration": 10,
    "start_time": "2023-04-23T14:42:04.630Z"
   },
   {
    "duration": 5,
    "start_time": "2023-04-23T14:43:21.541Z"
   },
   {
    "duration": 9,
    "start_time": "2023-04-23T14:43:30.715Z"
   },
   {
    "duration": 9,
    "start_time": "2023-04-23T14:45:07.387Z"
   },
   {
    "duration": 5,
    "start_time": "2023-04-23T14:45:21.608Z"
   },
   {
    "duration": 7,
    "start_time": "2023-04-23T14:48:18.690Z"
   },
   {
    "duration": 11,
    "start_time": "2023-04-23T14:48:20.513Z"
   },
   {
    "duration": 10,
    "start_time": "2023-04-23T14:51:09.636Z"
   },
   {
    "duration": 10,
    "start_time": "2023-04-23T14:51:31.236Z"
   },
   {
    "duration": 11,
    "start_time": "2023-04-23T14:52:30.478Z"
   },
   {
    "duration": 5,
    "start_time": "2023-04-23T14:52:38.587Z"
   },
   {
    "duration": 5,
    "start_time": "2023-04-23T14:52:47.271Z"
   },
   {
    "duration": 26,
    "start_time": "2023-04-23T16:06:19.736Z"
   },
   {
    "duration": 24,
    "start_time": "2023-04-23T16:06:28.239Z"
   },
   {
    "duration": 9,
    "start_time": "2023-04-23T16:13:12.946Z"
   },
   {
    "duration": 12,
    "start_time": "2023-04-23T16:18:34.617Z"
   },
   {
    "duration": 31,
    "start_time": "2023-04-23T16:20:07.255Z"
   },
   {
    "duration": 29,
    "start_time": "2023-04-23T16:20:32.117Z"
   },
   {
    "duration": 3,
    "start_time": "2023-04-23T16:22:50.663Z"
   },
   {
    "duration": 2,
    "start_time": "2023-04-23T16:22:57.983Z"
   },
   {
    "duration": 7,
    "start_time": "2023-04-23T16:25:12.126Z"
   },
   {
    "duration": 8,
    "start_time": "2023-04-23T16:25:34.064Z"
   },
   {
    "duration": 6,
    "start_time": "2023-04-23T16:25:40.978Z"
   },
   {
    "duration": 8,
    "start_time": "2023-04-23T16:26:24.524Z"
   },
   {
    "duration": 6,
    "start_time": "2023-04-23T16:26:35.483Z"
   },
   {
    "duration": 7,
    "start_time": "2023-04-23T16:26:43.624Z"
   },
   {
    "duration": 6,
    "start_time": "2023-04-23T16:27:21.252Z"
   },
   {
    "duration": 7,
    "start_time": "2023-04-23T16:27:25.637Z"
   },
   {
    "duration": 6,
    "start_time": "2023-04-23T16:27:36.239Z"
   },
   {
    "duration": 134,
    "start_time": "2023-04-23T16:29:27.422Z"
   },
   {
    "duration": 153,
    "start_time": "2023-04-23T16:29:42.175Z"
   },
   {
    "duration": 203,
    "start_time": "2023-04-23T16:31:00.562Z"
   },
   {
    "duration": 94,
    "start_time": "2023-04-23T16:31:35.939Z"
   },
   {
    "duration": 697,
    "start_time": "2023-04-23T16:31:45.352Z"
   },
   {
    "duration": 247,
    "start_time": "2023-04-23T16:32:02.421Z"
   },
   {
    "duration": 162,
    "start_time": "2023-04-23T16:32:10.612Z"
   },
   {
    "duration": 245,
    "start_time": "2023-04-23T16:32:17.951Z"
   },
   {
    "duration": 125,
    "start_time": "2023-04-23T16:32:22.153Z"
   },
   {
    "duration": 7,
    "start_time": "2023-04-23T16:33:13.637Z"
   },
   {
    "duration": 141,
    "start_time": "2023-04-23T16:33:34.843Z"
   },
   {
    "duration": 9,
    "start_time": "2023-04-23T16:33:52.097Z"
   },
   {
    "duration": 6,
    "start_time": "2023-04-23T16:34:01.536Z"
   },
   {
    "duration": 6,
    "start_time": "2023-04-23T16:34:21.328Z"
   },
   {
    "duration": 5,
    "start_time": "2023-04-23T16:34:27.355Z"
   },
   {
    "duration": 50,
    "start_time": "2023-04-23T16:36:05.529Z"
   },
   {
    "duration": 52,
    "start_time": "2023-04-23T16:37:17.275Z"
   },
   {
    "duration": 9,
    "start_time": "2023-04-23T16:37:26.476Z"
   },
   {
    "duration": 47,
    "start_time": "2023-04-23T16:37:48.430Z"
   },
   {
    "duration": 6,
    "start_time": "2023-04-23T16:38:02.720Z"
   },
   {
    "duration": 44,
    "start_time": "2023-04-23T16:38:54.909Z"
   },
   {
    "duration": 5,
    "start_time": "2023-04-23T16:39:10.772Z"
   },
   {
    "duration": 39,
    "start_time": "2023-04-23T16:39:23.921Z"
   },
   {
    "duration": 128,
    "start_time": "2023-04-23T16:40:20.816Z"
   },
   {
    "duration": 10,
    "start_time": "2023-04-23T16:45:42.471Z"
   },
   {
    "duration": 75,
    "start_time": "2023-04-23T16:47:11.104Z"
   },
   {
    "duration": 8,
    "start_time": "2023-04-23T16:47:26.500Z"
   },
   {
    "duration": 8,
    "start_time": "2023-04-23T16:47:49.065Z"
   },
   {
    "duration": 5,
    "start_time": "2023-04-23T16:48:25.028Z"
   },
   {
    "duration": 5,
    "start_time": "2023-04-23T16:48:35.899Z"
   },
   {
    "duration": 8,
    "start_time": "2023-04-23T16:48:43.032Z"
   },
   {
    "duration": 9,
    "start_time": "2023-04-23T16:49:07.231Z"
   },
   {
    "duration": 10,
    "start_time": "2023-04-23T16:49:13.522Z"
   },
   {
    "duration": 8,
    "start_time": "2023-04-23T16:49:33.547Z"
   },
   {
    "duration": 57,
    "start_time": "2023-04-23T16:49:44.399Z"
   },
   {
    "duration": 6,
    "start_time": "2023-04-23T16:49:57.604Z"
   },
   {
    "duration": 9,
    "start_time": "2023-04-23T16:50:49.198Z"
   },
   {
    "duration": 5,
    "start_time": "2023-04-23T16:53:42.212Z"
   },
   {
    "duration": 6,
    "start_time": "2023-04-23T16:54:24.798Z"
   },
   {
    "duration": 7,
    "start_time": "2023-04-23T16:54:35.100Z"
   },
   {
    "duration": 16,
    "start_time": "2023-04-23T16:54:43.720Z"
   },
   {
    "duration": 9,
    "start_time": "2023-04-23T16:57:24.840Z"
   },
   {
    "duration": 5,
    "start_time": "2023-04-23T16:57:30.064Z"
   },
   {
    "duration": 6,
    "start_time": "2023-04-23T16:57:36.767Z"
   },
   {
    "duration": 7,
    "start_time": "2023-04-23T17:01:05.345Z"
   },
   {
    "duration": 6,
    "start_time": "2023-04-23T17:01:21.540Z"
   },
   {
    "duration": 22,
    "start_time": "2023-04-23T17:02:09.468Z"
   },
   {
    "duration": 25,
    "start_time": "2023-04-23T17:03:58.787Z"
   },
   {
    "duration": 8,
    "start_time": "2023-04-23T17:04:45.635Z"
   },
   {
    "duration": 17,
    "start_time": "2023-04-23T17:04:53.250Z"
   },
   {
    "duration": 1262,
    "start_time": "2023-04-24T07:38:30.991Z"
   },
   {
    "duration": 55,
    "start_time": "2023-04-24T07:38:35.158Z"
   },
   {
    "duration": 16,
    "start_time": "2023-04-24T07:38:38.107Z"
   },
   {
    "duration": 84,
    "start_time": "2023-04-24T07:38:41.222Z"
   },
   {
    "duration": 2064,
    "start_time": "2023-04-24T07:38:43.883Z"
   },
   {
    "duration": 8,
    "start_time": "2023-04-24T07:38:50.772Z"
   },
   {
    "duration": 12,
    "start_time": "2023-04-24T07:39:45.603Z"
   },
   {
    "duration": 16,
    "start_time": "2023-04-24T07:40:32.452Z"
   },
   {
    "duration": 6,
    "start_time": "2023-04-24T07:40:33.672Z"
   },
   {
    "duration": 7,
    "start_time": "2023-04-24T07:40:45.214Z"
   },
   {
    "duration": 8,
    "start_time": "2023-04-24T07:40:56.866Z"
   },
   {
    "duration": 6,
    "start_time": "2023-04-24T07:40:58.001Z"
   },
   {
    "duration": 5,
    "start_time": "2023-04-24T07:41:04.012Z"
   },
   {
    "duration": 79,
    "start_time": "2023-04-24T07:42:07.382Z"
   },
   {
    "duration": 5,
    "start_time": "2023-04-24T07:43:28.074Z"
   },
   {
    "duration": 8,
    "start_time": "2023-04-24T07:43:47.418Z"
   },
   {
    "duration": 8,
    "start_time": "2023-04-24T07:45:01.384Z"
   },
   {
    "duration": 5,
    "start_time": "2023-04-24T07:46:14.269Z"
   },
   {
    "duration": 6,
    "start_time": "2023-04-24T07:46:23.879Z"
   },
   {
    "duration": 5,
    "start_time": "2023-04-24T07:46:25.491Z"
   },
   {
    "duration": 8,
    "start_time": "2023-04-24T07:49:12.761Z"
   },
   {
    "duration": 6,
    "start_time": "2023-04-24T07:49:14.888Z"
   },
   {
    "duration": 5,
    "start_time": "2023-04-24T07:49:18.707Z"
   },
   {
    "duration": 7,
    "start_time": "2023-04-24T07:49:19.615Z"
   },
   {
    "duration": 23,
    "start_time": "2023-04-24T07:50:54.415Z"
   },
   {
    "duration": 6,
    "start_time": "2023-04-24T07:51:04.492Z"
   },
   {
    "duration": 5,
    "start_time": "2023-04-24T07:51:33.881Z"
   },
   {
    "duration": 59,
    "start_time": "2023-04-24T07:52:27.709Z"
   },
   {
    "duration": 78,
    "start_time": "2023-04-24T07:53:40.781Z"
   },
   {
    "duration": 5,
    "start_time": "2023-04-24T07:58:12.868Z"
   },
   {
    "duration": 73,
    "start_time": "2023-04-24T07:58:20.436Z"
   },
   {
    "duration": 5,
    "start_time": "2023-04-24T07:58:27.475Z"
   },
   {
    "duration": 14,
    "start_time": "2023-04-24T07:59:01.051Z"
   },
   {
    "duration": 15,
    "start_time": "2023-04-24T07:59:05.140Z"
   },
   {
    "duration": 6,
    "start_time": "2023-04-24T07:59:23.920Z"
   },
   {
    "duration": 5,
    "start_time": "2023-04-24T07:59:29.625Z"
   },
   {
    "duration": 9,
    "start_time": "2023-04-24T07:59:33.245Z"
   },
   {
    "duration": 72,
    "start_time": "2023-04-24T08:00:08.533Z"
   },
   {
    "duration": 1842,
    "start_time": "2023-04-24T08:00:38.617Z"
   },
   {
    "duration": 76,
    "start_time": "2023-04-24T08:00:44.182Z"
   },
   {
    "duration": 7,
    "start_time": "2023-04-24T08:03:53.864Z"
   },
   {
    "duration": 33,
    "start_time": "2023-04-24T08:03:56.096Z"
   },
   {
    "duration": 11,
    "start_time": "2023-04-24T08:04:00.491Z"
   },
   {
    "duration": 9,
    "start_time": "2023-04-24T08:04:03.159Z"
   },
   {
    "duration": 14,
    "start_time": "2023-04-24T08:04:10.910Z"
   },
   {
    "duration": 6,
    "start_time": "2023-04-24T08:06:34.380Z"
   },
   {
    "duration": 23,
    "start_time": "2023-04-24T08:09:20.392Z"
   },
   {
    "duration": 42,
    "start_time": "2023-04-24T08:09:24.535Z"
   },
   {
    "duration": 25,
    "start_time": "2023-04-24T08:10:59.032Z"
   },
   {
    "duration": 20,
    "start_time": "2023-04-24T08:12:00.473Z"
   },
   {
    "duration": 17,
    "start_time": "2023-04-24T08:12:22.133Z"
   },
   {
    "duration": 15,
    "start_time": "2023-04-24T08:12:31.518Z"
   },
   {
    "duration": 10,
    "start_time": "2023-04-24T08:12:38.579Z"
   },
   {
    "duration": 7,
    "start_time": "2023-04-24T08:16:04.334Z"
   },
   {
    "duration": 9,
    "start_time": "2023-04-24T08:16:09.742Z"
   },
   {
    "duration": 9,
    "start_time": "2023-04-24T08:16:18.912Z"
   },
   {
    "duration": 6,
    "start_time": "2023-04-24T08:16:33.704Z"
   },
   {
    "duration": 33,
    "start_time": "2023-04-24T08:16:58.605Z"
   },
   {
    "duration": 19,
    "start_time": "2023-04-24T08:17:02.939Z"
   },
   {
    "duration": 21,
    "start_time": "2023-04-24T08:17:11.774Z"
   },
   {
    "duration": 20,
    "start_time": "2023-04-24T08:18:29.350Z"
   },
   {
    "duration": 33,
    "start_time": "2023-04-24T08:18:43.576Z"
   },
   {
    "duration": 29,
    "start_time": "2023-04-24T08:19:04.774Z"
   },
   {
    "duration": 11,
    "start_time": "2023-04-24T08:20:25.601Z"
   },
   {
    "duration": 6,
    "start_time": "2023-04-24T08:23:19.171Z"
   },
   {
    "duration": 36,
    "start_time": "2023-04-24T08:23:47.809Z"
   },
   {
    "duration": 6,
    "start_time": "2023-04-24T08:24:24.912Z"
   },
   {
    "duration": 5,
    "start_time": "2023-04-24T08:24:33.244Z"
   },
   {
    "duration": 6,
    "start_time": "2023-04-24T08:26:29.951Z"
   },
   {
    "duration": 24,
    "start_time": "2023-04-24T08:28:28.312Z"
   },
   {
    "duration": 21,
    "start_time": "2023-04-24T08:28:36.312Z"
   },
   {
    "duration": 6,
    "start_time": "2023-04-24T08:34:24.617Z"
   },
   {
    "duration": 46,
    "start_time": "2023-04-24T08:34:38.712Z"
   },
   {
    "duration": 31,
    "start_time": "2023-04-24T08:38:21.256Z"
   },
   {
    "duration": 55,
    "start_time": "2023-04-24T08:38:48.706Z"
   },
   {
    "duration": 61,
    "start_time": "2023-04-24T08:38:57.406Z"
   },
   {
    "duration": 56,
    "start_time": "2023-04-24T08:39:12.101Z"
   },
   {
    "duration": 45,
    "start_time": "2023-04-24T08:39:18.085Z"
   },
   {
    "duration": 79,
    "start_time": "2023-04-24T08:40:04.698Z"
   },
   {
    "duration": 15,
    "start_time": "2023-04-24T08:41:24.173Z"
   },
   {
    "duration": 80,
    "start_time": "2023-04-24T08:41:32.292Z"
   },
   {
    "duration": 71,
    "start_time": "2023-04-24T08:41:54.842Z"
   },
   {
    "duration": 22,
    "start_time": "2023-04-24T08:42:58.528Z"
   },
   {
    "duration": 7,
    "start_time": "2023-04-24T08:44:57.113Z"
   },
   {
    "duration": 35,
    "start_time": "2023-04-24T08:45:37.068Z"
   },
   {
    "duration": 8,
    "start_time": "2023-04-24T08:46:10.543Z"
   },
   {
    "duration": 13,
    "start_time": "2023-04-24T08:46:17.954Z"
   },
   {
    "duration": 5,
    "start_time": "2023-04-24T08:46:19.196Z"
   },
   {
    "duration": 29,
    "start_time": "2023-04-24T08:46:24.955Z"
   },
   {
    "duration": 58,
    "start_time": "2023-04-24T08:46:59.894Z"
   },
   {
    "duration": 134,
    "start_time": "2023-04-24T08:47:24.878Z"
   },
   {
    "duration": 57,
    "start_time": "2023-04-24T08:47:28.681Z"
   },
   {
    "duration": 27,
    "start_time": "2023-04-24T08:47:31.915Z"
   },
   {
    "duration": 95,
    "start_time": "2023-04-24T08:47:34.914Z"
   },
   {
    "duration": 2386,
    "start_time": "2023-04-24T08:47:37.676Z"
   },
   {
    "duration": 6,
    "start_time": "2023-04-24T08:47:40.064Z"
   },
   {
    "duration": 15,
    "start_time": "2023-04-24T08:47:43.737Z"
   },
   {
    "duration": 14,
    "start_time": "2023-04-24T08:47:46.078Z"
   },
   {
    "duration": 16,
    "start_time": "2023-04-24T08:47:49.133Z"
   },
   {
    "duration": 6,
    "start_time": "2023-04-24T08:47:51.111Z"
   },
   {
    "duration": 7,
    "start_time": "2023-04-24T08:47:53.943Z"
   },
   {
    "duration": 10,
    "start_time": "2023-04-24T08:47:55.249Z"
   },
   {
    "duration": 7,
    "start_time": "2023-04-24T08:47:56.788Z"
   },
   {
    "duration": 5,
    "start_time": "2023-04-24T08:48:00.656Z"
   },
   {
    "duration": 8,
    "start_time": "2023-04-24T08:48:03.424Z"
   },
   {
    "duration": 5,
    "start_time": "2023-04-24T08:48:04.300Z"
   },
   {
    "duration": 12,
    "start_time": "2023-04-24T08:48:06.385Z"
   },
   {
    "duration": 67,
    "start_time": "2023-04-24T08:48:09.372Z"
   },
   {
    "duration": 97,
    "start_time": "2023-04-24T08:48:12.143Z"
   },
   {
    "duration": 7,
    "start_time": "2023-04-24T08:48:22.478Z"
   },
   {
    "duration": 14,
    "start_time": "2023-04-24T08:48:24.369Z"
   },
   {
    "duration": 13,
    "start_time": "2023-04-24T08:48:27.376Z"
   },
   {
    "duration": 6,
    "start_time": "2023-04-24T08:48:28.576Z"
   },
   {
    "duration": 14,
    "start_time": "2023-04-24T08:48:30.853Z"
   },
   {
    "duration": 8,
    "start_time": "2023-04-24T08:48:33.451Z"
   },
   {
    "duration": 27,
    "start_time": "2023-04-24T08:48:35.563Z"
   },
   {
    "duration": 8,
    "start_time": "2023-04-24T08:48:38.075Z"
   },
   {
    "duration": 12,
    "start_time": "2023-04-24T08:48:39.956Z"
   },
   {
    "duration": 11,
    "start_time": "2023-04-24T08:48:40.714Z"
   },
   {
    "duration": 6,
    "start_time": "2023-04-24T08:48:44.047Z"
   },
   {
    "duration": 7,
    "start_time": "2023-04-24T08:49:03.089Z"
   },
   {
    "duration": 63,
    "start_time": "2023-04-24T08:49:10.712Z"
   },
   {
    "duration": 35,
    "start_time": "2023-04-24T08:49:11.973Z"
   },
   {
    "duration": 13,
    "start_time": "2023-04-24T08:49:27.037Z"
   },
   {
    "duration": 38,
    "start_time": "2023-04-24T08:49:38.138Z"
   },
   {
    "duration": 22,
    "start_time": "2023-04-24T08:49:40.886Z"
   },
   {
    "duration": 36,
    "start_time": "2023-04-24T08:50:07.667Z"
   },
   {
    "duration": 17,
    "start_time": "2023-04-24T08:50:11.374Z"
   },
   {
    "duration": 13,
    "start_time": "2023-04-24T08:50:12.239Z"
   },
   {
    "duration": 6,
    "start_time": "2023-04-24T08:50:12.899Z"
   },
   {
    "duration": 39,
    "start_time": "2023-04-24T08:50:15.047Z"
   },
   {
    "duration": 45,
    "start_time": "2023-04-24T10:35:57.754Z"
   },
   {
    "duration": 1095,
    "start_time": "2023-04-24T10:36:42.912Z"
   },
   {
    "duration": 45,
    "start_time": "2023-04-24T10:36:44.009Z"
   },
   {
    "duration": 16,
    "start_time": "2023-04-24T10:36:44.055Z"
   },
   {
    "duration": 84,
    "start_time": "2023-04-24T10:36:44.073Z"
   },
   {
    "duration": 1936,
    "start_time": "2023-04-24T10:36:44.159Z"
   },
   {
    "duration": 8,
    "start_time": "2023-04-24T10:36:46.097Z"
   },
   {
    "duration": 12,
    "start_time": "2023-04-24T10:36:46.107Z"
   },
   {
    "duration": 13,
    "start_time": "2023-04-24T10:36:46.120Z"
   },
   {
    "duration": 5,
    "start_time": "2023-04-24T10:36:46.135Z"
   },
   {
    "duration": 11,
    "start_time": "2023-04-24T10:36:46.143Z"
   },
   {
    "duration": 15,
    "start_time": "2023-04-24T10:36:46.156Z"
   },
   {
    "duration": 12,
    "start_time": "2023-04-24T10:36:46.172Z"
   },
   {
    "duration": 6,
    "start_time": "2023-04-24T10:36:46.185Z"
   },
   {
    "duration": 9,
    "start_time": "2023-04-24T10:36:46.192Z"
   },
   {
    "duration": 15,
    "start_time": "2023-04-24T10:36:46.203Z"
   },
   {
    "duration": 21,
    "start_time": "2023-04-24T10:36:46.219Z"
   },
   {
    "duration": 35,
    "start_time": "2023-04-24T10:36:46.241Z"
   },
   {
    "duration": 71,
    "start_time": "2023-04-24T10:36:46.278Z"
   },
   {
    "duration": 5,
    "start_time": "2023-04-24T10:36:46.350Z"
   },
   {
    "duration": 21,
    "start_time": "2023-04-24T10:36:46.357Z"
   },
   {
    "duration": 14,
    "start_time": "2023-04-24T10:36:46.380Z"
   },
   {
    "duration": 4,
    "start_time": "2023-04-24T10:36:46.397Z"
   },
   {
    "duration": 11,
    "start_time": "2023-04-24T10:36:46.403Z"
   },
   {
    "duration": 24,
    "start_time": "2023-04-24T10:36:46.415Z"
   },
   {
    "duration": 25,
    "start_time": "2023-04-24T10:36:46.441Z"
   },
   {
    "duration": 7,
    "start_time": "2023-04-24T10:36:46.467Z"
   },
   {
    "duration": 10,
    "start_time": "2023-04-24T10:36:46.476Z"
   },
   {
    "duration": 8,
    "start_time": "2023-04-24T10:36:46.489Z"
   },
   {
    "duration": 3,
    "start_time": "2023-04-24T10:36:46.499Z"
   },
   {
    "duration": 35,
    "start_time": "2023-04-24T10:36:46.503Z"
   },
   {
    "duration": 35,
    "start_time": "2023-04-24T10:36:46.540Z"
   },
   {
    "duration": 22,
    "start_time": "2023-04-24T10:36:46.576Z"
   },
   {
    "duration": 8,
    "start_time": "2023-04-24T10:36:46.600Z"
   },
   {
    "duration": 30,
    "start_time": "2023-04-24T10:36:46.610Z"
   },
   {
    "duration": 19,
    "start_time": "2023-04-24T10:36:46.641Z"
   },
   {
    "duration": 14,
    "start_time": "2023-04-24T10:36:46.662Z"
   },
   {
    "duration": 7,
    "start_time": "2023-04-24T10:36:46.678Z"
   },
   {
    "duration": 14,
    "start_time": "2023-04-24T10:36:46.686Z"
   },
   {
    "duration": 47,
    "start_time": "2023-04-24T10:36:46.701Z"
   },
   {
    "duration": 25,
    "start_time": "2023-04-24T10:36:46.750Z"
   },
   {
    "duration": 39,
    "start_time": "2023-04-24T10:41:40.418Z"
   },
   {
    "duration": 1626,
    "start_time": "2023-04-24T10:45:08.446Z"
   },
   {
    "duration": 1595,
    "start_time": "2023-04-24T10:45:41.376Z"
   },
   {
    "duration": 2540,
    "start_time": "2023-04-24T10:46:12.728Z"
   },
   {
    "duration": 2522,
    "start_time": "2023-04-24T10:46:28.599Z"
   },
   {
    "duration": 2688,
    "start_time": "2023-04-24T10:47:15.827Z"
   },
   {
    "duration": 2607,
    "start_time": "2023-04-24T10:47:37.184Z"
   },
   {
    "duration": 946,
    "start_time": "2023-04-24T14:12:09.970Z"
   },
   {
    "duration": 38,
    "start_time": "2023-04-24T14:12:12.894Z"
   },
   {
    "duration": 68,
    "start_time": "2023-04-24T14:12:15.988Z"
   },
   {
    "duration": 12,
    "start_time": "2023-04-24T14:12:20.277Z"
   },
   {
    "duration": 62,
    "start_time": "2023-04-24T14:12:22.302Z"
   },
   {
    "duration": 1807,
    "start_time": "2023-04-24T14:12:24.109Z"
   },
   {
    "duration": 7,
    "start_time": "2023-04-24T14:12:29.939Z"
   },
   {
    "duration": 8,
    "start_time": "2023-04-24T14:13:01.404Z"
   },
   {
    "duration": 8,
    "start_time": "2023-04-24T14:13:13.305Z"
   },
   {
    "duration": 7,
    "start_time": "2023-04-24T14:13:16.683Z"
   },
   {
    "duration": 6,
    "start_time": "2023-04-24T14:13:17.303Z"
   },
   {
    "duration": 5,
    "start_time": "2023-04-24T14:13:20.478Z"
   },
   {
    "duration": 7,
    "start_time": "2023-04-24T14:13:21.982Z"
   },
   {
    "duration": 6,
    "start_time": "2023-04-24T14:13:22.911Z"
   },
   {
    "duration": 5,
    "start_time": "2023-04-24T14:13:25.509Z"
   },
   {
    "duration": 4,
    "start_time": "2023-04-24T14:13:26.686Z"
   },
   {
    "duration": 4,
    "start_time": "2023-04-24T14:13:27.242Z"
   },
   {
    "duration": 8,
    "start_time": "2023-04-24T14:13:29.637Z"
   },
   {
    "duration": 37,
    "start_time": "2023-04-24T14:13:32.207Z"
   },
   {
    "duration": 57,
    "start_time": "2023-04-24T14:13:35.953Z"
   },
   {
    "duration": 4,
    "start_time": "2023-04-24T14:13:38.787Z"
   },
   {
    "duration": 11,
    "start_time": "2023-04-24T14:13:42.273Z"
   },
   {
    "duration": 9,
    "start_time": "2023-04-24T14:13:45.394Z"
   },
   {
    "duration": 4,
    "start_time": "2023-04-24T14:13:47.682Z"
   },
   {
    "duration": 8,
    "start_time": "2023-04-24T14:13:49.003Z"
   },
   {
    "duration": 8,
    "start_time": "2023-04-24T14:13:51.460Z"
   },
   {
    "duration": 27,
    "start_time": "2023-04-24T14:13:54.119Z"
   },
   {
    "duration": 8,
    "start_time": "2023-04-24T14:13:56.261Z"
   },
   {
    "duration": 9,
    "start_time": "2023-04-24T14:13:57.710Z"
   },
   {
    "duration": 7,
    "start_time": "2023-04-24T14:13:59.651Z"
   },
   {
    "duration": 4,
    "start_time": "2023-04-24T14:14:02.294Z"
   },
   {
    "duration": 5,
    "start_time": "2023-04-24T14:14:03.986Z"
   },
   {
    "duration": 19,
    "start_time": "2023-04-24T14:14:05.494Z"
   },
   {
    "duration": 20,
    "start_time": "2023-04-24T14:14:06.819Z"
   },
   {
    "duration": 18,
    "start_time": "2023-04-24T14:14:13.210Z"
   },
   {
    "duration": 18,
    "start_time": "2023-04-24T14:14:18.096Z"
   },
   {
    "duration": 14,
    "start_time": "2023-04-24T14:14:20.478Z"
   },
   {
    "duration": 6,
    "start_time": "2023-04-24T14:14:22.078Z"
   },
   {
    "duration": 5,
    "start_time": "2023-04-24T14:14:22.762Z"
   },
   {
    "duration": 35,
    "start_time": "2023-04-24T14:14:23.533Z"
   },
   {
    "duration": 205,
    "start_time": "2023-04-24T14:19:10.690Z"
   },
   {
    "duration": 102,
    "start_time": "2023-04-24T14:22:54.511Z"
   },
   {
    "duration": 202,
    "start_time": "2023-04-24T14:23:48.970Z"
   },
   {
    "duration": 406,
    "start_time": "2023-04-24T14:24:05.425Z"
   },
   {
    "duration": 172,
    "start_time": "2023-04-24T14:24:09.934Z"
   },
   {
    "duration": 134,
    "start_time": "2023-04-24T14:32:12.114Z"
   },
   {
    "duration": 149,
    "start_time": "2023-04-24T14:32:19.893Z"
   },
   {
    "duration": 132,
    "start_time": "2023-04-24T14:36:22.005Z"
   },
   {
    "duration": 144,
    "start_time": "2023-04-24T14:36:47.423Z"
   },
   {
    "duration": 189,
    "start_time": "2023-04-24T14:40:27.432Z"
   },
   {
    "duration": 163,
    "start_time": "2023-04-24T14:40:43.205Z"
   },
   {
    "duration": 161,
    "start_time": "2023-04-24T14:41:41.705Z"
   },
   {
    "duration": 115,
    "start_time": "2023-04-24T14:42:04.228Z"
   },
   {
    "duration": 79,
    "start_time": "2023-04-24T14:42:22.607Z"
   },
   {
    "duration": 39,
    "start_time": "2023-04-24T14:42:22.688Z"
   },
   {
    "duration": 21,
    "start_time": "2023-04-24T14:42:22.728Z"
   },
   {
    "duration": 73,
    "start_time": "2023-04-24T14:42:22.751Z"
   },
   {
    "duration": 1843,
    "start_time": "2023-04-24T14:42:22.826Z"
   },
   {
    "duration": 5,
    "start_time": "2023-04-24T14:42:24.671Z"
   },
   {
    "duration": 28,
    "start_time": "2023-04-24T14:42:24.678Z"
   },
   {
    "duration": 12,
    "start_time": "2023-04-24T14:42:24.707Z"
   },
   {
    "duration": 5,
    "start_time": "2023-04-24T14:42:24.720Z"
   },
   {
    "duration": 6,
    "start_time": "2023-04-24T14:42:24.726Z"
   },
   {
    "duration": 6,
    "start_time": "2023-04-24T14:42:24.733Z"
   },
   {
    "duration": 5,
    "start_time": "2023-04-24T14:42:24.740Z"
   },
   {
    "duration": 4,
    "start_time": "2023-04-24T14:42:24.746Z"
   },
   {
    "duration": 8,
    "start_time": "2023-04-24T14:42:24.752Z"
   },
   {
    "duration": 5,
    "start_time": "2023-04-24T14:42:24.761Z"
   },
   {
    "duration": 44,
    "start_time": "2023-04-24T14:42:24.767Z"
   },
   {
    "duration": 36,
    "start_time": "2023-04-24T14:42:24.812Z"
   },
   {
    "duration": 59,
    "start_time": "2023-04-24T14:42:24.850Z"
   },
   {
    "duration": 5,
    "start_time": "2023-04-24T14:42:24.911Z"
   },
   {
    "duration": 20,
    "start_time": "2023-04-24T14:42:24.918Z"
   },
   {
    "duration": 20,
    "start_time": "2023-04-24T14:42:24.939Z"
   },
   {
    "duration": 5,
    "start_time": "2023-04-24T14:42:24.960Z"
   },
   {
    "duration": 12,
    "start_time": "2023-04-24T14:42:24.966Z"
   },
   {
    "duration": 22,
    "start_time": "2023-04-24T14:42:24.980Z"
   },
   {
    "duration": 23,
    "start_time": "2023-04-24T14:42:25.003Z"
   },
   {
    "duration": 7,
    "start_time": "2023-04-24T14:42:25.028Z"
   },
   {
    "duration": 21,
    "start_time": "2023-04-24T14:42:25.036Z"
   },
   {
    "duration": 16,
    "start_time": "2023-04-24T14:42:25.059Z"
   },
   {
    "duration": 4,
    "start_time": "2023-04-24T14:42:25.076Z"
   },
   {
    "duration": 7,
    "start_time": "2023-04-24T14:42:25.081Z"
   },
   {
    "duration": 28,
    "start_time": "2023-04-24T14:42:25.089Z"
   },
   {
    "duration": 18,
    "start_time": "2023-04-24T14:42:25.119Z"
   },
   {
    "duration": 7,
    "start_time": "2023-04-24T14:42:25.138Z"
   },
   {
    "duration": 18,
    "start_time": "2023-04-24T14:42:25.146Z"
   },
   {
    "duration": 45,
    "start_time": "2023-04-24T14:42:25.165Z"
   },
   {
    "duration": 13,
    "start_time": "2023-04-24T14:42:25.211Z"
   },
   {
    "duration": 6,
    "start_time": "2023-04-24T14:42:25.226Z"
   },
   {
    "duration": 7,
    "start_time": "2023-04-24T14:42:25.233Z"
   },
   {
    "duration": 32,
    "start_time": "2023-04-24T14:42:25.241Z"
   },
   {
    "duration": 191,
    "start_time": "2023-04-24T14:42:25.275Z"
   },
   {
    "duration": 188,
    "start_time": "2023-04-24T14:42:25.469Z"
   },
   {
    "duration": 163,
    "start_time": "2023-04-24T14:42:43.810Z"
   },
   {
    "duration": 191,
    "start_time": "2023-04-24T14:43:01.936Z"
   },
   {
    "duration": 300,
    "start_time": "2023-04-24T14:45:25.597Z"
   },
   {
    "duration": 144,
    "start_time": "2023-04-24T14:46:07.631Z"
   },
   {
    "duration": 227,
    "start_time": "2023-04-24T14:46:19.845Z"
   },
   {
    "duration": 157,
    "start_time": "2023-04-24T14:46:47.305Z"
   },
   {
    "duration": 182,
    "start_time": "2023-04-24T14:46:58.541Z"
   },
   {
    "duration": 201,
    "start_time": "2023-04-24T14:47:09.435Z"
   },
   {
    "duration": 174,
    "start_time": "2023-04-24T14:48:31.885Z"
   },
   {
    "duration": 154,
    "start_time": "2023-04-24T14:48:36.228Z"
   },
   {
    "duration": 223,
    "start_time": "2023-04-24T14:48:40.244Z"
   },
   {
    "duration": 146,
    "start_time": "2023-04-24T14:48:48.534Z"
   },
   {
    "duration": 256,
    "start_time": "2023-04-24T14:48:56.192Z"
   },
   {
    "duration": 226,
    "start_time": "2023-04-24T14:49:00.736Z"
   },
   {
    "duration": 155,
    "start_time": "2023-04-24T14:49:04.689Z"
   },
   {
    "duration": 220,
    "start_time": "2023-04-24T14:52:43.301Z"
   },
   {
    "duration": 192,
    "start_time": "2023-04-24T14:53:43.193Z"
   },
   {
    "duration": 163,
    "start_time": "2023-04-24T14:53:57.672Z"
   },
   {
    "duration": 2651,
    "start_time": "2023-04-24T14:54:51.516Z"
   },
   {
    "duration": 168,
    "start_time": "2023-04-24T14:55:00.003Z"
   },
   {
    "duration": 307,
    "start_time": "2023-04-24T14:58:26.896Z"
   },
   {
    "duration": 280,
    "start_time": "2023-04-24T14:58:39.684Z"
   },
   {
    "duration": 197,
    "start_time": "2023-04-24T14:58:44.410Z"
   },
   {
    "duration": 223,
    "start_time": "2023-04-24T14:59:15.617Z"
   },
   {
    "duration": 204,
    "start_time": "2023-04-24T14:59:20.216Z"
   },
   {
    "duration": 202,
    "start_time": "2023-04-24T14:59:25.150Z"
   },
   {
    "duration": 194,
    "start_time": "2023-04-24T14:59:31.991Z"
   },
   {
    "duration": 203,
    "start_time": "2023-04-24T14:59:39.115Z"
   },
   {
    "duration": 225,
    "start_time": "2023-04-24T15:00:03.589Z"
   },
   {
    "duration": 242,
    "start_time": "2023-04-24T15:00:07.430Z"
   },
   {
    "duration": 297,
    "start_time": "2023-04-24T15:01:03.727Z"
   },
   {
    "duration": 343,
    "start_time": "2023-04-24T15:01:08.486Z"
   },
   {
    "duration": 522,
    "start_time": "2023-04-24T16:10:24.004Z"
   },
   {
    "duration": 34,
    "start_time": "2023-04-24T16:10:24.528Z"
   },
   {
    "duration": 13,
    "start_time": "2023-04-24T16:10:24.564Z"
   },
   {
    "duration": 75,
    "start_time": "2023-04-24T16:10:24.579Z"
   },
   {
    "duration": 1914,
    "start_time": "2023-04-24T16:10:24.656Z"
   },
   {
    "duration": 6,
    "start_time": "2023-04-24T16:10:26.572Z"
   },
   {
    "duration": 20,
    "start_time": "2023-04-24T16:10:26.579Z"
   },
   {
    "duration": 10,
    "start_time": "2023-04-24T16:10:26.602Z"
   },
   {
    "duration": 8,
    "start_time": "2023-04-24T16:10:26.613Z"
   },
   {
    "duration": 9,
    "start_time": "2023-04-24T16:10:26.623Z"
   },
   {
    "duration": 19,
    "start_time": "2023-04-24T16:10:26.634Z"
   },
   {
    "duration": 7,
    "start_time": "2023-04-24T16:10:26.654Z"
   },
   {
    "duration": 4,
    "start_time": "2023-04-24T16:10:26.662Z"
   },
   {
    "duration": 7,
    "start_time": "2023-04-24T16:10:26.693Z"
   },
   {
    "duration": 7,
    "start_time": "2023-04-24T16:10:26.702Z"
   },
   {
    "duration": 11,
    "start_time": "2023-04-24T16:10:26.711Z"
   },
   {
    "duration": 38,
    "start_time": "2023-04-24T16:10:26.724Z"
   },
   {
    "duration": 62,
    "start_time": "2023-04-24T16:10:26.795Z"
   },
   {
    "duration": 10,
    "start_time": "2023-04-24T16:10:26.859Z"
   },
   {
    "duration": 25,
    "start_time": "2023-04-24T16:10:26.870Z"
   },
   {
    "duration": 10,
    "start_time": "2023-04-24T16:10:26.897Z"
   },
   {
    "duration": 5,
    "start_time": "2023-04-24T16:10:26.909Z"
   },
   {
    "duration": 10,
    "start_time": "2023-04-24T16:10:26.916Z"
   },
   {
    "duration": 8,
    "start_time": "2023-04-24T16:10:26.927Z"
   },
   {
    "duration": 30,
    "start_time": "2023-04-24T16:10:26.937Z"
   },
   {
    "duration": 34,
    "start_time": "2023-04-24T16:10:26.968Z"
   },
   {
    "duration": 15,
    "start_time": "2023-04-24T16:10:27.005Z"
   },
   {
    "duration": 35,
    "start_time": "2023-04-24T16:10:27.022Z"
   },
   {
    "duration": 33,
    "start_time": "2023-04-24T16:10:27.059Z"
   },
   {
    "duration": 21,
    "start_time": "2023-04-24T16:10:27.093Z"
   },
   {
    "duration": 34,
    "start_time": "2023-04-24T16:10:27.116Z"
   },
   {
    "duration": 27,
    "start_time": "2023-04-24T16:10:27.152Z"
   },
   {
    "duration": 6,
    "start_time": "2023-04-24T16:10:27.181Z"
   },
   {
    "duration": 28,
    "start_time": "2023-04-24T16:10:27.188Z"
   },
   {
    "duration": 24,
    "start_time": "2023-04-24T16:10:27.219Z"
   },
   {
    "duration": 15,
    "start_time": "2023-04-24T16:10:27.244Z"
   },
   {
    "duration": 8,
    "start_time": "2023-04-24T16:10:27.261Z"
   },
   {
    "duration": 27,
    "start_time": "2023-04-24T16:10:27.272Z"
   },
   {
    "duration": 28,
    "start_time": "2023-04-24T16:10:27.301Z"
   },
   {
    "duration": 216,
    "start_time": "2023-04-24T16:10:27.330Z"
   },
   {
    "duration": 86,
    "start_time": "2023-04-24T16:12:23.840Z"
   },
   {
    "duration": 162,
    "start_time": "2023-04-24T16:16:09.626Z"
   },
   {
    "duration": 265,
    "start_time": "2023-04-24T16:16:17.389Z"
   },
   {
    "duration": 285,
    "start_time": "2023-04-24T16:17:24.500Z"
   },
   {
    "duration": 265,
    "start_time": "2023-04-24T16:17:29.353Z"
   },
   {
    "duration": 421,
    "start_time": "2023-04-24T16:17:33.598Z"
   },
   {
    "duration": 292,
    "start_time": "2023-04-24T16:17:57.289Z"
   },
   {
    "duration": 348,
    "start_time": "2023-04-24T16:18:24.571Z"
   },
   {
    "duration": 261,
    "start_time": "2023-04-24T16:18:36.721Z"
   },
   {
    "duration": 258,
    "start_time": "2023-04-24T16:21:14.212Z"
   },
   {
    "duration": 272,
    "start_time": "2023-04-24T16:22:19.010Z"
   },
   {
    "duration": 368,
    "start_time": "2023-04-24T16:22:23.302Z"
   },
   {
    "duration": 461,
    "start_time": "2023-04-24T16:22:46.507Z"
   },
   {
    "duration": 314,
    "start_time": "2023-04-24T16:23:44.352Z"
   },
   {
    "duration": 329,
    "start_time": "2023-04-24T16:23:47.933Z"
   },
   {
    "duration": 355,
    "start_time": "2023-04-24T16:23:53.130Z"
   },
   {
    "duration": 399,
    "start_time": "2023-04-24T16:25:16.829Z"
   },
   {
    "duration": 543,
    "start_time": "2023-04-24T16:27:54.625Z"
   },
   {
    "duration": 386,
    "start_time": "2023-04-24T16:28:53.346Z"
   },
   {
    "duration": 380,
    "start_time": "2023-04-24T16:33:45.611Z"
   },
   {
    "duration": 405,
    "start_time": "2023-04-24T16:33:55.289Z"
   },
   {
    "duration": 320,
    "start_time": "2023-04-24T16:35:09.214Z"
   },
   {
    "duration": 1043,
    "start_time": "2023-04-24T16:37:06.028Z"
   },
   {
    "duration": 696,
    "start_time": "2023-04-24T16:38:14.281Z"
   },
   {
    "duration": 820,
    "start_time": "2023-04-24T16:38:52.115Z"
   },
   {
    "duration": 1542,
    "start_time": "2023-04-24T16:42:23.189Z"
   },
   {
    "duration": 1527,
    "start_time": "2023-04-24T16:42:49.452Z"
   },
   {
    "duration": 735,
    "start_time": "2023-04-24T16:43:47.445Z"
   },
   {
    "duration": 875,
    "start_time": "2023-04-24T16:51:08.952Z"
   },
   {
    "duration": 371,
    "start_time": "2023-04-24T17:39:26.214Z"
   },
   {
    "duration": 444,
    "start_time": "2023-04-24T17:41:13.765Z"
   },
   {
    "duration": 347,
    "start_time": "2023-04-24T17:41:25.615Z"
   },
   {
    "duration": 362,
    "start_time": "2023-04-24T17:42:02.709Z"
   },
   {
    "duration": 432,
    "start_time": "2023-04-24T17:42:26.742Z"
   },
   {
    "duration": 344,
    "start_time": "2023-04-24T17:42:49.881Z"
   },
   {
    "duration": 520,
    "start_time": "2023-04-24T17:44:43.620Z"
   },
   {
    "duration": 803,
    "start_time": "2023-04-24T17:45:16.447Z"
   },
   {
    "duration": 102,
    "start_time": "2023-04-24T17:45:38.412Z"
   },
   {
    "duration": 908,
    "start_time": "2023-04-24T17:45:46.415Z"
   },
   {
    "duration": 952,
    "start_time": "2023-04-24T17:46:01.191Z"
   },
   {
    "duration": 445,
    "start_time": "2023-04-24T17:46:54.019Z"
   },
   {
    "duration": 504,
    "start_time": "2023-04-24T17:48:11.519Z"
   },
   {
    "duration": 525,
    "start_time": "2023-04-24T17:48:20.292Z"
   },
   {
    "duration": 2632,
    "start_time": "2023-04-24T17:48:32.740Z"
   },
   {
    "duration": 519,
    "start_time": "2023-04-24T17:50:24.031Z"
   },
   {
    "duration": 650,
    "start_time": "2023-04-24T17:51:28.506Z"
   },
   {
    "duration": 379,
    "start_time": "2023-04-24T17:51:48.178Z"
   },
   {
    "duration": 383,
    "start_time": "2023-04-24T17:51:55.261Z"
   },
   {
    "duration": 501,
    "start_time": "2023-04-24T17:52:03.429Z"
   },
   {
    "duration": 457,
    "start_time": "2023-04-24T17:52:10.820Z"
   },
   {
    "duration": 472,
    "start_time": "2023-04-24T17:52:15.576Z"
   },
   {
    "duration": 641,
    "start_time": "2023-04-24T17:52:22.562Z"
   },
   {
    "duration": 444,
    "start_time": "2023-04-24T17:52:27.807Z"
   },
   {
    "duration": 487,
    "start_time": "2023-04-24T17:52:51.968Z"
   },
   {
    "duration": 472,
    "start_time": "2023-04-24T17:53:08.427Z"
   },
   {
    "duration": 456,
    "start_time": "2023-04-24T17:53:23.194Z"
   },
   {
    "duration": 643,
    "start_time": "2023-04-24T18:02:29.052Z"
   },
   {
    "duration": 335,
    "start_time": "2023-04-24T18:03:36.851Z"
   },
   {
    "duration": 372,
    "start_time": "2023-04-24T18:03:48.151Z"
   },
   {
    "duration": 341,
    "start_time": "2023-04-24T18:04:06.177Z"
   },
   {
    "duration": 281,
    "start_time": "2023-04-24T18:04:13.564Z"
   },
   {
    "duration": 292,
    "start_time": "2023-04-24T18:04:58.180Z"
   },
   {
    "duration": 265,
    "start_time": "2023-04-24T18:06:29.462Z"
   },
   {
    "duration": 307,
    "start_time": "2023-04-24T18:06:33.249Z"
   },
   {
    "duration": 307,
    "start_time": "2023-04-24T18:06:40.167Z"
   },
   {
    "duration": 313,
    "start_time": "2023-04-24T18:06:53.488Z"
   },
   {
    "duration": 2033,
    "start_time": "2023-04-25T07:43:11.211Z"
   },
   {
    "duration": 125,
    "start_time": "2023-04-25T07:43:18.747Z"
   },
   {
    "duration": 73,
    "start_time": "2023-04-25T07:43:18.875Z"
   },
   {
    "duration": 20,
    "start_time": "2023-04-25T07:43:18.950Z"
   },
   {
    "duration": 109,
    "start_time": "2023-04-25T07:43:18.974Z"
   },
   {
    "duration": 2639,
    "start_time": "2023-04-25T07:43:19.085Z"
   },
   {
    "duration": 9,
    "start_time": "2023-04-25T07:43:21.726Z"
   },
   {
    "duration": 41,
    "start_time": "2023-04-25T07:43:21.738Z"
   },
   {
    "duration": 36,
    "start_time": "2023-04-25T07:43:21.781Z"
   },
   {
    "duration": 7,
    "start_time": "2023-04-25T07:43:21.821Z"
   },
   {
    "duration": 15,
    "start_time": "2023-04-25T07:43:21.831Z"
   },
   {
    "duration": 32,
    "start_time": "2023-04-25T07:43:21.848Z"
   },
   {
    "duration": 25,
    "start_time": "2023-04-25T07:43:21.882Z"
   },
   {
    "duration": 26,
    "start_time": "2023-04-25T07:43:21.909Z"
   },
   {
    "duration": 36,
    "start_time": "2023-04-25T07:43:21.937Z"
   },
   {
    "duration": 21,
    "start_time": "2023-04-25T07:43:21.975Z"
   },
   {
    "duration": 21,
    "start_time": "2023-04-25T07:43:21.998Z"
   },
   {
    "duration": 89,
    "start_time": "2023-04-25T07:43:22.022Z"
   },
   {
    "duration": 88,
    "start_time": "2023-04-25T07:43:22.113Z"
   },
   {
    "duration": 6,
    "start_time": "2023-04-25T07:43:22.203Z"
   },
   {
    "duration": 49,
    "start_time": "2023-04-25T07:43:22.211Z"
   },
   {
    "duration": 27,
    "start_time": "2023-04-25T07:43:22.263Z"
   },
   {
    "duration": 13,
    "start_time": "2023-04-25T07:43:22.293Z"
   },
   {
    "duration": 49,
    "start_time": "2023-04-25T07:43:22.309Z"
   },
   {
    "duration": 42,
    "start_time": "2023-04-25T07:43:22.361Z"
   },
   {
    "duration": 59,
    "start_time": "2023-04-25T07:43:22.406Z"
   },
   {
    "duration": 10,
    "start_time": "2023-04-25T07:43:22.468Z"
   },
   {
    "duration": 26,
    "start_time": "2023-04-25T07:43:22.480Z"
   },
   {
    "duration": 52,
    "start_time": "2023-04-25T07:43:22.512Z"
   },
   {
    "duration": 17,
    "start_time": "2023-04-25T07:43:22.567Z"
   },
   {
    "duration": 14,
    "start_time": "2023-04-25T07:43:22.586Z"
   },
   {
    "duration": 64,
    "start_time": "2023-04-25T07:43:22.602Z"
   },
   {
    "duration": 44,
    "start_time": "2023-04-25T07:43:22.668Z"
   },
   {
    "duration": 9,
    "start_time": "2023-04-25T07:43:22.714Z"
   },
   {
    "duration": 67,
    "start_time": "2023-04-25T07:43:22.725Z"
   },
   {
    "duration": 32,
    "start_time": "2023-04-25T07:43:22.794Z"
   },
   {
    "duration": 19,
    "start_time": "2023-04-25T07:43:22.828Z"
   },
   {
    "duration": 10,
    "start_time": "2023-04-25T07:43:22.849Z"
   },
   {
    "duration": 24,
    "start_time": "2023-04-25T07:43:22.862Z"
   },
   {
    "duration": 46,
    "start_time": "2023-04-25T07:43:22.888Z"
   },
   {
    "duration": 923,
    "start_time": "2023-04-25T07:43:22.937Z"
   },
   {
    "duration": 633,
    "start_time": "2023-04-25T07:43:23.863Z"
   },
   {
    "duration": 662,
    "start_time": "2023-04-25T07:43:24.498Z"
   },
   {
    "duration": 232,
    "start_time": "2023-04-25T07:45:03.130Z"
   },
   {
    "duration": 466,
    "start_time": "2023-04-25T07:45:46.458Z"
   },
   {
    "duration": 392,
    "start_time": "2023-04-25T07:48:12.390Z"
   },
   {
    "duration": 406,
    "start_time": "2023-04-25T07:48:19.993Z"
   },
   {
    "duration": 6,
    "start_time": "2023-04-25T07:48:29.173Z"
   },
   {
    "duration": 398,
    "start_time": "2023-04-25T07:49:15.423Z"
   },
   {
    "duration": 1006,
    "start_time": "2023-04-25T07:49:26.289Z"
   },
   {
    "duration": 285,
    "start_time": "2023-04-25T07:49:29.708Z"
   },
   {
    "duration": 389,
    "start_time": "2023-04-25T07:49:33.424Z"
   },
   {
    "duration": 235,
    "start_time": "2023-04-25T07:50:17.479Z"
   },
   {
    "duration": 390,
    "start_time": "2023-04-25T07:50:27.883Z"
   },
   {
    "duration": 571,
    "start_time": "2023-04-25T07:50:32.755Z"
   },
   {
    "duration": 413,
    "start_time": "2023-04-25T07:50:47.121Z"
   },
   {
    "duration": 227,
    "start_time": "2023-04-25T07:52:43.237Z"
   },
   {
    "duration": 247,
    "start_time": "2023-04-25T07:53:09.994Z"
   },
   {
    "duration": 330,
    "start_time": "2023-04-25T07:53:13.874Z"
   },
   {
    "duration": 239,
    "start_time": "2023-04-25T07:53:17.021Z"
   },
   {
    "duration": 683,
    "start_time": "2023-04-25T07:53:20.676Z"
   },
   {
    "duration": 399,
    "start_time": "2023-04-25T07:53:24.914Z"
   },
   {
    "duration": 359,
    "start_time": "2023-04-25T07:53:30.690Z"
   },
   {
    "duration": 272,
    "start_time": "2023-04-25T07:53:33.435Z"
   },
   {
    "duration": 215,
    "start_time": "2023-04-25T07:53:38.335Z"
   },
   {
    "duration": 448,
    "start_time": "2023-04-25T07:53:40.974Z"
   },
   {
    "duration": 398,
    "start_time": "2023-04-25T07:53:50.618Z"
   },
   {
    "duration": 670,
    "start_time": "2023-04-25T07:53:55.807Z"
   },
   {
    "duration": 697,
    "start_time": "2023-04-25T07:56:35.082Z"
   },
   {
    "duration": 555,
    "start_time": "2023-04-25T07:56:48.447Z"
   },
   {
    "duration": 368,
    "start_time": "2023-04-25T07:58:20.168Z"
   },
   {
    "duration": 895,
    "start_time": "2023-04-25T07:59:18.985Z"
   },
   {
    "duration": 446,
    "start_time": "2023-04-25T07:59:39.702Z"
   },
   {
    "duration": 868,
    "start_time": "2023-04-25T08:00:06.352Z"
   },
   {
    "duration": 959,
    "start_time": "2023-04-25T08:00:27.359Z"
   },
   {
    "duration": 602,
    "start_time": "2023-04-25T08:00:37.185Z"
   },
   {
    "duration": 310,
    "start_time": "2023-04-25T08:00:47.226Z"
   },
   {
    "duration": 288,
    "start_time": "2023-04-25T08:03:31.982Z"
   },
   {
    "duration": 1381,
    "start_time": "2023-04-25T08:12:31.186Z"
   },
   {
    "duration": 1176,
    "start_time": "2023-04-25T08:13:43.477Z"
   },
   {
    "duration": 1252,
    "start_time": "2023-04-25T08:14:16.560Z"
   },
   {
    "duration": 1303,
    "start_time": "2023-04-25T08:14:40.777Z"
   },
   {
    "duration": 1145,
    "start_time": "2023-04-25T08:14:51.122Z"
   },
   {
    "duration": 1280,
    "start_time": "2023-04-25T08:15:08.096Z"
   },
   {
    "duration": 1082,
    "start_time": "2023-04-25T08:15:29.775Z"
   },
   {
    "duration": 467,
    "start_time": "2023-04-25T08:15:54.186Z"
   },
   {
    "duration": 1408,
    "start_time": "2023-04-25T08:34:45.027Z"
   },
   {
    "duration": 1094,
    "start_time": "2023-04-25T08:35:03.977Z"
   },
   {
    "duration": 1232,
    "start_time": "2023-04-25T08:35:44.054Z"
   },
   {
    "duration": 1079,
    "start_time": "2023-04-25T08:35:53.596Z"
   },
   {
    "duration": 150,
    "start_time": "2023-04-25T08:38:49.232Z"
   },
   {
    "duration": 1285,
    "start_time": "2023-04-25T08:40:00.797Z"
   },
   {
    "duration": 644,
    "start_time": "2023-04-25T08:41:20.995Z"
   },
   {
    "duration": 121,
    "start_time": "2023-04-25T08:50:55.504Z"
   },
   {
    "duration": 149,
    "start_time": "2023-04-25T08:51:06.972Z"
   },
   {
    "duration": 118,
    "start_time": "2023-04-25T08:51:23.386Z"
   },
   {
    "duration": 6,
    "start_time": "2023-04-25T08:53:04.382Z"
   },
   {
    "duration": 7,
    "start_time": "2023-04-25T08:53:45.379Z"
   },
   {
    "duration": 8,
    "start_time": "2023-04-25T08:54:18.992Z"
   },
   {
    "duration": 9,
    "start_time": "2023-04-25T08:54:36.735Z"
   },
   {
    "duration": 15,
    "start_time": "2023-04-25T08:58:05.390Z"
   },
   {
    "duration": 8,
    "start_time": "2023-04-25T08:58:19.481Z"
   },
   {
    "duration": 141,
    "start_time": "2023-04-25T08:58:35.758Z"
   },
   {
    "duration": 115,
    "start_time": "2023-04-25T08:58:45.453Z"
   },
   {
    "duration": 1119,
    "start_time": "2023-04-25T09:02:11.112Z"
   },
   {
    "duration": 1053,
    "start_time": "2023-04-25T09:02:19.206Z"
   },
   {
    "duration": 936,
    "start_time": "2023-04-25T09:03:07.388Z"
   },
   {
    "duration": 136,
    "start_time": "2023-04-25T09:04:33.341Z"
   },
   {
    "duration": 153,
    "start_time": "2023-04-25T09:05:17.436Z"
   },
   {
    "duration": 216,
    "start_time": "2023-04-25T09:05:28.436Z"
   },
   {
    "duration": 121,
    "start_time": "2023-04-25T09:06:12.898Z"
   },
   {
    "duration": 143,
    "start_time": "2023-04-25T09:07:05.226Z"
   },
   {
    "duration": 394,
    "start_time": "2023-04-25T09:07:10.238Z"
   },
   {
    "duration": 159,
    "start_time": "2023-04-25T09:07:14.467Z"
   },
   {
    "duration": 173,
    "start_time": "2023-04-25T09:07:25.095Z"
   },
   {
    "duration": 153,
    "start_time": "2023-04-25T09:07:41.036Z"
   },
   {
    "duration": 895,
    "start_time": "2023-04-25T09:08:18.003Z"
   },
   {
    "duration": 1160,
    "start_time": "2023-04-25T09:08:38.004Z"
   },
   {
    "duration": 924,
    "start_time": "2023-04-25T09:11:12.859Z"
   },
   {
    "duration": 1410,
    "start_time": "2023-04-25T09:15:57.312Z"
   },
   {
    "duration": 1336,
    "start_time": "2023-04-25T09:16:23.815Z"
   },
   {
    "duration": 1499,
    "start_time": "2023-04-25T09:16:33.958Z"
   },
   {
    "duration": 1235,
    "start_time": "2023-04-25T09:16:40.042Z"
   },
   {
    "duration": 1390,
    "start_time": "2023-04-25T09:18:41.115Z"
   },
   {
    "duration": 1344,
    "start_time": "2023-04-25T09:18:47.799Z"
   },
   {
    "duration": 1666,
    "start_time": "2023-04-25T10:24:48.199Z"
   },
   {
    "duration": 1724,
    "start_time": "2023-04-25T10:24:56.807Z"
   },
   {
    "duration": 1328,
    "start_time": "2023-04-25T10:27:38.020Z"
   },
   {
    "duration": 1441,
    "start_time": "2023-04-25T10:30:00.003Z"
   },
   {
    "duration": 29,
    "start_time": "2023-04-25T10:39:01.760Z"
   },
   {
    "duration": 27,
    "start_time": "2023-04-25T10:39:16.387Z"
   },
   {
    "duration": 25,
    "start_time": "2023-04-25T10:41:14.859Z"
   },
   {
    "duration": 33,
    "start_time": "2023-04-25T10:41:21.131Z"
   },
   {
    "duration": 20,
    "start_time": "2023-04-25T13:07:55.339Z"
   },
   {
    "duration": 1524,
    "start_time": "2023-04-25T13:08:39.753Z"
   },
   {
    "duration": 1911,
    "start_time": "2023-04-25T13:09:10.409Z"
   },
   {
    "duration": 66,
    "start_time": "2023-04-25T13:17:59.788Z"
   },
   {
    "duration": 29,
    "start_time": "2023-04-25T13:18:14.781Z"
   },
   {
    "duration": 29,
    "start_time": "2023-04-25T13:18:25.821Z"
   },
   {
    "duration": 35,
    "start_time": "2023-04-25T13:18:42.219Z"
   },
   {
    "duration": 311,
    "start_time": "2023-04-25T13:21:31.024Z"
   },
   {
    "duration": 34,
    "start_time": "2023-04-25T13:21:35.105Z"
   },
   {
    "duration": 50,
    "start_time": "2023-04-25T13:24:55.846Z"
   },
   {
    "duration": 187,
    "start_time": "2023-04-25T13:27:48.236Z"
   },
   {
    "duration": 205,
    "start_time": "2023-04-25T13:28:00.837Z"
   },
   {
    "duration": 38,
    "start_time": "2023-04-25T13:33:29.066Z"
   },
   {
    "duration": 32,
    "start_time": "2023-04-25T13:33:38.226Z"
   },
   {
    "duration": 1045,
    "start_time": "2023-04-25T13:38:45.304Z"
   },
   {
    "duration": 31,
    "start_time": "2023-04-25T13:39:28.932Z"
   },
   {
    "duration": 556,
    "start_time": "2023-04-25T13:44:04.832Z"
   },
   {
    "duration": 1046,
    "start_time": "2023-04-25T13:45:46.296Z"
   },
   {
    "duration": 23,
    "start_time": "2023-04-25T13:46:33.092Z"
   },
   {
    "duration": 1202,
    "start_time": "2023-04-25T13:47:23.797Z"
   },
   {
    "duration": 44,
    "start_time": "2023-04-25T13:47:55.992Z"
   },
   {
    "duration": 972,
    "start_time": "2023-04-25T13:57:26.684Z"
   },
   {
    "duration": 951,
    "start_time": "2023-04-25T13:57:42.502Z"
   },
   {
    "duration": 881,
    "start_time": "2023-04-25T13:58:13.688Z"
   },
   {
    "duration": 519,
    "start_time": "2023-04-25T13:59:09.314Z"
   },
   {
    "duration": 778,
    "start_time": "2023-04-25T13:59:26.976Z"
   },
   {
    "duration": 553,
    "start_time": "2023-04-25T13:59:38.726Z"
   },
   {
    "duration": 557,
    "start_time": "2023-04-25T13:59:55.444Z"
   },
   {
    "duration": 576,
    "start_time": "2023-04-25T14:00:09.776Z"
   },
   {
    "duration": 47,
    "start_time": "2023-04-25T14:05:01.492Z"
   },
   {
    "duration": 27,
    "start_time": "2023-04-25T14:05:29.114Z"
   },
   {
    "duration": 24,
    "start_time": "2023-04-25T14:06:52.576Z"
   },
   {
    "duration": 374,
    "start_time": "2023-04-25T14:09:01.343Z"
   },
   {
    "duration": 329,
    "start_time": "2023-04-25T14:09:48.055Z"
   },
   {
    "duration": 323,
    "start_time": "2023-04-25T14:09:58.281Z"
   },
   {
    "duration": 192,
    "start_time": "2023-04-25T14:11:22.006Z"
   },
   {
    "duration": 153,
    "start_time": "2023-04-25T14:36:11.609Z"
   },
   {
    "duration": 152,
    "start_time": "2023-04-25T14:36:33.488Z"
   },
   {
    "duration": 141,
    "start_time": "2023-04-25T14:36:47.416Z"
   },
   {
    "duration": 826,
    "start_time": "2023-04-25T14:39:16.884Z"
   },
   {
    "duration": 555,
    "start_time": "2023-04-25T14:39:42.600Z"
   },
   {
    "duration": 165,
    "start_time": "2023-04-25T14:39:55.822Z"
   },
   {
    "duration": 372,
    "start_time": "2023-04-25T14:40:58.296Z"
   },
   {
    "duration": 353,
    "start_time": "2023-04-25T14:41:17.195Z"
   },
   {
    "duration": 171,
    "start_time": "2023-04-25T14:41:31.221Z"
   },
   {
    "duration": 152,
    "start_time": "2023-04-25T14:41:41.728Z"
   },
   {
    "duration": 174,
    "start_time": "2023-04-25T14:41:53.716Z"
   },
   {
    "duration": 153,
    "start_time": "2023-04-25T14:43:22.856Z"
   },
   {
    "duration": 141,
    "start_time": "2023-04-25T14:43:27.508Z"
   },
   {
    "duration": 155,
    "start_time": "2023-04-25T14:43:34.612Z"
   },
   {
    "duration": 186,
    "start_time": "2023-04-25T14:45:15.201Z"
   },
   {
    "duration": 166,
    "start_time": "2023-04-25T14:45:49.176Z"
   },
   {
    "duration": 138,
    "start_time": "2023-04-25T14:45:56.812Z"
   },
   {
    "duration": 171,
    "start_time": "2023-04-25T14:47:39.510Z"
   },
   {
    "duration": 168,
    "start_time": "2023-04-25T14:47:47.016Z"
   },
   {
    "duration": 378,
    "start_time": "2023-04-25T14:47:54.038Z"
   },
   {
    "duration": 298,
    "start_time": "2023-04-25T14:49:22.011Z"
   },
   {
    "duration": 165,
    "start_time": "2023-04-25T14:51:02.588Z"
   },
   {
    "duration": 561,
    "start_time": "2023-04-25T14:52:01.365Z"
   },
   {
    "duration": 521,
    "start_time": "2023-04-25T14:52:29.720Z"
   },
   {
    "duration": 521,
    "start_time": "2023-04-25T14:52:33.246Z"
   },
   {
    "duration": 590,
    "start_time": "2023-04-25T14:57:53.013Z"
   },
   {
    "duration": 35,
    "start_time": "2023-04-25T15:03:30.125Z"
   },
   {
    "duration": 37,
    "start_time": "2023-04-25T15:06:33.836Z"
   },
   {
    "duration": 46,
    "start_time": "2023-04-25T15:07:07.095Z"
   },
   {
    "duration": 37,
    "start_time": "2023-04-25T15:07:14.534Z"
   },
   {
    "duration": 1522,
    "start_time": "2023-04-26T07:43:10.435Z"
   },
   {
    "duration": 43,
    "start_time": "2023-04-26T07:43:11.959Z"
   },
   {
    "duration": 20,
    "start_time": "2023-04-26T07:43:12.004Z"
   },
   {
    "duration": 108,
    "start_time": "2023-04-26T07:43:12.026Z"
   },
   {
    "duration": 2137,
    "start_time": "2023-04-26T07:43:12.137Z"
   },
   {
    "duration": 13,
    "start_time": "2023-04-26T07:43:14.276Z"
   },
   {
    "duration": 12,
    "start_time": "2023-04-26T07:43:14.291Z"
   },
   {
    "duration": 12,
    "start_time": "2023-04-26T07:43:14.304Z"
   },
   {
    "duration": 6,
    "start_time": "2023-04-26T07:43:14.318Z"
   },
   {
    "duration": 24,
    "start_time": "2023-04-26T07:43:14.326Z"
   },
   {
    "duration": 37,
    "start_time": "2023-04-26T07:43:14.352Z"
   },
   {
    "duration": 20,
    "start_time": "2023-04-26T07:43:14.390Z"
   },
   {
    "duration": 9,
    "start_time": "2023-04-26T07:43:14.412Z"
   },
   {
    "duration": 9,
    "start_time": "2023-04-26T07:43:14.425Z"
   },
   {
    "duration": 10,
    "start_time": "2023-04-26T07:43:14.436Z"
   },
   {
    "duration": 14,
    "start_time": "2023-04-26T07:43:14.448Z"
   },
   {
    "duration": 55,
    "start_time": "2023-04-26T07:43:14.464Z"
   },
   {
    "duration": 80,
    "start_time": "2023-04-26T07:43:14.521Z"
   },
   {
    "duration": 4,
    "start_time": "2023-04-26T07:43:14.602Z"
   },
   {
    "duration": 24,
    "start_time": "2023-04-26T07:43:14.608Z"
   },
   {
    "duration": 22,
    "start_time": "2023-04-26T07:43:14.634Z"
   },
   {
    "duration": 27,
    "start_time": "2023-04-26T07:43:14.658Z"
   },
   {
    "duration": 8,
    "start_time": "2023-04-26T07:43:14.687Z"
   },
   {
    "duration": 7,
    "start_time": "2023-04-26T07:43:14.697Z"
   },
   {
    "duration": 31,
    "start_time": "2023-04-26T07:43:14.706Z"
   },
   {
    "duration": 7,
    "start_time": "2023-04-26T07:43:14.738Z"
   },
   {
    "duration": 45,
    "start_time": "2023-04-26T07:43:14.746Z"
   },
   {
    "duration": 16,
    "start_time": "2023-04-26T07:43:14.792Z"
   },
   {
    "duration": 4,
    "start_time": "2023-04-26T07:43:14.809Z"
   },
   {
    "duration": 7,
    "start_time": "2023-04-26T07:43:14.814Z"
   },
   {
    "duration": 22,
    "start_time": "2023-04-26T07:43:14.823Z"
   },
   {
    "duration": 61,
    "start_time": "2023-04-26T07:43:14.847Z"
   },
   {
    "duration": 7,
    "start_time": "2023-04-26T07:43:14.909Z"
   },
   {
    "duration": 22,
    "start_time": "2023-04-26T07:43:14.917Z"
   },
   {
    "duration": 56,
    "start_time": "2023-04-26T07:43:14.941Z"
   },
   {
    "duration": 15,
    "start_time": "2023-04-26T07:43:14.999Z"
   },
   {
    "duration": 22,
    "start_time": "2023-04-26T07:43:15.015Z"
   },
   {
    "duration": 10,
    "start_time": "2023-04-26T07:43:15.039Z"
   },
   {
    "duration": 45,
    "start_time": "2023-04-26T07:43:15.051Z"
   },
   {
    "duration": 105,
    "start_time": "2023-04-26T07:43:15.098Z"
   },
   {
    "duration": 761,
    "start_time": "2023-04-26T07:43:15.207Z"
   },
   {
    "duration": 525,
    "start_time": "2023-04-26T07:43:15.969Z"
   },
   {
    "duration": 514,
    "start_time": "2023-04-26T07:43:16.497Z"
   },
   {
    "duration": 238,
    "start_time": "2023-04-26T07:43:17.013Z"
   },
   {
    "duration": 936,
    "start_time": "2023-04-26T07:43:17.253Z"
   },
   {
    "duration": 150,
    "start_time": "2023-04-26T07:43:18.191Z"
   },
   {
    "duration": 801,
    "start_time": "2023-04-26T07:43:18.343Z"
   },
   {
    "duration": 68,
    "start_time": "2023-04-26T07:43:19.145Z"
   },
   {
    "duration": 476,
    "start_time": "2023-04-26T07:43:19.215Z"
   },
   {
    "duration": 143,
    "start_time": "2023-04-26T07:43:19.692Z"
   },
   {
    "duration": 139,
    "start_time": "2023-04-26T07:43:19.837Z"
   },
   {
    "duration": 573,
    "start_time": "2023-04-26T07:43:19.978Z"
   },
   {
    "duration": 9,
    "start_time": "2023-04-26T07:43:20.560Z"
   },
   {
    "duration": 21,
    "start_time": "2023-04-26T07:45:18.800Z"
   },
   {
    "duration": 32,
    "start_time": "2023-04-26T07:45:34.400Z"
   },
   {
    "duration": 37,
    "start_time": "2023-04-26T07:48:00.735Z"
   },
   {
    "duration": 53,
    "start_time": "2023-04-26T07:49:21.117Z"
   },
   {
    "duration": 10,
    "start_time": "2023-04-26T07:50:27.092Z"
   },
   {
    "duration": 25,
    "start_time": "2023-04-26T07:51:08.560Z"
   },
   {
    "duration": 10,
    "start_time": "2023-04-26T07:51:25.352Z"
   },
   {
    "duration": 16,
    "start_time": "2023-04-26T07:51:26.219Z"
   },
   {
    "duration": 13,
    "start_time": "2023-04-26T07:51:34.002Z"
   },
   {
    "duration": 24,
    "start_time": "2023-04-26T07:53:15.912Z"
   },
   {
    "duration": 17,
    "start_time": "2023-04-26T07:54:26.276Z"
   },
   {
    "duration": 23,
    "start_time": "2023-04-26T07:54:34.027Z"
   },
   {
    "duration": 17,
    "start_time": "2023-04-26T07:54:49.755Z"
   },
   {
    "duration": 26,
    "start_time": "2023-04-26T07:58:28.693Z"
   },
   {
    "duration": 8,
    "start_time": "2023-04-26T08:06:32.210Z"
   },
   {
    "duration": 188,
    "start_time": "2023-04-26T08:07:30.113Z"
   },
   {
    "duration": 175,
    "start_time": "2023-04-26T08:07:38.841Z"
   },
   {
    "duration": 340,
    "start_time": "2023-04-26T08:09:40.918Z"
   },
   {
    "duration": 163,
    "start_time": "2023-04-26T08:10:17.855Z"
   },
   {
    "duration": 111,
    "start_time": "2023-04-26T08:14:45.610Z"
   },
   {
    "duration": 175,
    "start_time": "2023-04-26T08:14:49.317Z"
   },
   {
    "duration": 912,
    "start_time": "2023-04-26T08:27:20.110Z"
   },
   {
    "duration": 293,
    "start_time": "2023-04-26T08:27:34.567Z"
   },
   {
    "duration": 355,
    "start_time": "2023-04-26T08:29:19.255Z"
   },
   {
    "duration": 284,
    "start_time": "2023-04-26T08:29:38.485Z"
   },
   {
    "duration": 312,
    "start_time": "2023-04-26T08:30:10.320Z"
   },
   {
    "duration": 173,
    "start_time": "2023-04-26T08:35:15.276Z"
   },
   {
    "duration": 172,
    "start_time": "2023-04-26T08:35:21.378Z"
   },
   {
    "duration": 188,
    "start_time": "2023-04-26T08:35:25.264Z"
   },
   {
    "duration": 2006,
    "start_time": "2023-04-26T12:29:21.753Z"
   },
   {
    "duration": 40,
    "start_time": "2023-04-26T12:29:23.760Z"
   },
   {
    "duration": 16,
    "start_time": "2023-04-26T12:29:23.802Z"
   },
   {
    "duration": 77,
    "start_time": "2023-04-26T12:29:23.820Z"
   },
   {
    "duration": 2033,
    "start_time": "2023-04-26T12:29:23.899Z"
   },
   {
    "duration": 9,
    "start_time": "2023-04-26T12:29:25.933Z"
   },
   {
    "duration": 19,
    "start_time": "2023-04-26T12:29:25.944Z"
   },
   {
    "duration": 15,
    "start_time": "2023-04-26T12:29:25.964Z"
   },
   {
    "duration": 6,
    "start_time": "2023-04-26T12:29:25.980Z"
   },
   {
    "duration": 7,
    "start_time": "2023-04-26T12:29:25.989Z"
   },
   {
    "duration": 33,
    "start_time": "2023-04-26T12:29:25.998Z"
   },
   {
    "duration": 9,
    "start_time": "2023-04-26T12:29:26.032Z"
   },
   {
    "duration": 18,
    "start_time": "2023-04-26T12:29:26.043Z"
   },
   {
    "duration": 8,
    "start_time": "2023-04-26T12:29:26.062Z"
   },
   {
    "duration": 23,
    "start_time": "2023-04-26T12:29:26.072Z"
   },
   {
    "duration": 19,
    "start_time": "2023-04-26T12:29:26.096Z"
   },
   {
    "duration": 47,
    "start_time": "2023-04-26T12:29:26.117Z"
   },
   {
    "duration": 60,
    "start_time": "2023-04-26T12:29:26.165Z"
   },
   {
    "duration": 23,
    "start_time": "2023-04-26T12:29:26.235Z"
   },
   {
    "duration": 32,
    "start_time": "2023-04-26T12:29:26.259Z"
   },
   {
    "duration": 33,
    "start_time": "2023-04-26T12:29:26.292Z"
   },
   {
    "duration": 24,
    "start_time": "2023-04-26T12:29:26.327Z"
   },
   {
    "duration": 26,
    "start_time": "2023-04-26T12:29:26.353Z"
   },
   {
    "duration": 20,
    "start_time": "2023-04-26T12:29:26.381Z"
   },
   {
    "duration": 38,
    "start_time": "2023-04-26T12:29:26.403Z"
   },
   {
    "duration": 7,
    "start_time": "2023-04-26T12:29:26.443Z"
   },
   {
    "duration": 16,
    "start_time": "2023-04-26T12:29:26.452Z"
   },
   {
    "duration": 18,
    "start_time": "2023-04-26T12:29:26.473Z"
   },
   {
    "duration": 17,
    "start_time": "2023-04-26T12:29:26.493Z"
   },
   {
    "duration": 35,
    "start_time": "2023-04-26T12:29:26.511Z"
   },
   {
    "duration": 27,
    "start_time": "2023-04-26T12:29:26.547Z"
   },
   {
    "duration": 22,
    "start_time": "2023-04-26T12:29:26.575Z"
   },
   {
    "duration": 6,
    "start_time": "2023-04-26T12:29:26.599Z"
   },
   {
    "duration": 34,
    "start_time": "2023-04-26T12:29:26.606Z"
   },
   {
    "duration": 19,
    "start_time": "2023-04-26T12:29:26.641Z"
   },
   {
    "duration": 14,
    "start_time": "2023-04-26T12:29:26.662Z"
   },
   {
    "duration": 11,
    "start_time": "2023-04-26T12:29:26.677Z"
   },
   {
    "duration": 5,
    "start_time": "2023-04-26T12:29:26.690Z"
   },
   {
    "duration": 49,
    "start_time": "2023-04-26T12:29:26.696Z"
   },
   {
    "duration": 96,
    "start_time": "2023-04-26T12:29:26.746Z"
   },
   {
    "duration": 699,
    "start_time": "2023-04-26T12:29:26.844Z"
   },
   {
    "duration": 472,
    "start_time": "2023-04-26T12:29:27.545Z"
   },
   {
    "duration": 487,
    "start_time": "2023-04-26T12:29:28.019Z"
   },
   {
    "duration": 220,
    "start_time": "2023-04-26T12:29:28.508Z"
   },
   {
    "duration": 832,
    "start_time": "2023-04-26T12:29:28.729Z"
   },
   {
    "duration": 119,
    "start_time": "2023-04-26T12:29:29.563Z"
   },
   {
    "duration": 801,
    "start_time": "2023-04-26T12:29:29.684Z"
   },
   {
    "duration": 65,
    "start_time": "2023-04-26T12:29:30.487Z"
   },
   {
    "duration": 480,
    "start_time": "2023-04-26T12:29:30.554Z"
   },
   {
    "duration": 133,
    "start_time": "2023-04-26T12:29:31.036Z"
   },
   {
    "duration": 128,
    "start_time": "2023-04-26T12:29:31.171Z"
   },
   {
    "duration": 577,
    "start_time": "2023-04-26T12:29:31.301Z"
   },
   {
    "duration": 24,
    "start_time": "2023-04-26T12:29:31.879Z"
   },
   {
    "duration": 210,
    "start_time": "2023-04-26T12:29:31.904Z"
   },
   {
    "duration": 129,
    "start_time": "2023-04-26T12:32:14.262Z"
   },
   {
    "duration": 21,
    "start_time": "2023-04-26T12:33:19.218Z"
   },
   {
    "duration": 238,
    "start_time": "2023-04-26T12:34:54.915Z"
   },
   {
    "duration": 102,
    "start_time": "2023-04-26T12:35:04.999Z"
   },
   {
    "duration": 35,
    "start_time": "2023-04-26T12:35:08.779Z"
   },
   {
    "duration": 67,
    "start_time": "2023-04-26T12:35:12.047Z"
   },
   {
    "duration": 1880,
    "start_time": "2023-04-26T12:35:15.964Z"
   },
   {
    "duration": 7,
    "start_time": "2023-04-26T12:35:21.431Z"
   },
   {
    "duration": 13,
    "start_time": "2023-04-26T12:35:24.430Z"
   },
   {
    "duration": 8,
    "start_time": "2023-04-26T12:35:27.419Z"
   },
   {
    "duration": 6,
    "start_time": "2023-04-26T12:35:29.939Z"
   },
   {
    "duration": 5,
    "start_time": "2023-04-26T12:35:32.678Z"
   },
   {
    "duration": 6,
    "start_time": "2023-04-26T12:35:34.408Z"
   },
   {
    "duration": 6,
    "start_time": "2023-04-26T12:35:35.655Z"
   },
   {
    "duration": 5,
    "start_time": "2023-04-26T12:35:37.046Z"
   },
   {
    "duration": 4,
    "start_time": "2023-04-26T12:35:40.652Z"
   },
   {
    "duration": 4,
    "start_time": "2023-04-26T12:35:41.459Z"
   },
   {
    "duration": 8,
    "start_time": "2023-04-26T12:35:42.899Z"
   },
   {
    "duration": 35,
    "start_time": "2023-04-26T12:35:46.692Z"
   },
   {
    "duration": 80,
    "start_time": "2023-04-26T12:35:50.775Z"
   },
   {
    "duration": 5,
    "start_time": "2023-04-26T12:35:53.351Z"
   },
   {
    "duration": 18,
    "start_time": "2023-04-26T12:35:56.428Z"
   },
   {
    "duration": 11,
    "start_time": "2023-04-26T12:36:00.748Z"
   },
   {
    "duration": 5,
    "start_time": "2023-04-26T12:36:02.187Z"
   },
   {
    "duration": 8,
    "start_time": "2023-04-26T12:36:03.530Z"
   },
   {
    "duration": 6,
    "start_time": "2023-04-26T12:36:09.250Z"
   },
   {
    "duration": 23,
    "start_time": "2023-04-26T12:36:11.378Z"
   },
   {
    "duration": 7,
    "start_time": "2023-04-26T12:36:13.756Z"
   },
   {
    "duration": 12,
    "start_time": "2023-04-26T12:36:14.839Z"
   },
   {
    "duration": 7,
    "start_time": "2023-04-26T12:36:15.884Z"
   },
   {
    "duration": 4,
    "start_time": "2023-04-26T12:36:20.788Z"
   },
   {
    "duration": 5,
    "start_time": "2023-04-26T12:36:27.765Z"
   },
   {
    "duration": 31,
    "start_time": "2023-04-26T12:36:29.234Z"
   },
   {
    "duration": 21,
    "start_time": "2023-04-26T12:36:32.184Z"
   },
   {
    "duration": 8,
    "start_time": "2023-04-26T12:36:33.494Z"
   },
   {
    "duration": 27,
    "start_time": "2023-04-26T12:36:36.733Z"
   },
   {
    "duration": 20,
    "start_time": "2023-04-26T12:36:39.284Z"
   },
   {
    "duration": 17,
    "start_time": "2023-04-26T12:36:40.688Z"
   },
   {
    "duration": 9,
    "start_time": "2023-04-26T12:36:42.611Z"
   },
   {
    "duration": 36,
    "start_time": "2023-04-26T12:36:44.361Z"
   },
   {
    "duration": 91,
    "start_time": "2023-04-26T12:36:47.761Z"
   },
   {
    "duration": 731,
    "start_time": "2023-04-26T12:36:50.617Z"
   },
   {
    "duration": 482,
    "start_time": "2023-04-26T12:36:56.780Z"
   },
   {
    "duration": 496,
    "start_time": "2023-04-26T12:37:00.075Z"
   },
   {
    "duration": 203,
    "start_time": "2023-04-26T12:37:03.495Z"
   },
   {
    "duration": 796,
    "start_time": "2023-04-26T12:37:06.083Z"
   },
   {
    "duration": 103,
    "start_time": "2023-04-26T12:37:11.609Z"
   },
   {
    "duration": 728,
    "start_time": "2023-04-26T12:37:17.970Z"
   },
   {
    "duration": 18,
    "start_time": "2023-04-26T12:37:23.050Z"
   },
   {
    "duration": 387,
    "start_time": "2023-04-26T12:37:25.861Z"
   },
   {
    "duration": 142,
    "start_time": "2023-04-26T12:37:31.211Z"
   },
   {
    "duration": 126,
    "start_time": "2023-04-26T12:37:34.741Z"
   },
   {
    "duration": 522,
    "start_time": "2023-04-26T12:37:36.448Z"
   },
   {
    "duration": 26,
    "start_time": "2023-04-26T12:37:41.233Z"
   },
   {
    "duration": 24,
    "start_time": "2023-04-26T12:37:44.712Z"
   },
   {
    "duration": 36,
    "start_time": "2023-04-26T12:39:59.119Z"
   },
   {
    "duration": 5,
    "start_time": "2023-04-26T12:40:32.073Z"
   },
   {
    "duration": 25,
    "start_time": "2023-04-26T12:40:34.197Z"
   },
   {
    "duration": 93,
    "start_time": "2023-04-26T12:40:43.069Z"
   },
   {
    "duration": 774,
    "start_time": "2023-04-26T12:40:43.164Z"
   },
   {
    "duration": 509,
    "start_time": "2023-04-26T12:40:43.941Z"
   },
   {
    "duration": 521,
    "start_time": "2023-04-26T12:40:44.452Z"
   },
   {
    "duration": 218,
    "start_time": "2023-04-26T12:40:44.975Z"
   },
   {
    "duration": 893,
    "start_time": "2023-04-26T12:40:45.194Z"
   },
   {
    "duration": 203,
    "start_time": "2023-04-26T12:40:46.088Z"
   },
   {
    "duration": 898,
    "start_time": "2023-04-26T12:40:46.293Z"
   },
   {
    "duration": 19,
    "start_time": "2023-04-26T12:40:47.193Z"
   },
   {
    "duration": 458,
    "start_time": "2023-04-26T12:40:47.214Z"
   },
   {
    "duration": 139,
    "start_time": "2023-04-26T12:40:47.674Z"
   },
   {
    "duration": 141,
    "start_time": "2023-04-26T12:40:47.815Z"
   },
   {
    "duration": 571,
    "start_time": "2023-04-26T12:40:47.958Z"
   },
   {
    "duration": 30,
    "start_time": "2023-04-26T12:40:48.531Z"
   },
   {
    "duration": 165,
    "start_time": "2023-04-26T12:40:48.562Z"
   },
   {
    "duration": 28,
    "start_time": "2023-04-26T12:40:48.729Z"
   },
   {
    "duration": 169,
    "start_time": "2023-04-26T12:40:58.546Z"
   },
   {
    "duration": 27,
    "start_time": "2023-04-26T12:41:04.897Z"
   },
   {
    "duration": 1433,
    "start_time": "2023-04-26T12:42:20.321Z"
   },
   {
    "duration": 44,
    "start_time": "2023-04-26T12:42:21.756Z"
   },
   {
    "duration": 16,
    "start_time": "2023-04-26T12:42:21.801Z"
   },
   {
    "duration": 74,
    "start_time": "2023-04-26T12:42:21.834Z"
   },
   {
    "duration": 2085,
    "start_time": "2023-04-26T12:42:21.910Z"
   },
   {
    "duration": 8,
    "start_time": "2023-04-26T12:42:23.998Z"
   },
   {
    "duration": 12,
    "start_time": "2023-04-26T12:42:24.008Z"
   },
   {
    "duration": 9,
    "start_time": "2023-04-26T12:42:24.021Z"
   },
   {
    "duration": 31,
    "start_time": "2023-04-26T12:42:24.031Z"
   },
   {
    "duration": 17,
    "start_time": "2023-04-26T12:42:24.065Z"
   },
   {
    "duration": 27,
    "start_time": "2023-04-26T12:42:24.083Z"
   },
   {
    "duration": 11,
    "start_time": "2023-04-26T12:42:24.112Z"
   },
   {
    "duration": 25,
    "start_time": "2023-04-26T12:42:24.124Z"
   },
   {
    "duration": 17,
    "start_time": "2023-04-26T12:42:24.151Z"
   },
   {
    "duration": 13,
    "start_time": "2023-04-26T12:42:24.169Z"
   },
   {
    "duration": 28,
    "start_time": "2023-04-26T12:42:24.184Z"
   },
   {
    "duration": 55,
    "start_time": "2023-04-26T12:42:24.213Z"
   },
   {
    "duration": 81,
    "start_time": "2023-04-26T12:42:24.269Z"
   },
   {
    "duration": 28,
    "start_time": "2023-04-26T12:42:24.352Z"
   },
   {
    "duration": 19,
    "start_time": "2023-04-26T12:42:24.381Z"
   },
   {
    "duration": 18,
    "start_time": "2023-04-26T12:42:24.402Z"
   },
   {
    "duration": 4,
    "start_time": "2023-04-26T12:42:24.421Z"
   },
   {
    "duration": 52,
    "start_time": "2023-04-26T12:42:24.427Z"
   },
   {
    "duration": 9,
    "start_time": "2023-04-26T12:42:24.481Z"
   },
   {
    "duration": 38,
    "start_time": "2023-04-26T12:42:24.492Z"
   },
   {
    "duration": 23,
    "start_time": "2023-04-26T12:42:24.531Z"
   },
   {
    "duration": 13,
    "start_time": "2023-04-26T12:42:24.555Z"
   },
   {
    "duration": 8,
    "start_time": "2023-04-26T12:42:24.573Z"
   },
   {
    "duration": 5,
    "start_time": "2023-04-26T12:42:24.583Z"
   },
   {
    "duration": 13,
    "start_time": "2023-04-26T12:42:24.589Z"
   },
   {
    "duration": 55,
    "start_time": "2023-04-26T12:42:24.603Z"
   },
   {
    "duration": 36,
    "start_time": "2023-04-26T12:42:24.660Z"
   },
   {
    "duration": 9,
    "start_time": "2023-04-26T12:42:24.698Z"
   },
   {
    "duration": 47,
    "start_time": "2023-04-26T12:42:24.709Z"
   },
   {
    "duration": 25,
    "start_time": "2023-04-26T12:42:24.758Z"
   },
   {
    "duration": 18,
    "start_time": "2023-04-26T12:42:24.785Z"
   },
   {
    "duration": 10,
    "start_time": "2023-04-26T12:42:24.807Z"
   },
   {
    "duration": 43,
    "start_time": "2023-04-26T12:42:24.818Z"
   },
   {
    "duration": 49,
    "start_time": "2023-04-26T12:42:24.865Z"
   },
   {
    "duration": 110,
    "start_time": "2023-04-26T12:42:24.915Z"
   },
   {
    "duration": 823,
    "start_time": "2023-04-26T12:42:25.027Z"
   },
   {
    "duration": 489,
    "start_time": "2023-04-26T12:42:25.853Z"
   },
   {
    "duration": 517,
    "start_time": "2023-04-26T12:42:26.344Z"
   },
   {
    "duration": 226,
    "start_time": "2023-04-26T12:42:26.862Z"
   },
   {
    "duration": 856,
    "start_time": "2023-04-26T12:42:27.090Z"
   },
   {
    "duration": 106,
    "start_time": "2023-04-26T12:42:27.948Z"
   },
   {
    "duration": 773,
    "start_time": "2023-04-26T12:42:28.056Z"
   },
   {
    "duration": 58,
    "start_time": "2023-04-26T12:42:28.830Z"
   },
   {
    "duration": 429,
    "start_time": "2023-04-26T12:42:28.890Z"
   },
   {
    "duration": 139,
    "start_time": "2023-04-26T12:42:29.320Z"
   },
   {
    "duration": 120,
    "start_time": "2023-04-26T12:42:29.460Z"
   },
   {
    "duration": 576,
    "start_time": "2023-04-26T12:42:29.581Z"
   },
   {
    "duration": 25,
    "start_time": "2023-04-26T12:42:30.159Z"
   },
   {
    "duration": 175,
    "start_time": "2023-04-26T12:42:30.185Z"
   },
   {
    "duration": 114,
    "start_time": "2023-04-26T12:42:30.362Z"
   },
   {
    "duration": 154,
    "start_time": "2023-04-26T12:42:50.748Z"
   },
   {
    "duration": 139,
    "start_time": "2023-04-26T12:43:10.793Z"
   },
   {
    "duration": 357,
    "start_time": "2023-04-26T12:44:48.500Z"
   },
   {
    "duration": 6,
    "start_time": "2023-04-26T12:46:03.870Z"
   },
   {
    "duration": 355,
    "start_time": "2023-04-26T12:46:10.230Z"
   },
   {
    "duration": 158,
    "start_time": "2023-04-26T12:47:58.596Z"
   },
   {
    "duration": 231,
    "start_time": "2023-04-26T12:50:15.748Z"
   },
   {
    "duration": 16,
    "start_time": "2023-04-26T12:50:55.905Z"
   },
   {
    "duration": 160,
    "start_time": "2023-04-26T12:51:15.586Z"
   },
   {
    "duration": 138,
    "start_time": "2023-04-26T12:53:13.050Z"
   },
   {
    "duration": 6,
    "start_time": "2023-04-26T12:53:33.501Z"
   },
   {
    "duration": 25,
    "start_time": "2023-04-26T12:53:35.500Z"
   },
   {
    "duration": 152,
    "start_time": "2023-04-26T12:53:52.660Z"
   },
   {
    "duration": 142,
    "start_time": "2023-04-26T12:54:03.847Z"
   },
   {
    "duration": 140,
    "start_time": "2023-04-26T12:55:06.216Z"
   },
   {
    "duration": 17,
    "start_time": "2023-04-26T12:55:19.963Z"
   },
   {
    "duration": 215,
    "start_time": "2023-04-26T12:56:00.532Z"
   },
   {
    "duration": 178,
    "start_time": "2023-04-26T12:56:09.769Z"
   },
   {
    "duration": 85,
    "start_time": "2023-04-26T12:57:36.471Z"
   },
   {
    "duration": 136,
    "start_time": "2023-04-26T12:57:42.165Z"
   },
   {
    "duration": 177,
    "start_time": "2023-04-26T12:58:12.680Z"
   },
   {
    "duration": 98,
    "start_time": "2023-04-26T12:59:04.426Z"
   },
   {
    "duration": 78,
    "start_time": "2023-04-26T12:59:09.311Z"
   },
   {
    "duration": 19,
    "start_time": "2023-04-26T12:59:40.478Z"
   },
   {
    "duration": 18,
    "start_time": "2023-04-26T13:00:12.383Z"
   },
   {
    "duration": 1720,
    "start_time": "2023-04-26T13:00:52.450Z"
   },
   {
    "duration": 1447,
    "start_time": "2023-04-26T13:01:03.666Z"
   },
   {
    "duration": 1801,
    "start_time": "2023-04-26T13:02:06.506Z"
   },
   {
    "duration": 1708,
    "start_time": "2023-04-26T13:02:22.535Z"
   },
   {
    "duration": 4,
    "start_time": "2023-04-26T13:03:48.828Z"
   },
   {
    "duration": 15,
    "start_time": "2023-04-26T13:04:00.002Z"
   },
   {
    "duration": 12,
    "start_time": "2023-04-26T13:07:45.834Z"
   },
   {
    "duration": 9,
    "start_time": "2023-04-26T13:08:51.552Z"
   },
   {
    "duration": 9,
    "start_time": "2023-04-26T13:09:11.258Z"
   },
   {
    "duration": 12,
    "start_time": "2023-04-26T13:09:22.502Z"
   },
   {
    "duration": 10,
    "start_time": "2023-04-26T13:09:28.956Z"
   },
   {
    "duration": 1980,
    "start_time": "2023-04-26T13:11:13.834Z"
   },
   {
    "duration": 19,
    "start_time": "2023-04-26T13:14:20.122Z"
   },
   {
    "duration": 1413,
    "start_time": "2023-04-26T13:14:56.881Z"
   },
   {
    "duration": 2282,
    "start_time": "2023-04-26T13:15:12.148Z"
   },
   {
    "duration": 22,
    "start_time": "2023-04-26T13:15:24.684Z"
   },
   {
    "duration": 23,
    "start_time": "2023-04-26T13:17:52.319Z"
   },
   {
    "duration": 2249,
    "start_time": "2023-04-26T13:18:25.925Z"
   },
   {
    "duration": 18,
    "start_time": "2023-04-26T13:19:20.730Z"
   },
   {
    "duration": 14,
    "start_time": "2023-04-26T13:23:45.984Z"
   },
   {
    "duration": 2886,
    "start_time": "2023-04-26T13:34:55.783Z"
   },
   {
    "duration": 12,
    "start_time": "2023-04-26T13:36:24.765Z"
   },
   {
    "duration": 6,
    "start_time": "2023-04-26T13:37:01.659Z"
   },
   {
    "duration": 112,
    "start_time": "2023-04-26T13:38:01.290Z"
   },
   {
    "duration": 5,
    "start_time": "2023-04-26T13:40:46.846Z"
   },
   {
    "duration": 5,
    "start_time": "2023-04-26T13:40:51.572Z"
   },
   {
    "duration": 95,
    "start_time": "2023-04-26T13:43:10.212Z"
   },
   {
    "duration": 36,
    "start_time": "2023-04-26T13:43:13.095Z"
   },
   {
    "duration": 13,
    "start_time": "2023-04-26T13:43:20.288Z"
   },
   {
    "duration": 67,
    "start_time": "2023-04-26T13:43:28.888Z"
   },
   {
    "duration": 1940,
    "start_time": "2023-04-26T13:43:43.297Z"
   },
   {
    "duration": 7,
    "start_time": "2023-04-26T13:43:48.357Z"
   },
   {
    "duration": 11,
    "start_time": "2023-04-26T13:43:51.108Z"
   },
   {
    "duration": 9,
    "start_time": "2023-04-26T13:44:00.323Z"
   },
   {
    "duration": 6,
    "start_time": "2023-04-26T13:44:01.864Z"
   },
   {
    "duration": 11,
    "start_time": "2023-04-26T13:44:26.570Z"
   },
   {
    "duration": 11,
    "start_time": "2023-04-26T13:45:48.229Z"
   },
   {
    "duration": 9,
    "start_time": "2023-04-26T13:45:50.745Z"
   },
   {
    "duration": 7,
    "start_time": "2023-04-26T13:45:54.169Z"
   },
   {
    "duration": 7,
    "start_time": "2023-04-26T13:45:55.964Z"
   },
   {
    "duration": 5,
    "start_time": "2023-04-26T13:45:58.173Z"
   },
   {
    "duration": 5,
    "start_time": "2023-04-26T13:46:00.660Z"
   },
   {
    "duration": 4,
    "start_time": "2023-04-26T13:46:02.095Z"
   },
   {
    "duration": 10,
    "start_time": "2023-04-26T13:46:17.912Z"
   },
   {
    "duration": 2048,
    "start_time": "2023-04-26T13:46:31.625Z"
   },
   {
    "duration": 8,
    "start_time": "2023-04-26T13:46:42.020Z"
   },
   {
    "duration": 9,
    "start_time": "2023-04-26T13:46:53.624Z"
   },
   {
    "duration": 12,
    "start_time": "2023-04-26T13:47:22.086Z"
   },
   {
    "duration": 46,
    "start_time": "2023-04-26T13:47:23.892Z"
   },
   {
    "duration": 60,
    "start_time": "2023-04-26T13:47:26.790Z"
   },
   {
    "duration": 4,
    "start_time": "2023-04-26T13:47:30.383Z"
   },
   {
    "duration": 22,
    "start_time": "2023-04-26T13:47:32.642Z"
   },
   {
    "duration": 11,
    "start_time": "2023-04-26T13:47:35.862Z"
   },
   {
    "duration": 4,
    "start_time": "2023-04-26T13:47:38.564Z"
   },
   {
    "duration": 11,
    "start_time": "2023-04-26T13:47:44.124Z"
   },
   {
    "duration": 7,
    "start_time": "2023-04-26T13:47:48.497Z"
   },
   {
    "duration": 34,
    "start_time": "2023-04-26T13:47:50.667Z"
   },
   {
    "duration": 13,
    "start_time": "2023-04-26T13:47:53.848Z"
   },
   {
    "duration": 10,
    "start_time": "2023-04-26T13:47:55.901Z"
   },
   {
    "duration": 10,
    "start_time": "2023-04-26T13:47:57.456Z"
   },
   {
    "duration": 9,
    "start_time": "2023-04-26T13:48:09.123Z"
   },
   {
    "duration": 5,
    "start_time": "2023-04-26T13:48:28.089Z"
   },
   {
    "duration": 5,
    "start_time": "2023-04-26T13:48:30.472Z"
   },
   {
    "duration": 21,
    "start_time": "2023-04-26T13:48:31.518Z"
   },
   {
    "duration": 28,
    "start_time": "2023-04-26T13:48:33.549Z"
   },
   {
    "duration": 16,
    "start_time": "2023-04-26T13:48:36.043Z"
   },
   {
    "duration": 31,
    "start_time": "2023-04-26T13:48:38.786Z"
   },
   {
    "duration": 21,
    "start_time": "2023-04-26T13:48:41.719Z"
   },
   {
    "duration": 17,
    "start_time": "2023-04-26T13:48:50.171Z"
   },
   {
    "duration": 9,
    "start_time": "2023-04-26T13:48:52.052Z"
   },
   {
    "duration": 5,
    "start_time": "2023-04-26T13:48:53.226Z"
   },
   {
    "duration": 37,
    "start_time": "2023-04-26T13:48:55.641Z"
   },
   {
    "duration": 113,
    "start_time": "2023-04-26T13:49:05.746Z"
   },
   {
    "duration": 817,
    "start_time": "2023-04-26T13:49:11.956Z"
   },
   {
    "duration": 508,
    "start_time": "2023-04-26T13:49:16.437Z"
   },
   {
    "duration": 333,
    "start_time": "2023-04-26T13:49:20.439Z"
   },
   {
    "duration": 342,
    "start_time": "2023-04-26T13:49:25.005Z"
   },
   {
    "duration": 950,
    "start_time": "2023-04-26T13:49:30.941Z"
   },
   {
    "duration": 107,
    "start_time": "2023-04-26T13:49:38.840Z"
   },
   {
    "duration": 688,
    "start_time": "2023-04-26T13:49:40.907Z"
   },
   {
    "duration": 23,
    "start_time": "2023-04-26T13:49:50.592Z"
   },
   {
    "duration": 529,
    "start_time": "2023-04-26T13:50:33.101Z"
   },
   {
    "duration": 134,
    "start_time": "2023-04-26T13:50:37.236Z"
   },
   {
    "duration": 115,
    "start_time": "2023-04-26T13:50:40.000Z"
   },
   {
    "duration": 432,
    "start_time": "2023-04-26T13:50:42.230Z"
   },
   {
    "duration": 29,
    "start_time": "2023-04-26T13:50:53.758Z"
   },
   {
    "duration": 224,
    "start_time": "2023-04-26T13:50:57.232Z"
   },
   {
    "duration": 18,
    "start_time": "2023-04-26T13:50:59.792Z"
   },
   {
    "duration": 1498,
    "start_time": "2023-04-26T14:22:25.970Z"
   },
   {
    "duration": 42,
    "start_time": "2023-04-26T14:22:27.470Z"
   },
   {
    "duration": 15,
    "start_time": "2023-04-26T14:22:27.513Z"
   },
   {
    "duration": 84,
    "start_time": "2023-04-26T14:22:27.530Z"
   },
   {
    "duration": 1929,
    "start_time": "2023-04-26T14:22:27.616Z"
   },
   {
    "duration": 7,
    "start_time": "2023-04-26T14:22:29.546Z"
   },
   {
    "duration": 8,
    "start_time": "2023-04-26T14:22:29.555Z"
   },
   {
    "duration": 9,
    "start_time": "2023-04-26T14:22:29.564Z"
   },
   {
    "duration": 5,
    "start_time": "2023-04-26T14:22:29.575Z"
   },
   {
    "duration": 10,
    "start_time": "2023-04-26T14:22:29.586Z"
   },
   {
    "duration": 12,
    "start_time": "2023-04-26T14:22:29.598Z"
   },
   {
    "duration": 7,
    "start_time": "2023-04-26T14:22:29.612Z"
   },
   {
    "duration": 6,
    "start_time": "2023-04-26T14:22:29.620Z"
   },
   {
    "duration": 7,
    "start_time": "2023-04-26T14:22:29.627Z"
   },
   {
    "duration": 4,
    "start_time": "2023-04-26T14:22:29.636Z"
   },
   {
    "duration": 6,
    "start_time": "2023-04-26T14:22:29.641Z"
   },
   {
    "duration": 9,
    "start_time": "2023-04-26T14:22:29.648Z"
   },
   {
    "duration": 10,
    "start_time": "2023-04-26T14:22:29.684Z"
   },
   {
    "duration": 9,
    "start_time": "2023-04-26T14:22:29.696Z"
   },
   {
    "duration": 41,
    "start_time": "2023-04-26T14:22:29.706Z"
   },
   {
    "duration": 93,
    "start_time": "2023-04-26T14:22:29.749Z"
   },
   {
    "duration": 5,
    "start_time": "2023-04-26T14:22:29.843Z"
   },
   {
    "duration": 22,
    "start_time": "2023-04-26T14:22:29.850Z"
   },
   {
    "duration": 28,
    "start_time": "2023-04-26T14:22:29.874Z"
   },
   {
    "duration": 43,
    "start_time": "2023-04-26T14:22:29.904Z"
   },
   {
    "duration": 63,
    "start_time": "2023-04-26T14:22:29.949Z"
   },
   {
    "duration": 40,
    "start_time": "2023-04-26T14:22:30.014Z"
   },
   {
    "duration": 27,
    "start_time": "2023-04-26T14:22:30.058Z"
   },
   {
    "duration": 14,
    "start_time": "2023-04-26T14:22:30.086Z"
   },
   {
    "duration": 26,
    "start_time": "2023-04-26T14:22:30.101Z"
   },
   {
    "duration": 33,
    "start_time": "2023-04-26T14:22:30.129Z"
   },
   {
    "duration": 19,
    "start_time": "2023-04-26T14:22:30.163Z"
   },
   {
    "duration": 24,
    "start_time": "2023-04-26T14:22:30.184Z"
   },
   {
    "duration": 35,
    "start_time": "2023-04-26T14:22:30.209Z"
   },
   {
    "duration": 43,
    "start_time": "2023-04-26T14:22:30.245Z"
   },
   {
    "duration": 21,
    "start_time": "2023-04-26T14:22:30.290Z"
   },
   {
    "duration": 14,
    "start_time": "2023-04-26T14:22:30.312Z"
   },
   {
    "duration": 52,
    "start_time": "2023-04-26T14:22:30.328Z"
   },
   {
    "duration": 49,
    "start_time": "2023-04-26T14:22:30.382Z"
   },
   {
    "duration": 55,
    "start_time": "2023-04-26T14:22:30.433Z"
   },
   {
    "duration": 77,
    "start_time": "2023-04-26T14:22:30.489Z"
   },
   {
    "duration": 39,
    "start_time": "2023-04-26T14:22:30.568Z"
   },
   {
    "duration": 80,
    "start_time": "2023-04-26T14:22:30.609Z"
   },
   {
    "duration": 104,
    "start_time": "2023-04-26T14:22:30.690Z"
   },
   {
    "duration": 732,
    "start_time": "2023-04-26T14:22:30.796Z"
   },
   {
    "duration": 500,
    "start_time": "2023-04-26T14:22:31.530Z"
   },
   {
    "duration": 476,
    "start_time": "2023-04-26T14:22:32.032Z"
   },
   {
    "duration": 225,
    "start_time": "2023-04-26T14:22:32.510Z"
   },
   {
    "duration": 859,
    "start_time": "2023-04-26T14:22:32.737Z"
   },
   {
    "duration": 114,
    "start_time": "2023-04-26T14:22:33.598Z"
   },
   {
    "duration": 858,
    "start_time": "2023-04-26T14:22:33.713Z"
   },
   {
    "duration": 60,
    "start_time": "2023-04-26T14:22:34.572Z"
   },
   {
    "duration": 418,
    "start_time": "2023-04-26T14:22:34.634Z"
   },
   {
    "duration": 138,
    "start_time": "2023-04-26T14:22:35.053Z"
   },
   {
    "duration": 123,
    "start_time": "2023-04-26T14:22:35.193Z"
   },
   {
    "duration": 530,
    "start_time": "2023-04-26T14:22:35.318Z"
   },
   {
    "duration": 40,
    "start_time": "2023-04-26T14:22:35.849Z"
   },
   {
    "duration": 163,
    "start_time": "2023-04-26T14:22:35.890Z"
   },
   {
    "duration": 18,
    "start_time": "2023-04-26T14:22:36.055Z"
   },
   {
    "duration": 19,
    "start_time": "2023-04-26T19:04:01.137Z"
   },
   {
    "duration": 106,
    "start_time": "2023-04-26T19:04:06.653Z"
   },
   {
    "duration": 12,
    "start_time": "2023-04-26T19:04:28.598Z"
   },
   {
    "duration": 2005,
    "start_time": "2023-04-27T08:20:29.096Z"
   },
   {
    "duration": 922,
    "start_time": "2023-04-27T08:20:33.316Z"
   },
   {
    "duration": 3,
    "start_time": "2023-04-27T08:23:56.819Z"
   },
   {
    "duration": 4,
    "start_time": "2023-04-27T08:24:05.505Z"
   },
   {
    "duration": 49,
    "start_time": "2023-04-27T08:25:04.292Z"
   },
   {
    "duration": 15,
    "start_time": "2023-04-27T08:26:00.804Z"
   },
   {
    "duration": 72,
    "start_time": "2023-04-27T08:26:03.962Z"
   },
   {
    "duration": 2044,
    "start_time": "2023-04-27T08:26:26.307Z"
   },
   {
    "duration": 20,
    "start_time": "2023-04-27T08:26:40.965Z"
   },
   {
    "duration": 21,
    "start_time": "2023-04-27T08:26:49.406Z"
   },
   {
    "duration": 12,
    "start_time": "2023-04-27T08:26:58.006Z"
   },
   {
    "duration": 5,
    "start_time": "2023-04-27T08:27:02.242Z"
   },
   {
    "duration": 9,
    "start_time": "2023-04-27T08:27:08.051Z"
   },
   {
    "duration": 5,
    "start_time": "2023-04-27T08:27:10.711Z"
   },
   {
    "duration": 8,
    "start_time": "2023-04-27T08:29:38.367Z"
   },
   {
    "duration": 6,
    "start_time": "2023-04-27T08:29:42.243Z"
   },
   {
    "duration": 7,
    "start_time": "2023-04-27T08:29:44.870Z"
   },
   {
    "duration": 5,
    "start_time": "2023-04-27T08:29:46.048Z"
   },
   {
    "duration": 5,
    "start_time": "2023-04-27T08:29:47.106Z"
   },
   {
    "duration": 10,
    "start_time": "2023-04-27T08:29:49.906Z"
   },
   {
    "duration": 8,
    "start_time": "2023-04-27T08:29:54.322Z"
   },
   {
    "duration": 9,
    "start_time": "2023-04-27T08:29:56.149Z"
   },
   {
    "duration": 32,
    "start_time": "2023-04-27T08:29:59.993Z"
   },
   {
    "duration": 78,
    "start_time": "2023-04-27T08:30:04.766Z"
   },
   {
    "duration": 5,
    "start_time": "2023-04-27T08:30:08.311Z"
   },
   {
    "duration": 11,
    "start_time": "2023-04-27T08:30:13.223Z"
   },
   {
    "duration": 13,
    "start_time": "2023-04-27T08:30:18.523Z"
   },
   {
    "duration": 4,
    "start_time": "2023-04-27T08:33:45.751Z"
   },
   {
    "duration": 12,
    "start_time": "2023-04-27T08:33:48.790Z"
   },
   {
    "duration": 6,
    "start_time": "2023-04-27T08:33:51.240Z"
   },
   {
    "duration": 19,
    "start_time": "2023-04-27T08:33:53.225Z"
   },
   {
    "duration": 11,
    "start_time": "2023-04-27T08:33:56.500Z"
   },
   {
    "duration": 9,
    "start_time": "2023-04-27T08:33:59.198Z"
   },
   {
    "duration": 9,
    "start_time": "2023-04-27T08:34:00.834Z"
   },
   {
    "duration": 8,
    "start_time": "2023-04-27T08:34:04.534Z"
   },
   {
    "duration": 4,
    "start_time": "2023-04-27T08:34:05.403Z"
   },
   {
    "duration": 5,
    "start_time": "2023-04-27T08:34:08.157Z"
   },
   {
    "duration": 28,
    "start_time": "2023-04-27T08:34:09.113Z"
   },
   {
    "duration": 43,
    "start_time": "2023-04-27T08:34:12.566Z"
   },
   {
    "duration": 7,
    "start_time": "2023-04-27T08:34:13.304Z"
   },
   {
    "duration": 33,
    "start_time": "2023-04-27T08:34:18.866Z"
   },
   {
    "duration": 18,
    "start_time": "2023-04-27T08:34:20.649Z"
   },
   {
    "duration": 8,
    "start_time": "2023-04-27T09:06:57.198Z"
   },
   {
    "duration": 151,
    "start_time": "2023-04-27T09:08:25.010Z"
   },
   {
    "duration": 17,
    "start_time": "2023-04-27T09:08:34.517Z"
   },
   {
    "duration": 18,
    "start_time": "2023-04-27T09:09:10.024Z"
   },
   {
    "duration": 259,
    "start_time": "2023-04-27T09:11:04.148Z"
   },
   {
    "duration": 212,
    "start_time": "2023-04-27T09:11:14.206Z"
   },
   {
    "duration": 417,
    "start_time": "2023-04-27T09:11:48.138Z"
   },
   {
    "duration": 514,
    "start_time": "2023-04-27T09:12:35.801Z"
   },
   {
    "duration": 735,
    "start_time": "2023-04-27T09:12:42.818Z"
   },
   {
    "duration": 718,
    "start_time": "2023-04-27T09:12:53.530Z"
   },
   {
    "duration": 677,
    "start_time": "2023-04-27T09:13:02.688Z"
   },
   {
    "duration": 172,
    "start_time": "2023-04-27T09:13:34.840Z"
   },
   {
    "duration": 668,
    "start_time": "2023-04-27T09:13:37.839Z"
   },
   {
    "duration": 953,
    "start_time": "2023-04-27T09:14:15.794Z"
   },
   {
    "duration": 264,
    "start_time": "2023-04-27T09:14:26.645Z"
   },
   {
    "duration": 339,
    "start_time": "2023-04-27T09:15:18.995Z"
   },
   {
    "duration": 389,
    "start_time": "2023-04-27T09:15:35.723Z"
   },
   {
    "duration": 350,
    "start_time": "2023-04-27T09:17:54.886Z"
   },
   {
    "duration": 299,
    "start_time": "2023-04-27T09:18:44.963Z"
   },
   {
    "duration": 265,
    "start_time": "2023-04-27T09:18:55.446Z"
   },
   {
    "duration": 267,
    "start_time": "2023-04-27T09:18:59.392Z"
   },
   {
    "duration": 320,
    "start_time": "2023-04-27T09:19:04.561Z"
   },
   {
    "duration": 338,
    "start_time": "2023-04-27T09:19:11.763Z"
   },
   {
    "duration": 441,
    "start_time": "2023-04-27T09:19:15.623Z"
   },
   {
    "duration": 226,
    "start_time": "2023-04-27T09:19:19.567Z"
   },
   {
    "duration": 268,
    "start_time": "2023-04-27T09:19:23.561Z"
   },
   {
    "duration": 303,
    "start_time": "2023-04-27T09:19:41.907Z"
   },
   {
    "duration": 9,
    "start_time": "2023-04-27T09:20:14.292Z"
   },
   {
    "duration": 5,
    "start_time": "2023-04-27T09:22:03.652Z"
   },
   {
    "duration": 2,
    "start_time": "2023-04-27T09:23:11.150Z"
   },
   {
    "duration": 3,
    "start_time": "2023-04-27T09:24:28.348Z"
   },
   {
    "duration": 303,
    "start_time": "2023-04-27T09:24:52.137Z"
   },
   {
    "duration": 334,
    "start_time": "2023-04-27T09:24:56.159Z"
   },
   {
    "duration": 180,
    "start_time": "2023-04-27T09:25:36.527Z"
   },
   {
    "duration": 8,
    "start_time": "2023-04-27T09:26:14.822Z"
   },
   {
    "duration": 2666,
    "start_time": "2023-04-27T09:26:57.595Z"
   },
   {
    "duration": 2238,
    "start_time": "2023-04-27T09:27:08.400Z"
   },
   {
    "duration": 4,
    "start_time": "2023-04-27T09:28:04.099Z"
   },
   {
    "duration": 4,
    "start_time": "2023-04-27T09:29:23.869Z"
   },
   {
    "duration": 159,
    "start_time": "2023-04-27T10:20:54.040Z"
   },
   {
    "duration": 306,
    "start_time": "2023-04-27T10:21:33.401Z"
   },
   {
    "duration": 243,
    "start_time": "2023-04-27T10:21:41.798Z"
   },
   {
    "duration": 12,
    "start_time": "2023-04-27T10:21:58.114Z"
   },
   {
    "duration": 245,
    "start_time": "2023-04-27T10:22:04.012Z"
   },
   {
    "duration": 407,
    "start_time": "2023-04-27T10:24:33.434Z"
   },
   {
    "duration": 646,
    "start_time": "2023-04-27T10:27:54.701Z"
   },
   {
    "duration": 612,
    "start_time": "2023-04-27T10:28:31.901Z"
   },
   {
    "duration": 198,
    "start_time": "2023-04-27T10:29:05.749Z"
   },
   {
    "duration": 226,
    "start_time": "2023-04-27T10:31:55.089Z"
   },
   {
    "duration": 525,
    "start_time": "2023-04-27T10:32:12.442Z"
   },
   {
    "duration": 29,
    "start_time": "2023-04-27T10:32:24.697Z"
   },
   {
    "duration": 12,
    "start_time": "2023-04-27T10:32:53.152Z"
   },
   {
    "duration": 376,
    "start_time": "2023-04-27T10:33:02.104Z"
   },
   {
    "duration": 521,
    "start_time": "2023-04-27T10:33:21.802Z"
   },
   {
    "duration": 573,
    "start_time": "2023-04-27T10:36:27.160Z"
   },
   {
    "duration": 453,
    "start_time": "2023-04-27T10:37:33.313Z"
   },
   {
    "duration": 384,
    "start_time": "2023-04-27T10:37:40.295Z"
   },
   {
    "duration": 495,
    "start_time": "2023-04-27T10:38:23.809Z"
   },
   {
    "duration": 830,
    "start_time": "2023-04-27T10:38:32.795Z"
   },
   {
    "duration": 424,
    "start_time": "2023-04-27T10:38:38.987Z"
   },
   {
    "duration": 573,
    "start_time": "2023-04-27T10:46:10.231Z"
   },
   {
    "duration": 456,
    "start_time": "2023-04-27T10:46:26.202Z"
   },
   {
    "duration": 1144,
    "start_time": "2023-04-27T10:51:41.795Z"
   },
   {
    "duration": 105,
    "start_time": "2023-04-27T10:51:42.940Z"
   },
   {
    "duration": 47,
    "start_time": "2023-04-27T10:51:43.046Z"
   },
   {
    "duration": 36,
    "start_time": "2023-04-27T10:51:43.095Z"
   },
   {
    "duration": 73,
    "start_time": "2023-04-27T10:51:43.134Z"
   },
   {
    "duration": 1751,
    "start_time": "2023-04-27T10:51:43.208Z"
   },
   {
    "duration": 7,
    "start_time": "2023-04-27T10:51:44.960Z"
   },
   {
    "duration": 27,
    "start_time": "2023-04-27T10:51:44.968Z"
   },
   {
    "duration": 46,
    "start_time": "2023-04-27T10:51:44.997Z"
   },
   {
    "duration": 32,
    "start_time": "2023-04-27T10:51:45.046Z"
   },
   {
    "duration": 60,
    "start_time": "2023-04-27T10:51:45.095Z"
   },
   {
    "duration": 8,
    "start_time": "2023-04-27T10:51:45.156Z"
   },
   {
    "duration": 44,
    "start_time": "2023-04-27T10:51:45.166Z"
   },
   {
    "duration": 12,
    "start_time": "2023-04-27T10:51:45.212Z"
   },
   {
    "duration": 14,
    "start_time": "2023-04-27T10:51:45.226Z"
   },
   {
    "duration": 18,
    "start_time": "2023-04-27T10:51:45.241Z"
   },
   {
    "duration": 6,
    "start_time": "2023-04-27T10:51:45.260Z"
   },
   {
    "duration": 45,
    "start_time": "2023-04-27T10:51:45.268Z"
   },
   {
    "duration": 11,
    "start_time": "2023-04-27T10:51:45.314Z"
   },
   {
    "duration": 21,
    "start_time": "2023-04-27T10:51:45.326Z"
   },
   {
    "duration": 92,
    "start_time": "2023-04-27T10:51:45.348Z"
   },
   {
    "duration": 88,
    "start_time": "2023-04-27T10:51:45.442Z"
   },
   {
    "duration": 34,
    "start_time": "2023-04-27T10:51:45.532Z"
   },
   {
    "duration": 45,
    "start_time": "2023-04-27T10:51:45.568Z"
   },
   {
    "duration": 27,
    "start_time": "2023-04-27T10:51:45.615Z"
   },
   {
    "duration": 5,
    "start_time": "2023-04-27T10:51:45.644Z"
   },
   {
    "duration": 15,
    "start_time": "2023-04-27T10:51:45.651Z"
   },
   {
    "duration": 54,
    "start_time": "2023-04-27T10:51:45.671Z"
   },
   {
    "duration": 37,
    "start_time": "2023-04-27T10:51:45.727Z"
   },
   {
    "duration": 19,
    "start_time": "2023-04-27T10:51:45.766Z"
   },
   {
    "duration": 16,
    "start_time": "2023-04-27T10:51:45.796Z"
   },
   {
    "duration": 41,
    "start_time": "2023-04-27T10:51:45.814Z"
   },
   {
    "duration": 8,
    "start_time": "2023-04-27T10:51:45.856Z"
   },
   {
    "duration": 3,
    "start_time": "2023-04-27T10:51:45.866Z"
   },
   {
    "duration": 32,
    "start_time": "2023-04-27T10:51:45.871Z"
   },
   {
    "duration": 23,
    "start_time": "2023-04-27T10:51:45.905Z"
   },
   {
    "duration": 32,
    "start_time": "2023-04-27T10:51:45.930Z"
   },
   {
    "duration": 7,
    "start_time": "2023-04-27T10:51:45.963Z"
   },
   {
    "duration": 57,
    "start_time": "2023-04-27T10:51:45.974Z"
   },
   {
    "duration": 31,
    "start_time": "2023-04-27T10:51:46.033Z"
   },
   {
    "duration": 26,
    "start_time": "2023-04-27T10:51:46.066Z"
   },
   {
    "duration": 356,
    "start_time": "2023-04-27T10:51:46.094Z"
   },
   {
    "duration": 8,
    "start_time": "2023-04-27T10:51:46.452Z"
   },
   {
    "duration": 12,
    "start_time": "2023-04-27T10:51:46.484Z"
   },
   {
    "duration": 170,
    "start_time": "2023-04-27T10:51:46.499Z"
   },
   {
    "duration": 23,
    "start_time": "2023-04-27T10:51:46.671Z"
   },
   {
    "duration": 25,
    "start_time": "2023-04-27T10:51:46.695Z"
   },
   {
    "duration": 431,
    "start_time": "2023-04-27T10:51:46.722Z"
   },
   {
    "duration": 32,
    "start_time": "2023-04-27T10:51:47.155Z"
   },
   {
    "duration": 10,
    "start_time": "2023-04-27T10:51:47.195Z"
   },
   {
    "duration": 6,
    "start_time": "2023-04-27T10:51:47.207Z"
   },
   {
    "duration": 32,
    "start_time": "2023-04-27T10:51:47.215Z"
   },
   {
    "duration": 110,
    "start_time": "2023-04-27T10:51:47.248Z"
   },
   {
    "duration": 821,
    "start_time": "2023-04-27T10:51:47.360Z"
   },
   {
    "duration": 550,
    "start_time": "2023-04-27T10:51:48.183Z"
   },
   {
    "duration": 399,
    "start_time": "2023-04-27T10:51:48.736Z"
   },
   {
    "duration": 261,
    "start_time": "2023-04-27T10:51:49.137Z"
   },
   {
    "duration": 999,
    "start_time": "2023-04-27T10:51:49.400Z"
   },
   {
    "duration": 121,
    "start_time": "2023-04-27T10:51:50.401Z"
   },
   {
    "duration": 645,
    "start_time": "2023-04-27T10:51:50.523Z"
   },
   {
    "duration": 62,
    "start_time": "2023-04-27T10:51:51.169Z"
   },
   {
    "duration": 549,
    "start_time": "2023-04-27T10:51:51.233Z"
   },
   {
    "duration": 141,
    "start_time": "2023-04-27T10:51:51.790Z"
   },
   {
    "duration": 131,
    "start_time": "2023-04-27T10:51:51.932Z"
   },
   {
    "duration": 454,
    "start_time": "2023-04-27T10:51:52.064Z"
   },
   {
    "duration": 26,
    "start_time": "2023-04-27T10:51:52.519Z"
   },
   {
    "duration": 200,
    "start_time": "2023-04-27T10:51:52.547Z"
   },
   {
    "duration": 30,
    "start_time": "2023-04-27T10:51:52.748Z"
   },
   {
    "duration": 562,
    "start_time": "2023-04-27T10:52:20.954Z"
   },
   {
    "duration": 576,
    "start_time": "2023-04-27T10:52:46.631Z"
   },
   {
    "duration": 499,
    "start_time": "2023-04-27T10:53:00.834Z"
   },
   {
    "duration": 466,
    "start_time": "2023-04-27T10:53:17.451Z"
   },
   {
    "duration": 404,
    "start_time": "2023-04-27T10:53:51.849Z"
   },
   {
    "duration": 540,
    "start_time": "2023-04-27T10:54:28.756Z"
   },
   {
    "duration": 405,
    "start_time": "2023-04-27T10:54:36.846Z"
   },
   {
    "duration": 449,
    "start_time": "2023-04-27T10:54:45.233Z"
   },
   {
    "duration": 485,
    "start_time": "2023-04-27T10:54:55.828Z"
   },
   {
    "duration": 524,
    "start_time": "2023-04-27T10:55:01.752Z"
   },
   {
    "duration": 188,
    "start_time": "2023-04-27T10:55:16.825Z"
   },
   {
    "duration": 10,
    "start_time": "2023-04-27T10:56:40.689Z"
   },
   {
    "duration": 181,
    "start_time": "2023-04-27T10:57:15.032Z"
   },
   {
    "duration": 178,
    "start_time": "2023-04-27T10:57:21.244Z"
   },
   {
    "duration": 84,
    "start_time": "2023-04-27T12:58:25.806Z"
   },
   {
    "duration": 9,
    "start_time": "2023-04-27T13:00:27.106Z"
   },
   {
    "duration": 6,
    "start_time": "2023-04-27T13:00:41.048Z"
   },
   {
    "duration": 6,
    "start_time": "2023-04-27T13:00:56.789Z"
   },
   {
    "duration": 9,
    "start_time": "2023-04-27T13:10:39.591Z"
   },
   {
    "duration": 5,
    "start_time": "2023-04-27T13:10:59.819Z"
   },
   {
    "duration": 5,
    "start_time": "2023-04-27T13:12:16.198Z"
   },
   {
    "duration": 8,
    "start_time": "2023-04-27T13:14:53.109Z"
   },
   {
    "duration": 7,
    "start_time": "2023-04-27T13:15:20.417Z"
   },
   {
    "duration": 7,
    "start_time": "2023-04-27T13:15:24.816Z"
   },
   {
    "duration": 6,
    "start_time": "2023-04-27T13:15:32.052Z"
   },
   {
    "duration": 6,
    "start_time": "2023-04-27T13:16:19.864Z"
   },
   {
    "duration": 161,
    "start_time": "2023-04-27T13:16:47.807Z"
   },
   {
    "duration": 183,
    "start_time": "2023-04-27T13:16:53.935Z"
   },
   {
    "duration": 188,
    "start_time": "2023-04-27T13:19:50.414Z"
   },
   {
    "duration": 179,
    "start_time": "2023-04-27T13:19:55.660Z"
   },
   {
    "duration": 183,
    "start_time": "2023-04-27T13:20:07.545Z"
   },
   {
    "duration": 158,
    "start_time": "2023-04-27T13:21:43.759Z"
   },
   {
    "duration": 190,
    "start_time": "2023-04-27T13:21:50.497Z"
   },
   {
    "duration": 178,
    "start_time": "2023-04-27T13:23:52.324Z"
   },
   {
    "duration": 163,
    "start_time": "2023-04-27T13:24:00.828Z"
   },
   {
    "duration": 360,
    "start_time": "2023-04-27T13:25:03.133Z"
   },
   {
    "duration": 235,
    "start_time": "2023-04-27T13:25:09.298Z"
   },
   {
    "duration": 161,
    "start_time": "2023-04-27T13:25:20.104Z"
   },
   {
    "duration": 9,
    "start_time": "2023-04-27T13:27:49.671Z"
   },
   {
    "duration": 83,
    "start_time": "2023-04-27T13:28:59.871Z"
   },
   {
    "duration": 5,
    "start_time": "2023-04-27T13:29:04.525Z"
   },
   {
    "duration": 4,
    "start_time": "2023-04-27T13:29:27.272Z"
   },
   {
    "duration": 4,
    "start_time": "2023-04-27T13:29:28.643Z"
   },
   {
    "duration": 11,
    "start_time": "2023-04-27T13:38:49.704Z"
   },
   {
    "duration": 6,
    "start_time": "2023-04-27T13:39:02.339Z"
   },
   {
    "duration": 7,
    "start_time": "2023-04-27T13:39:07.240Z"
   },
   {
    "duration": 8,
    "start_time": "2023-04-27T13:40:30.956Z"
   },
   {
    "duration": 4,
    "start_time": "2023-04-27T13:40:40.597Z"
   },
   {
    "duration": 2,
    "start_time": "2023-04-27T13:40:55.041Z"
   },
   {
    "duration": 7,
    "start_time": "2023-04-27T13:45:31.325Z"
   },
   {
    "duration": 7,
    "start_time": "2023-04-27T13:46:33.640Z"
   },
   {
    "duration": 1180,
    "start_time": "2023-04-27T13:46:55.854Z"
   },
   {
    "duration": 109,
    "start_time": "2023-04-27T13:46:57.036Z"
   },
   {
    "duration": 37,
    "start_time": "2023-04-27T13:46:57.147Z"
   },
   {
    "duration": 22,
    "start_time": "2023-04-27T13:46:57.186Z"
   },
   {
    "duration": 20,
    "start_time": "2023-04-27T13:46:57.209Z"
   },
   {
    "duration": 80,
    "start_time": "2023-04-27T13:46:57.230Z"
   },
   {
    "duration": 1735,
    "start_time": "2023-04-27T13:46:57.312Z"
   },
   {
    "duration": 6,
    "start_time": "2023-04-27T13:46:59.048Z"
   },
   {
    "duration": 10,
    "start_time": "2023-04-27T13:46:59.056Z"
   },
   {
    "duration": 36,
    "start_time": "2023-04-27T13:46:59.069Z"
   },
   {
    "duration": 24,
    "start_time": "2023-04-27T13:46:59.111Z"
   },
   {
    "duration": 15,
    "start_time": "2023-04-27T13:46:59.136Z"
   },
   {
    "duration": 6,
    "start_time": "2023-04-27T13:46:59.152Z"
   },
   {
    "duration": 19,
    "start_time": "2023-04-27T13:46:59.160Z"
   },
   {
    "duration": 44,
    "start_time": "2023-04-27T13:46:59.180Z"
   },
   {
    "duration": 4,
    "start_time": "2023-04-27T13:46:59.225Z"
   },
   {
    "duration": 12,
    "start_time": "2023-04-27T13:46:59.230Z"
   },
   {
    "duration": 11,
    "start_time": "2023-04-27T13:46:59.243Z"
   },
   {
    "duration": 9,
    "start_time": "2023-04-27T13:46:59.255Z"
   },
   {
    "duration": 12,
    "start_time": "2023-04-27T13:46:59.265Z"
   },
   {
    "duration": 24,
    "start_time": "2023-04-27T13:46:59.278Z"
   },
   {
    "duration": 26,
    "start_time": "2023-04-27T13:46:59.303Z"
   },
   {
    "duration": 70,
    "start_time": "2023-04-27T13:46:59.331Z"
   },
   {
    "duration": 7,
    "start_time": "2023-04-27T13:46:59.402Z"
   },
   {
    "duration": 22,
    "start_time": "2023-04-27T13:46:59.410Z"
   },
   {
    "duration": 12,
    "start_time": "2023-04-27T13:46:59.433Z"
   },
   {
    "duration": 11,
    "start_time": "2023-04-27T13:46:59.446Z"
   },
   {
    "duration": 35,
    "start_time": "2023-04-27T13:46:59.460Z"
   },
   {
    "duration": 18,
    "start_time": "2023-04-27T13:46:59.497Z"
   },
   {
    "duration": 13,
    "start_time": "2023-04-27T13:46:59.516Z"
   },
   {
    "duration": 23,
    "start_time": "2023-04-27T13:46:59.530Z"
   },
   {
    "duration": 6,
    "start_time": "2023-04-27T13:46:59.555Z"
   },
   {
    "duration": 7,
    "start_time": "2023-04-27T13:46:59.562Z"
   },
   {
    "duration": 37,
    "start_time": "2023-04-27T13:46:59.577Z"
   },
   {
    "duration": 8,
    "start_time": "2023-04-27T13:46:59.615Z"
   },
   {
    "duration": 3,
    "start_time": "2023-04-27T13:46:59.624Z"
   },
   {
    "duration": 10,
    "start_time": "2023-04-27T13:46:59.628Z"
   },
   {
    "duration": 25,
    "start_time": "2023-04-27T13:46:59.640Z"
   },
   {
    "duration": 39,
    "start_time": "2023-04-27T13:46:59.666Z"
   },
   {
    "duration": 7,
    "start_time": "2023-04-27T13:46:59.706Z"
   },
   {
    "duration": 23,
    "start_time": "2023-04-27T13:46:59.715Z"
   },
   {
    "duration": 17,
    "start_time": "2023-04-27T13:46:59.739Z"
   },
   {
    "duration": 21,
    "start_time": "2023-04-27T13:46:59.758Z"
   },
   {
    "duration": 271,
    "start_time": "2023-04-27T13:46:59.780Z"
   },
   {
    "duration": 6,
    "start_time": "2023-04-27T13:47:00.052Z"
   },
   {
    "duration": 175,
    "start_time": "2023-04-27T13:47:00.060Z"
   },
   {
    "duration": 7,
    "start_time": "2023-04-27T13:47:00.237Z"
   },
   {
    "duration": 253,
    "start_time": "2023-04-27T13:47:00.245Z"
   },
   {
    "duration": 5,
    "start_time": "2023-04-27T13:47:00.500Z"
   },
   {
    "duration": 221,
    "start_time": "2023-04-27T13:47:00.507Z"
   },
   {
    "duration": 1,
    "start_time": "2023-04-27T13:47:00.729Z"
   },
   {
    "duration": 0,
    "start_time": "2023-04-27T13:47:00.730Z"
   },
   {
    "duration": 0,
    "start_time": "2023-04-27T13:47:00.732Z"
   },
   {
    "duration": 0,
    "start_time": "2023-04-27T13:47:00.733Z"
   },
   {
    "duration": 0,
    "start_time": "2023-04-27T13:47:00.734Z"
   },
   {
    "duration": 0,
    "start_time": "2023-04-27T13:47:00.735Z"
   },
   {
    "duration": 0,
    "start_time": "2023-04-27T13:47:00.736Z"
   },
   {
    "duration": 0,
    "start_time": "2023-04-27T13:47:00.738Z"
   },
   {
    "duration": 0,
    "start_time": "2023-04-27T13:47:00.739Z"
   },
   {
    "duration": 0,
    "start_time": "2023-04-27T13:47:00.740Z"
   },
   {
    "duration": 0,
    "start_time": "2023-04-27T13:47:00.741Z"
   },
   {
    "duration": 0,
    "start_time": "2023-04-27T13:47:00.743Z"
   },
   {
    "duration": 0,
    "start_time": "2023-04-27T13:47:00.743Z"
   },
   {
    "duration": 0,
    "start_time": "2023-04-27T13:47:00.744Z"
   },
   {
    "duration": 0,
    "start_time": "2023-04-27T13:47:00.745Z"
   },
   {
    "duration": 0,
    "start_time": "2023-04-27T13:47:00.746Z"
   },
   {
    "duration": 0,
    "start_time": "2023-04-27T13:47:00.747Z"
   },
   {
    "duration": 0,
    "start_time": "2023-04-27T13:47:00.748Z"
   },
   {
    "duration": 0,
    "start_time": "2023-04-27T13:47:00.749Z"
   },
   {
    "duration": 0,
    "start_time": "2023-04-27T13:47:00.750Z"
   },
   {
    "duration": 0,
    "start_time": "2023-04-27T13:47:00.778Z"
   },
   {
    "duration": 5,
    "start_time": "2023-04-27T13:47:26.411Z"
   },
   {
    "duration": 2,
    "start_time": "2023-04-27T13:47:36.538Z"
   },
   {
    "duration": 98,
    "start_time": "2023-04-27T13:47:37.289Z"
   },
   {
    "duration": 45,
    "start_time": "2023-04-27T13:47:39.767Z"
   },
   {
    "duration": 3,
    "start_time": "2023-04-27T13:47:43.965Z"
   },
   {
    "duration": 17,
    "start_time": "2023-04-27T13:47:47.093Z"
   },
   {
    "duration": 71,
    "start_time": "2023-04-27T13:47:50.529Z"
   },
   {
    "duration": 1724,
    "start_time": "2023-04-27T13:47:53.336Z"
   },
   {
    "duration": 6,
    "start_time": "2023-04-27T13:47:58.296Z"
   },
   {
    "duration": 8,
    "start_time": "2023-04-27T13:48:01.116Z"
   },
   {
    "duration": 14,
    "start_time": "2023-04-27T13:48:05.068Z"
   },
   {
    "duration": 5,
    "start_time": "2023-04-27T13:48:07.698Z"
   },
   {
    "duration": 9,
    "start_time": "2023-04-27T13:48:09.748Z"
   },
   {
    "duration": 5,
    "start_time": "2023-04-27T13:48:12.097Z"
   },
   {
    "duration": 8,
    "start_time": "2023-04-27T13:48:14.393Z"
   },
   {
    "duration": 7,
    "start_time": "2023-04-27T13:48:16.340Z"
   },
   {
    "duration": 4,
    "start_time": "2023-04-27T13:48:18.126Z"
   },
   {
    "duration": 4,
    "start_time": "2023-04-27T13:48:24.142Z"
   },
   {
    "duration": 4,
    "start_time": "2023-04-27T13:48:24.810Z"
   },
   {
    "duration": 8,
    "start_time": "2023-04-27T13:48:27.327Z"
   },
   {
    "duration": 8,
    "start_time": "2023-04-27T13:48:29.052Z"
   },
   {
    "duration": 9,
    "start_time": "2023-04-27T13:48:30.432Z"
   },
   {
    "duration": 46,
    "start_time": "2023-04-27T13:48:33.474Z"
   },
   {
    "duration": 88,
    "start_time": "2023-04-27T13:48:37.125Z"
   },
   {
    "duration": 4,
    "start_time": "2023-04-27T13:48:41.408Z"
   },
   {
    "duration": 17,
    "start_time": "2023-04-27T13:48:42.970Z"
   },
   {
    "duration": 7,
    "start_time": "2023-04-27T13:48:46.146Z"
   },
   {
    "duration": 8,
    "start_time": "2023-04-27T13:48:57.048Z"
   },
   {
    "duration": 8,
    "start_time": "2023-04-27T13:48:58.783Z"
   },
   {
    "duration": 5,
    "start_time": "2023-04-27T13:49:04.807Z"
   },
   {
    "duration": 7,
    "start_time": "2023-04-27T13:49:07.806Z"
   },
   {
    "duration": 6,
    "start_time": "2023-04-27T13:49:10.343Z"
   },
   {
    "duration": 19,
    "start_time": "2023-04-27T13:49:12.246Z"
   },
   {
    "duration": 7,
    "start_time": "2023-04-27T13:49:14.549Z"
   },
   {
    "duration": 9,
    "start_time": "2023-04-27T13:49:17.087Z"
   },
   {
    "duration": 11,
    "start_time": "2023-04-27T13:51:05.490Z"
   },
   {
    "duration": 3,
    "start_time": "2023-04-27T13:51:12.198Z"
   },
   {
    "duration": 12,
    "start_time": "2023-04-27T13:51:14.589Z"
   },
   {
    "duration": 4,
    "start_time": "2023-04-27T13:51:17.415Z"
   },
   {
    "duration": 10,
    "start_time": "2023-04-27T13:51:18.551Z"
   },
   {
    "duration": 6,
    "start_time": "2023-04-27T13:51:21.256Z"
   },
   {
    "duration": 11,
    "start_time": "2023-04-27T13:51:23.050Z"
   },
   {
    "duration": 8,
    "start_time": "2023-04-27T13:51:24.510Z"
   },
   {
    "duration": 8,
    "start_time": "2023-04-27T13:51:27.907Z"
   },
   {
    "duration": 8,
    "start_time": "2023-04-27T13:53:14.537Z"
   },
   {
    "duration": 4,
    "start_time": "2023-04-27T13:53:15.811Z"
   },
   {
    "duration": 5,
    "start_time": "2023-04-27T13:53:18.266Z"
   },
   {
    "duration": 18,
    "start_time": "2023-04-27T13:53:18.811Z"
   },
   {
    "duration": 22,
    "start_time": "2023-04-27T13:53:21.224Z"
   },
   {
    "duration": 7,
    "start_time": "2023-04-27T13:53:21.615Z"
   },
   {
    "duration": 19,
    "start_time": "2023-04-27T13:53:24.788Z"
   },
   {
    "duration": 19,
    "start_time": "2023-04-27T13:53:27.791Z"
   },
   {
    "duration": 20,
    "start_time": "2023-04-27T13:53:30.917Z"
   },
   {
    "duration": 253,
    "start_time": "2023-04-27T13:53:32.808Z"
   },
   {
    "duration": 8,
    "start_time": "2023-04-27T13:53:47.012Z"
   },
   {
    "duration": 156,
    "start_time": "2023-04-27T13:53:47.852Z"
   },
   {
    "duration": 7,
    "start_time": "2023-04-27T13:53:54.647Z"
   },
   {
    "duration": 170,
    "start_time": "2023-04-27T13:55:37.987Z"
   },
   {
    "duration": 15,
    "start_time": "2023-04-27T13:55:40.586Z"
   },
   {
    "duration": 11,
    "start_time": "2023-04-27T13:55:41.493Z"
   },
   {
    "duration": 8,
    "start_time": "2023-04-27T13:55:48.625Z"
   },
   {
    "duration": 3,
    "start_time": "2023-04-27T13:57:25.352Z"
   },
   {
    "duration": 1085,
    "start_time": "2023-04-27T13:57:39.663Z"
   },
   {
    "duration": 92,
    "start_time": "2023-04-27T13:57:42.227Z"
   },
   {
    "duration": 36,
    "start_time": "2023-04-27T13:57:45.149Z"
   },
   {
    "duration": 4,
    "start_time": "2023-04-27T13:57:49.354Z"
   },
   {
    "duration": 13,
    "start_time": "2023-04-27T13:57:51.848Z"
   },
   {
    "duration": 64,
    "start_time": "2023-04-27T13:57:54.756Z"
   },
   {
    "duration": 1654,
    "start_time": "2023-04-27T13:57:58.232Z"
   },
   {
    "duration": 7,
    "start_time": "2023-04-27T13:58:04.423Z"
   },
   {
    "duration": 9,
    "start_time": "2023-04-27T13:58:07.229Z"
   },
   {
    "duration": 10,
    "start_time": "2023-04-27T13:58:10.127Z"
   },
   {
    "duration": 5,
    "start_time": "2023-04-27T13:58:13.231Z"
   },
   {
    "duration": 9,
    "start_time": "2023-04-27T13:58:16.036Z"
   },
   {
    "duration": 4,
    "start_time": "2023-04-27T13:58:18.623Z"
   },
   {
    "duration": 9,
    "start_time": "2023-04-27T13:58:24.332Z"
   },
   {
    "duration": 5,
    "start_time": "2023-04-27T13:58:26.844Z"
   },
   {
    "duration": 5,
    "start_time": "2023-04-27T13:58:29.124Z"
   },
   {
    "duration": 5,
    "start_time": "2023-04-27T13:58:31.355Z"
   },
   {
    "duration": 5,
    "start_time": "2023-04-27T13:58:32.687Z"
   },
   {
    "duration": 9,
    "start_time": "2023-04-27T13:58:34.963Z"
   },
   {
    "duration": 8,
    "start_time": "2023-04-27T13:58:36.936Z"
   },
   {
    "duration": 14,
    "start_time": "2023-04-27T13:58:38.167Z"
   },
   {
    "duration": 44,
    "start_time": "2023-04-27T13:58:41.064Z"
   },
   {
    "duration": 63,
    "start_time": "2023-04-27T13:58:43.930Z"
   },
   {
    "duration": 4,
    "start_time": "2023-04-27T13:58:48.416Z"
   },
   {
    "duration": 11,
    "start_time": "2023-04-27T13:58:51.040Z"
   },
   {
    "duration": 7,
    "start_time": "2023-04-27T13:58:54.910Z"
   },
   {
    "duration": 6,
    "start_time": "2023-04-27T13:59:54.433Z"
   },
   {
    "duration": 7,
    "start_time": "2023-04-27T14:00:04.136Z"
   },
   {
    "duration": 5,
    "start_time": "2023-04-27T14:01:23.445Z"
   },
   {
    "duration": 5,
    "start_time": "2023-04-27T14:01:33.666Z"
   },
   {
    "duration": 11,
    "start_time": "2023-04-27T14:01:36.436Z"
   },
   {
    "duration": 5,
    "start_time": "2023-04-27T14:01:51.522Z"
   },
   {
    "duration": 24,
    "start_time": "2023-04-27T14:01:53.987Z"
   },
   {
    "duration": 5,
    "start_time": "2023-04-27T14:03:09.731Z"
   },
   {
    "duration": 4,
    "start_time": "2023-04-27T14:03:13.746Z"
   },
   {
    "duration": 12,
    "start_time": "2023-04-27T14:03:29.627Z"
   },
   {
    "duration": 7,
    "start_time": "2023-04-27T14:03:30.338Z"
   },
   {
    "duration": 9,
    "start_time": "2023-04-27T14:03:33.239Z"
   },
   {
    "duration": 4,
    "start_time": "2023-04-27T14:03:34.843Z"
   },
   {
    "duration": 5,
    "start_time": "2023-04-27T14:03:36.731Z"
   },
   {
    "duration": 19,
    "start_time": "2023-04-27T14:03:37.322Z"
   },
   {
    "duration": 38,
    "start_time": "2023-04-27T14:03:40.146Z"
   },
   {
    "duration": 7,
    "start_time": "2023-04-27T14:03:40.691Z"
   },
   {
    "duration": 16,
    "start_time": "2023-04-27T14:03:43.651Z"
   },
   {
    "duration": 23,
    "start_time": "2023-04-27T14:03:46.326Z"
   },
   {
    "duration": 16,
    "start_time": "2023-04-27T14:04:04.330Z"
   },
   {
    "duration": 20,
    "start_time": "2023-04-27T14:04:08.028Z"
   },
   {
    "duration": 306,
    "start_time": "2023-04-27T14:04:10.088Z"
   },
   {
    "duration": 7,
    "start_time": "2023-04-27T14:04:12.333Z"
   },
   {
    "duration": 3,
    "start_time": "2023-04-27T14:04:40.028Z"
   },
   {
    "duration": 145,
    "start_time": "2023-04-27T14:04:43.474Z"
   },
   {
    "duration": 3,
    "start_time": "2023-04-27T14:04:57.161Z"
   },
   {
    "duration": 152,
    "start_time": "2023-04-27T14:04:57.757Z"
   },
   {
    "duration": 7,
    "start_time": "2023-04-27T14:05:02.132Z"
   },
   {
    "duration": 3,
    "start_time": "2023-04-27T14:05:25.048Z"
   },
   {
    "duration": 196,
    "start_time": "2023-04-27T14:05:27.047Z"
   },
   {
    "duration": 7,
    "start_time": "2023-04-27T14:05:33.138Z"
   },
   {
    "duration": 5,
    "start_time": "2023-04-27T14:05:55.183Z"
   },
   {
    "duration": 3,
    "start_time": "2023-04-27T14:06:38.127Z"
   },
   {
    "duration": 101,
    "start_time": "2023-04-27T14:07:10.186Z"
   },
   {
    "duration": 5,
    "start_time": "2023-04-27T14:07:20.364Z"
   },
   {
    "duration": 5,
    "start_time": "2023-04-27T14:07:44.492Z"
   },
   {
    "duration": 4,
    "start_time": "2023-04-27T14:08:51.590Z"
   },
   {
    "duration": 12,
    "start_time": "2023-04-27T14:09:06.129Z"
   },
   {
    "duration": 9,
    "start_time": "2023-04-27T14:09:09.693Z"
   },
   {
    "duration": 3,
    "start_time": "2023-04-27T14:09:19.401Z"
   },
   {
    "duration": 3,
    "start_time": "2023-04-27T14:09:30.493Z"
   },
   {
    "duration": 3,
    "start_time": "2023-04-27T14:09:41.907Z"
   },
   {
    "duration": 174,
    "start_time": "2023-04-27T14:11:38.614Z"
   },
   {
    "duration": 103,
    "start_time": "2023-04-27T14:11:54.817Z"
   },
   {
    "duration": 5,
    "start_time": "2023-04-27T14:11:58.034Z"
   },
   {
    "duration": 15,
    "start_time": "2023-04-27T14:14:04.387Z"
   },
   {
    "duration": 11,
    "start_time": "2023-04-27T14:14:21.428Z"
   },
   {
    "duration": 13,
    "start_time": "2023-04-27T14:14:29.684Z"
   },
   {
    "duration": 1125,
    "start_time": "2023-04-27T14:15:18.665Z"
   },
   {
    "duration": 104,
    "start_time": "2023-04-27T14:15:19.793Z"
   },
   {
    "duration": 33,
    "start_time": "2023-04-27T14:15:19.899Z"
   },
   {
    "duration": 4,
    "start_time": "2023-04-27T14:15:19.934Z"
   },
   {
    "duration": 16,
    "start_time": "2023-04-27T14:15:19.939Z"
   },
   {
    "duration": 75,
    "start_time": "2023-04-27T14:15:19.956Z"
   },
   {
    "duration": 1986,
    "start_time": "2023-04-27T14:15:20.033Z"
   },
   {
    "duration": 7,
    "start_time": "2023-04-27T14:15:22.020Z"
   },
   {
    "duration": 11,
    "start_time": "2023-04-27T14:15:22.028Z"
   },
   {
    "duration": 8,
    "start_time": "2023-04-27T14:15:22.042Z"
   },
   {
    "duration": 7,
    "start_time": "2023-04-27T14:15:22.052Z"
   },
   {
    "duration": 30,
    "start_time": "2023-04-27T14:15:22.060Z"
   },
   {
    "duration": 15,
    "start_time": "2023-04-27T14:15:22.091Z"
   },
   {
    "duration": 6,
    "start_time": "2023-04-27T14:15:22.108Z"
   },
   {
    "duration": 6,
    "start_time": "2023-04-27T14:15:22.116Z"
   },
   {
    "duration": 13,
    "start_time": "2023-04-27T14:15:22.124Z"
   },
   {
    "duration": 6,
    "start_time": "2023-04-27T14:15:22.139Z"
   },
   {
    "duration": 10,
    "start_time": "2023-04-27T14:15:22.146Z"
   },
   {
    "duration": 11,
    "start_time": "2023-04-27T14:15:22.157Z"
   },
   {
    "duration": 39,
    "start_time": "2023-04-27T14:15:22.170Z"
   },
   {
    "duration": 9,
    "start_time": "2023-04-27T14:15:22.211Z"
   },
   {
    "duration": 29,
    "start_time": "2023-04-27T14:15:22.221Z"
   },
   {
    "duration": 67,
    "start_time": "2023-04-27T14:15:22.251Z"
   },
   {
    "duration": 4,
    "start_time": "2023-04-27T14:15:22.320Z"
   },
   {
    "duration": 29,
    "start_time": "2023-04-27T14:15:22.326Z"
   },
   {
    "duration": 18,
    "start_time": "2023-04-27T14:15:22.357Z"
   },
   {
    "duration": 28,
    "start_time": "2023-04-27T14:15:22.377Z"
   },
   {
    "duration": 15,
    "start_time": "2023-04-27T14:15:22.409Z"
   },
   {
    "duration": 10,
    "start_time": "2023-04-27T14:15:22.425Z"
   },
   {
    "duration": 12,
    "start_time": "2023-04-27T14:15:22.437Z"
   },
   {
    "duration": 18,
    "start_time": "2023-04-27T14:15:22.451Z"
   },
   {
    "duration": 20,
    "start_time": "2023-04-27T14:15:22.471Z"
   },
   {
    "duration": 12,
    "start_time": "2023-04-27T14:15:22.492Z"
   },
   {
    "duration": 20,
    "start_time": "2023-04-27T14:15:22.505Z"
   },
   {
    "duration": 7,
    "start_time": "2023-04-27T14:15:22.527Z"
   },
   {
    "duration": 4,
    "start_time": "2023-04-27T14:15:22.536Z"
   },
   {
    "duration": 18,
    "start_time": "2023-04-27T14:15:22.541Z"
   },
   {
    "duration": 38,
    "start_time": "2023-04-27T14:15:22.560Z"
   },
   {
    "duration": 26,
    "start_time": "2023-04-27T14:15:22.599Z"
   },
   {
    "duration": 8,
    "start_time": "2023-04-27T14:15:22.627Z"
   },
   {
    "duration": 17,
    "start_time": "2023-04-27T14:15:22.636Z"
   },
   {
    "duration": 45,
    "start_time": "2023-04-27T14:15:22.654Z"
   },
   {
    "duration": 41,
    "start_time": "2023-04-27T14:15:22.700Z"
   },
   {
    "duration": 276,
    "start_time": "2023-04-27T14:15:22.743Z"
   },
   {
    "duration": 7,
    "start_time": "2023-04-27T14:15:23.021Z"
   },
   {
    "duration": 129,
    "start_time": "2023-04-27T14:15:23.030Z"
   },
   {
    "duration": 185,
    "start_time": "2023-04-27T14:15:23.161Z"
   },
   {
    "duration": 8,
    "start_time": "2023-04-27T14:15:23.348Z"
   },
   {
    "duration": 14,
    "start_time": "2023-04-27T14:15:23.358Z"
   },
   {
    "duration": 190,
    "start_time": "2023-04-27T14:15:23.378Z"
   },
   {
    "duration": 10,
    "start_time": "2023-04-27T14:15:23.570Z"
   },
   {
    "duration": 18,
    "start_time": "2023-04-27T14:15:23.581Z"
   },
   {
    "duration": 7,
    "start_time": "2023-04-27T14:15:23.600Z"
   },
   {
    "duration": 17,
    "start_time": "2023-04-27T14:15:23.608Z"
   },
   {
    "duration": 109,
    "start_time": "2023-04-27T14:15:23.627Z"
   },
   {
    "duration": 0,
    "start_time": "2023-04-27T14:15:23.738Z"
   },
   {
    "duration": 0,
    "start_time": "2023-04-27T14:15:23.739Z"
   },
   {
    "duration": 0,
    "start_time": "2023-04-27T14:15:23.740Z"
   },
   {
    "duration": 0,
    "start_time": "2023-04-27T14:15:23.741Z"
   },
   {
    "duration": 0,
    "start_time": "2023-04-27T14:15:23.741Z"
   },
   {
    "duration": 0,
    "start_time": "2023-04-27T14:15:23.742Z"
   },
   {
    "duration": 0,
    "start_time": "2023-04-27T14:15:23.743Z"
   },
   {
    "duration": 0,
    "start_time": "2023-04-27T14:15:23.744Z"
   },
   {
    "duration": 0,
    "start_time": "2023-04-27T14:15:23.746Z"
   },
   {
    "duration": 0,
    "start_time": "2023-04-27T14:15:23.747Z"
   },
   {
    "duration": 0,
    "start_time": "2023-04-27T14:15:23.748Z"
   },
   {
    "duration": 0,
    "start_time": "2023-04-27T14:15:23.748Z"
   },
   {
    "duration": 0,
    "start_time": "2023-04-27T14:15:23.749Z"
   },
   {
    "duration": 0,
    "start_time": "2023-04-27T14:15:23.750Z"
   },
   {
    "duration": 0,
    "start_time": "2023-04-27T14:15:23.772Z"
   },
   {
    "duration": 0,
    "start_time": "2023-04-27T14:15:23.773Z"
   },
   {
    "duration": 0,
    "start_time": "2023-04-27T14:15:23.773Z"
   },
   {
    "duration": 0,
    "start_time": "2023-04-27T14:15:23.775Z"
   },
   {
    "duration": 0,
    "start_time": "2023-04-27T14:15:23.776Z"
   },
   {
    "duration": 0,
    "start_time": "2023-04-27T14:15:23.777Z"
   },
   {
    "duration": 10,
    "start_time": "2023-04-27T14:16:06.178Z"
   },
   {
    "duration": 13,
    "start_time": "2023-04-27T14:16:09.466Z"
   },
   {
    "duration": 21,
    "start_time": "2023-04-27T14:16:45.966Z"
   },
   {
    "duration": 5,
    "start_time": "2023-04-27T14:16:49.994Z"
   },
   {
    "duration": 11,
    "start_time": "2023-04-27T14:16:53.226Z"
   },
   {
    "duration": 5,
    "start_time": "2023-04-27T14:17:05.490Z"
   },
   {
    "duration": 20,
    "start_time": "2023-04-27T14:17:06.765Z"
   },
   {
    "duration": 6,
    "start_time": "2023-04-27T14:17:14.855Z"
   },
   {
    "duration": 14,
    "start_time": "2023-04-27T14:17:17.391Z"
   },
   {
    "duration": 7,
    "start_time": "2023-04-27T14:17:18.430Z"
   },
   {
    "duration": 7,
    "start_time": "2023-04-27T14:17:21.246Z"
   },
   {
    "duration": 4,
    "start_time": "2023-04-27T14:17:22.154Z"
   },
   {
    "duration": 7,
    "start_time": "2023-04-27T14:17:24.691Z"
   },
   {
    "duration": 19,
    "start_time": "2023-04-27T14:17:25.825Z"
   },
   {
    "duration": 21,
    "start_time": "2023-04-27T14:17:28.183Z"
   },
   {
    "duration": 6,
    "start_time": "2023-04-27T14:17:29.627Z"
   },
   {
    "duration": 27,
    "start_time": "2023-04-27T14:17:33.860Z"
   },
   {
    "duration": 21,
    "start_time": "2023-04-27T14:17:46.825Z"
   },
   {
    "duration": 18,
    "start_time": "2023-04-27T14:17:53.886Z"
   },
   {
    "duration": 18,
    "start_time": "2023-04-27T14:18:10.022Z"
   },
   {
    "duration": 21,
    "start_time": "2023-04-27T14:18:15.733Z"
   },
   {
    "duration": 231,
    "start_time": "2023-04-27T14:18:18.338Z"
   },
   {
    "duration": 7,
    "start_time": "2023-04-27T14:18:22.189Z"
   },
   {
    "duration": 2,
    "start_time": "2023-04-27T14:18:41.668Z"
   },
   {
    "duration": 174,
    "start_time": "2023-04-27T14:18:55.638Z"
   },
   {
    "duration": 2,
    "start_time": "2023-04-27T14:19:00.931Z"
   },
   {
    "duration": 6,
    "start_time": "2023-04-27T14:19:04.608Z"
   },
   {
    "duration": 3,
    "start_time": "2023-04-27T14:19:07.460Z"
   },
   {
    "duration": 3,
    "start_time": "2023-04-27T14:19:14.027Z"
   },
   {
    "duration": 265,
    "start_time": "2023-04-27T14:19:42.623Z"
   },
   {
    "duration": 8,
    "start_time": "2023-04-27T14:19:45.834Z"
   },
   {
    "duration": 5,
    "start_time": "2023-04-27T14:19:52.924Z"
   },
   {
    "duration": 8,
    "start_time": "2023-04-27T14:21:01.969Z"
   },
   {
    "duration": 156,
    "start_time": "2023-04-27T14:21:04.161Z"
   },
   {
    "duration": 4,
    "start_time": "2023-04-27T14:21:21.006Z"
   },
   {
    "duration": 172,
    "start_time": "2023-04-27T14:21:22.597Z"
   },
   {
    "duration": 7,
    "start_time": "2023-04-27T14:21:25.224Z"
   },
   {
    "duration": 4,
    "start_time": "2023-04-27T14:21:39.045Z"
   },
   {
    "duration": 6,
    "start_time": "2023-04-27T14:22:09.947Z"
   },
   {
    "duration": 3,
    "start_time": "2023-04-27T14:22:13.521Z"
   },
   {
    "duration": 6,
    "start_time": "2023-04-27T14:22:48.388Z"
   },
   {
    "duration": 12,
    "start_time": "2023-04-27T14:23:09.226Z"
   },
   {
    "duration": 16,
    "start_time": "2023-04-27T14:23:16.150Z"
   },
   {
    "duration": 22,
    "start_time": "2023-04-27T14:23:25.862Z"
   },
   {
    "duration": 1130,
    "start_time": "2023-04-27T14:23:43.861Z"
   },
   {
    "duration": 98,
    "start_time": "2023-04-27T14:23:44.992Z"
   },
   {
    "duration": 40,
    "start_time": "2023-04-27T14:23:45.092Z"
   },
   {
    "duration": 4,
    "start_time": "2023-04-27T14:23:45.134Z"
   },
   {
    "duration": 25,
    "start_time": "2023-04-27T14:23:45.139Z"
   },
   {
    "duration": 75,
    "start_time": "2023-04-27T14:23:45.166Z"
   },
   {
    "duration": 1916,
    "start_time": "2023-04-27T14:23:45.242Z"
   },
   {
    "duration": 7,
    "start_time": "2023-04-27T14:23:47.160Z"
   },
   {
    "duration": 17,
    "start_time": "2023-04-27T14:23:47.168Z"
   },
   {
    "duration": 12,
    "start_time": "2023-04-27T14:23:47.188Z"
   },
   {
    "duration": 11,
    "start_time": "2023-04-27T14:23:47.201Z"
   },
   {
    "duration": 12,
    "start_time": "2023-04-27T14:23:47.213Z"
   },
   {
    "duration": 8,
    "start_time": "2023-04-27T14:23:47.226Z"
   },
   {
    "duration": 11,
    "start_time": "2023-04-27T14:23:47.235Z"
   },
   {
    "duration": 14,
    "start_time": "2023-04-27T14:23:47.247Z"
   },
   {
    "duration": 6,
    "start_time": "2023-04-27T14:23:47.263Z"
   },
   {
    "duration": 27,
    "start_time": "2023-04-27T14:23:47.270Z"
   },
   {
    "duration": 7,
    "start_time": "2023-04-27T14:23:47.299Z"
   },
   {
    "duration": 41,
    "start_time": "2023-04-27T14:23:47.307Z"
   },
   {
    "duration": 17,
    "start_time": "2023-04-27T14:23:47.349Z"
   },
   {
    "duration": 50,
    "start_time": "2023-04-27T14:23:47.368Z"
   },
   {
    "duration": 57,
    "start_time": "2023-04-27T14:23:47.420Z"
   },
   {
    "duration": 65,
    "start_time": "2023-04-27T14:23:47.482Z"
   },
   {
    "duration": 15,
    "start_time": "2023-04-27T14:23:47.549Z"
   },
   {
    "duration": 44,
    "start_time": "2023-04-27T14:23:47.565Z"
   },
   {
    "duration": 31,
    "start_time": "2023-04-27T14:23:47.610Z"
   },
   {
    "duration": 17,
    "start_time": "2023-04-27T14:23:47.642Z"
   },
   {
    "duration": 18,
    "start_time": "2023-04-27T14:23:47.663Z"
   },
   {
    "duration": 18,
    "start_time": "2023-04-27T14:23:47.686Z"
   },
   {
    "duration": 6,
    "start_time": "2023-04-27T14:23:47.706Z"
   },
   {
    "duration": 30,
    "start_time": "2023-04-27T14:23:47.714Z"
   },
   {
    "duration": 11,
    "start_time": "2023-04-27T14:23:47.745Z"
   },
   {
    "duration": 28,
    "start_time": "2023-04-27T14:23:47.758Z"
   },
   {
    "duration": 12,
    "start_time": "2023-04-27T14:23:47.788Z"
   },
   {
    "duration": 16,
    "start_time": "2023-04-27T14:23:47.802Z"
   },
   {
    "duration": 7,
    "start_time": "2023-04-27T14:23:47.819Z"
   },
   {
    "duration": 26,
    "start_time": "2023-04-27T14:23:47.827Z"
   },
   {
    "duration": 44,
    "start_time": "2023-04-27T14:23:47.855Z"
   },
   {
    "duration": 26,
    "start_time": "2023-04-27T14:23:47.900Z"
   },
   {
    "duration": 6,
    "start_time": "2023-04-27T14:23:47.928Z"
   },
   {
    "duration": 52,
    "start_time": "2023-04-27T14:23:47.935Z"
   },
   {
    "duration": 28,
    "start_time": "2023-04-27T14:23:47.989Z"
   },
   {
    "duration": 19,
    "start_time": "2023-04-27T14:23:48.018Z"
   },
   {
    "duration": 246,
    "start_time": "2023-04-27T14:23:48.039Z"
   },
   {
    "duration": 7,
    "start_time": "2023-04-27T14:23:48.287Z"
   },
   {
    "duration": 5,
    "start_time": "2023-04-27T14:23:48.295Z"
   },
   {
    "duration": 149,
    "start_time": "2023-04-27T14:23:48.302Z"
   },
   {
    "duration": 6,
    "start_time": "2023-04-27T14:23:48.453Z"
   },
   {
    "duration": 33,
    "start_time": "2023-04-27T14:23:48.461Z"
   },
   {
    "duration": 163,
    "start_time": "2023-04-27T14:23:48.495Z"
   },
   {
    "duration": 6,
    "start_time": "2023-04-27T14:23:48.659Z"
   },
   {
    "duration": 12,
    "start_time": "2023-04-27T14:23:48.678Z"
   },
   {
    "duration": 6,
    "start_time": "2023-04-27T14:23:48.691Z"
   },
   {
    "duration": 10,
    "start_time": "2023-04-27T14:23:48.698Z"
   },
   {
    "duration": 8,
    "start_time": "2023-04-27T14:23:48.709Z"
   },
   {
    "duration": 20,
    "start_time": "2023-04-27T14:23:48.718Z"
   },
   {
    "duration": 6,
    "start_time": "2023-04-27T14:23:48.740Z"
   },
   {
    "duration": 10,
    "start_time": "2023-04-27T14:23:48.747Z"
   },
   {
    "duration": 28,
    "start_time": "2023-04-27T14:23:48.759Z"
   },
   {
    "duration": 79,
    "start_time": "2023-04-27T14:23:48.789Z"
   },
   {
    "duration": 742,
    "start_time": "2023-04-27T14:23:48.869Z"
   },
   {
    "duration": 422,
    "start_time": "2023-04-27T14:23:49.612Z"
   },
   {
    "duration": 305,
    "start_time": "2023-04-27T14:23:50.036Z"
   },
   {
    "duration": 181,
    "start_time": "2023-04-27T14:23:50.342Z"
   },
   {
    "duration": 813,
    "start_time": "2023-04-27T14:23:50.525Z"
   },
   {
    "duration": 100,
    "start_time": "2023-04-27T14:23:51.339Z"
   },
   {
    "duration": 577,
    "start_time": "2023-04-27T14:23:51.440Z"
   },
   {
    "duration": 69,
    "start_time": "2023-04-27T14:23:52.019Z"
   },
   {
    "duration": 465,
    "start_time": "2023-04-27T14:23:52.090Z"
   },
   {
    "duration": 140,
    "start_time": "2023-04-27T14:23:52.556Z"
   },
   {
    "duration": 110,
    "start_time": "2023-04-27T14:23:52.698Z"
   },
   {
    "duration": 407,
    "start_time": "2023-04-27T14:23:52.810Z"
   },
   {
    "duration": 24,
    "start_time": "2023-04-27T14:23:53.219Z"
   },
   {
    "duration": 161,
    "start_time": "2023-04-27T14:23:53.245Z"
   },
   {
    "duration": 16,
    "start_time": "2023-04-27T14:23:53.407Z"
   },
   {
    "duration": 124,
    "start_time": "2023-04-27T14:24:56.528Z"
   },
   {
    "duration": 1169,
    "start_time": "2023-04-27T14:25:05.966Z"
   },
   {
    "duration": 92,
    "start_time": "2023-04-27T14:25:07.137Z"
   },
   {
    "duration": 35,
    "start_time": "2023-04-27T14:25:07.230Z"
   },
   {
    "duration": 18,
    "start_time": "2023-04-27T14:25:07.267Z"
   },
   {
    "duration": 17,
    "start_time": "2023-04-27T14:25:07.287Z"
   },
   {
    "duration": 60,
    "start_time": "2023-04-27T14:25:07.306Z"
   },
   {
    "duration": 1700,
    "start_time": "2023-04-27T14:25:07.367Z"
   },
   {
    "duration": 26,
    "start_time": "2023-04-27T14:25:09.068Z"
   },
   {
    "duration": 34,
    "start_time": "2023-04-27T14:25:09.095Z"
   },
   {
    "duration": 10,
    "start_time": "2023-04-27T14:25:09.131Z"
   },
   {
    "duration": 18,
    "start_time": "2023-04-27T14:25:09.142Z"
   },
   {
    "duration": 35,
    "start_time": "2023-04-27T14:25:09.161Z"
   },
   {
    "duration": 8,
    "start_time": "2023-04-27T14:25:09.197Z"
   },
   {
    "duration": 21,
    "start_time": "2023-04-27T14:25:09.206Z"
   },
   {
    "duration": 7,
    "start_time": "2023-04-27T14:25:09.228Z"
   },
   {
    "duration": 4,
    "start_time": "2023-04-27T14:25:09.236Z"
   },
   {
    "duration": 5,
    "start_time": "2023-04-27T14:25:09.242Z"
   },
   {
    "duration": 5,
    "start_time": "2023-04-27T14:25:09.248Z"
   },
   {
    "duration": 9,
    "start_time": "2023-04-27T14:25:09.254Z"
   },
   {
    "duration": 17,
    "start_time": "2023-04-27T14:25:09.264Z"
   },
   {
    "duration": 17,
    "start_time": "2023-04-27T14:25:09.282Z"
   },
   {
    "duration": 27,
    "start_time": "2023-04-27T14:25:09.300Z"
   },
   {
    "duration": 64,
    "start_time": "2023-04-27T14:25:09.328Z"
   },
   {
    "duration": 4,
    "start_time": "2023-04-27T14:25:09.394Z"
   },
   {
    "duration": 12,
    "start_time": "2023-04-27T14:25:09.399Z"
   },
   {
    "duration": 13,
    "start_time": "2023-04-27T14:25:09.412Z"
   },
   {
    "duration": 13,
    "start_time": "2023-04-27T14:25:09.426Z"
   },
   {
    "duration": 7,
    "start_time": "2023-04-27T14:25:09.443Z"
   },
   {
    "duration": 26,
    "start_time": "2023-04-27T14:25:09.451Z"
   },
   {
    "duration": 11,
    "start_time": "2023-04-27T14:25:09.478Z"
   },
   {
    "duration": 17,
    "start_time": "2023-04-27T14:25:09.491Z"
   },
   {
    "duration": 6,
    "start_time": "2023-04-27T14:25:09.509Z"
   },
   {
    "duration": 9,
    "start_time": "2023-04-27T14:25:09.516Z"
   },
   {
    "duration": 11,
    "start_time": "2023-04-27T14:25:09.526Z"
   },
   {
    "duration": 7,
    "start_time": "2023-04-27T14:25:09.538Z"
   },
   {
    "duration": 3,
    "start_time": "2023-04-27T14:25:09.546Z"
   },
   {
    "duration": 37,
    "start_time": "2023-04-27T14:25:09.550Z"
   },
   {
    "duration": 28,
    "start_time": "2023-04-27T14:25:09.588Z"
   },
   {
    "duration": 20,
    "start_time": "2023-04-27T14:25:09.617Z"
   },
   {
    "duration": 9,
    "start_time": "2023-04-27T14:25:09.638Z"
   },
   {
    "duration": 57,
    "start_time": "2023-04-27T14:25:09.649Z"
   },
   {
    "duration": 17,
    "start_time": "2023-04-27T14:25:09.707Z"
   },
   {
    "duration": 16,
    "start_time": "2023-04-27T14:25:09.726Z"
   },
   {
    "duration": 244,
    "start_time": "2023-04-27T14:25:09.744Z"
   },
   {
    "duration": 6,
    "start_time": "2023-04-27T14:25:09.990Z"
   },
   {
    "duration": 22,
    "start_time": "2023-04-27T14:25:09.997Z"
   },
   {
    "duration": 180,
    "start_time": "2023-04-27T14:25:10.021Z"
   },
   {
    "duration": 7,
    "start_time": "2023-04-27T14:25:10.202Z"
   },
   {
    "duration": 7,
    "start_time": "2023-04-27T14:25:10.211Z"
   },
   {
    "duration": 194,
    "start_time": "2023-04-27T14:25:10.219Z"
   },
   {
    "duration": 7,
    "start_time": "2023-04-27T14:25:10.414Z"
   },
   {
    "duration": 24,
    "start_time": "2023-04-27T14:25:10.423Z"
   },
   {
    "duration": 16,
    "start_time": "2023-04-27T14:25:10.449Z"
   },
   {
    "duration": 24,
    "start_time": "2023-04-27T14:25:10.466Z"
   },
   {
    "duration": 65,
    "start_time": "2023-04-27T14:25:10.491Z"
   },
   {
    "duration": 12,
    "start_time": "2023-04-27T14:25:10.558Z"
   },
   {
    "duration": 25,
    "start_time": "2023-04-27T14:25:10.571Z"
   },
   {
    "duration": 15,
    "start_time": "2023-04-27T14:25:10.598Z"
   },
   {
    "duration": 34,
    "start_time": "2023-04-27T14:25:10.615Z"
   },
   {
    "duration": 101,
    "start_time": "2023-04-27T14:25:10.651Z"
   },
   {
    "duration": 788,
    "start_time": "2023-04-27T14:25:10.754Z"
   },
   {
    "duration": 472,
    "start_time": "2023-04-27T14:25:11.544Z"
   },
   {
    "duration": 346,
    "start_time": "2023-04-27T14:25:12.017Z"
   },
   {
    "duration": 215,
    "start_time": "2023-04-27T14:25:12.365Z"
   },
   {
    "duration": 911,
    "start_time": "2023-04-27T14:25:12.581Z"
   },
   {
    "duration": 130,
    "start_time": "2023-04-27T14:25:13.494Z"
   },
   {
    "duration": 634,
    "start_time": "2023-04-27T14:25:13.626Z"
   },
   {
    "duration": 63,
    "start_time": "2023-04-27T14:25:14.261Z"
   },
   {
    "duration": 500,
    "start_time": "2023-04-27T14:25:14.325Z"
   },
   {
    "duration": 161,
    "start_time": "2023-04-27T14:25:14.826Z"
   },
   {
    "duration": 121,
    "start_time": "2023-04-27T14:25:14.989Z"
   },
   {
    "duration": 426,
    "start_time": "2023-04-27T14:25:15.116Z"
   },
   {
    "duration": 43,
    "start_time": "2023-04-27T14:25:15.544Z"
   },
   {
    "duration": 162,
    "start_time": "2023-04-27T14:25:15.589Z"
   },
   {
    "duration": 39,
    "start_time": "2023-04-27T14:25:15.752Z"
   },
   {
    "duration": 14,
    "start_time": "2023-04-27T14:26:22.963Z"
   },
   {
    "duration": 7,
    "start_time": "2023-04-27T14:26:23.945Z"
   },
   {
    "duration": 1017,
    "start_time": "2023-04-27T14:27:52.334Z"
   },
   {
    "duration": 119,
    "start_time": "2023-04-27T14:27:56.071Z"
   },
   {
    "duration": 40,
    "start_time": "2023-04-27T14:27:58.656Z"
   },
   {
    "duration": 4,
    "start_time": "2023-04-27T14:28:02.860Z"
   },
   {
    "duration": 13,
    "start_time": "2023-04-27T14:28:04.723Z"
   },
   {
    "duration": 74,
    "start_time": "2023-04-27T14:28:08.426Z"
   },
   {
    "duration": 1901,
    "start_time": "2023-04-27T14:28:12.850Z"
   },
   {
    "duration": 7,
    "start_time": "2023-04-27T14:28:18.183Z"
   },
   {
    "duration": 12,
    "start_time": "2023-04-27T14:28:26.055Z"
   },
   {
    "duration": 12,
    "start_time": "2023-04-27T14:28:28.593Z"
   },
   {
    "duration": 5,
    "start_time": "2023-04-27T14:28:31.421Z"
   },
   {
    "duration": 8,
    "start_time": "2023-04-27T14:28:33.018Z"
   },
   {
    "duration": 5,
    "start_time": "2023-04-27T14:28:35.630Z"
   },
   {
    "duration": 7,
    "start_time": "2023-04-27T14:28:37.629Z"
   },
   {
    "duration": 6,
    "start_time": "2023-04-27T14:28:39.734Z"
   },
   {
    "duration": 4,
    "start_time": "2023-04-27T14:28:41.118Z"
   },
   {
    "duration": 4,
    "start_time": "2023-04-27T14:28:43.486Z"
   },
   {
    "duration": 4,
    "start_time": "2023-04-27T14:28:44.531Z"
   },
   {
    "duration": 11,
    "start_time": "2023-04-27T14:28:45.729Z"
   },
   {
    "duration": 10,
    "start_time": "2023-04-27T14:28:47.629Z"
   },
   {
    "duration": 7,
    "start_time": "2023-04-27T14:28:48.692Z"
   },
   {
    "duration": 32,
    "start_time": "2023-04-27T14:28:51.359Z"
   },
   {
    "duration": 70,
    "start_time": "2023-04-27T14:28:53.935Z"
   },
   {
    "duration": 5,
    "start_time": "2023-04-27T14:28:56.462Z"
   },
   {
    "duration": 11,
    "start_time": "2023-04-27T14:28:58.783Z"
   },
   {
    "duration": 8,
    "start_time": "2023-04-27T14:29:01.683Z"
   },
   {
    "duration": 15,
    "start_time": "2023-04-27T14:29:03.066Z"
   },
   {
    "duration": 6,
    "start_time": "2023-04-27T14:29:05.632Z"
   },
   {
    "duration": 9,
    "start_time": "2023-04-27T14:29:06.765Z"
   },
   {
    "duration": 8,
    "start_time": "2023-04-27T14:29:09.286Z"
   },
   {
    "duration": 17,
    "start_time": "2023-04-27T14:29:10.926Z"
   },
   {
    "duration": 6,
    "start_time": "2023-04-27T14:29:13.330Z"
   },
   {
    "duration": 7,
    "start_time": "2023-04-27T14:29:15.620Z"
   },
   {
    "duration": 9,
    "start_time": "2023-04-27T14:29:16.658Z"
   },
   {
    "duration": 12,
    "start_time": "2023-04-27T14:29:19.594Z"
   },
   {
    "duration": 3,
    "start_time": "2023-04-27T14:29:20.737Z"
   },
   {
    "duration": 6,
    "start_time": "2023-04-27T14:29:24.325Z"
   },
   {
    "duration": 23,
    "start_time": "2023-04-27T14:29:25.354Z"
   },
   {
    "duration": 20,
    "start_time": "2023-04-27T14:29:27.226Z"
   },
   {
    "duration": 6,
    "start_time": "2023-04-27T14:29:28.058Z"
   },
   {
    "duration": 34,
    "start_time": "2023-04-27T14:29:30.969Z"
   },
   {
    "duration": 28,
    "start_time": "2023-04-27T14:29:34.365Z"
   },
   {
    "duration": 18,
    "start_time": "2023-04-27T14:29:37.429Z"
   },
   {
    "duration": 239,
    "start_time": "2023-04-27T14:29:39.422Z"
   },
   {
    "duration": 7,
    "start_time": "2023-04-27T14:29:42.512Z"
   },
   {
    "duration": 4,
    "start_time": "2023-04-27T14:29:43.489Z"
   },
   {
    "duration": 146,
    "start_time": "2023-04-27T14:29:44.723Z"
   },
   {
    "duration": 7,
    "start_time": "2023-04-27T14:29:49.026Z"
   },
   {
    "duration": 4,
    "start_time": "2023-04-27T14:29:50.023Z"
   },
   {
    "duration": 200,
    "start_time": "2023-04-27T14:29:51.030Z"
   },
   {
    "duration": 7,
    "start_time": "2023-04-27T14:29:55.491Z"
   },
   {
    "duration": 4,
    "start_time": "2023-04-27T14:29:56.721Z"
   },
   {
    "duration": 6,
    "start_time": "2023-04-27T14:29:57.487Z"
   },
   {
    "duration": 4,
    "start_time": "2023-04-27T14:30:00.459Z"
   },
   {
    "duration": 110,
    "start_time": "2023-04-27T14:30:04.317Z"
   },
   {
    "duration": 16,
    "start_time": "2023-04-27T14:30:18.226Z"
   },
   {
    "duration": 21,
    "start_time": "2023-04-27T14:30:32.571Z"
   },
   {
    "duration": 8,
    "start_time": "2023-04-27T14:30:34.022Z"
   },
   {
    "duration": 5,
    "start_time": "2023-04-27T14:30:36.018Z"
   },
   {
    "duration": 22,
    "start_time": "2023-04-27T14:30:37.529Z"
   },
   {
    "duration": 75,
    "start_time": "2023-04-27T14:30:41.850Z"
   },
   {
    "duration": 764,
    "start_time": "2023-04-27T14:30:45.960Z"
   },
   {
    "duration": 593,
    "start_time": "2023-04-27T14:31:10.850Z"
   },
   {
    "duration": 301,
    "start_time": "2023-04-27T14:31:33.330Z"
   },
   {
    "duration": 189,
    "start_time": "2023-04-27T14:31:44.571Z"
   },
   {
    "duration": 176,
    "start_time": "2023-04-27T14:32:41.517Z"
   },
   {
    "duration": 157,
    "start_time": "2023-04-27T14:33:43.068Z"
   },
   {
    "duration": 835,
    "start_time": "2023-04-27T14:34:00.222Z"
   },
   {
    "duration": 100,
    "start_time": "2023-04-27T14:35:41.951Z"
   },
   {
    "duration": 743,
    "start_time": "2023-04-27T14:35:45.944Z"
   },
   {
    "duration": 51,
    "start_time": "2023-04-27T14:35:57.930Z"
   },
   {
    "duration": 486,
    "start_time": "2023-04-27T14:36:04.521Z"
   },
   {
    "duration": 141,
    "start_time": "2023-04-27T14:38:24.064Z"
   },
   {
    "duration": 110,
    "start_time": "2023-04-27T14:38:29.185Z"
   },
   {
    "duration": 422,
    "start_time": "2023-04-27T14:38:35.724Z"
   },
   {
    "duration": 32,
    "start_time": "2023-04-27T14:38:54.331Z"
   },
   {
    "duration": 1167,
    "start_time": "2023-04-27T14:41:28.717Z"
   },
   {
    "duration": 22,
    "start_time": "2023-04-27T14:41:43.953Z"
   },
   {
    "duration": 40,
    "start_time": "2023-04-27T14:44:23.306Z"
   },
   {
    "duration": 152,
    "start_time": "2023-04-27T14:44:37.792Z"
   },
   {
    "duration": 1584,
    "start_time": "2023-04-27T14:44:42.831Z"
   },
   {
    "duration": 244,
    "start_time": "2023-04-27T14:46:02.186Z"
   },
   {
    "duration": 237,
    "start_time": "2023-04-27T14:47:52.487Z"
   },
   {
    "duration": 162,
    "start_time": "2023-04-27T14:48:02.122Z"
   },
   {
    "duration": 139,
    "start_time": "2023-04-27T14:48:38.989Z"
   },
   {
    "duration": 29,
    "start_time": "2023-04-27T14:48:42.556Z"
   },
   {
    "duration": 1094,
    "start_time": "2023-04-27T14:50:44.429Z"
   },
   {
    "duration": 90,
    "start_time": "2023-04-27T14:50:45.525Z"
   },
   {
    "duration": 33,
    "start_time": "2023-04-27T14:50:45.616Z"
   },
   {
    "duration": 3,
    "start_time": "2023-04-27T14:50:45.650Z"
   },
   {
    "duration": 30,
    "start_time": "2023-04-27T14:50:45.655Z"
   },
   {
    "duration": 103,
    "start_time": "2023-04-27T14:50:45.686Z"
   },
   {
    "duration": 1769,
    "start_time": "2023-04-27T14:50:45.790Z"
   },
   {
    "duration": 6,
    "start_time": "2023-04-27T14:50:47.560Z"
   },
   {
    "duration": 33,
    "start_time": "2023-04-27T14:50:47.568Z"
   },
   {
    "duration": 14,
    "start_time": "2023-04-27T14:50:47.602Z"
   },
   {
    "duration": 23,
    "start_time": "2023-04-27T14:50:47.618Z"
   },
   {
    "duration": 26,
    "start_time": "2023-04-27T14:50:47.642Z"
   },
   {
    "duration": 17,
    "start_time": "2023-04-27T14:50:47.669Z"
   },
   {
    "duration": 10,
    "start_time": "2023-04-27T14:50:47.690Z"
   },
   {
    "duration": 12,
    "start_time": "2023-04-27T14:50:47.702Z"
   },
   {
    "duration": 5,
    "start_time": "2023-04-27T14:50:47.715Z"
   },
   {
    "duration": 11,
    "start_time": "2023-04-27T14:50:47.722Z"
   },
   {
    "duration": 6,
    "start_time": "2023-04-27T14:50:47.735Z"
   },
   {
    "duration": 20,
    "start_time": "2023-04-27T14:50:47.742Z"
   },
   {
    "duration": 9,
    "start_time": "2023-04-27T14:50:47.764Z"
   },
   {
    "duration": 16,
    "start_time": "2023-04-27T14:50:47.778Z"
   },
   {
    "duration": 52,
    "start_time": "2023-04-27T14:50:47.796Z"
   },
   {
    "duration": 65,
    "start_time": "2023-04-27T14:50:47.850Z"
   },
   {
    "duration": 40,
    "start_time": "2023-04-27T14:50:47.916Z"
   },
   {
    "duration": 39,
    "start_time": "2023-04-27T14:50:47.957Z"
   },
   {
    "duration": 20,
    "start_time": "2023-04-27T14:50:47.998Z"
   },
   {
    "duration": 10,
    "start_time": "2023-04-27T14:50:48.019Z"
   },
   {
    "duration": 21,
    "start_time": "2023-04-27T14:50:48.031Z"
   },
   {
    "duration": 32,
    "start_time": "2023-04-27T14:50:48.054Z"
   },
   {
    "duration": 9,
    "start_time": "2023-04-27T14:50:48.087Z"
   },
   {
    "duration": 27,
    "start_time": "2023-04-27T14:50:48.098Z"
   },
   {
    "duration": 9,
    "start_time": "2023-04-27T14:50:48.127Z"
   },
   {
    "duration": 8,
    "start_time": "2023-04-27T14:50:48.137Z"
   },
   {
    "duration": 24,
    "start_time": "2023-04-27T14:50:48.146Z"
   },
   {
    "duration": 25,
    "start_time": "2023-04-27T14:50:48.171Z"
   },
   {
    "duration": 4,
    "start_time": "2023-04-27T14:50:48.198Z"
   },
   {
    "duration": 18,
    "start_time": "2023-04-27T14:50:48.203Z"
   },
   {
    "duration": 26,
    "start_time": "2023-04-27T14:50:48.222Z"
   },
   {
    "duration": 20,
    "start_time": "2023-04-27T14:50:48.250Z"
   },
   {
    "duration": 26,
    "start_time": "2023-04-27T14:50:48.271Z"
   },
   {
    "duration": 27,
    "start_time": "2023-04-27T14:50:48.300Z"
   },
   {
    "duration": 17,
    "start_time": "2023-04-27T14:50:48.328Z"
   },
   {
    "duration": 17,
    "start_time": "2023-04-27T14:50:48.346Z"
   },
   {
    "duration": 247,
    "start_time": "2023-04-27T14:50:48.364Z"
   },
   {
    "duration": 6,
    "start_time": "2023-04-27T14:50:48.612Z"
   },
   {
    "duration": 11,
    "start_time": "2023-04-27T14:50:48.620Z"
   },
   {
    "duration": 157,
    "start_time": "2023-04-27T14:50:48.632Z"
   },
   {
    "duration": 6,
    "start_time": "2023-04-27T14:50:48.791Z"
   },
   {
    "duration": 21,
    "start_time": "2023-04-27T14:50:48.798Z"
   },
   {
    "duration": 181,
    "start_time": "2023-04-27T14:50:48.820Z"
   },
   {
    "duration": 7,
    "start_time": "2023-04-27T14:50:49.002Z"
   },
   {
    "duration": 5,
    "start_time": "2023-04-27T14:50:49.010Z"
   },
   {
    "duration": 13,
    "start_time": "2023-04-27T14:50:49.016Z"
   },
   {
    "duration": 6,
    "start_time": "2023-04-27T14:50:49.030Z"
   },
   {
    "duration": 46,
    "start_time": "2023-04-27T14:50:49.038Z"
   },
   {
    "duration": 11,
    "start_time": "2023-04-27T14:50:49.085Z"
   },
   {
    "duration": 10,
    "start_time": "2023-04-27T14:50:49.098Z"
   },
   {
    "duration": 4,
    "start_time": "2023-04-27T14:50:49.110Z"
   },
   {
    "duration": 28,
    "start_time": "2023-04-27T14:50:49.116Z"
   },
   {
    "duration": 103,
    "start_time": "2023-04-27T14:50:49.145Z"
   },
   {
    "duration": 700,
    "start_time": "2023-04-27T14:50:49.249Z"
   },
   {
    "duration": 433,
    "start_time": "2023-04-27T14:50:49.950Z"
   },
   {
    "duration": 322,
    "start_time": "2023-04-27T14:50:50.391Z"
   },
   {
    "duration": 175,
    "start_time": "2023-04-27T14:50:50.714Z"
   },
   {
    "duration": 852,
    "start_time": "2023-04-27T14:50:50.891Z"
   },
   {
    "duration": 101,
    "start_time": "2023-04-27T14:50:51.744Z"
   },
   {
    "duration": 578,
    "start_time": "2023-04-27T14:50:51.847Z"
   },
   {
    "duration": 58,
    "start_time": "2023-04-27T14:50:52.427Z"
   },
   {
    "duration": 525,
    "start_time": "2023-04-27T14:50:52.487Z"
   },
   {
    "duration": 150,
    "start_time": "2023-04-27T14:50:53.013Z"
   },
   {
    "duration": 108,
    "start_time": "2023-04-27T14:50:53.185Z"
   },
   {
    "duration": 362,
    "start_time": "2023-04-27T14:50:53.295Z"
   },
   {
    "duration": 157,
    "start_time": "2023-04-27T14:50:53.659Z"
   },
   {
    "duration": 137,
    "start_time": "2023-04-27T14:50:53.818Z"
   },
   {
    "duration": 29,
    "start_time": "2023-04-27T14:50:53.956Z"
   },
   {
    "duration": 1184,
    "start_time": "2023-04-27T19:54:46.420Z"
   },
   {
    "duration": 101,
    "start_time": "2023-04-27T19:54:47.606Z"
   },
   {
    "duration": 36,
    "start_time": "2023-04-27T19:54:47.710Z"
   },
   {
    "duration": 27,
    "start_time": "2023-04-27T19:54:47.748Z"
   },
   {
    "duration": 18,
    "start_time": "2023-04-27T19:54:47.777Z"
   },
   {
    "duration": 90,
    "start_time": "2023-04-27T19:54:47.796Z"
   },
   {
    "duration": 2876,
    "start_time": "2023-04-27T19:54:47.887Z"
   },
   {
    "duration": 12,
    "start_time": "2023-04-27T19:54:50.766Z"
   },
   {
    "duration": 70,
    "start_time": "2023-04-27T19:54:50.780Z"
   },
   {
    "duration": 15,
    "start_time": "2023-04-27T19:54:50.853Z"
   },
   {
    "duration": 13,
    "start_time": "2023-04-27T19:54:50.870Z"
   },
   {
    "duration": 19,
    "start_time": "2023-04-27T19:54:50.885Z"
   },
   {
    "duration": 13,
    "start_time": "2023-04-27T19:54:50.906Z"
   },
   {
    "duration": 31,
    "start_time": "2023-04-27T19:54:50.924Z"
   },
   {
    "duration": 21,
    "start_time": "2023-04-27T19:54:50.957Z"
   },
   {
    "duration": 9,
    "start_time": "2023-04-27T19:54:50.980Z"
   },
   {
    "duration": 25,
    "start_time": "2023-04-27T19:54:50.990Z"
   },
   {
    "duration": 9,
    "start_time": "2023-04-27T19:54:51.017Z"
   },
   {
    "duration": 29,
    "start_time": "2023-04-27T19:54:51.027Z"
   },
   {
    "duration": 36,
    "start_time": "2023-04-27T19:54:51.059Z"
   },
   {
    "duration": 10,
    "start_time": "2023-04-27T19:54:51.097Z"
   },
   {
    "duration": 56,
    "start_time": "2023-04-27T19:54:51.109Z"
   },
   {
    "duration": 133,
    "start_time": "2023-04-27T19:54:51.169Z"
   },
   {
    "duration": 35,
    "start_time": "2023-04-27T19:54:51.304Z"
   },
   {
    "duration": 42,
    "start_time": "2023-04-27T19:54:51.341Z"
   },
   {
    "duration": 38,
    "start_time": "2023-04-27T19:54:51.385Z"
   },
   {
    "duration": 220,
    "start_time": "2023-04-27T19:54:51.425Z"
   },
   {
    "duration": 59,
    "start_time": "2023-04-27T19:54:51.647Z"
   },
   {
    "duration": 38,
    "start_time": "2023-04-27T19:54:51.707Z"
   },
   {
    "duration": 13,
    "start_time": "2023-04-27T19:54:51.747Z"
   },
   {
    "duration": 82,
    "start_time": "2023-04-27T19:54:51.763Z"
   },
   {
    "duration": 10,
    "start_time": "2023-04-27T19:54:51.852Z"
   },
   {
    "duration": 76,
    "start_time": "2023-04-27T19:54:51.869Z"
   },
   {
    "duration": 42,
    "start_time": "2023-04-27T19:54:51.954Z"
   },
   {
    "duration": 8,
    "start_time": "2023-04-27T19:54:51.997Z"
   },
   {
    "duration": 5,
    "start_time": "2023-04-27T19:54:52.006Z"
   },
   {
    "duration": 16,
    "start_time": "2023-04-27T19:54:52.041Z"
   },
   {
    "duration": 97,
    "start_time": "2023-04-27T19:54:52.059Z"
   },
   {
    "duration": 82,
    "start_time": "2023-04-27T19:54:52.160Z"
   },
   {
    "duration": 12,
    "start_time": "2023-04-27T19:54:52.244Z"
   },
   {
    "duration": 141,
    "start_time": "2023-04-27T19:54:52.263Z"
   },
   {
    "duration": 71,
    "start_time": "2023-04-27T19:54:52.406Z"
   },
   {
    "duration": 166,
    "start_time": "2023-04-27T19:54:52.480Z"
   },
   {
    "duration": 716,
    "start_time": "2023-04-27T19:54:52.648Z"
   },
   {
    "duration": 9,
    "start_time": "2023-04-27T19:54:53.365Z"
   },
   {
    "duration": 65,
    "start_time": "2023-04-27T19:54:53.375Z"
   },
   {
    "duration": 428,
    "start_time": "2023-04-27T19:54:53.443Z"
   },
   {
    "duration": 9,
    "start_time": "2023-04-27T19:54:53.873Z"
   },
   {
    "duration": 52,
    "start_time": "2023-04-27T19:54:53.883Z"
   },
   {
    "duration": 544,
    "start_time": "2023-04-27T19:54:53.937Z"
   },
   {
    "duration": 13,
    "start_time": "2023-04-27T19:54:54.540Z"
   },
   {
    "duration": 31,
    "start_time": "2023-04-27T19:54:54.558Z"
   },
   {
    "duration": 47,
    "start_time": "2023-04-27T19:54:54.591Z"
   },
   {
    "duration": 43,
    "start_time": "2023-04-27T19:54:54.639Z"
   },
   {
    "duration": 91,
    "start_time": "2023-04-27T19:54:54.684Z"
   },
   {
    "duration": 66,
    "start_time": "2023-04-27T19:54:54.776Z"
   },
   {
    "duration": 17,
    "start_time": "2023-04-27T19:54:54.846Z"
   },
   {
    "duration": 69,
    "start_time": "2023-04-27T19:54:54.867Z"
   },
   {
    "duration": 107,
    "start_time": "2023-04-27T19:54:54.937Z"
   },
   {
    "duration": 239,
    "start_time": "2023-04-27T19:54:55.045Z"
   },
   {
    "duration": 2266,
    "start_time": "2023-04-27T19:54:55.286Z"
   },
   {
    "duration": 1127,
    "start_time": "2023-04-27T19:54:57.557Z"
   },
   {
    "duration": 679,
    "start_time": "2023-04-27T19:54:58.686Z"
   },
   {
    "duration": 376,
    "start_time": "2023-04-27T19:54:59.367Z"
   },
   {
    "duration": 2435,
    "start_time": "2023-04-27T19:54:59.745Z"
   },
   {
    "duration": 275,
    "start_time": "2023-04-27T19:55:02.181Z"
   },
   {
    "duration": 1987,
    "start_time": "2023-04-27T19:55:02.460Z"
   },
   {
    "duration": 136,
    "start_time": "2023-04-27T19:55:04.449Z"
   },
   {
    "duration": 1566,
    "start_time": "2023-04-27T19:55:04.588Z"
   },
   {
    "duration": 403,
    "start_time": "2023-04-27T19:55:06.161Z"
   },
   {
    "duration": 305,
    "start_time": "2023-04-27T19:55:06.566Z"
   },
   {
    "duration": 1271,
    "start_time": "2023-04-27T19:55:06.879Z"
   },
   {
    "duration": 382,
    "start_time": "2023-04-27T19:55:08.162Z"
   },
   {
    "duration": 399,
    "start_time": "2023-04-27T19:55:08.545Z"
   },
   {
    "duration": 29,
    "start_time": "2023-04-27T19:55:08.948Z"
   },
   {
    "duration": 17,
    "start_time": "2023-04-27T19:55:36.354Z"
   },
   {
    "duration": 80,
    "start_time": "2023-04-27T19:55:42.355Z"
   }
  ],
  "kernelspec": {
   "display_name": "Python 3 (ipykernel)",
   "language": "python",
   "name": "python3"
  },
  "language_info": {
   "codemirror_mode": {
    "name": "ipython",
    "version": 3
   },
   "file_extension": ".py",
   "mimetype": "text/x-python",
   "name": "python",
   "nbconvert_exporter": "python",
   "pygments_lexer": "ipython3",
   "version": "3.9.13"
  },
  "toc": {
   "base_numbering": 1,
   "nav_menu": {},
   "number_sections": true,
   "sideBar": true,
   "skip_h1_title": true,
   "title_cell": "Table of Contents",
   "title_sidebar": "Contents",
   "toc_cell": false,
   "toc_position": {
    "height": "calc(100% - 180px)",
    "left": "10px",
    "top": "150px",
    "width": "371px"
   },
   "toc_section_display": true,
   "toc_window_display": false
  }
 },
 "nbformat": 4,
 "nbformat_minor": 2
}
