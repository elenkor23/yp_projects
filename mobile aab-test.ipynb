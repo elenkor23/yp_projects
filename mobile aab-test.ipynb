{
 "cells": [
  {
   "cell_type": "markdown",
   "metadata": {},
   "source": [
    "# Сборный проект-2. Анализ пользовательского поведения в мобильном приложении"
   ]
  },
  {
   "cell_type": "markdown",
   "metadata": {},
   "source": [
    "# Описание проекта\n",
    "\n",
    "Вы работаете в стартапе, который продаёт продукты питания. Нужно разобраться, как ведут себя пользователи вашего мобильного приложения. Необходимо узнать, как пользователи доходят до покупки. Сколько пользователей доходит до покупки, а сколько — «застревает» на предыдущих шагах? На каких именно? После этого необходимо исследовать результаты A/A/B-эксперимента. Дизайнеры захотели поменять шрифты во всём приложении, а менеджеры испугались, что пользователям будет непривычно. Договорились принять решение по результатам A/A/B-теста. Пользователей разбили на 3 группы: 2 контрольные со старыми шрифтами и одну экспериментальную — с новыми. Надо выяснить, какой шрифт лучше.\n",
    "\n",
    "**Цель проекта**  \n",
    "\n",
    "На основе данных использования мобильного приложения для продажи продуктов питания проанализировать воронку продаж, а также оценить результаты A/A/B-тестирования. \n",
    "\n",
    "**Ход исследования**  \n",
    "1. Загрузка данных, общая информация.  \n",
    "2. Предобработка данных.  \n",
    "3. Изучение и проверка данных, в т.ч.:\n",
    " * Количество событий в логе.  \n",
    " * Количество пользователей в логе.  \n",
    " * Среднее количество событий на пользователя.\n",
    " * Анализ временного периода\n",
    " * Проверка пользователей групп\n",
    "4. Изучение воронки событий, в т.ч.:  \n",
    " * Какие события есть в логах, как часто они встречаются.  \n",
    " * Сколько пользователей совершали каждое из этих событий. Доли пользователей, которые хоть раз совершали событие.  \n",
    " * Порядок событий.  \n",
    " * Какая доля пользователей проходит на следующий шаг воронки (от числа пользователей на предыдущем)?  \n",
    " * На каком шаге теряете больше всего пользователей?  \n",
    " * Какая доля пользователей доходит от первого события до оплаты?  \n",
    "5. Изучение результатов эксперимента, в т.ч.:  \n",
    " * Сколько пользователей в каждой экспериментальной группе?  \n",
    " * Проверка контрольных групп для А/А-эксперимента.  \n",
    " * Самое популярное событие. Число пользователей, совершивших это событие в каждой из контрольных групп. Долю пользователей, совершивших это событие. \n",
    " * Анализ А/В, АА/В-тестов.  \n",
    " * Анализ уровня значимости при проверке статистических гипотез.  \n",
    "\n",
    "**Описание данных**    \n",
    "  \n",
    "  \n",
    "Каждая запись в логе — это действие пользователя, или событие.  \n",
    "\n",
    "•\t`EventName` — название события;  \n",
    "•\t`DeviceIDHash` — уникальный идентификатор пользователя;  \n",
    "•\t`EventTimestamp` — время события;  \n",
    "•\t`ExpId` — номер эксперимента: 246 и 247 — контрольные группы, а 248 — экспериментальная."
   ]
  },
  {
   "cell_type": "markdown",
   "metadata": {},
   "source": [
    "## Загрузка данных"
   ]
  },
  {
   "cell_type": "code",
   "execution_count": 56,
   "metadata": {},
   "outputs": [],
   "source": [
    "# библиотеки\n",
    "import pandas as pd\n",
    "import numpy as np\n",
    "#from datetime import datetime, timedelta\n",
    "import datetime as dt\n",
    "from matplotlib import pyplot as plt\n",
    "import seaborn as sns\n",
    "from scipy import stats as st\n",
    "import math as mth\n",
    "import plotly.express as px\n",
    "from plotly import graph_objects as go"
   ]
  },
  {
   "cell_type": "code",
   "execution_count": 3,
   "metadata": {},
   "outputs": [],
   "source": [
    "pd.set_option('display.float_format', '{:.2f}'.format)\n",
    "colors = sns.color_palette('pastel')"
   ]
  },
  {
   "cell_type": "code",
   "execution_count": 4,
   "metadata": {},
   "outputs": [],
   "source": [
    "# загружаем данные в дф\n",
    "try:\n",
    "    logs = pd.read_csv('/datasets/logs_exp.csv', sep='\\t')\n",
    "\n",
    "except:\n",
    "    logs = pd.read_csv('https://code.s3.yandex.net/datasets/logs_exp.csv', sep='\\t')"
   ]
  },
  {
   "cell_type": "code",
   "execution_count": 5,
   "metadata": {},
   "outputs": [],
   "source": [
    "# функция для просмотра данных о дф\n",
    "def description(x):\n",
    "    display('Первые строки таблицы:')\n",
    "    display(x.head())\n",
    "    print('*'*50)\n",
    "    display('Общая информации о данных:')\n",
    "    display(x.info())\n",
    "    print('*'*50)\n",
    "    display('Распределение численных показателей:')\n",
    "    display(x.describe())\n",
    "    print('*'*50)\n",
    "    display('Проверка на дубликаты:')\n",
    "    display(x.duplicated().sum())"
   ]
  },
  {
   "cell_type": "code",
   "execution_count": 6,
   "metadata": {},
   "outputs": [
    {
     "data": {
      "text/plain": [
       "'Первые строки таблицы:'"
      ]
     },
     "metadata": {},
     "output_type": "display_data"
    },
    {
     "data": {
      "text/html": [
       "<div>\n",
       "<style scoped>\n",
       "    .dataframe tbody tr th:only-of-type {\n",
       "        vertical-align: middle;\n",
       "    }\n",
       "\n",
       "    .dataframe tbody tr th {\n",
       "        vertical-align: top;\n",
       "    }\n",
       "\n",
       "    .dataframe thead th {\n",
       "        text-align: right;\n",
       "    }\n",
       "</style>\n",
       "<table border=\"1\" class=\"dataframe\">\n",
       "  <thead>\n",
       "    <tr style=\"text-align: right;\">\n",
       "      <th></th>\n",
       "      <th>EventName</th>\n",
       "      <th>DeviceIDHash</th>\n",
       "      <th>EventTimestamp</th>\n",
       "      <th>ExpId</th>\n",
       "    </tr>\n",
       "  </thead>\n",
       "  <tbody>\n",
       "    <tr>\n",
       "      <th>0</th>\n",
       "      <td>MainScreenAppear</td>\n",
       "      <td>4575588528974610257</td>\n",
       "      <td>1564029816</td>\n",
       "      <td>246</td>\n",
       "    </tr>\n",
       "    <tr>\n",
       "      <th>1</th>\n",
       "      <td>MainScreenAppear</td>\n",
       "      <td>7416695313311560658</td>\n",
       "      <td>1564053102</td>\n",
       "      <td>246</td>\n",
       "    </tr>\n",
       "    <tr>\n",
       "      <th>2</th>\n",
       "      <td>PaymentScreenSuccessful</td>\n",
       "      <td>3518123091307005509</td>\n",
       "      <td>1564054127</td>\n",
       "      <td>248</td>\n",
       "    </tr>\n",
       "    <tr>\n",
       "      <th>3</th>\n",
       "      <td>CartScreenAppear</td>\n",
       "      <td>3518123091307005509</td>\n",
       "      <td>1564054127</td>\n",
       "      <td>248</td>\n",
       "    </tr>\n",
       "    <tr>\n",
       "      <th>4</th>\n",
       "      <td>PaymentScreenSuccessful</td>\n",
       "      <td>6217807653094995999</td>\n",
       "      <td>1564055322</td>\n",
       "      <td>248</td>\n",
       "    </tr>\n",
       "  </tbody>\n",
       "</table>\n",
       "</div>"
      ],
      "text/plain": [
       "                 EventName         DeviceIDHash  EventTimestamp  ExpId\n",
       "0         MainScreenAppear  4575588528974610257      1564029816    246\n",
       "1         MainScreenAppear  7416695313311560658      1564053102    246\n",
       "2  PaymentScreenSuccessful  3518123091307005509      1564054127    248\n",
       "3         CartScreenAppear  3518123091307005509      1564054127    248\n",
       "4  PaymentScreenSuccessful  6217807653094995999      1564055322    248"
      ]
     },
     "metadata": {},
     "output_type": "display_data"
    },
    {
     "name": "stdout",
     "output_type": "stream",
     "text": [
      "**************************************************\n"
     ]
    },
    {
     "data": {
      "text/plain": [
       "'Общая информации о данных:'"
      ]
     },
     "metadata": {},
     "output_type": "display_data"
    },
    {
     "name": "stdout",
     "output_type": "stream",
     "text": [
      "<class 'pandas.core.frame.DataFrame'>\n",
      "RangeIndex: 244126 entries, 0 to 244125\n",
      "Data columns (total 4 columns):\n",
      " #   Column          Non-Null Count   Dtype \n",
      "---  ------          --------------   ----- \n",
      " 0   EventName       244126 non-null  object\n",
      " 1   DeviceIDHash    244126 non-null  int64 \n",
      " 2   EventTimestamp  244126 non-null  int64 \n",
      " 3   ExpId           244126 non-null  int64 \n",
      "dtypes: int64(3), object(1)\n",
      "memory usage: 7.5+ MB\n"
     ]
    },
    {
     "data": {
      "text/plain": [
       "None"
      ]
     },
     "metadata": {},
     "output_type": "display_data"
    },
    {
     "name": "stdout",
     "output_type": "stream",
     "text": [
      "**************************************************\n"
     ]
    },
    {
     "data": {
      "text/plain": [
       "'Распределение численных показателей:'"
      ]
     },
     "metadata": {},
     "output_type": "display_data"
    },
    {
     "data": {
      "text/html": [
       "<div>\n",
       "<style scoped>\n",
       "    .dataframe tbody tr th:only-of-type {\n",
       "        vertical-align: middle;\n",
       "    }\n",
       "\n",
       "    .dataframe tbody tr th {\n",
       "        vertical-align: top;\n",
       "    }\n",
       "\n",
       "    .dataframe thead th {\n",
       "        text-align: right;\n",
       "    }\n",
       "</style>\n",
       "<table border=\"1\" class=\"dataframe\">\n",
       "  <thead>\n",
       "    <tr style=\"text-align: right;\">\n",
       "      <th></th>\n",
       "      <th>DeviceIDHash</th>\n",
       "      <th>EventTimestamp</th>\n",
       "      <th>ExpId</th>\n",
       "    </tr>\n",
       "  </thead>\n",
       "  <tbody>\n",
       "    <tr>\n",
       "      <th>count</th>\n",
       "      <td>244126.00</td>\n",
       "      <td>244126.00</td>\n",
       "      <td>244126.00</td>\n",
       "    </tr>\n",
       "    <tr>\n",
       "      <th>mean</th>\n",
       "      <td>4627568124591259648.00</td>\n",
       "      <td>1564913915.84</td>\n",
       "      <td>247.02</td>\n",
       "    </tr>\n",
       "    <tr>\n",
       "      <th>std</th>\n",
       "      <td>2642424998963961856.00</td>\n",
       "      <td>177134.32</td>\n",
       "      <td>0.82</td>\n",
       "    </tr>\n",
       "    <tr>\n",
       "      <th>min</th>\n",
       "      <td>6888746892508752.00</td>\n",
       "      <td>1564029816.00</td>\n",
       "      <td>246.00</td>\n",
       "    </tr>\n",
       "    <tr>\n",
       "      <th>25%</th>\n",
       "      <td>2372212476992240640.00</td>\n",
       "      <td>1564756580.25</td>\n",
       "      <td>246.00</td>\n",
       "    </tr>\n",
       "    <tr>\n",
       "      <th>50%</th>\n",
       "      <td>4623191541214045184.00</td>\n",
       "      <td>1564919395.00</td>\n",
       "      <td>247.00</td>\n",
       "    </tr>\n",
       "    <tr>\n",
       "      <th>75%</th>\n",
       "      <td>6932517045703054336.00</td>\n",
       "      <td>1565074511.00</td>\n",
       "      <td>248.00</td>\n",
       "    </tr>\n",
       "    <tr>\n",
       "      <th>max</th>\n",
       "      <td>9222603179720523776.00</td>\n",
       "      <td>1565212517.00</td>\n",
       "      <td>248.00</td>\n",
       "    </tr>\n",
       "  </tbody>\n",
       "</table>\n",
       "</div>"
      ],
      "text/plain": [
       "                DeviceIDHash  EventTimestamp     ExpId\n",
       "count              244126.00       244126.00 244126.00\n",
       "mean  4627568124591259648.00   1564913915.84    247.02\n",
       "std   2642424998963961856.00       177134.32      0.82\n",
       "min      6888746892508752.00   1564029816.00    246.00\n",
       "25%   2372212476992240640.00   1564756580.25    246.00\n",
       "50%   4623191541214045184.00   1564919395.00    247.00\n",
       "75%   6932517045703054336.00   1565074511.00    248.00\n",
       "max   9222603179720523776.00   1565212517.00    248.00"
      ]
     },
     "metadata": {},
     "output_type": "display_data"
    },
    {
     "name": "stdout",
     "output_type": "stream",
     "text": [
      "**************************************************\n"
     ]
    },
    {
     "data": {
      "text/plain": [
       "'Проверка на дубликаты:'"
      ]
     },
     "metadata": {},
     "output_type": "display_data"
    },
    {
     "data": {
      "text/plain": [
       "413"
      ]
     },
     "metadata": {},
     "output_type": "display_data"
    }
   ],
   "source": [
    "description(logs)"
   ]
  },
  {
   "cell_type": "markdown",
   "metadata": {},
   "source": [
    "**Вывод:** Дано 244126 строк, пропусков нет, дубликаты есть, названия столбцов следует привести к snake_case, скорректировать формат столбца с датой события.  "
   ]
  },
  {
   "cell_type": "markdown",
   "metadata": {},
   "source": [
    "## Предобработка данных"
   ]
  },
  {
   "cell_type": "markdown",
   "metadata": {},
   "source": [
    "* **корректировка названия столбцов**"
   ]
  },
  {
   "cell_type": "code",
   "execution_count": 7,
   "metadata": {},
   "outputs": [
    {
     "data": {
      "text/plain": [
       "Index(['eventname', 'deviceidhash', 'eventtimestamp', 'expid'], dtype='object')"
      ]
     },
     "execution_count": 7,
     "metadata": {},
     "output_type": "execute_result"
    }
   ],
   "source": [
    "# названия столбцов в нижний регистр\n",
    "logs.columns = logs.columns.str.lower()\n",
    "logs.columns"
   ]
  },
  {
   "cell_type": "code",
   "execution_count": 8,
   "metadata": {},
   "outputs": [],
   "source": [
    "# названия столбцов к snake_case\n",
    "logs.columns = ['event_name', 'user_id', 'event_timestamp', 'group']"
   ]
  },
  {
   "cell_type": "markdown",
   "metadata": {},
   "source": [
    "* **добавление дополнительных столбцов**"
   ]
  },
  {
   "cell_type": "code",
   "execution_count": 9,
   "metadata": {},
   "outputs": [
    {
     "data": {
      "text/html": [
       "<div>\n",
       "<style scoped>\n",
       "    .dataframe tbody tr th:only-of-type {\n",
       "        vertical-align: middle;\n",
       "    }\n",
       "\n",
       "    .dataframe tbody tr th {\n",
       "        vertical-align: top;\n",
       "    }\n",
       "\n",
       "    .dataframe thead th {\n",
       "        text-align: right;\n",
       "    }\n",
       "</style>\n",
       "<table border=\"1\" class=\"dataframe\">\n",
       "  <thead>\n",
       "    <tr style=\"text-align: right;\">\n",
       "      <th></th>\n",
       "      <th>event_name</th>\n",
       "      <th>user_id</th>\n",
       "      <th>event_timestamp</th>\n",
       "      <th>group</th>\n",
       "      <th>date_time</th>\n",
       "      <th>date</th>\n",
       "    </tr>\n",
       "  </thead>\n",
       "  <tbody>\n",
       "    <tr>\n",
       "      <th>0</th>\n",
       "      <td>MainScreenAppear</td>\n",
       "      <td>4575588528974610257</td>\n",
       "      <td>1564029816</td>\n",
       "      <td>246</td>\n",
       "      <td>2019-07-25 04:43:36</td>\n",
       "      <td>2019-07-25</td>\n",
       "    </tr>\n",
       "    <tr>\n",
       "      <th>1</th>\n",
       "      <td>MainScreenAppear</td>\n",
       "      <td>7416695313311560658</td>\n",
       "      <td>1564053102</td>\n",
       "      <td>246</td>\n",
       "      <td>2019-07-25 11:11:42</td>\n",
       "      <td>2019-07-25</td>\n",
       "    </tr>\n",
       "    <tr>\n",
       "      <th>2</th>\n",
       "      <td>PaymentScreenSuccessful</td>\n",
       "      <td>3518123091307005509</td>\n",
       "      <td>1564054127</td>\n",
       "      <td>248</td>\n",
       "      <td>2019-07-25 11:28:47</td>\n",
       "      <td>2019-07-25</td>\n",
       "    </tr>\n",
       "    <tr>\n",
       "      <th>3</th>\n",
       "      <td>CartScreenAppear</td>\n",
       "      <td>3518123091307005509</td>\n",
       "      <td>1564054127</td>\n",
       "      <td>248</td>\n",
       "      <td>2019-07-25 11:28:47</td>\n",
       "      <td>2019-07-25</td>\n",
       "    </tr>\n",
       "    <tr>\n",
       "      <th>4</th>\n",
       "      <td>PaymentScreenSuccessful</td>\n",
       "      <td>6217807653094995999</td>\n",
       "      <td>1564055322</td>\n",
       "      <td>248</td>\n",
       "      <td>2019-07-25 11:48:42</td>\n",
       "      <td>2019-07-25</td>\n",
       "    </tr>\n",
       "  </tbody>\n",
       "</table>\n",
       "</div>"
      ],
      "text/plain": [
       "                event_name              user_id  event_timestamp  group  \\\n",
       "0         MainScreenAppear  4575588528974610257       1564029816    246   \n",
       "1         MainScreenAppear  7416695313311560658       1564053102    246   \n",
       "2  PaymentScreenSuccessful  3518123091307005509       1564054127    248   \n",
       "3         CartScreenAppear  3518123091307005509       1564054127    248   \n",
       "4  PaymentScreenSuccessful  6217807653094995999       1564055322    248   \n",
       "\n",
       "            date_time       date  \n",
       "0 2019-07-25 04:43:36 2019-07-25  \n",
       "1 2019-07-25 11:11:42 2019-07-25  \n",
       "2 2019-07-25 11:28:47 2019-07-25  \n",
       "3 2019-07-25 11:28:47 2019-07-25  \n",
       "4 2019-07-25 11:48:42 2019-07-25  "
      ]
     },
     "execution_count": 9,
     "metadata": {},
     "output_type": "execute_result"
    }
   ],
   "source": [
    "# доп столбцы\n",
    "logs['date_time'] = logs['event_timestamp'].apply(lambda x: dt.datetime.fromtimestamp(x))\n",
    "logs['date'] = logs['date_time'].astype('datetime64[D]')\n",
    "logs.head()"
   ]
  },
  {
   "cell_type": "markdown",
   "metadata": {},
   "source": [
    "* **просмотр значений столбцов**"
   ]
  },
  {
   "cell_type": "code",
   "execution_count": 10,
   "metadata": {},
   "outputs": [
    {
     "data": {
      "text/plain": [
       "array([246, 248, 247])"
      ]
     },
     "execution_count": 10,
     "metadata": {},
     "output_type": "execute_result"
    }
   ],
   "source": [
    "logs['group'].unique()"
   ]
  },
  {
   "cell_type": "code",
   "execution_count": 11,
   "metadata": {},
   "outputs": [
    {
     "data": {
      "text/plain": [
       "array(['MainScreenAppear', 'PaymentScreenSuccessful', 'CartScreenAppear',\n",
       "       'OffersScreenAppear', 'Tutorial'], dtype=object)"
      ]
     },
     "execution_count": 11,
     "metadata": {},
     "output_type": "execute_result"
    }
   ],
   "source": [
    "logs['event_name'].unique()"
   ]
  },
  {
   "cell_type": "markdown",
   "metadata": {},
   "source": [
    "* **удаление дубликатов**"
   ]
  },
  {
   "cell_type": "code",
   "execution_count": 12,
   "metadata": {},
   "outputs": [],
   "source": [
    "# удаляем дубликаты\n",
    "logs = logs.drop_duplicates().reset_index(drop=True)"
   ]
  },
  {
   "cell_type": "code",
   "execution_count": 13,
   "metadata": {},
   "outputs": [
    {
     "data": {
      "text/plain": [
       "0"
      ]
     },
     "execution_count": 13,
     "metadata": {},
     "output_type": "execute_result"
    }
   ],
   "source": [
    "logs.duplicated().sum()"
   ]
  },
  {
   "cell_type": "markdown",
   "metadata": {},
   "source": [
    "* **проверка пользователей**"
   ]
  },
  {
   "cell_type": "code",
   "execution_count": 49,
   "metadata": {},
   "outputs": [],
   "source": [
    "# # проверка на пересечение пользователей по группам\n",
    "# logs.groupby('user_id', as_index=False)['group'].nunique().query('group > 1')\n"
   ]
  },
  {
   "cell_type": "markdown",
   "metadata": {},
   "source": [
    "Фиксируем количество логов и уникальных пользователей после проведения предобработки."
   ]
  },
  {
   "cell_type": "code",
   "execution_count": 15,
   "metadata": {},
   "outputs": [
    {
     "data": {
      "text/plain": [
       "243713"
      ]
     },
     "metadata": {},
     "output_type": "display_data"
    },
    {
     "data": {
      "text/plain": [
       "7551"
      ]
     },
     "metadata": {},
     "output_type": "display_data"
    }
   ],
   "source": [
    "before_logs = logs.shape[0]\n",
    "display(before_logs)\n",
    "before_users = logs['user_id'].nunique()\n",
    "display(before_users)"
   ]
  },
  {
   "cell_type": "markdown",
   "metadata": {},
   "source": [
    "**Вывод:** Проведена предобработка данных: скорректированы названия столбцов, добавлены вспомогательные столбцы с датой и временем и датой совершения событий, удалены дубликаты. Итого даны три группы, на которые разделены пользователи, нет пользователей, состоящих более чем в одной группе. Событий в логах 5 видов."
   ]
  },
  {
   "cell_type": "markdown",
   "metadata": {},
   "source": [
    "## Изучение и проверка данных"
   ]
  },
  {
   "cell_type": "markdown",
   "metadata": {},
   "source": [
    "### Количество событий в логе"
   ]
  },
  {
   "cell_type": "code",
   "execution_count": 16,
   "metadata": {},
   "outputs": [
    {
     "data": {
      "text/plain": [
       "MainScreenAppear           119101\n",
       "OffersScreenAppear          46808\n",
       "CartScreenAppear            42668\n",
       "PaymentScreenSuccessful     34118\n",
       "Tutorial                     1018\n",
       "Name: event_name, dtype: int64"
      ]
     },
     "execution_count": 16,
     "metadata": {},
     "output_type": "execute_result"
    }
   ],
   "source": [
    "logs['event_name'].value_counts()"
   ]
  },
  {
   "cell_type": "code",
   "execution_count": 17,
   "metadata": {},
   "outputs": [
    {
     "name": "stdout",
     "output_type": "stream",
     "text": [
      "Всего событий 243713, типов событий 5.\n"
     ]
    }
   ],
   "source": [
    "print('Всего событий %d, типов событий %d.' % (logs.shape[0], logs['event_name'].nunique()))"
   ]
  },
  {
   "cell_type": "markdown",
   "metadata": {},
   "source": [
    "В логах всего 243713 событий, в т.ч. 5 типов: MainScreenAppear, OffersScreenAppear, CartScreenAppear, PaymentScreenSuccessful, Tutorial."
   ]
  },
  {
   "cell_type": "markdown",
   "metadata": {},
   "source": [
    "### Количество пользователей в логе"
   ]
  },
  {
   "cell_type": "code",
   "execution_count": 18,
   "metadata": {
    "scrolled": true
   },
   "outputs": [
    {
     "data": {
      "text/plain": [
       "7551"
      ]
     },
     "execution_count": 18,
     "metadata": {},
     "output_type": "execute_result"
    }
   ],
   "source": [
    "logs['user_id'].nunique()"
   ]
  },
  {
   "cell_type": "markdown",
   "metadata": {},
   "source": [
    "### Среднее количество событий на пользователя"
   ]
  },
  {
   "cell_type": "code",
   "execution_count": 19,
   "metadata": {},
   "outputs": [
    {
     "name": "stdout",
     "output_type": "stream",
     "text": [
      "Среднее количество событий на пользователя: 32\n"
     ]
    }
   ],
   "source": [
    "print('Среднее количество событий на пользователя: %d' % (logs.shape[0] / logs['user_id'].nunique()))"
   ]
  },
  {
   "cell_type": "code",
   "execution_count": 34,
   "metadata": {},
   "outputs": [
    {
     "data": {
      "text/html": [
       "<div>\n",
       "<style scoped>\n",
       "    .dataframe tbody tr th:only-of-type {\n",
       "        vertical-align: middle;\n",
       "    }\n",
       "\n",
       "    .dataframe tbody tr th {\n",
       "        vertical-align: top;\n",
       "    }\n",
       "\n",
       "    .dataframe thead th {\n",
       "        text-align: right;\n",
       "    }\n",
       "</style>\n",
       "<table border=\"1\" class=\"dataframe\">\n",
       "  <thead>\n",
       "    <tr style=\"text-align: right;\">\n",
       "      <th></th>\n",
       "      <th>event_name</th>\n",
       "    </tr>\n",
       "  </thead>\n",
       "  <tbody>\n",
       "    <tr>\n",
       "      <th>count</th>\n",
       "      <td>7551.00</td>\n",
       "    </tr>\n",
       "    <tr>\n",
       "      <th>mean</th>\n",
       "      <td>32.28</td>\n",
       "    </tr>\n",
       "    <tr>\n",
       "      <th>std</th>\n",
       "      <td>65.15</td>\n",
       "    </tr>\n",
       "    <tr>\n",
       "      <th>min</th>\n",
       "      <td>1.00</td>\n",
       "    </tr>\n",
       "    <tr>\n",
       "      <th>25%</th>\n",
       "      <td>9.00</td>\n",
       "    </tr>\n",
       "    <tr>\n",
       "      <th>50%</th>\n",
       "      <td>20.00</td>\n",
       "    </tr>\n",
       "    <tr>\n",
       "      <th>75%</th>\n",
       "      <td>37.00</td>\n",
       "    </tr>\n",
       "    <tr>\n",
       "      <th>max</th>\n",
       "      <td>2307.00</td>\n",
       "    </tr>\n",
       "  </tbody>\n",
       "</table>\n",
       "</div>"
      ],
      "text/plain": [
       "       event_name\n",
       "count     7551.00\n",
       "mean        32.28\n",
       "std         65.15\n",
       "min          1.00\n",
       "25%          9.00\n",
       "50%         20.00\n",
       "75%         37.00\n",
       "max       2307.00"
      ]
     },
     "execution_count": 34,
     "metadata": {},
     "output_type": "execute_result"
    }
   ],
   "source": [
    "logs.groupby('user_id').agg({'event_name': 'count'}).describe()"
   ]
  },
  {
   "cell_type": "code",
   "execution_count": 30,
   "metadata": {},
   "outputs": [
    {
     "data": {
      "image/png": "[encoded data removed]",
      "text/plain": [
       "<Figure size 1080x360 with 1 Axes>"
      ]
     },
     "metadata": {
      "needs_background": "light"
     },
     "output_type": "display_data"
    }
   ],
   "source": [
    "# диаграмма распределения кол-ва событий на пользователя\n",
    "logs.groupby('user_id').agg({'event_name': 'count'}).hist(range=(0,100), bins=50, figsize=(15,5), alpha=0.7, color='green')\n",
    "plt.title('Количество событий на пользователя')\n",
    "#plt.locator_params(axis='x', nbins=20)\n",
    "plt.xlabel('Количество событий')\n",
    "plt.ylabel('Количество пользователей');"
   ]
  },
  {
   "cell_type": "code",
   "execution_count": 33,
   "metadata": {},
   "outputs": [
    {
     "data": {
      "image/png": "[encoded data removed]",
      "text/plain": [
       "<Figure size 1080x360 with 1 Axes>"
      ]
     },
     "metadata": {
      "needs_background": "light"
     },
     "output_type": "display_data"
    }
   ],
   "source": [
    "# диаграмма распределения кол-ва событий на пользователя\n",
    "logs.groupby('user_id').agg({'event_name': 'count'}).hist(range=(200,1000), bins=50, figsize=(15,5), alpha=0.7, color='green')\n",
    "plt.title('Количество событий на пользователя')\n",
    "#plt.locator_params(axis='x', nbins=20)\n",
    "plt.xlabel('Количество событий')\n",
    "plt.ylabel('Количество пользователей');"
   ]
  },
  {
   "cell_type": "markdown",
   "metadata": {},
   "source": [
    "Вывод: Среднее количество событий на пользователя - 32, медианное - 20. Однако есть некоторое число \"гиперактивных\" пользователей с количеством событий более 200."
   ]
  },
  {
   "cell_type": "markdown",
   "metadata": {},
   "source": [
    "### Временной период"
   ]
  },
  {
   "cell_type": "code",
   "execution_count": 19,
   "metadata": {
    "scrolled": true
   },
   "outputs": [],
   "source": [
    "#logs.sample()"
   ]
  },
  {
   "cell_type": "code",
   "execution_count": 35,
   "metadata": {},
   "outputs": [
    {
     "name": "stdout",
     "output_type": "stream",
     "text": [
      "Минимальная дата в логе: 2019-07-25\n",
      "Максимальная дата в логе: 2019-08-07\n"
     ]
    }
   ],
   "source": [
    "print('Минимальная дата в логе:', logs['date'].dt.date.min())\n",
    "print('Максимальная дата в логе:', logs['date'].dt.date.max())"
   ]
  },
  {
   "cell_type": "markdown",
   "metadata": {},
   "source": [
    "Имеем события за период с 25.07.2019 по 07.08.2019 г. Построим гистограмму распределения событий по дате и времени суток."
   ]
  },
  {
   "cell_type": "code",
   "execution_count": 37,
   "metadata": {},
   "outputs": [
    {
     "data": {
      "image/png": "[encoded data removed]",
      "text/plain": [
       "<Figure size 1080x360 with 1 Axes>"
      ]
     },
     "metadata": {
      "needs_background": "light"
     },
     "output_type": "display_data"
    },
    {
     "data": {
      "image/png": "[encoded data removed]",
      "text/plain": [
       "<Figure size 1080x360 with 1 Axes>"
      ]
     },
     "metadata": {
      "needs_background": "light"
     },
     "output_type": "display_data"
    }
   ],
   "source": [
    "plt.title('Распределение логов по дате и времени')\n",
    "logs['date_time'].hist(bins=14*24, figsize=(15,5), alpha=0.5, color='green')\n",
    "plt.xticks(rotation=45)\n",
    "plt.ylabel('Частота событий')\n",
    "plt.xlabel('Дата события')\n",
    "plt.show()\n",
    "\n",
    "plt.title('Распределение логов по времени суток')\n",
    "logs['date_time'].dt.hour.hist(bins=24, figsize=(15, 5), alpha=0.3, color='blue')\n",
    "plt.xticks(rotation=45)\n",
    "plt.xticks(range(0, 23))\n",
    "plt.ylabel('Частота событий')\n",
    "plt.xlabel('Время события')\n",
    "plt.show();"
   ]
  },
  {
   "cell_type": "code",
   "execution_count": 38,
   "metadata": {},
   "outputs": [
    {
     "data": {
      "text/html": [
       "<div>\n",
       "<style scoped>\n",
       "    .dataframe tbody tr th:only-of-type {\n",
       "        vertical-align: middle;\n",
       "    }\n",
       "\n",
       "    .dataframe tbody tr th {\n",
       "        vertical-align: top;\n",
       "    }\n",
       "\n",
       "    .dataframe thead th {\n",
       "        text-align: right;\n",
       "    }\n",
       "</style>\n",
       "<table border=\"1\" class=\"dataframe\">\n",
       "  <thead>\n",
       "    <tr style=\"text-align: right;\">\n",
       "      <th></th>\n",
       "      <th>date</th>\n",
       "      <th>event_name</th>\n",
       "    </tr>\n",
       "  </thead>\n",
       "  <tbody>\n",
       "    <tr>\n",
       "      <th>0</th>\n",
       "      <td>2019-07-25</td>\n",
       "      <td>9</td>\n",
       "    </tr>\n",
       "    <tr>\n",
       "      <th>1</th>\n",
       "      <td>2019-07-26</td>\n",
       "      <td>31</td>\n",
       "    </tr>\n",
       "    <tr>\n",
       "      <th>2</th>\n",
       "      <td>2019-07-27</td>\n",
       "      <td>55</td>\n",
       "    </tr>\n",
       "    <tr>\n",
       "      <th>3</th>\n",
       "      <td>2019-07-28</td>\n",
       "      <td>105</td>\n",
       "    </tr>\n",
       "    <tr>\n",
       "      <th>4</th>\n",
       "      <td>2019-07-29</td>\n",
       "      <td>184</td>\n",
       "    </tr>\n",
       "    <tr>\n",
       "      <th>5</th>\n",
       "      <td>2019-07-30</td>\n",
       "      <td>412</td>\n",
       "    </tr>\n",
       "    <tr>\n",
       "      <th>6</th>\n",
       "      <td>2019-07-31</td>\n",
       "      <td>2030</td>\n",
       "    </tr>\n",
       "    <tr>\n",
       "      <th>7</th>\n",
       "      <td>2019-08-01</td>\n",
       "      <td>36141</td>\n",
       "    </tr>\n",
       "    <tr>\n",
       "      <th>8</th>\n",
       "      <td>2019-08-02</td>\n",
       "      <td>35554</td>\n",
       "    </tr>\n",
       "    <tr>\n",
       "      <th>9</th>\n",
       "      <td>2019-08-03</td>\n",
       "      <td>33282</td>\n",
       "    </tr>\n",
       "    <tr>\n",
       "      <th>10</th>\n",
       "      <td>2019-08-04</td>\n",
       "      <td>32968</td>\n",
       "    </tr>\n",
       "    <tr>\n",
       "      <th>11</th>\n",
       "      <td>2019-08-05</td>\n",
       "      <td>36058</td>\n",
       "    </tr>\n",
       "    <tr>\n",
       "      <th>12</th>\n",
       "      <td>2019-08-06</td>\n",
       "      <td>35788</td>\n",
       "    </tr>\n",
       "    <tr>\n",
       "      <th>13</th>\n",
       "      <td>2019-08-07</td>\n",
       "      <td>31096</td>\n",
       "    </tr>\n",
       "  </tbody>\n",
       "</table>\n",
       "</div>"
      ],
      "text/plain": [
       "         date  event_name\n",
       "0  2019-07-25           9\n",
       "1  2019-07-26          31\n",
       "2  2019-07-27          55\n",
       "3  2019-07-28         105\n",
       "4  2019-07-29         184\n",
       "5  2019-07-30         412\n",
       "6  2019-07-31        2030\n",
       "7  2019-08-01       36141\n",
       "8  2019-08-02       35554\n",
       "9  2019-08-03       33282\n",
       "10 2019-08-04       32968\n",
       "11 2019-08-05       36058\n",
       "12 2019-08-06       35788\n",
       "13 2019-08-07       31096"
      ]
     },
     "execution_count": 38,
     "metadata": {},
     "output_type": "execute_result"
    }
   ],
   "source": [
    "logs.groupby('date', as_index=False).agg({'event_name':'count'})"
   ]
  },
  {
   "cell_type": "markdown",
   "metadata": {},
   "source": [
    "**Вывод:** И по гистограмме, и по сгруппированной таблице видно, что до 31.07.2019 включительно количество событий существенно меньше, чем в последующие даты. Из чего можно сделать вывод, что наиболее полные данные за период с 01.08.2019 по 07.08.2019г., т.е. за 7 дней. Активность пользователей наибольшая в дневные часы, наименьшая - в ночное, что вполне логично для проекта по продаже продуктов питания. "
   ]
  },
  {
   "cell_type": "code",
   "execution_count": 39,
   "metadata": {},
   "outputs": [],
   "source": [
    "# отсекаем данные за период до 01.08.19\n",
    "logs = logs.query('date >= \"2019-08-01\"')\n",
    "# новое количество событий и пользователей\n",
    "after_logs = logs.shape[0]\n",
    "after_users = logs['user_id'].nunique()"
   ]
  },
  {
   "cell_type": "code",
   "execution_count": 46,
   "metadata": {},
   "outputs": [
    {
     "name": "stdout",
     "output_type": "stream",
     "text": [
      "Изменение количества логов: 2826\n",
      "Относительное изменение количества логов: 1.16%\n"
     ]
    }
   ],
   "source": [
    "print(f'Изменение количества логов: {before_logs - after_logs}')\n",
    "print(f'Относительное изменение количества логов: {round(100*(before_logs - after_logs)/before_logs,2)}%')"
   ]
  },
  {
   "cell_type": "code",
   "execution_count": 45,
   "metadata": {},
   "outputs": [
    {
     "name": "stdout",
     "output_type": "stream",
     "text": [
      "Изменение количества пользователей: 17\n",
      "Относительное изменение количества пользователей: 0.23%\n"
     ]
    }
   ],
   "source": [
    "print(f'Изменение количества пользователей: {before_users - after_users}')\n",
    "print(f'Относительное изменение количества пользователей: {round((before_users - after_users)/before_users*100,2)}%')"
   ]
  },
  {
   "cell_type": "markdown",
   "metadata": {},
   "source": [
    "* **Проверка распределения пользователей по группам**"
   ]
  },
  {
   "cell_type": "code",
   "execution_count": 47,
   "metadata": {},
   "outputs": [
    {
     "data": {
      "text/html": [
       "<div>\n",
       "<style scoped>\n",
       "    .dataframe tbody tr th:only-of-type {\n",
       "        vertical-align: middle;\n",
       "    }\n",
       "\n",
       "    .dataframe tbody tr th {\n",
       "        vertical-align: top;\n",
       "    }\n",
       "\n",
       "    .dataframe thead th {\n",
       "        text-align: right;\n",
       "    }\n",
       "</style>\n",
       "<table border=\"1\" class=\"dataframe\">\n",
       "  <thead>\n",
       "    <tr style=\"text-align: right;\">\n",
       "      <th></th>\n",
       "      <th>user_id</th>\n",
       "      <th>group</th>\n",
       "    </tr>\n",
       "  </thead>\n",
       "  <tbody>\n",
       "  </tbody>\n",
       "</table>\n",
       "</div>"
      ],
      "text/plain": [
       "Empty DataFrame\n",
       "Columns: [user_id, group]\n",
       "Index: []"
      ]
     },
     "execution_count": 47,
     "metadata": {},
     "output_type": "execute_result"
    }
   ],
   "source": [
    "# проверка на пересечение пользователей по группам\n",
    "logs.groupby('user_id', as_index=False)['group'].nunique().query('group > 1')"
   ]
  },
  {
   "cell_type": "code",
   "execution_count": 48,
   "metadata": {},
   "outputs": [
    {
     "data": {
      "text/html": [
       "<div>\n",
       "<style scoped>\n",
       "    .dataframe tbody tr th:only-of-type {\n",
       "        vertical-align: middle;\n",
       "    }\n",
       "\n",
       "    .dataframe tbody tr th {\n",
       "        vertical-align: top;\n",
       "    }\n",
       "\n",
       "    .dataframe thead th {\n",
       "        text-align: right;\n",
       "    }\n",
       "</style>\n",
       "<table border=\"1\" class=\"dataframe\">\n",
       "  <thead>\n",
       "    <tr style=\"text-align: right;\">\n",
       "      <th></th>\n",
       "      <th>group</th>\n",
       "      <th>user_id</th>\n",
       "    </tr>\n",
       "  </thead>\n",
       "  <tbody>\n",
       "    <tr>\n",
       "      <th>0</th>\n",
       "      <td>246</td>\n",
       "      <td>2484</td>\n",
       "    </tr>\n",
       "    <tr>\n",
       "      <th>1</th>\n",
       "      <td>247</td>\n",
       "      <td>2513</td>\n",
       "    </tr>\n",
       "    <tr>\n",
       "      <th>2</th>\n",
       "      <td>248</td>\n",
       "      <td>2537</td>\n",
       "    </tr>\n",
       "  </tbody>\n",
       "</table>\n",
       "</div>"
      ],
      "text/plain": [
       "   group  user_id\n",
       "0    246     2484\n",
       "1    247     2513\n",
       "2    248     2537"
      ]
     },
     "execution_count": 48,
     "metadata": {},
     "output_type": "execute_result"
    }
   ],
   "source": [
    "logs.groupby('group', as_index=False).agg({'user_id':'nunique'})"
   ]
  },
  {
   "cell_type": "markdown",
   "metadata": {},
   "source": [
    "**Вывод:** Во всех группах примерно одинаковое количество пользователей, которые не пересекаются между собой."
   ]
  },
  {
   "cell_type": "markdown",
   "metadata": {},
   "source": [
    "## Воронки событий\n",
    "- **Частота событий**  \n",
    "\n",
    "Посмотрим, какие события есть в логах, как часто они встречаются. Для этого сгруппируем логи по типу события, подсчитаем частоту каждого события и количество уникальных пользователей, совершивших это событие."
   ]
  },
  {
   "cell_type": "code",
   "execution_count": 50,
   "metadata": {},
   "outputs": [
    {
     "data": {
      "text/html": [
       "<div>\n",
       "<style scoped>\n",
       "    .dataframe tbody tr th:only-of-type {\n",
       "        vertical-align: middle;\n",
       "    }\n",
       "\n",
       "    .dataframe tbody tr th {\n",
       "        vertical-align: top;\n",
       "    }\n",
       "\n",
       "    .dataframe thead th {\n",
       "        text-align: right;\n",
       "    }\n",
       "</style>\n",
       "<table border=\"1\" class=\"dataframe\">\n",
       "  <thead>\n",
       "    <tr style=\"text-align: right;\">\n",
       "      <th></th>\n",
       "      <th>event_name</th>\n",
       "      <th>total_events</th>\n",
       "      <th>total_users</th>\n",
       "    </tr>\n",
       "  </thead>\n",
       "  <tbody>\n",
       "    <tr>\n",
       "      <th>1</th>\n",
       "      <td>MainScreenAppear</td>\n",
       "      <td>117328</td>\n",
       "      <td>7419</td>\n",
       "    </tr>\n",
       "    <tr>\n",
       "      <th>2</th>\n",
       "      <td>OffersScreenAppear</td>\n",
       "      <td>46333</td>\n",
       "      <td>4593</td>\n",
       "    </tr>\n",
       "    <tr>\n",
       "      <th>0</th>\n",
       "      <td>CartScreenAppear</td>\n",
       "      <td>42303</td>\n",
       "      <td>3734</td>\n",
       "    </tr>\n",
       "    <tr>\n",
       "      <th>3</th>\n",
       "      <td>PaymentScreenSuccessful</td>\n",
       "      <td>33918</td>\n",
       "      <td>3539</td>\n",
       "    </tr>\n",
       "    <tr>\n",
       "      <th>4</th>\n",
       "      <td>Tutorial</td>\n",
       "      <td>1005</td>\n",
       "      <td>840</td>\n",
       "    </tr>\n",
       "  </tbody>\n",
       "</table>\n",
       "</div>"
      ],
      "text/plain": [
       "                event_name  total_events  total_users\n",
       "1         MainScreenAppear        117328         7419\n",
       "2       OffersScreenAppear         46333         4593\n",
       "0         CartScreenAppear         42303         3734\n",
       "3  PaymentScreenSuccessful         33918         3539\n",
       "4                 Tutorial          1005          840"
      ]
     },
     "execution_count": 50,
     "metadata": {},
     "output_type": "execute_result"
    }
   ],
   "source": [
    "# группируем данные по названию события\n",
    "# считаем частоту каждого события\n",
    "# и количество уникальных пользователей, совершивших это событие\n",
    "events_grouped = (logs.\n",
    "                  groupby('event_name').\n",
    "                  agg({'event_name':'count','user_id': 'nunique'}).\n",
    "                  rename(columns={'event_name':'total_events', 'user_id':'total_users'}).\n",
    "                  reset_index().\n",
    "                  sort_values(by='total_events', ascending=False))\n",
    "events_grouped"
   ]
  },
  {
   "cell_type": "code",
   "execution_count": 51,
   "metadata": {},
   "outputs": [
    {
     "data": {
      "image/png": "[encoded data removed]",
      "text/plain": [
       "<Figure size 864x288 with 1 Axes>"
      ]
     },
     "metadata": {
      "needs_background": "light"
     },
     "output_type": "display_data"
    }
   ],
   "source": [
    "plt.figure(figsize=(12,4))\n",
    "ax = sns.barplot(y=events_grouped['event_name'], x=events_grouped['total_events'], palette=colors)\n",
    "ax.set_title('Частота событий')\n",
    "ax.set_xlabel('Количество событий')\n",
    "ax.set_ylabel('Название события')\n",
    "plt.grid()\n",
    "plt.show()"
   ]
  },
  {
   "cell_type": "markdown",
   "metadata": {},
   "source": [
    "**Вывод:** Наиболее часто встречаемое событие - главная страница (`MainScreenAppear`), ее посетили 117889 раз. Далее идет каталог товаров/услуг (`OffersScreenAppear`) - 46531 раз. Страница с карточкой товара (`CartScreenAppear`) - 42343 раз. Страница с подтверждением оплаты (`PaymentScreenSuccessful`) - 33951 раз, страницу с инструкцией/обучающими материалам (`Tutorial`) посетили всего 1010 пользователей."
   ]
  },
  {
   "cell_type": "markdown",
   "metadata": {},
   "source": [
    "* **События по числу пользователей**  \n",
    "\n",
    "Посчитаем, сколько пользователей совершали каждое из этих событий и долю пользователей, которые хоть раз совершали событие."
   ]
  },
  {
   "cell_type": "code",
   "execution_count": 31,
   "metadata": {},
   "outputs": [],
   "source": [
    "#after_users"
   ]
  },
  {
   "cell_type": "code",
   "execution_count": 52,
   "metadata": {},
   "outputs": [
    {
     "data": {
      "text/html": [
       "<div>\n",
       "<style scoped>\n",
       "    .dataframe tbody tr th:only-of-type {\n",
       "        vertical-align: middle;\n",
       "    }\n",
       "\n",
       "    .dataframe tbody tr th {\n",
       "        vertical-align: top;\n",
       "    }\n",
       "\n",
       "    .dataframe thead th {\n",
       "        text-align: right;\n",
       "    }\n",
       "</style>\n",
       "<table border=\"1\" class=\"dataframe\">\n",
       "  <thead>\n",
       "    <tr style=\"text-align: right;\">\n",
       "      <th></th>\n",
       "      <th>event_name</th>\n",
       "      <th>total_events</th>\n",
       "      <th>total_users</th>\n",
       "      <th>one_event</th>\n",
       "    </tr>\n",
       "  </thead>\n",
       "  <tbody>\n",
       "    <tr>\n",
       "      <th>0</th>\n",
       "      <td>MainScreenAppear</td>\n",
       "      <td>117328</td>\n",
       "      <td>7419</td>\n",
       "      <td>98.47</td>\n",
       "    </tr>\n",
       "    <tr>\n",
       "      <th>1</th>\n",
       "      <td>OffersScreenAppear</td>\n",
       "      <td>46333</td>\n",
       "      <td>4593</td>\n",
       "      <td>60.96</td>\n",
       "    </tr>\n",
       "    <tr>\n",
       "      <th>2</th>\n",
       "      <td>CartScreenAppear</td>\n",
       "      <td>42303</td>\n",
       "      <td>3734</td>\n",
       "      <td>49.56</td>\n",
       "    </tr>\n",
       "    <tr>\n",
       "      <th>3</th>\n",
       "      <td>PaymentScreenSuccessful</td>\n",
       "      <td>33918</td>\n",
       "      <td>3539</td>\n",
       "      <td>46.97</td>\n",
       "    </tr>\n",
       "    <tr>\n",
       "      <th>4</th>\n",
       "      <td>Tutorial</td>\n",
       "      <td>1005</td>\n",
       "      <td>840</td>\n",
       "      <td>11.15</td>\n",
       "    </tr>\n",
       "  </tbody>\n",
       "</table>\n",
       "</div>"
      ],
      "text/plain": [
       "                event_name  total_events  total_users  one_event\n",
       "0         MainScreenAppear        117328         7419      98.47\n",
       "1       OffersScreenAppear         46333         4593      60.96\n",
       "2         CartScreenAppear         42303         3734      49.56\n",
       "3  PaymentScreenSuccessful         33918         3539      46.97\n",
       "4                 Tutorial          1005          840      11.15"
      ]
     },
     "execution_count": 52,
     "metadata": {},
     "output_type": "execute_result"
    }
   ],
   "source": [
    "# делим количество пользователей, совершивших конкретное событие, на общее число уникальных пользователей\n",
    "events_grouped['one_event'] = round((events_grouped['total_users'] / logs['user_id'].nunique())*100.0, 2)\n",
    "events_grouped = events_grouped.sort_values('total_users', ascending=False).reset_index(drop=True)\n",
    "events_grouped"
   ]
  },
  {
   "cell_type": "markdown",
   "metadata": {},
   "source": [
    "**Вывод:** Главную страницу посетили 7419 пользователей (98.5% от общего числа пользователей). Каталог товаров - почти 61% от общего числа (4593 пользователя). Страницу с карточкой товара - почти 50% пользователей. Совершили оплату - почти 47%. Страницу с инструкцией/обучающими материалам - всего 11% от общего количества.  \n",
    "  \n",
    "\n",
    "* **Порядок событий**  \n",
    "\n",
    "Небольшое количество пользователей, просмотревших страницу с инструкцией, говорит о том, что данная опция необязательная. Большая часть пользователей успевает закрыть эту страницу до того, как ее просмотр успеет попасть в логи. После этого пользователи попадают на стартовую страницу и общий порядок событий имеет следующий вид: \n",
    " * Главная страница\n",
    " * Каталог товаров/услуг\n",
    " * Карточка товара\n",
    " * Страница с подтверждением оплаты.\n",
    "\n",
    "Соответственно, пользователи, прошедшие Tutorial по умолчанию попадают на главную страницу (MainScreenAppear). Следовательно группа пользователей из Tutorial входит в группу пользователей, поучаствовавших в событии MainScreenAppear.  \n",
    "Удалим из рассмотрения пользователей, входящих в Tutorial.\n",
    "\n"
   ]
  },
  {
   "cell_type": "code",
   "execution_count": 53,
   "metadata": {},
   "outputs": [
    {
     "data": {
      "text/html": [
       "<div>\n",
       "<style scoped>\n",
       "    .dataframe tbody tr th:only-of-type {\n",
       "        vertical-align: middle;\n",
       "    }\n",
       "\n",
       "    .dataframe tbody tr th {\n",
       "        vertical-align: top;\n",
       "    }\n",
       "\n",
       "    .dataframe thead th {\n",
       "        text-align: right;\n",
       "    }\n",
       "</style>\n",
       "<table border=\"1\" class=\"dataframe\">\n",
       "  <thead>\n",
       "    <tr style=\"text-align: right;\">\n",
       "      <th></th>\n",
       "      <th>event_name</th>\n",
       "      <th>total_events</th>\n",
       "      <th>total_users</th>\n",
       "      <th>one_event</th>\n",
       "    </tr>\n",
       "  </thead>\n",
       "  <tbody>\n",
       "    <tr>\n",
       "      <th>0</th>\n",
       "      <td>MainScreenAppear</td>\n",
       "      <td>117328</td>\n",
       "      <td>7419</td>\n",
       "      <td>98.47</td>\n",
       "    </tr>\n",
       "    <tr>\n",
       "      <th>1</th>\n",
       "      <td>OffersScreenAppear</td>\n",
       "      <td>46333</td>\n",
       "      <td>4593</td>\n",
       "      <td>60.96</td>\n",
       "    </tr>\n",
       "    <tr>\n",
       "      <th>2</th>\n",
       "      <td>CartScreenAppear</td>\n",
       "      <td>42303</td>\n",
       "      <td>3734</td>\n",
       "      <td>49.56</td>\n",
       "    </tr>\n",
       "    <tr>\n",
       "      <th>3</th>\n",
       "      <td>PaymentScreenSuccessful</td>\n",
       "      <td>33918</td>\n",
       "      <td>3539</td>\n",
       "      <td>46.97</td>\n",
       "    </tr>\n",
       "  </tbody>\n",
       "</table>\n",
       "</div>"
      ],
      "text/plain": [
       "                event_name  total_events  total_users  one_event\n",
       "0         MainScreenAppear        117328         7419      98.47\n",
       "1       OffersScreenAppear         46333         4593      60.96\n",
       "2         CartScreenAppear         42303         3734      49.56\n",
       "3  PaymentScreenSuccessful         33918         3539      46.97"
      ]
     },
     "execution_count": 53,
     "metadata": {},
     "output_type": "execute_result"
    }
   ],
   "source": [
    "events_grouped = events_grouped.query('event_name != \"Tutorial\"')\n",
    "events_grouped"
   ]
  },
  {
   "cell_type": "markdown",
   "metadata": {},
   "source": [
    "* **Доля пользователей, перешедших на следующий шаг, потеря пользователей, доля пользователей, дошедших до оплаты**  \n",
    "\n",
    "По воронке событий посчитаем, какая доля пользователей проходит на следующий шаг воронки (от числа пользователей на предыдущем). "
   ]
  },
  {
   "cell_type": "code",
   "execution_count": 54,
   "metadata": {},
   "outputs": [
    {
     "name": "stderr",
     "output_type": "stream",
     "text": [
      "/tmp/ipykernel_31/1133523050.py:2: SettingWithCopyWarning: \n",
      "A value is trying to be set on a copy of a slice from a DataFrame.\n",
      "Try using .loc[row_indexer,col_indexer] = value instead\n",
      "\n",
      "See the caveats in the documentation: https://pandas.pydata.org/pandas-docs/stable/user_guide/indexing.html#returning-a-view-versus-a-copy\n",
      "  events_grouped['funnel'] = 1\n",
      "/opt/conda/lib/python3.9/site-packages/pandas/core/indexing.py:1720: SettingWithCopyWarning: \n",
      "A value is trying to be set on a copy of a slice from a DataFrame.\n",
      "Try using .loc[row_indexer,col_indexer] = value instead\n",
      "\n",
      "See the caveats in the documentation: https://pandas.pydata.org/pandas-docs/stable/user_guide/indexing.html#returning-a-view-versus-a-copy\n",
      "  self._setitem_single_column(loc, value, pi)\n"
     ]
    },
    {
     "data": {
      "text/html": [
       "<div>\n",
       "<style scoped>\n",
       "    .dataframe tbody tr th:only-of-type {\n",
       "        vertical-align: middle;\n",
       "    }\n",
       "\n",
       "    .dataframe tbody tr th {\n",
       "        vertical-align: top;\n",
       "    }\n",
       "\n",
       "    .dataframe thead th {\n",
       "        text-align: right;\n",
       "    }\n",
       "</style>\n",
       "<table border=\"1\" class=\"dataframe\">\n",
       "  <thead>\n",
       "    <tr style=\"text-align: right;\">\n",
       "      <th></th>\n",
       "      <th>event_name</th>\n",
       "      <th>total_events</th>\n",
       "      <th>total_users</th>\n",
       "      <th>one_event</th>\n",
       "      <th>funnel</th>\n",
       "    </tr>\n",
       "  </thead>\n",
       "  <tbody>\n",
       "    <tr>\n",
       "      <th>0</th>\n",
       "      <td>MainScreenAppear</td>\n",
       "      <td>117328</td>\n",
       "      <td>7419</td>\n",
       "      <td>98.47</td>\n",
       "      <td>1.00</td>\n",
       "    </tr>\n",
       "    <tr>\n",
       "      <th>1</th>\n",
       "      <td>OffersScreenAppear</td>\n",
       "      <td>46333</td>\n",
       "      <td>4593</td>\n",
       "      <td>60.96</td>\n",
       "      <td>0.62</td>\n",
       "    </tr>\n",
       "    <tr>\n",
       "      <th>2</th>\n",
       "      <td>CartScreenAppear</td>\n",
       "      <td>42303</td>\n",
       "      <td>3734</td>\n",
       "      <td>49.56</td>\n",
       "      <td>0.81</td>\n",
       "    </tr>\n",
       "    <tr>\n",
       "      <th>3</th>\n",
       "      <td>PaymentScreenSuccessful</td>\n",
       "      <td>33918</td>\n",
       "      <td>3539</td>\n",
       "      <td>46.97</td>\n",
       "      <td>0.95</td>\n",
       "    </tr>\n",
       "  </tbody>\n",
       "</table>\n",
       "</div>"
      ],
      "text/plain": [
       "                event_name  total_events  total_users  one_event  funnel\n",
       "0         MainScreenAppear        117328         7419      98.47    1.00\n",
       "1       OffersScreenAppear         46333         4593      60.96    0.62\n",
       "2         CartScreenAppear         42303         3734      49.56    0.81\n",
       "3  PaymentScreenSuccessful         33918         3539      46.97    0.95"
      ]
     },
     "execution_count": 54,
     "metadata": {},
     "output_type": "execute_result"
    }
   ],
   "source": [
    "# считаем, какая доля пользователей переходит на следующий шаг воронки от числа на предыдущем шаге\n",
    "events_grouped['funnel'] = 1\n",
    "for i in range(1, 4):\n",
    "    events_grouped.loc[i, 'funnel'] = events_grouped.loc[i, 'total_users'] /  (events_grouped.loc[i-1, 'total_users'])\n",
    "events_grouped"
   ]
  },
  {
   "cell_type": "code",
   "execution_count": 55,
   "metadata": {},
   "outputs": [
    {
     "data": {
      "image/png": "[encoded data removed]",
      "text/plain": [
       "<Figure size 1080x288 with 1 Axes>"
      ]
     },
     "metadata": {
      "needs_background": "light"
     },
     "output_type": "display_data"
    }
   ],
   "source": [
    "plt.figure(figsize=(15,4))\n",
    "ax = sns.barplot(y=events_grouped['event_name'], x=events_grouped['total_users'], palette=colors)\n",
    "ax.set_title('Этапы движения пользователей')\n",
    "ax.set_xlabel('Количество пользователей')\n",
    "ax.set_ylabel('Название события')\n",
    "plt.grid()\n",
    "plt.show()"
   ]
  },
  {
   "cell_type": "code",
   "execution_count": 76,
   "metadata": {},
   "outputs": [
    {
     "data": {
      "application/vnd.plotly.v1+json": {
       "config": {
        "plotlyServerURL": "https://plot.ly"
       },
       "data": [
        {
         "marker": {
          "color": [
           "deepskyblue",
           "lightsalmon",
           "tan",
           "teal",
           "silver"
          ]
         },
         "opacity": 0.9,
         "textinfo": "value+percent previous",
         "textposition": "inside",
         "type": "funnel",
         "x": [
          7419,
          4593,
          3734,
          3539
         ],
         "y": [
          "MainScreenAppear",
          "OffersScreenAppear",
          "CartScreenAppear",
          "PaymentScreenSuccessful"
         ]
        }
       ],
       "layout": {
        "template": {
         "data": {
          "bar": [
           {
            "error_x": {
             "color": "#2a3f5f"
            },
            "error_y": {
             "color": "#2a3f5f"
            },
            "marker": {
             "line": {
              "color": "#E5ECF6",
              "width": 0.5
             },
             "pattern": {
              "fillmode": "overlay",
              "size": 10,
              "solidity": 0.2
             }
            },
            "type": "bar"
           }
          ],
          "barpolar": [
           {
            "marker": {
             "line": {
              "color": "#E5ECF6",
              "width": 0.5
             },
             "pattern": {
              "fillmode": "overlay",
              "size": 10,
              "solidity": 0.2
             }
            },
            "type": "barpolar"
           }
          ],
          "carpet": [
           {
            "aaxis": {
             "endlinecolor": "#2a3f5f",
             "gridcolor": "white",
             "linecolor": "white",
             "minorgridcolor": "white",
             "startlinecolor": "#2a3f5f"
            },
            "baxis": {
             "endlinecolor": "#2a3f5f",
             "gridcolor": "white",
             "linecolor": "white",
             "minorgridcolor": "white",
             "startlinecolor": "#2a3f5f"
            },
            "type": "carpet"
           }
          ],
          "choropleth": [
           {
            "colorbar": {
             "outlinewidth": 0,
             "ticks": ""
            },
            "type": "choropleth"
           }
          ],
          "contour": [
           {
            "colorbar": {
             "outlinewidth": 0,
             "ticks": ""
            },
            "colorscale": [
             [
              0,
              "#0d0887"
             ],
             [
              0.1111111111111111,
              "#46039f"
             ],
             [
              0.2222222222222222,
              "#7201a8"
             ],
             [
              0.3333333333333333,
              "#9c179e"
             ],
             [
              0.4444444444444444,
              "#bd3786"
             ],
             [
              0.5555555555555556,
              "#d8576b"
             ],
             [
              0.6666666666666666,
              "#ed7953"
             ],
             [
              0.7777777777777778,
              "#fb9f3a"
             ],
             [
              0.8888888888888888,
              "#fdca26"
             ],
             [
              1,
              "#f0f921"
             ]
            ],
            "type": "contour"
           }
          ],
          "contourcarpet": [
           {
            "colorbar": {
             "outlinewidth": 0,
             "ticks": ""
            },
            "type": "contourcarpet"
           }
          ],
          "heatmap": [
           {
            "colorbar": {
             "outlinewidth": 0,
             "ticks": ""
            },
            "colorscale": [
             [
              0,
              "#0d0887"
             ],
             [
              0.1111111111111111,
              "#46039f"
             ],
             [
              0.2222222222222222,
              "#7201a8"
             ],
             [
              0.3333333333333333,
              "#9c179e"
             ],
             [
              0.4444444444444444,
              "#bd3786"
             ],
             [
              0.5555555555555556,
              "#d8576b"
             ],
             [
              0.6666666666666666,
              "#ed7953"
             ],
             [
              0.7777777777777778,
              "#fb9f3a"
             ],
             [
              0.8888888888888888,
              "#fdca26"
             ],
             [
              1,
              "#f0f921"
             ]
            ],
            "type": "heatmap"
           }
          ],
          "heatmapgl": [
           {
            "colorbar": {
             "outlinewidth": 0,
             "ticks": ""
            },
            "colorscale": [
             [
              0,
              "#0d0887"
             ],
             [
              0.1111111111111111,
              "#46039f"
             ],
             [
              0.2222222222222222,
              "#7201a8"
             ],
             [
              0.3333333333333333,
              "#9c179e"
             ],
             [
              0.4444444444444444,
              "#bd3786"
             ],
             [
              0.5555555555555556,
              "#d8576b"
             ],
             [
              0.6666666666666666,
              "#ed7953"
             ],
             [
              0.7777777777777778,
              "#fb9f3a"
             ],
             [
              0.8888888888888888,
              "#fdca26"
             ],
             [
              1,
              "#f0f921"
             ]
            ],
            "type": "heatmapgl"
           }
          ],
          "histogram": [
           {
            "marker": {
             "pattern": {
              "fillmode": "overlay",
              "size": 10,
              "solidity": 0.2
             }
            },
            "type": "histogram"
           }
          ],
          "histogram2d": [
           {
            "colorbar": {
             "outlinewidth": 0,
             "ticks": ""
            },
            "colorscale": [
             [
              0,
              "#0d0887"
             ],
             [
              0.1111111111111111,
              "#46039f"
             ],
             [
              0.2222222222222222,
              "#7201a8"
             ],
             [
              0.3333333333333333,
              "#9c179e"
             ],
             [
              0.4444444444444444,
              "#bd3786"
             ],
             [
              0.5555555555555556,
              "#d8576b"
             ],
             [
              0.6666666666666666,
              "#ed7953"
             ],
             [
              0.7777777777777778,
              "#fb9f3a"
             ],
             [
              0.8888888888888888,
              "#fdca26"
             ],
             [
              1,
              "#f0f921"
             ]
            ],
            "type": "histogram2d"
           }
          ],
          "histogram2dcontour": [
           {
            "colorbar": {
             "outlinewidth": 0,
             "ticks": ""
            },
            "colorscale": [
             [
              0,
              "#0d0887"
             ],
             [
              0.1111111111111111,
              "#46039f"
             ],
             [
              0.2222222222222222,
              "#7201a8"
             ],
             [
              0.3333333333333333,
              "#9c179e"
             ],
             [
              0.4444444444444444,
              "#bd3786"
             ],
             [
              0.5555555555555556,
              "#d8576b"
             ],
             [
              0.6666666666666666,
              "#ed7953"
             ],
             [
              0.7777777777777778,
              "#fb9f3a"
             ],
             [
              0.8888888888888888,
              "#fdca26"
             ],
             [
              1,
              "#f0f921"
             ]
            ],
            "type": "histogram2dcontour"
           }
          ],
          "mesh3d": [
           {
            "colorbar": {
             "outlinewidth": 0,
             "ticks": ""
            },
            "type": "mesh3d"
           }
          ],
          "parcoords": [
           {
            "line": {
             "colorbar": {
              "outlinewidth": 0,
              "ticks": ""
             }
            },
            "type": "parcoords"
           }
          ],
          "pie": [
           {
            "automargin": true,
            "type": "pie"
           }
          ],
          "scatter": [
           {
            "marker": {
             "colorbar": {
              "outlinewidth": 0,
              "ticks": ""
             }
            },
            "type": "scatter"
           }
          ],
          "scatter3d": [
           {
            "line": {
             "colorbar": {
              "outlinewidth": 0,
              "ticks": ""
             }
            },
            "marker": {
             "colorbar": {
              "outlinewidth": 0,
              "ticks": ""
             }
            },
            "type": "scatter3d"
           }
          ],
          "scattercarpet": [
           {
            "marker": {
             "colorbar": {
              "outlinewidth": 0,
              "ticks": ""
             }
            },
            "type": "scattercarpet"
           }
          ],
          "scattergeo": [
           {
            "marker": {
             "colorbar": {
              "outlinewidth": 0,
              "ticks": ""
             }
            },
            "type": "scattergeo"
           }
          ],
          "scattergl": [
           {
            "marker": {
             "colorbar": {
              "outlinewidth": 0,
              "ticks": ""
             }
            },
            "type": "scattergl"
           }
          ],
          "scattermapbox": [
           {
            "marker": {
             "colorbar": {
              "outlinewidth": 0,
              "ticks": ""
             }
            },
            "type": "scattermapbox"
           }
          ],
          "scatterpolar": [
           {
            "marker": {
             "colorbar": {
              "outlinewidth": 0,
              "ticks": ""
             }
            },
            "type": "scatterpolar"
           }
          ],
          "scatterpolargl": [
           {
            "marker": {
             "colorbar": {
              "outlinewidth": 0,
              "ticks": ""
             }
            },
            "type": "scatterpolargl"
           }
          ],
          "scatterternary": [
           {
            "marker": {
             "colorbar": {
              "outlinewidth": 0,
              "ticks": ""
             }
            },
            "type": "scatterternary"
           }
          ],
          "surface": [
           {
            "colorbar": {
             "outlinewidth": 0,
             "ticks": ""
            },
            "colorscale": [
             [
              0,
              "#0d0887"
             ],
             [
              0.1111111111111111,
              "#46039f"
             ],
             [
              0.2222222222222222,
              "#7201a8"
             ],
             [
              0.3333333333333333,
              "#9c179e"
             ],
             [
              0.4444444444444444,
              "#bd3786"
             ],
             [
              0.5555555555555556,
              "#d8576b"
             ],
             [
              0.6666666666666666,
              "#ed7953"
             ],
             [
              0.7777777777777778,
              "#fb9f3a"
             ],
             [
              0.8888888888888888,
              "#fdca26"
             ],
             [
              1,
              "#f0f921"
             ]
            ],
            "type": "surface"
           }
          ],
          "table": [
           {
            "cells": {
             "fill": {
              "color": "#EBF0F8"
             },
             "line": {
              "color": "white"
             }
            },
            "header": {
             "fill": {
              "color": "#C8D4E3"
             },
             "line": {
              "color": "white"
             }
            },
            "type": "table"
           }
          ]
         },
         "layout": {
          "annotationdefaults": {
           "arrowcolor": "#2a3f5f",
           "arrowhead": 0,
           "arrowwidth": 1
          },
          "autotypenumbers": "strict",
          "coloraxis": {
           "colorbar": {
            "outlinewidth": 0,
            "ticks": ""
           }
          },
          "colorscale": {
           "diverging": [
            [
             0,
             "#8e0152"
            ],
            [
             0.1,
             "#c51b7d"
            ],
            [
             0.2,
             "#de77ae"
            ],
            [
             0.3,
             "#f1b6da"
            ],
            [
             0.4,
             "#fde0ef"
            ],
            [
             0.5,
             "#f7f7f7"
            ],
            [
             0.6,
             "#e6f5d0"
            ],
            [
             0.7,
             "#b8e186"
            ],
            [
             0.8,
             "#7fbc41"
            ],
            [
             0.9,
             "#4d9221"
            ],
            [
             1,
             "#276419"
            ]
           ],
           "sequential": [
            [
             0,
             "#0d0887"
            ],
            [
             0.1111111111111111,
             "#46039f"
            ],
            [
             0.2222222222222222,
             "#7201a8"
            ],
            [
             0.3333333333333333,
             "#9c179e"
            ],
            [
             0.4444444444444444,
             "#bd3786"
            ],
            [
             0.5555555555555556,
             "#d8576b"
            ],
            [
             0.6666666666666666,
             "#ed7953"
            ],
            [
             0.7777777777777778,
             "#fb9f3a"
            ],
            [
             0.8888888888888888,
             "#fdca26"
            ],
            [
             1,
             "#f0f921"
            ]
           ],
           "sequentialminus": [
            [
             0,
             "#0d0887"
            ],
            [
             0.1111111111111111,
             "#46039f"
            ],
            [
             0.2222222222222222,
             "#7201a8"
            ],
            [
             0.3333333333333333,
             "#9c179e"
            ],
            [
             0.4444444444444444,
             "#bd3786"
            ],
            [
             0.5555555555555556,
             "#d8576b"
            ],
            [
             0.6666666666666666,
             "#ed7953"
            ],
            [
             0.7777777777777778,
             "#fb9f3a"
            ],
            [
             0.8888888888888888,
             "#fdca26"
            ],
            [
             1,
             "#f0f921"
            ]
           ]
          },
          "colorway": [
           "#636efa",
           "#EF553B",
           "#00cc96",
           "#ab63fa",
           "#FFA15A",
           "#19d3f3",
           "#FF6692",
           "#B6E880",
           "#FF97FF",
           "#FECB52"
          ],
          "font": {
           "color": "#2a3f5f"
          },
          "geo": {
           "bgcolor": "white",
           "lakecolor": "white",
           "landcolor": "#E5ECF6",
           "showlakes": true,
           "showland": true,
           "subunitcolor": "white"
          },
          "hoverlabel": {
           "align": "left"
          },
          "hovermode": "closest",
          "mapbox": {
           "style": "light"
          },
          "paper_bgcolor": "white",
          "plot_bgcolor": "#E5ECF6",
          "polar": {
           "angularaxis": {
            "gridcolor": "white",
            "linecolor": "white",
            "ticks": ""
           },
           "bgcolor": "#E5ECF6",
           "radialaxis": {
            "gridcolor": "white",
            "linecolor": "white",
            "ticks": ""
           }
          },
          "scene": {
           "xaxis": {
            "backgroundcolor": "#E5ECF6",
            "gridcolor": "white",
            "gridwidth": 2,
            "linecolor": "white",
            "showbackground": true,
            "ticks": "",
            "zerolinecolor": "white"
           },
           "yaxis": {
            "backgroundcolor": "#E5ECF6",
            "gridcolor": "white",
            "gridwidth": 2,
            "linecolor": "white",
            "showbackground": true,
            "ticks": "",
            "zerolinecolor": "white"
           },
           "zaxis": {
            "backgroundcolor": "#E5ECF6",
            "gridcolor": "white",
            "gridwidth": 2,
            "linecolor": "white",
            "showbackground": true,
            "ticks": "",
            "zerolinecolor": "white"
           }
          },
          "shapedefaults": {
           "line": {
            "color": "#2a3f5f"
           }
          },
          "ternary": {
           "aaxis": {
            "gridcolor": "white",
            "linecolor": "white",
            "ticks": ""
           },
           "baxis": {
            "gridcolor": "white",
            "linecolor": "white",
            "ticks": ""
           },
           "bgcolor": "#E5ECF6",
           "caxis": {
            "gridcolor": "white",
            "linecolor": "white",
            "ticks": ""
           }
          },
          "title": {
           "x": 0.05
          },
          "xaxis": {
           "automargin": true,
           "gridcolor": "white",
           "linecolor": "white",
           "ticks": "",
           "title": {
            "standoff": 15
           },
           "zerolinecolor": "white",
           "zerolinewidth": 2
          },
          "yaxis": {
           "automargin": true,
           "gridcolor": "white",
           "linecolor": "white",
           "ticks": "",
           "title": {
            "standoff": 15
           },
           "zerolinecolor": "white",
           "zerolinewidth": 2
          }
         }
        },
        "title": {
         "text": "Воронка событий"
        }
       }
      },
      "text/html": [
       "<div>                            <div id=\"87e6ded3-d251-48ae-b038-d49e884bc56e\" class=\"plotly-graph-div\" style=\"height:525px; width:100%;\"></div>            <script type=\"text/javascript\">                require([\"plotly\"], function(Plotly) {                    window.PLOTLYENV=window.PLOTLYENV || {};                                    if (document.getElementById(\"87e6ded3-d251-48ae-b038-d49e884bc56e\")) {                    Plotly.newPlot(                        \"87e6ded3-d251-48ae-b038-d49e884bc56e\",                        [{\"marker\":{\"color\":[\"deepskyblue\",\"lightsalmon\",\"tan\",\"teal\",\"silver\"]},\"opacity\":0.9,\"textinfo\":\"value+percent previous\",\"textposition\":\"inside\",\"x\":[7419,4593,3734,3539],\"y\":[\"MainScreenAppear\",\"OffersScreenAppear\",\"CartScreenAppear\",\"PaymentScreenSuccessful\"],\"type\":\"funnel\"}],                        {\"template\":{\"data\":{\"bar\":[{\"error_x\":{\"color\":\"#2a3f5f\"},\"error_y\":{\"color\":\"#2a3f5f\"},\"marker\":{\"line\":{\"color\":\"#E5ECF6\",\"width\":0.5},\"pattern\":{\"fillmode\":\"overlay\",\"size\":10,\"solidity\":0.2}},\"type\":\"bar\"}],\"barpolar\":[{\"marker\":{\"line\":{\"color\":\"#E5ECF6\",\"width\":0.5},\"pattern\":{\"fillmode\":\"overlay\",\"size\":10,\"solidity\":0.2}},\"type\":\"barpolar\"}],\"carpet\":[{\"aaxis\":{\"endlinecolor\":\"#2a3f5f\",\"gridcolor\":\"white\",\"linecolor\":\"white\",\"minorgridcolor\":\"white\",\"startlinecolor\":\"#2a3f5f\"},\"baxis\":{\"endlinecolor\":\"#2a3f5f\",\"gridcolor\":\"white\",\"linecolor\":\"white\",\"minorgridcolor\":\"white\",\"startlinecolor\":\"#2a3f5f\"},\"type\":\"carpet\"}],\"choropleth\":[{\"colorbar\":{\"outlinewidth\":0,\"ticks\":\"\"},\"type\":\"choropleth\"}],\"contour\":[{\"colorbar\":{\"outlinewidth\":0,\"ticks\":\"\"},\"colorscale\":[[0.0,\"#0d0887\"],[0.1111111111111111,\"#46039f\"],[0.2222222222222222,\"#7201a8\"],[0.3333333333333333,\"#9c179e\"],[0.4444444444444444,\"#bd3786\"],[0.5555555555555556,\"#d8576b\"],[0.6666666666666666,\"#ed7953\"],[0.7777777777777778,\"#fb9f3a\"],[0.8888888888888888,\"#fdca26\"],[1.0,\"#f0f921\"]],\"type\":\"contour\"}],\"contourcarpet\":[{\"colorbar\":{\"outlinewidth\":0,\"ticks\":\"\"},\"type\":\"contourcarpet\"}],\"heatmap\":[{\"colorbar\":{\"outlinewidth\":0,\"ticks\":\"\"},\"colorscale\":[[0.0,\"#0d0887\"],[0.1111111111111111,\"#46039f\"],[0.2222222222222222,\"#7201a8\"],[0.3333333333333333,\"#9c179e\"],[0.4444444444444444,\"#bd3786\"],[0.5555555555555556,\"#d8576b\"],[0.6666666666666666,\"#ed7953\"],[0.7777777777777778,\"#fb9f3a\"],[0.8888888888888888,\"#fdca26\"],[1.0,\"#f0f921\"]],\"type\":\"heatmap\"}],\"heatmapgl\":[{\"colorbar\":{\"outlinewidth\":0,\"ticks\":\"\"},\"colorscale\":[[0.0,\"#0d0887\"],[0.1111111111111111,\"#46039f\"],[0.2222222222222222,\"#7201a8\"],[0.3333333333333333,\"#9c179e\"],[0.4444444444444444,\"#bd3786\"],[0.5555555555555556,\"#d8576b\"],[0.6666666666666666,\"#ed7953\"],[0.7777777777777778,\"#fb9f3a\"],[0.8888888888888888,\"#fdca26\"],[1.0,\"#f0f921\"]],\"type\":\"heatmapgl\"}],\"histogram\":[{\"marker\":{\"pattern\":{\"fillmode\":\"overlay\",\"size\":10,\"solidity\":0.2}},\"type\":\"histogram\"}],\"histogram2d\":[{\"colorbar\":{\"outlinewidth\":0,\"ticks\":\"\"},\"colorscale\":[[0.0,\"#0d0887\"],[0.1111111111111111,\"#46039f\"],[0.2222222222222222,\"#7201a8\"],[0.3333333333333333,\"#9c179e\"],[0.4444444444444444,\"#bd3786\"],[0.5555555555555556,\"#d8576b\"],[0.6666666666666666,\"#ed7953\"],[0.7777777777777778,\"#fb9f3a\"],[0.8888888888888888,\"#fdca26\"],[1.0,\"#f0f921\"]],\"type\":\"histogram2d\"}],\"histogram2dcontour\":[{\"colorbar\":{\"outlinewidth\":0,\"ticks\":\"\"},\"colorscale\":[[0.0,\"#0d0887\"],[0.1111111111111111,\"#46039f\"],[0.2222222222222222,\"#7201a8\"],[0.3333333333333333,\"#9c179e\"],[0.4444444444444444,\"#bd3786\"],[0.5555555555555556,\"#d8576b\"],[0.6666666666666666,\"#ed7953\"],[0.7777777777777778,\"#fb9f3a\"],[0.8888888888888888,\"#fdca26\"],[1.0,\"#f0f921\"]],\"type\":\"histogram2dcontour\"}],\"mesh3d\":[{\"colorbar\":{\"outlinewidth\":0,\"ticks\":\"\"},\"type\":\"mesh3d\"}],\"parcoords\":[{\"line\":{\"colorbar\":{\"outlinewidth\":0,\"ticks\":\"\"}},\"type\":\"parcoords\"}],\"pie\":[{\"automargin\":true,\"type\":\"pie\"}],\"scatter\":[{\"marker\":{\"colorbar\":{\"outlinewidth\":0,\"ticks\":\"\"}},\"type\":\"scatter\"}],\"scatter3d\":[{\"line\":{\"colorbar\":{\"outlinewidth\":0,\"ticks\":\"\"}},\"marker\":{\"colorbar\":{\"outlinewidth\":0,\"ticks\":\"\"}},\"type\":\"scatter3d\"}],\"scattercarpet\":[{\"marker\":{\"colorbar\":{\"outlinewidth\":0,\"ticks\":\"\"}},\"type\":\"scattercarpet\"}],\"scattergeo\":[{\"marker\":{\"colorbar\":{\"outlinewidth\":0,\"ticks\":\"\"}},\"type\":\"scattergeo\"}],\"scattergl\":[{\"marker\":{\"colorbar\":{\"outlinewidth\":0,\"ticks\":\"\"}},\"type\":\"scattergl\"}],\"scattermapbox\":[{\"marker\":{\"colorbar\":{\"outlinewidth\":0,\"ticks\":\"\"}},\"type\":\"scattermapbox\"}],\"scatterpolar\":[{\"marker\":{\"colorbar\":{\"outlinewidth\":0,\"ticks\":\"\"}},\"type\":\"scatterpolar\"}],\"scatterpolargl\":[{\"marker\":{\"colorbar\":{\"outlinewidth\":0,\"ticks\":\"\"}},\"type\":\"scatterpolargl\"}],\"scatterternary\":[{\"marker\":{\"colorbar\":{\"outlinewidth\":0,\"ticks\":\"\"}},\"type\":\"scatterternary\"}],\"surface\":[{\"colorbar\":{\"outlinewidth\":0,\"ticks\":\"\"},\"colorscale\":[[0.0,\"#0d0887\"],[0.1111111111111111,\"#46039f\"],[0.2222222222222222,\"#7201a8\"],[0.3333333333333333,\"#9c179e\"],[0.4444444444444444,\"#bd3786\"],[0.5555555555555556,\"#d8576b\"],[0.6666666666666666,\"#ed7953\"],[0.7777777777777778,\"#fb9f3a\"],[0.8888888888888888,\"#fdca26\"],[1.0,\"#f0f921\"]],\"type\":\"surface\"}],\"table\":[{\"cells\":{\"fill\":{\"color\":\"#EBF0F8\"},\"line\":{\"color\":\"white\"}},\"header\":{\"fill\":{\"color\":\"#C8D4E3\"},\"line\":{\"color\":\"white\"}},\"type\":\"table\"}]},\"layout\":{\"annotationdefaults\":{\"arrowcolor\":\"#2a3f5f\",\"arrowhead\":0,\"arrowwidth\":1},\"autotypenumbers\":\"strict\",\"coloraxis\":{\"colorbar\":{\"outlinewidth\":0,\"ticks\":\"\"}},\"colorscale\":{\"diverging\":[[0,\"#8e0152\"],[0.1,\"#c51b7d\"],[0.2,\"#de77ae\"],[0.3,\"#f1b6da\"],[0.4,\"#fde0ef\"],[0.5,\"#f7f7f7\"],[0.6,\"#e6f5d0\"],[0.7,\"#b8e186\"],[0.8,\"#7fbc41\"],[0.9,\"#4d9221\"],[1,\"#276419\"]],\"sequential\":[[0.0,\"#0d0887\"],[0.1111111111111111,\"#46039f\"],[0.2222222222222222,\"#7201a8\"],[0.3333333333333333,\"#9c179e\"],[0.4444444444444444,\"#bd3786\"],[0.5555555555555556,\"#d8576b\"],[0.6666666666666666,\"#ed7953\"],[0.7777777777777778,\"#fb9f3a\"],[0.8888888888888888,\"#fdca26\"],[1.0,\"#f0f921\"]],\"sequentialminus\":[[0.0,\"#0d0887\"],[0.1111111111111111,\"#46039f\"],[0.2222222222222222,\"#7201a8\"],[0.3333333333333333,\"#9c179e\"],[0.4444444444444444,\"#bd3786\"],[0.5555555555555556,\"#d8576b\"],[0.6666666666666666,\"#ed7953\"],[0.7777777777777778,\"#fb9f3a\"],[0.8888888888888888,\"#fdca26\"],[1.0,\"#f0f921\"]]},\"colorway\":[\"#636efa\",\"#EF553B\",\"#00cc96\",\"#ab63fa\",\"#FFA15A\",\"#19d3f3\",\"#FF6692\",\"#B6E880\",\"#FF97FF\",\"#FECB52\"],\"font\":{\"color\":\"#2a3f5f\"},\"geo\":{\"bgcolor\":\"white\",\"lakecolor\":\"white\",\"landcolor\":\"#E5ECF6\",\"showlakes\":true,\"showland\":true,\"subunitcolor\":\"white\"},\"hoverlabel\":{\"align\":\"left\"},\"hovermode\":\"closest\",\"mapbox\":{\"style\":\"light\"},\"paper_bgcolor\":\"white\",\"plot_bgcolor\":\"#E5ECF6\",\"polar\":{\"angularaxis\":{\"gridcolor\":\"white\",\"linecolor\":\"white\",\"ticks\":\"\"},\"bgcolor\":\"#E5ECF6\",\"radialaxis\":{\"gridcolor\":\"white\",\"linecolor\":\"white\",\"ticks\":\"\"}},\"scene\":{\"xaxis\":{\"backgroundcolor\":\"#E5ECF6\",\"gridcolor\":\"white\",\"gridwidth\":2,\"linecolor\":\"white\",\"showbackground\":true,\"ticks\":\"\",\"zerolinecolor\":\"white\"},\"yaxis\":{\"backgroundcolor\":\"#E5ECF6\",\"gridcolor\":\"white\",\"gridwidth\":2,\"linecolor\":\"white\",\"showbackground\":true,\"ticks\":\"\",\"zerolinecolor\":\"white\"},\"zaxis\":{\"backgroundcolor\":\"#E5ECF6\",\"gridcolor\":\"white\",\"gridwidth\":2,\"linecolor\":\"white\",\"showbackground\":true,\"ticks\":\"\",\"zerolinecolor\":\"white\"}},\"shapedefaults\":{\"line\":{\"color\":\"#2a3f5f\"}},\"ternary\":{\"aaxis\":{\"gridcolor\":\"white\",\"linecolor\":\"white\",\"ticks\":\"\"},\"baxis\":{\"gridcolor\":\"white\",\"linecolor\":\"white\",\"ticks\":\"\"},\"bgcolor\":\"#E5ECF6\",\"caxis\":{\"gridcolor\":\"white\",\"linecolor\":\"white\",\"ticks\":\"\"}},\"title\":{\"x\":0.05},\"xaxis\":{\"automargin\":true,\"gridcolor\":\"white\",\"linecolor\":\"white\",\"ticks\":\"\",\"title\":{\"standoff\":15},\"zerolinecolor\":\"white\",\"zerolinewidth\":2},\"yaxis\":{\"automargin\":true,\"gridcolor\":\"white\",\"linecolor\":\"white\",\"ticks\":\"\",\"title\":{\"standoff\":15},\"zerolinecolor\":\"white\",\"zerolinewidth\":2}}},\"title\":{\"text\":\"\\u0412\\u043e\\u0440\\u043e\\u043d\\u043a\\u0430 \\u0441\\u043e\\u0431\\u044b\\u0442\\u0438\\u0439\"}},                        {\"responsive\": true}                    ).then(function(){\n",
       "                            \n",
       "var gd = document.getElementById('87e6ded3-d251-48ae-b038-d49e884bc56e');\n",
       "var x = new MutationObserver(function (mutations, observer) {{\n",
       "        var display = window.getComputedStyle(gd).display;\n",
       "        if (!display || display === 'none') {{\n",
       "            console.log([gd, 'removed!']);\n",
       "            Plotly.purge(gd);\n",
       "            observer.disconnect();\n",
       "        }}\n",
       "}});\n",
       "\n",
       "// Listen for the removal of the full notebook cells\n",
       "var notebookContainer = gd.closest('#notebook-container');\n",
       "if (notebookContainer) {{\n",
       "    x.observe(notebookContainer, {childList: true});\n",
       "}}\n",
       "\n",
       "// Listen for the clearing of the current output cell\n",
       "var outputEl = gd.closest('.output');\n",
       "if (outputEl) {{\n",
       "    x.observe(outputEl, {childList: true});\n",
       "}}\n",
       "\n",
       "                        })                };                });            </script>        </div>"
      ]
     },
     "metadata": {},
     "output_type": "display_data"
    }
   ],
   "source": [
    "# визуализируем воронку\n",
    "fig = go.Figure(go.Funnel(y = events_grouped['event_name'],\n",
    "                          x = events_grouped['total_users'],\n",
    "                          opacity = 0.9,\n",
    "                          textposition = 'inside',\n",
    "                          marker = {\"color\": [\"deepskyblue\", \"lightsalmon\", \"tan\", \"teal\", \"silver\"]},\n",
    "                          textinfo = 'value + percent previous'))\n",
    "fig.update_layout(title_text='Воронка событий')\n",
    "fig.show()"
   ]
  },
  {
   "cell_type": "markdown",
   "metadata": {},
   "source": [
    "**Вывод:** Как видно из расчетов и диаграммы, наибольшая потеря пользователей происходит на этапе перехода с главной страницы до страницы с каталогов товаров. Потери составляют почти 40%. Возможные причины: пользователь случайно зашел в приложение и сразу вышел, либо какая-то техническая проблема с переходом в каталог товаров в самом приложении, либо неудобный/нелогичный интерфейс приложения.  \n",
    "На следующих этапах потери уже не такие ощутимые: примерно 19% (от предыдущего этапа) не доходят до карточек товаров и всего 5% не совершают оплату.  \n",
    "Примерно 47% пользователей доходят от первого первого события до совершения оплаты."
   ]
  },
  {
   "cell_type": "markdown",
   "metadata": {},
   "source": [
    "# Результаты эксперимента"
   ]
  },
  {
   "cell_type": "markdown",
   "metadata": {},
   "source": [
    "•\t**Количество пользователей в каждой экспериментальной группе**\n"
   ]
  },
  {
   "cell_type": "code",
   "execution_count": 77,
   "metadata": {},
   "outputs": [
    {
     "data": {
      "text/html": [
       "<div>\n",
       "<style scoped>\n",
       "    .dataframe tbody tr th:only-of-type {\n",
       "        vertical-align: middle;\n",
       "    }\n",
       "\n",
       "    .dataframe tbody tr th {\n",
       "        vertical-align: top;\n",
       "    }\n",
       "\n",
       "    .dataframe thead th {\n",
       "        text-align: right;\n",
       "    }\n",
       "</style>\n",
       "<table border=\"1\" class=\"dataframe\">\n",
       "  <thead>\n",
       "    <tr style=\"text-align: right;\">\n",
       "      <th></th>\n",
       "      <th>group</th>\n",
       "      <th>user_id</th>\n",
       "    </tr>\n",
       "  </thead>\n",
       "  <tbody>\n",
       "    <tr>\n",
       "      <th>0</th>\n",
       "      <td>246</td>\n",
       "      <td>2484</td>\n",
       "    </tr>\n",
       "    <tr>\n",
       "      <th>1</th>\n",
       "      <td>247</td>\n",
       "      <td>2513</td>\n",
       "    </tr>\n",
       "    <tr>\n",
       "      <th>2</th>\n",
       "      <td>248</td>\n",
       "      <td>2537</td>\n",
       "    </tr>\n",
       "    <tr>\n",
       "      <th>3</th>\n",
       "      <td>AA</td>\n",
       "      <td>4997</td>\n",
       "    </tr>\n",
       "  </tbody>\n",
       "</table>\n",
       "</div>"
      ],
      "text/plain": [
       "  group  user_id\n",
       "0   246     2484\n",
       "1   247     2513\n",
       "2   248     2537\n",
       "3    AA     4997"
      ]
     },
     "execution_count": 77,
     "metadata": {},
     "output_type": "execute_result"
    }
   ],
   "source": [
    "users_count = logs.groupby('group', as_index=False).agg({'user_id':'nunique'})\n",
    "users_count.loc[[0,1]]\n",
    "users_count = users_count.append(users_count.loc[[0, 1]].sum(), ignore_index=True)\n",
    "users_count.iloc[3,0] = 'AA'\n",
    "users_count"
   ]
  },
  {
   "cell_type": "markdown",
   "metadata": {},
   "source": [
    "Дано: три группы: 246, 247, 248, где группы 246 и 247 - контрольные, 248 - экспериментальная. В каждой, соответственно, 2484, 2513, 2537 пользователей."
   ]
  },
  {
   "cell_type": "markdown",
   "metadata": {},
   "source": [
    "• **Проверка контрольных групп А/А**  \n",
    "\n",
    "Есть 2 контрольные группы для А/А-эксперимента, чтобы проверить корректность всех механизмов и расчётов.  \n",
    "\n",
    "Критерии успешного A/A-теста:  \n",
    "1. Количество пользователей в различных группах различается не более, чем на 1%;  \n",
    "2. Для всех групп фиксируют и отправляют в системы аналитики данные об одном и том же;  \n",
    "3. Различие ключевых метрик по группам не превышает 1% и не имеет статистической значимости;\n",
    "4. Попавший в одну из групп посетитель остаётся в этой группе до конца теста.   \n",
    "\n",
    "Исходим из того, что пункт 2 выполняется. Пункт 4 проверен ранее, пользователи \"не мигрируют\" между группами. Остается проверить пункты 1 и 3."
   ]
  },
  {
   "cell_type": "code",
   "execution_count": 78,
   "metadata": {},
   "outputs": [
    {
     "name": "stdout",
     "output_type": "stream",
     "text": [
      "Разница в количестве пользователей в контрольных группах: 1.15\n"
     ]
    }
   ],
   "source": [
    "# проверим количество пользователей\n",
    "users_246 = logs[logs['group'] == 246]['user_id'].nunique()\n",
    "users_247 = logs[logs['group'] == 247]['user_id'].nunique()\n",
    "users_248 = logs[logs['group'] == 248]['user_id'].nunique()\n",
    "print('Разница в количестве пользователей в контрольных группах: {:.2f}'.format((1 - users_246/users_247)*100))"
   ]
  },
  {
   "cell_type": "markdown",
   "metadata": {},
   "source": [
    "Разница в количестве пользователей несущественная. Остается проверить группы на наличие статистически значимых отличий.  \n",
    "\n",
    "Сформируем сводную таблицу с подсчетом количества пользователей для каждого события в каждой группе тестирования."
   ]
  },
  {
   "cell_type": "code",
   "execution_count": 82,
   "metadata": {},
   "outputs": [
    {
     "data": {
      "text/html": [
       "<div>\n",
       "<style scoped>\n",
       "    .dataframe tbody tr th:only-of-type {\n",
       "        vertical-align: middle;\n",
       "    }\n",
       "\n",
       "    .dataframe tbody tr th {\n",
       "        vertical-align: top;\n",
       "    }\n",
       "\n",
       "    .dataframe thead th {\n",
       "        text-align: right;\n",
       "    }\n",
       "</style>\n",
       "<table border=\"1\" class=\"dataframe\">\n",
       "  <thead>\n",
       "    <tr style=\"text-align: right;\">\n",
       "      <th></th>\n",
       "      <th>event_name</th>\n",
       "      <th>246</th>\n",
       "      <th>247</th>\n",
       "      <th>248</th>\n",
       "      <th>aa</th>\n",
       "      <th>aab</th>\n",
       "      <th>246_part</th>\n",
       "      <th>247_part</th>\n",
       "      <th>248_part</th>\n",
       "      <th>aa_part</th>\n",
       "    </tr>\n",
       "  </thead>\n",
       "  <tbody>\n",
       "    <tr>\n",
       "      <th>0</th>\n",
       "      <td>MainScreenAppear</td>\n",
       "      <td>2450</td>\n",
       "      <td>2476</td>\n",
       "      <td>2493</td>\n",
       "      <td>4926</td>\n",
       "      <td>7419</td>\n",
       "      <td>0.99</td>\n",
       "      <td>0.99</td>\n",
       "      <td>0.98</td>\n",
       "      <td>0.99</td>\n",
       "    </tr>\n",
       "    <tr>\n",
       "      <th>1</th>\n",
       "      <td>OffersScreenAppear</td>\n",
       "      <td>1542</td>\n",
       "      <td>1520</td>\n",
       "      <td>1531</td>\n",
       "      <td>3062</td>\n",
       "      <td>4593</td>\n",
       "      <td>0.62</td>\n",
       "      <td>0.60</td>\n",
       "      <td>0.60</td>\n",
       "      <td>0.61</td>\n",
       "    </tr>\n",
       "    <tr>\n",
       "      <th>2</th>\n",
       "      <td>CartScreenAppear</td>\n",
       "      <td>1266</td>\n",
       "      <td>1238</td>\n",
       "      <td>1230</td>\n",
       "      <td>2504</td>\n",
       "      <td>3734</td>\n",
       "      <td>0.51</td>\n",
       "      <td>0.49</td>\n",
       "      <td>0.48</td>\n",
       "      <td>0.50</td>\n",
       "    </tr>\n",
       "    <tr>\n",
       "      <th>3</th>\n",
       "      <td>PaymentScreenSuccessful</td>\n",
       "      <td>1200</td>\n",
       "      <td>1158</td>\n",
       "      <td>1181</td>\n",
       "      <td>2358</td>\n",
       "      <td>3539</td>\n",
       "      <td>0.48</td>\n",
       "      <td>0.46</td>\n",
       "      <td>0.47</td>\n",
       "      <td>0.47</td>\n",
       "    </tr>\n",
       "  </tbody>\n",
       "</table>\n",
       "</div>"
      ],
      "text/plain": [
       "                event_name   246   247   248    aa   aab  246_part  247_part  \\\n",
       "0         MainScreenAppear  2450  2476  2493  4926  7419      0.99      0.99   \n",
       "1       OffersScreenAppear  1542  1520  1531  3062  4593      0.62      0.60   \n",
       "2         CartScreenAppear  1266  1238  1230  2504  3734      0.51      0.49   \n",
       "3  PaymentScreenSuccessful  1200  1158  1181  2358  3539      0.48      0.46   \n",
       "\n",
       "   248_part  aa_part  \n",
       "0      0.98     0.99  \n",
       "1      0.60     0.61  \n",
       "2      0.48     0.50  \n",
       "3      0.47     0.47  "
      ]
     },
     "execution_count": 82,
     "metadata": {},
     "output_type": "execute_result"
    }
   ],
   "source": [
    "users_by_events = (logs[logs['event_name'] != \"Tutorial\"]\n",
    "                   .pivot_table(index = 'event_name',\n",
    "                                columns = 'group',\n",
    "                                values = 'user_id',\n",
    "                                aggfunc = 'nunique')\n",
    "                   .sort_values(by=246, ascending=False)\n",
    "                   .reset_index()\n",
    "                  )\n",
    "users_by_events.columns = ['event_name', '246','247','248']\n",
    "# сразу добавляем столбец с показателями объединенной контрольной группы\n",
    "users_by_events['aa'] = users_by_events['246'] + users_by_events['247']\n",
    "# общее количество пользователей для каждого события\n",
    "users_by_events['aab'] = users_by_events[['246','247','248']].sum(axis = 1)\n",
    "# доля пользователей групп, совершивших событие\n",
    "users_by_events['246_part'] = users_by_events['246'] / users_246\n",
    "users_by_events['247_part'] = users_by_events['247'] / users_247\n",
    "users_by_events['248_part'] = users_by_events['248'] / users_248\n",
    "users_by_events['aa_part'] = users_by_events['aa'] / (users_246 + users_247)\n",
    "\n",
    "users_by_events"
   ]
  },
  {
   "cell_type": "markdown",
   "metadata": {},
   "source": [
    "Напишем функцию для проверки наличия статистической разницы между группами."
   ]
  },
  {
   "cell_type": "code",
   "execution_count": 83,
   "metadata": {},
   "outputs": [],
   "source": [
    "# функция проверки наличия стат разницы \n",
    "def check_stats(df1, df2, event, alpha):\n",
    "    # список из количества пользователей в каждой из сравниваемых групп\n",
    "    users_count = np.array([df1['user_id'].nunique(),\n",
    "                            df2['user_id'].nunique()])\n",
    "    # список из количества пользователей, совершивших событие event в каждой из групп\n",
    "    success_users = np.array([df1[df1['event_name'] == event]['user_id'].nunique(),\n",
    "                              df2[df2['event_name'] == event]['user_id'].nunique()]) \n",
    "    # пропорция успехов в каждой из групп:\n",
    "    p1 = success_users[0] / users_count[0]\n",
    "    p2 = success_users[1] / users_count[1]\n",
    "    # пропорция успехов в комбинированной группе\n",
    "    p_combined = (success_users[0]+success_users[1]) / (users_count[0]+users_count[1])\n",
    "    # разница пропорций в датасетах\n",
    "    difference = p1-p2\n",
    "    # расчет статистики в ст. отклонениях ст. норм. распределения\n",
    "    z_value = difference / (p_combined * (1 - p_combined) * (1/users_count[0] + 1/users_count[1])) ** 0.5\n",
    "    # задаем N(0,1)\n",
    "    distr = st.norm(0,1)\n",
    "    p_value = (1 - distr.cdf(abs(z_value))) * 2\n",
    "    \n",
    "    # вывод результатов: название событий и значение p_value\n",
    "    print('Событие:', event)\n",
    "    print('p-значение:', p_value)\n",
    "    \n",
    "    # сравниваем p_value с уровнем стат значимости \n",
    "    if p_value < alpha:\n",
    "        print('Отвергаем нулевую гипотезу: между долями есть значимая разница')\n",
    "    else:\n",
    "        print('Не получилось отвергнуть нулевую гипотезу, нет оснований считать доли разными')  "
   ]
  },
  {
   "cell_type": "code",
   "execution_count": 84,
   "metadata": {},
   "outputs": [],
   "source": [
    "def check_stats2(sucsess_1, trials_1, sucsess_2, trials_2, alpha):\n",
    "    # пропорция успехов в первой группе\n",
    "    p1 = sucsess_1 / trials_1\n",
    "    # пропорция успехов во второй группе:\n",
    "    p2 = sucsess_2 / trials_2\n",
    "    # пропорция успехов в комбинированной выборке\n",
    "    p_combined = ((sucsess_1 + sucsess_2) / (trials_1 + trials_2))\n",
    "    # разница пропорций\n",
    "    difference = p1 - p2\n",
    "    # считаем статистику в ст.отклонениях стандартного нормального распределения\n",
    "    z_value = (difference / mth.sqrt(p_combined * (1 - p_combined) * (1/trials_1 + 1/trials_2)))\n",
    "    # задаем стандартное нормальное распределение (среднее 0, ст.отклонение 1)\n",
    "    distr = st.norm(0, 1)\n",
    "    p_value = (1 - distr.cdf(abs(z_value))) * 2\n",
    "    print('p-значение: ', p_value)\n",
    "\n",
    "    if (p_value < alpha):\n",
    "        print(\"Отвергаем нулевую гипотезу: между долями есть значимая разница\")\n",
    "    else:\n",
    "        print(\"Не получилось отвергнуть нулевую гипотезу, нет оснований считать доли разными\")\n",
    "        \n",
    "    print()"
   ]
  },
  {
   "cell_type": "code",
   "execution_count": 90,
   "metadata": {},
   "outputs": [
    {
     "name": "stdout",
     "output_type": "stream",
     "text": [
      "p-значение:  0.7570597232046099\n",
      "     Не получилось отвергнуть нулевую гипотезу, нет оснований считать доли разными\n",
      "\n"
     ]
    }
   ],
   "source": [
    "# проверка для 246/247 для MainScreenAppear\n",
    "check_stats2(users_by_events.iloc[0,1], users_246, users_by_events.iloc[0,2], users_247, 0.05)"
   ]
  },
  {
   "cell_type": "markdown",
   "metadata": {},
   "source": [
    "**Формулируем нулевую и альтернативную гипотезы:**   \n",
    "**H0:** доли уникальных пользователей, совершивших событие (побывавших на этапе воронки) в каждой из контрольных групп, одинаковы.  \n",
    "**H1:** доли уникальных пользователей, совершивших событие (побывавших на этапе воронки) в каждой из контрольных групп, различаются.  \n",
    "\n",
    "**Проверим, есть ли статистически значимая разница между контрольными группами 246 и 247:**"
   ]
  },
  {
   "cell_type": "code",
   "execution_count": 91,
   "metadata": {},
   "outputs": [],
   "source": [
    "alpha = 0.05"
   ]
  },
  {
   "cell_type": "code",
   "execution_count": 92,
   "metadata": {
    "scrolled": true
   },
   "outputs": [
    {
     "name": "stdout",
     "output_type": "stream",
     "text": [
      "Событие: MainScreenAppear\n",
      "p-значение: 0.7570597232046099\n",
      "Не получилось отвергнуть нулевую гипотезу, нет оснований считать доли разными\n",
      "--------------------------------------------------\n",
      "Событие: OffersScreenAppear\n",
      "p-значение: 0.2480954578522181\n",
      "Не получилось отвергнуть нулевую гипотезу, нет оснований считать доли разными\n",
      "--------------------------------------------------\n",
      "Событие: CartScreenAppear\n",
      "p-значение: 0.22883372237997213\n",
      "Не получилось отвергнуть нулевую гипотезу, нет оснований считать доли разными\n",
      "--------------------------------------------------\n",
      "Событие: PaymentScreenSuccessful\n",
      "p-значение: 0.11456679313141849\n",
      "Не получилось отвергнуть нулевую гипотезу, нет оснований считать доли разными\n",
      "--------------------------------------------------\n"
     ]
    }
   ],
   "source": [
    "for event in users_by_events['event_name'].unique():\n",
    "    check_stats(logs[logs['group'] == 246], logs[logs['group'] == 247], event, alpha)\n",
    "    print('-'*50)"
   ]
  },
  {
   "cell_type": "markdown",
   "metadata": {},
   "source": [
    "**Вывод:** Тест А/А проведен корректно, статистически значимых различий между двумя контрольными А-группами не обнаружено, все критерии корректности проведения теста соблюдены."
   ]
  },
  {
   "cell_type": "markdown",
   "metadata": {},
   "source": [
    "•\t**Самое популярное событие**  \n",
    "\n",
    "Определим самое популярное событие:"
   ]
  },
  {
   "cell_type": "code",
   "execution_count": 93,
   "metadata": {},
   "outputs": [
    {
     "data": {
      "text/plain": [
       "MainScreenAppear           117328\n",
       "OffersScreenAppear          46333\n",
       "CartScreenAppear            42303\n",
       "PaymentScreenSuccessful     33918\n",
       "Tutorial                     1005\n",
       "Name: event_name, dtype: int64"
      ]
     },
     "execution_count": 93,
     "metadata": {},
     "output_type": "execute_result"
    }
   ],
   "source": [
    "# в разрезе всех пользователей в целом\n",
    "logs['event_name'].value_counts()"
   ]
  },
  {
   "cell_type": "code",
   "execution_count": 94,
   "metadata": {},
   "outputs": [
    {
     "data": {
      "text/html": [
       "<div>\n",
       "<style scoped>\n",
       "    .dataframe tbody tr th:only-of-type {\n",
       "        vertical-align: middle;\n",
       "    }\n",
       "\n",
       "    .dataframe tbody tr th {\n",
       "        vertical-align: top;\n",
       "    }\n",
       "\n",
       "    .dataframe thead th {\n",
       "        text-align: right;\n",
       "    }\n",
       "</style>\n",
       "<table border=\"1\" class=\"dataframe\">\n",
       "  <thead>\n",
       "    <tr style=\"text-align: right;\">\n",
       "      <th></th>\n",
       "      <th>event_name</th>\n",
       "      <th>246</th>\n",
       "      <th>247</th>\n",
       "      <th>248</th>\n",
       "      <th>aa</th>\n",
       "      <th>aab</th>\n",
       "      <th>246_part</th>\n",
       "      <th>247_part</th>\n",
       "      <th>248_part</th>\n",
       "      <th>aa_part</th>\n",
       "    </tr>\n",
       "  </thead>\n",
       "  <tbody>\n",
       "    <tr>\n",
       "      <th>0</th>\n",
       "      <td>MainScreenAppear</td>\n",
       "      <td>2450</td>\n",
       "      <td>2476</td>\n",
       "      <td>2493</td>\n",
       "      <td>4926</td>\n",
       "      <td>7419</td>\n",
       "      <td>0.99</td>\n",
       "      <td>0.99</td>\n",
       "      <td>0.98</td>\n",
       "      <td>0.99</td>\n",
       "    </tr>\n",
       "    <tr>\n",
       "      <th>1</th>\n",
       "      <td>OffersScreenAppear</td>\n",
       "      <td>1542</td>\n",
       "      <td>1520</td>\n",
       "      <td>1531</td>\n",
       "      <td>3062</td>\n",
       "      <td>4593</td>\n",
       "      <td>0.62</td>\n",
       "      <td>0.60</td>\n",
       "      <td>0.60</td>\n",
       "      <td>0.61</td>\n",
       "    </tr>\n",
       "    <tr>\n",
       "      <th>2</th>\n",
       "      <td>CartScreenAppear</td>\n",
       "      <td>1266</td>\n",
       "      <td>1238</td>\n",
       "      <td>1230</td>\n",
       "      <td>2504</td>\n",
       "      <td>3734</td>\n",
       "      <td>0.51</td>\n",
       "      <td>0.49</td>\n",
       "      <td>0.48</td>\n",
       "      <td>0.50</td>\n",
       "    </tr>\n",
       "    <tr>\n",
       "      <th>3</th>\n",
       "      <td>PaymentScreenSuccessful</td>\n",
       "      <td>1200</td>\n",
       "      <td>1158</td>\n",
       "      <td>1181</td>\n",
       "      <td>2358</td>\n",
       "      <td>3539</td>\n",
       "      <td>0.48</td>\n",
       "      <td>0.46</td>\n",
       "      <td>0.47</td>\n",
       "      <td>0.47</td>\n",
       "    </tr>\n",
       "  </tbody>\n",
       "</table>\n",
       "</div>"
      ],
      "text/plain": [
       "                event_name   246   247   248    aa   aab  246_part  247_part  \\\n",
       "0         MainScreenAppear  2450  2476  2493  4926  7419      0.99      0.99   \n",
       "1       OffersScreenAppear  1542  1520  1531  3062  4593      0.62      0.60   \n",
       "2         CartScreenAppear  1266  1238  1230  2504  3734      0.51      0.49   \n",
       "3  PaymentScreenSuccessful  1200  1158  1181  2358  3539      0.48      0.46   \n",
       "\n",
       "   248_part  aa_part  \n",
       "0      0.98     0.99  \n",
       "1      0.60     0.61  \n",
       "2      0.48     0.50  \n",
       "3      0.47     0.47  "
      ]
     },
     "execution_count": 94,
     "metadata": {},
     "output_type": "execute_result"
    }
   ],
   "source": [
    "# и для пользователей каждой из групп\n",
    "users_by_events"
   ]
  },
  {
   "cell_type": "markdown",
   "metadata": {},
   "source": [
    "**Самое популярное событие** - просмотр главной страницы (`MainScreenAppear`). В первой контрольной группе просмотр главной страницы совершили 2450 уникальных пользователей, во второй контрольной группе - 2476, в экспериментальной 248 группе - 2493 пользователя, что составляет 99, 99, 98% от общего числа пользователей каждой из групп соответственно. "
   ]
  },
  {
   "cell_type": "markdown",
   "metadata": {},
   "source": [
    "* **Проведение A/B-теста**  \n",
    "  \n",
    "Проведем еще три теста: А1/В, А2/В и АА/В.  \n",
    "\n",
    "* **A1/B-тест**  \n",
    "\n",
    "Формулируем нулевую и альтернативную гипотезы:  \n",
    " **H0:** доли уникальных пользователей, совершивших событие (побывавших на этапе воронки) в 246 и 248 группах, одинаковы.  \n",
    " **H1:** доли уникальных пользователей, совершивших событие (побывавших на этапе воронки) в 246 и 248 группах, различаются.  \n",
    "\n",
    "**Проверим, есть ли статистически значимая разница между первой контрольной и экспериментальной группами:**"
   ]
  },
  {
   "cell_type": "code",
   "execution_count": 95,
   "metadata": {},
   "outputs": [],
   "source": [
    "# задаем уровень стат значимости\n",
    "alpha = 0.05"
   ]
  },
  {
   "cell_type": "code",
   "execution_count": 96,
   "metadata": {},
   "outputs": [
    {
     "name": "stdout",
     "output_type": "stream",
     "text": [
      "Событие: MainScreenAppear\n",
      "p-значение: 0.2949721933554552\n",
      "Не получилось отвергнуть нулевую гипотезу, нет оснований считать доли разными\n",
      "--------------------------------------------------\n",
      "Событие: OffersScreenAppear\n",
      "p-значение: 0.20836205402738917\n",
      "Не получилось отвергнуть нулевую гипотезу, нет оснований считать доли разными\n",
      "--------------------------------------------------\n",
      "Событие: CartScreenAppear\n",
      "p-значение: 0.07842923237520116\n",
      "Не получилось отвергнуть нулевую гипотезу, нет оснований считать доли разными\n",
      "--------------------------------------------------\n",
      "Событие: PaymentScreenSuccessful\n",
      "p-значение: 0.2122553275697796\n",
      "Не получилось отвергнуть нулевую гипотезу, нет оснований считать доли разными\n",
      "--------------------------------------------------\n"
     ]
    }
   ],
   "source": [
    "for event in users_by_events['event_name'].unique():\n",
    "    check_stats(logs[logs['group'] == 246], logs[logs['group'] == 248], event, alpha)\n",
    "    print('-'*50)"
   ]
  },
  {
   "cell_type": "markdown",
   "metadata": {},
   "source": [
    "При заданном уровне значимости нет оснований считать группы 246 и 248 статистически разными."
   ]
  },
  {
   "cell_type": "markdown",
   "metadata": {},
   "source": [
    "* **A2/B-тест**  \n",
    "\n",
    "Формулируем нулевую и альтернативную гипотезы:  \n",
    " **H0:** доли уникальных пользователей, совершивших событие (побывавших на этапе воронки) в 247 и 248 группах, одинаковы.  \n",
    " **H1:** доли уникальных пользователей, совершивших событие (побывавших на этапе воронки) в 247 и 248 группах, различаются.  \n",
    "\n",
    "**Проверим, есть ли статистически значимая разница между второй контрольной и экспериментальной группами:**"
   ]
  },
  {
   "cell_type": "code",
   "execution_count": 97,
   "metadata": {},
   "outputs": [
    {
     "name": "stdout",
     "output_type": "stream",
     "text": [
      "Событие: MainScreenAppear\n",
      "p-значение: 0.4587053616621515\n",
      "Не получилось отвергнуть нулевую гипотезу, нет оснований считать доли разными\n",
      "--------------------------------------------------\n",
      "Событие: OffersScreenAppear\n",
      "p-значение: 0.9197817830592261\n",
      "Не получилось отвергнуть нулевую гипотезу, нет оснований считать доли разными\n",
      "--------------------------------------------------\n",
      "Событие: CartScreenAppear\n",
      "p-значение: 0.5786197879539783\n",
      "Не получилось отвергнуть нулевую гипотезу, нет оснований считать доли разными\n",
      "--------------------------------------------------\n",
      "Событие: PaymentScreenSuccessful\n",
      "p-значение: 0.7373415053803964\n",
      "Не получилось отвергнуть нулевую гипотезу, нет оснований считать доли разными\n",
      "--------------------------------------------------\n"
     ]
    }
   ],
   "source": [
    "for event in users_by_events['event_name'].unique():\n",
    "    check_stats(logs[logs['group'] == 247], logs[logs['group'] == 248], event, alpha)\n",
    "    print('-'*50)"
   ]
  },
  {
   "cell_type": "markdown",
   "metadata": {},
   "source": [
    "Аналогичный результат, при заданном уровне значимости нет оснований считать группы 247 и 248 статистически разными."
   ]
  },
  {
   "cell_type": "markdown",
   "metadata": {},
   "source": [
    "* **AA/B-тест**  \n",
    "\n",
    "Формулируем нулевую и альтернативную гипотезы:  \n",
    " **H0:** доли уникальных пользователей, совершивших событие (побывавших на этапе воронки) в объединенной контрольной и экспериментальной группах, одинаковы.  \n",
    " **H1:** доли уникальных пользователей, совершивших событие (побывавших на этапе воронки) в объединенной контрольной и экспериментальной группах, различаются.  \n",
    "\n",
    "**Проверим, есть ли статистически значимая разница между объединенной контрольной и экспериментальной группами:**"
   ]
  },
  {
   "cell_type": "code",
   "execution_count": 98,
   "metadata": {},
   "outputs": [
    {
     "name": "stdout",
     "output_type": "stream",
     "text": [
      "Событие: MainScreenAppear\n",
      "p-значение: 0.29424526837179577\n",
      "Не получилось отвергнуть нулевую гипотезу, нет оснований считать доли разными\n",
      "--------------------------------------------------\n",
      "Событие: OffersScreenAppear\n",
      "p-значение: 0.43425549655188256\n",
      "Не получилось отвергнуть нулевую гипотезу, нет оснований считать доли разными\n",
      "--------------------------------------------------\n",
      "Событие: CartScreenAppear\n",
      "p-значение: 0.18175875284404386\n",
      "Не получилось отвергнуть нулевую гипотезу, нет оснований считать доли разными\n",
      "--------------------------------------------------\n",
      "Событие: PaymentScreenSuccessful\n",
      "p-значение: 0.6004294282308704\n",
      "Не получилось отвергнуть нулевую гипотезу, нет оснований считать доли разными\n",
      "--------------------------------------------------\n"
     ]
    }
   ],
   "source": [
    "for event in users_by_events['event_name'].unique():\n",
    "    check_stats(logs[logs['group'] != 248], logs[logs['group'] == 248], event, alpha)\n",
    "    print('-'*50)"
   ]
  },
  {
   "cell_type": "markdown",
   "metadata": {},
   "source": [
    "При заданном уровне значимости нет оснований считать объединенную контрольную и экспериментальную группы статистически разными."
   ]
  },
  {
   "cell_type": "markdown",
   "metadata": {},
   "source": [
    "* **Уровень статистической значимости**  "
   ]
  },
  {
   "cell_type": "markdown",
   "metadata": {},
   "source": [
    "При проверке статистических гипотез был выбран уровень значимости равный 0.05. При проведении множественного теста, т.е. нескольких сравнений, проводимых на одних и тех же данных, с каждой новой проверкой гипотезы возрастает вероятность ошибки первого рода, т.е. при отсутствии различий между сравниваемыми группами, тест покажет p-value меньше уровня значимости. И Нулевая гипотеза будет отвергнута.  \n",
    "\n",
    "\n",
    "Всего было проведено 16 проверок гипотез (попарные сравнения для 4 групп (А/А, А1/В, А2/В, АА/В) для 4 событий). При проведении 16 проверок вероятность допустимого ложноположительного результата хотя бы в одном тесте увеличивается до 1 - (1 - 0.05)**16 (56/100).\n",
    "\n",
    "Чтобы снизить вероятность ложнопозитивного результата при множественном тестировании гипотез, применяют разные методы корректировки уровня значимости, в т.ч. метод Бонферрони, согласно которому уровень значимости для каждой гипотезы делят на число гипотез."
   ]
  },
  {
   "cell_type": "code",
   "execution_count": 99,
   "metadata": {},
   "outputs": [
    {
     "data": {
      "text/plain": [
       "0.003125"
      ]
     },
     "execution_count": 99,
     "metadata": {},
     "output_type": "execute_result"
    }
   ],
   "source": [
    "bonferroni = alpha/16\n",
    "bonferroni"
   ]
  },
  {
   "cell_type": "markdown",
   "metadata": {},
   "source": [
    "Однако при этом мы видим, что во всех проводимых ранее тестах полученные значения p-value всегда больше скорректированного уровня значимости (0.003125), поэтому нет смысла повторно проводить тесты, результат останется тот же, а именно: нет причин отвергать нулевую гипотезу о равенстве долей всех рассматриваемых выборок.  \n",
    "\n",
    "**Вывод: По результатам всех проверок видно, что статистически значимых различий между группами 246, 247 и 248 нет. Предварительно можно сделать вывод, что замена шрифта никак не повлияла на поведение пользователей.**\n"
   ]
  },
  {
   "cell_type": "markdown",
   "metadata": {},
   "source": [
    "## Общий вывод  \n",
    "\n"
   ]
  },
  {
   "cell_type": "markdown",
   "metadata": {},
   "source": [
    "В ходе проделанной работы было выполнено:\n",
    "\n",
    "1. Изучены исходные данные.\n",
    "2. Проведена предобработка данных, в т.ч. корректировка типов данных, добавление доп. столбцов, удаление дубликатов.\n",
    "3. Проведен анализ имеющихся данных, в ходе которого сделаны следующие выводы:\n",
    " * В логах всего более 24 тыс. событий, типов событий 5 (MainScreenAppear, OffersScreenAppear, CartScreenAppear, PaymentScreenSuccessful, Tutorial) за период с 25.07.2019 по 07.08.2019 г. Однако наиболее полные данные за период с 01.08.2019 по 07.08.2019г., т.е. за 7 дней. Активность пользователей наибольшая в дневные часы, наименьшая - в ночное, что вполне логично для проекта по продаже продуктов питания.\n",
    " * Наиболее часто встречаемое событие - главная страница (MainScreenAppear), ее посетили 117889 раз. Общий порядок событий следующий: Главная страница - Каталог товаров/услуг - Карточка товара - Страница с подтверждением оплаты.\n",
    " * Наибольшая потеря пользователей происходит на этапе перехода с главной страницы до страницы с каталогов товаров. Потери составляют почти 40%. На следующих этапах потери уже не такие ощутимые. Примерно 47% пользователей доходят от первого первого события до совершения оплаты.\n",
    "4. Были проанализированы результаты A/A/B-теста введения новых шрифтов, в т.ч.:\n",
    " * Проверена корректность проведения А/А-теста: статистически значимых различий между двумя контрольными А-группами не обнаружено, все критерии корректности проведения теста соблюдены.\n",
    " * Проверены гипотезы об отсутствии различий в долях уникальных пользователей, совершивших событие в каждой из групп. По результатам всех проверок выявлено, что статистически значимых различий между группами 246, 247 и 248 нет. \n",
    " * Корректировка уровня значимости с помощью метода Бонферрони не изменила результатов тестирования. \n",
    "**Проведенный анализ не выявил различий в поведении пользавателей от замены шрифта. Также рекомендуется обратить внимание на ощутимую потерю пользователей при перехоже от главного экрана к странице с каталогом товаров (стоит проверить, нет ли каких-то технических проблема с переходом в каталог товаров в самом приложении, понятен ли интерфейс приложения на данном этапе.**"
   ]
  },
  {
   "cell_type": "code",
   "execution_count": null,
   "metadata": {},
   "outputs": [],
   "source": []
  }
 ],
 "metadata": {
  "ExecuteTimeLog": [
   {
    "duration": 1638,
    "start_time": "2023-07-24T08:45:05.336Z"
   },
   {
    "duration": 5,
    "start_time": "2023-07-24T08:45:14.411Z"
   },
   {
    "duration": 995,
    "start_time": "2023-07-24T08:47:47.692Z"
   },
   {
    "duration": 15,
    "start_time": "2023-07-24T08:48:01.569Z"
   },
   {
    "duration": 209,
    "start_time": "2023-07-24T08:50:53.974Z"
   },
   {
    "duration": 10,
    "start_time": "2023-07-24T08:50:55.872Z"
   },
   {
    "duration": 4,
    "start_time": "2023-07-24T08:53:58.814Z"
   },
   {
    "duration": 238,
    "start_time": "2023-07-24T08:54:10.211Z"
   },
   {
    "duration": 4,
    "start_time": "2023-07-24T08:54:29.517Z"
   },
   {
    "duration": 4,
    "start_time": "2023-07-24T08:54:38.647Z"
   },
   {
    "duration": 6,
    "start_time": "2023-07-24T08:55:04.007Z"
   },
   {
    "duration": 222,
    "start_time": "2023-07-24T08:55:22.149Z"
   },
   {
    "duration": 4,
    "start_time": "2023-07-24T09:00:18.875Z"
   },
   {
    "duration": 7,
    "start_time": "2023-07-24T09:00:55.174Z"
   },
   {
    "duration": 7,
    "start_time": "2023-07-24T09:01:01.619Z"
   },
   {
    "duration": 4,
    "start_time": "2023-07-24T09:04:08.906Z"
   },
   {
    "duration": 62,
    "start_time": "2023-07-24T09:05:03.331Z"
   },
   {
    "duration": 39,
    "start_time": "2023-07-24T09:05:08.225Z"
   },
   {
    "duration": 5,
    "start_time": "2023-07-24T09:05:56.404Z"
   },
   {
    "duration": 3,
    "start_time": "2023-07-24T09:06:57.643Z"
   },
   {
    "duration": 6,
    "start_time": "2023-07-24T09:07:31.242Z"
   },
   {
    "duration": 19,
    "start_time": "2023-07-24T09:07:49.073Z"
   },
   {
    "duration": 118,
    "start_time": "2023-07-24T09:09:36.651Z"
   },
   {
    "duration": 69,
    "start_time": "2023-07-24T09:09:47.209Z"
   },
   {
    "duration": 84,
    "start_time": "2023-07-24T09:10:05.116Z"
   },
   {
    "duration": 91,
    "start_time": "2023-07-24T09:13:30.340Z"
   },
   {
    "duration": 1340,
    "start_time": "2023-07-24T10:53:36.655Z"
   },
   {
    "duration": 3,
    "start_time": "2023-07-24T10:53:37.997Z"
   },
   {
    "duration": 772,
    "start_time": "2023-07-24T10:53:38.002Z"
   },
   {
    "duration": 5,
    "start_time": "2023-07-24T10:53:38.777Z"
   },
   {
    "duration": 172,
    "start_time": "2023-07-24T10:53:39.225Z"
   },
   {
    "duration": 5,
    "start_time": "2023-07-24T10:53:41.753Z"
   },
   {
    "duration": 2,
    "start_time": "2023-07-24T10:53:42.264Z"
   },
   {
    "duration": 50,
    "start_time": "2023-07-24T10:53:42.817Z"
   },
   {
    "duration": 5,
    "start_time": "2023-07-24T10:53:44.488Z"
   },
   {
    "duration": 20,
    "start_time": "2023-07-24T10:53:46.499Z"
   },
   {
    "duration": 71,
    "start_time": "2023-07-24T10:53:47.420Z"
   },
   {
    "duration": 62,
    "start_time": "2023-07-24T10:53:47.986Z"
   },
   {
    "duration": 24,
    "start_time": "2023-07-24T10:54:55.538Z"
   },
   {
    "duration": 9,
    "start_time": "2023-07-24T10:55:01.520Z"
   },
   {
    "duration": 23,
    "start_time": "2023-07-24T10:55:36.105Z"
   },
   {
    "duration": 9,
    "start_time": "2023-07-24T10:55:37.121Z"
   },
   {
    "duration": 82,
    "start_time": "2023-07-24T10:57:23.460Z"
   },
   {
    "duration": 10,
    "start_time": "2023-07-24T10:57:25.075Z"
   },
   {
    "duration": 791,
    "start_time": "2023-07-24T11:00:55.918Z"
   },
   {
    "duration": 9,
    "start_time": "2023-07-24T11:01:09.819Z"
   },
   {
    "duration": 1280,
    "start_time": "2023-07-24T11:01:34.435Z"
   },
   {
    "duration": 3,
    "start_time": "2023-07-24T11:01:35.717Z"
   },
   {
    "duration": 162,
    "start_time": "2023-07-24T11:01:35.722Z"
   },
   {
    "duration": 4,
    "start_time": "2023-07-24T11:01:35.885Z"
   },
   {
    "duration": 163,
    "start_time": "2023-07-24T11:01:35.891Z"
   },
   {
    "duration": 5,
    "start_time": "2023-07-24T11:01:36.060Z"
   },
   {
    "duration": 15,
    "start_time": "2023-07-24T11:01:36.066Z"
   },
   {
    "duration": 53,
    "start_time": "2023-07-24T11:01:36.083Z"
   },
   {
    "duration": 2,
    "start_time": "2023-07-24T11:01:36.138Z"
   },
   {
    "duration": 9,
    "start_time": "2023-07-24T11:01:36.142Z"
   },
   {
    "duration": 27,
    "start_time": "2023-07-24T11:01:36.152Z"
   },
   {
    "duration": 66,
    "start_time": "2023-07-24T11:01:36.181Z"
   },
   {
    "duration": 59,
    "start_time": "2023-07-24T11:01:36.248Z"
   },
   {
    "duration": 750,
    "start_time": "2023-07-24T11:01:36.309Z"
   },
   {
    "duration": 9,
    "start_time": "2023-07-24T11:01:37.060Z"
   },
   {
    "duration": 101,
    "start_time": "2023-07-24T11:05:21.531Z"
   },
   {
    "duration": 23,
    "start_time": "2023-07-24T11:05:28.036Z"
   },
   {
    "duration": 28,
    "start_time": "2023-07-24T11:06:41.137Z"
   },
   {
    "duration": 12,
    "start_time": "2023-07-24T11:12:47.730Z"
   },
   {
    "duration": 9,
    "start_time": "2023-07-24T11:14:32.256Z"
   },
   {
    "duration": 8,
    "start_time": "2023-07-24T11:15:34.495Z"
   },
   {
    "duration": 14,
    "start_time": "2023-07-24T11:16:03.993Z"
   },
   {
    "duration": 7,
    "start_time": "2023-07-24T11:16:19.472Z"
   },
   {
    "duration": 23,
    "start_time": "2023-07-24T11:18:31.643Z"
   },
   {
    "duration": 17,
    "start_time": "2023-07-24T11:18:44.961Z"
   },
   {
    "duration": 15,
    "start_time": "2023-07-24T11:18:55.854Z"
   },
   {
    "duration": 29,
    "start_time": "2023-07-24T11:20:19.161Z"
   },
   {
    "duration": 160,
    "start_time": "2023-07-24T11:21:09.933Z"
   },
   {
    "duration": 14,
    "start_time": "2023-07-24T11:21:11.942Z"
   },
   {
    "duration": 49,
    "start_time": "2023-07-24T11:21:35.398Z"
   },
   {
    "duration": 25,
    "start_time": "2023-07-24T11:21:54.524Z"
   },
   {
    "duration": 4,
    "start_time": "2023-07-24T12:07:15.446Z"
   },
   {
    "duration": 3,
    "start_time": "2023-07-24T12:07:18.880Z"
   },
   {
    "duration": 4,
    "start_time": "2023-07-24T12:07:20.860Z"
   },
   {
    "duration": 158,
    "start_time": "2023-07-24T12:07:21.552Z"
   },
   {
    "duration": 4,
    "start_time": "2023-07-24T12:07:22.240Z"
   },
   {
    "duration": 158,
    "start_time": "2023-07-24T12:07:24.032Z"
   },
   {
    "duration": 7,
    "start_time": "2023-07-24T12:07:26.538Z"
   },
   {
    "duration": 4,
    "start_time": "2023-07-24T12:07:33.896Z"
   },
   {
    "duration": 78,
    "start_time": "2023-07-24T12:08:57.926Z"
   },
   {
    "duration": 85,
    "start_time": "2023-07-24T12:09:27.268Z"
   },
   {
    "duration": 6,
    "start_time": "2023-07-24T12:09:32.469Z"
   },
   {
    "duration": 23,
    "start_time": "2023-07-24T12:09:33.970Z"
   },
   {
    "duration": 91,
    "start_time": "2023-07-24T12:09:36.888Z"
   },
   {
    "duration": 81,
    "start_time": "2023-07-24T12:09:38.871Z"
   },
   {
    "duration": 91,
    "start_time": "2023-07-24T12:09:54.687Z"
   },
   {
    "duration": 102,
    "start_time": "2023-07-24T12:10:06.268Z"
   },
   {
    "duration": 66,
    "start_time": "2023-07-24T12:10:06.610Z"
   },
   {
    "duration": 9,
    "start_time": "2023-07-24T12:10:07.677Z"
   },
   {
    "duration": 22,
    "start_time": "2023-07-24T12:10:09.754Z"
   },
   {
    "duration": 20,
    "start_time": "2023-07-24T12:10:17.225Z"
   },
   {
    "duration": 29,
    "start_time": "2023-07-24T12:10:18.445Z"
   },
   {
    "duration": 8,
    "start_time": "2023-07-24T12:10:20.197Z"
   },
   {
    "duration": 8,
    "start_time": "2023-07-24T12:10:21.447Z"
   },
   {
    "duration": 14,
    "start_time": "2023-07-24T12:10:23.387Z"
   },
   {
    "duration": 16,
    "start_time": "2023-07-24T12:10:25.005Z"
   },
   {
    "duration": 14,
    "start_time": "2023-07-24T12:10:26.236Z"
   },
   {
    "duration": 480,
    "start_time": "2023-07-24T12:16:48.448Z"
   },
   {
    "duration": 517,
    "start_time": "2023-07-24T12:18:00.111Z"
   },
   {
    "duration": 99,
    "start_time": "2023-07-24T12:18:50.733Z"
   },
   {
    "duration": 285,
    "start_time": "2023-07-24T12:19:58.129Z"
   },
   {
    "duration": 6,
    "start_time": "2023-07-24T12:20:01.757Z"
   },
   {
    "duration": 376,
    "start_time": "2023-07-24T12:20:03.548Z"
   },
   {
    "duration": 144,
    "start_time": "2023-07-24T12:20:13.367Z"
   },
   {
    "duration": 6,
    "start_time": "2023-07-24T12:20:17.115Z"
   },
   {
    "duration": 3,
    "start_time": "2023-07-24T12:20:19.553Z"
   },
   {
    "duration": 292,
    "start_time": "2023-07-24T12:20:49.013Z"
   },
   {
    "duration": 12,
    "start_time": "2023-07-24T12:21:09.613Z"
   },
   {
    "duration": 1251,
    "start_time": "2023-07-24T12:22:34.201Z"
   },
   {
    "duration": 44,
    "start_time": "2023-07-24T12:22:39.618Z"
   },
   {
    "duration": 334,
    "start_time": "2023-07-24T12:23:29.121Z"
   },
   {
    "duration": 3,
    "start_time": "2023-07-24T12:24:09.050Z"
   },
   {
    "duration": 163,
    "start_time": "2023-07-24T12:24:18.833Z"
   },
   {
    "duration": 182,
    "start_time": "2023-07-24T12:24:28.656Z"
   },
   {
    "duration": 184,
    "start_time": "2023-07-24T12:24:58.961Z"
   },
   {
    "duration": 179,
    "start_time": "2023-07-24T12:25:07.713Z"
   },
   {
    "duration": 6,
    "start_time": "2023-07-24T12:25:09.313Z"
   },
   {
    "duration": 20,
    "start_time": "2023-07-24T12:25:10.940Z"
   },
   {
    "duration": 98,
    "start_time": "2023-07-24T12:25:12.662Z"
   },
   {
    "duration": 76,
    "start_time": "2023-07-24T12:25:13.512Z"
   },
   {
    "duration": 10,
    "start_time": "2023-07-24T12:25:14.527Z"
   },
   {
    "duration": 22,
    "start_time": "2023-07-24T12:25:35.056Z"
   },
   {
    "duration": 27,
    "start_time": "2023-07-24T12:25:35.897Z"
   },
   {
    "duration": 7,
    "start_time": "2023-07-24T12:25:37.850Z"
   },
   {
    "duration": 8,
    "start_time": "2023-07-24T12:25:39.558Z"
   },
   {
    "duration": 20,
    "start_time": "2023-07-24T12:25:44.393Z"
   },
   {
    "duration": 5,
    "start_time": "2023-07-24T12:25:47.699Z"
   },
   {
    "duration": 5,
    "start_time": "2023-07-24T12:25:49.253Z"
   },
   {
    "duration": 341,
    "start_time": "2023-07-24T12:25:55.895Z"
   },
   {
    "duration": 246,
    "start_time": "2023-07-24T12:26:05.679Z"
   },
   {
    "duration": 19,
    "start_time": "2023-07-24T12:26:38.811Z"
   },
   {
    "duration": 273,
    "start_time": "2023-07-24T12:26:42.978Z"
   },
   {
    "duration": 283,
    "start_time": "2023-07-24T12:26:50.943Z"
   },
   {
    "duration": 5,
    "start_time": "2023-07-24T12:27:37.086Z"
   },
   {
    "duration": 73,
    "start_time": "2023-07-24T12:27:52.751Z"
   },
   {
    "duration": 150,
    "start_time": "2023-07-24T12:28:12.079Z"
   },
   {
    "duration": 86,
    "start_time": "2023-07-24T12:29:27.227Z"
   },
   {
    "duration": 293,
    "start_time": "2023-07-24T12:29:38.457Z"
   },
   {
    "duration": 286,
    "start_time": "2023-07-24T12:29:57.193Z"
   },
   {
    "duration": 414,
    "start_time": "2023-07-24T12:30:42.900Z"
   },
   {
    "duration": 1294,
    "start_time": "2023-07-24T16:10:13.934Z"
   },
   {
    "duration": 2,
    "start_time": "2023-07-24T16:10:15.235Z"
   },
   {
    "duration": 971,
    "start_time": "2023-07-24T16:10:15.890Z"
   },
   {
    "duration": 4,
    "start_time": "2023-07-24T16:10:16.863Z"
   },
   {
    "duration": 123,
    "start_time": "2023-07-24T16:10:17.405Z"
   },
   {
    "duration": 5,
    "start_time": "2023-07-24T16:10:21.459Z"
   },
   {
    "duration": 3,
    "start_time": "2023-07-24T16:10:21.978Z"
   },
   {
    "duration": 190,
    "start_time": "2023-07-24T16:10:22.534Z"
   },
   {
    "duration": 5,
    "start_time": "2023-07-24T16:10:26.590Z"
   },
   {
    "duration": 17,
    "start_time": "2023-07-24T16:10:27.366Z"
   },
   {
    "duration": 89,
    "start_time": "2023-07-24T16:10:28.188Z"
   },
   {
    "duration": 63,
    "start_time": "2023-07-24T16:10:29.033Z"
   },
   {
    "duration": 8,
    "start_time": "2023-07-24T16:10:29.934Z"
   },
   {
    "duration": 21,
    "start_time": "2023-07-24T16:10:33.290Z"
   },
   {
    "duration": 26,
    "start_time": "2023-07-24T16:10:35.590Z"
   },
   {
    "duration": 7,
    "start_time": "2023-07-24T16:10:39.003Z"
   },
   {
    "duration": 8,
    "start_time": "2023-07-24T16:10:40.895Z"
   },
   {
    "duration": 14,
    "start_time": "2023-07-24T16:10:45.166Z"
   },
   {
    "duration": 148,
    "start_time": "2023-07-24T16:10:47.890Z"
   },
   {
    "duration": 18,
    "start_time": "2023-07-24T16:12:00.531Z"
   },
   {
    "duration": 161,
    "start_time": "2023-07-24T16:13:51.225Z"
   },
   {
    "duration": 232,
    "start_time": "2023-07-24T16:14:03.198Z"
   },
   {
    "duration": 193,
    "start_time": "2023-07-24T16:14:18.102Z"
   },
   {
    "duration": 232,
    "start_time": "2023-07-24T16:15:51.429Z"
   },
   {
    "duration": 173,
    "start_time": "2023-07-24T16:16:23.666Z"
   },
   {
    "duration": 340,
    "start_time": "2023-07-24T16:16:50.106Z"
   },
   {
    "duration": 244,
    "start_time": "2023-07-24T16:18:04.794Z"
   },
   {
    "duration": 3,
    "start_time": "2023-07-24T16:18:12.579Z"
   },
   {
    "duration": 5,
    "start_time": "2023-07-24T16:19:35.997Z"
   },
   {
    "duration": 20,
    "start_time": "2023-07-24T16:20:41.374Z"
   },
   {
    "duration": 69,
    "start_time": "2023-07-24T16:21:27.304Z"
   },
   {
    "duration": 65,
    "start_time": "2023-07-24T16:21:37.942Z"
   },
   {
    "duration": 19,
    "start_time": "2023-07-24T16:21:57.691Z"
   },
   {
    "duration": 160,
    "start_time": "2023-07-24T16:23:17.365Z"
   },
   {
    "duration": 237,
    "start_time": "2023-07-24T16:23:33.456Z"
   },
   {
    "duration": 19,
    "start_time": "2023-07-24T16:23:54.592Z"
   },
   {
    "duration": 248,
    "start_time": "2023-07-24T16:24:24.292Z"
   },
   {
    "duration": 21,
    "start_time": "2023-07-24T16:24:40.352Z"
   },
   {
    "duration": 21,
    "start_time": "2023-07-24T16:25:30.974Z"
   },
   {
    "duration": 257,
    "start_time": "2023-07-24T16:25:45.969Z"
   },
   {
    "duration": 242,
    "start_time": "2023-07-24T16:25:50.462Z"
   },
   {
    "duration": 150,
    "start_time": "2023-07-24T16:26:05.592Z"
   },
   {
    "duration": 20,
    "start_time": "2023-07-24T16:26:18.126Z"
   },
   {
    "duration": 34,
    "start_time": "2023-07-24T16:26:30.301Z"
   },
   {
    "duration": 20,
    "start_time": "2023-07-24T16:26:36.329Z"
   },
   {
    "duration": 131,
    "start_time": "2023-07-24T16:32:01.357Z"
   },
   {
    "duration": 248,
    "start_time": "2023-07-24T16:32:30.820Z"
   },
   {
    "duration": 237,
    "start_time": "2023-07-24T16:34:23.405Z"
   },
   {
    "duration": 9,
    "start_time": "2023-07-24T16:34:33.661Z"
   },
   {
    "duration": 3,
    "start_time": "2023-07-24T16:34:42.902Z"
   },
   {
    "duration": 143,
    "start_time": "2023-07-24T16:34:50.416Z"
   },
   {
    "duration": 141,
    "start_time": "2023-07-24T16:34:59.257Z"
   },
   {
    "duration": 242,
    "start_time": "2023-07-24T16:35:06.279Z"
   },
   {
    "duration": 240,
    "start_time": "2023-07-24T16:35:14.592Z"
   },
   {
    "duration": 466,
    "start_time": "2023-07-24T16:36:47.309Z"
   },
   {
    "duration": 502,
    "start_time": "2023-07-24T16:37:33.958Z"
   },
   {
    "duration": 470,
    "start_time": "2023-07-24T16:39:16.179Z"
   },
   {
    "duration": 491,
    "start_time": "2023-07-24T16:39:25.526Z"
   },
   {
    "duration": 2,
    "start_time": "2023-07-24T16:41:41.374Z"
   },
   {
    "duration": 3,
    "start_time": "2023-07-24T16:41:55.380Z"
   },
   {
    "duration": 50,
    "start_time": "2023-07-24T16:44:00.143Z"
   },
   {
    "duration": 34,
    "start_time": "2023-07-24T16:44:12.840Z"
   },
   {
    "duration": 18,
    "start_time": "2023-07-24T16:44:44.964Z"
   },
   {
    "duration": 19,
    "start_time": "2023-07-24T16:44:52.598Z"
   },
   {
    "duration": 2,
    "start_time": "2023-07-24T17:33:00.829Z"
   },
   {
    "duration": 4,
    "start_time": "2023-07-24T17:33:01.784Z"
   },
   {
    "duration": 148,
    "start_time": "2023-07-24T17:33:02.642Z"
   },
   {
    "duration": 3,
    "start_time": "2023-07-24T17:33:03.493Z"
   },
   {
    "duration": 109,
    "start_time": "2023-07-24T17:33:04.332Z"
   },
   {
    "duration": 3,
    "start_time": "2023-07-24T17:33:11.446Z"
   },
   {
    "duration": 6,
    "start_time": "2023-07-24T17:35:40.975Z"
   },
   {
    "duration": 6,
    "start_time": "2023-07-24T17:35:41.689Z"
   },
   {
    "duration": 172,
    "start_time": "2023-07-24T17:35:42.694Z"
   },
   {
    "duration": 6,
    "start_time": "2023-07-24T17:35:46.355Z"
   },
   {
    "duration": 20,
    "start_time": "2023-07-24T17:35:47.185Z"
   },
   {
    "duration": 93,
    "start_time": "2023-07-24T17:35:48.079Z"
   },
   {
    "duration": 66,
    "start_time": "2023-07-24T17:35:48.746Z"
   },
   {
    "duration": 39,
    "start_time": "2023-07-24T17:35:51.605Z"
   },
   {
    "duration": 28,
    "start_time": "2023-07-24T17:35:54.285Z"
   },
   {
    "duration": 8,
    "start_time": "2023-07-24T17:37:41.288Z"
   },
   {
    "duration": 7,
    "start_time": "2023-07-24T17:37:44.728Z"
   },
   {
    "duration": 18,
    "start_time": "2023-07-24T17:37:46.002Z"
   },
   {
    "duration": 195,
    "start_time": "2023-07-24T17:37:47.124Z"
   },
   {
    "duration": 651,
    "start_time": "2023-07-24T17:37:47.853Z"
   },
   {
    "duration": 35,
    "start_time": "2023-07-24T17:37:51.476Z"
   },
   {
    "duration": 17,
    "start_time": "2023-07-24T17:37:54.789Z"
   },
   {
    "duration": 9,
    "start_time": "2023-07-24T17:39:18.754Z"
   },
   {
    "duration": 17,
    "start_time": "2023-07-24T17:40:05.789Z"
   },
   {
    "duration": 3,
    "start_time": "2023-07-24T17:41:27.245Z"
   },
   {
    "duration": 3,
    "start_time": "2023-07-24T17:43:03.391Z"
   },
   {
    "duration": 1124,
    "start_time": "2023-07-24T17:43:15.403Z"
   },
   {
    "duration": 3,
    "start_time": "2023-07-24T17:43:16.528Z"
   },
   {
    "duration": 163,
    "start_time": "2023-07-24T17:43:16.532Z"
   },
   {
    "duration": 3,
    "start_time": "2023-07-24T17:43:16.697Z"
   },
   {
    "duration": 147,
    "start_time": "2023-07-24T17:43:16.702Z"
   },
   {
    "duration": 1313,
    "start_time": "2023-07-24T17:43:16.851Z"
   },
   {
    "duration": 0,
    "start_time": "2023-07-24T17:43:18.166Z"
   },
   {
    "duration": 0,
    "start_time": "2023-07-24T17:43:18.167Z"
   },
   {
    "duration": 0,
    "start_time": "2023-07-24T17:43:18.168Z"
   },
   {
    "duration": 0,
    "start_time": "2023-07-24T17:43:18.170Z"
   },
   {
    "duration": 0,
    "start_time": "2023-07-24T17:43:18.171Z"
   },
   {
    "duration": 0,
    "start_time": "2023-07-24T17:43:18.173Z"
   },
   {
    "duration": 0,
    "start_time": "2023-07-24T17:43:18.180Z"
   },
   {
    "duration": 0,
    "start_time": "2023-07-24T17:43:18.181Z"
   },
   {
    "duration": 0,
    "start_time": "2023-07-24T17:43:18.181Z"
   },
   {
    "duration": 0,
    "start_time": "2023-07-24T17:43:18.182Z"
   },
   {
    "duration": 0,
    "start_time": "2023-07-24T17:43:18.183Z"
   },
   {
    "duration": 0,
    "start_time": "2023-07-24T17:43:18.184Z"
   },
   {
    "duration": 0,
    "start_time": "2023-07-24T17:43:18.185Z"
   },
   {
    "duration": 0,
    "start_time": "2023-07-24T17:43:18.187Z"
   },
   {
    "duration": 0,
    "start_time": "2023-07-24T17:43:18.187Z"
   },
   {
    "duration": 0,
    "start_time": "2023-07-24T17:43:18.188Z"
   },
   {
    "duration": 0,
    "start_time": "2023-07-24T17:43:18.189Z"
   },
   {
    "duration": 0,
    "start_time": "2023-07-24T17:43:18.190Z"
   },
   {
    "duration": 0,
    "start_time": "2023-07-24T17:43:18.191Z"
   },
   {
    "duration": 0,
    "start_time": "2023-07-24T17:43:18.192Z"
   },
   {
    "duration": 154,
    "start_time": "2023-07-24T17:44:54.996Z"
   },
   {
    "duration": 4,
    "start_time": "2023-07-24T17:45:00.551Z"
   },
   {
    "duration": 4,
    "start_time": "2023-07-24T17:45:01.870Z"
   },
   {
    "duration": 175,
    "start_time": "2023-07-24T17:45:02.485Z"
   },
   {
    "duration": 4,
    "start_time": "2023-07-24T17:45:06.723Z"
   },
   {
    "duration": 7,
    "start_time": "2023-07-24T17:45:07.284Z"
   },
   {
    "duration": 35,
    "start_time": "2023-07-24T17:45:08.254Z"
   },
   {
    "duration": 93,
    "start_time": "2023-07-24T17:45:09.438Z"
   },
   {
    "duration": 75,
    "start_time": "2023-07-24T17:45:10.865Z"
   },
   {
    "duration": 47,
    "start_time": "2023-07-24T17:45:11.670Z"
   },
   {
    "duration": 13,
    "start_time": "2023-07-24T17:45:12.572Z"
   },
   {
    "duration": 46,
    "start_time": "2023-07-24T17:45:16.357Z"
   },
   {
    "duration": 32,
    "start_time": "2023-07-24T17:45:17.295Z"
   },
   {
    "duration": 11,
    "start_time": "2023-07-24T17:45:19.005Z"
   },
   {
    "duration": 8,
    "start_time": "2023-07-24T17:45:23.449Z"
   },
   {
    "duration": 14,
    "start_time": "2023-07-24T17:45:26.423Z"
   },
   {
    "duration": 192,
    "start_time": "2023-07-24T17:45:26.981Z"
   },
   {
    "duration": 565,
    "start_time": "2023-07-24T17:45:27.915Z"
   },
   {
    "duration": 19,
    "start_time": "2023-07-24T17:45:31.938Z"
   },
   {
    "duration": 25,
    "start_time": "2023-07-24T17:45:36.140Z"
   },
   {
    "duration": 4,
    "start_time": "2023-07-24T17:45:37.578Z"
   },
   {
    "duration": 3,
    "start_time": "2023-07-24T17:45:38.291Z"
   },
   {
    "duration": 1462,
    "start_time": "2023-07-25T13:21:53.866Z"
   },
   {
    "duration": 3,
    "start_time": "2023-07-25T13:21:55.330Z"
   },
   {
    "duration": 522,
    "start_time": "2023-07-25T13:21:55.335Z"
   },
   {
    "duration": 5,
    "start_time": "2023-07-25T13:21:55.859Z"
   },
   {
    "duration": 185,
    "start_time": "2023-07-25T13:21:55.867Z"
   },
   {
    "duration": 5,
    "start_time": "2023-07-25T13:21:56.054Z"
   },
   {
    "duration": 18,
    "start_time": "2023-07-25T13:21:56.060Z"
   },
   {
    "duration": 197,
    "start_time": "2023-07-25T13:21:56.080Z"
   },
   {
    "duration": 2,
    "start_time": "2023-07-25T13:21:56.279Z"
   },
   {
    "duration": 25,
    "start_time": "2023-07-25T13:21:56.283Z"
   },
   {
    "duration": 36,
    "start_time": "2023-07-25T13:21:56.311Z"
   },
   {
    "duration": 108,
    "start_time": "2023-07-25T13:21:56.350Z"
   },
   {
    "duration": 72,
    "start_time": "2023-07-25T13:21:56.460Z"
   },
   {
    "duration": 63,
    "start_time": "2023-07-25T13:21:56.535Z"
   },
   {
    "duration": 11,
    "start_time": "2023-07-25T13:21:56.600Z"
   },
   {
    "duration": 37,
    "start_time": "2023-07-25T13:21:56.613Z"
   },
   {
    "duration": 53,
    "start_time": "2023-07-25T13:21:56.652Z"
   },
   {
    "duration": 9,
    "start_time": "2023-07-25T13:21:56.707Z"
   },
   {
    "duration": 13,
    "start_time": "2023-07-25T13:21:56.718Z"
   },
   {
    "duration": 26,
    "start_time": "2023-07-25T13:21:56.733Z"
   },
   {
    "duration": 182,
    "start_time": "2023-07-25T13:21:56.761Z"
   },
   {
    "duration": 679,
    "start_time": "2023-07-25T13:21:56.945Z"
   },
   {
    "duration": 23,
    "start_time": "2023-07-25T13:21:57.625Z"
   },
   {
    "duration": 16,
    "start_time": "2023-07-25T13:21:57.650Z"
   },
   {
    "duration": 4,
    "start_time": "2023-07-25T13:21:57.668Z"
   },
   {
    "duration": 3,
    "start_time": "2023-07-25T13:21:57.695Z"
   },
   {
    "duration": 48,
    "start_time": "2023-07-25T13:21:57.700Z"
   },
   {
    "duration": 51,
    "start_time": "2023-07-25T13:21:57.749Z"
   },
   {
    "duration": 8,
    "start_time": "2023-07-25T13:22:09.737Z"
   },
   {
    "duration": 68,
    "start_time": "2023-07-25T13:22:41.351Z"
   },
   {
    "duration": 157,
    "start_time": "2023-07-25T13:22:48.662Z"
   },
   {
    "duration": 12,
    "start_time": "2023-07-25T13:25:01.848Z"
   },
   {
    "duration": 16,
    "start_time": "2023-07-25T13:30:07.028Z"
   },
   {
    "duration": 13,
    "start_time": "2023-07-25T13:32:41.954Z"
   },
   {
    "duration": 15,
    "start_time": "2023-07-25T13:32:56.734Z"
   },
   {
    "duration": 73,
    "start_time": "2023-07-25T13:35:30.232Z"
   },
   {
    "duration": 160,
    "start_time": "2023-07-25T13:35:33.660Z"
   },
   {
    "duration": 13,
    "start_time": "2023-07-25T13:35:39.025Z"
   },
   {
    "duration": 14,
    "start_time": "2023-07-25T13:40:24.017Z"
   },
   {
    "duration": 12,
    "start_time": "2023-07-25T13:41:28.614Z"
   },
   {
    "duration": 4,
    "start_time": "2023-07-25T13:46:11.054Z"
   },
   {
    "duration": 23,
    "start_time": "2023-07-25T13:49:44.822Z"
   },
   {
    "duration": 98,
    "start_time": "2023-07-25T13:49:50.694Z"
   },
   {
    "duration": 26,
    "start_time": "2023-07-25T13:49:55.197Z"
   },
   {
    "duration": 24,
    "start_time": "2023-07-25T13:52:28.099Z"
   },
   {
    "duration": 16,
    "start_time": "2023-07-25T13:52:33.777Z"
   },
   {
    "duration": 12,
    "start_time": "2023-07-25T13:57:54.555Z"
   },
   {
    "duration": 14,
    "start_time": "2023-07-25T13:58:29.213Z"
   },
   {
    "duration": 9,
    "start_time": "2023-07-25T13:58:40.132Z"
   },
   {
    "duration": 15,
    "start_time": "2023-07-25T13:58:52.343Z"
   },
   {
    "duration": 22,
    "start_time": "2023-07-25T13:59:28.063Z"
   },
   {
    "duration": 11,
    "start_time": "2023-07-25T13:59:42.394Z"
   },
   {
    "duration": 10,
    "start_time": "2023-07-25T13:59:47.405Z"
   },
   {
    "duration": 8,
    "start_time": "2023-07-25T13:59:55.121Z"
   },
   {
    "duration": 29,
    "start_time": "2023-07-25T14:00:02.544Z"
   },
   {
    "duration": 24,
    "start_time": "2023-07-25T14:01:08.528Z"
   },
   {
    "duration": 37,
    "start_time": "2023-07-25T14:02:17.654Z"
   },
   {
    "duration": 41,
    "start_time": "2023-07-25T14:02:24.237Z"
   },
   {
    "duration": 60,
    "start_time": "2023-07-25T14:02:48.134Z"
   },
   {
    "duration": 62,
    "start_time": "2023-07-25T14:03:32.926Z"
   },
   {
    "duration": 7,
    "start_time": "2023-07-25T14:03:43.423Z"
   },
   {
    "duration": 8,
    "start_time": "2023-07-25T14:04:10.225Z"
   },
   {
    "duration": 2257,
    "start_time": "2023-07-25T14:04:36.201Z"
   },
   {
    "duration": 16,
    "start_time": "2023-07-25T14:04:58.508Z"
   },
   {
    "duration": 3,
    "start_time": "2023-07-25T14:05:34.465Z"
   },
   {
    "duration": 10,
    "start_time": "2023-07-25T14:15:29.020Z"
   },
   {
    "duration": 12,
    "start_time": "2023-07-25T14:16:00.834Z"
   },
   {
    "duration": 14,
    "start_time": "2023-07-25T14:16:06.340Z"
   },
   {
    "duration": 11,
    "start_time": "2023-07-25T14:16:17.335Z"
   },
   {
    "duration": 11,
    "start_time": "2023-07-25T14:16:19.100Z"
   },
   {
    "duration": 13,
    "start_time": "2023-07-25T14:17:12.768Z"
   },
   {
    "duration": 12,
    "start_time": "2023-07-25T14:17:14.049Z"
   },
   {
    "duration": 181,
    "start_time": "2023-07-25T14:20:00.651Z"
   },
   {
    "duration": 164,
    "start_time": "2023-07-25T14:20:12.600Z"
   },
   {
    "duration": 225,
    "start_time": "2023-07-25T14:20:31.093Z"
   },
   {
    "duration": 168,
    "start_time": "2023-07-25T14:26:43.824Z"
   },
   {
    "duration": 168,
    "start_time": "2023-07-25T14:26:52.698Z"
   },
   {
    "duration": 54,
    "start_time": "2023-07-25T14:37:59.628Z"
   },
   {
    "duration": 43,
    "start_time": "2023-07-25T15:58:27.128Z"
   },
   {
    "duration": 29,
    "start_time": "2023-07-25T15:58:43.131Z"
   },
   {
    "duration": 28,
    "start_time": "2023-07-25T15:59:14.646Z"
   },
   {
    "duration": 35,
    "start_time": "2023-07-25T15:59:37.616Z"
   },
   {
    "duration": 35,
    "start_time": "2023-07-25T15:59:59.135Z"
   },
   {
    "duration": 46,
    "start_time": "2023-07-25T16:01:04.717Z"
   },
   {
    "duration": 2811,
    "start_time": "2023-07-25T16:02:45.346Z"
   },
   {
    "duration": 13,
    "start_time": "2023-07-25T16:03:15.442Z"
   },
   {
    "duration": 31,
    "start_time": "2023-07-25T16:03:32.333Z"
   },
   {
    "duration": 20,
    "start_time": "2023-07-25T16:04:15.456Z"
   },
   {
    "duration": 16,
    "start_time": "2023-07-25T16:05:14.640Z"
   },
   {
    "duration": 134,
    "start_time": "2023-07-25T16:05:50.026Z"
   },
   {
    "duration": 146,
    "start_time": "2023-07-25T16:05:56.075Z"
   },
   {
    "duration": 111,
    "start_time": "2023-07-25T16:08:46.134Z"
   },
   {
    "duration": 95,
    "start_time": "2023-07-25T16:08:52.125Z"
   },
   {
    "duration": 18,
    "start_time": "2023-07-25T16:09:56.230Z"
   },
   {
    "duration": 19,
    "start_time": "2023-07-25T16:10:39.850Z"
   },
   {
    "duration": 1267,
    "start_time": "2023-07-26T07:14:10.406Z"
   },
   {
    "duration": 3,
    "start_time": "2023-07-26T07:14:11.674Z"
   },
   {
    "duration": 484,
    "start_time": "2023-07-26T07:14:11.678Z"
   },
   {
    "duration": 4,
    "start_time": "2023-07-26T07:14:12.164Z"
   },
   {
    "duration": 129,
    "start_time": "2023-07-26T07:14:12.169Z"
   },
   {
    "duration": 4,
    "start_time": "2023-07-26T07:14:12.299Z"
   },
   {
    "duration": 23,
    "start_time": "2023-07-26T07:14:12.305Z"
   },
   {
    "duration": 183,
    "start_time": "2023-07-26T07:14:12.329Z"
   },
   {
    "duration": 2,
    "start_time": "2023-07-26T07:14:12.513Z"
   },
   {
    "duration": 32,
    "start_time": "2023-07-26T07:14:12.519Z"
   },
   {
    "duration": 42,
    "start_time": "2023-07-26T07:14:12.552Z"
   },
   {
    "duration": 97,
    "start_time": "2023-07-26T07:14:12.596Z"
   },
   {
    "duration": 59,
    "start_time": "2023-07-26T07:14:12.694Z"
   },
   {
    "duration": 38,
    "start_time": "2023-07-26T07:14:12.755Z"
   },
   {
    "duration": 7,
    "start_time": "2023-07-26T07:14:12.794Z"
   },
   {
    "duration": 35,
    "start_time": "2023-07-26T07:14:12.802Z"
   },
   {
    "duration": 37,
    "start_time": "2023-07-26T07:14:12.839Z"
   },
   {
    "duration": 20,
    "start_time": "2023-07-26T07:14:12.877Z"
   },
   {
    "duration": 18,
    "start_time": "2023-07-26T07:14:12.898Z"
   },
   {
    "duration": 26,
    "start_time": "2023-07-26T07:14:12.918Z"
   },
   {
    "duration": 150,
    "start_time": "2023-07-26T07:14:12.945Z"
   },
   {
    "duration": 563,
    "start_time": "2023-07-26T07:14:13.097Z"
   },
   {
    "duration": 18,
    "start_time": "2023-07-26T07:14:13.662Z"
   },
   {
    "duration": 15,
    "start_time": "2023-07-26T07:14:13.682Z"
   },
   {
    "duration": 3,
    "start_time": "2023-07-26T07:14:13.699Z"
   },
   {
    "duration": 20,
    "start_time": "2023-07-26T07:14:13.703Z"
   },
   {
    "duration": 47,
    "start_time": "2023-07-26T07:14:13.724Z"
   },
   {
    "duration": 31,
    "start_time": "2023-07-26T07:14:13.774Z"
   },
   {
    "duration": 15,
    "start_time": "2023-07-26T07:14:13.806Z"
   },
   {
    "duration": 58,
    "start_time": "2023-07-26T07:14:13.823Z"
   },
   {
    "duration": 154,
    "start_time": "2023-07-26T07:14:13.882Z"
   },
   {
    "duration": 2,
    "start_time": "2023-07-26T07:14:14.038Z"
   },
   {
    "duration": 59,
    "start_time": "2023-07-26T07:14:14.041Z"
   },
   {
    "duration": 29,
    "start_time": "2023-07-26T07:14:14.101Z"
   },
   {
    "duration": 43,
    "start_time": "2023-07-26T07:14:14.131Z"
   },
   {
    "duration": 143,
    "start_time": "2023-07-26T07:14:14.175Z"
   },
   {
    "duration": 31,
    "start_time": "2023-07-26T07:14:14.320Z"
   },
   {
    "duration": 14,
    "start_time": "2023-07-26T07:14:14.353Z"
   },
   {
    "duration": 1184,
    "start_time": "2023-07-26T07:26:10.020Z"
   },
   {
    "duration": 3,
    "start_time": "2023-07-26T07:26:11.206Z"
   },
   {
    "duration": 186,
    "start_time": "2023-07-26T07:26:11.210Z"
   },
   {
    "duration": 3,
    "start_time": "2023-07-26T07:26:11.398Z"
   },
   {
    "duration": 202,
    "start_time": "2023-07-26T07:26:11.403Z"
   },
   {
    "duration": 15,
    "start_time": "2023-07-26T07:26:11.606Z"
   },
   {
    "duration": 19,
    "start_time": "2023-07-26T07:26:11.623Z"
   },
   {
    "duration": 188,
    "start_time": "2023-07-26T07:26:11.643Z"
   },
   {
    "duration": 3,
    "start_time": "2023-07-26T07:26:11.833Z"
   },
   {
    "duration": 42,
    "start_time": "2023-07-26T07:26:11.840Z"
   },
   {
    "duration": 32,
    "start_time": "2023-07-26T07:26:11.883Z"
   },
   {
    "duration": 189,
    "start_time": "2023-07-26T07:26:11.917Z"
   },
   {
    "duration": 81,
    "start_time": "2023-07-26T07:26:12.108Z"
   },
   {
    "duration": 59,
    "start_time": "2023-07-26T07:26:12.191Z"
   },
   {
    "duration": 10,
    "start_time": "2023-07-26T07:26:12.252Z"
   },
   {
    "duration": 38,
    "start_time": "2023-07-26T07:26:12.264Z"
   },
   {
    "duration": 60,
    "start_time": "2023-07-26T07:26:12.303Z"
   },
   {
    "duration": 18,
    "start_time": "2023-07-26T07:26:12.366Z"
   },
   {
    "duration": 15,
    "start_time": "2023-07-26T07:26:12.387Z"
   },
   {
    "duration": 53,
    "start_time": "2023-07-26T07:26:12.404Z"
   },
   {
    "duration": 167,
    "start_time": "2023-07-26T07:26:12.458Z"
   },
   {
    "duration": 651,
    "start_time": "2023-07-26T07:26:12.626Z"
   },
   {
    "duration": 20,
    "start_time": "2023-07-26T07:26:13.279Z"
   },
   {
    "duration": 26,
    "start_time": "2023-07-26T07:26:13.301Z"
   },
   {
    "duration": 34,
    "start_time": "2023-07-26T07:26:13.329Z"
   },
   {
    "duration": 21,
    "start_time": "2023-07-26T07:26:13.365Z"
   },
   {
    "duration": 88,
    "start_time": "2023-07-26T07:26:13.388Z"
   },
   {
    "duration": 31,
    "start_time": "2023-07-26T07:26:13.479Z"
   },
   {
    "duration": 15,
    "start_time": "2023-07-26T07:26:13.512Z"
   },
   {
    "duration": 149,
    "start_time": "2023-07-26T07:26:13.529Z"
   },
   {
    "duration": 171,
    "start_time": "2023-07-26T07:26:13.680Z"
   },
   {
    "duration": 3,
    "start_time": "2023-07-26T07:26:13.853Z"
   },
   {
    "duration": 27,
    "start_time": "2023-07-26T07:26:13.858Z"
   },
   {
    "duration": 18,
    "start_time": "2023-07-26T07:26:13.889Z"
   },
   {
    "duration": 26,
    "start_time": "2023-07-26T07:26:13.908Z"
   },
   {
    "duration": 164,
    "start_time": "2023-07-26T07:26:13.936Z"
   },
   {
    "duration": 44,
    "start_time": "2023-07-26T07:26:14.102Z"
   },
   {
    "duration": 16,
    "start_time": "2023-07-26T07:26:14.147Z"
   },
   {
    "duration": 115,
    "start_time": "2023-07-26T07:49:19.383Z"
   },
   {
    "duration": 94,
    "start_time": "2023-07-26T07:51:21.516Z"
   },
   {
    "duration": 98,
    "start_time": "2023-07-26T07:52:03.554Z"
   },
   {
    "duration": 79,
    "start_time": "2023-07-26T07:52:27.956Z"
   },
   {
    "duration": 73,
    "start_time": "2023-07-26T07:52:31.743Z"
   },
   {
    "duration": 83,
    "start_time": "2023-07-26T07:52:38.008Z"
   },
   {
    "duration": 74,
    "start_time": "2023-07-26T07:54:12.680Z"
   },
   {
    "duration": 128,
    "start_time": "2023-07-26T07:55:01.552Z"
   },
   {
    "duration": 90,
    "start_time": "2023-07-26T07:55:15.674Z"
   },
   {
    "duration": 74,
    "start_time": "2023-07-26T07:56:11.691Z"
   },
   {
    "duration": 77,
    "start_time": "2023-07-26T07:57:10.832Z"
   },
   {
    "duration": 92,
    "start_time": "2023-07-26T07:57:17.313Z"
   },
   {
    "duration": 71,
    "start_time": "2023-07-26T08:05:48.186Z"
   },
   {
    "duration": 60,
    "start_time": "2023-07-26T08:11:34.255Z"
   },
   {
    "duration": 64,
    "start_time": "2023-07-26T08:11:52.631Z"
   },
   {
    "duration": 336,
    "start_time": "2023-07-26T08:12:50.736Z"
   },
   {
    "duration": 73,
    "start_time": "2023-07-26T08:13:01.782Z"
   },
   {
    "duration": 2,
    "start_time": "2023-07-26T08:14:18.346Z"
   },
   {
    "duration": 90,
    "start_time": "2023-07-26T08:24:30.160Z"
   },
   {
    "duration": 4,
    "start_time": "2023-07-26T08:25:35.532Z"
   },
   {
    "duration": 2,
    "start_time": "2023-07-26T08:26:01.052Z"
   },
   {
    "duration": 24,
    "start_time": "2023-07-26T08:50:58.037Z"
   },
   {
    "duration": 95,
    "start_time": "2023-07-26T08:51:10.364Z"
   },
   {
    "duration": 93,
    "start_time": "2023-07-26T08:51:28.204Z"
   },
   {
    "duration": 27,
    "start_time": "2023-07-26T08:53:56.402Z"
   },
   {
    "duration": 29,
    "start_time": "2023-07-26T08:54:01.648Z"
   },
   {
    "duration": 5341,
    "start_time": "2023-07-26T08:55:58.665Z"
   },
   {
    "duration": 82,
    "start_time": "2023-07-26T08:56:13.873Z"
   },
   {
    "duration": 86,
    "start_time": "2023-07-26T08:56:23.164Z"
   },
   {
    "duration": 27,
    "start_time": "2023-07-26T08:59:46.322Z"
   },
   {
    "duration": 29,
    "start_time": "2023-07-26T08:59:51.691Z"
   },
   {
    "duration": 8,
    "start_time": "2023-07-26T09:00:14.069Z"
   },
   {
    "duration": 7278,
    "start_time": "2023-07-26T09:00:30.077Z"
   },
   {
    "duration": 80,
    "start_time": "2023-07-26T09:05:58.475Z"
   },
   {
    "duration": 99,
    "start_time": "2023-07-26T09:07:29.804Z"
   },
   {
    "duration": 119,
    "start_time": "2023-07-26T09:08:15.535Z"
   },
   {
    "duration": 40,
    "start_time": "2023-07-26T09:08:39.117Z"
   },
   {
    "duration": 231,
    "start_time": "2023-07-26T09:08:57.460Z"
   },
   {
    "duration": 78,
    "start_time": "2023-07-26T09:12:23.888Z"
   },
   {
    "duration": 81,
    "start_time": "2023-07-26T09:12:43.308Z"
   },
   {
    "duration": 100,
    "start_time": "2023-07-26T09:12:47.938Z"
   },
   {
    "duration": 219,
    "start_time": "2023-07-26T09:13:50.458Z"
   },
   {
    "duration": 214,
    "start_time": "2023-07-26T09:14:16.459Z"
   },
   {
    "duration": 915,
    "start_time": "2023-07-26T09:14:53.382Z"
   },
   {
    "duration": 209,
    "start_time": "2023-07-26T09:14:58.874Z"
   },
   {
    "duration": 206,
    "start_time": "2023-07-26T09:15:21.829Z"
   },
   {
    "duration": 214,
    "start_time": "2023-07-26T09:15:43.822Z"
   },
   {
    "duration": 95,
    "start_time": "2023-07-26T09:17:04.848Z"
   },
   {
    "duration": 2,
    "start_time": "2023-07-26T09:18:34.495Z"
   },
   {
    "duration": 78,
    "start_time": "2023-07-26T09:18:40.807Z"
   },
   {
    "duration": 85,
    "start_time": "2023-07-26T09:18:54.663Z"
   },
   {
    "duration": 286,
    "start_time": "2023-07-26T09:19:09.890Z"
   },
   {
    "duration": 2,
    "start_time": "2023-07-26T09:20:19.480Z"
   },
   {
    "duration": 82,
    "start_time": "2023-07-26T09:20:39.498Z"
   },
   {
    "duration": 89,
    "start_time": "2023-07-26T09:21:55.216Z"
   },
   {
    "duration": 2,
    "start_time": "2023-07-26T10:49:24.024Z"
   },
   {
    "duration": 3,
    "start_time": "2023-07-26T10:49:25.547Z"
   },
   {
    "duration": 6,
    "start_time": "2023-07-26T11:06:49.117Z"
   },
   {
    "duration": 3480,
    "start_time": "2023-07-26T11:13:27.347Z"
   },
   {
    "duration": 92,
    "start_time": "2023-07-26T11:15:26.683Z"
   },
   {
    "duration": 121,
    "start_time": "2023-07-26T11:15:45.427Z"
   },
   {
    "duration": 74,
    "start_time": "2023-07-26T13:12:04.102Z"
   },
   {
    "duration": 106,
    "start_time": "2023-07-26T13:14:25.131Z"
   },
   {
    "duration": 7,
    "start_time": "2023-07-26T13:19:03.295Z"
   },
   {
    "duration": 6,
    "start_time": "2023-07-26T13:19:36.139Z"
   },
   {
    "duration": 7,
    "start_time": "2023-07-26T13:22:09.650Z"
   },
   {
    "duration": 7,
    "start_time": "2023-07-26T13:22:39.989Z"
   },
   {
    "duration": 5,
    "start_time": "2023-07-26T13:25:28.590Z"
   },
   {
    "duration": 7,
    "start_time": "2023-07-26T13:25:57.676Z"
   },
   {
    "duration": 9,
    "start_time": "2023-07-26T13:26:27.126Z"
   },
   {
    "duration": 11,
    "start_time": "2023-07-26T13:29:05.322Z"
   },
   {
    "duration": 1101,
    "start_time": "2023-07-26T13:52:59.045Z"
   },
   {
    "duration": 6,
    "start_time": "2023-07-26T13:54:06.837Z"
   },
   {
    "duration": 71,
    "start_time": "2023-07-26T13:54:26.256Z"
   },
   {
    "duration": 8,
    "start_time": "2023-07-26T13:55:51.464Z"
   },
   {
    "duration": 7,
    "start_time": "2023-07-26T13:56:24.252Z"
   },
   {
    "duration": 1009,
    "start_time": "2023-07-26T17:23:20.759Z"
   },
   {
    "duration": 3,
    "start_time": "2023-07-26T17:23:21.770Z"
   },
   {
    "duration": 147,
    "start_time": "2023-07-26T17:23:21.776Z"
   },
   {
    "duration": 3,
    "start_time": "2023-07-26T17:23:21.924Z"
   },
   {
    "duration": 131,
    "start_time": "2023-07-26T17:23:21.929Z"
   },
   {
    "duration": 4,
    "start_time": "2023-07-26T17:23:22.061Z"
   },
   {
    "duration": 17,
    "start_time": "2023-07-26T17:23:22.066Z"
   },
   {
    "duration": 165,
    "start_time": "2023-07-26T17:23:22.084Z"
   },
   {
    "duration": 2,
    "start_time": "2023-07-26T17:23:22.252Z"
   },
   {
    "duration": 16,
    "start_time": "2023-07-26T17:23:22.256Z"
   },
   {
    "duration": 17,
    "start_time": "2023-07-26T17:23:22.273Z"
   },
   {
    "duration": 82,
    "start_time": "2023-07-26T17:23:22.291Z"
   },
   {
    "duration": 61,
    "start_time": "2023-07-26T17:23:22.374Z"
   },
   {
    "duration": 36,
    "start_time": "2023-07-26T17:23:22.436Z"
   },
   {
    "duration": 7,
    "start_time": "2023-07-26T17:23:22.473Z"
   },
   {
    "duration": 32,
    "start_time": "2023-07-26T17:23:22.481Z"
   },
   {
    "duration": 30,
    "start_time": "2023-07-26T17:23:22.514Z"
   },
   {
    "duration": 5,
    "start_time": "2023-07-26T17:23:22.546Z"
   },
   {
    "duration": 9,
    "start_time": "2023-07-26T17:23:22.553Z"
   },
   {
    "duration": 11,
    "start_time": "2023-07-26T17:23:22.563Z"
   },
   {
    "duration": 132,
    "start_time": "2023-07-26T17:23:22.575Z"
   },
   {
    "duration": 539,
    "start_time": "2023-07-26T17:23:22.708Z"
   },
   {
    "duration": 20,
    "start_time": "2023-07-26T17:23:23.248Z"
   },
   {
    "duration": 16,
    "start_time": "2023-07-26T17:23:23.269Z"
   },
   {
    "duration": 2,
    "start_time": "2023-07-26T17:23:23.286Z"
   },
   {
    "duration": 5,
    "start_time": "2023-07-26T17:23:23.290Z"
   },
   {
    "duration": 34,
    "start_time": "2023-07-26T17:23:23.320Z"
   },
   {
    "duration": 32,
    "start_time": "2023-07-26T17:23:23.355Z"
   },
   {
    "duration": 7,
    "start_time": "2023-07-26T17:23:23.388Z"
   },
   {
    "duration": 73,
    "start_time": "2023-07-26T17:23:23.396Z"
   },
   {
    "duration": 137,
    "start_time": "2023-07-26T17:23:23.470Z"
   },
   {
    "duration": 2,
    "start_time": "2023-07-26T17:23:23.608Z"
   },
   {
    "duration": 20,
    "start_time": "2023-07-26T17:23:23.611Z"
   },
   {
    "duration": 8,
    "start_time": "2023-07-26T17:23:23.632Z"
   },
   {
    "duration": 19,
    "start_time": "2023-07-26T17:23:23.642Z"
   },
   {
    "duration": 138,
    "start_time": "2023-07-26T17:23:23.662Z"
   },
   {
    "duration": 36,
    "start_time": "2023-07-26T17:23:23.801Z"
   },
   {
    "duration": 23,
    "start_time": "2023-07-26T17:23:23.839Z"
   },
   {
    "duration": 96,
    "start_time": "2023-07-26T17:23:23.864Z"
   },
   {
    "duration": 6,
    "start_time": "2023-07-26T17:23:23.961Z"
   },
   {
    "duration": 116,
    "start_time": "2023-07-26T17:23:23.968Z"
   },
   {
    "duration": 8,
    "start_time": "2023-07-26T17:23:24.086Z"
   },
   {
    "duration": 9,
    "start_time": "2023-07-26T17:24:04.348Z"
   },
   {
    "duration": 7,
    "start_time": "2023-07-26T17:24:21.897Z"
   },
   {
    "duration": 2127,
    "start_time": "2023-07-26T17:24:57.545Z"
   },
   {
    "duration": 25,
    "start_time": "2023-07-26T17:25:41.564Z"
   },
   {
    "duration": 3,
    "start_time": "2023-07-26T17:26:18.892Z"
   },
   {
    "duration": 2,
    "start_time": "2023-07-26T17:26:24.511Z"
   },
   {
    "duration": 6,
    "start_time": "2023-07-26T17:26:37.776Z"
   },
   {
    "duration": 2,
    "start_time": "2023-07-26T17:27:46.864Z"
   },
   {
    "duration": 84,
    "start_time": "2023-07-26T17:50:14.773Z"
   },
   {
    "duration": 4181,
    "start_time": "2023-07-26T17:50:48.251Z"
   },
   {
    "duration": 118,
    "start_time": "2023-07-26T17:51:30.036Z"
   },
   {
    "duration": 116,
    "start_time": "2023-07-26T17:51:46.435Z"
   },
   {
    "duration": 121,
    "start_time": "2023-07-26T17:51:53.706Z"
   },
   {
    "duration": 7,
    "start_time": "2023-07-26T17:53:21.948Z"
   },
   {
    "duration": 37,
    "start_time": "2023-07-26T17:56:59.961Z"
   },
   {
    "duration": 2367,
    "start_time": "2023-07-26T17:57:31.009Z"
   },
   {
    "duration": 2557,
    "start_time": "2023-07-26T17:57:56.772Z"
   },
   {
    "duration": 3,
    "start_time": "2023-07-26T18:00:31.961Z"
   },
   {
    "duration": 23,
    "start_time": "2023-07-26T18:00:39.871Z"
   },
   {
    "duration": 1479,
    "start_time": "2023-07-26T19:12:58.328Z"
   },
   {
    "duration": 3,
    "start_time": "2023-07-26T19:12:59.809Z"
   },
   {
    "duration": 628,
    "start_time": "2023-07-26T19:12:59.814Z"
   },
   {
    "duration": 4,
    "start_time": "2023-07-26T19:13:00.445Z"
   },
   {
    "duration": 286,
    "start_time": "2023-07-26T19:13:00.451Z"
   },
   {
    "duration": 16,
    "start_time": "2023-07-26T19:13:00.739Z"
   },
   {
    "duration": 31,
    "start_time": "2023-07-26T19:13:00.757Z"
   },
   {
    "duration": 234,
    "start_time": "2023-07-26T19:13:00.791Z"
   },
   {
    "duration": 3,
    "start_time": "2023-07-26T19:13:01.027Z"
   },
   {
    "duration": 54,
    "start_time": "2023-07-26T19:13:01.033Z"
   },
   {
    "duration": 57,
    "start_time": "2023-07-26T19:13:01.090Z"
   },
   {
    "duration": 159,
    "start_time": "2023-07-26T19:13:01.150Z"
   },
   {
    "duration": 88,
    "start_time": "2023-07-26T19:13:01.311Z"
   },
   {
    "duration": 64,
    "start_time": "2023-07-26T19:13:01.401Z"
   },
   {
    "duration": 12,
    "start_time": "2023-07-26T19:13:01.467Z"
   },
   {
    "duration": 47,
    "start_time": "2023-07-26T19:13:01.481Z"
   },
   {
    "duration": 67,
    "start_time": "2023-07-26T19:13:01.530Z"
   },
   {
    "duration": 33,
    "start_time": "2023-07-26T19:13:01.599Z"
   },
   {
    "duration": 25,
    "start_time": "2023-07-26T19:13:01.634Z"
   },
   {
    "duration": 44,
    "start_time": "2023-07-26T19:13:01.661Z"
   },
   {
    "duration": 176,
    "start_time": "2023-07-26T19:13:01.707Z"
   },
   {
    "duration": 773,
    "start_time": "2023-07-26T19:13:01.885Z"
   },
   {
    "duration": 22,
    "start_time": "2023-07-26T19:13:02.659Z"
   },
   {
    "duration": 21,
    "start_time": "2023-07-26T19:13:02.683Z"
   },
   {
    "duration": 4,
    "start_time": "2023-07-26T19:13:02.706Z"
   },
   {
    "duration": 41,
    "start_time": "2023-07-26T19:13:02.712Z"
   },
   {
    "duration": 64,
    "start_time": "2023-07-26T19:13:02.755Z"
   },
   {
    "duration": 40,
    "start_time": "2023-07-26T19:13:02.823Z"
   },
   {
    "duration": 9,
    "start_time": "2023-07-26T19:13:02.864Z"
   },
   {
    "duration": 90,
    "start_time": "2023-07-26T19:13:02.875Z"
   },
   {
    "duration": 188,
    "start_time": "2023-07-26T19:13:02.967Z"
   },
   {
    "duration": 3,
    "start_time": "2023-07-26T19:13:03.157Z"
   },
   {
    "duration": 37,
    "start_time": "2023-07-26T19:13:03.162Z"
   },
   {
    "duration": 10,
    "start_time": "2023-07-26T19:13:03.201Z"
   },
   {
    "duration": 41,
    "start_time": "2023-07-26T19:13:03.213Z"
   },
   {
    "duration": 206,
    "start_time": "2023-07-26T19:13:03.256Z"
   },
   {
    "duration": 37,
    "start_time": "2023-07-26T19:13:03.464Z"
   },
   {
    "duration": 18,
    "start_time": "2023-07-26T19:13:03.503Z"
   },
   {
    "duration": 2,
    "start_time": "2023-07-26T19:13:03.523Z"
   },
   {
    "duration": 124,
    "start_time": "2023-07-26T19:13:03.553Z"
   },
   {
    "duration": 220,
    "start_time": "2023-07-26T19:13:03.679Z"
   },
   {
    "duration": 7,
    "start_time": "2023-07-26T19:13:03.901Z"
   },
   {
    "duration": 132,
    "start_time": "2023-07-26T19:13:03.910Z"
   },
   {
    "duration": 12,
    "start_time": "2023-07-26T19:13:04.044Z"
   },
   {
    "duration": 6,
    "start_time": "2023-07-26T19:13:04.058Z"
   },
   {
    "duration": 119,
    "start_time": "2023-07-26T19:15:18.824Z"
   },
   {
    "duration": 210,
    "start_time": "2023-07-26T19:16:06.909Z"
   },
   {
    "duration": 112,
    "start_time": "2023-07-26T19:16:15.644Z"
   },
   {
    "duration": 1673,
    "start_time": "2023-07-26T19:17:20.849Z"
   },
   {
    "duration": 118,
    "start_time": "2023-07-26T19:17:47.494Z"
   },
   {
    "duration": 34,
    "start_time": "2023-07-26T19:18:17.666Z"
   },
   {
    "duration": 242,
    "start_time": "2023-07-26T19:19:18.089Z"
   },
   {
    "duration": 121,
    "start_time": "2023-07-26T19:19:55.839Z"
   },
   {
    "duration": 2004,
    "start_time": "2023-07-26T19:20:50.803Z"
   },
   {
    "duration": 136,
    "start_time": "2023-07-26T19:23:32.558Z"
   },
   {
    "duration": 1848,
    "start_time": "2023-07-26T19:23:53.877Z"
   },
   {
    "duration": 135,
    "start_time": "2023-07-26T19:24:08.310Z"
   },
   {
    "duration": 131,
    "start_time": "2023-07-26T19:25:09.872Z"
   },
   {
    "duration": 127,
    "start_time": "2023-07-26T19:25:31.066Z"
   },
   {
    "duration": 118,
    "start_time": "2023-07-26T19:27:02.923Z"
   },
   {
    "duration": 178,
    "start_time": "2023-07-26T19:27:43.088Z"
   },
   {
    "duration": 115,
    "start_time": "2023-07-26T19:27:52.169Z"
   },
   {
    "duration": 497,
    "start_time": "2023-07-26T19:28:13.851Z"
   },
   {
    "duration": 128,
    "start_time": "2023-07-26T19:28:30.918Z"
   },
   {
    "duration": 123,
    "start_time": "2023-07-26T19:29:01.081Z"
   },
   {
    "duration": 1259,
    "start_time": "2023-07-27T06:18:50.212Z"
   },
   {
    "duration": 3,
    "start_time": "2023-07-27T06:18:51.473Z"
   },
   {
    "duration": 564,
    "start_time": "2023-07-27T06:18:51.477Z"
   },
   {
    "duration": 3,
    "start_time": "2023-07-27T06:18:52.043Z"
   },
   {
    "duration": 152,
    "start_time": "2023-07-27T06:18:52.048Z"
   },
   {
    "duration": 5,
    "start_time": "2023-07-27T06:18:52.201Z"
   },
   {
    "duration": 16,
    "start_time": "2023-07-27T06:18:52.207Z"
   },
   {
    "duration": 199,
    "start_time": "2023-07-27T06:18:52.224Z"
   },
   {
    "duration": 2,
    "start_time": "2023-07-27T06:18:52.425Z"
   },
   {
    "duration": 31,
    "start_time": "2023-07-27T06:18:52.431Z"
   },
   {
    "duration": 27,
    "start_time": "2023-07-27T06:18:52.464Z"
   },
   {
    "duration": 104,
    "start_time": "2023-07-27T06:18:52.493Z"
   },
   {
    "duration": 63,
    "start_time": "2023-07-27T06:18:52.599Z"
   },
   {
    "duration": 39,
    "start_time": "2023-07-27T06:18:52.665Z"
   },
   {
    "duration": 8,
    "start_time": "2023-07-27T06:18:52.705Z"
   },
   {
    "duration": 37,
    "start_time": "2023-07-27T06:18:52.714Z"
   },
   {
    "duration": 41,
    "start_time": "2023-07-27T06:18:52.752Z"
   },
   {
    "duration": 7,
    "start_time": "2023-07-27T06:18:52.795Z"
   },
   {
    "duration": 18,
    "start_time": "2023-07-27T06:18:52.803Z"
   },
   {
    "duration": 31,
    "start_time": "2023-07-27T06:18:52.823Z"
   },
   {
    "duration": 188,
    "start_time": "2023-07-27T06:18:52.855Z"
   },
   {
    "duration": 679,
    "start_time": "2023-07-27T06:18:53.044Z"
   },
   {
    "duration": 25,
    "start_time": "2023-07-27T06:18:53.725Z"
   },
   {
    "duration": 17,
    "start_time": "2023-07-27T06:18:53.751Z"
   },
   {
    "duration": 3,
    "start_time": "2023-07-27T06:18:53.770Z"
   },
   {
    "duration": 66,
    "start_time": "2023-07-27T06:18:53.774Z"
   },
   {
    "duration": 78,
    "start_time": "2023-07-27T06:18:53.842Z"
   },
   {
    "duration": 34,
    "start_time": "2023-07-27T06:18:53.922Z"
   },
   {
    "duration": 8,
    "start_time": "2023-07-27T06:18:53.958Z"
   },
   {
    "duration": 80,
    "start_time": "2023-07-27T06:18:53.968Z"
   },
   {
    "duration": 160,
    "start_time": "2023-07-27T06:18:54.050Z"
   },
   {
    "duration": 2,
    "start_time": "2023-07-27T06:18:54.212Z"
   },
   {
    "duration": 18,
    "start_time": "2023-07-27T06:18:54.216Z"
   },
   {
    "duration": 9,
    "start_time": "2023-07-27T06:18:54.236Z"
   },
   {
    "duration": 68,
    "start_time": "2023-07-27T06:18:54.247Z"
   },
   {
    "duration": 146,
    "start_time": "2023-07-27T06:18:54.317Z"
   },
   {
    "duration": 30,
    "start_time": "2023-07-27T06:18:54.464Z"
   },
   {
    "duration": 14,
    "start_time": "2023-07-27T06:18:54.496Z"
   },
   {
    "duration": 2,
    "start_time": "2023-07-27T06:18:54.511Z"
   },
   {
    "duration": 122,
    "start_time": "2023-07-27T06:18:54.531Z"
   },
   {
    "duration": 129,
    "start_time": "2023-07-27T06:18:54.658Z"
   },
   {
    "duration": 0,
    "start_time": "2023-07-27T06:18:54.789Z"
   },
   {
    "duration": 0,
    "start_time": "2023-07-27T06:18:54.791Z"
   },
   {
    "duration": 0,
    "start_time": "2023-07-27T06:18:54.792Z"
   },
   {
    "duration": 0,
    "start_time": "2023-07-27T06:18:54.794Z"
   },
   {
    "duration": 0,
    "start_time": "2023-07-27T06:18:54.795Z"
   },
   {
    "duration": 93,
    "start_time": "2023-07-27T06:19:44.131Z"
   },
   {
    "duration": 95,
    "start_time": "2023-07-27T06:35:56.519Z"
   },
   {
    "duration": 117,
    "start_time": "2023-07-27T06:38:36.516Z"
   },
   {
    "duration": 126,
    "start_time": "2023-07-27T06:41:06.789Z"
   },
   {
    "duration": 10,
    "start_time": "2023-07-27T10:48:50.843Z"
   },
   {
    "duration": 132,
    "start_time": "2023-07-27T10:49:03.010Z"
   },
   {
    "duration": 36,
    "start_time": "2023-07-27T10:50:08.847Z"
   },
   {
    "duration": 22,
    "start_time": "2023-07-27T10:51:00.118Z"
   },
   {
    "duration": 92,
    "start_time": "2023-07-27T10:52:03.121Z"
   },
   {
    "duration": 3,
    "start_time": "2023-07-27T10:53:24.011Z"
   },
   {
    "duration": 11,
    "start_time": "2023-07-27T10:57:16.059Z"
   },
   {
    "duration": 6,
    "start_time": "2023-07-27T10:57:19.299Z"
   },
   {
    "duration": 112,
    "start_time": "2023-07-27T10:57:21.147Z"
   },
   {
    "duration": 91,
    "start_time": "2023-07-27T10:57:34.994Z"
   },
   {
    "duration": 95,
    "start_time": "2023-07-27T10:57:45.959Z"
   },
   {
    "duration": 3,
    "start_time": "2023-07-27T10:57:56.951Z"
   },
   {
    "duration": 3,
    "start_time": "2023-07-27T10:58:15.605Z"
   },
   {
    "duration": 9,
    "start_time": "2023-07-27T11:06:37.067Z"
   },
   {
    "duration": 122,
    "start_time": "2023-07-27T11:13:56.449Z"
   },
   {
    "duration": 112,
    "start_time": "2023-07-27T11:14:06.948Z"
   },
   {
    "duration": 23,
    "start_time": "2023-07-27T13:38:54.421Z"
   },
   {
    "duration": 116,
    "start_time": "2023-07-27T13:41:12.552Z"
   },
   {
    "duration": 24,
    "start_time": "2023-07-27T13:43:04.693Z"
   },
   {
    "duration": 8,
    "start_time": "2023-07-27T13:43:18.171Z"
   },
   {
    "duration": 102,
    "start_time": "2023-07-27T13:58:31.872Z"
   },
   {
    "duration": 201,
    "start_time": "2023-07-27T14:01:58.355Z"
   },
   {
    "duration": 97,
    "start_time": "2023-07-27T14:02:16.578Z"
   },
   {
    "duration": 102,
    "start_time": "2023-07-27T14:02:34.108Z"
   },
   {
    "duration": 113,
    "start_time": "2023-07-27T14:02:39.492Z"
   },
   {
    "duration": 3,
    "start_time": "2023-07-27T14:03:12.955Z"
   },
   {
    "duration": 3,
    "start_time": "2023-07-27T14:03:26.101Z"
   },
   {
    "duration": 109,
    "start_time": "2023-07-27T14:03:32.373Z"
   },
   {
    "duration": 126,
    "start_time": "2023-07-27T14:03:38.048Z"
   },
   {
    "duration": 17,
    "start_time": "2023-07-27T14:20:03.755Z"
   },
   {
    "duration": 11,
    "start_time": "2023-07-27T14:20:26.065Z"
   },
   {
    "duration": 17,
    "start_time": "2023-07-27T14:22:26.494Z"
   },
   {
    "duration": 16,
    "start_time": "2023-07-27T14:22:35.422Z"
   },
   {
    "duration": 40,
    "start_time": "2023-07-27T14:23:49.807Z"
   },
   {
    "duration": 6262,
    "start_time": "2023-07-27T14:24:11.261Z"
   },
   {
    "duration": 4557,
    "start_time": "2023-07-27T14:24:26.325Z"
   },
   {
    "duration": 7,
    "start_time": "2023-07-27T14:24:35.906Z"
   },
   {
    "duration": 45,
    "start_time": "2023-07-27T14:30:44.446Z"
   },
   {
    "duration": 4127,
    "start_time": "2023-07-27T14:31:21.311Z"
   },
   {
    "duration": 3209,
    "start_time": "2023-07-27T14:31:35.613Z"
   },
   {
    "duration": 15,
    "start_time": "2023-07-27T14:32:21.758Z"
   },
   {
    "duration": 11,
    "start_time": "2023-07-27T14:32:29.046Z"
   },
   {
    "duration": 6,
    "start_time": "2023-07-27T14:32:34.175Z"
   },
   {
    "duration": 5,
    "start_time": "2023-07-27T14:33:21.453Z"
   },
   {
    "duration": 49,
    "start_time": "2023-07-27T14:33:49.266Z"
   },
   {
    "duration": 37,
    "start_time": "2023-07-27T14:34:56.700Z"
   },
   {
    "duration": 35,
    "start_time": "2023-07-27T14:35:07.261Z"
   },
   {
    "duration": 38,
    "start_time": "2023-07-27T14:40:15.920Z"
   },
   {
    "duration": 42,
    "start_time": "2023-07-27T14:40:20.646Z"
   },
   {
    "duration": 37,
    "start_time": "2023-07-27T14:40:33.602Z"
   },
   {
    "duration": 33,
    "start_time": "2023-07-27T14:40:46.708Z"
   },
   {
    "duration": 32,
    "start_time": "2023-07-27T14:41:10.766Z"
   },
   {
    "duration": 39,
    "start_time": "2023-07-27T14:41:16.319Z"
   },
   {
    "duration": 36,
    "start_time": "2023-07-27T14:41:25.186Z"
   },
   {
    "duration": 36,
    "start_time": "2023-07-27T14:41:35.574Z"
   },
   {
    "duration": 34,
    "start_time": "2023-07-27T14:41:55.754Z"
   },
   {
    "duration": 35,
    "start_time": "2023-07-27T14:42:08.346Z"
   },
   {
    "duration": 34,
    "start_time": "2023-07-27T14:42:37.697Z"
   },
   {
    "duration": 35,
    "start_time": "2023-07-27T14:42:45.811Z"
   },
   {
    "duration": 37,
    "start_time": "2023-07-27T14:42:50.549Z"
   },
   {
    "duration": 39,
    "start_time": "2023-07-27T14:42:57.674Z"
   },
   {
    "duration": 36,
    "start_time": "2023-07-27T14:43:07.491Z"
   },
   {
    "duration": 34,
    "start_time": "2023-07-27T14:43:16.204Z"
   },
   {
    "duration": 6,
    "start_time": "2023-07-27T14:48:05.590Z"
   },
   {
    "duration": 142,
    "start_time": "2023-07-27T14:48:37.421Z"
   },
   {
    "duration": 4,
    "start_time": "2023-07-27T16:32:52.659Z"
   },
   {
    "duration": 6,
    "start_time": "2023-07-27T16:32:52.665Z"
   },
   {
    "duration": 411,
    "start_time": "2023-07-27T16:32:52.673Z"
   },
   {
    "duration": 4,
    "start_time": "2023-07-27T16:32:53.086Z"
   },
   {
    "duration": 117,
    "start_time": "2023-07-27T16:32:53.093Z"
   },
   {
    "duration": 5,
    "start_time": "2023-07-27T16:32:53.212Z"
   },
   {
    "duration": 15,
    "start_time": "2023-07-27T16:32:53.218Z"
   },
   {
    "duration": 199,
    "start_time": "2023-07-27T16:32:53.235Z"
   },
   {
    "duration": 2,
    "start_time": "2023-07-27T16:32:53.436Z"
   },
   {
    "duration": 23,
    "start_time": "2023-07-27T16:32:53.439Z"
   },
   {
    "duration": 21,
    "start_time": "2023-07-27T16:32:53.463Z"
   },
   {
    "duration": 101,
    "start_time": "2023-07-27T16:32:53.485Z"
   },
   {
    "duration": 70,
    "start_time": "2023-07-27T16:32:53.588Z"
   },
   {
    "duration": 47,
    "start_time": "2023-07-27T16:32:53.661Z"
   },
   {
    "duration": 25,
    "start_time": "2023-07-27T16:32:53.710Z"
   },
   {
    "duration": 24,
    "start_time": "2023-07-27T16:32:53.736Z"
   },
   {
    "duration": 56,
    "start_time": "2023-07-27T16:32:53.761Z"
   },
   {
    "duration": 8,
    "start_time": "2023-07-27T16:32:53.819Z"
   },
   {
    "duration": 12,
    "start_time": "2023-07-27T16:32:53.828Z"
   },
   {
    "duration": 16,
    "start_time": "2023-07-27T16:32:53.841Z"
   },
   {
    "duration": 173,
    "start_time": "2023-07-27T16:32:53.859Z"
   },
   {
    "duration": 659,
    "start_time": "2023-07-27T16:32:54.033Z"
   },
   {
    "duration": 38,
    "start_time": "2023-07-27T16:32:54.694Z"
   },
   {
    "duration": 18,
    "start_time": "2023-07-27T16:32:54.736Z"
   },
   {
    "duration": 6,
    "start_time": "2023-07-27T16:32:54.756Z"
   },
   {
    "duration": 12,
    "start_time": "2023-07-27T16:32:54.764Z"
   },
   {
    "duration": 54,
    "start_time": "2023-07-27T16:32:54.778Z"
   },
   {
    "duration": 35,
    "start_time": "2023-07-27T16:32:54.834Z"
   },
   {
    "duration": 8,
    "start_time": "2023-07-27T16:32:54.870Z"
   },
   {
    "duration": 88,
    "start_time": "2023-07-27T16:32:54.880Z"
   },
   {
    "duration": 161,
    "start_time": "2023-07-27T16:32:54.970Z"
   },
   {
    "duration": 3,
    "start_time": "2023-07-27T16:32:55.132Z"
   },
   {
    "duration": 24,
    "start_time": "2023-07-27T16:32:55.136Z"
   },
   {
    "duration": 11,
    "start_time": "2023-07-27T16:32:55.161Z"
   },
   {
    "duration": 26,
    "start_time": "2023-07-27T16:32:55.173Z"
   },
   {
    "duration": 149,
    "start_time": "2023-07-27T16:32:55.200Z"
   },
   {
    "duration": 36,
    "start_time": "2023-07-27T16:32:55.351Z"
   },
   {
    "duration": 42,
    "start_time": "2023-07-27T16:32:55.390Z"
   },
   {
    "duration": 112,
    "start_time": "2023-07-27T16:32:55.434Z"
   },
   {
    "duration": 5,
    "start_time": "2023-07-27T16:32:55.548Z"
   },
   {
    "duration": 109,
    "start_time": "2023-07-27T16:32:55.557Z"
   },
   {
    "duration": 26,
    "start_time": "2023-07-27T16:32:55.668Z"
   },
   {
    "duration": 23,
    "start_time": "2023-07-27T16:32:55.695Z"
   },
   {
    "duration": 16,
    "start_time": "2023-07-27T16:32:55.720Z"
   },
   {
    "duration": 112,
    "start_time": "2023-07-27T16:32:55.737Z"
   },
   {
    "duration": 117,
    "start_time": "2023-07-27T16:32:55.850Z"
   },
   {
    "duration": 139,
    "start_time": "2023-07-27T16:32:55.969Z"
   },
   {
    "duration": 3,
    "start_time": "2023-07-27T17:31:10.905Z"
   },
   {
    "duration": 93,
    "start_time": "2023-07-27T17:32:19.946Z"
   },
   {
    "duration": 89,
    "start_time": "2023-07-27T17:32:41.493Z"
   },
   {
    "duration": 1377,
    "start_time": "2023-07-28T06:56:13.604Z"
   },
   {
    "duration": 3,
    "start_time": "2023-07-28T06:56:14.983Z"
   },
   {
    "duration": 744,
    "start_time": "2023-07-28T06:56:14.987Z"
   },
   {
    "duration": 4,
    "start_time": "2023-07-28T06:56:15.733Z"
   },
   {
    "duration": 165,
    "start_time": "2023-07-28T06:56:15.739Z"
   },
   {
    "duration": 5,
    "start_time": "2023-07-28T06:56:15.906Z"
   },
   {
    "duration": 22,
    "start_time": "2023-07-28T06:56:15.912Z"
   },
   {
    "duration": 192,
    "start_time": "2023-07-28T06:56:15.936Z"
   },
   {
    "duration": 3,
    "start_time": "2023-07-28T06:56:16.130Z"
   },
   {
    "duration": 9,
    "start_time": "2023-07-28T06:56:16.136Z"
   },
   {
    "duration": 19,
    "start_time": "2023-07-28T06:56:16.160Z"
   },
   {
    "duration": 115,
    "start_time": "2023-07-28T06:56:16.181Z"
   },
   {
    "duration": 75,
    "start_time": "2023-07-28T06:56:16.298Z"
   },
   {
    "duration": 45,
    "start_time": "2023-07-28T06:56:16.376Z"
   },
   {
    "duration": 11,
    "start_time": "2023-07-28T06:56:16.422Z"
   },
   {
    "duration": 43,
    "start_time": "2023-07-28T06:56:16.434Z"
   },
   {
    "duration": 41,
    "start_time": "2023-07-28T06:56:16.479Z"
   },
   {
    "duration": 7,
    "start_time": "2023-07-28T06:56:16.522Z"
   },
   {
    "duration": 9,
    "start_time": "2023-07-28T06:56:16.530Z"
   },
   {
    "duration": 27,
    "start_time": "2023-07-28T06:56:16.540Z"
   },
   {
    "duration": 164,
    "start_time": "2023-07-28T06:56:16.569Z"
   },
   {
    "duration": 684,
    "start_time": "2023-07-28T06:56:16.735Z"
   },
   {
    "duration": 22,
    "start_time": "2023-07-28T06:56:17.421Z"
   },
   {
    "duration": 29,
    "start_time": "2023-07-28T06:56:17.445Z"
   },
   {
    "duration": 4,
    "start_time": "2023-07-28T06:56:17.476Z"
   },
   {
    "duration": 7,
    "start_time": "2023-07-28T06:56:17.481Z"
   },
   {
    "duration": 40,
    "start_time": "2023-07-28T06:56:17.490Z"
   },
   {
    "duration": 60,
    "start_time": "2023-07-28T06:56:17.533Z"
   },
   {
    "duration": 8,
    "start_time": "2023-07-28T06:56:17.595Z"
   },
   {
    "duration": 84,
    "start_time": "2023-07-28T06:56:17.605Z"
   },
   {
    "duration": 168,
    "start_time": "2023-07-28T06:56:17.691Z"
   },
   {
    "duration": 3,
    "start_time": "2023-07-28T06:56:17.861Z"
   },
   {
    "duration": 16,
    "start_time": "2023-07-28T06:56:17.866Z"
   },
   {
    "duration": 11,
    "start_time": "2023-07-28T06:56:17.884Z"
   },
   {
    "duration": 13,
    "start_time": "2023-07-28T06:56:17.897Z"
   },
   {
    "duration": 189,
    "start_time": "2023-07-28T06:56:17.912Z"
   },
   {
    "duration": 39,
    "start_time": "2023-07-28T06:56:18.102Z"
   },
   {
    "duration": 36,
    "start_time": "2023-07-28T06:56:18.142Z"
   },
   {
    "duration": 123,
    "start_time": "2023-07-28T06:56:18.179Z"
   },
   {
    "duration": 6,
    "start_time": "2023-07-28T06:56:18.304Z"
   },
   {
    "duration": 121,
    "start_time": "2023-07-28T06:56:18.312Z"
   },
   {
    "duration": 0,
    "start_time": "2023-07-28T06:56:18.435Z"
   },
   {
    "duration": 0,
    "start_time": "2023-07-28T06:56:18.437Z"
   },
   {
    "duration": 0,
    "start_time": "2023-07-28T06:56:18.437Z"
   },
   {
    "duration": 0,
    "start_time": "2023-07-28T06:56:18.438Z"
   },
   {
    "duration": 0,
    "start_time": "2023-07-28T06:56:18.439Z"
   },
   {
    "duration": 0,
    "start_time": "2023-07-28T06:56:18.441Z"
   },
   {
    "duration": 0,
    "start_time": "2023-07-28T06:56:18.442Z"
   },
   {
    "duration": 3,
    "start_time": "2023-07-28T07:02:49.271Z"
   },
   {
    "duration": 3,
    "start_time": "2023-07-28T07:02:57.102Z"
   },
   {
    "duration": 164,
    "start_time": "2023-07-28T07:02:59.948Z"
   },
   {
    "duration": 4,
    "start_time": "2023-07-28T07:03:00.670Z"
   },
   {
    "duration": 108,
    "start_time": "2023-07-28T07:03:03.096Z"
   },
   {
    "duration": 6,
    "start_time": "2023-07-28T07:03:23.520Z"
   },
   {
    "duration": 3,
    "start_time": "2023-07-28T07:03:24.338Z"
   },
   {
    "duration": 163,
    "start_time": "2023-07-28T07:03:27.183Z"
   },
   {
    "duration": 3,
    "start_time": "2023-07-28T07:03:32.272Z"
   },
   {
    "duration": 6,
    "start_time": "2023-07-28T07:03:32.750Z"
   },
   {
    "duration": 18,
    "start_time": "2023-07-28T07:03:34.639Z"
   },
   {
    "duration": 77,
    "start_time": "2023-07-28T07:03:39.502Z"
   },
   {
    "duration": 68,
    "start_time": "2023-07-28T07:03:40.215Z"
   },
   {
    "duration": 42,
    "start_time": "2023-07-28T07:03:44.924Z"
   },
   {
    "duration": 10,
    "start_time": "2023-07-28T07:03:46.917Z"
   },
   {
    "duration": 27,
    "start_time": "2023-07-28T07:34:10.763Z"
   },
   {
    "duration": 35,
    "start_time": "2023-07-28T07:37:34.196Z"
   },
   {
    "duration": 7,
    "start_time": "2023-07-28T07:37:37.184Z"
   },
   {
    "duration": 6,
    "start_time": "2023-07-28T07:37:38.492Z"
   },
   {
    "duration": 3,
    "start_time": "2023-07-28T07:38:00.810Z"
   },
   {
    "duration": 622,
    "start_time": "2023-07-28T07:38:37.173Z"
   },
   {
    "duration": 569,
    "start_time": "2023-07-28T07:39:04.292Z"
   },
   {
    "duration": 534,
    "start_time": "2023-07-28T07:41:11.751Z"
   },
   {
    "duration": 576,
    "start_time": "2023-07-28T07:41:52.527Z"
   },
   {
    "duration": 714,
    "start_time": "2023-07-28T07:42:01.364Z"
   },
   {
    "duration": 19,
    "start_time": "2023-07-28T07:44:10.141Z"
   },
   {
    "duration": 3,
    "start_time": "2023-07-28T07:44:11.441Z"
   },
   {
    "duration": 4,
    "start_time": "2023-07-28T07:44:12.207Z"
   },
   {
    "duration": 44,
    "start_time": "2023-07-28T07:44:13.043Z"
   },
   {
    "duration": 34,
    "start_time": "2023-07-28T07:44:17.666Z"
   },
   {
    "duration": 2,
    "start_time": "2023-07-28T07:44:23.776Z"
   },
   {
    "duration": 147,
    "start_time": "2023-07-28T07:45:19.872Z"
   },
   {
    "duration": 64,
    "start_time": "2023-07-28T07:45:23.844Z"
   },
   {
    "duration": 144,
    "start_time": "2023-07-28T07:45:25.019Z"
   },
   {
    "duration": 14,
    "start_time": "2023-07-28T07:45:36.902Z"
   },
   {
    "duration": 10,
    "start_time": "2023-07-28T07:45:41.771Z"
   },
   {
    "duration": 12,
    "start_time": "2023-07-28T07:45:53.518Z"
   },
   {
    "duration": 12,
    "start_time": "2023-07-28T07:45:57.929Z"
   },
   {
    "duration": 146,
    "start_time": "2023-07-28T07:46:37.484Z"
   },
   {
    "duration": 151,
    "start_time": "2023-07-28T07:46:41.367Z"
   },
   {
    "duration": 40,
    "start_time": "2023-07-28T07:47:45.837Z"
   },
   {
    "duration": 23,
    "start_time": "2023-07-28T07:47:55.763Z"
   },
   {
    "duration": 113,
    "start_time": "2023-07-28T07:47:59.066Z"
   },
   {
    "duration": 6,
    "start_time": "2023-07-28T07:48:07.341Z"
   },
   {
    "duration": 3,
    "start_time": "2023-07-28T07:48:33.385Z"
   },
   {
    "duration": 105,
    "start_time": "2023-07-28T07:48:34.499Z"
   },
   {
    "duration": 23,
    "start_time": "2023-07-28T07:49:01.589Z"
   },
   {
    "duration": 10,
    "start_time": "2023-07-28T07:49:02.750Z"
   },
   {
    "duration": 2,
    "start_time": "2023-07-28T07:49:09.542Z"
   },
   {
    "duration": 102,
    "start_time": "2023-07-28T07:49:10.508Z"
   },
   {
    "duration": 105,
    "start_time": "2023-07-28T07:49:15.782Z"
   },
   {
    "duration": 168,
    "start_time": "2023-07-28T07:49:20.575Z"
   },
   {
    "duration": 4,
    "start_time": "2023-07-28T07:49:24.493Z"
   },
   {
    "duration": 1538,
    "start_time": "2023-07-28T08:41:07.290Z"
   },
   {
    "duration": 3,
    "start_time": "2023-07-28T08:41:08.831Z"
   },
   {
    "duration": 515,
    "start_time": "2023-07-28T08:41:08.836Z"
   },
   {
    "duration": 5,
    "start_time": "2023-07-28T08:41:09.353Z"
   },
   {
    "duration": 166,
    "start_time": "2023-07-28T08:41:09.360Z"
   },
   {
    "duration": 7,
    "start_time": "2023-07-28T08:41:09.528Z"
   },
   {
    "duration": 9,
    "start_time": "2023-07-28T08:41:09.537Z"
   },
   {
    "duration": 261,
    "start_time": "2023-07-28T08:41:09.549Z"
   },
   {
    "duration": 11,
    "start_time": "2023-07-28T08:41:09.812Z"
   },
   {
    "duration": 57,
    "start_time": "2023-07-28T08:41:09.826Z"
   },
   {
    "duration": 97,
    "start_time": "2023-07-28T08:41:09.885Z"
   },
   {
    "duration": 74,
    "start_time": "2023-07-28T08:41:09.984Z"
   },
   {
    "duration": 43,
    "start_time": "2023-07-28T08:41:10.060Z"
   },
   {
    "duration": 23,
    "start_time": "2023-07-28T08:41:10.104Z"
   },
   {
    "duration": 32,
    "start_time": "2023-07-28T08:41:10.128Z"
   },
   {
    "duration": 35,
    "start_time": "2023-07-28T08:41:10.161Z"
   },
   {
    "duration": 9,
    "start_time": "2023-07-28T08:41:10.198Z"
   },
   {
    "duration": 8,
    "start_time": "2023-07-28T08:41:10.221Z"
   },
   {
    "duration": 15,
    "start_time": "2023-07-28T08:41:10.230Z"
   },
   {
    "duration": 156,
    "start_time": "2023-07-28T08:41:10.247Z"
   },
   {
    "duration": 693,
    "start_time": "2023-07-28T08:41:10.405Z"
   },
   {
    "duration": 33,
    "start_time": "2023-07-28T08:41:11.100Z"
   },
   {
    "duration": 17,
    "start_time": "2023-07-28T08:41:11.135Z"
   },
   {
    "duration": 4,
    "start_time": "2023-07-28T08:41:11.154Z"
   },
   {
    "duration": 30,
    "start_time": "2023-07-28T08:41:11.160Z"
   },
   {
    "duration": 51,
    "start_time": "2023-07-28T08:41:11.192Z"
   },
   {
    "duration": 40,
    "start_time": "2023-07-28T08:41:11.246Z"
   },
   {
    "duration": 3,
    "start_time": "2023-07-28T08:41:11.289Z"
   },
   {
    "duration": 95,
    "start_time": "2023-07-28T08:41:11.293Z"
   },
   {
    "duration": 178,
    "start_time": "2023-07-28T08:41:11.389Z"
   },
   {
    "duration": 2,
    "start_time": "2023-07-28T08:41:11.569Z"
   },
   {
    "duration": 17,
    "start_time": "2023-07-28T08:41:11.573Z"
   },
   {
    "duration": 11,
    "start_time": "2023-07-28T08:41:11.591Z"
   },
   {
    "duration": 27,
    "start_time": "2023-07-28T08:41:11.604Z"
   },
   {
    "duration": 189,
    "start_time": "2023-07-28T08:41:11.633Z"
   },
   {
    "duration": 39,
    "start_time": "2023-07-28T08:41:11.823Z"
   },
   {
    "duration": 20,
    "start_time": "2023-07-28T08:41:11.863Z"
   },
   {
    "duration": 136,
    "start_time": "2023-07-28T08:41:11.885Z"
   },
   {
    "duration": 8,
    "start_time": "2023-07-28T08:41:12.023Z"
   },
   {
    "duration": 46,
    "start_time": "2023-07-28T08:41:12.033Z"
   },
   {
    "duration": 117,
    "start_time": "2023-07-28T08:41:12.081Z"
   },
   {
    "duration": 25,
    "start_time": "2023-07-28T08:41:12.199Z"
   },
   {
    "duration": 8,
    "start_time": "2023-07-28T08:41:12.226Z"
   },
   {
    "duration": 4,
    "start_time": "2023-07-28T08:41:12.236Z"
   },
   {
    "duration": 132,
    "start_time": "2023-07-28T08:41:12.242Z"
   },
   {
    "duration": 102,
    "start_time": "2023-07-28T08:41:12.375Z"
   },
   {
    "duration": 159,
    "start_time": "2023-07-28T08:41:12.478Z"
   },
   {
    "duration": 3,
    "start_time": "2023-07-28T08:41:12.638Z"
   },
   {
    "duration": 84,
    "start_time": "2023-07-28T14:21:49.115Z"
   },
   {
    "duration": 1365,
    "start_time": "2023-07-28T14:23:17.298Z"
   },
   {
    "duration": 4,
    "start_time": "2023-07-28T14:23:19.298Z"
   },
   {
    "duration": 821,
    "start_time": "2023-07-28T14:23:19.774Z"
   },
   {
    "duration": 4,
    "start_time": "2023-07-28T14:23:21.706Z"
   },
   {
    "duration": 162,
    "start_time": "2023-07-28T14:23:23.671Z"
   },
   {
    "duration": 6,
    "start_time": "2023-07-28T14:23:26.835Z"
   },
   {
    "duration": 4,
    "start_time": "2023-07-28T14:23:28.573Z"
   },
   {
    "duration": 208,
    "start_time": "2023-07-28T14:23:29.927Z"
   },
   {
    "duration": 5,
    "start_time": "2023-07-28T14:23:33.610Z"
   },
   {
    "duration": 27,
    "start_time": "2023-07-28T14:23:34.220Z"
   },
   {
    "duration": 122,
    "start_time": "2023-07-28T14:23:36.030Z"
   },
   {
    "duration": 73,
    "start_time": "2023-07-28T14:23:36.527Z"
   },
   {
    "duration": 58,
    "start_time": "2023-07-28T14:23:39.495Z"
   },
   {
    "duration": 10,
    "start_time": "2023-07-28T14:23:42.832Z"
   },
   {
    "duration": 22,
    "start_time": "2023-07-28T14:23:46.241Z"
   },
   {
    "duration": 33,
    "start_time": "2023-07-28T14:23:47.441Z"
   },
   {
    "duration": 7,
    "start_time": "2023-07-28T14:23:48.794Z"
   },
   {
    "duration": 8,
    "start_time": "2023-07-28T14:23:49.796Z"
   },
   {
    "duration": 244,
    "start_time": "2023-07-28T14:23:51.071Z"
   },
   {
    "duration": 229,
    "start_time": "2023-07-28T14:25:53.013Z"
   },
   {
    "duration": 274,
    "start_time": "2023-07-28T14:26:14.350Z"
   },
   {
    "duration": 222,
    "start_time": "2023-07-28T14:26:59.655Z"
   },
   {
    "duration": 299,
    "start_time": "2023-07-28T14:27:05.026Z"
   },
   {
    "duration": 319,
    "start_time": "2023-07-28T14:27:11.769Z"
   },
   {
    "duration": 316,
    "start_time": "2023-07-28T14:27:16.909Z"
   },
   {
    "duration": 214,
    "start_time": "2023-07-28T14:27:58.599Z"
   },
   {
    "duration": 229,
    "start_time": "2023-07-28T14:28:10.137Z"
   },
   {
    "duration": 239,
    "start_time": "2023-07-28T14:28:15.788Z"
   },
   {
    "duration": 228,
    "start_time": "2023-07-28T14:28:20.324Z"
   },
   {
    "duration": 244,
    "start_time": "2023-07-28T14:29:36.204Z"
   },
   {
    "duration": 344,
    "start_time": "2023-07-28T14:29:47.196Z"
   },
   {
    "duration": 276,
    "start_time": "2023-07-28T14:29:51.056Z"
   },
   {
    "duration": 25,
    "start_time": "2023-07-28T14:30:35.583Z"
   },
   {
    "duration": 161,
    "start_time": "2023-07-28T14:32:38.456Z"
   },
   {
    "duration": 798,
    "start_time": "2023-07-28T14:32:40.014Z"
   },
   {
    "duration": 954,
    "start_time": "2023-07-28T14:32:55.107Z"
   },
   {
    "duration": 21,
    "start_time": "2023-07-28T14:33:26.872Z"
   },
   {
    "duration": 18,
    "start_time": "2023-07-28T14:33:30.599Z"
   },
   {
    "duration": 4,
    "start_time": "2023-07-28T14:33:34.605Z"
   },
   {
    "duration": 4,
    "start_time": "2023-07-28T14:33:35.892Z"
   },
   {
    "duration": 4,
    "start_time": "2023-07-28T14:36:15.035Z"
   },
   {
    "duration": 4,
    "start_time": "2023-07-28T14:38:43.851Z"
   },
   {
    "duration": 4,
    "start_time": "2023-07-28T14:38:51.098Z"
   },
   {
    "duration": 4,
    "start_time": "2023-07-28T14:39:39.799Z"
   },
   {
    "duration": 3,
    "start_time": "2023-07-28T14:40:13.704Z"
   },
   {
    "duration": 46,
    "start_time": "2023-07-28T14:41:09.937Z"
   },
   {
    "duration": 40,
    "start_time": "2023-07-28T14:41:11.014Z"
   },
   {
    "duration": 4,
    "start_time": "2023-07-28T14:41:48.108Z"
   },
   {
    "duration": 71,
    "start_time": "2023-07-28T14:42:11.320Z"
   },
   {
    "duration": 159,
    "start_time": "2023-07-28T14:42:12.093Z"
   },
   {
    "duration": 22,
    "start_time": "2023-07-28T14:42:16.059Z"
   },
   {
    "duration": 21,
    "start_time": "2023-07-28T14:42:54.350Z"
   },
   {
    "duration": 13,
    "start_time": "2023-07-28T14:43:15.504Z"
   },
   {
    "duration": 170,
    "start_time": "2023-07-28T14:43:45.044Z"
   },
   {
    "duration": 91,
    "start_time": "2023-07-28T16:43:59.731Z"
   },
   {
    "duration": 349,
    "start_time": "2023-07-28T16:45:53.476Z"
   },
   {
    "duration": 10,
    "start_time": "2023-07-28T16:47:31.377Z"
   },
   {
    "duration": 14,
    "start_time": "2023-07-28T16:48:38.911Z"
   },
   {
    "duration": 14,
    "start_time": "2023-07-28T16:48:43.044Z"
   },
   {
    "duration": 12,
    "start_time": "2023-07-28T16:48:49.969Z"
   },
   {
    "duration": 116,
    "start_time": "2023-07-28T16:51:26.043Z"
   },
   {
    "duration": 68,
    "start_time": "2023-07-28T16:51:44.353Z"
   },
   {
    "duration": 11,
    "start_time": "2023-07-28T16:51:51.811Z"
   },
   {
    "duration": 10,
    "start_time": "2023-07-28T16:51:59.036Z"
   },
   {
    "duration": 11,
    "start_time": "2023-07-28T16:52:03.985Z"
   },
   {
    "duration": 90,
    "start_time": "2023-07-28T16:52:59.463Z"
   },
   {
    "duration": 114,
    "start_time": "2023-07-28T16:53:10.478Z"
   },
   {
    "duration": 16,
    "start_time": "2023-07-28T16:53:17.869Z"
   },
   {
    "duration": 4,
    "start_time": "2023-07-28T16:53:43.797Z"
   },
   {
    "duration": 4,
    "start_time": "2023-07-28T16:53:57.091Z"
   },
   {
    "duration": 11,
    "start_time": "2023-07-28T16:54:10.407Z"
   },
   {
    "duration": 15,
    "start_time": "2023-07-28T16:54:22.797Z"
   },
   {
    "duration": 12,
    "start_time": "2023-07-28T16:55:07.439Z"
   },
   {
    "duration": 13,
    "start_time": "2023-07-28T16:55:14.295Z"
   },
   {
    "duration": 16,
    "start_time": "2023-07-28T16:55:40.141Z"
   },
   {
    "duration": 39,
    "start_time": "2023-07-28T17:00:07.108Z"
   },
   {
    "duration": 23,
    "start_time": "2023-07-28T17:00:12.871Z"
   },
   {
    "duration": 128,
    "start_time": "2023-07-28T17:00:16.141Z"
   },
   {
    "duration": 40,
    "start_time": "2023-07-28T17:00:52.517Z"
   },
   {
    "duration": 541,
    "start_time": "2023-07-28T17:01:01.063Z"
   },
   {
    "duration": 107,
    "start_time": "2023-07-28T17:01:09.829Z"
   },
   {
    "duration": 5,
    "start_time": "2023-07-28T17:01:29.032Z"
   },
   {
    "duration": 4,
    "start_time": "2023-07-28T17:09:25.829Z"
   },
   {
    "duration": 4,
    "start_time": "2023-07-28T17:11:01.935Z"
   },
   {
    "duration": 4,
    "start_time": "2023-07-28T17:11:10.697Z"
   },
   {
    "duration": 4,
    "start_time": "2023-07-28T17:12:03.221Z"
   },
   {
    "duration": 4,
    "start_time": "2023-07-28T17:12:17.301Z"
   },
   {
    "duration": 6,
    "start_time": "2023-07-28T17:13:24.796Z"
   },
   {
    "duration": 7,
    "start_time": "2023-07-28T17:14:14.089Z"
   },
   {
    "duration": 3,
    "start_time": "2023-07-28T17:15:51.235Z"
   },
   {
    "duration": 98,
    "start_time": "2023-07-28T17:15:51.747Z"
   },
   {
    "duration": 20,
    "start_time": "2023-07-28T17:15:55.010Z"
   },
   {
    "duration": 10,
    "start_time": "2023-07-28T17:15:55.677Z"
   },
   {
    "duration": 3,
    "start_time": "2023-07-28T17:15:59.212Z"
   },
   {
    "duration": 104,
    "start_time": "2023-07-28T17:15:59.650Z"
   },
   {
    "duration": 101,
    "start_time": "2023-07-28T17:16:03.424Z"
   },
   {
    "duration": 131,
    "start_time": "2023-07-28T17:16:06.336Z"
   },
   {
    "duration": 5,
    "start_time": "2023-07-28T17:16:10.743Z"
   }
  ],
  "kernelspec": {
   "display_name": "Python 3 (ipykernel)",
   "language": "python",
   "name": "python3"
  },
  "language_info": {
   "codemirror_mode": {
    "name": "ipython",
    "version": 3
   },
   "file_extension": ".py",
   "mimetype": "text/x-python",
   "name": "python",
   "nbconvert_exporter": "python",
   "pygments_lexer": "ipython3",
   "version": "3.9.13"
  },
  "toc": {
   "base_numbering": 1,
   "nav_menu": {
    "height": "527px",
    "width": "195px"
   },
   "number_sections": false,
   "sideBar": true,
   "skip_h1_title": false,
   "title_cell": "Содержание",
   "title_sidebar": "Содержание",
   "toc_cell": false,
   "toc_position": {
    "height": "calc(100% - 180px)",
    "left": "10px",
    "top": "150px",
    "width": "201.165px"
   },
   "toc_section_display": true,
   "toc_window_display": false
  }
 },
 "nbformat": 4,
 "nbformat_minor": 2
}
