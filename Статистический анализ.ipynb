{
 "cells": [
  {
   "cell_type": "markdown",
   "id": "6ff16cee",
   "metadata": {},
   "source": [
    "# Статистический анализ данных"
   ]
  },
  {
   "cell_type": "markdown",
   "id": "d0dd7934",
   "metadata": {},
   "source": [
    "Вы - аналитик популярного сервиса аренды самокатов. Вам передали данные о некоторых пользователях из нескольких городов, а также об их поездках. Проанализируйте данные и проверьте некоторые гипотезы, которые могут помочь бизнесу вырасти.  "
   ]
  },
  {
   "cell_type": "markdown",
   "id": "1f84589e",
   "metadata": {},
   "source": [
    "## Загрузка данных  "
   ]
  },
  {
   "cell_type": "code",
   "execution_count": 2,
   "id": "2a316960",
   "metadata": {},
   "outputs": [],
   "source": [
    "import pandas as pd\n",
    "import math\n",
    "import matplotlib.pyplot as plt\n",
    "import numpy as np\n",
    "import seaborn as sns\n",
    "from scipy import stats as st\n",
    "from math import sqrt\n",
    "from scipy.stats import binom"
   ]
  },
  {
   "cell_type": "code",
   "execution_count": 3,
   "id": "1a7857f9",
   "metadata": {},
   "outputs": [],
   "source": [
    "# открываем файлы, сохраняем в датафреймы\n",
    "try:\n",
    "    # датасет с данными о пользователях\n",
    "    users = pd.read_csv('/datasets/users_go.csv')\n",
    "    # датасет с данными о поездках\n",
    "    rides = pd.read_csv('/datasets/rides_go.csv')\n",
    "    # датасет с данными о подписках\n",
    "    subscription = pd.read_csv('/datasets/subscriptions_go.csv')\n",
    "   \n",
    "except:\n",
    "    users = pd.read_csv('https://code.s3.yandex.net/datasets/users_go.csv')\n",
    "    rides = pd.read_csv('https://code.s3.yandex.net/datasets/rides_go.csv')\n",
    "    subscription = pd.read_csv('https://code.s3.yandex.net/datasets/subscriptions_go.csv')"
   ]
  },
  {
   "cell_type": "code",
   "execution_count": 4,
   "id": "d9599ad8",
   "metadata": {},
   "outputs": [
    {
     "data": {
      "text/html": [
       "<div>\n",
       "<style scoped>\n",
       "    .dataframe tbody tr th:only-of-type {\n",
       "        vertical-align: middle;\n",
       "    }\n",
       "\n",
       "    .dataframe tbody tr th {\n",
       "        vertical-align: top;\n",
       "    }\n",
       "\n",
       "    .dataframe thead th {\n",
       "        text-align: right;\n",
       "    }\n",
       "</style>\n",
       "<table border=\"1\" class=\"dataframe\">\n",
       "  <thead>\n",
       "    <tr style=\"text-align: right;\">\n",
       "      <th></th>\n",
       "      <th>user_id</th>\n",
       "      <th>name</th>\n",
       "      <th>age</th>\n",
       "      <th>city</th>\n",
       "      <th>subscription_type</th>\n",
       "    </tr>\n",
       "  </thead>\n",
       "  <tbody>\n",
       "    <tr>\n",
       "      <th>0</th>\n",
       "      <td>1</td>\n",
       "      <td>Кира</td>\n",
       "      <td>22</td>\n",
       "      <td>Тюмень</td>\n",
       "      <td>ultra</td>\n",
       "    </tr>\n",
       "    <tr>\n",
       "      <th>1</th>\n",
       "      <td>2</td>\n",
       "      <td>Станислав</td>\n",
       "      <td>31</td>\n",
       "      <td>Омск</td>\n",
       "      <td>ultra</td>\n",
       "    </tr>\n",
       "    <tr>\n",
       "      <th>2</th>\n",
       "      <td>3</td>\n",
       "      <td>Алексей</td>\n",
       "      <td>20</td>\n",
       "      <td>Москва</td>\n",
       "      <td>ultra</td>\n",
       "    </tr>\n",
       "    <tr>\n",
       "      <th>3</th>\n",
       "      <td>4</td>\n",
       "      <td>Константин</td>\n",
       "      <td>26</td>\n",
       "      <td>Ростов-на-Дону</td>\n",
       "      <td>ultra</td>\n",
       "    </tr>\n",
       "    <tr>\n",
       "      <th>4</th>\n",
       "      <td>5</td>\n",
       "      <td>Адель</td>\n",
       "      <td>28</td>\n",
       "      <td>Омск</td>\n",
       "      <td>ultra</td>\n",
       "    </tr>\n",
       "    <tr>\n",
       "      <th>5</th>\n",
       "      <td>6</td>\n",
       "      <td>Регина</td>\n",
       "      <td>25</td>\n",
       "      <td>Краснодар</td>\n",
       "      <td>ultra</td>\n",
       "    </tr>\n",
       "    <tr>\n",
       "      <th>6</th>\n",
       "      <td>7</td>\n",
       "      <td>Игорь</td>\n",
       "      <td>23</td>\n",
       "      <td>Омск</td>\n",
       "      <td>ultra</td>\n",
       "    </tr>\n",
       "    <tr>\n",
       "      <th>7</th>\n",
       "      <td>8</td>\n",
       "      <td>Юрий</td>\n",
       "      <td>23</td>\n",
       "      <td>Краснодар</td>\n",
       "      <td>ultra</td>\n",
       "    </tr>\n",
       "    <tr>\n",
       "      <th>8</th>\n",
       "      <td>9</td>\n",
       "      <td>Ян</td>\n",
       "      <td>21</td>\n",
       "      <td>Пятигорск</td>\n",
       "      <td>ultra</td>\n",
       "    </tr>\n",
       "    <tr>\n",
       "      <th>9</th>\n",
       "      <td>10</td>\n",
       "      <td>Валерий</td>\n",
       "      <td>18</td>\n",
       "      <td>Екатеринбург</td>\n",
       "      <td>ultra</td>\n",
       "    </tr>\n",
       "  </tbody>\n",
       "</table>\n",
       "</div>"
      ],
      "text/plain": [
       "   user_id        name  age            city subscription_type\n",
       "0        1        Кира   22          Тюмень             ultra\n",
       "1        2   Станислав   31            Омск             ultra\n",
       "2        3     Алексей   20          Москва             ultra\n",
       "3        4  Константин   26  Ростов-на-Дону             ultra\n",
       "4        5       Адель   28            Омск             ultra\n",
       "5        6      Регина   25       Краснодар             ultra\n",
       "6        7       Игорь   23            Омск             ultra\n",
       "7        8        Юрий   23       Краснодар             ultra\n",
       "8        9          Ян   21       Пятигорск             ultra\n",
       "9       10     Валерий   18    Екатеринбург             ultra"
      ]
     },
     "execution_count": 4,
     "metadata": {},
     "output_type": "execute_result"
    }
   ],
   "source": [
    "users.head(10)"
   ]
  },
  {
   "cell_type": "code",
   "execution_count": 5,
   "id": "8e88f816",
   "metadata": {},
   "outputs": [
    {
     "name": "stdout",
     "output_type": "stream",
     "text": [
      "<class 'pandas.core.frame.DataFrame'>\n",
      "RangeIndex: 1565 entries, 0 to 1564\n",
      "Data columns (total 5 columns):\n",
      " #   Column             Non-Null Count  Dtype \n",
      "---  ------             --------------  ----- \n",
      " 0   user_id            1565 non-null   int64 \n",
      " 1   name               1565 non-null   object\n",
      " 2   age                1565 non-null   int64 \n",
      " 3   city               1565 non-null   object\n",
      " 4   subscription_type  1565 non-null   object\n",
      "dtypes: int64(2), object(3)\n",
      "memory usage: 61.3+ KB\n"
     ]
    }
   ],
   "source": [
    "users.info()"
   ]
  },
  {
   "cell_type": "markdown",
   "id": "363e2141",
   "metadata": {},
   "source": [
    "Данные выглядят неплохо. В датафрейме 1565 срок, пропусков нет, с типами данных все ок."
   ]
  },
  {
   "cell_type": "code",
   "execution_count": 6,
   "id": "9e11688c",
   "metadata": {},
   "outputs": [
    {
     "data": {
      "text/html": [
       "<div>\n",
       "<style scoped>\n",
       "    .dataframe tbody tr th:only-of-type {\n",
       "        vertical-align: middle;\n",
       "    }\n",
       "\n",
       "    .dataframe tbody tr th {\n",
       "        vertical-align: top;\n",
       "    }\n",
       "\n",
       "    .dataframe thead th {\n",
       "        text-align: right;\n",
       "    }\n",
       "</style>\n",
       "<table border=\"1\" class=\"dataframe\">\n",
       "  <thead>\n",
       "    <tr style=\"text-align: right;\">\n",
       "      <th></th>\n",
       "      <th>user_id</th>\n",
       "      <th>distance</th>\n",
       "      <th>duration</th>\n",
       "      <th>date</th>\n",
       "    </tr>\n",
       "  </thead>\n",
       "  <tbody>\n",
       "    <tr>\n",
       "      <th>0</th>\n",
       "      <td>1</td>\n",
       "      <td>4409.919140</td>\n",
       "      <td>25.599769</td>\n",
       "      <td>2021-01-01</td>\n",
       "    </tr>\n",
       "    <tr>\n",
       "      <th>1</th>\n",
       "      <td>1</td>\n",
       "      <td>2617.592153</td>\n",
       "      <td>15.816871</td>\n",
       "      <td>2021-01-18</td>\n",
       "    </tr>\n",
       "    <tr>\n",
       "      <th>2</th>\n",
       "      <td>1</td>\n",
       "      <td>754.159807</td>\n",
       "      <td>6.232113</td>\n",
       "      <td>2021-04-20</td>\n",
       "    </tr>\n",
       "    <tr>\n",
       "      <th>3</th>\n",
       "      <td>1</td>\n",
       "      <td>2694.783254</td>\n",
       "      <td>18.511000</td>\n",
       "      <td>2021-08-11</td>\n",
       "    </tr>\n",
       "    <tr>\n",
       "      <th>4</th>\n",
       "      <td>1</td>\n",
       "      <td>4028.687306</td>\n",
       "      <td>26.265803</td>\n",
       "      <td>2021-08-28</td>\n",
       "    </tr>\n",
       "    <tr>\n",
       "      <th>5</th>\n",
       "      <td>1</td>\n",
       "      <td>2770.890808</td>\n",
       "      <td>16.650138</td>\n",
       "      <td>2021-10-09</td>\n",
       "    </tr>\n",
       "    <tr>\n",
       "      <th>6</th>\n",
       "      <td>1</td>\n",
       "      <td>3039.020292</td>\n",
       "      <td>14.927879</td>\n",
       "      <td>2021-10-19</td>\n",
       "    </tr>\n",
       "    <tr>\n",
       "      <th>7</th>\n",
       "      <td>1</td>\n",
       "      <td>2842.118050</td>\n",
       "      <td>23.117468</td>\n",
       "      <td>2021-11-06</td>\n",
       "    </tr>\n",
       "    <tr>\n",
       "      <th>8</th>\n",
       "      <td>1</td>\n",
       "      <td>3412.690668</td>\n",
       "      <td>15.238072</td>\n",
       "      <td>2021-11-14</td>\n",
       "    </tr>\n",
       "    <tr>\n",
       "      <th>9</th>\n",
       "      <td>1</td>\n",
       "      <td>748.690645</td>\n",
       "      <td>15.041884</td>\n",
       "      <td>2021-11-22</td>\n",
       "    </tr>\n",
       "    <tr>\n",
       "      <th>10</th>\n",
       "      <td>1</td>\n",
       "      <td>4031.020195</td>\n",
       "      <td>17.674448</td>\n",
       "      <td>2021-12-14</td>\n",
       "    </tr>\n",
       "    <tr>\n",
       "      <th>11</th>\n",
       "      <td>1</td>\n",
       "      <td>2720.609748</td>\n",
       "      <td>9.529463</td>\n",
       "      <td>2021-12-22</td>\n",
       "    </tr>\n",
       "    <tr>\n",
       "      <th>12</th>\n",
       "      <td>2</td>\n",
       "      <td>3105.086678</td>\n",
       "      <td>24.307514</td>\n",
       "      <td>2021-03-15</td>\n",
       "    </tr>\n",
       "    <tr>\n",
       "      <th>13</th>\n",
       "      <td>2</td>\n",
       "      <td>3053.519401</td>\n",
       "      <td>11.543256</td>\n",
       "      <td>2021-03-18</td>\n",
       "    </tr>\n",
       "    <tr>\n",
       "      <th>14</th>\n",
       "      <td>2</td>\n",
       "      <td>4029.116927</td>\n",
       "      <td>25.109188</td>\n",
       "      <td>2021-03-23</td>\n",
       "    </tr>\n",
       "  </tbody>\n",
       "</table>\n",
       "</div>"
      ],
      "text/plain": [
       "    user_id     distance   duration        date\n",
       "0         1  4409.919140  25.599769  2021-01-01\n",
       "1         1  2617.592153  15.816871  2021-01-18\n",
       "2         1   754.159807   6.232113  2021-04-20\n",
       "3         1  2694.783254  18.511000  2021-08-11\n",
       "4         1  4028.687306  26.265803  2021-08-28\n",
       "5         1  2770.890808  16.650138  2021-10-09\n",
       "6         1  3039.020292  14.927879  2021-10-19\n",
       "7         1  2842.118050  23.117468  2021-11-06\n",
       "8         1  3412.690668  15.238072  2021-11-14\n",
       "9         1   748.690645  15.041884  2021-11-22\n",
       "10        1  4031.020195  17.674448  2021-12-14\n",
       "11        1  2720.609748   9.529463  2021-12-22\n",
       "12        2  3105.086678  24.307514  2021-03-15\n",
       "13        2  3053.519401  11.543256  2021-03-18\n",
       "14        2  4029.116927  25.109188  2021-03-23"
      ]
     },
     "execution_count": 6,
     "metadata": {},
     "output_type": "execute_result"
    }
   ],
   "source": [
    "rides.head(15)"
   ]
  },
  {
   "cell_type": "code",
   "execution_count": 6,
   "id": "410b9b7e",
   "metadata": {},
   "outputs": [
    {
     "name": "stdout",
     "output_type": "stream",
     "text": [
      "<class 'pandas.core.frame.DataFrame'>\n",
      "RangeIndex: 18068 entries, 0 to 18067\n",
      "Data columns (total 4 columns):\n",
      " #   Column    Non-Null Count  Dtype  \n",
      "---  ------    --------------  -----  \n",
      " 0   user_id   18068 non-null  int64  \n",
      " 1   distance  18068 non-null  float64\n",
      " 2   duration  18068 non-null  float64\n",
      " 3   date      18068 non-null  object \n",
      "dtypes: float64(2), int64(1), object(1)\n",
      "memory usage: 564.8+ KB\n"
     ]
    }
   ],
   "source": [
    "rides.info()"
   ]
  },
  {
   "cell_type": "markdown",
   "id": "b652f1b3",
   "metadata": {},
   "source": [
    "Строк 18068, пропусков нет. Но столбцы с дистанцией (distance) и продолжительность сессии (duration) желательно немного округлить, у столбца date поменять тип."
   ]
  },
  {
   "cell_type": "code",
   "execution_count": 7,
   "id": "5f951f28",
   "metadata": {},
   "outputs": [
    {
     "data": {
      "text/html": [
       "<div>\n",
       "<style scoped>\n",
       "    .dataframe tbody tr th:only-of-type {\n",
       "        vertical-align: middle;\n",
       "    }\n",
       "\n",
       "    .dataframe tbody tr th {\n",
       "        vertical-align: top;\n",
       "    }\n",
       "\n",
       "    .dataframe thead th {\n",
       "        text-align: right;\n",
       "    }\n",
       "</style>\n",
       "<table border=\"1\" class=\"dataframe\">\n",
       "  <thead>\n",
       "    <tr style=\"text-align: right;\">\n",
       "      <th></th>\n",
       "      <th>subscription_type</th>\n",
       "      <th>minute_price</th>\n",
       "      <th>start_ride_price</th>\n",
       "      <th>subscription_fee</th>\n",
       "    </tr>\n",
       "  </thead>\n",
       "  <tbody>\n",
       "    <tr>\n",
       "      <th>0</th>\n",
       "      <td>free</td>\n",
       "      <td>8</td>\n",
       "      <td>50</td>\n",
       "      <td>0</td>\n",
       "    </tr>\n",
       "    <tr>\n",
       "      <th>1</th>\n",
       "      <td>ultra</td>\n",
       "      <td>6</td>\n",
       "      <td>0</td>\n",
       "      <td>199</td>\n",
       "    </tr>\n",
       "  </tbody>\n",
       "</table>\n",
       "</div>"
      ],
      "text/plain": [
       "  subscription_type  minute_price  start_ride_price  subscription_fee\n",
       "0              free             8                50                 0\n",
       "1             ultra             6                 0               199"
      ]
     },
     "execution_count": 7,
     "metadata": {},
     "output_type": "execute_result"
    }
   ],
   "source": [
    "subscription.head(10)"
   ]
  },
  {
   "cell_type": "code",
   "execution_count": 8,
   "id": "fbaa2f67",
   "metadata": {},
   "outputs": [
    {
     "name": "stdout",
     "output_type": "stream",
     "text": [
      "<class 'pandas.core.frame.DataFrame'>\n",
      "RangeIndex: 2 entries, 0 to 1\n",
      "Data columns (total 4 columns):\n",
      " #   Column             Non-Null Count  Dtype \n",
      "---  ------             --------------  ----- \n",
      " 0   subscription_type  2 non-null      object\n",
      " 1   minute_price       2 non-null      int64 \n",
      " 2   start_ride_price   2 non-null      int64 \n",
      " 3   subscription_fee   2 non-null      int64 \n",
      "dtypes: int64(3), object(1)\n",
      "memory usage: 192.0+ bytes\n"
     ]
    }
   ],
   "source": [
    "subscription.info()"
   ]
  },
  {
   "cell_type": "markdown",
   "id": "096d9553",
   "metadata": {},
   "source": [
    "Тут все ок. Дальнейшие проверки не потребуются."
   ]
  },
  {
   "cell_type": "markdown",
   "id": "a5224eab",
   "metadata": {},
   "source": [
    "## Предобработка данных"
   ]
  },
  {
   "cell_type": "markdown",
   "id": "316bd673",
   "metadata": {},
   "source": [
    "### Изменение типов данных"
   ]
  },
  {
   "cell_type": "code",
   "execution_count": 9,
   "id": "22cbff80",
   "metadata": {},
   "outputs": [
    {
     "name": "stdout",
     "output_type": "stream",
     "text": [
      "<class 'pandas.core.frame.DataFrame'>\n",
      "RangeIndex: 18068 entries, 0 to 18067\n",
      "Data columns (total 4 columns):\n",
      " #   Column    Non-Null Count  Dtype         \n",
      "---  ------    --------------  -----         \n",
      " 0   user_id   18068 non-null  int64         \n",
      " 1   distance  18068 non-null  float64       \n",
      " 2   duration  18068 non-null  float64       \n",
      " 3   date      18068 non-null  datetime64[ns]\n",
      "dtypes: datetime64[ns](1), float64(2), int64(1)\n",
      "memory usage: 564.8 KB\n"
     ]
    }
   ],
   "source": [
    "# приводим столбец date в датафрейме rides к типу данных pandas \n",
    "rides['date'] = pd.to_datetime(rides['date'], format='%Y-%m-%d')\n",
    "# проверка\n",
    "rides.info()"
   ]
  },
  {
   "cell_type": "code",
   "execution_count": 13,
   "id": "b0e7b505",
   "metadata": {},
   "outputs": [
    {
     "name": "stdout",
     "output_type": "stream",
     "text": [
      "Начало периодна наблюдений: 2021-01-01 00:00:00\n",
      "Конец периода наблюдений: 2021-12-30 00:00:00\n"
     ]
    }
   ],
   "source": [
    "print('Начало периодна наблюдений:', rides['date'].min())\n",
    "print('Конец периода наблюдений:', rides['date'].max())"
   ]
  },
  {
   "cell_type": "markdown",
   "id": "f1292103",
   "metadata": {},
   "source": [
    "### Добавление новых столбцов"
   ]
  },
  {
   "cell_type": "code",
   "execution_count": 14,
   "id": "e6d5ffaf",
   "metadata": {},
   "outputs": [
    {
     "data": {
      "text/html": [
       "<div>\n",
       "<style scoped>\n",
       "    .dataframe tbody tr th:only-of-type {\n",
       "        vertical-align: middle;\n",
       "    }\n",
       "\n",
       "    .dataframe tbody tr th {\n",
       "        vertical-align: top;\n",
       "    }\n",
       "\n",
       "    .dataframe thead th {\n",
       "        text-align: right;\n",
       "    }\n",
       "</style>\n",
       "<table border=\"1\" class=\"dataframe\">\n",
       "  <thead>\n",
       "    <tr style=\"text-align: right;\">\n",
       "      <th></th>\n",
       "      <th>user_id</th>\n",
       "      <th>distance</th>\n",
       "      <th>duration</th>\n",
       "      <th>date</th>\n",
       "      <th>month</th>\n",
       "    </tr>\n",
       "  </thead>\n",
       "  <tbody>\n",
       "    <tr>\n",
       "      <th>7493</th>\n",
       "      <td>771</td>\n",
       "      <td>3469.822445</td>\n",
       "      <td>19.674556</td>\n",
       "      <td>2021-03-03</td>\n",
       "      <td>3</td>\n",
       "    </tr>\n",
       "    <tr>\n",
       "      <th>2949</th>\n",
       "      <td>316</td>\n",
       "      <td>3665.716073</td>\n",
       "      <td>27.710212</td>\n",
       "      <td>2021-02-06</td>\n",
       "      <td>2</td>\n",
       "    </tr>\n",
       "    <tr>\n",
       "      <th>9586</th>\n",
       "      <td>928</td>\n",
       "      <td>3379.297786</td>\n",
       "      <td>19.991651</td>\n",
       "      <td>2021-09-22</td>\n",
       "      <td>9</td>\n",
       "    </tr>\n",
       "    <tr>\n",
       "      <th>10025</th>\n",
       "      <td>959</td>\n",
       "      <td>2510.158669</td>\n",
       "      <td>16.530476</td>\n",
       "      <td>2021-10-11</td>\n",
       "      <td>10</td>\n",
       "    </tr>\n",
       "    <tr>\n",
       "      <th>15540</th>\n",
       "      <td>1358</td>\n",
       "      <td>2368.714817</td>\n",
       "      <td>15.466265</td>\n",
       "      <td>2021-09-10</td>\n",
       "      <td>9</td>\n",
       "    </tr>\n",
       "  </tbody>\n",
       "</table>\n",
       "</div>"
      ],
      "text/plain": [
       "       user_id     distance   duration       date  month\n",
       "7493       771  3469.822445  19.674556 2021-03-03      3\n",
       "2949       316  3665.716073  27.710212 2021-02-06      2\n",
       "9586       928  3379.297786  19.991651 2021-09-22      9\n",
       "10025      959  2510.158669  16.530476 2021-10-11     10\n",
       "15540     1358  2368.714817  15.466265 2021-09-10      9"
      ]
     },
     "execution_count": 14,
     "metadata": {},
     "output_type": "execute_result"
    }
   ],
   "source": [
    "# добавляем месяц совершения поездки\n",
    "rides['month'] = rides['date'].dt.month\n",
    "# проверка\n",
    "rides.sample(5)"
   ]
  },
  {
   "cell_type": "markdown",
   "id": "994f1581",
   "metadata": {},
   "source": [
    "### Проверка данных"
   ]
  },
  {
   "cell_type": "markdown",
   "id": "fc9ea695",
   "metadata": {},
   "source": [
    "#### Датафрейм users  \n",
    "Ранее убедились, что пропусков нет, с типами данных все ок."
   ]
  },
  {
   "cell_type": "code",
   "execution_count": 15,
   "id": "c9e8aff9",
   "metadata": {},
   "outputs": [
    {
     "data": {
      "text/plain": [
       "Пятигорск         226\n",
       "Екатеринбург      206\n",
       "Ростов-на-Дону    202\n",
       "Краснодар         196\n",
       "Сочи              192\n",
       "Омск              186\n",
       "Тюмень            185\n",
       "Москва            172\n",
       "Name: city, dtype: int64"
      ]
     },
     "execution_count": 15,
     "metadata": {},
     "output_type": "execute_result"
    }
   ],
   "source": [
    "# посмотрим столбец с населенными пунктами\n",
    "users['city'].value_counts()"
   ]
  },
  {
   "cell_type": "raw",
   "id": "7c12bf47",
   "metadata": {},
   "source": [
    "Выглядит прилично."
   ]
  },
  {
   "cell_type": "code",
   "execution_count": 16,
   "id": "b639e418",
   "metadata": {},
   "outputs": [
    {
     "data": {
      "text/plain": [
       "array(['Кира', 'Станислав', 'Алексей', 'Константин', 'Адель', 'Регина',\n",
       "       'Игорь', 'Юрий', 'Ян', 'Валерий', 'Агата', 'Марк', 'Ева',\n",
       "       'Антонина', 'Валерия', 'Амалия', 'Даниил', 'Аделина', 'Святогор',\n",
       "       'Борис', 'Вероника', 'Ростислав', 'Назар', 'Эдуард', 'Василий',\n",
       "       'Денис', 'Тамара', 'Николай', 'Эвелина', 'Федор', 'Руслан', 'Иван',\n",
       "       'Любовь', 'Ярослава', 'Майя', 'Ильдар', 'Данила', 'Нина',\n",
       "       'Стефания', 'Ясмина', 'Дмитрий', 'Александр', 'Одиссей', 'Арсений',\n",
       "       'Алла', 'Таисия', 'Максим', 'Юлиана', 'Павел', 'Карина', 'Алиса',\n",
       "       'Лидия', 'Рамиль', 'Родион', 'Ника', 'Оксана', 'Анастасия',\n",
       "       'Маргарита', 'Вера', 'Тимур', 'Никита', 'Лев', 'Влад', 'Артур',\n",
       "       'Анна', 'Ольга', 'Вячеслав', 'Ксения', 'Виталина', 'Владислав',\n",
       "       'Тамерлан', 'Амина', 'Вадим', 'Олеся', 'Зарина', 'Егор', 'Гордей',\n",
       "       'Лилия', 'Святослав', 'Роберт', 'Амир', 'Влада', 'Богдан',\n",
       "       'Полина', 'Марат', 'Елисей', 'Макар', 'Алина', 'Глеб', 'Андрей',\n",
       "       'Альбина', 'Людмила', 'Марсель', 'Милена', 'Диана', 'Дарина',\n",
       "       'Данил', 'Артемий', 'Лиана', 'Альберт', 'Герман', 'Жанна', 'Нелли',\n",
       "       'Евгения', 'Ариана', 'Самира', 'Захар', 'Эльвира', 'Екатерина',\n",
       "       'Инна', 'Демид', 'Яна', 'Михаил', 'Татьяна', 'Степан', 'Мелания',\n",
       "       'Тимофей', 'Ирина', 'Анжелика', 'Владислава', 'Елизавета',\n",
       "       'Мадина', 'Снежана', 'Даниэль', 'Рустам', 'Каролина', 'Ангелина',\n",
       "       'Владимир', 'Виктория', 'Валентина', 'Семен', 'Арина', 'Лариса',\n",
       "       'Есения', 'Галина', 'Кирилл', 'Игнат', 'Виталий', 'Эмилия',\n",
       "       'Виолетта', 'Яромир', 'Софья', 'Мирослава', 'Евгений', 'Варвара',\n",
       "       'Платон', 'Наталия', 'Анатолий', 'Кристина', 'Всеволод', 'Дарья',\n",
       "       'Наташа', 'Мария', 'Марина', 'Василиса', 'Юлия', 'Илья', 'Злата',\n",
       "       'Роман', 'Наталья', 'Элина', 'Арсен', 'Айдар', 'Алия', 'Виктор',\n",
       "       'Мирон', 'Ульяна', 'Георгий', 'Петр', 'Эльмира', 'Олег', 'Дамир',\n",
       "       'Самир', 'Ярослав', 'Камилла', 'Сергей', 'Эмиль', 'Радмир',\n",
       "       'Савелий', 'Елена', 'Антон', 'Мирослав', 'София', 'Тихон', 'Артём',\n",
       "       'Давид', 'Григорий', 'Алёна', 'Светлана', 'Леонид', 'Александра',\n",
       "       'Василина', 'Милана', 'Матвей'], dtype=object)"
      ]
     },
     "execution_count": 16,
     "metadata": {},
     "output_type": "execute_result"
    }
   ],
   "source": [
    "# посмотрим столбец с именами\n",
    "users['name'].unique()"
   ]
  },
  {
   "cell_type": "markdown",
   "id": "a436def8",
   "metadata": {},
   "source": [
    "Тут все ок. Повторов с е/ё нет."
   ]
  },
  {
   "cell_type": "code",
   "execution_count": 17,
   "id": "584b7b57",
   "metadata": {},
   "outputs": [
    {
     "name": "stdout",
     "output_type": "stream",
     "text": [
      "Количество явных дубликатов: 31\n"
     ]
    }
   ],
   "source": [
    "# проверим на явные дубликаты\n",
    "print('Количество явных дубликатов:', users.duplicated().sum())"
   ]
  },
  {
   "cell_type": "code",
   "execution_count": 18,
   "id": "3361f42d",
   "metadata": {},
   "outputs": [
    {
     "name": "stdout",
     "output_type": "stream",
     "text": [
      "Количество явных дубликатов: 0\n"
     ]
    }
   ],
   "source": [
    "# удаляем явные дубликаты\n",
    "users = users.drop_duplicates()\n",
    "# проверка\n",
    "print('Количество явных дубликатов:', users.duplicated().sum())"
   ]
  },
  {
   "cell_type": "code",
   "execution_count": 19,
   "id": "bbb0d5da",
   "metadata": {},
   "outputs": [
    {
     "data": {
      "text/plain": [
       "free     835\n",
       "ultra    699\n",
       "Name: subscription_type, dtype: int64"
      ]
     },
     "execution_count": 19,
     "metadata": {},
     "output_type": "execute_result"
    }
   ],
   "source": [
    "users['subscription_type'].value_counts()"
   ]
  },
  {
   "cell_type": "markdown",
   "id": "570561d5",
   "metadata": {},
   "source": [
    "Типов подписки две (free/ultra), количество не сильно отличается."
   ]
  },
  {
   "cell_type": "markdown",
   "id": "574f9b3c",
   "metadata": {},
   "source": [
    "#### Датафрейм rides"
   ]
  },
  {
   "cell_type": "code",
   "execution_count": 20,
   "id": "3ecc9815",
   "metadata": {},
   "outputs": [
    {
     "name": "stdout",
     "output_type": "stream",
     "text": [
      "Количество явных дубликатов: 0\n"
     ]
    }
   ],
   "source": [
    "# явные дубли\n",
    "print('Количество явных дубликатов:', rides.duplicated().sum())"
   ]
  },
  {
   "cell_type": "markdown",
   "id": "c23a85b6",
   "metadata": {},
   "source": [
    "Значения в столбцах distance округлим до двух знаков после запятой."
   ]
  },
  {
   "cell_type": "code",
   "execution_count": 21,
   "id": "50b4c6af",
   "metadata": {},
   "outputs": [
    {
     "data": {
      "text/html": [
       "<div>\n",
       "<style scoped>\n",
       "    .dataframe tbody tr th:only-of-type {\n",
       "        vertical-align: middle;\n",
       "    }\n",
       "\n",
       "    .dataframe tbody tr th {\n",
       "        vertical-align: top;\n",
       "    }\n",
       "\n",
       "    .dataframe thead th {\n",
       "        text-align: right;\n",
       "    }\n",
       "</style>\n",
       "<table border=\"1\" class=\"dataframe\">\n",
       "  <thead>\n",
       "    <tr style=\"text-align: right;\">\n",
       "      <th></th>\n",
       "      <th>user_id</th>\n",
       "      <th>distance</th>\n",
       "      <th>duration</th>\n",
       "      <th>date</th>\n",
       "      <th>month</th>\n",
       "    </tr>\n",
       "  </thead>\n",
       "  <tbody>\n",
       "    <tr>\n",
       "      <th>0</th>\n",
       "      <td>1</td>\n",
       "      <td>4409.92</td>\n",
       "      <td>25.599769</td>\n",
       "      <td>2021-01-01</td>\n",
       "      <td>1</td>\n",
       "    </tr>\n",
       "    <tr>\n",
       "      <th>1</th>\n",
       "      <td>1</td>\n",
       "      <td>2617.59</td>\n",
       "      <td>15.816871</td>\n",
       "      <td>2021-01-18</td>\n",
       "      <td>1</td>\n",
       "    </tr>\n",
       "    <tr>\n",
       "      <th>2</th>\n",
       "      <td>1</td>\n",
       "      <td>754.16</td>\n",
       "      <td>6.232113</td>\n",
       "      <td>2021-04-20</td>\n",
       "      <td>4</td>\n",
       "    </tr>\n",
       "    <tr>\n",
       "      <th>3</th>\n",
       "      <td>1</td>\n",
       "      <td>2694.78</td>\n",
       "      <td>18.511000</td>\n",
       "      <td>2021-08-11</td>\n",
       "      <td>8</td>\n",
       "    </tr>\n",
       "    <tr>\n",
       "      <th>4</th>\n",
       "      <td>1</td>\n",
       "      <td>4028.69</td>\n",
       "      <td>26.265803</td>\n",
       "      <td>2021-08-28</td>\n",
       "      <td>8</td>\n",
       "    </tr>\n",
       "  </tbody>\n",
       "</table>\n",
       "</div>"
      ],
      "text/plain": [
       "   user_id  distance   duration       date  month\n",
       "0        1   4409.92  25.599769 2021-01-01      1\n",
       "1        1   2617.59  15.816871 2021-01-18      1\n",
       "2        1    754.16   6.232113 2021-04-20      4\n",
       "3        1   2694.78  18.511000 2021-08-11      8\n",
       "4        1   4028.69  26.265803 2021-08-28      8"
      ]
     },
     "execution_count": 21,
     "metadata": {},
     "output_type": "execute_result"
    }
   ],
   "source": [
    "rides['distance'] = rides['distance'].round(2)\n",
    "# rides['duration'] = np.ceil(rides['duration'])\n",
    "rides.head(5)"
   ]
  },
  {
   "cell_type": "markdown",
   "id": "33e9661e",
   "metadata": {},
   "source": [
    "**Вывод:** Проведена предобработка данных: даты приведены к типу данных Pandas, данные проверены на наличие пропусков и дубликатов (отсутствуют), добавлен вспомогательный столбец с месяцем совершения поездки, расстояния округлены до двух знаков после запятой."
   ]
  },
  {
   "cell_type": "markdown",
   "id": "3930cbf4",
   "metadata": {},
   "source": [
    "## Исследовательский анализ данных"
   ]
  },
  {
   "cell_type": "markdown",
   "id": "5977441f",
   "metadata": {},
   "source": [
    "### Частота встречаемости городов"
   ]
  },
  {
   "cell_type": "code",
   "execution_count": 22,
   "id": "5fb0cfdb",
   "metadata": {},
   "outputs": [],
   "source": [
    "# цвета для графиков\n",
    "colors = sns.color_palette('pastel') "
   ]
  },
  {
   "cell_type": "code",
   "execution_count": 23,
   "id": "d06a2606",
   "metadata": {},
   "outputs": [
    {
     "data": {
      "text/html": [
       "<div>\n",
       "<style scoped>\n",
       "    .dataframe tbody tr th:only-of-type {\n",
       "        vertical-align: middle;\n",
       "    }\n",
       "\n",
       "    .dataframe tbody tr th {\n",
       "        vertical-align: top;\n",
       "    }\n",
       "\n",
       "    .dataframe thead th {\n",
       "        text-align: right;\n",
       "    }\n",
       "</style>\n",
       "<table border=\"1\" class=\"dataframe\">\n",
       "  <thead>\n",
       "    <tr style=\"text-align: right;\">\n",
       "      <th></th>\n",
       "      <th>city</th>\n",
       "    </tr>\n",
       "    <tr>\n",
       "      <th>city</th>\n",
       "      <th></th>\n",
       "    </tr>\n",
       "  </thead>\n",
       "  <tbody>\n",
       "    <tr>\n",
       "      <th>Екатеринбург</th>\n",
       "      <td>204</td>\n",
       "    </tr>\n",
       "    <tr>\n",
       "      <th>Краснодар</th>\n",
       "      <td>193</td>\n",
       "    </tr>\n",
       "    <tr>\n",
       "      <th>Москва</th>\n",
       "      <td>168</td>\n",
       "    </tr>\n",
       "    <tr>\n",
       "      <th>Омск</th>\n",
       "      <td>183</td>\n",
       "    </tr>\n",
       "    <tr>\n",
       "      <th>Пятигорск</th>\n",
       "      <td>219</td>\n",
       "    </tr>\n",
       "    <tr>\n",
       "      <th>Ростов-на-Дону</th>\n",
       "      <td>198</td>\n",
       "    </tr>\n",
       "    <tr>\n",
       "      <th>Сочи</th>\n",
       "      <td>189</td>\n",
       "    </tr>\n",
       "    <tr>\n",
       "      <th>Тюмень</th>\n",
       "      <td>180</td>\n",
       "    </tr>\n",
       "  </tbody>\n",
       "</table>\n",
       "</div>"
      ],
      "text/plain": [
       "                city\n",
       "city                \n",
       "Екатеринбург     204\n",
       "Краснодар        193\n",
       "Москва           168\n",
       "Омск             183\n",
       "Пятигорск        219\n",
       "Ростов-на-Дону   198\n",
       "Сочи             189\n",
       "Тюмень           180"
      ]
     },
     "execution_count": 23,
     "metadata": {},
     "output_type": "execute_result"
    }
   ],
   "source": [
    "# посмотрим частоту встречаемости городов\n",
    "users.groupby('city').agg({'city': 'count'})"
   ]
  },
  {
   "cell_type": "code",
   "execution_count": 25,
   "id": "028ce3f8",
   "metadata": {
    "scrolled": true
   },
   "outputs": [
    {
     "data": {
      "image/png": "[encoded data removed]",
      "text/plain": [
       "<Figure size 864x288 with 1 Axes>"
      ]
     },
     "metadata": {
      "needs_background": "light"
     },
     "output_type": "display_data"
    }
   ],
   "source": [
    "# рисуем\n",
    "plt.figure(figsize=(12,4))\n",
    "sns.barplot(y=users['city'].value_counts().index, x=users['city'].value_counts(), palette=colors)\n",
    "plt.xlabel('Количество пользователей')\n",
    "plt.title('Частота встречаемости городов')\n",
    "plt.grid()"
   ]
  },
  {
   "cell_type": "markdown",
   "id": "eb8a0e1d",
   "metadata": {},
   "source": [
    "**Вывод:** Как видно из графика, наибольшее количество пользователей зарегистрировано в Пятигорске, наименьшее - в Москве."
   ]
  },
  {
   "cell_type": "markdown",
   "id": "d7816b66",
   "metadata": {},
   "source": [
    "### Соотношение пользователей с подпиской и без"
   ]
  },
  {
   "cell_type": "code",
   "execution_count": 26,
   "id": "de1ed776",
   "metadata": {
    "scrolled": true
   },
   "outputs": [
    {
     "data": {
      "image/png": "[encoded data removed]",
      "text/plain": [
       "<Figure size 576x216 with 1 Axes>"
      ]
     },
     "metadata": {
      "needs_background": "light"
     },
     "output_type": "display_data"
    }
   ],
   "source": [
    "plt.figure(figsize=(8,3))\n",
    "sns.barplot(y=users['subscription_type'].value_counts().index, x=users['subscription_type'].value_counts(), palette=colors)\n",
    "plt.xlabel('Количество пользователей')\n",
    "plt.title('Соотношение пользователей с подпиской и без')\n",
    "plt.grid()"
   ]
  },
  {
   "cell_type": "code",
   "execution_count": 57,
   "id": "919574cf",
   "metadata": {},
   "outputs": [
    {
     "data": {
      "image/png": "[encoded data removed]",
      "text/plain": [
       "<Figure size 432x432 with 1 Axes>"
      ]
     },
     "metadata": {},
     "output_type": "display_data"
    }
   ],
   "source": [
    "users_type = users.pivot_table(index='subscription_type', values='user_id', aggfunc='count')\n",
    "users_type.columns = ['count']\n",
    "\n",
    "users_type.plot(y='count', kind='pie', figsize=(6,6), colors=colors, autopct='%.0f%%',\\\n",
    "                title='Соотношение пользователей с подпиской и без')\n",
    "plt.ylabel('')\n",
    "plt.legend('')\n",
    "plt.show();"
   ]
  },
  {
   "cell_type": "markdown",
   "id": "73abc759",
   "metadata": {},
   "source": [
    "**Вывод:** Как видно из диаграм, количество пользователей без платной подписки больше (54%), чем пользователей с платной подпиской (46%)."
   ]
  },
  {
   "cell_type": "markdown",
   "id": "04ef30bb",
   "metadata": {},
   "source": [
    "### Возраст пользователей"
   ]
  },
  {
   "cell_type": "code",
   "execution_count": 58,
   "id": "b7825a14",
   "metadata": {},
   "outputs": [
    {
     "name": "stdout",
     "output_type": "stream",
     "text": [
      "Минимальный возраст пользователя: 12\n",
      "Максимальный возраст пользователя: 43\n"
     ]
    }
   ],
   "source": [
    "print('Минимальный возраст пользователя:', users['age'].min())\n",
    "print('Максимальный возраст пользователя:', users['age'].max())"
   ]
  },
  {
   "cell_type": "code",
   "execution_count": 59,
   "id": "399938a7",
   "metadata": {},
   "outputs": [
    {
     "data": {
      "text/plain": [
       "25    145\n",
       "24    132\n",
       "26    131\n",
       "23    129\n",
       "27    119\n",
       "22    119\n",
       "28    112\n",
       "21     93\n",
       "20     71\n",
       "30     68\n",
       "Name: age, dtype: int64"
      ]
     },
     "execution_count": 59,
     "metadata": {},
     "output_type": "execute_result"
    }
   ],
   "source": [
    "# посмотрим. какой возраст наиболее часто встречается\n",
    "users['age'].value_counts().sort_values(ascending=False).head(10)"
   ]
  },
  {
   "cell_type": "code",
   "execution_count": 60,
   "id": "7da85faf",
   "metadata": {},
   "outputs": [
    {
     "data": {
      "text/plain": [
       "count    1534.000000\n",
       "mean       24.903520\n",
       "std         4.572367\n",
       "min        12.000000\n",
       "25%        22.000000\n",
       "50%        25.000000\n",
       "75%        28.000000\n",
       "max        43.000000\n",
       "Name: age, dtype: float64"
      ]
     },
     "execution_count": 60,
     "metadata": {},
     "output_type": "execute_result"
    }
   ],
   "source": [
    "users['age'].describe()"
   ]
  },
  {
   "cell_type": "code",
   "execution_count": 63,
   "id": "cd8ea96e",
   "metadata": {},
   "outputs": [
    {
     "data": {
      "image/png": "[encoded data removed]",
      "text/plain": [
       "<Figure size 864x288 with 1 Axes>"
      ]
     },
     "metadata": {
      "needs_background": "light"
     },
     "output_type": "display_data"
    }
   ],
   "source": [
    "# строим диаграмму\n",
    "plt.figure(figsize=(12,4))\n",
    "sns.barplot(x=users['age'].value_counts().index, y=users['age'].value_counts(), palette=colors)\n",
    "plt.xlabel('Возраст')\n",
    "plt.ylabel('Количество пользователей')\n",
    "plt.title('Возраст пользователей')\n",
    "plt.grid()"
   ]
  },
  {
   "cell_type": "code",
   "execution_count": 64,
   "id": "f0ecf958",
   "metadata": {},
   "outputs": [
    {
     "data": {
      "image/png": "[encoded data removed]",
      "text/plain": [
       "<Figure size 864x288 with 1 Axes>"
      ]
     },
     "metadata": {
      "needs_background": "light"
     },
     "output_type": "display_data"
    }
   ],
   "source": [
    "users.groupby('age').agg({'age': 'count'}).plot(figsize=(12,4), title='Возраст пользователей');"
   ]
  },
  {
   "cell_type": "markdown",
   "id": "7a366ee4",
   "metadata": {},
   "source": [
    "**Вывод:** Наиболее часто встречающаяся возрастная категория это пользователи 22-28 лет. Есть пользователи младше 18 лет, что немного смущает, возможно, техническая ошибка."
   ]
  },
  {
   "cell_type": "markdown",
   "id": "2a8af650",
   "metadata": {},
   "source": [
    "### Расстояние, которое пользователь преодолел за одну поездку"
   ]
  },
  {
   "cell_type": "code",
   "execution_count": 65,
   "id": "8ccfd0d8",
   "metadata": {},
   "outputs": [
    {
     "data": {
      "text/plain": [
       "count    18068.000000\n",
       "mean      3070.659992\n",
       "std       1116.831222\n",
       "min          0.860000\n",
       "25%       2543.227500\n",
       "50%       3133.610000\n",
       "75%       3776.220000\n",
       "max       7211.010000\n",
       "Name: distance, dtype: float64"
      ]
     },
     "execution_count": 65,
     "metadata": {},
     "output_type": "execute_result"
    }
   ],
   "source": [
    "rides['distance'].describe()"
   ]
  },
  {
   "cell_type": "code",
   "execution_count": 66,
   "id": "3746a1a8",
   "metadata": {},
   "outputs": [],
   "source": [
    "# сводная таблица со средними и медианными значениями дистанций\n",
    "# distance_pivot = rides.pivot_table(index='user_id', values='distance', aggfunc=['mean', 'median'])\n",
    "# distance_pivot.columns = ['mean', 'median']\n",
    "# distance_pivot.head(10)"
   ]
  },
  {
   "cell_type": "code",
   "execution_count": 67,
   "id": "d36b3159",
   "metadata": {},
   "outputs": [],
   "source": [
    "# строим диаграммы\n",
    "# distance_pivot['mean'].hist(bins=30, alpha=0.7, rwidth=0.9, figsize=(8,4), color='blue')\n",
    "# #plt.show()\n",
    "# distance_pivot['median'].hist(bins=30, alpha=0.7, rwidth=0.9, figsize=(8,4), color='pink');"
   ]
  },
  {
   "cell_type": "code",
   "execution_count": 79,
   "id": "2c96fe81",
   "metadata": {},
   "outputs": [
    {
     "data": {
      "image/png": "[encoded data removed]",
      "text/plain": [
       "<Figure size 864x288 with 1 Axes>"
      ]
     },
     "metadata": {
      "needs_background": "light"
     },
     "output_type": "display_data"
    }
   ],
   "source": [
    "rides['distance'].plot(kind='hist', bins=30, grid=True, alpha=0.7, rwidth=0.9, figsize=(12,4),\\\n",
    "                       title='Расстояние за 1 поездку', color=colors)\n",
    "plt.xlabel('Расстояние, м')\n",
    "plt.ylabel('Количество пользователей');"
   ]
  },
  {
   "cell_type": "markdown",
   "id": "5afc25ec",
   "metadata": {},
   "source": [
    "**Вывод:** Наиболее часто пользователи проезжают 3 \"с копейками\" км, что подтверждается расчетными средним и медианным значениями. Значительно реже расстояние составляет менее 2,5 и более 3,5 кв."
   ]
  },
  {
   "cell_type": "markdown",
   "id": "916e8154",
   "metadata": {},
   "source": [
    "### Продолжительность поездок"
   ]
  },
  {
   "cell_type": "code",
   "execution_count": 31,
   "id": "1d613701",
   "metadata": {},
   "outputs": [
    {
     "data": {
      "text/plain": [
       "count    18068.000000\n",
       "mean        18.303520\n",
       "std          6.094928\n",
       "min          1.000000\n",
       "25%         14.000000\n",
       "50%         18.000000\n",
       "75%         22.000000\n",
       "max         41.000000\n",
       "Name: duration, dtype: float64"
      ]
     },
     "execution_count": 31,
     "metadata": {},
     "output_type": "execute_result"
    }
   ],
   "source": [
    "rides['duration'].describe()"
   ]
  },
  {
   "cell_type": "code",
   "execution_count": 32,
   "id": "0103954e",
   "metadata": {},
   "outputs": [
    {
     "data": {
      "text/html": [
       "<div>\n",
       "<style scoped>\n",
       "    .dataframe tbody tr th:only-of-type {\n",
       "        vertical-align: middle;\n",
       "    }\n",
       "\n",
       "    .dataframe tbody tr th {\n",
       "        vertical-align: top;\n",
       "    }\n",
       "\n",
       "    .dataframe thead th {\n",
       "        text-align: right;\n",
       "    }\n",
       "</style>\n",
       "<table border=\"1\" class=\"dataframe\">\n",
       "  <thead>\n",
       "    <tr style=\"text-align: right;\">\n",
       "      <th></th>\n",
       "      <th>mean</th>\n",
       "      <th>median</th>\n",
       "    </tr>\n",
       "    <tr>\n",
       "      <th>user_id</th>\n",
       "      <th></th>\n",
       "      <th></th>\n",
       "    </tr>\n",
       "  </thead>\n",
       "  <tbody>\n",
       "    <tr>\n",
       "      <th>1</th>\n",
       "      <td>17.583333</td>\n",
       "      <td>16.5</td>\n",
       "    </tr>\n",
       "    <tr>\n",
       "      <th>2</th>\n",
       "      <td>18.454545</td>\n",
       "      <td>19.0</td>\n",
       "    </tr>\n",
       "    <tr>\n",
       "      <th>3</th>\n",
       "      <td>19.916667</td>\n",
       "      <td>20.5</td>\n",
       "    </tr>\n",
       "    <tr>\n",
       "      <th>4</th>\n",
       "      <td>20.928571</td>\n",
       "      <td>21.5</td>\n",
       "    </tr>\n",
       "    <tr>\n",
       "      <th>5</th>\n",
       "      <td>16.363636</td>\n",
       "      <td>15.0</td>\n",
       "    </tr>\n",
       "    <tr>\n",
       "      <th>6</th>\n",
       "      <td>20.900000</td>\n",
       "      <td>20.0</td>\n",
       "    </tr>\n",
       "    <tr>\n",
       "      <th>7</th>\n",
       "      <td>16.750000</td>\n",
       "      <td>16.0</td>\n",
       "    </tr>\n",
       "    <tr>\n",
       "      <th>8</th>\n",
       "      <td>18.600000</td>\n",
       "      <td>17.0</td>\n",
       "    </tr>\n",
       "    <tr>\n",
       "      <th>9</th>\n",
       "      <td>16.625000</td>\n",
       "      <td>17.0</td>\n",
       "    </tr>\n",
       "    <tr>\n",
       "      <th>10</th>\n",
       "      <td>17.800000</td>\n",
       "      <td>18.5</td>\n",
       "    </tr>\n",
       "  </tbody>\n",
       "</table>\n",
       "</div>"
      ],
      "text/plain": [
       "              mean  median\n",
       "user_id                   \n",
       "1        17.583333    16.5\n",
       "2        18.454545    19.0\n",
       "3        19.916667    20.5\n",
       "4        20.928571    21.5\n",
       "5        16.363636    15.0\n",
       "6        20.900000    20.0\n",
       "7        16.750000    16.0\n",
       "8        18.600000    17.0\n",
       "9        16.625000    17.0\n",
       "10       17.800000    18.5"
      ]
     },
     "execution_count": 32,
     "metadata": {},
     "output_type": "execute_result"
    }
   ],
   "source": [
    "# сводная таблица со средним и медианным значением продолжительности поездок\n",
    "duration_pivot = rides.pivot_table(index='user_id', values='duration', aggfunc=['mean', 'median'])\n",
    "duration_pivot.columns = ['mean', 'median']\n",
    "duration_pivot.head(10)"
   ]
  },
  {
   "cell_type": "code",
   "execution_count": 80,
   "id": "0c51d7b3",
   "metadata": {},
   "outputs": [
    {
     "data": {
      "image/png": "[encoded data removed]",
      "text/plain": [
       "<Figure size 864x288 with 1 Axes>"
      ]
     },
     "metadata": {
      "needs_background": "light"
     },
     "output_type": "display_data"
    }
   ],
   "source": [
    "# диаграммы\n",
    "# duration_pivot['mean'].hist(bins=30, alpha=0.7, rwidth=0.9, figsize=(8,4), range=(0, 42), color='blue')\n",
    "# #plt.show()\n",
    "# duration_pivot['median'].hist(bins=30, alpha=0.7, rwidth=0.9, figsize=(8,4), range=(0, 42), color='pink');\n",
    "rides['duration'].plot(kind='hist', bins=30, grid=True, alpha=0.7, rwidth=0.9, figsize=(12,4),\\\n",
    "                       title='Продолжительность 1 поездки', color=colors)\n",
    "plt.xlabel('Продолжительность, мин')\n",
    "plt.ylabel('Количество пользователей');"
   ]
  },
  {
   "cell_type": "markdown",
   "id": "8e756de4",
   "metadata": {},
   "source": [
    "**Вывод:** Наиболее часто пользователи арендуют самокаты на время в районе 18 минут, значительно реже - менее 15 и более 20 минут."
   ]
  },
  {
   "cell_type": "markdown",
   "id": "c39e4bde",
   "metadata": {},
   "source": [
    "## Объединение данных"
   ]
  },
  {
   "cell_type": "markdown",
   "id": "da9e23ab",
   "metadata": {},
   "source": [
    "### Создание новых датафреймов"
   ]
  },
  {
   "cell_type": "markdown",
   "id": "1e2a5b95",
   "metadata": {},
   "source": [
    "Объединим данные о пользователях, поездках и подписках в один датафрейм."
   ]
  },
  {
   "cell_type": "code",
   "execution_count": 81,
   "id": "e4df5424",
   "metadata": {},
   "outputs": [
    {
     "data": {
      "text/html": [
       "<div>\n",
       "<style scoped>\n",
       "    .dataframe tbody tr th:only-of-type {\n",
       "        vertical-align: middle;\n",
       "    }\n",
       "\n",
       "    .dataframe tbody tr th {\n",
       "        vertical-align: top;\n",
       "    }\n",
       "\n",
       "    .dataframe thead th {\n",
       "        text-align: right;\n",
       "    }\n",
       "</style>\n",
       "<table border=\"1\" class=\"dataframe\">\n",
       "  <thead>\n",
       "    <tr style=\"text-align: right;\">\n",
       "      <th></th>\n",
       "      <th>user_id</th>\n",
       "      <th>name</th>\n",
       "      <th>age</th>\n",
       "      <th>city</th>\n",
       "      <th>subscription_type</th>\n",
       "      <th>distance</th>\n",
       "      <th>duration</th>\n",
       "      <th>date</th>\n",
       "      <th>month</th>\n",
       "      <th>minute_price</th>\n",
       "      <th>start_ride_price</th>\n",
       "      <th>subscription_fee</th>\n",
       "    </tr>\n",
       "  </thead>\n",
       "  <tbody>\n",
       "    <tr>\n",
       "      <th>0</th>\n",
       "      <td>1</td>\n",
       "      <td>Кира</td>\n",
       "      <td>22</td>\n",
       "      <td>Тюмень</td>\n",
       "      <td>ultra</td>\n",
       "      <td>4409.92</td>\n",
       "      <td>25.599769</td>\n",
       "      <td>2021-01-01</td>\n",
       "      <td>1</td>\n",
       "      <td>6</td>\n",
       "      <td>0</td>\n",
       "      <td>199</td>\n",
       "    </tr>\n",
       "    <tr>\n",
       "      <th>1</th>\n",
       "      <td>1</td>\n",
       "      <td>Кира</td>\n",
       "      <td>22</td>\n",
       "      <td>Тюмень</td>\n",
       "      <td>ultra</td>\n",
       "      <td>2617.59</td>\n",
       "      <td>15.816871</td>\n",
       "      <td>2021-01-18</td>\n",
       "      <td>1</td>\n",
       "      <td>6</td>\n",
       "      <td>0</td>\n",
       "      <td>199</td>\n",
       "    </tr>\n",
       "    <tr>\n",
       "      <th>2</th>\n",
       "      <td>1</td>\n",
       "      <td>Кира</td>\n",
       "      <td>22</td>\n",
       "      <td>Тюмень</td>\n",
       "      <td>ultra</td>\n",
       "      <td>754.16</td>\n",
       "      <td>6.232113</td>\n",
       "      <td>2021-04-20</td>\n",
       "      <td>4</td>\n",
       "      <td>6</td>\n",
       "      <td>0</td>\n",
       "      <td>199</td>\n",
       "    </tr>\n",
       "    <tr>\n",
       "      <th>3</th>\n",
       "      <td>1</td>\n",
       "      <td>Кира</td>\n",
       "      <td>22</td>\n",
       "      <td>Тюмень</td>\n",
       "      <td>ultra</td>\n",
       "      <td>2694.78</td>\n",
       "      <td>18.511000</td>\n",
       "      <td>2021-08-11</td>\n",
       "      <td>8</td>\n",
       "      <td>6</td>\n",
       "      <td>0</td>\n",
       "      <td>199</td>\n",
       "    </tr>\n",
       "    <tr>\n",
       "      <th>4</th>\n",
       "      <td>1</td>\n",
       "      <td>Кира</td>\n",
       "      <td>22</td>\n",
       "      <td>Тюмень</td>\n",
       "      <td>ultra</td>\n",
       "      <td>4028.69</td>\n",
       "      <td>26.265803</td>\n",
       "      <td>2021-08-28</td>\n",
       "      <td>8</td>\n",
       "      <td>6</td>\n",
       "      <td>0</td>\n",
       "      <td>199</td>\n",
       "    </tr>\n",
       "  </tbody>\n",
       "</table>\n",
       "</div>"
      ],
      "text/plain": [
       "   user_id  name  age    city subscription_type  distance   duration  \\\n",
       "0        1  Кира   22  Тюмень             ultra   4409.92  25.599769   \n",
       "1        1  Кира   22  Тюмень             ultra   2617.59  15.816871   \n",
       "2        1  Кира   22  Тюмень             ultra    754.16   6.232113   \n",
       "3        1  Кира   22  Тюмень             ultra   2694.78  18.511000   \n",
       "4        1  Кира   22  Тюмень             ultra   4028.69  26.265803   \n",
       "\n",
       "        date  month  minute_price  start_ride_price  subscription_fee  \n",
       "0 2021-01-01      1             6                 0               199  \n",
       "1 2021-01-18      1             6                 0               199  \n",
       "2 2021-04-20      4             6                 0               199  \n",
       "3 2021-08-11      8             6                 0               199  \n",
       "4 2021-08-28      8             6                 0               199  "
      ]
     },
     "execution_count": 81,
     "metadata": {},
     "output_type": "execute_result"
    }
   ],
   "source": [
    "# сначала объединяем данные о пользователях и поездках по столбцу user_id\n",
    "df = pd.merge(users, rides, on='user_id', how='outer')\n",
    "# добавляем данные о тарифах, объединяем по столбцу subscription_type\n",
    "df = pd.merge(df, subscription, on='subscription_type', how='outer')\n",
    "df.head()"
   ]
  },
  {
   "cell_type": "code",
   "execution_count": 82,
   "id": "ca2e23d1",
   "metadata": {},
   "outputs": [
    {
     "data": {
      "text/plain": [
       "18068"
      ]
     },
     "execution_count": 82,
     "metadata": {},
     "output_type": "execute_result"
    }
   ],
   "source": [
    "df.shape[0]"
   ]
  },
  {
   "cell_type": "code",
   "execution_count": 83,
   "id": "58e011fd",
   "metadata": {},
   "outputs": [
    {
     "data": {
      "text/plain": [
       "user_id              0\n",
       "name                 0\n",
       "age                  0\n",
       "city                 0\n",
       "subscription_type    0\n",
       "distance             0\n",
       "duration             0\n",
       "date                 0\n",
       "month                0\n",
       "minute_price         0\n",
       "start_ride_price     0\n",
       "subscription_fee     0\n",
       "dtype: int64"
      ]
     },
     "execution_count": 83,
     "metadata": {},
     "output_type": "execute_result"
    }
   ],
   "source": [
    "# проверим на пропуски на всякий случай\n",
    "df.isna().sum()"
   ]
  },
  {
   "cell_type": "markdown",
   "id": "9a99a028",
   "metadata": {},
   "source": [
    "Создадим два датафрейма с данными о пользователях без подписки и с подпиской."
   ]
  },
  {
   "cell_type": "code",
   "execution_count": 84,
   "id": "b19cf6e1",
   "metadata": {},
   "outputs": [],
   "source": [
    "# фильтруем по типу подписки\n",
    "users_free = df[df['subscription_type'] == 'free']\n",
    "users_ultra = df[df['subscription_type'] == 'ultra']"
   ]
  },
  {
   "cell_type": "code",
   "execution_count": 85,
   "id": "802f71a1",
   "metadata": {},
   "outputs": [
    {
     "data": {
      "text/html": [
       "<div>\n",
       "<style scoped>\n",
       "    .dataframe tbody tr th:only-of-type {\n",
       "        vertical-align: middle;\n",
       "    }\n",
       "\n",
       "    .dataframe tbody tr th {\n",
       "        vertical-align: top;\n",
       "    }\n",
       "\n",
       "    .dataframe thead th {\n",
       "        text-align: right;\n",
       "    }\n",
       "</style>\n",
       "<table border=\"1\" class=\"dataframe\">\n",
       "  <thead>\n",
       "    <tr style=\"text-align: right;\">\n",
       "      <th></th>\n",
       "      <th>user_id</th>\n",
       "      <th>name</th>\n",
       "      <th>age</th>\n",
       "      <th>city</th>\n",
       "      <th>subscription_type</th>\n",
       "      <th>distance</th>\n",
       "      <th>duration</th>\n",
       "      <th>date</th>\n",
       "      <th>month</th>\n",
       "      <th>minute_price</th>\n",
       "      <th>start_ride_price</th>\n",
       "      <th>subscription_fee</th>\n",
       "    </tr>\n",
       "  </thead>\n",
       "  <tbody>\n",
       "    <tr>\n",
       "      <th>12798</th>\n",
       "      <td>1160</td>\n",
       "      <td>Стефания</td>\n",
       "      <td>27</td>\n",
       "      <td>Екатеринбург</td>\n",
       "      <td>free</td>\n",
       "      <td>3054.76</td>\n",
       "      <td>23.098908</td>\n",
       "      <td>2021-09-10</td>\n",
       "      <td>9</td>\n",
       "      <td>8</td>\n",
       "      <td>50</td>\n",
       "      <td>0</td>\n",
       "    </tr>\n",
       "    <tr>\n",
       "      <th>8421</th>\n",
       "      <td>842</td>\n",
       "      <td>Кира</td>\n",
       "      <td>25</td>\n",
       "      <td>Пятигорск</td>\n",
       "      <td>free</td>\n",
       "      <td>905.13</td>\n",
       "      <td>6.194587</td>\n",
       "      <td>2021-08-24</td>\n",
       "      <td>8</td>\n",
       "      <td>8</td>\n",
       "      <td>50</td>\n",
       "      <td>0</td>\n",
       "    </tr>\n",
       "    <tr>\n",
       "      <th>9509</th>\n",
       "      <td>923</td>\n",
       "      <td>Александра</td>\n",
       "      <td>22</td>\n",
       "      <td>Екатеринбург</td>\n",
       "      <td>free</td>\n",
       "      <td>3456.72</td>\n",
       "      <td>17.522416</td>\n",
       "      <td>2021-07-03</td>\n",
       "      <td>7</td>\n",
       "      <td>8</td>\n",
       "      <td>50</td>\n",
       "      <td>0</td>\n",
       "    </tr>\n",
       "    <tr>\n",
       "      <th>15610</th>\n",
       "      <td>1363</td>\n",
       "      <td>Майя</td>\n",
       "      <td>29</td>\n",
       "      <td>Сочи</td>\n",
       "      <td>free</td>\n",
       "      <td>2685.88</td>\n",
       "      <td>20.743525</td>\n",
       "      <td>2021-03-19</td>\n",
       "      <td>3</td>\n",
       "      <td>8</td>\n",
       "      <td>50</td>\n",
       "      <td>0</td>\n",
       "    </tr>\n",
       "    <tr>\n",
       "      <th>9366</th>\n",
       "      <td>913</td>\n",
       "      <td>Зарина</td>\n",
       "      <td>31</td>\n",
       "      <td>Тюмень</td>\n",
       "      <td>free</td>\n",
       "      <td>2383.00</td>\n",
       "      <td>14.410592</td>\n",
       "      <td>2021-05-22</td>\n",
       "      <td>5</td>\n",
       "      <td>8</td>\n",
       "      <td>50</td>\n",
       "      <td>0</td>\n",
       "    </tr>\n",
       "  </tbody>\n",
       "</table>\n",
       "</div>"
      ],
      "text/plain": [
       "       user_id        name  age          city subscription_type  distance  \\\n",
       "12798     1160    Стефания   27  Екатеринбург              free   3054.76   \n",
       "8421       842        Кира   25     Пятигорск              free    905.13   \n",
       "9509       923  Александра   22  Екатеринбург              free   3456.72   \n",
       "15610     1363        Майя   29          Сочи              free   2685.88   \n",
       "9366       913      Зарина   31        Тюмень              free   2383.00   \n",
       "\n",
       "        duration       date  month  minute_price  start_ride_price  \\\n",
       "12798  23.098908 2021-09-10      9             8                50   \n",
       "8421    6.194587 2021-08-24      8             8                50   \n",
       "9509   17.522416 2021-07-03      7             8                50   \n",
       "15610  20.743525 2021-03-19      3             8                50   \n",
       "9366   14.410592 2021-05-22      5             8                50   \n",
       "\n",
       "       subscription_fee  \n",
       "12798                 0  \n",
       "8421                  0  \n",
       "9509                  0  \n",
       "15610                 0  \n",
       "9366                  0  "
      ]
     },
     "execution_count": 85,
     "metadata": {},
     "output_type": "execute_result"
    }
   ],
   "source": [
    "# посмотрим датафрейм с пользователями без подписки\n",
    "users_free.sample(5)"
   ]
  },
  {
   "cell_type": "code",
   "execution_count": 86,
   "id": "bc8ffee9",
   "metadata": {},
   "outputs": [
    {
     "data": {
      "text/html": [
       "<div>\n",
       "<style scoped>\n",
       "    .dataframe tbody tr th:only-of-type {\n",
       "        vertical-align: middle;\n",
       "    }\n",
       "\n",
       "    .dataframe tbody tr th {\n",
       "        vertical-align: top;\n",
       "    }\n",
       "\n",
       "    .dataframe thead th {\n",
       "        text-align: right;\n",
       "    }\n",
       "</style>\n",
       "<table border=\"1\" class=\"dataframe\">\n",
       "  <thead>\n",
       "    <tr style=\"text-align: right;\">\n",
       "      <th></th>\n",
       "      <th>user_id</th>\n",
       "      <th>name</th>\n",
       "      <th>age</th>\n",
       "      <th>city</th>\n",
       "      <th>subscription_type</th>\n",
       "      <th>distance</th>\n",
       "      <th>duration</th>\n",
       "      <th>date</th>\n",
       "      <th>month</th>\n",
       "      <th>minute_price</th>\n",
       "      <th>start_ride_price</th>\n",
       "      <th>subscription_fee</th>\n",
       "    </tr>\n",
       "  </thead>\n",
       "  <tbody>\n",
       "    <tr>\n",
       "      <th>3079</th>\n",
       "      <td>330</td>\n",
       "      <td>Мария</td>\n",
       "      <td>19</td>\n",
       "      <td>Пятигорск</td>\n",
       "      <td>ultra</td>\n",
       "      <td>3467.44</td>\n",
       "      <td>21.001781</td>\n",
       "      <td>2021-08-25</td>\n",
       "      <td>8</td>\n",
       "      <td>6</td>\n",
       "      <td>0</td>\n",
       "      <td>199</td>\n",
       "    </tr>\n",
       "    <tr>\n",
       "      <th>6355</th>\n",
       "      <td>682</td>\n",
       "      <td>Евгения</td>\n",
       "      <td>23</td>\n",
       "      <td>Сочи</td>\n",
       "      <td>ultra</td>\n",
       "      <td>2624.93</td>\n",
       "      <td>14.299828</td>\n",
       "      <td>2021-06-23</td>\n",
       "      <td>6</td>\n",
       "      <td>6</td>\n",
       "      <td>0</td>\n",
       "      <td>199</td>\n",
       "    </tr>\n",
       "    <tr>\n",
       "      <th>4621</th>\n",
       "      <td>498</td>\n",
       "      <td>Руслан</td>\n",
       "      <td>23</td>\n",
       "      <td>Ростов-на-Дону</td>\n",
       "      <td>ultra</td>\n",
       "      <td>3167.88</td>\n",
       "      <td>18.620977</td>\n",
       "      <td>2021-11-25</td>\n",
       "      <td>11</td>\n",
       "      <td>6</td>\n",
       "      <td>0</td>\n",
       "      <td>199</td>\n",
       "    </tr>\n",
       "    <tr>\n",
       "      <th>2380</th>\n",
       "      <td>253</td>\n",
       "      <td>Назар</td>\n",
       "      <td>23</td>\n",
       "      <td>Сочи</td>\n",
       "      <td>ultra</td>\n",
       "      <td>3319.29</td>\n",
       "      <td>18.966307</td>\n",
       "      <td>2021-04-09</td>\n",
       "      <td>4</td>\n",
       "      <td>6</td>\n",
       "      <td>0</td>\n",
       "      <td>199</td>\n",
       "    </tr>\n",
       "    <tr>\n",
       "      <th>6145</th>\n",
       "      <td>659</td>\n",
       "      <td>Злата</td>\n",
       "      <td>27</td>\n",
       "      <td>Ростов-на-Дону</td>\n",
       "      <td>ultra</td>\n",
       "      <td>4062.79</td>\n",
       "      <td>14.405772</td>\n",
       "      <td>2021-02-07</td>\n",
       "      <td>2</td>\n",
       "      <td>6</td>\n",
       "      <td>0</td>\n",
       "      <td>199</td>\n",
       "    </tr>\n",
       "  </tbody>\n",
       "</table>\n",
       "</div>"
      ],
      "text/plain": [
       "      user_id     name  age            city subscription_type  distance  \\\n",
       "3079      330    Мария   19       Пятигорск             ultra   3467.44   \n",
       "6355      682  Евгения   23            Сочи             ultra   2624.93   \n",
       "4621      498   Руслан   23  Ростов-на-Дону             ultra   3167.88   \n",
       "2380      253    Назар   23            Сочи             ultra   3319.29   \n",
       "6145      659    Злата   27  Ростов-на-Дону             ultra   4062.79   \n",
       "\n",
       "       duration       date  month  minute_price  start_ride_price  \\\n",
       "3079  21.001781 2021-08-25      8             6                 0   \n",
       "6355  14.299828 2021-06-23      6             6                 0   \n",
       "4621  18.620977 2021-11-25     11             6                 0   \n",
       "2380  18.966307 2021-04-09      4             6                 0   \n",
       "6145  14.405772 2021-02-07      2             6                 0   \n",
       "\n",
       "      subscription_fee  \n",
       "3079               199  \n",
       "6355               199  \n",
       "4621               199  \n",
       "2380               199  \n",
       "6145               199  "
      ]
     },
     "execution_count": 86,
     "metadata": {},
     "output_type": "execute_result"
    }
   ],
   "source": [
    "# посмотрим датафрейм с пользователями с подпиской\n",
    "users_ultra.sample(5)"
   ]
  },
  {
   "cell_type": "code",
   "execution_count": 87,
   "id": "ff4961bd",
   "metadata": {},
   "outputs": [
    {
     "name": "stdout",
     "output_type": "stream",
     "text": [
      "Количество строк в датафрейме с пользователями без подписки: 11568\n",
      "Количество строк в датафрейме с пользователями с подпиской: 6500\n"
     ]
    }
   ],
   "source": [
    "print('Количество строк в датафрейме с пользователями без подписки:', users_free.shape[0])\n",
    "print('Количество строк в датафрейме с пользователями с подпиской:', users_ultra.shape[0])"
   ]
  },
  {
   "cell_type": "markdown",
   "id": "aed006ca",
   "metadata": {},
   "source": [
    "### Визуализация информации о расстоянии и времени поездок"
   ]
  },
  {
   "cell_type": "code",
   "execution_count": 88,
   "id": "2a76af98",
   "metadata": {},
   "outputs": [
    {
     "data": {
      "text/html": [
       "<div>\n",
       "<style scoped>\n",
       "    .dataframe tbody tr th:only-of-type {\n",
       "        vertical-align: middle;\n",
       "    }\n",
       "\n",
       "    .dataframe tbody tr th {\n",
       "        vertical-align: top;\n",
       "    }\n",
       "\n",
       "    .dataframe thead th {\n",
       "        text-align: right;\n",
       "    }\n",
       "</style>\n",
       "<table border=\"1\" class=\"dataframe\">\n",
       "  <thead>\n",
       "    <tr style=\"text-align: right;\">\n",
       "      <th></th>\n",
       "      <th>distance</th>\n",
       "      <th>duration</th>\n",
       "    </tr>\n",
       "  </thead>\n",
       "  <tbody>\n",
       "    <tr>\n",
       "      <th>count</th>\n",
       "      <td>11568.000000</td>\n",
       "      <td>11568.000000</td>\n",
       "    </tr>\n",
       "    <tr>\n",
       "      <th>mean</th>\n",
       "      <td>3045.495284</td>\n",
       "      <td>17.390909</td>\n",
       "    </tr>\n",
       "    <tr>\n",
       "      <th>std</th>\n",
       "      <td>1246.173810</td>\n",
       "      <td>6.326803</td>\n",
       "    </tr>\n",
       "    <tr>\n",
       "      <th>min</th>\n",
       "      <td>0.860000</td>\n",
       "      <td>0.500000</td>\n",
       "    </tr>\n",
       "    <tr>\n",
       "      <th>25%</th>\n",
       "      <td>2366.560000</td>\n",
       "      <td>12.958437</td>\n",
       "    </tr>\n",
       "    <tr>\n",
       "      <th>50%</th>\n",
       "      <td>3114.650000</td>\n",
       "      <td>17.326890</td>\n",
       "    </tr>\n",
       "    <tr>\n",
       "      <th>75%</th>\n",
       "      <td>3905.695000</td>\n",
       "      <td>21.594071</td>\n",
       "    </tr>\n",
       "    <tr>\n",
       "      <th>max</th>\n",
       "      <td>7211.010000</td>\n",
       "      <td>34.948498</td>\n",
       "    </tr>\n",
       "  </tbody>\n",
       "</table>\n",
       "</div>"
      ],
      "text/plain": [
       "           distance      duration\n",
       "count  11568.000000  11568.000000\n",
       "mean    3045.495284     17.390909\n",
       "std     1246.173810      6.326803\n",
       "min        0.860000      0.500000\n",
       "25%     2366.560000     12.958437\n",
       "50%     3114.650000     17.326890\n",
       "75%     3905.695000     21.594071\n",
       "max     7211.010000     34.948498"
      ]
     },
     "execution_count": 88,
     "metadata": {},
     "output_type": "execute_result"
    }
   ],
   "source": [
    "# время и дистанция для пользователей без подписки\n",
    "users_free[['distance', 'duration']].describe()"
   ]
  },
  {
   "cell_type": "code",
   "execution_count": 89,
   "id": "7d873a19",
   "metadata": {},
   "outputs": [
    {
     "data": {
      "text/html": [
       "<div>\n",
       "<style scoped>\n",
       "    .dataframe tbody tr th:only-of-type {\n",
       "        vertical-align: middle;\n",
       "    }\n",
       "\n",
       "    .dataframe tbody tr th {\n",
       "        vertical-align: top;\n",
       "    }\n",
       "\n",
       "    .dataframe thead th {\n",
       "        text-align: right;\n",
       "    }\n",
       "</style>\n",
       "<table border=\"1\" class=\"dataframe\">\n",
       "  <thead>\n",
       "    <tr style=\"text-align: right;\">\n",
       "      <th></th>\n",
       "      <th>distance</th>\n",
       "      <th>duration</th>\n",
       "    </tr>\n",
       "  </thead>\n",
       "  <tbody>\n",
       "    <tr>\n",
       "      <th>count</th>\n",
       "      <td>6500.000000</td>\n",
       "      <td>6500.000000</td>\n",
       "    </tr>\n",
       "    <tr>\n",
       "      <th>mean</th>\n",
       "      <td>3115.445431</td>\n",
       "      <td>18.541985</td>\n",
       "    </tr>\n",
       "    <tr>\n",
       "      <th>std</th>\n",
       "      <td>836.895369</td>\n",
       "      <td>5.572048</td>\n",
       "    </tr>\n",
       "    <tr>\n",
       "      <th>min</th>\n",
       "      <td>244.210000</td>\n",
       "      <td>3.760353</td>\n",
       "    </tr>\n",
       "    <tr>\n",
       "      <th>25%</th>\n",
       "      <td>2785.447500</td>\n",
       "      <td>14.524654</td>\n",
       "    </tr>\n",
       "    <tr>\n",
       "      <th>50%</th>\n",
       "      <td>3148.640000</td>\n",
       "      <td>18.178153</td>\n",
       "    </tr>\n",
       "    <tr>\n",
       "      <th>75%</th>\n",
       "      <td>3560.577500</td>\n",
       "      <td>21.884129</td>\n",
       "    </tr>\n",
       "    <tr>\n",
       "      <th>max</th>\n",
       "      <td>5699.770000</td>\n",
       "      <td>40.823963</td>\n",
       "    </tr>\n",
       "  </tbody>\n",
       "</table>\n",
       "</div>"
      ],
      "text/plain": [
       "          distance     duration\n",
       "count  6500.000000  6500.000000\n",
       "mean   3115.445431    18.541985\n",
       "std     836.895369     5.572048\n",
       "min     244.210000     3.760353\n",
       "25%    2785.447500    14.524654\n",
       "50%    3148.640000    18.178153\n",
       "75%    3560.577500    21.884129\n",
       "max    5699.770000    40.823963"
      ]
     },
     "execution_count": 89,
     "metadata": {},
     "output_type": "execute_result"
    }
   ],
   "source": [
    "# время и дистанция для пользователей с подпиской\n",
    "users_ultra[['distance', 'duration']].describe()"
   ]
  },
  {
   "cell_type": "code",
   "execution_count": 105,
   "id": "a0ed2c4a",
   "metadata": {},
   "outputs": [
    {
     "data": {
      "image/png": "[encoded data removed]",
      "text/plain": [
       "<Figure size 864x288 with 1 Axes>"
      ]
     },
     "metadata": {
      "needs_background": "light"
     },
     "output_type": "display_data"
    }
   ],
   "source": [
    "# диаграммы\n",
    "users_free['distance']\\\n",
    "    .plot(kind='hist', bins=50, grid=True, alpha=0.7,\\\n",
    "          rwidth=0.9, figsize=(12,4), title='Среднее расстояние, м', color='lightblue', label='free')\n",
    "\n",
    "users_ultra['distance']\\\n",
    "    .plot(kind='hist', bins=50, grid=True, alpha=0.7, rwidth=0.9, figsize=(12,4), color='pink', label='ultra')\n",
    "plt.legend()\n",
    "plt.xlabel('Расстояние, м')\n",
    "plt.ylabel('Количество пользователей');"
   ]
  },
  {
   "cell_type": "markdown",
   "id": "8cbb5b75",
   "metadata": {},
   "source": [
    "**Вывод:** В целом можно сделать вывод, что средние дистанции у обеих категорий примерно одинаковые, но количество пользователей без подписки больше."
   ]
  },
  {
   "cell_type": "code",
   "execution_count": 106,
   "id": "c902e1ac",
   "metadata": {},
   "outputs": [
    {
     "data": {
      "image/png": "[encoded data removed]",
      "text/plain": [
       "<Figure size 864x288 with 1 Axes>"
      ]
     },
     "metadata": {
      "needs_background": "light"
     },
     "output_type": "display_data"
    }
   ],
   "source": [
    "# users_free.groupby(['user_id'])['duration'].mean()\\\n",
    "#     .plot(kind='hist', bins=50, grid=True, alpha=0.7, rwidth=0.9, figsize=(12,4), title='Среднее время поездок, мин', color=colors)\n",
    "# users_ultra.groupby(['user_id'])['duration'].mean()\\\n",
    "#     .plot(kind='hist', bins=50, grid=True, alpha=0.7, rwidth=0.9, figsize=(12,4), color='pink');\n",
    "\n",
    "users_free['duration'].plot(kind='hist', bins=50, grid=True, alpha=0.7,\\\n",
    "                            rwidth=0.9, figsize=(12,4), title='Время поездок, мин', color=colors, label='free')\n",
    "users_ultra['duration'].plot(kind='hist', bins=50, grid=True, alpha=0.7,\\\n",
    "                             rwidth=0.9, figsize=(12,4), color='pink', label='ultra')\n",
    "plt.legend()\n",
    "plt.xlabel('Время, мин.')\n",
    "plt.ylabel('Количество пользователей');"
   ]
  },
  {
   "cell_type": "markdown",
   "id": "a46c2209",
   "metadata": {},
   "source": [
    "**Вывод:** У пользователей без подписки средняя длительность поездок немного короче, чем у пользователей с платной подпиской. "
   ]
  },
  {
   "cell_type": "markdown",
   "id": "fa6edbc7",
   "metadata": {},
   "source": [
    "## Подсчёт выручки"
   ]
  },
  {
   "cell_type": "markdown",
   "id": "7f184c7a",
   "metadata": {},
   "source": [
    "Сформируем сводную таблицу с данными о количестве поездок, суммарному расстоянию и времени по месяцам для каждого пользователя."
   ]
  },
  {
   "cell_type": "code",
   "execution_count": 111,
   "id": "61bbc3cf",
   "metadata": {},
   "outputs": [
    {
     "data": {
      "text/html": [
       "<div>\n",
       "<style scoped>\n",
       "    .dataframe tbody tr th:only-of-type {\n",
       "        vertical-align: middle;\n",
       "    }\n",
       "\n",
       "    .dataframe tbody tr th {\n",
       "        vertical-align: top;\n",
       "    }\n",
       "\n",
       "    .dataframe thead th {\n",
       "        text-align: right;\n",
       "    }\n",
       "</style>\n",
       "<table border=\"1\" class=\"dataframe\">\n",
       "  <thead>\n",
       "    <tr style=\"text-align: right;\">\n",
       "      <th></th>\n",
       "      <th>user_id</th>\n",
       "      <th>month</th>\n",
       "      <th>subscription_type</th>\n",
       "      <th>count</th>\n",
       "      <th>distance_total</th>\n",
       "      <th>duration_total</th>\n",
       "    </tr>\n",
       "  </thead>\n",
       "  <tbody>\n",
       "    <tr>\n",
       "      <th>0</th>\n",
       "      <td>1</td>\n",
       "      <td>1</td>\n",
       "      <td>ultra</td>\n",
       "      <td>2</td>\n",
       "      <td>7027.51</td>\n",
       "      <td>42.0</td>\n",
       "    </tr>\n",
       "    <tr>\n",
       "      <th>1</th>\n",
       "      <td>1</td>\n",
       "      <td>4</td>\n",
       "      <td>ultra</td>\n",
       "      <td>1</td>\n",
       "      <td>754.16</td>\n",
       "      <td>7.0</td>\n",
       "    </tr>\n",
       "    <tr>\n",
       "      <th>2</th>\n",
       "      <td>1</td>\n",
       "      <td>8</td>\n",
       "      <td>ultra</td>\n",
       "      <td>2</td>\n",
       "      <td>6723.47</td>\n",
       "      <td>45.0</td>\n",
       "    </tr>\n",
       "    <tr>\n",
       "      <th>3</th>\n",
       "      <td>1</td>\n",
       "      <td>10</td>\n",
       "      <td>ultra</td>\n",
       "      <td>2</td>\n",
       "      <td>5809.91</td>\n",
       "      <td>32.0</td>\n",
       "    </tr>\n",
       "    <tr>\n",
       "      <th>4</th>\n",
       "      <td>1</td>\n",
       "      <td>11</td>\n",
       "      <td>ultra</td>\n",
       "      <td>3</td>\n",
       "      <td>7003.50</td>\n",
       "      <td>54.0</td>\n",
       "    </tr>\n",
       "    <tr>\n",
       "      <th>5</th>\n",
       "      <td>1</td>\n",
       "      <td>12</td>\n",
       "      <td>ultra</td>\n",
       "      <td>2</td>\n",
       "      <td>6751.63</td>\n",
       "      <td>28.0</td>\n",
       "    </tr>\n",
       "    <tr>\n",
       "      <th>6</th>\n",
       "      <td>2</td>\n",
       "      <td>3</td>\n",
       "      <td>ultra</td>\n",
       "      <td>3</td>\n",
       "      <td>10187.73</td>\n",
       "      <td>61.0</td>\n",
       "    </tr>\n",
       "    <tr>\n",
       "      <th>7</th>\n",
       "      <td>2</td>\n",
       "      <td>4</td>\n",
       "      <td>ultra</td>\n",
       "      <td>2</td>\n",
       "      <td>6164.39</td>\n",
       "      <td>40.0</td>\n",
       "    </tr>\n",
       "    <tr>\n",
       "      <th>8</th>\n",
       "      <td>2</td>\n",
       "      <td>6</td>\n",
       "      <td>ultra</td>\n",
       "      <td>1</td>\n",
       "      <td>3255.34</td>\n",
       "      <td>14.0</td>\n",
       "    </tr>\n",
       "    <tr>\n",
       "      <th>9</th>\n",
       "      <td>2</td>\n",
       "      <td>7</td>\n",
       "      <td>ultra</td>\n",
       "      <td>2</td>\n",
       "      <td>6780.73</td>\n",
       "      <td>47.0</td>\n",
       "    </tr>\n",
       "  </tbody>\n",
       "</table>\n",
       "</div>"
      ],
      "text/plain": [
       "   user_id  month subscription_type  count  distance_total  duration_total\n",
       "0        1      1             ultra      2         7027.51            42.0\n",
       "1        1      4             ultra      1          754.16             7.0\n",
       "2        1      8             ultra      2         6723.47            45.0\n",
       "3        1     10             ultra      2         5809.91            32.0\n",
       "4        1     11             ultra      3         7003.50            54.0\n",
       "5        1     12             ultra      2         6751.63            28.0\n",
       "6        2      3             ultra      3        10187.73            61.0\n",
       "7        2      4             ultra      2         6164.39            40.0\n",
       "8        2      6             ultra      1         3255.34            14.0\n",
       "9        2      7             ultra      2         6780.73            47.0"
      ]
     },
     "execution_count": 111,
     "metadata": {},
     "output_type": "execute_result"
    }
   ],
   "source": [
    "# формируем сводную таблицу\n",
    "revenue_df = df.pivot_table(index=['user_id', 'month', 'subscription_type'],\\\n",
    "                            values=['distance', 'duration'],\\\n",
    "                            aggfunc={'distance':['sum', 'count'], 'duration': 'sum'}).reset_index()\n",
    "# revenue_df = df.pivot_table(index=['user_id', 'month'], values=['distance', 'duration'], aggfunc={'distance':['sum', 'count'], 'duration': 'sum'})\n",
    "\n",
    "# названия столбцов: количество, суммарная дистанция, суммарное время \n",
    "revenue_df.columns = ['user_id', 'month', 'subscription_type', 'count', 'distance_total', 'duration_total']\n",
    "revenue_df['duration_total'] = np.ceil(revenue_df['duration_total']) \n",
    "# просмотр\n",
    "revenue_df.head(10)"
   ]
  },
  {
   "cell_type": "code",
   "execution_count": 112,
   "id": "4ff2f8d8",
   "metadata": {},
   "outputs": [
    {
     "name": "stdout",
     "output_type": "stream",
     "text": [
      "<class 'pandas.core.frame.DataFrame'>\n",
      "RangeIndex: 11331 entries, 0 to 11330\n",
      "Data columns (total 6 columns):\n",
      " #   Column             Non-Null Count  Dtype  \n",
      "---  ------             --------------  -----  \n",
      " 0   user_id            11331 non-null  int64  \n",
      " 1   month              11331 non-null  int64  \n",
      " 2   subscription_type  11331 non-null  object \n",
      " 3   count              11331 non-null  int64  \n",
      " 4   distance_total     11331 non-null  float64\n",
      " 5   duration_total     11331 non-null  float64\n",
      "dtypes: float64(2), int64(3), object(1)\n",
      "memory usage: 531.3+ KB\n"
     ]
    }
   ],
   "source": [
    "revenue_df.info()"
   ]
  },
  {
   "cell_type": "markdown",
   "id": "db9471f3",
   "metadata": {},
   "source": [
    "Создадим функцию для расчета итого платежа за месяц с учетом типа подписки."
   ]
  },
  {
   "cell_type": "code",
   "execution_count": 113,
   "id": "aead7298",
   "metadata": {},
   "outputs": [],
   "source": [
    "# на входе строка датафрейма, на выходе стоимость\n",
    "def costs(row):\n",
    "    # получаем строку с данными по тарифу из subscription, которая соответствует обрабатываемой строке\n",
    "    tariff = subscription[subscription['subscription_type'] == row['subscription_type']]\n",
    "     # расчет платежа за месяц: \n",
    "     # стоимость старта * кол-во поездок\n",
    "     # + стоимость 1 мин*общую длительность\n",
    "     # + стоимость подписки\n",
    "    total_payment = float(tariff['start_ride_price']*row['count'] + tariff['minute_price']*row['duration_total'] + tariff['subscription_fee'])\n",
    "    return total_payment"
   ]
  },
  {
   "cell_type": "code",
   "execution_count": 114,
   "id": "d1ec2e06",
   "metadata": {},
   "outputs": [
    {
     "data": {
      "text/plain": [
       "0    451.0\n",
       "1    241.0\n",
       "2    469.0\n",
       "3    391.0\n",
       "4    523.0\n",
       "dtype: float64"
      ]
     },
     "execution_count": 114,
     "metadata": {},
     "output_type": "execute_result"
    }
   ],
   "source": [
    "# проверка\n",
    "test = revenue_df.head(5)\n",
    "# test['total'] = \n",
    "test.apply(costs, axis=1)"
   ]
  },
  {
   "cell_type": "code",
   "execution_count": 116,
   "id": "fd81c887",
   "metadata": {},
   "outputs": [],
   "source": [
    "# создаем столбец со стоимостью платежа за месяц\n",
    "revenue_df['payment'] = revenue_df.apply(costs, axis=1)"
   ]
  },
  {
   "cell_type": "code",
   "execution_count": 117,
   "id": "26f7c848",
   "metadata": {},
   "outputs": [
    {
     "data": {
      "text/html": [
       "<div>\n",
       "<style scoped>\n",
       "    .dataframe tbody tr th:only-of-type {\n",
       "        vertical-align: middle;\n",
       "    }\n",
       "\n",
       "    .dataframe tbody tr th {\n",
       "        vertical-align: top;\n",
       "    }\n",
       "\n",
       "    .dataframe thead th {\n",
       "        text-align: right;\n",
       "    }\n",
       "</style>\n",
       "<table border=\"1\" class=\"dataframe\">\n",
       "  <thead>\n",
       "    <tr style=\"text-align: right;\">\n",
       "      <th></th>\n",
       "      <th>user_id</th>\n",
       "      <th>month</th>\n",
       "      <th>subscription_type</th>\n",
       "      <th>count</th>\n",
       "      <th>distance_total</th>\n",
       "      <th>duration_total</th>\n",
       "      <th>payment</th>\n",
       "    </tr>\n",
       "  </thead>\n",
       "  <tbody>\n",
       "    <tr>\n",
       "      <th>5159</th>\n",
       "      <td>779</td>\n",
       "      <td>5</td>\n",
       "      <td>free</td>\n",
       "      <td>1</td>\n",
       "      <td>3969.71</td>\n",
       "      <td>26.0</td>\n",
       "      <td>258.0</td>\n",
       "    </tr>\n",
       "    <tr>\n",
       "      <th>1184</th>\n",
       "      <td>182</td>\n",
       "      <td>6</td>\n",
       "      <td>ultra</td>\n",
       "      <td>1</td>\n",
       "      <td>3292.40</td>\n",
       "      <td>27.0</td>\n",
       "      <td>361.0</td>\n",
       "    </tr>\n",
       "    <tr>\n",
       "      <th>9187</th>\n",
       "      <td>1271</td>\n",
       "      <td>9</td>\n",
       "      <td>free</td>\n",
       "      <td>1</td>\n",
       "      <td>3644.11</td>\n",
       "      <td>31.0</td>\n",
       "      <td>298.0</td>\n",
       "    </tr>\n",
       "    <tr>\n",
       "      <th>1945</th>\n",
       "      <td>296</td>\n",
       "      <td>12</td>\n",
       "      <td>ultra</td>\n",
       "      <td>1</td>\n",
       "      <td>3674.25</td>\n",
       "      <td>23.0</td>\n",
       "      <td>337.0</td>\n",
       "    </tr>\n",
       "    <tr>\n",
       "      <th>6940</th>\n",
       "      <td>999</td>\n",
       "      <td>12</td>\n",
       "      <td>free</td>\n",
       "      <td>1</td>\n",
       "      <td>3277.48</td>\n",
       "      <td>23.0</td>\n",
       "      <td>234.0</td>\n",
       "    </tr>\n",
       "  </tbody>\n",
       "</table>\n",
       "</div>"
      ],
      "text/plain": [
       "      user_id  month subscription_type  count  distance_total  duration_total  \\\n",
       "5159      779      5              free      1         3969.71            26.0   \n",
       "1184      182      6             ultra      1         3292.40            27.0   \n",
       "9187     1271      9              free      1         3644.11            31.0   \n",
       "1945      296     12             ultra      1         3674.25            23.0   \n",
       "6940      999     12              free      1         3277.48            23.0   \n",
       "\n",
       "      payment  \n",
       "5159    258.0  \n",
       "1184    361.0  \n",
       "9187    298.0  \n",
       "1945    337.0  \n",
       "6940    234.0  "
      ]
     },
     "execution_count": 117,
     "metadata": {},
     "output_type": "execute_result"
    }
   ],
   "source": [
    "revenue_df.sample(5)"
   ]
  },
  {
   "cell_type": "markdown",
   "id": "fefd5d97",
   "metadata": {},
   "source": [
    "## Проверка гипотез"
   ]
  },
  {
   "cell_type": "markdown",
   "id": "aa0c78b2",
   "metadata": {},
   "source": [
    "Продакт-менеджеры сервиса хотят увеличить количество пользователей с подпиской. Для этого они будут проводить различные акции, но сначала нужно выяснить несколько важных моментов.  "
   ]
  },
  {
   "cell_type": "markdown",
   "id": "7367c216",
   "metadata": {},
   "source": [
    "### Гипотеза 1.\n",
    "\n",
    "*Задача: Важно понять, тратят ли пользователи с подпиской больше времени на поездки? Если да, то действительно ли пользователи с подпиской «выгоднее» для компании. Проверьте гипотезу. Используйте исходные данные о продолжительности каждой сессии — отдельно для подписчиков и тех, у кого нет подписки.*\n",
    "\n",
    "Сфорулируем нулевую и альтернативную гипотезы:  \n",
    "**H0:** Пользователи с подпиской тратят столько же времени на поездки, как и пользователи без подписки.  \n",
    "**H1:** Пользователи с подпиской тратят больше времени, чем пользователи без подписки."
   ]
  },
  {
   "cell_type": "markdown",
   "id": "449d5ddb",
   "metadata": {},
   "source": [
    "Зададим уровень статистической значимости в размере 5%. Проведем t-тест."
   ]
  },
  {
   "cell_type": "code",
   "execution_count": 118,
   "id": "568a59f4",
   "metadata": {},
   "outputs": [],
   "source": [
    "alpha = 0.05"
   ]
  },
  {
   "cell_type": "markdown",
   "id": "c304a8fb",
   "metadata": {},
   "source": [
    "Перед проведением t-теста проверим гипотезу о равенстве дисперсий двух выборок."
   ]
  },
  {
   "cell_type": "code",
   "execution_count": 119,
   "id": "d769f41d",
   "metadata": {},
   "outputs": [
    {
     "name": "stdout",
     "output_type": "stream",
     "text": [
      "Отвергаем гипотезу о равенстве дисперсий.\n"
     ]
    }
   ],
   "source": [
    "test_leven, p = st.levene(users_ultra['duration'], users_free['duration'])\n",
    "#print('Statistics = %.3f, p-value=%.3f' % (test_leven, p))\n",
    "\n",
    "if p < alpha:\n",
    "    print('Отвергаем гипотезу о равенстве дисперсий.')\n",
    "else:\n",
    "    print('Не получилось отвергнуть гипотезу о равенстве дисперсий.')"
   ]
  },
  {
   "cell_type": "markdown",
   "id": "ca378e89",
   "metadata": {},
   "source": [
    "Проведем t-тест для выборок:"
   ]
  },
  {
   "cell_type": "code",
   "execution_count": 120,
   "id": "d1d59184",
   "metadata": {},
   "outputs": [
    {
     "name": "stdout",
     "output_type": "stream",
     "text": [
      "Средняя длительность поездок у пользователей с подпиской: 18.54\n",
      "Средняя длительность поездок у пользователей без подписки: 17.39\n",
      "p-значение: 5.6757813771289775e-37\n",
      "Отвергаем нулевую гипотезу о длительности поездок.\n"
     ]
    }
   ],
   "source": [
    "print('Средняя длительность поездок у пользователей с подпиской:', users_ultra['duration'].mean().round(2))\n",
    "print('Средняя длительность поездок у пользователей без подписки:', users_free['duration'].mean().round(2))\n",
    "\n",
    "# делаем t-тест с учетом неравенства дисперсий\n",
    "results = st.ttest_ind(users_ultra['duration'], users_free['duration'], equal_var=False, alternative='greater')\n",
    "\n",
    "# p-значение\n",
    "print('p-значение:', results.pvalue)\n",
    "\n",
    "# сравниваем p-значение с alpha\n",
    "if results.pvalue < alpha: \n",
    "    print('Отвергаем нулевую гипотезу о длительности поездок.')\n",
    "else:\n",
    "    print('Не получилось отвергнуть нулевую гипотезу о длительности поездок.')                       "
   ]
  },
  {
   "cell_type": "markdown",
   "id": "b4594590",
   "metadata": {},
   "source": [
    "**Вывод:** Нулевая гипотеза о равенстве длительности поездок отвергается. Есть основания предполагать, что пользователи с подпиской тратят больше временя на поездки, что подтверждается расчетными средними значениями."
   ]
  },
  {
   "cell_type": "markdown",
   "id": "a8c9b00e",
   "metadata": {},
   "source": [
    "### Гипотеза 2.  \n",
    "*Задача: Расстояние одной поездки в 3130 метров — оптимальное с точки зрения износа самоката. Можно ли сказать, что расстояние, которое проезжают пользователи с подпиской за одну поездку, не превышает 3130 метров? Проверьте гипотезу и сделайте выводы.*\n",
    "\n",
    "Сфорулируем нулевую и альтернативную гипотезы:  \n",
    "**H0:** Расстояние, которое проезжают пользователи с подпиской за одну поездку, не превышает 3130 м.  \n",
    "**H1:** Расстояние, которое проезжают пользователи с подпиской за одну поездку, превышает 3130 м. "
   ]
  },
  {
   "cell_type": "code",
   "execution_count": 121,
   "id": "e028da5f",
   "metadata": {},
   "outputs": [
    {
     "data": {
      "text/plain": [
       "count    6500.000000\n",
       "mean     3115.445431\n",
       "std       836.895369\n",
       "min       244.210000\n",
       "25%      2785.447500\n",
       "50%      3148.640000\n",
       "75%      3560.577500\n",
       "max      5699.770000\n",
       "Name: distance, dtype: float64"
      ]
     },
     "execution_count": 121,
     "metadata": {},
     "output_type": "execute_result"
    }
   ],
   "source": [
    "users_ultra['distance'].describe()"
   ]
  },
  {
   "cell_type": "code",
   "execution_count": 124,
   "id": "39bc49ee",
   "metadata": {},
   "outputs": [
    {
     "name": "stdout",
     "output_type": "stream",
     "text": [
      "p-значение: 0.9195362605842414\n",
      "Не получилось отвергнуть нулевую гипотезу.\n"
     ]
    }
   ],
   "source": [
    "# alpha = 0.01\n",
    "# оптимальное расстояние\n",
    "optimal_dist = 3130\n",
    "# t-тест \n",
    "results = st.ttest_1samp(users_ultra['distance'], optimal_dist, alternative='greater')\n",
    "\n",
    "print('p-значение:', results.pvalue)\n",
    "# сравниваем p-значение с alpha\n",
    "if results.pvalue < alpha:\n",
    "    print('Отвергаем нулевую гипотезу о непревышении расстояния в 3130 м.')\n",
    "else:\n",
    "    print('Не получилось отвергнуть нулевую гипотезу.')"
   ]
  },
  {
   "cell_type": "markdown",
   "id": "4da95340",
   "metadata": {},
   "source": [
    "**Вывод:** Гипотеза о том, что расстояние, которое проезжают пользователи с подпиской за одну поездку, не превышает 3130 м, не была отвергнута. "
   ]
  },
  {
   "cell_type": "markdown",
   "id": "1d79ae73",
   "metadata": {},
   "source": [
    "### Гипотеза 3.  \n",
    "*Задача: Проверьте гипотезу о том, будет ли помесячная выручка от пользователей с подпиской по месяцам выше, чем выручка от пользователей без подписки. Сделайте вывод.*\n",
    "\n",
    "Нулевая и альтернативная гипотезы:  \n",
    "**H0:** Помесячная выручка от пользователей с подпиской равна помес. выручке от пользователей без подписки.  \n",
    "**H1:** Помесячная выручка от пользователей с подпиской > помес. выручки от пользователей без подписки."
   ]
  },
  {
   "cell_type": "markdown",
   "id": "27c63a5e",
   "metadata": {},
   "source": [
    "Сформируем сводную таблицу с оплатами по месяцам по каждому типу подписки."
   ]
  },
  {
   "cell_type": "code",
   "execution_count": 130,
   "id": "2b0482ec",
   "metadata": {},
   "outputs": [],
   "source": [
    "\n",
    "\n",
    "revenue_month_ultra = revenue_df[revenue_df['subscription_type'] == 'ultra']\n",
    "\n",
    "revenue_month_free = revenue_df[revenue_df['subscription_type'] == 'free']\n"
   ]
  },
  {
   "cell_type": "code",
   "execution_count": 127,
   "id": "a65d469e",
   "metadata": {},
   "outputs": [],
   "source": [
    "#evenue_month_ultra"
   ]
  },
  {
   "cell_type": "code",
   "execution_count": 131,
   "id": "ff9bd3aa",
   "metadata": {},
   "outputs": [
    {
     "data": {
      "text/plain": [
       "count    4533.000000\n",
       "mean      361.481800\n",
       "std        86.399966\n",
       "min       223.000000\n",
       "25%       301.000000\n",
       "50%       331.000000\n",
       "75%       403.000000\n",
       "max       943.000000\n",
       "Name: payment, dtype: float64"
      ]
     },
     "execution_count": 131,
     "metadata": {},
     "output_type": "execute_result"
    }
   ],
   "source": [
    "revenue_month_ultra['payment'].describe()"
   ]
  },
  {
   "cell_type": "code",
   "execution_count": 132,
   "id": "c1bf74fc",
   "metadata": {},
   "outputs": [
    {
     "data": {
      "text/plain": [
       "count    6798.000000\n",
       "mean      325.842895\n",
       "std       180.515646\n",
       "min        58.000000\n",
       "25%       194.000000\n",
       "50%       268.000000\n",
       "75%       420.000000\n",
       "max      1428.000000\n",
       "Name: payment, dtype: float64"
      ]
     },
     "execution_count": 132,
     "metadata": {},
     "output_type": "execute_result"
    }
   ],
   "source": [
    "revenue_month_free['payment'].describe()"
   ]
  },
  {
   "cell_type": "markdown",
   "id": "445d0214",
   "metadata": {},
   "source": [
    "Перед проведением t-теста проверим гипотезу о равенстве дисперсий двух выборок."
   ]
  },
  {
   "cell_type": "code",
   "execution_count": 133,
   "id": "4969b215",
   "metadata": {},
   "outputs": [
    {
     "name": "stdout",
     "output_type": "stream",
     "text": [
      "Отвергаем гипотезу о равенстве дисперсий.\n"
     ]
    }
   ],
   "source": [
    "test_leven, p = st.levene(revenue_month_ultra['payment'], revenue_month_free['payment'])\n",
    "\n",
    "if p < alpha:\n",
    "    print('Отвергаем гипотезу о равенстве дисперсий.')\n",
    "else:\n",
    "    print('Не получилось отвергнуть гипотезу о равенстве дисперсий.')"
   ]
  },
  {
   "cell_type": "code",
   "execution_count": 134,
   "id": "2e64840a",
   "metadata": {},
   "outputs": [
    {
     "name": "stdout",
     "output_type": "stream",
     "text": [
      "Средний платеж в месяц у пользователей с подпиской: 361.48\n",
      "Средний платеж в месяц у пользователей без подписки: 325.84\n",
      "p-значение: 1.0718729651261336e-44\n",
      "Отвергаем нулевую гипотезу о равенстве платежей.\n"
     ]
    }
   ],
   "source": [
    "print('Средний платеж в месяц у пользователей с подпиской:', revenue_month_ultra['payment'].mean().round(2))\n",
    "print('Средний платеж в месяц у пользователей без подписки:', revenue_month_free['payment'].mean().round(2))\n",
    "\n",
    "# делаем t-тест с учетом неравенства дисперсий\n",
    "results = st.ttest_ind(revenue_month_ultra['payment'], revenue_month_free['payment'], equal_var=False, alternative='greater')\n",
    "\n",
    "# p-значение\n",
    "print('p-значение:', results.pvalue)\n",
    "\n",
    "# сравниваем p-значение с alpha\n",
    "if results.pvalue < alpha:\n",
    "    print('Отвергаем нулевую гипотезу о равенстве платежей.')\n",
    "else:\n",
    "    print('Не получилось отвергнуть нулевую гипотезу о равенстве платежей.')"
   ]
  },
  {
   "cell_type": "markdown",
   "id": "981303c1",
   "metadata": {},
   "source": [
    "**Вывод:** Нулевая гипотеза о равенстве помесячных платежей отвергается. Есть основания предполагать, что пользователи c подпиской приносят больше выручки, чем пользователи без подписки."
   ]
  },
  {
   "cell_type": "markdown",
   "id": "1b9ab633",
   "metadata": {},
   "source": [
    "### Гипотеза 4.\n",
    "*Задача: Представьте такую ситуацию: техническая команда сервиса обновила сервера, с которыми взаимодействует мобильное приложение. Она надеется, что из-за этого количество обращений в техподдержку значимо снизилось. Некоторый файл содержит для каждого пользователя данные о количестве обращений до обновления и после него. Какой тест вам понадобился бы для проверки этой гипотезы?*\n"
   ]
  },
  {
   "cell_type": "markdown",
   "id": "741f647c",
   "metadata": {},
   "source": [
    "**Решение:** Т.к. в данном случае выборки будут зависимыми/парными, для проверки гипотезы о равенстве или неравенстве/снижении количества обращений применяется метод scipy.stats.ttest_rel()."
   ]
  },
  {
   "cell_type": "markdown",
   "id": "162baa03",
   "metadata": {},
   "source": [
    "# Общий вывод"
   ]
  },
  {
   "cell_type": "markdown",
   "id": "df4a5d89",
   "metadata": {},
   "source": [
    "В ходе проделанной работы было выполнено:\n",
    "- Изучены исходные данные.\n",
    "- Проведена предобработка данных, в т.ч. смена типов данных, добавление доп. столбцов, проверка на пропуски и дубликаты.\n",
    "- Проведен исследовательский анализ данных, в ходе которого сделаны следующие выводы:\n",
    " - Наибольшее количество пользователей зарегистрировано в Пятигорске, наименьшее - в Москве.\n",
    " - Пользователей с бесплатной подпиской больше (54%), чем пользователей с платной подпиской (46%).\n",
    " - Наиболее часто встречающаяся возрастная категория это пользователи 22-28 лет. \n",
    " - В среднем пользователи обеих подписок проезжают в районе 3км.\n",
    " - У пользователей без подписки средняя длительность поездок немного короче, чем у пользователей с платной подпиской.\n",
    "- Проверены гипотезы, в том числе:\n",
    " 1. Гипотеза о равенстве времени поездок у пользователей с платной и бесплатной подписками.  Нулевая гипотеза о равенстве длительности поездок была отвергнута. Пользователи с подпиской тратят больше временя на поездки, что подтверждается расчетными средними значениями. \n",
    " 2. Гипотеза о том, что расстояние, которое проезжают пользователи с подпиской за одну поездку, не превышает 3130 м. Гипотеза не была отвергнута.\n",
    " 3. Гипотеза о том, что помесячная выручка от пользователей с подпиской равна помес. выручке от пользователей без подписки. Гипотеза о равенстве помесячных платежей была отвергнута. Пользователи с подпиской приносят больше выручки.\n"
   ]
  },
  {
   "cell_type": "markdown",
   "id": "7cb0087b",
   "metadata": {},
   "source": [
    "<div class=\"alert alert-block alert-success\">\n",
    "<b>✅Комментарий ревьюера:</b> \n",
    "    \n",
    "Очень здорово, что ты сделала общий вывод!\n",
    "\n",
    "Человек, заинтересовавшийся твоим проектом, может сразу перейти к выводу, чтобы понять нужно ли ему углубляться в изучение исследования или нет.\n",
    "\n",
    "\n",
    "**Хочу обратить твое внимание на то, что после исправления замечаний в некоторых пунктах исследования могут измениться результаты, поэтому нужно будет подкорректировать выводы.**</div>"
   ]
  },
  {
   "cell_type": "markdown",
   "id": "24e44a6f",
   "metadata": {},
   "source": [
    "<div class=\"alert alert-block alert-info\">\n",
    "<b>🔄Комментарий студента:</b> \n",
    "Сделано ✔\n",
    "</div>"
   ]
  }
 ],
 "metadata": {
  "ExecuteTimeLog": [
   {
    "duration": 424,
    "start_time": "2023-05-04T14:49:00.075Z"
   },
   {
    "duration": 135,
    "start_time": "2023-05-04T14:51:41.252Z"
   },
   {
    "duration": 364,
    "start_time": "2023-05-04T14:53:11.195Z"
   },
   {
    "duration": 75,
    "start_time": "2023-05-04T14:54:05.216Z"
   },
   {
    "duration": 16,
    "start_time": "2023-05-04T14:54:35.168Z"
   },
   {
    "duration": 10,
    "start_time": "2023-05-04T14:54:41.853Z"
   },
   {
    "duration": 10,
    "start_time": "2023-05-04T14:54:56.996Z"
   },
   {
    "duration": 9,
    "start_time": "2023-05-04T14:55:02.391Z"
   },
   {
    "duration": 10,
    "start_time": "2023-05-04T14:55:09.388Z"
   },
   {
    "duration": 11,
    "start_time": "2023-05-04T14:55:30.715Z"
   },
   {
    "duration": 13,
    "start_time": "2023-05-04T14:55:35.017Z"
   },
   {
    "duration": 11,
    "start_time": "2023-05-04T14:55:41.279Z"
   },
   {
    "duration": 10,
    "start_time": "2023-05-04T14:55:50.542Z"
   },
   {
    "duration": 10,
    "start_time": "2023-05-04T14:55:54.542Z"
   },
   {
    "duration": 48,
    "start_time": "2023-05-05T07:41:41.945Z"
   },
   {
    "duration": 349,
    "start_time": "2023-05-05T07:41:45.015Z"
   },
   {
    "duration": 323,
    "start_time": "2023-05-05T07:41:46.876Z"
   },
   {
    "duration": 11,
    "start_time": "2023-05-05T07:53:36.860Z"
   },
   {
    "duration": 14,
    "start_time": "2023-05-05T07:53:41.600Z"
   },
   {
    "duration": 9,
    "start_time": "2023-05-05T07:54:52.117Z"
   },
   {
    "duration": 9,
    "start_time": "2023-05-05T07:56:10.156Z"
   },
   {
    "duration": 12,
    "start_time": "2023-05-05T07:57:30.436Z"
   },
   {
    "duration": 6,
    "start_time": "2023-05-05T08:18:19.275Z"
   },
   {
    "duration": 37,
    "start_time": "2023-05-05T08:19:37.021Z"
   },
   {
    "duration": 16,
    "start_time": "2023-05-05T08:19:45.301Z"
   },
   {
    "duration": 2,
    "start_time": "2023-05-05T08:23:26.045Z"
   },
   {
    "duration": 4,
    "start_time": "2023-05-05T08:24:16.659Z"
   },
   {
    "duration": 10,
    "start_time": "2023-05-05T08:24:34.230Z"
   },
   {
    "duration": 12,
    "start_time": "2023-05-05T08:24:39.359Z"
   },
   {
    "duration": 6,
    "start_time": "2023-05-05T08:28:00.078Z"
   },
   {
    "duration": 11,
    "start_time": "2023-05-05T08:29:36.657Z"
   },
   {
    "duration": 33,
    "start_time": "2023-05-05T08:30:59.055Z"
   },
   {
    "duration": 14,
    "start_time": "2023-05-05T08:31:29.040Z"
   },
   {
    "duration": 6,
    "start_time": "2023-05-05T08:34:28.120Z"
   },
   {
    "duration": 2,
    "start_time": "2023-05-05T08:41:01.999Z"
   },
   {
    "duration": 9,
    "start_time": "2023-05-05T08:41:23.668Z"
   },
   {
    "duration": 3,
    "start_time": "2023-05-05T08:41:32.450Z"
   },
   {
    "duration": 5,
    "start_time": "2023-05-05T08:41:45.116Z"
   },
   {
    "duration": 13,
    "start_time": "2023-05-05T08:42:21.292Z"
   },
   {
    "duration": 5,
    "start_time": "2023-05-05T08:42:33.138Z"
   },
   {
    "duration": 6,
    "start_time": "2023-05-05T08:42:41.583Z"
   },
   {
    "duration": 5,
    "start_time": "2023-05-05T08:42:53.784Z"
   },
   {
    "duration": 8,
    "start_time": "2023-05-05T08:43:05.701Z"
   },
   {
    "duration": 6,
    "start_time": "2023-05-05T08:43:25.617Z"
   },
   {
    "duration": 5,
    "start_time": "2023-05-05T08:44:33.653Z"
   },
   {
    "duration": 4,
    "start_time": "2023-05-05T08:44:39.443Z"
   },
   {
    "duration": 5,
    "start_time": "2023-05-05T08:44:53.460Z"
   },
   {
    "duration": 8,
    "start_time": "2023-05-05T08:46:03.823Z"
   },
   {
    "duration": 6,
    "start_time": "2023-05-05T08:47:36.543Z"
   },
   {
    "duration": 5,
    "start_time": "2023-05-05T08:47:49.120Z"
   },
   {
    "duration": 28,
    "start_time": "2023-05-05T08:48:20.320Z"
   },
   {
    "duration": 6,
    "start_time": "2023-05-05T08:50:20.159Z"
   },
   {
    "duration": 9,
    "start_time": "2023-05-05T08:51:19.460Z"
   },
   {
    "duration": 7,
    "start_time": "2023-05-05T08:51:22.859Z"
   },
   {
    "duration": 5,
    "start_time": "2023-05-05T08:51:30.309Z"
   },
   {
    "duration": 5,
    "start_time": "2023-05-05T08:51:39.040Z"
   },
   {
    "duration": 8,
    "start_time": "2023-05-05T09:04:15.383Z"
   },
   {
    "duration": 7,
    "start_time": "2023-05-05T09:04:23.302Z"
   },
   {
    "duration": 4,
    "start_time": "2023-05-05T09:08:40.974Z"
   },
   {
    "duration": 13,
    "start_time": "2023-05-05T09:08:50.160Z"
   },
   {
    "duration": 489,
    "start_time": "2023-05-05T09:17:08.203Z"
   },
   {
    "duration": 29,
    "start_time": "2023-05-05T13:10:58.051Z"
   },
   {
    "duration": 7,
    "start_time": "2023-05-05T13:14:14.720Z"
   },
   {
    "duration": 149,
    "start_time": "2023-05-05T13:16:13.884Z"
   },
   {
    "duration": 3,
    "start_time": "2023-05-05T13:16:18.632Z"
   },
   {
    "duration": 8,
    "start_time": "2023-05-05T13:16:25.550Z"
   },
   {
    "duration": 3,
    "start_time": "2023-05-05T13:18:06.905Z"
   },
   {
    "duration": 11,
    "start_time": "2023-05-05T13:18:18.184Z"
   },
   {
    "duration": 13,
    "start_time": "2023-05-05T13:19:11.069Z"
   },
   {
    "duration": 15,
    "start_time": "2023-05-05T13:19:22.374Z"
   },
   {
    "duration": 76,
    "start_time": "2023-05-05T13:19:30.724Z"
   },
   {
    "duration": 11,
    "start_time": "2023-05-05T13:19:31.272Z"
   },
   {
    "duration": 19,
    "start_time": "2023-05-05T13:19:34.044Z"
   },
   {
    "duration": 8,
    "start_time": "2023-05-05T13:19:40.326Z"
   },
   {
    "duration": 12,
    "start_time": "2023-05-05T13:19:53.678Z"
   },
   {
    "duration": 136,
    "start_time": "2023-05-05T13:24:05.655Z"
   },
   {
    "duration": 3,
    "start_time": "2023-05-05T13:24:48.405Z"
   },
   {
    "duration": 161,
    "start_time": "2023-05-05T13:24:53.867Z"
   },
   {
    "duration": 9,
    "start_time": "2023-05-05T13:26:25.022Z"
   },
   {
    "duration": 74,
    "start_time": "2023-05-05T13:27:04.295Z"
   },
   {
    "duration": 9,
    "start_time": "2023-05-05T13:27:05.723Z"
   },
   {
    "duration": 9,
    "start_time": "2023-05-05T13:27:08.180Z"
   },
   {
    "duration": 10,
    "start_time": "2023-05-05T13:27:12.998Z"
   },
   {
    "duration": 13,
    "start_time": "2023-05-05T13:27:16.063Z"
   },
   {
    "duration": 8,
    "start_time": "2023-05-05T13:27:17.522Z"
   },
   {
    "duration": 14,
    "start_time": "2023-05-05T13:27:22.160Z"
   },
   {
    "duration": 13,
    "start_time": "2023-05-05T13:27:24.814Z"
   },
   {
    "duration": 12,
    "start_time": "2023-05-05T13:27:30.547Z"
   },
   {
    "duration": 5,
    "start_time": "2023-05-05T13:27:35.596Z"
   },
   {
    "duration": 5,
    "start_time": "2023-05-05T13:27:43.390Z"
   },
   {
    "duration": 6,
    "start_time": "2023-05-05T13:27:47.244Z"
   },
   {
    "duration": 7,
    "start_time": "2023-05-05T13:27:48.582Z"
   },
   {
    "duration": 6,
    "start_time": "2023-05-05T13:27:49.989Z"
   },
   {
    "duration": 9,
    "start_time": "2023-05-05T13:27:52.846Z"
   },
   {
    "duration": 10,
    "start_time": "2023-05-05T13:27:54.425Z"
   },
   {
    "duration": 7,
    "start_time": "2023-05-05T13:28:00.705Z"
   },
   {
    "duration": 168,
    "start_time": "2023-05-05T13:28:22.260Z"
   },
   {
    "duration": 103,
    "start_time": "2023-05-05T13:28:57.983Z"
   },
   {
    "duration": 96,
    "start_time": "2023-05-05T13:29:03.724Z"
   },
   {
    "duration": 151,
    "start_time": "2023-05-05T13:29:34.216Z"
   },
   {
    "duration": 168,
    "start_time": "2023-05-05T13:30:12.500Z"
   },
   {
    "duration": 126,
    "start_time": "2023-05-05T13:30:51.997Z"
   },
   {
    "duration": 126,
    "start_time": "2023-05-05T13:31:11.040Z"
   },
   {
    "duration": 106,
    "start_time": "2023-05-05T13:34:37.395Z"
   },
   {
    "duration": 113,
    "start_time": "2023-05-05T13:34:40.752Z"
   },
   {
    "duration": 157,
    "start_time": "2023-05-05T13:34:44.615Z"
   },
   {
    "duration": 156,
    "start_time": "2023-05-05T13:34:48.462Z"
   },
   {
    "duration": 142,
    "start_time": "2023-05-05T13:34:56.129Z"
   },
   {
    "duration": 12,
    "start_time": "2023-05-05T13:36:19.008Z"
   },
   {
    "duration": 151,
    "start_time": "2023-05-05T13:36:22.876Z"
   },
   {
    "duration": 224,
    "start_time": "2023-05-05T13:36:39.580Z"
   },
   {
    "duration": 171,
    "start_time": "2023-05-05T13:38:38.712Z"
   },
   {
    "duration": 132,
    "start_time": "2023-05-05T13:38:43.323Z"
   },
   {
    "duration": 113,
    "start_time": "2023-05-05T13:38:53.632Z"
   },
   {
    "duration": 128,
    "start_time": "2023-05-05T13:39:07.765Z"
   },
   {
    "duration": 13,
    "start_time": "2023-05-05T13:41:11.674Z"
   },
   {
    "duration": 10,
    "start_time": "2023-05-05T13:41:47.385Z"
   },
   {
    "duration": 459,
    "start_time": "2023-05-05T13:41:53.711Z"
   },
   {
    "duration": 159,
    "start_time": "2023-05-05T13:41:59.414Z"
   },
   {
    "duration": 174,
    "start_time": "2023-05-05T13:42:16.960Z"
   },
   {
    "duration": 134,
    "start_time": "2023-05-05T13:43:02.298Z"
   },
   {
    "duration": 144,
    "start_time": "2023-05-05T13:43:16.597Z"
   },
   {
    "duration": 130,
    "start_time": "2023-05-05T13:43:26.472Z"
   },
   {
    "duration": 186,
    "start_time": "2023-05-05T13:43:40.689Z"
   },
   {
    "duration": 140,
    "start_time": "2023-05-05T13:43:52.464Z"
   },
   {
    "duration": 139,
    "start_time": "2023-05-05T13:48:45.157Z"
   },
   {
    "duration": 128,
    "start_time": "2023-05-05T13:48:56.048Z"
   },
   {
    "duration": 7,
    "start_time": "2023-05-05T13:54:02.006Z"
   },
   {
    "duration": 149,
    "start_time": "2023-05-05T13:54:24.763Z"
   },
   {
    "duration": 92,
    "start_time": "2023-05-05T13:54:36.483Z"
   },
   {
    "duration": 97,
    "start_time": "2023-05-05T13:54:48.897Z"
   },
   {
    "duration": 95,
    "start_time": "2023-05-05T14:03:49.452Z"
   },
   {
    "duration": 132,
    "start_time": "2023-05-05T14:04:52.283Z"
   },
   {
    "duration": 325,
    "start_time": "2023-05-05T14:05:48.915Z"
   },
   {
    "duration": 405,
    "start_time": "2023-05-05T14:06:02.065Z"
   },
   {
    "duration": 12,
    "start_time": "2023-05-05T14:08:35.528Z"
   },
   {
    "duration": 642,
    "start_time": "2023-05-05T14:08:59.760Z"
   },
   {
    "duration": 426,
    "start_time": "2023-05-05T14:09:12.099Z"
   },
   {
    "duration": 11,
    "start_time": "2023-05-05T14:09:24.251Z"
   },
   {
    "duration": 11,
    "start_time": "2023-05-05T14:09:32.229Z"
   },
   {
    "duration": 14,
    "start_time": "2023-05-05T14:09:54.030Z"
   },
   {
    "duration": 126,
    "start_time": "2023-05-05T14:10:14.450Z"
   },
   {
    "duration": 119,
    "start_time": "2023-05-05T14:10:28.566Z"
   },
   {
    "duration": 116,
    "start_time": "2023-05-05T14:13:45.582Z"
   },
   {
    "duration": 3,
    "start_time": "2023-05-05T14:14:32.053Z"
   },
   {
    "duration": 106,
    "start_time": "2023-05-05T14:14:45.783Z"
   },
   {
    "duration": 109,
    "start_time": "2023-05-05T14:15:01.165Z"
   },
   {
    "duration": 196,
    "start_time": "2023-05-05T14:15:08.355Z"
   },
   {
    "duration": 128,
    "start_time": "2023-05-05T14:16:25.625Z"
   },
   {
    "duration": 126,
    "start_time": "2023-05-05T14:16:47.875Z"
   },
   {
    "duration": 96,
    "start_time": "2023-05-05T14:18:22.983Z"
   },
   {
    "duration": 98,
    "start_time": "2023-05-05T14:18:32.176Z"
   },
   {
    "duration": 26,
    "start_time": "2023-05-05T14:18:36.742Z"
   },
   {
    "duration": 94,
    "start_time": "2023-05-05T14:18:50.479Z"
   },
   {
    "duration": 112,
    "start_time": "2023-05-05T14:18:59.809Z"
   },
   {
    "duration": 3,
    "start_time": "2023-05-05T14:20:37.520Z"
   },
   {
    "duration": 132,
    "start_time": "2023-05-05T14:20:40.378Z"
   },
   {
    "duration": 2,
    "start_time": "2023-05-05T14:20:47.507Z"
   },
   {
    "duration": 119,
    "start_time": "2023-05-05T14:20:49.665Z"
   },
   {
    "duration": 100,
    "start_time": "2023-05-05T14:22:02.386Z"
   },
   {
    "duration": 111,
    "start_time": "2023-05-05T14:22:13.533Z"
   },
   {
    "duration": 204,
    "start_time": "2023-05-05T14:23:30.381Z"
   },
   {
    "duration": 0,
    "start_time": "2023-05-05T14:23:42.105Z"
   },
   {
    "duration": 4562,
    "start_time": "2023-05-05T14:23:46.785Z"
   },
   {
    "duration": 13,
    "start_time": "2023-05-05T14:24:51.535Z"
   },
   {
    "duration": 132,
    "start_time": "2023-05-05T14:25:21.324Z"
   },
   {
    "duration": 3,
    "start_time": "2023-05-05T14:26:06.870Z"
   },
   {
    "duration": 95,
    "start_time": "2023-05-05T14:26:07.925Z"
   },
   {
    "duration": 3,
    "start_time": "2023-05-05T14:26:13.470Z"
   },
   {
    "duration": 107,
    "start_time": "2023-05-05T14:26:14.460Z"
   },
   {
    "duration": 120,
    "start_time": "2023-05-05T14:26:18.705Z"
   },
   {
    "duration": 131,
    "start_time": "2023-05-05T14:26:47.495Z"
   },
   {
    "duration": 185,
    "start_time": "2023-05-05T14:27:14.034Z"
   },
   {
    "duration": 4,
    "start_time": "2023-05-05T14:28:03.039Z"
   },
   {
    "duration": 7,
    "start_time": "2023-05-05T14:28:14.334Z"
   },
   {
    "duration": 8,
    "start_time": "2023-05-05T14:28:20.778Z"
   },
   {
    "duration": 5,
    "start_time": "2023-05-05T14:28:34.387Z"
   },
   {
    "duration": 270,
    "start_time": "2023-05-05T14:29:07.885Z"
   },
   {
    "duration": 183,
    "start_time": "2023-05-05T14:30:56.943Z"
   },
   {
    "duration": 6,
    "start_time": "2023-05-05T14:32:37.315Z"
   },
   {
    "duration": 4,
    "start_time": "2023-05-05T14:33:24.814Z"
   },
   {
    "duration": 144,
    "start_time": "2023-05-05T14:33:44.349Z"
   },
   {
    "duration": 263,
    "start_time": "2023-05-05T14:34:44.032Z"
   },
   {
    "duration": 162,
    "start_time": "2023-05-05T14:34:57.046Z"
   },
   {
    "duration": 184,
    "start_time": "2023-05-05T14:35:02.631Z"
   },
   {
    "duration": 309,
    "start_time": "2023-05-05T14:35:16.015Z"
   },
   {
    "duration": 394,
    "start_time": "2023-05-05T14:36:02.842Z"
   },
   {
    "duration": 273,
    "start_time": "2023-05-05T14:36:07.937Z"
   },
   {
    "duration": 255,
    "start_time": "2023-05-05T14:36:11.236Z"
   },
   {
    "duration": 349,
    "start_time": "2023-05-05T14:36:16.153Z"
   },
   {
    "duration": 116,
    "start_time": "2023-05-05T14:36:41.472Z"
   },
   {
    "duration": 171,
    "start_time": "2023-05-05T14:36:57.518Z"
   },
   {
    "duration": 153,
    "start_time": "2023-05-05T14:37:02.823Z"
   },
   {
    "duration": 215,
    "start_time": "2023-05-05T14:37:10.335Z"
   },
   {
    "duration": 129,
    "start_time": "2023-05-05T14:37:14.652Z"
   },
   {
    "duration": 167,
    "start_time": "2023-05-05T14:37:17.959Z"
   },
   {
    "duration": 148,
    "start_time": "2023-05-05T14:37:22.201Z"
   },
   {
    "duration": 8,
    "start_time": "2023-05-05T15:18:07.933Z"
   },
   {
    "duration": 6,
    "start_time": "2023-05-05T15:18:13.956Z"
   },
   {
    "duration": 6,
    "start_time": "2023-05-05T15:18:30.468Z"
   },
   {
    "duration": 5,
    "start_time": "2023-05-05T15:18:34.422Z"
   },
   {
    "duration": 8,
    "start_time": "2023-05-05T15:18:42.211Z"
   },
   {
    "duration": 162,
    "start_time": "2023-05-05T15:19:00.356Z"
   },
   {
    "duration": 126,
    "start_time": "2023-05-05T15:19:12.817Z"
   },
   {
    "duration": 133,
    "start_time": "2023-05-05T15:19:17.151Z"
   },
   {
    "duration": 274,
    "start_time": "2023-05-05T15:20:18.311Z"
   },
   {
    "duration": 143,
    "start_time": "2023-05-05T15:20:46.174Z"
   },
   {
    "duration": 384,
    "start_time": "2023-05-05T15:20:59.712Z"
   },
   {
    "duration": 10,
    "start_time": "2023-05-05T15:21:08.477Z"
   },
   {
    "duration": 264,
    "start_time": "2023-05-05T15:21:12.240Z"
   },
   {
    "duration": 267,
    "start_time": "2023-05-05T15:21:28.711Z"
   },
   {
    "duration": 3,
    "start_time": "2023-05-05T15:21:46.203Z"
   },
   {
    "duration": 288,
    "start_time": "2023-05-05T15:21:56.611Z"
   },
   {
    "duration": 271,
    "start_time": "2023-05-05T15:22:19.236Z"
   },
   {
    "duration": 333,
    "start_time": "2023-05-05T15:22:25.319Z"
   },
   {
    "duration": 241,
    "start_time": "2023-05-05T15:22:34.819Z"
   },
   {
    "duration": 259,
    "start_time": "2023-05-05T15:22:39.475Z"
   },
   {
    "duration": 8,
    "start_time": "2023-05-05T15:23:37.261Z"
   },
   {
    "duration": 8,
    "start_time": "2023-05-05T15:26:13.796Z"
   },
   {
    "duration": 26,
    "start_time": "2023-05-05T15:27:54.908Z"
   },
   {
    "duration": 21,
    "start_time": "2023-05-05T15:28:17.828Z"
   },
   {
    "duration": 27,
    "start_time": "2023-05-05T15:28:29.441Z"
   },
   {
    "duration": 26,
    "start_time": "2023-05-05T15:28:54.509Z"
   },
   {
    "duration": 22,
    "start_time": "2023-05-05T15:30:26.496Z"
   },
   {
    "duration": 157,
    "start_time": "2023-05-05T15:31:14.897Z"
   },
   {
    "duration": 142,
    "start_time": "2023-05-05T15:31:44.513Z"
   },
   {
    "duration": 25,
    "start_time": "2023-05-05T15:32:21.608Z"
   },
   {
    "duration": 24,
    "start_time": "2023-05-05T15:32:45.587Z"
   },
   {
    "duration": 24,
    "start_time": "2023-05-05T15:35:16.611Z"
   },
   {
    "duration": 19,
    "start_time": "2023-05-05T15:35:42.315Z"
   },
   {
    "duration": 103,
    "start_time": "2023-05-05T15:36:18.183Z"
   },
   {
    "duration": 102,
    "start_time": "2023-05-05T15:37:20.907Z"
   },
   {
    "duration": 98,
    "start_time": "2023-05-05T15:37:28.644Z"
   },
   {
    "duration": 108,
    "start_time": "2023-05-05T15:37:51.160Z"
   },
   {
    "duration": 134,
    "start_time": "2023-05-05T15:38:00.066Z"
   },
   {
    "duration": 277,
    "start_time": "2023-05-05T15:46:34.814Z"
   },
   {
    "duration": 10,
    "start_time": "2023-05-05T15:46:39.613Z"
   },
   {
    "duration": 11,
    "start_time": "2023-05-05T15:46:50.027Z"
   },
   {
    "duration": 179,
    "start_time": "2023-05-05T15:46:55.644Z"
   },
   {
    "duration": 218,
    "start_time": "2023-05-05T15:48:40.675Z"
   },
   {
    "duration": 212,
    "start_time": "2023-05-05T15:48:46.145Z"
   },
   {
    "duration": 210,
    "start_time": "2023-05-05T15:48:50.421Z"
   },
   {
    "duration": 142,
    "start_time": "2023-05-05T15:49:05.490Z"
   },
   {
    "duration": 131,
    "start_time": "2023-05-05T15:49:57.831Z"
   },
   {
    "duration": 137,
    "start_time": "2023-05-05T15:50:09.239Z"
   },
   {
    "duration": 185,
    "start_time": "2023-05-05T15:50:27.809Z"
   },
   {
    "duration": 13,
    "start_time": "2023-05-05T15:50:45.956Z"
   },
   {
    "duration": 2030,
    "start_time": "2023-05-05T15:51:12.485Z"
   },
   {
    "duration": 1645,
    "start_time": "2023-05-05T15:51:30.819Z"
   },
   {
    "duration": 1136,
    "start_time": "2023-05-05T15:51:33.626Z"
   },
   {
    "duration": 11,
    "start_time": "2023-05-05T16:32:06.254Z"
   },
   {
    "duration": 94,
    "start_time": "2023-05-05T16:32:12.139Z"
   },
   {
    "duration": 112,
    "start_time": "2023-05-05T16:32:44.858Z"
   },
   {
    "duration": 109,
    "start_time": "2023-05-05T16:33:43.318Z"
   },
   {
    "duration": 105,
    "start_time": "2023-05-05T16:33:47.005Z"
   },
   {
    "duration": 110,
    "start_time": "2023-05-05T16:34:34.722Z"
   },
   {
    "duration": 112,
    "start_time": "2023-05-05T16:34:49.010Z"
   },
   {
    "duration": 106,
    "start_time": "2023-05-05T16:35:47.155Z"
   },
   {
    "duration": 95,
    "start_time": "2023-05-05T16:36:37.483Z"
   },
   {
    "duration": 98,
    "start_time": "2023-05-05T16:36:45.477Z"
   },
   {
    "duration": 119,
    "start_time": "2023-05-05T16:38:00.869Z"
   },
   {
    "duration": 97,
    "start_time": "2023-05-05T16:38:07.421Z"
   },
   {
    "duration": 104,
    "start_time": "2023-05-05T16:38:11.718Z"
   },
   {
    "duration": 98,
    "start_time": "2023-05-05T16:38:18.287Z"
   },
   {
    "duration": 157,
    "start_time": "2023-05-05T16:38:41.586Z"
   },
   {
    "duration": 96,
    "start_time": "2023-05-05T16:39:17.907Z"
   },
   {
    "duration": 307,
    "start_time": "2023-05-05T16:39:42.847Z"
   },
   {
    "duration": 100,
    "start_time": "2023-05-05T16:39:48.683Z"
   },
   {
    "duration": 106,
    "start_time": "2023-05-05T16:40:33.403Z"
   },
   {
    "duration": 130,
    "start_time": "2023-05-05T16:40:44.949Z"
   },
   {
    "duration": 126,
    "start_time": "2023-05-05T16:40:48.853Z"
   },
   {
    "duration": 8,
    "start_time": "2023-05-05T16:42:37.101Z"
   },
   {
    "duration": 130,
    "start_time": "2023-05-05T16:42:47.423Z"
   },
   {
    "duration": 127,
    "start_time": "2023-05-05T16:42:52.486Z"
   },
   {
    "duration": 129,
    "start_time": "2023-05-05T16:43:55.592Z"
   },
   {
    "duration": 149,
    "start_time": "2023-05-05T16:44:01.931Z"
   },
   {
    "duration": 135,
    "start_time": "2023-05-05T16:44:07.025Z"
   },
   {
    "duration": 299,
    "start_time": "2023-05-05T16:44:17.174Z"
   },
   {
    "duration": 126,
    "start_time": "2023-05-05T16:44:21.036Z"
   },
   {
    "duration": 158,
    "start_time": "2023-05-05T16:45:27.834Z"
   },
   {
    "duration": 141,
    "start_time": "2023-05-05T16:45:32.885Z"
   },
   {
    "duration": 132,
    "start_time": "2023-05-05T16:45:37.491Z"
   },
   {
    "duration": 162,
    "start_time": "2023-05-05T16:46:15.783Z"
   },
   {
    "duration": 254,
    "start_time": "2023-05-05T16:46:26.811Z"
   },
   {
    "duration": 9,
    "start_time": "2023-05-05T16:47:45.409Z"
   },
   {
    "duration": 103,
    "start_time": "2023-05-05T16:49:20.470Z"
   },
   {
    "duration": 0,
    "start_time": "2023-05-05T16:50:41.584Z"
   },
   {
    "duration": 1621,
    "start_time": "2023-05-05T16:51:04.872Z"
   },
   {
    "duration": 1356,
    "start_time": "2023-05-05T16:51:21.679Z"
   },
   {
    "duration": 143,
    "start_time": "2023-05-05T16:55:00.048Z"
   },
   {
    "duration": 149,
    "start_time": "2023-05-05T16:56:09.303Z"
   },
   {
    "duration": 46,
    "start_time": "2023-05-05T16:58:19.236Z"
   },
   {
    "duration": 30,
    "start_time": "2023-05-05T16:58:30.054Z"
   },
   {
    "duration": 263,
    "start_time": "2023-05-05T16:58:57.496Z"
   },
   {
    "duration": 175,
    "start_time": "2023-05-05T17:01:47.437Z"
   },
   {
    "duration": 152,
    "start_time": "2023-05-05T17:01:58.116Z"
   },
   {
    "duration": 75,
    "start_time": "2023-05-05T17:02:06.120Z"
   },
   {
    "duration": 1387,
    "start_time": "2023-05-05T17:02:58.866Z"
   },
   {
    "duration": 1538,
    "start_time": "2023-05-05T17:03:07.806Z"
   },
   {
    "duration": 1287,
    "start_time": "2023-05-05T17:03:45.810Z"
   },
   {
    "duration": 30,
    "start_time": "2023-05-05T17:04:28.300Z"
   },
   {
    "duration": 12,
    "start_time": "2023-05-05T17:06:32.448Z"
   },
   {
    "duration": 18,
    "start_time": "2023-05-05T17:06:40.033Z"
   },
   {
    "duration": 270,
    "start_time": "2023-05-05T17:07:25.206Z"
   },
   {
    "duration": 121,
    "start_time": "2023-05-05T17:49:06.890Z"
   },
   {
    "duration": 13,
    "start_time": "2023-05-05T17:49:23.248Z"
   },
   {
    "duration": 5,
    "start_time": "2023-05-05T17:49:32.103Z"
   },
   {
    "duration": 19,
    "start_time": "2023-05-05T17:50:17.370Z"
   },
   {
    "duration": 63,
    "start_time": "2023-05-05T17:51:31.467Z"
   },
   {
    "duration": 8,
    "start_time": "2023-05-05T17:51:36.917Z"
   },
   {
    "duration": 20,
    "start_time": "2023-05-05T17:51:57.098Z"
   },
   {
    "duration": 22,
    "start_time": "2023-05-05T17:52:15.899Z"
   },
   {
    "duration": 13,
    "start_time": "2023-05-05T17:52:21.906Z"
   },
   {
    "duration": 10,
    "start_time": "2023-05-05T17:52:25.205Z"
   },
   {
    "duration": 258,
    "start_time": "2023-05-05T17:53:06.153Z"
   },
   {
    "duration": 105,
    "start_time": "2023-05-05T17:53:12.417Z"
   },
   {
    "duration": 10,
    "start_time": "2023-05-05T17:53:48.650Z"
   },
   {
    "duration": 137,
    "start_time": "2023-05-05T17:54:02.107Z"
   },
   {
    "duration": 145,
    "start_time": "2023-05-05T17:54:20.465Z"
   },
   {
    "duration": 24,
    "start_time": "2023-05-05T17:55:34.197Z"
   },
   {
    "duration": 195,
    "start_time": "2023-05-05T17:55:46.902Z"
   },
   {
    "duration": 142,
    "start_time": "2023-05-05T17:56:01.597Z"
   },
   {
    "duration": 29,
    "start_time": "2023-05-05T17:57:30.198Z"
   },
   {
    "duration": 34,
    "start_time": "2023-05-05T17:57:35.790Z"
   },
   {
    "duration": 169,
    "start_time": "2023-05-05T17:58:00.088Z"
   },
   {
    "duration": 185,
    "start_time": "2023-05-05T17:58:04.614Z"
   },
   {
    "duration": 3,
    "start_time": "2023-05-05T17:58:43.452Z"
   },
   {
    "duration": 282,
    "start_time": "2023-05-05T17:59:33.824Z"
   },
   {
    "duration": 294,
    "start_time": "2023-05-05T17:59:40.315Z"
   },
   {
    "duration": 242,
    "start_time": "2023-05-05T17:59:43.268Z"
   },
   {
    "duration": 378,
    "start_time": "2023-05-05T17:59:46.565Z"
   },
   {
    "duration": 244,
    "start_time": "2023-05-05T17:59:50.502Z"
   },
   {
    "duration": 299,
    "start_time": "2023-05-05T18:00:04.206Z"
   },
   {
    "duration": 301,
    "start_time": "2023-05-05T18:00:23.647Z"
   },
   {
    "duration": 855,
    "start_time": "2023-05-05T18:00:28.054Z"
   },
   {
    "duration": 292,
    "start_time": "2023-05-05T18:00:33.018Z"
   },
   {
    "duration": 323,
    "start_time": "2023-05-05T18:00:35.714Z"
   },
   {
    "duration": 37,
    "start_time": "2023-05-05T18:15:35.694Z"
   },
   {
    "duration": 19,
    "start_time": "2023-05-05T18:19:07.130Z"
   },
   {
    "duration": 10,
    "start_time": "2023-05-05T18:20:21.748Z"
   },
   {
    "duration": 39,
    "start_time": "2023-05-05T18:20:27.299Z"
   },
   {
    "duration": 19,
    "start_time": "2023-05-05T18:20:48.218Z"
   },
   {
    "duration": 16,
    "start_time": "2023-05-05T18:20:52.152Z"
   },
   {
    "duration": 32,
    "start_time": "2023-05-05T18:23:48.399Z"
   },
   {
    "duration": 16,
    "start_time": "2023-05-05T18:25:12.002Z"
   },
   {
    "duration": 7,
    "start_time": "2023-05-05T18:25:38.237Z"
   },
   {
    "duration": 42,
    "start_time": "2023-05-06T07:40:31.734Z"
   },
   {
    "duration": 1286,
    "start_time": "2023-05-06T07:40:41.084Z"
   },
   {
    "duration": 211,
    "start_time": "2023-05-06T07:40:44.231Z"
   },
   {
    "duration": 13,
    "start_time": "2023-05-06T07:40:44.915Z"
   },
   {
    "duration": 11,
    "start_time": "2023-05-06T07:40:47.851Z"
   },
   {
    "duration": 9,
    "start_time": "2023-05-06T07:40:51.031Z"
   },
   {
    "duration": 10,
    "start_time": "2023-05-06T07:40:53.846Z"
   },
   {
    "duration": 6,
    "start_time": "2023-05-06T07:40:56.839Z"
   },
   {
    "duration": 10,
    "start_time": "2023-05-06T07:40:58.125Z"
   },
   {
    "duration": 14,
    "start_time": "2023-05-06T07:41:01.042Z"
   },
   {
    "duration": 13,
    "start_time": "2023-05-06T07:41:03.346Z"
   },
   {
    "duration": 6,
    "start_time": "2023-05-06T07:41:05.808Z"
   },
   {
    "duration": 4,
    "start_time": "2023-05-06T07:41:07.990Z"
   },
   {
    "duration": 4,
    "start_time": "2023-05-06T07:41:10.694Z"
   },
   {
    "duration": 8,
    "start_time": "2023-05-06T07:41:11.379Z"
   },
   {
    "duration": 6,
    "start_time": "2023-05-06T07:41:11.953Z"
   },
   {
    "duration": 7,
    "start_time": "2023-05-06T07:41:14.874Z"
   },
   {
    "duration": 11,
    "start_time": "2023-05-06T07:41:16.332Z"
   },
   {
    "duration": 2,
    "start_time": "2023-05-06T07:41:25.104Z"
   },
   {
    "duration": 9,
    "start_time": "2023-05-06T07:41:28.266Z"
   },
   {
    "duration": 150,
    "start_time": "2023-05-06T07:41:31.905Z"
   },
   {
    "duration": 3,
    "start_time": "2023-05-06T07:41:44.104Z"
   },
   {
    "duration": 112,
    "start_time": "2023-05-06T07:41:52.137Z"
   },
   {
    "duration": 134,
    "start_time": "2023-05-06T07:41:53.606Z"
   },
   {
    "duration": 4,
    "start_time": "2023-05-06T07:41:56.276Z"
   },
   {
    "duration": 7,
    "start_time": "2023-05-06T07:41:57.166Z"
   },
   {
    "duration": 8,
    "start_time": "2023-05-06T07:41:59.015Z"
   },
   {
    "duration": 296,
    "start_time": "2023-05-06T07:42:00.700Z"
   },
   {
    "duration": 143,
    "start_time": "2023-05-06T07:42:03.309Z"
   },
   {
    "duration": 8,
    "start_time": "2023-05-06T07:42:06.083Z"
   },
   {
    "duration": 21,
    "start_time": "2023-05-06T07:42:06.900Z"
   },
   {
    "duration": 311,
    "start_time": "2023-05-06T07:42:08.425Z"
   },
   {
    "duration": 2,
    "start_time": "2023-05-06T07:42:14.909Z"
   },
   {
    "duration": 8,
    "start_time": "2023-05-06T07:42:16.195Z"
   },
   {
    "duration": 21,
    "start_time": "2023-05-06T07:42:17.324Z"
   },
   {
    "duration": 336,
    "start_time": "2023-05-06T07:42:18.523Z"
   },
   {
    "duration": 25,
    "start_time": "2023-05-06T07:42:24.347Z"
   },
   {
    "duration": 24,
    "start_time": "2023-05-06T07:43:36.320Z"
   },
   {
    "duration": 9,
    "start_time": "2023-05-06T07:43:38.864Z"
   },
   {
    "duration": 7,
    "start_time": "2023-05-06T07:43:41.196Z"
   },
   {
    "duration": 16,
    "start_time": "2023-05-06T07:43:54.244Z"
   },
   {
    "duration": 16,
    "start_time": "2023-05-06T07:44:11.227Z"
   },
   {
    "duration": 10,
    "start_time": "2023-05-06T07:55:39.498Z"
   },
   {
    "duration": 20,
    "start_time": "2023-05-06T07:55:45.911Z"
   },
   {
    "duration": 16,
    "start_time": "2023-05-06T07:55:56.616Z"
   },
   {
    "duration": 19,
    "start_time": "2023-05-06T07:56:04.092Z"
   },
   {
    "duration": 64,
    "start_time": "2023-05-06T07:56:13.226Z"
   },
   {
    "duration": 18,
    "start_time": "2023-05-06T07:56:26.205Z"
   },
   {
    "duration": 15,
    "start_time": "2023-05-06T07:56:57.064Z"
   },
   {
    "duration": 15,
    "start_time": "2023-05-06T07:57:18.949Z"
   },
   {
    "duration": 15,
    "start_time": "2023-05-06T07:57:25.612Z"
   },
   {
    "duration": 15,
    "start_time": "2023-05-06T07:57:32.454Z"
   },
   {
    "duration": 18,
    "start_time": "2023-05-06T07:57:38.134Z"
   },
   {
    "duration": 7,
    "start_time": "2023-05-06T07:58:07.596Z"
   },
   {
    "duration": 15,
    "start_time": "2023-05-06T07:58:18.891Z"
   },
   {
    "duration": 14,
    "start_time": "2023-05-06T07:59:05.742Z"
   },
   {
    "duration": 13,
    "start_time": "2023-05-06T07:59:48.181Z"
   },
   {
    "duration": 14,
    "start_time": "2023-05-06T08:00:03.221Z"
   },
   {
    "duration": 3,
    "start_time": "2023-05-06T08:02:33.702Z"
   },
   {
    "duration": 12,
    "start_time": "2023-05-06T08:02:59.424Z"
   },
   {
    "duration": 4,
    "start_time": "2023-05-06T08:03:08.038Z"
   },
   {
    "duration": 13,
    "start_time": "2023-05-06T08:04:05.643Z"
   },
   {
    "duration": 14,
    "start_time": "2023-05-06T08:04:08.544Z"
   },
   {
    "duration": 14,
    "start_time": "2023-05-06T08:09:08.455Z"
   },
   {
    "duration": 139,
    "start_time": "2023-05-06T08:09:25.123Z"
   },
   {
    "duration": 153,
    "start_time": "2023-05-06T08:10:29.322Z"
   },
   {
    "duration": 164,
    "start_time": "2023-05-06T08:10:33.348Z"
   },
   {
    "duration": 10,
    "start_time": "2023-05-06T08:13:13.207Z"
   },
   {
    "duration": 10,
    "start_time": "2023-05-06T08:13:20.633Z"
   },
   {
    "duration": 17,
    "start_time": "2023-05-06T08:13:31.532Z"
   },
   {
    "duration": 19,
    "start_time": "2023-05-06T08:13:39.616Z"
   },
   {
    "duration": 129,
    "start_time": "2023-05-06T08:14:25.515Z"
   },
   {
    "duration": 110,
    "start_time": "2023-05-06T08:17:14.932Z"
   },
   {
    "duration": 135,
    "start_time": "2023-05-06T08:17:34.507Z"
   },
   {
    "duration": 124,
    "start_time": "2023-05-06T08:17:58.374Z"
   },
   {
    "duration": 12,
    "start_time": "2023-05-06T08:18:32.070Z"
   },
   {
    "duration": 29,
    "start_time": "2023-05-06T08:19:02.963Z"
   },
   {
    "duration": 16,
    "start_time": "2023-05-06T08:19:28.118Z"
   },
   {
    "duration": 113,
    "start_time": "2023-05-06T08:20:25.837Z"
   },
   {
    "duration": 210,
    "start_time": "2023-05-06T08:20:30.937Z"
   },
   {
    "duration": 9550,
    "start_time": "2023-05-06T08:20:42.023Z"
   },
   {
    "duration": 170,
    "start_time": "2023-05-06T08:21:11.348Z"
   },
   {
    "duration": 124,
    "start_time": "2023-05-06T08:21:52.945Z"
   },
   {
    "duration": 144,
    "start_time": "2023-05-06T08:22:11.830Z"
   },
   {
    "duration": 168,
    "start_time": "2023-05-06T08:22:30.412Z"
   },
   {
    "duration": 283,
    "start_time": "2023-05-06T08:22:34.036Z"
   },
   {
    "duration": 193,
    "start_time": "2023-05-06T08:22:38.430Z"
   },
   {
    "duration": 177,
    "start_time": "2023-05-06T08:22:52.159Z"
   },
   {
    "duration": 53,
    "start_time": "2023-05-06T08:26:16.440Z"
   },
   {
    "duration": 58,
    "start_time": "2023-05-06T08:26:25.702Z"
   },
   {
    "duration": 145,
    "start_time": "2023-05-06T08:26:30.427Z"
   },
   {
    "duration": 209,
    "start_time": "2023-05-06T08:27:01.229Z"
   },
   {
    "duration": 371,
    "start_time": "2023-05-06T08:27:40.469Z"
   },
   {
    "duration": 173,
    "start_time": "2023-05-06T08:27:47.625Z"
   },
   {
    "duration": 135,
    "start_time": "2023-05-06T08:28:25.101Z"
   },
   {
    "duration": 121,
    "start_time": "2023-05-06T08:28:48.868Z"
   },
   {
    "duration": 138,
    "start_time": "2023-05-06T08:29:27.756Z"
   },
   {
    "duration": 133,
    "start_time": "2023-05-06T08:29:34.705Z"
   },
   {
    "duration": 122,
    "start_time": "2023-05-06T08:29:46.018Z"
   },
   {
    "duration": 198,
    "start_time": "2023-05-06T08:32:08.816Z"
   },
   {
    "duration": 172,
    "start_time": "2023-05-06T08:32:28.897Z"
   },
   {
    "duration": 181,
    "start_time": "2023-05-06T08:32:35.232Z"
   },
   {
    "duration": 356,
    "start_time": "2023-05-06T08:34:38.175Z"
   },
   {
    "duration": 267,
    "start_time": "2023-05-06T08:34:48.651Z"
   },
   {
    "duration": 188,
    "start_time": "2023-05-06T08:35:07.103Z"
   },
   {
    "duration": 192,
    "start_time": "2023-05-06T08:35:26.530Z"
   },
   {
    "duration": 222,
    "start_time": "2023-05-06T08:35:44.108Z"
   },
   {
    "duration": 235,
    "start_time": "2023-05-06T08:36:19.302Z"
   },
   {
    "duration": 259,
    "start_time": "2023-05-06T08:36:22.962Z"
   },
   {
    "duration": 233,
    "start_time": "2023-05-06T08:36:27.203Z"
   },
   {
    "duration": 47,
    "start_time": "2023-05-06T08:39:52.638Z"
   },
   {
    "duration": 255,
    "start_time": "2023-05-06T08:40:29.218Z"
   },
   {
    "duration": 243,
    "start_time": "2023-05-06T08:40:47.362Z"
   },
   {
    "duration": 318,
    "start_time": "2023-05-06T08:40:52.120Z"
   },
   {
    "duration": 262,
    "start_time": "2023-05-06T08:41:06.749Z"
   },
   {
    "duration": 258,
    "start_time": "2023-05-06T08:41:44.155Z"
   },
   {
    "duration": 237,
    "start_time": "2023-05-06T08:41:48.714Z"
   },
   {
    "duration": 2,
    "start_time": "2023-05-06T08:42:41.515Z"
   },
   {
    "duration": 2,
    "start_time": "2023-05-06T08:42:46.718Z"
   },
   {
    "duration": 17,
    "start_time": "2023-05-06T08:43:09.421Z"
   },
   {
    "duration": 279,
    "start_time": "2023-05-06T08:44:38.888Z"
   },
   {
    "duration": 272,
    "start_time": "2023-05-06T08:45:40.473Z"
   },
   {
    "duration": 433,
    "start_time": "2023-05-06T08:46:19.224Z"
   },
   {
    "duration": 167,
    "start_time": "2023-05-06T09:42:43.643Z"
   },
   {
    "duration": 112,
    "start_time": "2023-05-06T09:43:03.325Z"
   },
   {
    "duration": 161,
    "start_time": "2023-05-06T09:43:12.047Z"
   },
   {
    "duration": 167,
    "start_time": "2023-05-06T09:43:24.753Z"
   },
   {
    "duration": 185,
    "start_time": "2023-05-06T09:43:31.136Z"
   },
   {
    "duration": 167,
    "start_time": "2023-05-06T09:43:39.408Z"
   },
   {
    "duration": 302,
    "start_time": "2023-05-06T09:43:44.164Z"
   },
   {
    "duration": 168,
    "start_time": "2023-05-06T09:43:52.628Z"
   },
   {
    "duration": 163,
    "start_time": "2023-05-06T09:43:55.971Z"
   },
   {
    "duration": 165,
    "start_time": "2023-05-06T09:44:00.983Z"
   },
   {
    "duration": 167,
    "start_time": "2023-05-06T09:44:13.296Z"
   },
   {
    "duration": 169,
    "start_time": "2023-05-06T09:44:20.077Z"
   },
   {
    "duration": 289,
    "start_time": "2023-05-06T09:44:33.628Z"
   },
   {
    "duration": 198,
    "start_time": "2023-05-06T09:44:41.289Z"
   },
   {
    "duration": 192,
    "start_time": "2023-05-06T09:45:00.451Z"
   },
   {
    "duration": 163,
    "start_time": "2023-05-06T09:45:13.469Z"
   },
   {
    "duration": 159,
    "start_time": "2023-05-06T09:45:22.098Z"
   },
   {
    "duration": 138,
    "start_time": "2023-05-06T09:45:27.909Z"
   },
   {
    "duration": 195,
    "start_time": "2023-05-06T09:45:31.277Z"
   },
   {
    "duration": 219,
    "start_time": "2023-05-06T09:45:43.407Z"
   },
   {
    "duration": 154,
    "start_time": "2023-05-06T09:45:47.523Z"
   },
   {
    "duration": 165,
    "start_time": "2023-05-06T09:45:54.261Z"
   },
   {
    "duration": 205,
    "start_time": "2023-05-06T09:46:04.951Z"
   },
   {
    "duration": 178,
    "start_time": "2023-05-06T09:46:08.632Z"
   },
   {
    "duration": 170,
    "start_time": "2023-05-06T09:46:14.949Z"
   },
   {
    "duration": 285,
    "start_time": "2023-05-06T09:46:52.418Z"
   },
   {
    "duration": 176,
    "start_time": "2023-05-06T09:47:20.052Z"
   },
   {
    "duration": 132,
    "start_time": "2023-05-06T09:47:47.327Z"
   },
   {
    "duration": 135,
    "start_time": "2023-05-06T09:47:50.842Z"
   },
   {
    "duration": 167,
    "start_time": "2023-05-06T09:48:10.979Z"
   },
   {
    "duration": 132,
    "start_time": "2023-05-06T09:48:23.121Z"
   },
   {
    "duration": 285,
    "start_time": "2023-05-06T09:48:32.268Z"
   },
   {
    "duration": 278,
    "start_time": "2023-05-06T09:48:46.843Z"
   },
   {
    "duration": 368,
    "start_time": "2023-05-06T09:48:53.169Z"
   },
   {
    "duration": 106,
    "start_time": "2023-05-06T09:49:20.427Z"
   },
   {
    "duration": 111,
    "start_time": "2023-05-06T09:49:25.357Z"
   },
   {
    "duration": 159,
    "start_time": "2023-05-06T09:49:31.346Z"
   },
   {
    "duration": 204,
    "start_time": "2023-05-06T09:49:47.007Z"
   },
   {
    "duration": 179,
    "start_time": "2023-05-06T09:49:52.354Z"
   },
   {
    "duration": 188,
    "start_time": "2023-05-06T09:50:00.235Z"
   },
   {
    "duration": 9,
    "start_time": "2023-05-06T09:55:10.557Z"
   },
   {
    "duration": 9,
    "start_time": "2023-05-06T09:55:31.706Z"
   },
   {
    "duration": 19,
    "start_time": "2023-05-06T09:55:46.501Z"
   },
   {
    "duration": 30,
    "start_time": "2023-05-06T09:56:02.266Z"
   },
   {
    "duration": 19,
    "start_time": "2023-05-06T09:57:20.810Z"
   },
   {
    "duration": 223,
    "start_time": "2023-05-06T09:57:47.143Z"
   },
   {
    "duration": 27,
    "start_time": "2023-05-06T09:57:55.710Z"
   },
   {
    "duration": 29,
    "start_time": "2023-05-06T09:58:08.760Z"
   },
   {
    "duration": 27,
    "start_time": "2023-05-06T09:58:19.113Z"
   },
   {
    "duration": 51,
    "start_time": "2023-05-06T10:00:14.618Z"
   },
   {
    "duration": 35,
    "start_time": "2023-05-06T10:00:24.012Z"
   },
   {
    "duration": 38,
    "start_time": "2023-05-06T10:00:34.983Z"
   },
   {
    "duration": 1462,
    "start_time": "2023-05-06T15:01:05.900Z"
   },
   {
    "duration": 229,
    "start_time": "2023-05-06T15:01:07.364Z"
   },
   {
    "duration": 23,
    "start_time": "2023-05-06T15:01:07.602Z"
   },
   {
    "duration": 11,
    "start_time": "2023-05-06T15:01:07.627Z"
   },
   {
    "duration": 13,
    "start_time": "2023-05-06T15:01:07.640Z"
   },
   {
    "duration": 49,
    "start_time": "2023-05-06T15:01:07.654Z"
   },
   {
    "duration": 14,
    "start_time": "2023-05-06T15:01:07.706Z"
   },
   {
    "duration": 14,
    "start_time": "2023-05-06T15:01:07.722Z"
   },
   {
    "duration": 14,
    "start_time": "2023-05-06T15:01:07.739Z"
   },
   {
    "duration": 47,
    "start_time": "2023-05-06T15:01:07.754Z"
   },
   {
    "duration": 11,
    "start_time": "2023-05-06T15:01:07.808Z"
   },
   {
    "duration": 5,
    "start_time": "2023-05-06T15:01:07.821Z"
   },
   {
    "duration": 6,
    "start_time": "2023-05-06T15:01:07.827Z"
   },
   {
    "duration": 8,
    "start_time": "2023-05-06T15:01:07.835Z"
   },
   {
    "duration": 6,
    "start_time": "2023-05-06T15:01:07.844Z"
   },
   {
    "duration": 58,
    "start_time": "2023-05-06T15:01:07.852Z"
   },
   {
    "duration": 15,
    "start_time": "2023-05-06T15:01:07.913Z"
   },
   {
    "duration": 3,
    "start_time": "2023-05-06T15:01:07.930Z"
   },
   {
    "duration": 13,
    "start_time": "2023-05-06T15:01:07.934Z"
   },
   {
    "duration": 236,
    "start_time": "2023-05-06T15:01:07.949Z"
   },
   {
    "duration": 139,
    "start_time": "2023-05-06T15:01:08.194Z"
   },
   {
    "duration": 163,
    "start_time": "2023-05-06T15:01:08.335Z"
   },
   {
    "duration": 12,
    "start_time": "2023-05-06T15:01:08.503Z"
   },
   {
    "duration": 7,
    "start_time": "2023-05-06T15:01:08.519Z"
   },
   {
    "duration": 10,
    "start_time": "2023-05-06T15:01:08.528Z"
   },
   {
    "duration": 391,
    "start_time": "2023-05-06T15:01:08.540Z"
   },
   {
    "duration": 190,
    "start_time": "2023-05-06T15:01:08.935Z"
   },
   {
    "duration": 9,
    "start_time": "2023-05-06T15:01:09.127Z"
   },
   {
    "duration": 19,
    "start_time": "2023-05-06T15:01:09.138Z"
   },
   {
    "duration": 257,
    "start_time": "2023-05-06T15:01:09.158Z"
   },
   {
    "duration": 3,
    "start_time": "2023-05-06T15:01:09.417Z"
   },
   {
    "duration": 13,
    "start_time": "2023-05-06T15:01:09.423Z"
   },
   {
    "duration": 20,
    "start_time": "2023-05-06T15:01:09.438Z"
   },
   {
    "duration": 277,
    "start_time": "2023-05-06T15:01:09.459Z"
   },
   {
    "duration": 24,
    "start_time": "2023-05-06T15:01:09.737Z"
   },
   {
    "duration": 4,
    "start_time": "2023-05-06T15:01:09.762Z"
   },
   {
    "duration": 49,
    "start_time": "2023-05-06T15:01:09.769Z"
   },
   {
    "duration": 9,
    "start_time": "2023-05-06T15:01:09.820Z"
   },
   {
    "duration": 11,
    "start_time": "2023-05-06T15:01:09.831Z"
   },
   {
    "duration": 13,
    "start_time": "2023-05-06T15:01:09.844Z"
   },
   {
    "duration": 5,
    "start_time": "2023-05-06T15:01:09.859Z"
   },
   {
    "duration": 28,
    "start_time": "2023-05-06T15:01:09.894Z"
   },
   {
    "duration": 18,
    "start_time": "2023-05-06T15:01:09.925Z"
   },
   {
    "duration": 303,
    "start_time": "2023-05-06T15:01:09.945Z"
   },
   {
    "duration": 311,
    "start_time": "2023-05-06T15:01:10.250Z"
   },
   {
    "duration": 2,
    "start_time": "2023-05-06T15:01:10.563Z"
   },
   {
    "duration": 8,
    "start_time": "2023-05-06T15:01:10.567Z"
   },
   {
    "duration": 58,
    "start_time": "2023-05-06T15:01:10.576Z"
   },
   {
    "duration": 42,
    "start_time": "2023-05-06T15:01:42.637Z"
   },
   {
    "duration": 116,
    "start_time": "2023-05-06T15:03:36.741Z"
   },
   {
    "duration": 12,
    "start_time": "2023-05-06T15:03:43.209Z"
   },
   {
    "duration": 16,
    "start_time": "2023-05-06T15:03:59.199Z"
   },
   {
    "duration": 21,
    "start_time": "2023-05-06T15:04:26.315Z"
   },
   {
    "duration": 12,
    "start_time": "2023-05-06T15:05:03.925Z"
   },
   {
    "duration": 14,
    "start_time": "2023-05-06T15:05:13.434Z"
   },
   {
    "duration": 17,
    "start_time": "2023-05-06T15:05:33.522Z"
   },
   {
    "duration": 36,
    "start_time": "2023-05-06T15:05:39.982Z"
   },
   {
    "duration": 24,
    "start_time": "2023-05-06T15:06:02.806Z"
   },
   {
    "duration": 44,
    "start_time": "2023-05-06T15:06:23.532Z"
   },
   {
    "duration": 17,
    "start_time": "2023-05-06T15:06:33.747Z"
   },
   {
    "duration": 14,
    "start_time": "2023-05-06T15:08:15.739Z"
   },
   {
    "duration": 24,
    "start_time": "2023-05-06T15:08:22.773Z"
   },
   {
    "duration": 10,
    "start_time": "2023-05-06T15:08:34.336Z"
   },
   {
    "duration": 12,
    "start_time": "2023-05-06T15:08:42.884Z"
   },
   {
    "duration": 23,
    "start_time": "2023-05-06T15:08:52.606Z"
   },
   {
    "duration": 24,
    "start_time": "2023-05-06T15:09:55.595Z"
   },
   {
    "duration": 21,
    "start_time": "2023-05-06T15:10:28.394Z"
   },
   {
    "duration": 203,
    "start_time": "2023-05-06T15:11:05.851Z"
   },
   {
    "duration": 27,
    "start_time": "2023-05-06T15:11:10.041Z"
   },
   {
    "duration": 26,
    "start_time": "2023-05-06T15:11:33.931Z"
   },
   {
    "duration": 26,
    "start_time": "2023-05-06T15:13:20.571Z"
   },
   {
    "duration": 33,
    "start_time": "2023-05-06T15:14:43.595Z"
   },
   {
    "duration": 25,
    "start_time": "2023-05-06T15:16:22.192Z"
   },
   {
    "duration": 8,
    "start_time": "2023-05-06T15:55:06.714Z"
   },
   {
    "duration": 27,
    "start_time": "2023-05-06T16:13:19.347Z"
   },
   {
    "duration": 32,
    "start_time": "2023-05-06T16:13:42.039Z"
   },
   {
    "duration": 48,
    "start_time": "2023-05-06T17:19:45.715Z"
   },
   {
    "duration": 2,
    "start_time": "2023-05-06T17:31:27.363Z"
   },
   {
    "duration": 3,
    "start_time": "2023-05-06T17:45:09.751Z"
   },
   {
    "duration": 3,
    "start_time": "2023-05-06T17:46:04.668Z"
   },
   {
    "duration": 766,
    "start_time": "2023-05-06T17:46:05.828Z"
   },
   {
    "duration": 2,
    "start_time": "2023-05-06T17:48:00.367Z"
   },
   {
    "duration": 2,
    "start_time": "2023-05-06T17:48:06.505Z"
   },
   {
    "duration": 1641,
    "start_time": "2023-05-06T19:11:53.673Z"
   },
   {
    "duration": 342,
    "start_time": "2023-05-06T19:11:55.320Z"
   },
   {
    "duration": 18,
    "start_time": "2023-05-06T19:11:55.664Z"
   },
   {
    "duration": 21,
    "start_time": "2023-05-06T19:11:55.684Z"
   },
   {
    "duration": 16,
    "start_time": "2023-05-06T19:11:55.709Z"
   },
   {
    "duration": 32,
    "start_time": "2023-05-06T19:11:55.728Z"
   },
   {
    "duration": 11,
    "start_time": "2023-05-06T19:11:55.762Z"
   },
   {
    "duration": 65,
    "start_time": "2023-05-06T19:11:55.775Z"
   },
   {
    "duration": 33,
    "start_time": "2023-05-06T19:11:55.841Z"
   },
   {
    "duration": 25,
    "start_time": "2023-05-06T19:11:55.876Z"
   },
   {
    "duration": 35,
    "start_time": "2023-05-06T19:11:55.903Z"
   },
   {
    "duration": 22,
    "start_time": "2023-05-06T19:11:55.941Z"
   },
   {
    "duration": 34,
    "start_time": "2023-05-06T19:11:55.965Z"
   },
   {
    "duration": 19,
    "start_time": "2023-05-06T19:11:56.008Z"
   },
   {
    "duration": 25,
    "start_time": "2023-05-06T19:11:56.029Z"
   },
   {
    "duration": 22,
    "start_time": "2023-05-06T19:11:56.056Z"
   },
   {
    "duration": 51,
    "start_time": "2023-05-06T19:11:56.081Z"
   },
   {
    "duration": 3,
    "start_time": "2023-05-06T19:11:56.138Z"
   },
   {
    "duration": 20,
    "start_time": "2023-05-06T19:11:56.144Z"
   },
   {
    "duration": 240,
    "start_time": "2023-05-06T19:11:56.165Z"
   },
   {
    "duration": 185,
    "start_time": "2023-05-06T19:11:56.407Z"
   },
   {
    "duration": 192,
    "start_time": "2023-05-06T19:11:56.596Z"
   },
   {
    "duration": 7,
    "start_time": "2023-05-06T19:11:56.790Z"
   },
   {
    "duration": 22,
    "start_time": "2023-05-06T19:11:56.800Z"
   },
   {
    "duration": 18,
    "start_time": "2023-05-06T19:11:56.825Z"
   },
   {
    "duration": 425,
    "start_time": "2023-05-06T19:11:56.847Z"
   },
   {
    "duration": 204,
    "start_time": "2023-05-06T19:11:57.274Z"
   },
   {
    "duration": 29,
    "start_time": "2023-05-06T19:11:57.480Z"
   },
   {
    "duration": 33,
    "start_time": "2023-05-06T19:11:57.515Z"
   },
   {
    "duration": 296,
    "start_time": "2023-05-06T19:11:57.551Z"
   },
   {
    "duration": 3,
    "start_time": "2023-05-06T19:11:57.851Z"
   },
   {
    "duration": 13,
    "start_time": "2023-05-06T19:11:57.856Z"
   },
   {
    "duration": 46,
    "start_time": "2023-05-06T19:11:57.872Z"
   },
   {
    "duration": 334,
    "start_time": "2023-05-06T19:11:57.920Z"
   },
   {
    "duration": 49,
    "start_time": "2023-05-06T19:11:58.259Z"
   },
   {
    "duration": 5,
    "start_time": "2023-05-06T19:11:58.310Z"
   },
   {
    "duration": 19,
    "start_time": "2023-05-06T19:11:58.317Z"
   },
   {
    "duration": 12,
    "start_time": "2023-05-06T19:11:58.338Z"
   },
   {
    "duration": 16,
    "start_time": "2023-05-06T19:11:58.352Z"
   },
   {
    "duration": 40,
    "start_time": "2023-05-06T19:11:58.370Z"
   },
   {
    "duration": 4,
    "start_time": "2023-05-06T19:11:58.415Z"
   },
   {
    "duration": 34,
    "start_time": "2023-05-06T19:11:58.421Z"
   },
   {
    "duration": 20,
    "start_time": "2023-05-06T19:11:58.457Z"
   },
   {
    "duration": 387,
    "start_time": "2023-05-06T19:11:58.479Z"
   },
   {
    "duration": 367,
    "start_time": "2023-05-06T19:11:58.869Z"
   },
   {
    "duration": 3,
    "start_time": "2023-05-06T19:11:59.243Z"
   },
   {
    "duration": 8,
    "start_time": "2023-05-06T19:11:59.248Z"
   },
   {
    "duration": 88,
    "start_time": "2023-05-06T19:11:59.259Z"
   },
   {
    "duration": 7,
    "start_time": "2023-05-06T19:11:59.353Z"
   },
   {
    "duration": 5,
    "start_time": "2023-05-06T19:11:59.362Z"
   },
   {
    "duration": 6,
    "start_time": "2023-05-06T19:11:59.369Z"
   },
   {
    "duration": 6,
    "start_time": "2023-05-06T19:11:59.377Z"
   },
   {
    "duration": 1220,
    "start_time": "2023-05-06T19:21:17.355Z"
   },
   {
    "duration": 3,
    "start_time": "2023-05-06T19:21:24.624Z"
   },
   {
    "duration": 4,
    "start_time": "2023-05-06T19:21:47.245Z"
   },
   {
    "duration": 5,
    "start_time": "2023-05-06T19:21:51.612Z"
   },
   {
    "duration": 1174,
    "start_time": "2023-05-06T19:22:39.284Z"
   },
   {
    "duration": 55,
    "start_time": "2023-05-06T19:26:19.359Z"
   },
   {
    "duration": 1744,
    "start_time": "2023-05-06T19:26:27.313Z"
   },
   {
    "duration": 58,
    "start_time": "2023-05-06T19:28:50.065Z"
   },
   {
    "duration": 1796,
    "start_time": "2023-05-06T19:28:59.311Z"
   },
   {
    "duration": 82,
    "start_time": "2023-05-06T19:30:07.960Z"
   },
   {
    "duration": 91,
    "start_time": "2023-05-06T19:31:11.056Z"
   },
   {
    "duration": 85,
    "start_time": "2023-05-06T19:33:27.370Z"
   },
   {
    "duration": 1244,
    "start_time": "2023-05-06T19:35:43.109Z"
   },
   {
    "duration": 1084,
    "start_time": "2023-05-06T19:38:33.660Z"
   },
   {
    "duration": 1058,
    "start_time": "2023-05-06T19:39:54.122Z"
   },
   {
    "duration": 16,
    "start_time": "2023-05-06T19:41:05.453Z"
   },
   {
    "duration": 37,
    "start_time": "2023-05-06T19:42:16.274Z"
   },
   {
    "duration": 32,
    "start_time": "2023-05-06T19:42:29.114Z"
   },
   {
    "duration": 1119,
    "start_time": "2023-05-06T19:42:43.365Z"
   },
   {
    "duration": 43,
    "start_time": "2023-05-06T19:43:40.413Z"
   },
   {
    "duration": 47,
    "start_time": "2023-05-06T19:43:51.474Z"
   },
   {
    "duration": 1081,
    "start_time": "2023-05-06T19:44:21.685Z"
   },
   {
    "duration": 308,
    "start_time": "2023-05-06T19:47:29.370Z"
   },
   {
    "duration": 269,
    "start_time": "2023-05-06T19:47:39.714Z"
   },
   {
    "duration": 288,
    "start_time": "2023-05-06T19:47:50.666Z"
   },
   {
    "duration": 47,
    "start_time": "2023-05-06T19:47:58.424Z"
   },
   {
    "duration": 75,
    "start_time": "2023-05-06T19:48:43.466Z"
   },
   {
    "duration": 66,
    "start_time": "2023-05-06T19:48:57.400Z"
   },
   {
    "duration": 9,
    "start_time": "2023-05-06T19:49:09.522Z"
   },
   {
    "duration": 15,
    "start_time": "2023-05-06T19:50:04.524Z"
   },
   {
    "duration": 1298,
    "start_time": "2023-05-07T10:49:59.394Z"
   },
   {
    "duration": 227,
    "start_time": "2023-05-07T10:50:00.694Z"
   },
   {
    "duration": 13,
    "start_time": "2023-05-07T10:50:00.923Z"
   },
   {
    "duration": 35,
    "start_time": "2023-05-07T10:50:00.938Z"
   },
   {
    "duration": 26,
    "start_time": "2023-05-07T10:50:00.975Z"
   },
   {
    "duration": 40,
    "start_time": "2023-05-07T10:50:01.003Z"
   },
   {
    "duration": 29,
    "start_time": "2023-05-07T10:50:01.045Z"
   },
   {
    "duration": 29,
    "start_time": "2023-05-07T10:50:01.076Z"
   },
   {
    "duration": 33,
    "start_time": "2023-05-07T10:50:01.107Z"
   },
   {
    "duration": 54,
    "start_time": "2023-05-07T10:50:01.143Z"
   },
   {
    "duration": 25,
    "start_time": "2023-05-07T10:50:01.199Z"
   },
   {
    "duration": 30,
    "start_time": "2023-05-07T10:50:01.226Z"
   },
   {
    "duration": 33,
    "start_time": "2023-05-07T10:50:01.257Z"
   },
   {
    "duration": 40,
    "start_time": "2023-05-07T10:50:01.292Z"
   },
   {
    "duration": 24,
    "start_time": "2023-05-07T10:50:01.334Z"
   },
   {
    "duration": 62,
    "start_time": "2023-05-07T10:50:01.360Z"
   },
   {
    "duration": 87,
    "start_time": "2023-05-07T10:50:01.425Z"
   },
   {
    "duration": 35,
    "start_time": "2023-05-07T10:50:01.514Z"
   },
   {
    "duration": 51,
    "start_time": "2023-05-07T10:50:01.550Z"
   },
   {
    "duration": 217,
    "start_time": "2023-05-07T10:50:01.602Z"
   },
   {
    "duration": 107,
    "start_time": "2023-05-07T10:50:01.821Z"
   },
   {
    "duration": 134,
    "start_time": "2023-05-07T10:50:01.930Z"
   },
   {
    "duration": 4,
    "start_time": "2023-05-07T10:50:02.066Z"
   },
   {
    "duration": 29,
    "start_time": "2023-05-07T10:50:02.071Z"
   },
   {
    "duration": 47,
    "start_time": "2023-05-07T10:50:02.101Z"
   },
   {
    "duration": 272,
    "start_time": "2023-05-07T10:50:02.149Z"
   },
   {
    "duration": 143,
    "start_time": "2023-05-07T10:50:02.422Z"
   },
   {
    "duration": 8,
    "start_time": "2023-05-07T10:50:02.568Z"
   },
   {
    "duration": 42,
    "start_time": "2023-05-07T10:50:02.578Z"
   },
   {
    "duration": 188,
    "start_time": "2023-05-07T10:50:02.622Z"
   },
   {
    "duration": 3,
    "start_time": "2023-05-07T10:50:02.811Z"
   },
   {
    "duration": 14,
    "start_time": "2023-05-07T10:50:02.815Z"
   },
   {
    "duration": 17,
    "start_time": "2023-05-07T10:50:02.830Z"
   },
   {
    "duration": 249,
    "start_time": "2023-05-07T10:50:02.849Z"
   },
   {
    "duration": 22,
    "start_time": "2023-05-07T10:50:03.100Z"
   },
   {
    "duration": 3,
    "start_time": "2023-05-07T10:50:03.123Z"
   },
   {
    "duration": 15,
    "start_time": "2023-05-07T10:50:03.128Z"
   },
   {
    "duration": 21,
    "start_time": "2023-05-07T10:50:03.145Z"
   },
   {
    "duration": 12,
    "start_time": "2023-05-07T10:50:03.167Z"
   },
   {
    "duration": 17,
    "start_time": "2023-05-07T10:50:03.194Z"
   },
   {
    "duration": 4,
    "start_time": "2023-05-07T10:50:03.213Z"
   },
   {
    "duration": 16,
    "start_time": "2023-05-07T10:50:03.219Z"
   },
   {
    "duration": 15,
    "start_time": "2023-05-07T10:50:03.236Z"
   },
   {
    "duration": 272,
    "start_time": "2023-05-07T10:50:03.253Z"
   },
   {
    "duration": 245,
    "start_time": "2023-05-07T10:50:03.527Z"
   },
   {
    "duration": 43,
    "start_time": "2023-05-07T10:50:03.773Z"
   },
   {
    "duration": 2,
    "start_time": "2023-05-07T10:50:03.817Z"
   },
   {
    "duration": 13,
    "start_time": "2023-05-07T10:50:03.821Z"
   },
   {
    "duration": 6,
    "start_time": "2023-05-07T10:50:03.836Z"
   },
   {
    "duration": 6,
    "start_time": "2023-05-07T10:50:03.844Z"
   },
   {
    "duration": 5,
    "start_time": "2023-05-07T10:50:24.255Z"
   },
   {
    "duration": 3,
    "start_time": "2023-05-07T10:50:35.851Z"
   },
   {
    "duration": 13,
    "start_time": "2023-05-07T10:50:54.359Z"
   },
   {
    "duration": 817,
    "start_time": "2023-05-07T10:52:40.503Z"
   },
   {
    "duration": 821,
    "start_time": "2023-05-07T10:52:47.841Z"
   },
   {
    "duration": 34,
    "start_time": "2023-05-07T10:54:00.341Z"
   },
   {
    "duration": 11,
    "start_time": "2023-05-07T10:54:10.923Z"
   },
   {
    "duration": 20,
    "start_time": "2023-05-07T10:54:18.957Z"
   },
   {
    "duration": 5,
    "start_time": "2023-05-07T10:54:56.701Z"
   },
   {
    "duration": 11,
    "start_time": "2023-05-07T10:54:57.820Z"
   },
   {
    "duration": 20,
    "start_time": "2023-05-07T10:54:58.889Z"
   },
   {
    "duration": 16,
    "start_time": "2023-05-07T10:55:13.418Z"
   },
   {
    "duration": 740,
    "start_time": "2023-05-07T10:55:15.449Z"
   },
   {
    "duration": 3,
    "start_time": "2023-05-07T10:59:04.381Z"
   },
   {
    "duration": 46,
    "start_time": "2023-05-07T11:02:39.037Z"
   },
   {
    "duration": 62,
    "start_time": "2023-05-07T11:02:53.766Z"
   },
   {
    "duration": 3,
    "start_time": "2023-05-07T11:03:52.458Z"
   },
   {
    "duration": 23,
    "start_time": "2023-05-07T11:03:55.316Z"
   },
   {
    "duration": 24,
    "start_time": "2023-05-07T11:04:04.094Z"
   },
   {
    "duration": 782,
    "start_time": "2023-05-07T11:04:21.794Z"
   },
   {
    "duration": 2,
    "start_time": "2023-05-07T11:04:44.155Z"
   },
   {
    "duration": 14963,
    "start_time": "2023-05-07T11:05:32.655Z"
   },
   {
    "duration": 13,
    "start_time": "2023-05-07T11:06:57.221Z"
   },
   {
    "duration": 3,
    "start_time": "2023-05-07T11:07:57.246Z"
   },
   {
    "duration": 0,
    "start_time": "2023-05-07T11:08:17.754Z"
   },
   {
    "duration": 0,
    "start_time": "2023-05-07T11:08:17.755Z"
   },
   {
    "duration": 5,
    "start_time": "2023-05-07T11:08:36.791Z"
   },
   {
    "duration": 14519,
    "start_time": "2023-05-07T11:08:38.818Z"
   },
   {
    "duration": 5,
    "start_time": "2023-05-07T11:12:06.163Z"
   },
   {
    "duration": 15470,
    "start_time": "2023-05-07T11:12:09.654Z"
   },
   {
    "duration": 5,
    "start_time": "2023-05-07T11:13:08.335Z"
   },
   {
    "duration": 755,
    "start_time": "2023-05-07T11:13:17.291Z"
   },
   {
    "duration": 3,
    "start_time": "2023-05-07T11:13:54.497Z"
   },
   {
    "duration": 7,
    "start_time": "2023-05-07T11:16:46.034Z"
   },
   {
    "duration": 5,
    "start_time": "2023-05-07T11:19:39.234Z"
   },
   {
    "duration": 17,
    "start_time": "2023-05-07T11:20:03.774Z"
   },
   {
    "duration": 8,
    "start_time": "2023-05-07T11:20:37.426Z"
   },
   {
    "duration": 25013,
    "start_time": "2023-05-07T11:20:38.804Z"
   },
   {
    "duration": 5,
    "start_time": "2023-05-07T11:22:26.507Z"
   },
   {
    "duration": 3,
    "start_time": "2023-05-07T11:22:57.973Z"
   },
   {
    "duration": 4,
    "start_time": "2023-05-07T11:23:55.932Z"
   },
   {
    "duration": 23,
    "start_time": "2023-05-07T11:24:11.793Z"
   },
   {
    "duration": 17,
    "start_time": "2023-05-07T11:24:17.020Z"
   },
   {
    "duration": 12535,
    "start_time": "2023-05-07T11:27:05.092Z"
   },
   {
    "duration": 13,
    "start_time": "2023-05-07T11:27:36.067Z"
   },
   {
    "duration": 50,
    "start_time": "2023-05-07T13:21:30.404Z"
   },
   {
    "duration": 1338,
    "start_time": "2023-05-07T13:21:37.303Z"
   },
   {
    "duration": 219,
    "start_time": "2023-05-07T13:21:38.643Z"
   },
   {
    "duration": 17,
    "start_time": "2023-05-07T13:21:38.864Z"
   },
   {
    "duration": 17,
    "start_time": "2023-05-07T13:21:38.883Z"
   },
   {
    "duration": 16,
    "start_time": "2023-05-07T13:21:38.903Z"
   },
   {
    "duration": 20,
    "start_time": "2023-05-07T13:21:38.922Z"
   },
   {
    "duration": 21,
    "start_time": "2023-05-07T13:21:38.944Z"
   },
   {
    "duration": 15,
    "start_time": "2023-05-07T13:21:38.967Z"
   },
   {
    "duration": 41,
    "start_time": "2023-05-07T13:21:38.984Z"
   },
   {
    "duration": 22,
    "start_time": "2023-05-07T13:21:39.029Z"
   },
   {
    "duration": 7,
    "start_time": "2023-05-07T13:21:39.054Z"
   },
   {
    "duration": 5,
    "start_time": "2023-05-07T13:21:39.063Z"
   },
   {
    "duration": 29,
    "start_time": "2023-05-07T13:21:39.070Z"
   },
   {
    "duration": 16,
    "start_time": "2023-05-07T13:21:39.101Z"
   },
   {
    "duration": 14,
    "start_time": "2023-05-07T13:21:39.119Z"
   },
   {
    "duration": 24,
    "start_time": "2023-05-07T13:21:39.135Z"
   },
   {
    "duration": 19,
    "start_time": "2023-05-07T13:21:39.161Z"
   },
   {
    "duration": 3,
    "start_time": "2023-05-07T13:21:39.182Z"
   },
   {
    "duration": 10,
    "start_time": "2023-05-07T13:21:39.187Z"
   },
   {
    "duration": 188,
    "start_time": "2023-05-07T13:21:39.198Z"
   },
   {
    "duration": 111,
    "start_time": "2023-05-07T13:21:39.388Z"
   },
   {
    "duration": 155,
    "start_time": "2023-05-07T13:21:39.500Z"
   },
   {
    "duration": 4,
    "start_time": "2023-05-07T13:21:39.657Z"
   },
   {
    "duration": 7,
    "start_time": "2023-05-07T13:21:39.663Z"
   },
   {
    "duration": 10,
    "start_time": "2023-05-07T13:21:39.672Z"
   },
   {
    "duration": 329,
    "start_time": "2023-05-07T13:21:39.683Z"
   },
   {
    "duration": 169,
    "start_time": "2023-05-07T13:21:40.014Z"
   },
   {
    "duration": 9,
    "start_time": "2023-05-07T13:21:40.186Z"
   },
   {
    "duration": 31,
    "start_time": "2023-05-07T13:21:40.196Z"
   },
   {
    "duration": 291,
    "start_time": "2023-05-07T13:21:40.229Z"
   },
   {
    "duration": 3,
    "start_time": "2023-05-07T13:21:40.521Z"
   },
   {
    "duration": 12,
    "start_time": "2023-05-07T13:21:40.526Z"
   },
   {
    "duration": 21,
    "start_time": "2023-05-07T13:21:40.540Z"
   },
   {
    "duration": 204,
    "start_time": "2023-05-07T13:21:40.563Z"
   },
   {
    "duration": 25,
    "start_time": "2023-05-07T13:21:40.768Z"
   },
   {
    "duration": 19,
    "start_time": "2023-05-07T13:21:40.794Z"
   },
   {
    "duration": 14,
    "start_time": "2023-05-07T13:21:40.814Z"
   },
   {
    "duration": 9,
    "start_time": "2023-05-07T13:21:40.830Z"
   },
   {
    "duration": 12,
    "start_time": "2023-05-07T13:21:40.841Z"
   },
   {
    "duration": 20,
    "start_time": "2023-05-07T13:21:40.854Z"
   },
   {
    "duration": 8,
    "start_time": "2023-05-07T13:21:40.875Z"
   },
   {
    "duration": 39,
    "start_time": "2023-05-07T13:21:40.885Z"
   },
   {
    "duration": 17,
    "start_time": "2023-05-07T13:21:40.927Z"
   },
   {
    "duration": 281,
    "start_time": "2023-05-07T13:21:40.945Z"
   },
   {
    "duration": 285,
    "start_time": "2023-05-07T13:21:41.228Z"
   },
   {
    "duration": 39,
    "start_time": "2023-05-07T13:21:41.515Z"
   },
   {
    "duration": 11,
    "start_time": "2023-05-07T13:21:41.555Z"
   },
   {
    "duration": 3,
    "start_time": "2023-05-07T13:21:41.568Z"
   },
   {
    "duration": 40,
    "start_time": "2023-05-07T13:21:41.573Z"
   },
   {
    "duration": 11764,
    "start_time": "2023-05-07T13:21:41.615Z"
   },
   {
    "duration": 12,
    "start_time": "2023-05-07T13:21:53.380Z"
   },
   {
    "duration": 6,
    "start_time": "2023-05-07T13:42:21.738Z"
   },
   {
    "duration": 34,
    "start_time": "2023-05-07T13:43:01.459Z"
   },
   {
    "duration": 11,
    "start_time": "2023-05-07T13:43:08.941Z"
   },
   {
    "duration": 9,
    "start_time": "2023-05-07T13:43:14.877Z"
   },
   {
    "duration": 9,
    "start_time": "2023-05-07T13:50:17.311Z"
   },
   {
    "duration": 8,
    "start_time": "2023-05-07T13:50:33.161Z"
   },
   {
    "duration": 3,
    "start_time": "2023-05-07T13:53:26.537Z"
   },
   {
    "duration": 7,
    "start_time": "2023-05-07T13:56:39.827Z"
   },
   {
    "duration": 316,
    "start_time": "2023-05-07T13:58:19.719Z"
   },
   {
    "duration": 310,
    "start_time": "2023-05-07T14:00:55.282Z"
   },
   {
    "duration": 391,
    "start_time": "2023-05-07T14:01:00.789Z"
   },
   {
    "duration": 632,
    "start_time": "2023-05-07T14:30:33.920Z"
   },
   {
    "duration": 5,
    "start_time": "2023-05-07T14:31:03.817Z"
   },
   {
    "duration": 17,
    "start_time": "2023-05-07T14:31:12.813Z"
   },
   {
    "duration": 9,
    "start_time": "2023-05-07T14:31:27.161Z"
   },
   {
    "duration": 11,
    "start_time": "2023-05-07T14:32:15.101Z"
   },
   {
    "duration": 12,
    "start_time": "2023-05-07T14:32:47.451Z"
   },
   {
    "duration": 14,
    "start_time": "2023-05-07T14:35:53.990Z"
   },
   {
    "duration": 820,
    "start_time": "2023-05-07T14:36:21.569Z"
   },
   {
    "duration": 7,
    "start_time": "2023-05-07T16:07:32.601Z"
   },
   {
    "duration": 5,
    "start_time": "2023-05-07T16:10:19.328Z"
   },
   {
    "duration": 6,
    "start_time": "2023-05-07T16:10:23.650Z"
   },
   {
    "duration": 11,
    "start_time": "2023-05-07T16:13:11.735Z"
   },
   {
    "duration": 7,
    "start_time": "2023-05-07T16:13:32.254Z"
   },
   {
    "duration": 7,
    "start_time": "2023-05-07T16:14:38.389Z"
   },
   {
    "duration": 6,
    "start_time": "2023-05-07T16:15:18.114Z"
   },
   {
    "duration": 3,
    "start_time": "2023-05-07T16:16:17.402Z"
   },
   {
    "duration": 5,
    "start_time": "2023-05-07T16:16:35.279Z"
   },
   {
    "duration": 2,
    "start_time": "2023-05-07T17:12:25.463Z"
   },
   {
    "duration": 2,
    "start_time": "2023-05-07T17:12:29.250Z"
   },
   {
    "duration": 2,
    "start_time": "2023-05-07T17:14:21.735Z"
   },
   {
    "duration": 7,
    "start_time": "2023-05-07T17:16:47.143Z"
   },
   {
    "duration": 11,
    "start_time": "2023-05-07T17:17:05.115Z"
   },
   {
    "duration": 5,
    "start_time": "2023-05-07T17:25:07.604Z"
   },
   {
    "duration": 6,
    "start_time": "2023-05-07T17:25:17.681Z"
   },
   {
    "duration": 17,
    "start_time": "2023-05-07T17:25:32.853Z"
   },
   {
    "duration": 6,
    "start_time": "2023-05-07T17:25:48.590Z"
   },
   {
    "duration": 5,
    "start_time": "2023-05-07T17:36:54.325Z"
   },
   {
    "duration": 6,
    "start_time": "2023-05-07T17:37:40.326Z"
   },
   {
    "duration": 8,
    "start_time": "2023-05-07T17:38:13.422Z"
   },
   {
    "duration": 8,
    "start_time": "2023-05-07T17:38:24.209Z"
   },
   {
    "duration": 6,
    "start_time": "2023-05-07T17:38:49.285Z"
   },
   {
    "duration": 7,
    "start_time": "2023-05-07T17:39:38.505Z"
   },
   {
    "duration": 9,
    "start_time": "2023-05-07T17:44:16.767Z"
   },
   {
    "duration": 6,
    "start_time": "2023-05-07T17:48:20.360Z"
   },
   {
    "duration": 6,
    "start_time": "2023-05-07T17:48:59.951Z"
   },
   {
    "duration": 3,
    "start_time": "2023-05-07T17:49:31.193Z"
   },
   {
    "duration": 6,
    "start_time": "2023-05-07T17:51:45.728Z"
   },
   {
    "duration": 5,
    "start_time": "2023-05-07T17:51:53.091Z"
   },
   {
    "duration": 14,
    "start_time": "2023-05-07T17:55:17.705Z"
   },
   {
    "duration": 1571,
    "start_time": "2023-05-08T10:33:08.231Z"
   },
   {
    "duration": 329,
    "start_time": "2023-05-08T10:33:09.805Z"
   },
   {
    "duration": 26,
    "start_time": "2023-05-08T10:33:10.136Z"
   },
   {
    "duration": 29,
    "start_time": "2023-05-08T10:33:10.165Z"
   },
   {
    "duration": 20,
    "start_time": "2023-05-08T10:33:10.197Z"
   },
   {
    "duration": 54,
    "start_time": "2023-05-08T10:33:10.219Z"
   },
   {
    "duration": 38,
    "start_time": "2023-05-08T10:33:10.275Z"
   },
   {
    "duration": 24,
    "start_time": "2023-05-08T10:33:10.315Z"
   },
   {
    "duration": 46,
    "start_time": "2023-05-08T10:33:10.341Z"
   },
   {
    "duration": 15,
    "start_time": "2023-05-08T10:33:10.391Z"
   },
   {
    "duration": 15,
    "start_time": "2023-05-08T10:33:10.408Z"
   },
   {
    "duration": 9,
    "start_time": "2023-05-08T10:33:10.425Z"
   },
   {
    "duration": 30,
    "start_time": "2023-05-08T10:33:10.436Z"
   },
   {
    "duration": 17,
    "start_time": "2023-05-08T10:33:10.468Z"
   },
   {
    "duration": 19,
    "start_time": "2023-05-08T10:33:10.486Z"
   },
   {
    "duration": 32,
    "start_time": "2023-05-08T10:33:10.507Z"
   },
   {
    "duration": 42,
    "start_time": "2023-05-08T10:33:10.541Z"
   },
   {
    "duration": 4,
    "start_time": "2023-05-08T10:33:10.586Z"
   },
   {
    "duration": 19,
    "start_time": "2023-05-08T10:33:10.592Z"
   },
   {
    "duration": 197,
    "start_time": "2023-05-08T10:33:10.612Z"
   },
   {
    "duration": 151,
    "start_time": "2023-05-08T10:33:10.811Z"
   },
   {
    "duration": 187,
    "start_time": "2023-05-08T10:33:10.964Z"
   },
   {
    "duration": 9,
    "start_time": "2023-05-08T10:33:11.156Z"
   },
   {
    "duration": 32,
    "start_time": "2023-05-08T10:33:11.168Z"
   },
   {
    "duration": 25,
    "start_time": "2023-05-08T10:33:11.202Z"
   },
   {
    "duration": 385,
    "start_time": "2023-05-08T10:33:11.229Z"
   },
   {
    "duration": 216,
    "start_time": "2023-05-08T10:33:11.616Z"
   },
   {
    "duration": 12,
    "start_time": "2023-05-08T10:33:11.840Z"
   },
   {
    "duration": 43,
    "start_time": "2023-05-08T10:33:11.858Z"
   },
   {
    "duration": 365,
    "start_time": "2023-05-08T10:33:11.903Z"
   },
   {
    "duration": 3,
    "start_time": "2023-05-08T10:33:12.270Z"
   },
   {
    "duration": 76,
    "start_time": "2023-05-08T10:33:12.276Z"
   },
   {
    "duration": 41,
    "start_time": "2023-05-08T10:33:12.354Z"
   },
   {
    "duration": 300,
    "start_time": "2023-05-08T10:33:12.398Z"
   },
   {
    "duration": 48,
    "start_time": "2023-05-08T10:33:12.701Z"
   },
   {
    "duration": 42,
    "start_time": "2023-05-08T10:33:12.751Z"
   },
   {
    "duration": 22,
    "start_time": "2023-05-08T10:33:12.795Z"
   },
   {
    "duration": 30,
    "start_time": "2023-05-08T10:33:12.820Z"
   },
   {
    "duration": 46,
    "start_time": "2023-05-08T10:33:12.851Z"
   },
   {
    "duration": 50,
    "start_time": "2023-05-08T10:33:12.899Z"
   },
   {
    "duration": 41,
    "start_time": "2023-05-08T10:33:12.953Z"
   },
   {
    "duration": 34,
    "start_time": "2023-05-08T10:33:12.996Z"
   },
   {
    "duration": 31,
    "start_time": "2023-05-08T10:33:13.033Z"
   },
   {
    "duration": 353,
    "start_time": "2023-05-08T10:33:13.066Z"
   },
   {
    "duration": 335,
    "start_time": "2023-05-08T10:33:13.422Z"
   },
   {
    "duration": 46,
    "start_time": "2023-05-08T10:33:13.759Z"
   },
   {
    "duration": 13,
    "start_time": "2023-05-08T10:33:13.807Z"
   },
   {
    "duration": 12,
    "start_time": "2023-05-08T10:33:13.845Z"
   },
   {
    "duration": 24,
    "start_time": "2023-05-08T10:33:13.859Z"
   },
   {
    "duration": 13098,
    "start_time": "2023-05-08T10:33:13.885Z"
   },
   {
    "duration": 13,
    "start_time": "2023-05-08T10:33:26.985Z"
   },
   {
    "duration": 7,
    "start_time": "2023-05-08T10:33:27.000Z"
   },
   {
    "duration": 21,
    "start_time": "2023-05-08T10:33:27.008Z"
   },
   {
    "duration": 23,
    "start_time": "2023-05-08T10:33:27.031Z"
   },
   {
    "duration": 28,
    "start_time": "2023-05-08T10:33:27.060Z"
   },
   {
    "duration": 5,
    "start_time": "2023-05-08T10:33:27.091Z"
   },
   {
    "duration": 19,
    "start_time": "2023-05-08T10:33:27.098Z"
   },
   {
    "duration": 18,
    "start_time": "2023-05-08T10:37:01.025Z"
   },
   {
    "duration": 21,
    "start_time": "2023-05-08T10:37:21.883Z"
   },
   {
    "duration": 19,
    "start_time": "2023-05-08T10:37:30.186Z"
   },
   {
    "duration": 20,
    "start_time": "2023-05-08T10:38:21.064Z"
   },
   {
    "duration": 21,
    "start_time": "2023-05-08T10:38:29.511Z"
   },
   {
    "duration": 5,
    "start_time": "2023-05-08T10:39:19.076Z"
   },
   {
    "duration": 28,
    "start_time": "2023-05-08T10:40:01.667Z"
   },
   {
    "duration": 27,
    "start_time": "2023-05-08T10:40:24.775Z"
   },
   {
    "duration": 8,
    "start_time": "2023-05-08T10:42:30.390Z"
   },
   {
    "duration": 10,
    "start_time": "2023-05-08T10:44:46.598Z"
   },
   {
    "duration": 10,
    "start_time": "2023-05-08T10:46:50.993Z"
   },
   {
    "duration": 17,
    "start_time": "2023-05-08T10:47:27.610Z"
   },
   {
    "duration": 13,
    "start_time": "2023-05-08T10:47:35.842Z"
   },
   {
    "duration": 8,
    "start_time": "2023-05-08T10:48:20.250Z"
   },
   {
    "duration": 974,
    "start_time": "2023-05-08T10:49:55.079Z"
   },
   {
    "duration": 478,
    "start_time": "2023-05-08T10:50:23.103Z"
   },
   {
    "duration": 253,
    "start_time": "2023-05-08T10:50:43.315Z"
   },
   {
    "duration": 141,
    "start_time": "2023-05-08T10:51:04.776Z"
   },
   {
    "duration": 151,
    "start_time": "2023-05-08T10:51:24.431Z"
   },
   {
    "duration": 11,
    "start_time": "2023-05-08T10:53:19.630Z"
   },
   {
    "duration": 22,
    "start_time": "2023-05-08T10:55:22.486Z"
   },
   {
    "duration": 23,
    "start_time": "2023-05-08T10:57:32.134Z"
   },
   {
    "duration": 3,
    "start_time": "2023-05-08T10:57:38.714Z"
   },
   {
    "duration": 22,
    "start_time": "2023-05-08T10:58:04.013Z"
   },
   {
    "duration": 27,
    "start_time": "2023-05-08T10:58:13.415Z"
   },
   {
    "duration": 25,
    "start_time": "2023-05-08T10:58:22.976Z"
   },
   {
    "duration": 22,
    "start_time": "2023-05-08T10:58:28.376Z"
   },
   {
    "duration": 664,
    "start_time": "2023-05-08T10:58:51.149Z"
   },
   {
    "duration": 6,
    "start_time": "2023-05-08T10:59:22.791Z"
   },
   {
    "duration": 215,
    "start_time": "2023-05-08T11:00:28.264Z"
   },
   {
    "duration": 7,
    "start_time": "2023-05-08T11:00:53.700Z"
   },
   {
    "duration": 1336,
    "start_time": "2023-05-08T13:46:31.281Z"
   },
   {
    "duration": 5,
    "start_time": "2023-05-08T13:46:52.992Z"
   },
   {
    "duration": 3,
    "start_time": "2023-05-08T14:37:57.227Z"
   },
   {
    "duration": 101,
    "start_time": "2023-05-08T14:38:22.648Z"
   },
   {
    "duration": 1126,
    "start_time": "2023-05-08T14:38:41.477Z"
   },
   {
    "duration": 201,
    "start_time": "2023-05-08T14:38:42.605Z"
   },
   {
    "duration": 14,
    "start_time": "2023-05-08T14:38:42.808Z"
   },
   {
    "duration": 23,
    "start_time": "2023-05-08T14:38:42.824Z"
   },
   {
    "duration": 14,
    "start_time": "2023-05-08T14:38:42.849Z"
   },
   {
    "duration": 12,
    "start_time": "2023-05-08T14:38:42.865Z"
   },
   {
    "duration": 7,
    "start_time": "2023-05-08T14:38:42.879Z"
   },
   {
    "duration": 11,
    "start_time": "2023-05-08T14:38:42.887Z"
   },
   {
    "duration": 15,
    "start_time": "2023-05-08T14:38:42.900Z"
   },
   {
    "duration": 13,
    "start_time": "2023-05-08T14:38:42.917Z"
   },
   {
    "duration": 5,
    "start_time": "2023-05-08T14:38:42.931Z"
   },
   {
    "duration": 9,
    "start_time": "2023-05-08T14:38:42.938Z"
   },
   {
    "duration": 6,
    "start_time": "2023-05-08T14:38:42.948Z"
   },
   {
    "duration": 8,
    "start_time": "2023-05-08T14:38:42.986Z"
   },
   {
    "duration": 6,
    "start_time": "2023-05-08T14:38:42.995Z"
   },
   {
    "duration": 10,
    "start_time": "2023-05-08T14:38:43.002Z"
   },
   {
    "duration": 11,
    "start_time": "2023-05-08T14:38:43.013Z"
   },
   {
    "duration": 10,
    "start_time": "2023-05-08T14:38:43.025Z"
   },
   {
    "duration": 16,
    "start_time": "2023-05-08T14:38:43.036Z"
   },
   {
    "duration": 198,
    "start_time": "2023-05-08T14:38:43.054Z"
   },
   {
    "duration": 119,
    "start_time": "2023-05-08T14:38:43.254Z"
   },
   {
    "duration": 138,
    "start_time": "2023-05-08T14:38:43.374Z"
   },
   {
    "duration": 4,
    "start_time": "2023-05-08T14:38:43.514Z"
   },
   {
    "duration": 16,
    "start_time": "2023-05-08T14:38:43.519Z"
   },
   {
    "duration": 26,
    "start_time": "2023-05-08T14:38:43.537Z"
   },
   {
    "duration": 299,
    "start_time": "2023-05-08T14:38:43.565Z"
   },
   {
    "duration": 179,
    "start_time": "2023-05-08T14:38:43.865Z"
   },
   {
    "duration": 11,
    "start_time": "2023-05-08T14:38:44.050Z"
   },
   {
    "duration": 44,
    "start_time": "2023-05-08T14:38:44.063Z"
   },
   {
    "duration": 258,
    "start_time": "2023-05-08T14:38:44.110Z"
   },
   {
    "duration": 2,
    "start_time": "2023-05-08T14:38:44.370Z"
   },
   {
    "duration": 24,
    "start_time": "2023-05-08T14:38:44.373Z"
   },
   {
    "duration": 18,
    "start_time": "2023-05-08T14:38:44.398Z"
   },
   {
    "duration": 248,
    "start_time": "2023-05-08T14:38:44.418Z"
   },
   {
    "duration": 35,
    "start_time": "2023-05-08T14:38:44.667Z"
   },
   {
    "duration": 4,
    "start_time": "2023-05-08T14:38:44.704Z"
   },
   {
    "duration": 20,
    "start_time": "2023-05-08T14:38:44.710Z"
   },
   {
    "duration": 14,
    "start_time": "2023-05-08T14:38:44.732Z"
   },
   {
    "duration": 15,
    "start_time": "2023-05-08T14:38:44.748Z"
   },
   {
    "duration": 29,
    "start_time": "2023-05-08T14:38:44.765Z"
   },
   {
    "duration": 17,
    "start_time": "2023-05-08T14:38:44.796Z"
   },
   {
    "duration": 21,
    "start_time": "2023-05-08T14:38:44.815Z"
   },
   {
    "duration": 17,
    "start_time": "2023-05-08T14:38:44.838Z"
   },
   {
    "duration": 261,
    "start_time": "2023-05-08T14:38:44.856Z"
   },
   {
    "duration": 263,
    "start_time": "2023-05-08T14:38:45.119Z"
   },
   {
    "duration": 38,
    "start_time": "2023-05-08T14:38:45.385Z"
   },
   {
    "duration": 11,
    "start_time": "2023-05-08T14:38:45.424Z"
   },
   {
    "duration": 6,
    "start_time": "2023-05-08T14:38:45.437Z"
   },
   {
    "duration": 14,
    "start_time": "2023-05-08T14:38:45.444Z"
   },
   {
    "duration": 11076,
    "start_time": "2023-05-08T14:38:45.460Z"
   },
   {
    "duration": 12,
    "start_time": "2023-05-08T14:38:56.538Z"
   },
   {
    "duration": 4,
    "start_time": "2023-05-08T14:38:56.552Z"
   },
   {
    "duration": 7,
    "start_time": "2023-05-08T14:38:56.557Z"
   },
   {
    "duration": 24,
    "start_time": "2023-05-08T14:38:56.565Z"
   },
   {
    "duration": 8,
    "start_time": "2023-05-08T14:38:56.591Z"
   },
   {
    "duration": 5,
    "start_time": "2023-05-08T14:38:56.600Z"
   },
   {
    "duration": 5,
    "start_time": "2023-05-08T14:38:56.607Z"
   },
   {
    "duration": 4,
    "start_time": "2023-05-08T14:38:56.614Z"
   },
   {
    "duration": 18,
    "start_time": "2023-05-08T14:38:56.620Z"
   },
   {
    "duration": 5,
    "start_time": "2023-05-08T14:38:56.640Z"
   },
   {
    "duration": 7,
    "start_time": "2023-05-08T14:38:56.646Z"
   },
   {
    "duration": 145,
    "start_time": "2023-05-08T14:39:25.761Z"
   },
   {
    "duration": 104,
    "start_time": "2023-05-08T14:39:55.744Z"
   },
   {
    "duration": 16,
    "start_time": "2023-05-08T14:40:11.877Z"
   },
   {
    "duration": 10,
    "start_time": "2023-05-08T14:40:16.101Z"
   },
   {
    "duration": 19,
    "start_time": "2023-05-08T14:41:25.883Z"
   },
   {
    "duration": 8,
    "start_time": "2023-05-08T14:41:45.547Z"
   },
   {
    "duration": 6,
    "start_time": "2023-05-08T14:41:49.759Z"
   },
   {
    "duration": 9,
    "start_time": "2023-05-08T14:41:55.626Z"
   },
   {
    "duration": 282,
    "start_time": "2023-05-08T14:42:23.824Z"
   },
   {
    "duration": 129,
    "start_time": "2023-05-08T14:42:30.881Z"
   },
   {
    "duration": 7,
    "start_time": "2023-05-08T14:44:05.849Z"
   },
   {
    "duration": 319,
    "start_time": "2023-05-08T14:44:20.433Z"
   },
   {
    "duration": 373,
    "start_time": "2023-05-08T14:45:14.998Z"
   },
   {
    "duration": 354,
    "start_time": "2023-05-08T14:45:42.428Z"
   },
   {
    "duration": 32,
    "start_time": "2023-05-08T14:47:27.544Z"
   },
   {
    "duration": 210,
    "start_time": "2023-05-08T14:47:44.730Z"
   },
   {
    "duration": 22,
    "start_time": "2023-05-08T14:50:40.074Z"
   },
   {
    "duration": 180,
    "start_time": "2023-05-08T14:50:51.788Z"
   },
   {
    "duration": 9,
    "start_time": "2023-05-08T14:53:35.799Z"
   },
   {
    "duration": 15,
    "start_time": "2023-05-08T14:54:08.454Z"
   },
   {
    "duration": 16,
    "start_time": "2023-05-08T14:54:16.900Z"
   },
   {
    "duration": 241,
    "start_time": "2023-05-08T14:54:26.186Z"
   },
   {
    "duration": 38,
    "start_time": "2023-05-08T16:01:47.927Z"
   },
   {
    "duration": 12431,
    "start_time": "2023-05-08T16:03:22.676Z"
   },
   {
    "duration": 6,
    "start_time": "2023-05-08T16:08:53.459Z"
   },
   {
    "duration": 7,
    "start_time": "2023-05-08T16:09:53.782Z"
   },
   {
    "duration": 6,
    "start_time": "2023-05-08T16:10:02.854Z"
   },
   {
    "duration": 7,
    "start_time": "2023-05-08T16:10:14.212Z"
   },
   {
    "duration": 7,
    "start_time": "2023-05-08T16:12:05.078Z"
   },
   {
    "duration": 6,
    "start_time": "2023-05-08T16:13:18.034Z"
   },
   {
    "duration": 14,
    "start_time": "2023-05-08T16:13:24.409Z"
   },
   {
    "duration": 8,
    "start_time": "2023-05-08T16:13:29.077Z"
   },
   {
    "duration": 6,
    "start_time": "2023-05-08T16:13:35.911Z"
   },
   {
    "duration": 14,
    "start_time": "2023-05-08T16:14:15.347Z"
   },
   {
    "duration": 18,
    "start_time": "2023-05-08T16:14:31.241Z"
   },
   {
    "duration": 5,
    "start_time": "2023-05-08T16:14:32.340Z"
   },
   {
    "duration": 7,
    "start_time": "2023-05-08T16:14:35.680Z"
   },
   {
    "duration": 7,
    "start_time": "2023-05-08T16:14:49.045Z"
   },
   {
    "duration": 11,
    "start_time": "2023-05-08T16:15:49.301Z"
   },
   {
    "duration": 7,
    "start_time": "2023-05-08T16:15:59.199Z"
   },
   {
    "duration": 28,
    "start_time": "2023-05-08T16:17:44.867Z"
   },
   {
    "duration": 11,
    "start_time": "2023-05-08T16:18:02.410Z"
   },
   {
    "duration": 32,
    "start_time": "2023-05-08T16:18:19.472Z"
   },
   {
    "duration": 14,
    "start_time": "2023-05-08T16:18:44.103Z"
   },
   {
    "duration": 18,
    "start_time": "2023-05-08T16:18:46.381Z"
   },
   {
    "duration": 6,
    "start_time": "2023-05-08T16:19:22.547Z"
   },
   {
    "duration": 5,
    "start_time": "2023-05-08T16:19:59.074Z"
   },
   {
    "duration": 5,
    "start_time": "2023-05-08T16:20:04.998Z"
   },
   {
    "duration": 6,
    "start_time": "2023-05-08T16:20:18.800Z"
   },
   {
    "duration": 7,
    "start_time": "2023-05-08T16:20:54.154Z"
   },
   {
    "duration": 6,
    "start_time": "2023-05-08T16:23:44.851Z"
   },
   {
    "duration": 7,
    "start_time": "2023-05-08T16:24:11.250Z"
   },
   {
    "duration": 10,
    "start_time": "2023-05-08T16:32:24.623Z"
   },
   {
    "duration": 7,
    "start_time": "2023-05-08T16:32:36.941Z"
   },
   {
    "duration": 1338,
    "start_time": "2023-05-09T07:28:29.784Z"
   },
   {
    "duration": 210,
    "start_time": "2023-05-09T07:28:31.124Z"
   },
   {
    "duration": 12,
    "start_time": "2023-05-09T07:28:31.335Z"
   },
   {
    "duration": 33,
    "start_time": "2023-05-09T07:28:31.349Z"
   },
   {
    "duration": 55,
    "start_time": "2023-05-09T07:28:31.383Z"
   },
   {
    "duration": 46,
    "start_time": "2023-05-09T07:28:31.440Z"
   },
   {
    "duration": 26,
    "start_time": "2023-05-09T07:28:31.488Z"
   },
   {
    "duration": 29,
    "start_time": "2023-05-09T07:28:31.516Z"
   },
   {
    "duration": 67,
    "start_time": "2023-05-09T07:28:31.546Z"
   },
   {
    "duration": 29,
    "start_time": "2023-05-09T07:28:31.616Z"
   },
   {
    "duration": 26,
    "start_time": "2023-05-09T07:28:31.647Z"
   },
   {
    "duration": 20,
    "start_time": "2023-05-09T07:28:31.674Z"
   },
   {
    "duration": 14,
    "start_time": "2023-05-09T07:28:31.695Z"
   },
   {
    "duration": 16,
    "start_time": "2023-05-09T07:28:31.711Z"
   },
   {
    "duration": 10,
    "start_time": "2023-05-09T07:28:31.729Z"
   },
   {
    "duration": 33,
    "start_time": "2023-05-09T07:28:31.741Z"
   },
   {
    "duration": 23,
    "start_time": "2023-05-09T07:28:31.776Z"
   },
   {
    "duration": 7,
    "start_time": "2023-05-09T07:28:31.802Z"
   },
   {
    "duration": 17,
    "start_time": "2023-05-09T07:28:31.810Z"
   },
   {
    "duration": 187,
    "start_time": "2023-05-09T07:28:31.829Z"
   },
   {
    "duration": 125,
    "start_time": "2023-05-09T07:28:32.018Z"
   },
   {
    "duration": 157,
    "start_time": "2023-05-09T07:28:32.145Z"
   },
   {
    "duration": 4,
    "start_time": "2023-05-09T07:28:32.304Z"
   },
   {
    "duration": 39,
    "start_time": "2023-05-09T07:28:32.310Z"
   },
   {
    "duration": 19,
    "start_time": "2023-05-09T07:28:32.351Z"
   },
   {
    "duration": 326,
    "start_time": "2023-05-09T07:28:32.372Z"
   },
   {
    "duration": 167,
    "start_time": "2023-05-09T07:28:32.700Z"
   },
   {
    "duration": 9,
    "start_time": "2023-05-09T07:28:32.870Z"
   },
   {
    "duration": 24,
    "start_time": "2023-05-09T07:28:32.892Z"
   },
   {
    "duration": 284,
    "start_time": "2023-05-09T07:28:32.918Z"
   },
   {
    "duration": 10,
    "start_time": "2023-05-09T07:28:33.205Z"
   },
   {
    "duration": 21,
    "start_time": "2023-05-09T07:28:33.217Z"
   },
   {
    "duration": 197,
    "start_time": "2023-05-09T07:28:33.240Z"
   },
   {
    "duration": 22,
    "start_time": "2023-05-09T07:28:33.439Z"
   },
   {
    "duration": 3,
    "start_time": "2023-05-09T07:28:33.462Z"
   },
   {
    "duration": 28,
    "start_time": "2023-05-09T07:28:33.467Z"
   },
   {
    "duration": 9,
    "start_time": "2023-05-09T07:28:33.496Z"
   },
   {
    "duration": 22,
    "start_time": "2023-05-09T07:28:33.507Z"
   },
   {
    "duration": 28,
    "start_time": "2023-05-09T07:28:33.531Z"
   },
   {
    "duration": 14,
    "start_time": "2023-05-09T07:28:33.561Z"
   },
   {
    "duration": 33,
    "start_time": "2023-05-09T07:28:33.576Z"
   },
   {
    "duration": 17,
    "start_time": "2023-05-09T07:28:33.611Z"
   },
   {
    "duration": 275,
    "start_time": "2023-05-09T07:28:33.629Z"
   },
   {
    "duration": 269,
    "start_time": "2023-05-09T07:28:33.906Z"
   },
   {
    "duration": 47,
    "start_time": "2023-05-09T07:28:34.176Z"
   },
   {
    "duration": 11,
    "start_time": "2023-05-09T07:28:34.225Z"
   },
   {
    "duration": 8,
    "start_time": "2023-05-09T07:28:34.238Z"
   },
   {
    "duration": 18,
    "start_time": "2023-05-09T07:28:34.247Z"
   },
   {
    "duration": 11417,
    "start_time": "2023-05-09T07:28:34.267Z"
   },
   {
    "duration": 11,
    "start_time": "2023-05-09T07:28:45.686Z"
   },
   {
    "duration": 4,
    "start_time": "2023-05-09T07:28:45.698Z"
   },
   {
    "duration": 6,
    "start_time": "2023-05-09T07:28:45.704Z"
   },
   {
    "duration": 6,
    "start_time": "2023-05-09T07:28:45.712Z"
   },
   {
    "duration": 9,
    "start_time": "2023-05-09T07:28:45.720Z"
   },
   {
    "duration": 5,
    "start_time": "2023-05-09T07:28:45.730Z"
   },
   {
    "duration": 3,
    "start_time": "2023-05-09T07:28:45.736Z"
   },
   {
    "duration": 61,
    "start_time": "2023-05-09T07:28:45.740Z"
   },
   {
    "duration": 8,
    "start_time": "2023-05-09T07:28:45.803Z"
   },
   {
    "duration": 10,
    "start_time": "2023-05-09T07:28:45.812Z"
   },
   {
    "duration": 7,
    "start_time": "2023-05-09T07:28:45.823Z"
   },
   {
    "duration": 6,
    "start_time": "2023-05-09T07:28:45.832Z"
   },
   {
    "duration": 8,
    "start_time": "2023-05-09T07:51:06.949Z"
   },
   {
    "duration": 7,
    "start_time": "2023-05-09T07:51:14.747Z"
   },
   {
    "duration": 6,
    "start_time": "2023-05-09T07:51:22.861Z"
   },
   {
    "duration": 6,
    "start_time": "2023-05-09T07:53:48.620Z"
   },
   {
    "duration": 6,
    "start_time": "2023-05-09T07:53:52.181Z"
   },
   {
    "duration": 7,
    "start_time": "2023-05-09T07:58:20.095Z"
   },
   {
    "duration": 6,
    "start_time": "2023-05-09T07:58:33.473Z"
   },
   {
    "duration": 7,
    "start_time": "2023-05-09T07:58:39.318Z"
   },
   {
    "duration": 6,
    "start_time": "2023-05-09T07:58:43.256Z"
   },
   {
    "duration": 8,
    "start_time": "2023-05-09T07:58:46.453Z"
   },
   {
    "duration": 7,
    "start_time": "2023-05-09T07:58:53.094Z"
   },
   {
    "duration": 6,
    "start_time": "2023-05-09T07:59:00.093Z"
   },
   {
    "duration": 6,
    "start_time": "2023-05-09T07:59:03.672Z"
   },
   {
    "duration": 6,
    "start_time": "2023-05-09T08:00:46.633Z"
   },
   {
    "duration": 6,
    "start_time": "2023-05-09T08:00:50.360Z"
   },
   {
    "duration": 68,
    "start_time": "2023-05-09T08:01:39.096Z"
   },
   {
    "duration": 6,
    "start_time": "2023-05-09T08:01:52.582Z"
   },
   {
    "duration": 63,
    "start_time": "2023-05-09T08:03:14.849Z"
   },
   {
    "duration": 44,
    "start_time": "2023-05-09T08:03:26.647Z"
   },
   {
    "duration": 6,
    "start_time": "2023-05-09T08:03:44.613Z"
   },
   {
    "duration": 6,
    "start_time": "2023-05-09T08:03:56.783Z"
   },
   {
    "duration": 7,
    "start_time": "2023-05-09T08:04:01.693Z"
   },
   {
    "duration": 6,
    "start_time": "2023-05-09T08:04:07.161Z"
   },
   {
    "duration": 6,
    "start_time": "2023-05-09T08:04:11.715Z"
   },
   {
    "duration": 6,
    "start_time": "2023-05-09T08:04:13.882Z"
   },
   {
    "duration": 8,
    "start_time": "2023-05-09T08:04:16.770Z"
   },
   {
    "duration": 7,
    "start_time": "2023-05-09T08:04:21.660Z"
   },
   {
    "duration": 7,
    "start_time": "2023-05-09T08:04:27.474Z"
   },
   {
    "duration": 6,
    "start_time": "2023-05-09T08:04:31.100Z"
   },
   {
    "duration": 6,
    "start_time": "2023-05-09T08:04:35.296Z"
   },
   {
    "duration": 6,
    "start_time": "2023-05-09T08:04:41.585Z"
   },
   {
    "duration": 5,
    "start_time": "2023-05-09T08:04:46.129Z"
   },
   {
    "duration": 5,
    "start_time": "2023-05-09T08:04:49.689Z"
   },
   {
    "duration": 6,
    "start_time": "2023-05-09T08:04:56.934Z"
   },
   {
    "duration": 6,
    "start_time": "2023-05-09T08:05:00.725Z"
   },
   {
    "duration": 6,
    "start_time": "2023-05-09T08:05:04.737Z"
   },
   {
    "duration": 7,
    "start_time": "2023-05-09T08:05:08.290Z"
   },
   {
    "duration": 6,
    "start_time": "2023-05-09T08:05:11.954Z"
   },
   {
    "duration": 6,
    "start_time": "2023-05-09T08:05:20.024Z"
   },
   {
    "duration": 7,
    "start_time": "2023-05-09T08:05:23.741Z"
   },
   {
    "duration": 6,
    "start_time": "2023-05-09T08:05:27.105Z"
   },
   {
    "duration": 7,
    "start_time": "2023-05-09T08:05:31.702Z"
   },
   {
    "duration": 6,
    "start_time": "2023-05-09T08:05:35.820Z"
   },
   {
    "duration": 6,
    "start_time": "2023-05-09T08:05:45.979Z"
   },
   {
    "duration": 101,
    "start_time": "2023-05-09T08:06:40.505Z"
   },
   {
    "duration": 4,
    "start_time": "2023-05-09T08:06:56.474Z"
   },
   {
    "duration": 1890,
    "start_time": "2023-05-09T08:07:00.529Z"
   },
   {
    "duration": 2093,
    "start_time": "2023-05-09T08:07:25.536Z"
   },
   {
    "duration": 1888,
    "start_time": "2023-05-09T08:07:31.040Z"
   },
   {
    "duration": 1996,
    "start_time": "2023-05-09T08:08:09.789Z"
   },
   {
    "duration": 1898,
    "start_time": "2023-05-09T08:08:19.175Z"
   },
   {
    "duration": 1891,
    "start_time": "2023-05-09T08:08:33.052Z"
   },
   {
    "duration": 1961,
    "start_time": "2023-05-09T08:08:41.874Z"
   },
   {
    "duration": 2149,
    "start_time": "2023-05-09T08:08:47.867Z"
   },
   {
    "duration": 1958,
    "start_time": "2023-05-09T08:09:00.012Z"
   },
   {
    "duration": 324,
    "start_time": "2023-05-09T08:09:16.487Z"
   },
   {
    "duration": 296,
    "start_time": "2023-05-09T08:09:22.857Z"
   },
   {
    "duration": 2274,
    "start_time": "2023-05-09T08:09:30.177Z"
   },
   {
    "duration": 1038,
    "start_time": "2023-05-09T08:12:05.938Z"
   },
   {
    "duration": 795,
    "start_time": "2023-05-09T08:12:17.942Z"
   },
   {
    "duration": 1882,
    "start_time": "2023-05-09T08:12:23.933Z"
   },
   {
    "duration": 2225,
    "start_time": "2023-05-09T08:12:30.293Z"
   },
   {
    "duration": 7,
    "start_time": "2023-05-09T08:12:46.620Z"
   },
   {
    "duration": 2043,
    "start_time": "2023-05-09T08:12:49.722Z"
   },
   {
    "duration": 3,
    "start_time": "2023-05-09T08:14:04.917Z"
   },
   {
    "duration": 5,
    "start_time": "2023-05-09T08:15:10.688Z"
   },
   {
    "duration": 6,
    "start_time": "2023-05-09T08:15:33.434Z"
   },
   {
    "duration": 8,
    "start_time": "2023-05-09T08:17:12.133Z"
   },
   {
    "duration": 8,
    "start_time": "2023-05-09T08:17:31.256Z"
   },
   {
    "duration": 10,
    "start_time": "2023-05-09T08:19:13.928Z"
   },
   {
    "duration": 7,
    "start_time": "2023-05-09T08:19:40.606Z"
   },
   {
    "duration": 5,
    "start_time": "2023-05-09T08:27:50.447Z"
   },
   {
    "duration": 1207,
    "start_time": "2023-05-09T08:27:59.918Z"
   },
   {
    "duration": 213,
    "start_time": "2023-05-09T08:28:01.128Z"
   },
   {
    "duration": 13,
    "start_time": "2023-05-09T08:28:01.343Z"
   },
   {
    "duration": 30,
    "start_time": "2023-05-09T08:28:01.358Z"
   },
   {
    "duration": 57,
    "start_time": "2023-05-09T08:28:01.389Z"
   },
   {
    "duration": 43,
    "start_time": "2023-05-09T08:28:01.448Z"
   },
   {
    "duration": 26,
    "start_time": "2023-05-09T08:28:01.493Z"
   },
   {
    "duration": 43,
    "start_time": "2023-05-09T08:28:01.521Z"
   },
   {
    "duration": 41,
    "start_time": "2023-05-09T08:28:01.566Z"
   },
   {
    "duration": 41,
    "start_time": "2023-05-09T08:28:01.610Z"
   },
   {
    "duration": 33,
    "start_time": "2023-05-09T08:28:01.654Z"
   },
   {
    "duration": 29,
    "start_time": "2023-05-09T08:28:01.689Z"
   },
   {
    "duration": 50,
    "start_time": "2023-05-09T08:28:01.720Z"
   },
   {
    "duration": 50,
    "start_time": "2023-05-09T08:28:01.772Z"
   },
   {
    "duration": 31,
    "start_time": "2023-05-09T08:28:01.824Z"
   },
   {
    "duration": 38,
    "start_time": "2023-05-09T08:28:01.857Z"
   },
   {
    "duration": 38,
    "start_time": "2023-05-09T08:28:01.897Z"
   },
   {
    "duration": 18,
    "start_time": "2023-05-09T08:28:01.936Z"
   },
   {
    "duration": 71,
    "start_time": "2023-05-09T08:28:01.956Z"
   },
   {
    "duration": 200,
    "start_time": "2023-05-09T08:28:02.029Z"
   },
   {
    "duration": 129,
    "start_time": "2023-05-09T08:28:02.231Z"
   },
   {
    "duration": 165,
    "start_time": "2023-05-09T08:28:02.361Z"
   },
   {
    "duration": 5,
    "start_time": "2023-05-09T08:28:02.528Z"
   },
   {
    "duration": 11,
    "start_time": "2023-05-09T08:28:02.534Z"
   },
   {
    "duration": 8,
    "start_time": "2023-05-09T08:28:02.547Z"
   },
   {
    "duration": 343,
    "start_time": "2023-05-09T08:28:02.557Z"
   },
   {
    "duration": 174,
    "start_time": "2023-05-09T08:28:02.902Z"
   },
   {
    "duration": 16,
    "start_time": "2023-05-09T08:28:03.081Z"
   },
   {
    "duration": 22,
    "start_time": "2023-05-09T08:28:03.099Z"
   },
   {
    "duration": 220,
    "start_time": "2023-05-09T08:28:03.122Z"
   },
   {
    "duration": 9,
    "start_time": "2023-05-09T08:28:03.343Z"
   },
   {
    "duration": 19,
    "start_time": "2023-05-09T08:28:03.354Z"
   },
   {
    "duration": 275,
    "start_time": "2023-05-09T08:28:03.375Z"
   },
   {
    "duration": 25,
    "start_time": "2023-05-09T08:28:03.652Z"
   },
   {
    "duration": 14,
    "start_time": "2023-05-09T08:28:03.679Z"
   },
   {
    "duration": 11,
    "start_time": "2023-05-09T08:28:03.695Z"
   },
   {
    "duration": 10,
    "start_time": "2023-05-09T08:28:03.708Z"
   },
   {
    "duration": 13,
    "start_time": "2023-05-09T08:28:03.720Z"
   },
   {
    "duration": 14,
    "start_time": "2023-05-09T08:28:03.735Z"
   },
   {
    "duration": 5,
    "start_time": "2023-05-09T08:28:03.750Z"
   },
   {
    "duration": 18,
    "start_time": "2023-05-09T08:28:03.791Z"
   },
   {
    "duration": 16,
    "start_time": "2023-05-09T08:28:03.811Z"
   },
   {
    "duration": 292,
    "start_time": "2023-05-09T08:28:03.829Z"
   },
   {
    "duration": 352,
    "start_time": "2023-05-09T08:28:04.123Z"
   },
   {
    "duration": 46,
    "start_time": "2023-05-09T08:28:04.477Z"
   },
   {
    "duration": 14,
    "start_time": "2023-05-09T08:28:04.525Z"
   },
   {
    "duration": 5,
    "start_time": "2023-05-09T08:28:04.541Z"
   },
   {
    "duration": 21,
    "start_time": "2023-05-09T08:28:04.548Z"
   },
   {
    "duration": 11998,
    "start_time": "2023-05-09T08:28:04.592Z"
   },
   {
    "duration": 13,
    "start_time": "2023-05-09T08:28:16.592Z"
   },
   {
    "duration": 10,
    "start_time": "2023-05-09T08:28:16.607Z"
   },
   {
    "duration": 9,
    "start_time": "2023-05-09T08:28:16.618Z"
   },
   {
    "duration": 12,
    "start_time": "2023-05-09T08:28:16.629Z"
   },
   {
    "duration": 9,
    "start_time": "2023-05-09T08:28:16.643Z"
   },
   {
    "duration": 18,
    "start_time": "2023-05-09T08:28:16.653Z"
   },
   {
    "duration": 4,
    "start_time": "2023-05-09T08:28:16.692Z"
   },
   {
    "duration": 21,
    "start_time": "2023-05-09T08:28:16.697Z"
   },
   {
    "duration": 8,
    "start_time": "2023-05-09T08:28:16.720Z"
   },
   {
    "duration": 15,
    "start_time": "2023-05-09T08:28:16.730Z"
   },
   {
    "duration": 6,
    "start_time": "2023-05-09T08:28:16.746Z"
   },
   {
    "duration": 10,
    "start_time": "2023-05-09T08:28:16.754Z"
   },
   {
    "duration": 6,
    "start_time": "2023-05-09T08:28:16.792Z"
   },
   {
    "duration": 2011,
    "start_time": "2023-05-09T08:28:16.800Z"
   },
   {
    "duration": 6,
    "start_time": "2023-05-09T08:28:18.813Z"
   },
   {
    "duration": 11,
    "start_time": "2023-05-09T08:28:18.821Z"
   },
   {
    "duration": 1408,
    "start_time": "2023-05-09T10:52:13.874Z"
   },
   {
    "duration": 4,
    "start_time": "2023-05-09T10:52:50.587Z"
   },
   {
    "duration": 228,
    "start_time": "2023-05-09T10:52:50.595Z"
   },
   {
    "duration": 24,
    "start_time": "2023-05-09T10:52:50.826Z"
   },
   {
    "duration": 21,
    "start_time": "2023-05-09T10:52:50.852Z"
   },
   {
    "duration": 19,
    "start_time": "2023-05-09T10:52:50.877Z"
   },
   {
    "duration": 28,
    "start_time": "2023-05-09T10:52:50.899Z"
   },
   {
    "duration": 42,
    "start_time": "2023-05-09T10:52:50.930Z"
   },
   {
    "duration": 37,
    "start_time": "2023-05-09T10:52:50.975Z"
   },
   {
    "duration": 103,
    "start_time": "2023-05-09T10:52:51.015Z"
   },
   {
    "duration": 25,
    "start_time": "2023-05-09T10:52:51.120Z"
   },
   {
    "duration": 10,
    "start_time": "2023-05-09T10:52:51.149Z"
   },
   {
    "duration": 59,
    "start_time": "2023-05-09T10:52:51.161Z"
   },
   {
    "duration": 26,
    "start_time": "2023-05-09T10:52:51.222Z"
   },
   {
    "duration": 55,
    "start_time": "2023-05-09T10:52:51.251Z"
   },
   {
    "duration": 45,
    "start_time": "2023-05-09T10:52:51.309Z"
   },
   {
    "duration": 29,
    "start_time": "2023-05-09T10:52:51.357Z"
   },
   {
    "duration": 21,
    "start_time": "2023-05-09T10:52:51.388Z"
   },
   {
    "duration": 7,
    "start_time": "2023-05-09T10:52:51.411Z"
   },
   {
    "duration": 27,
    "start_time": "2023-05-09T10:52:51.420Z"
   },
   {
    "duration": 319,
    "start_time": "2023-05-09T10:52:51.450Z"
   },
   {
    "duration": 209,
    "start_time": "2023-05-09T10:52:51.771Z"
   },
   {
    "duration": 250,
    "start_time": "2023-05-09T10:52:51.982Z"
   },
   {
    "duration": 7,
    "start_time": "2023-05-09T10:52:52.234Z"
   },
   {
    "duration": 78,
    "start_time": "2023-05-09T10:52:52.243Z"
   },
   {
    "duration": 37,
    "start_time": "2023-05-09T10:52:52.324Z"
   },
   {
    "duration": 539,
    "start_time": "2023-05-09T10:52:52.364Z"
   },
   {
    "duration": 194,
    "start_time": "2023-05-09T10:52:52.906Z"
   },
   {
    "duration": 13,
    "start_time": "2023-05-09T10:52:53.107Z"
   },
   {
    "duration": 35,
    "start_time": "2023-05-09T10:52:53.127Z"
   },
   {
    "duration": 335,
    "start_time": "2023-05-09T10:52:53.165Z"
   },
   {
    "duration": 11,
    "start_time": "2023-05-09T10:52:53.502Z"
   },
   {
    "duration": 34,
    "start_time": "2023-05-09T10:52:53.515Z"
   },
   {
    "duration": 314,
    "start_time": "2023-05-09T10:52:53.551Z"
   },
   {
    "duration": 39,
    "start_time": "2023-05-09T10:52:53.867Z"
   },
   {
    "duration": 5,
    "start_time": "2023-05-09T10:52:53.908Z"
   },
   {
    "duration": 15,
    "start_time": "2023-05-09T10:52:53.915Z"
   },
   {
    "duration": 13,
    "start_time": "2023-05-09T10:52:53.932Z"
   },
   {
    "duration": 44,
    "start_time": "2023-05-09T10:52:53.947Z"
   },
   {
    "duration": 15,
    "start_time": "2023-05-09T10:52:53.994Z"
   },
   {
    "duration": 14,
    "start_time": "2023-05-09T10:52:54.011Z"
   },
   {
    "duration": 47,
    "start_time": "2023-05-09T10:52:54.027Z"
   },
   {
    "duration": 30,
    "start_time": "2023-05-09T10:52:54.076Z"
   },
   {
    "duration": 364,
    "start_time": "2023-05-09T10:52:54.108Z"
   },
   {
    "duration": 308,
    "start_time": "2023-05-09T10:52:54.474Z"
   },
   {
    "duration": 46,
    "start_time": "2023-05-09T10:52:54.784Z"
   },
   {
    "duration": 15,
    "start_time": "2023-05-09T10:52:54.832Z"
   },
   {
    "duration": 22,
    "start_time": "2023-05-09T10:52:54.849Z"
   },
   {
    "duration": 48,
    "start_time": "2023-05-09T10:52:54.874Z"
   },
   {
    "duration": 13718,
    "start_time": "2023-05-09T10:52:54.925Z"
   },
   {
    "duration": 13,
    "start_time": "2023-05-09T10:53:08.645Z"
   },
   {
    "duration": 3,
    "start_time": "2023-05-09T10:53:08.660Z"
   },
   {
    "duration": 26,
    "start_time": "2023-05-09T10:53:08.666Z"
   },
   {
    "duration": 10,
    "start_time": "2023-05-09T10:53:08.694Z"
   },
   {
    "duration": 10,
    "start_time": "2023-05-09T10:53:08.706Z"
   },
   {
    "duration": 6,
    "start_time": "2023-05-09T10:53:08.719Z"
   },
   {
    "duration": 4,
    "start_time": "2023-05-09T10:53:08.727Z"
   },
   {
    "duration": 56,
    "start_time": "2023-05-09T10:53:08.733Z"
   },
   {
    "duration": 10,
    "start_time": "2023-05-09T10:53:08.791Z"
   },
   {
    "duration": 20,
    "start_time": "2023-05-09T10:53:08.803Z"
   },
   {
    "duration": 22,
    "start_time": "2023-05-09T10:53:08.826Z"
   },
   {
    "duration": 15,
    "start_time": "2023-05-09T10:53:08.851Z"
   },
   {
    "duration": 17,
    "start_time": "2023-05-09T10:53:08.868Z"
   },
   {
    "duration": 2119,
    "start_time": "2023-05-09T10:53:08.889Z"
   },
   {
    "duration": 7,
    "start_time": "2023-05-09T10:53:11.010Z"
   },
   {
    "duration": 40,
    "start_time": "2023-05-09T10:53:11.018Z"
   },
   {
    "duration": 21,
    "start_time": "2023-05-09T10:53:11.060Z"
   },
   {
    "duration": 0,
    "start_time": "2023-05-09T10:59:05.999Z"
   },
   {
    "duration": 0,
    "start_time": "2023-05-09T10:59:06.001Z"
   },
   {
    "duration": 13,
    "start_time": "2023-05-09T10:59:09.253Z"
   },
   {
    "duration": 2110,
    "start_time": "2023-05-09T10:59:13.927Z"
   },
   {
    "duration": 58,
    "start_time": "2023-05-09T11:06:23.054Z"
   },
   {
    "duration": 29,
    "start_time": "2023-05-09T11:06:40.618Z"
   },
   {
    "duration": 12,
    "start_time": "2023-05-09T11:06:56.822Z"
   },
   {
    "duration": 24,
    "start_time": "2023-05-09T11:07:30.107Z"
   },
   {
    "duration": 11,
    "start_time": "2023-05-09T11:07:31.700Z"
   },
   {
    "duration": 3,
    "start_time": "2023-05-09T11:07:38.134Z"
   },
   {
    "duration": 1430,
    "start_time": "2023-05-10T17:31:14.941Z"
   },
   {
    "duration": 89,
    "start_time": "2023-05-10T17:31:16.375Z"
   },
   {
    "duration": 23,
    "start_time": "2023-05-10T17:31:16.467Z"
   },
   {
    "duration": 56,
    "start_time": "2023-05-10T17:31:16.492Z"
   },
   {
    "duration": 33,
    "start_time": "2023-05-10T17:31:16.550Z"
   },
   {
    "duration": 29,
    "start_time": "2023-05-10T17:31:16.586Z"
   },
   {
    "duration": 19,
    "start_time": "2023-05-10T17:31:16.617Z"
   },
   {
    "duration": 39,
    "start_time": "2023-05-10T17:31:16.638Z"
   },
   {
    "duration": 40,
    "start_time": "2023-05-10T17:31:16.680Z"
   },
   {
    "duration": 20,
    "start_time": "2023-05-10T17:31:16.725Z"
   },
   {
    "duration": 9,
    "start_time": "2023-05-10T17:31:16.747Z"
   },
   {
    "duration": 17,
    "start_time": "2023-05-10T17:31:16.759Z"
   },
   {
    "duration": 40,
    "start_time": "2023-05-10T17:31:16.778Z"
   },
   {
    "duration": 15,
    "start_time": "2023-05-10T17:31:16.820Z"
   },
   {
    "duration": 8,
    "start_time": "2023-05-10T17:31:16.838Z"
   },
   {
    "duration": 17,
    "start_time": "2023-05-10T17:31:16.848Z"
   },
   {
    "duration": 43,
    "start_time": "2023-05-10T17:31:16.867Z"
   },
   {
    "duration": 4,
    "start_time": "2023-05-10T17:31:16.912Z"
   },
   {
    "duration": 19,
    "start_time": "2023-05-10T17:31:16.918Z"
   },
   {
    "duration": 240,
    "start_time": "2023-05-10T17:31:16.939Z"
   },
   {
    "duration": 136,
    "start_time": "2023-05-10T17:31:17.181Z"
   },
   {
    "duration": 189,
    "start_time": "2023-05-10T17:31:17.320Z"
   },
   {
    "duration": 7,
    "start_time": "2023-05-10T17:31:17.511Z"
   },
   {
    "duration": 14,
    "start_time": "2023-05-10T17:31:17.520Z"
   },
   {
    "duration": 40,
    "start_time": "2023-05-10T17:31:17.537Z"
   },
   {
    "duration": 401,
    "start_time": "2023-05-10T17:31:17.586Z"
   },
   {
    "duration": 199,
    "start_time": "2023-05-10T17:31:17.989Z"
   },
   {
    "duration": 12,
    "start_time": "2023-05-10T17:31:18.197Z"
   },
   {
    "duration": 30,
    "start_time": "2023-05-10T17:31:18.211Z"
   },
   {
    "duration": 344,
    "start_time": "2023-05-10T17:31:18.243Z"
   },
   {
    "duration": 12,
    "start_time": "2023-05-10T17:31:18.592Z"
   },
   {
    "duration": 31,
    "start_time": "2023-05-10T17:31:18.607Z"
   },
   {
    "duration": 346,
    "start_time": "2023-05-10T17:31:18.641Z"
   },
   {
    "duration": 34,
    "start_time": "2023-05-10T17:31:18.989Z"
   },
   {
    "duration": 8,
    "start_time": "2023-05-10T17:31:19.026Z"
   },
   {
    "duration": 39,
    "start_time": "2023-05-10T17:31:19.036Z"
   },
   {
    "duration": 14,
    "start_time": "2023-05-10T17:31:19.087Z"
   },
   {
    "duration": 23,
    "start_time": "2023-05-10T17:31:19.104Z"
   },
   {
    "duration": 86,
    "start_time": "2023-05-10T17:31:19.129Z"
   },
   {
    "duration": 23,
    "start_time": "2023-05-10T17:31:19.217Z"
   },
   {
    "duration": 35,
    "start_time": "2023-05-10T17:31:19.242Z"
   },
   {
    "duration": 34,
    "start_time": "2023-05-10T17:31:19.279Z"
   },
   {
    "duration": 340,
    "start_time": "2023-05-10T17:31:19.316Z"
   },
   {
    "duration": 354,
    "start_time": "2023-05-10T17:31:19.658Z"
   },
   {
    "duration": 68,
    "start_time": "2023-05-10T17:31:20.014Z"
   },
   {
    "duration": 15,
    "start_time": "2023-05-10T17:31:20.089Z"
   },
   {
    "duration": 28,
    "start_time": "2023-05-10T17:31:20.106Z"
   },
   {
    "duration": 31,
    "start_time": "2023-05-10T17:31:20.136Z"
   },
   {
    "duration": 13882,
    "start_time": "2023-05-10T17:31:20.170Z"
   },
   {
    "duration": 37,
    "start_time": "2023-05-10T17:31:34.054Z"
   },
   {
    "duration": 19,
    "start_time": "2023-05-10T17:31:34.093Z"
   },
   {
    "duration": 18,
    "start_time": "2023-05-10T17:31:34.114Z"
   },
   {
    "duration": 27,
    "start_time": "2023-05-10T17:31:34.135Z"
   },
   {
    "duration": 16,
    "start_time": "2023-05-10T17:31:34.164Z"
   },
   {
    "duration": 31,
    "start_time": "2023-05-10T17:31:34.182Z"
   },
   {
    "duration": 10,
    "start_time": "2023-05-10T17:31:34.215Z"
   },
   {
    "duration": 36,
    "start_time": "2023-05-10T17:31:34.228Z"
   },
   {
    "duration": 5,
    "start_time": "2023-05-10T17:31:34.266Z"
   },
   {
    "duration": 43,
    "start_time": "2023-05-10T17:31:34.273Z"
   },
   {
    "duration": 12,
    "start_time": "2023-05-10T17:31:34.318Z"
   },
   {
    "duration": 7,
    "start_time": "2023-05-10T17:31:34.333Z"
   },
   {
    "duration": 12,
    "start_time": "2023-05-10T17:31:34.343Z"
   },
   {
    "duration": 21,
    "start_time": "2023-05-10T17:31:34.358Z"
   },
   {
    "duration": 2413,
    "start_time": "2023-05-10T17:31:34.382Z"
   },
   {
    "duration": 9,
    "start_time": "2023-05-10T17:31:36.798Z"
   },
   {
    "duration": 8,
    "start_time": "2023-05-10T17:31:36.809Z"
   },
   {
    "duration": 9,
    "start_time": "2023-05-10T17:48:44.436Z"
   },
   {
    "duration": 9,
    "start_time": "2023-05-10T17:57:34.794Z"
   },
   {
    "duration": 6,
    "start_time": "2023-05-10T17:57:39.930Z"
   },
   {
    "duration": 296,
    "start_time": "2023-05-10T18:01:37.526Z"
   },
   {
    "duration": 175,
    "start_time": "2023-05-10T18:04:05.161Z"
   },
   {
    "duration": 10,
    "start_time": "2023-05-10T18:04:24.665Z"
   },
   {
    "duration": 5,
    "start_time": "2023-05-10T18:04:56.194Z"
   },
   {
    "duration": 4,
    "start_time": "2023-05-10T18:05:11.405Z"
   },
   {
    "duration": 164,
    "start_time": "2023-05-10T18:05:23.427Z"
   },
   {
    "duration": 199,
    "start_time": "2023-05-10T18:05:50.759Z"
   },
   {
    "duration": 195,
    "start_time": "2023-05-10T18:06:01.193Z"
   },
   {
    "duration": 181,
    "start_time": "2023-05-10T18:08:07.944Z"
   },
   {
    "duration": 1282,
    "start_time": "2023-05-10T18:09:38.221Z"
   },
   {
    "duration": 81,
    "start_time": "2023-05-10T18:09:39.506Z"
   },
   {
    "duration": 14,
    "start_time": "2023-05-10T18:09:39.589Z"
   },
   {
    "duration": 13,
    "start_time": "2023-05-10T18:09:39.606Z"
   },
   {
    "duration": 18,
    "start_time": "2023-05-10T18:09:39.621Z"
   },
   {
    "duration": 16,
    "start_time": "2023-05-10T18:09:39.640Z"
   },
   {
    "duration": 19,
    "start_time": "2023-05-10T18:09:39.658Z"
   },
   {
    "duration": 21,
    "start_time": "2023-05-10T18:09:39.688Z"
   },
   {
    "duration": 31,
    "start_time": "2023-05-10T18:09:39.711Z"
   },
   {
    "duration": 13,
    "start_time": "2023-05-10T18:09:39.745Z"
   },
   {
    "duration": 7,
    "start_time": "2023-05-10T18:09:39.759Z"
   },
   {
    "duration": 23,
    "start_time": "2023-05-10T18:09:39.768Z"
   },
   {
    "duration": 7,
    "start_time": "2023-05-10T18:09:39.793Z"
   },
   {
    "duration": 14,
    "start_time": "2023-05-10T18:09:39.802Z"
   },
   {
    "duration": 13,
    "start_time": "2023-05-10T18:09:39.818Z"
   },
   {
    "duration": 12,
    "start_time": "2023-05-10T18:09:39.833Z"
   },
   {
    "duration": 27,
    "start_time": "2023-05-10T18:09:39.847Z"
   },
   {
    "duration": 8,
    "start_time": "2023-05-10T18:09:39.877Z"
   },
   {
    "duration": 17,
    "start_time": "2023-05-10T18:09:39.888Z"
   },
   {
    "duration": 191,
    "start_time": "2023-05-10T18:09:39.907Z"
   },
   {
    "duration": 136,
    "start_time": "2023-05-10T18:09:40.100Z"
   },
   {
    "duration": 169,
    "start_time": "2023-05-10T18:09:40.238Z"
   },
   {
    "duration": 4,
    "start_time": "2023-05-10T18:09:40.409Z"
   },
   {
    "duration": 18,
    "start_time": "2023-05-10T18:09:40.415Z"
   },
   {
    "duration": 26,
    "start_time": "2023-05-10T18:09:40.435Z"
   },
   {
    "duration": 368,
    "start_time": "2023-05-10T18:09:40.464Z"
   },
   {
    "duration": 182,
    "start_time": "2023-05-10T18:09:40.834Z"
   },
   {
    "duration": 11,
    "start_time": "2023-05-10T18:09:41.020Z"
   },
   {
    "duration": 53,
    "start_time": "2023-05-10T18:09:41.033Z"
   },
   {
    "duration": 239,
    "start_time": "2023-05-10T18:09:41.089Z"
   },
   {
    "duration": 9,
    "start_time": "2023-05-10T18:09:41.330Z"
   },
   {
    "duration": 45,
    "start_time": "2023-05-10T18:09:41.341Z"
   },
   {
    "duration": 312,
    "start_time": "2023-05-10T18:09:41.388Z"
   },
   {
    "duration": 29,
    "start_time": "2023-05-10T18:09:41.702Z"
   },
   {
    "duration": 5,
    "start_time": "2023-05-10T18:09:41.733Z"
   },
   {
    "duration": 47,
    "start_time": "2023-05-10T18:09:41.739Z"
   },
   {
    "duration": 10,
    "start_time": "2023-05-10T18:09:41.788Z"
   },
   {
    "duration": 20,
    "start_time": "2023-05-10T18:09:41.800Z"
   },
   {
    "duration": 28,
    "start_time": "2023-05-10T18:09:41.822Z"
   },
   {
    "duration": 34,
    "start_time": "2023-05-10T18:09:41.852Z"
   },
   {
    "duration": 114,
    "start_time": "2023-05-10T18:09:41.888Z"
   },
   {
    "duration": 23,
    "start_time": "2023-05-10T18:09:42.004Z"
   },
   {
    "duration": 342,
    "start_time": "2023-05-10T18:09:42.029Z"
   },
   {
    "duration": 341,
    "start_time": "2023-05-10T18:09:42.375Z"
   },
   {
    "duration": 43,
    "start_time": "2023-05-10T18:09:42.718Z"
   },
   {
    "duration": 22,
    "start_time": "2023-05-10T18:09:42.774Z"
   },
   {
    "duration": 8,
    "start_time": "2023-05-10T18:09:42.798Z"
   },
   {
    "duration": 20,
    "start_time": "2023-05-10T18:09:42.808Z"
   },
   {
    "duration": 12159,
    "start_time": "2023-05-10T18:09:42.829Z"
   },
   {
    "duration": 13,
    "start_time": "2023-05-10T18:09:54.990Z"
   },
   {
    "duration": 16,
    "start_time": "2023-05-10T18:09:55.004Z"
   },
   {
    "duration": 28,
    "start_time": "2023-05-10T18:09:55.022Z"
   },
   {
    "duration": 34,
    "start_time": "2023-05-10T18:09:55.052Z"
   },
   {
    "duration": 35,
    "start_time": "2023-05-10T18:09:55.088Z"
   },
   {
    "duration": 28,
    "start_time": "2023-05-10T18:09:55.124Z"
   },
   {
    "duration": 28,
    "start_time": "2023-05-10T18:09:55.154Z"
   },
   {
    "duration": 79,
    "start_time": "2023-05-10T18:09:55.185Z"
   },
   {
    "duration": 39,
    "start_time": "2023-05-10T18:09:55.266Z"
   },
   {
    "duration": 67,
    "start_time": "2023-05-10T18:09:55.307Z"
   },
   {
    "duration": 16,
    "start_time": "2023-05-10T18:09:55.388Z"
   },
   {
    "duration": 24,
    "start_time": "2023-05-10T18:09:55.406Z"
   },
   {
    "duration": 26,
    "start_time": "2023-05-10T18:09:55.432Z"
   },
   {
    "duration": 39,
    "start_time": "2023-05-10T18:09:55.460Z"
   },
   {
    "duration": 2215,
    "start_time": "2023-05-10T18:09:55.501Z"
   },
   {
    "duration": 7,
    "start_time": "2023-05-10T18:09:57.718Z"
   },
   {
    "duration": 20,
    "start_time": "2023-05-10T18:09:57.728Z"
   },
   {
    "duration": 298,
    "start_time": "2023-05-10T18:09:57.751Z"
   },
   {
    "duration": 48,
    "start_time": "2023-05-10T19:07:31.115Z"
   },
   {
    "duration": 1450,
    "start_time": "2023-05-10T19:07:53.019Z"
   },
   {
    "duration": 281,
    "start_time": "2023-05-10T19:07:58.049Z"
   },
   {
    "duration": 17,
    "start_time": "2023-05-10T19:08:01.093Z"
   },
   {
    "duration": 11,
    "start_time": "2023-05-10T19:08:03.277Z"
   },
   {
    "duration": 15,
    "start_time": "2023-05-10T19:08:05.033Z"
   },
   {
    "duration": 8,
    "start_time": "2023-05-10T19:08:10.582Z"
   },
   {
    "duration": 11,
    "start_time": "2023-05-10T19:08:11.834Z"
   },
   {
    "duration": 14,
    "start_time": "2023-05-10T19:08:17.523Z"
   },
   {
    "duration": 5,
    "start_time": "2023-05-10T19:08:19.953Z"
   },
   {
    "duration": 6,
    "start_time": "2023-05-10T19:08:53.293Z"
   },
   {
    "duration": 18,
    "start_time": "2023-05-10T19:12:53.235Z"
   },
   {
    "duration": 4,
    "start_time": "2023-05-10T19:14:01.948Z"
   },
   {
    "duration": 11,
    "start_time": "2023-05-10T19:15:04.269Z"
   },
   {
    "duration": 5,
    "start_time": "2023-05-10T19:15:08.311Z"
   },
   {
    "duration": 5,
    "start_time": "2023-05-10T19:15:09.802Z"
   },
   {
    "duration": 6,
    "start_time": "2023-05-10T19:15:11.586Z"
   },
   {
    "duration": 8,
    "start_time": "2023-05-10T19:15:12.705Z"
   },
   {
    "duration": 5,
    "start_time": "2023-05-10T19:15:13.267Z"
   },
   {
    "duration": 8,
    "start_time": "2023-05-10T19:15:15.048Z"
   },
   {
    "duration": 9,
    "start_time": "2023-05-10T19:17:14.967Z"
   },
   {
    "duration": 3,
    "start_time": "2023-05-10T19:23:40.975Z"
   },
   {
    "duration": 9,
    "start_time": "2023-05-10T19:24:16.472Z"
   },
   {
    "duration": 188,
    "start_time": "2023-05-10T19:40:21.484Z"
   },
   {
    "duration": 143,
    "start_time": "2023-05-10T19:40:51.116Z"
   },
   {
    "duration": 111,
    "start_time": "2023-05-10T19:42:06.169Z"
   },
   {
    "duration": 708,
    "start_time": "2023-05-10T19:43:45.642Z"
   },
   {
    "duration": 126,
    "start_time": "2023-05-10T19:43:51.428Z"
   },
   {
    "duration": 117,
    "start_time": "2023-05-10T19:44:08.454Z"
   },
   {
    "duration": 118,
    "start_time": "2023-05-10T19:44:13.500Z"
   },
   {
    "duration": 183,
    "start_time": "2023-05-10T19:44:25.707Z"
   },
   {
    "duration": 123,
    "start_time": "2023-05-10T19:44:44.571Z"
   },
   {
    "duration": 128,
    "start_time": "2023-05-10T19:44:52.773Z"
   },
   {
    "duration": 123,
    "start_time": "2023-05-10T19:44:58.387Z"
   },
   {
    "duration": 136,
    "start_time": "2023-05-10T19:45:04.237Z"
   },
   {
    "duration": 123,
    "start_time": "2023-05-10T19:45:31.811Z"
   },
   {
    "duration": 119,
    "start_time": "2023-05-10T19:45:36.324Z"
   },
   {
    "duration": 131,
    "start_time": "2023-05-10T19:45:42.332Z"
   },
   {
    "duration": 124,
    "start_time": "2023-05-10T19:45:48.979Z"
   },
   {
    "duration": 133,
    "start_time": "2023-05-10T19:46:35.021Z"
   },
   {
    "duration": 119,
    "start_time": "2023-05-10T19:46:39.177Z"
   },
   {
    "duration": 112,
    "start_time": "2023-05-10T19:47:24.188Z"
   },
   {
    "duration": 116,
    "start_time": "2023-05-10T19:48:08.903Z"
   },
   {
    "duration": 118,
    "start_time": "2023-05-10T19:48:18.849Z"
   },
   {
    "duration": 202,
    "start_time": "2023-05-10T19:48:24.695Z"
   },
   {
    "duration": 112,
    "start_time": "2023-05-10T19:49:15.899Z"
   },
   {
    "duration": 116,
    "start_time": "2023-05-10T19:49:26.270Z"
   },
   {
    "duration": 130,
    "start_time": "2023-05-10T19:49:30.316Z"
   },
   {
    "duration": 127,
    "start_time": "2023-05-10T19:50:06.584Z"
   },
   {
    "duration": 14,
    "start_time": "2023-05-10T19:50:17.543Z"
   },
   {
    "duration": 130,
    "start_time": "2023-05-10T19:50:23.955Z"
   },
   {
    "duration": 147,
    "start_time": "2023-05-10T19:51:44.874Z"
   },
   {
    "duration": 116,
    "start_time": "2023-05-10T19:51:49.101Z"
   },
   {
    "duration": 123,
    "start_time": "2023-05-10T19:52:13.104Z"
   },
   {
    "duration": 131,
    "start_time": "2023-05-10T19:52:22.517Z"
   },
   {
    "duration": 130,
    "start_time": "2023-05-10T19:52:28.343Z"
   },
   {
    "duration": 113,
    "start_time": "2023-05-10T19:52:49.064Z"
   },
   {
    "duration": 4,
    "start_time": "2023-05-10T19:53:14.868Z"
   },
   {
    "duration": 5,
    "start_time": "2023-05-10T19:53:15.765Z"
   },
   {
    "duration": 7,
    "start_time": "2023-05-10T19:53:16.764Z"
   },
   {
    "duration": 341,
    "start_time": "2023-05-10T19:53:20.320Z"
   },
   {
    "duration": 164,
    "start_time": "2023-05-10T19:53:25.909Z"
   },
   {
    "duration": 281,
    "start_time": "2023-05-10T19:54:01.039Z"
   },
   {
    "duration": 140,
    "start_time": "2023-05-10T19:54:07.153Z"
   },
   {
    "duration": 10,
    "start_time": "2023-05-10T19:54:11.159Z"
   },
   {
    "duration": 3,
    "start_time": "2023-05-10T19:55:07.396Z"
   },
   {
    "duration": 3,
    "start_time": "2023-05-10T19:55:11.938Z"
   },
   {
    "duration": 162,
    "start_time": "2023-05-10T19:55:34.578Z"
   },
   {
    "duration": 148,
    "start_time": "2023-05-10T19:55:51.530Z"
   },
   {
    "duration": 152,
    "start_time": "2023-05-10T19:55:58.874Z"
   },
   {
    "duration": 164,
    "start_time": "2023-05-10T19:56:54.396Z"
   },
   {
    "duration": 160,
    "start_time": "2023-05-10T19:57:46.004Z"
   },
   {
    "duration": 164,
    "start_time": "2023-05-10T19:59:14.284Z"
   },
   {
    "duration": 261,
    "start_time": "2023-05-10T19:59:59.438Z"
   },
   {
    "duration": 165,
    "start_time": "2023-05-10T20:00:10.773Z"
   },
   {
    "duration": 172,
    "start_time": "2023-05-10T20:00:26.225Z"
   },
   {
    "duration": 163,
    "start_time": "2023-05-10T20:01:16.997Z"
   },
   {
    "duration": 169,
    "start_time": "2023-05-10T20:01:51.528Z"
   },
   {
    "duration": 184,
    "start_time": "2023-05-10T20:02:27.328Z"
   },
   {
    "duration": 185,
    "start_time": "2023-05-10T20:03:17.921Z"
   },
   {
    "duration": 23,
    "start_time": "2023-05-10T20:03:45.306Z"
   },
   {
    "duration": 4,
    "start_time": "2023-05-10T20:03:47.250Z"
   },
   {
    "duration": 8,
    "start_time": "2023-05-10T20:03:48.222Z"
   },
   {
    "duration": 9,
    "start_time": "2023-05-10T20:03:51.027Z"
   },
   {
    "duration": 14,
    "start_time": "2023-05-10T20:03:54.335Z"
   },
   {
    "duration": 12,
    "start_time": "2023-05-10T20:03:58.973Z"
   },
   {
    "duration": 4,
    "start_time": "2023-05-10T20:04:00.068Z"
   },
   {
    "duration": 15,
    "start_time": "2023-05-10T20:04:11.589Z"
   },
   {
    "duration": 19,
    "start_time": "2023-05-10T20:04:13.388Z"
   },
   {
    "duration": 244,
    "start_time": "2023-05-10T20:04:19.752Z"
   },
   {
    "duration": 265,
    "start_time": "2023-05-10T20:04:45.187Z"
   },
   {
    "duration": 358,
    "start_time": "2023-05-10T20:04:50.997Z"
   },
   {
    "duration": 289,
    "start_time": "2023-05-10T20:05:42.123Z"
   },
   {
    "duration": 0,
    "start_time": "2023-05-10T20:06:38.074Z"
   },
   {
    "duration": 228,
    "start_time": "2023-05-10T20:06:55.112Z"
   },
   {
    "duration": 292,
    "start_time": "2023-05-10T20:07:34.215Z"
   },
   {
    "duration": 966,
    "start_time": "2023-05-10T20:09:40.040Z"
   },
   {
    "duration": 288,
    "start_time": "2023-05-10T20:10:48.871Z"
   },
   {
    "duration": 245,
    "start_time": "2023-05-10T20:10:54.027Z"
   },
   {
    "duration": 243,
    "start_time": "2023-05-10T20:11:10.931Z"
   },
   {
    "duration": 368,
    "start_time": "2023-05-10T20:11:21.871Z"
   },
   {
    "duration": 322,
    "start_time": "2023-05-10T20:12:09.379Z"
   },
   {
    "duration": 305,
    "start_time": "2023-05-10T20:12:18.383Z"
   },
   {
    "duration": 245,
    "start_time": "2023-05-10T20:13:26.456Z"
   },
   {
    "duration": 306,
    "start_time": "2023-05-10T20:13:50.025Z"
   },
   {
    "duration": 308,
    "start_time": "2023-05-10T20:15:23.074Z"
   },
   {
    "duration": 35,
    "start_time": "2023-05-10T20:16:05.235Z"
   },
   {
    "duration": 11,
    "start_time": "2023-05-10T20:16:10.857Z"
   },
   {
    "duration": 4,
    "start_time": "2023-05-10T20:16:13.956Z"
   },
   {
    "duration": 13,
    "start_time": "2023-05-10T20:16:16.826Z"
   },
   {
    "duration": 35,
    "start_time": "2023-05-10T20:17:34.398Z"
   },
   {
    "duration": 11,
    "start_time": "2023-05-10T20:17:38.171Z"
   },
   {
    "duration": 3,
    "start_time": "2023-05-10T20:17:40.177Z"
   },
   {
    "duration": 12,
    "start_time": "2023-05-10T20:17:42.281Z"
   },
   {
    "duration": 10,
    "start_time": "2023-05-10T20:17:45.666Z"
   },
   {
    "duration": 10580,
    "start_time": "2023-05-10T20:17:55.055Z"
   },
   {
    "duration": 10,
    "start_time": "2023-05-10T20:18:09.079Z"
   },
   {
    "duration": 2,
    "start_time": "2023-05-10T20:18:22.029Z"
   },
   {
    "duration": 5,
    "start_time": "2023-05-10T20:18:23.136Z"
   },
   {
    "duration": 8,
    "start_time": "2023-05-10T20:18:25.423Z"
   },
   {
    "duration": 7,
    "start_time": "2023-05-10T20:19:42.078Z"
   },
   {
    "duration": 5,
    "start_time": "2023-05-10T20:19:51.060Z"
   },
   {
    "duration": 6,
    "start_time": "2023-05-10T20:20:19.416Z"
   },
   {
    "duration": 5,
    "start_time": "2023-05-10T20:21:26.192Z"
   },
   {
    "duration": 6,
    "start_time": "2023-05-10T20:26:32.360Z"
   },
   {
    "duration": 14,
    "start_time": "2023-05-10T20:26:41.272Z"
   },
   {
    "duration": 3,
    "start_time": "2023-05-10T20:26:48.706Z"
   },
   {
    "duration": 8,
    "start_time": "2023-05-10T20:27:01.901Z"
   },
   {
    "duration": 8,
    "start_time": "2023-05-10T20:27:04.510Z"
   },
   {
    "duration": 7,
    "start_time": "2023-05-10T20:27:21.627Z"
   },
   {
    "duration": 8,
    "start_time": "2023-05-10T20:27:24.409Z"
   },
   {
    "duration": 7,
    "start_time": "2023-05-10T20:27:25.597Z"
   },
   {
    "duration": 5,
    "start_time": "2023-05-10T20:27:30.329Z"
   },
   {
    "duration": 7,
    "start_time": "2023-05-10T20:28:53.545Z"
   }
  ],
  "kernelspec": {
   "display_name": "Python 3 (ipykernel)",
   "language": "python",
   "name": "python3"
  },
  "language_info": {
   "codemirror_mode": {
    "name": "ipython",
    "version": 3
   },
   "file_extension": ".py",
   "mimetype": "text/x-python",
   "name": "python",
   "nbconvert_exporter": "python",
   "pygments_lexer": "ipython3",
   "version": "3.9.13"
  },
  "toc": {
   "base_numbering": 1,
   "nav_menu": {},
   "number_sections": true,
   "sideBar": true,
   "skip_h1_title": true,
   "title_cell": "Table of Contents",
   "title_sidebar": "Contents",
   "toc_cell": false,
   "toc_position": {},
   "toc_section_display": true,
   "toc_window_display": false
  }
 },
 "nbformat": 4,
 "nbformat_minor": 5
}
