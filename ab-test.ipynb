{
 "cells": [
  {
   "cell_type": "markdown",
   "metadata": {},
   "source": [
    "# Проект \"Анализ A/B-теста\""
   ]
  },
  {
   "cell_type": "markdown",
   "metadata": {},
   "source": [
    "**Цель проекта:** Приоритизировать гипотезы, провести A/B-тест и проанализировать результаты.\n",
    "\n",
    "**Ход исследования:**\n",
    "\n",
    "1. Загрузка данных и подготовка к анализу.  \n",
    "2. Приоритизация гипотез.\n",
    "3. Анализ A/B-теста.  \n",
    "4. Выводы.\n"
   ]
  },
  {
   "cell_type": "markdown",
   "metadata": {},
   "source": [
    "## Загрузка данных и подготовка к анализу"
   ]
  },
  {
   "cell_type": "code",
   "execution_count": 1,
   "metadata": {},
   "outputs": [],
   "source": [
    "# импорт библиотек\n",
    "import pandas as pd\n",
    "import numpy as np\n",
    "from datetime import datetime, timedelta\n",
    "from matplotlib import pyplot as plt\n",
    "import seaborn as sns\n",
    "import scipy.stats as stats"
   ]
  },
  {
   "cell_type": "code",
   "execution_count": 2,
   "metadata": {},
   "outputs": [],
   "source": [
    "# настройка вывода \n",
    "pd.set_option('display.float_format', '{:.2f}'.format)\n",
    "#colors = sns.color_palette('pastel')\n",
    "pd.options.display.max_colwidth = 130"
   ]
  },
  {
   "cell_type": "markdown",
   "metadata": {},
   "source": [
    "### Загрузка данных"
   ]
  },
  {
   "cell_type": "code",
   "execution_count": 3,
   "metadata": {},
   "outputs": [],
   "source": [
    "try:\n",
    "    hypothesis, orders, visitors = (\n",
    "           pd.read_csv('/datasets/hypothesis.csv'),  \n",
    "           pd.read_csv('/datasets/orders.csv'),  \n",
    "           pd.read_csv('/datasets/visitors.csv')  \n",
    "    )\n",
    "\n",
    "except:\n",
    "    hypothesis, orders, visitors = (\n",
    "           pd.read_csv('https://code.s3.yandex.net/datasets/hypothesis.csv'),  \n",
    "           pd.read_csv('https://code.s3.yandex.net/datasets/orders.csv'),  \n",
    "           pd.read_csv('https://code.s3.yandex.net/datasets/visitors.csv')  \n",
    "    )"
   ]
  },
  {
   "cell_type": "code",
   "execution_count": 5,
   "metadata": {},
   "outputs": [],
   "source": [
    "# функция для просмотра данных о дф\n",
    "def description(x):\n",
    "    display('Первые строки таблицы:')\n",
    "    display(x.head())\n",
    "    print('*'*50)\n",
    "    display('Общая информации о данных:')\n",
    "    display(x.info())\n",
    "    print('*'*50)\n",
    "    display('Распределение численных показателей:')\n",
    "    display(x.describe())\n",
    "    print('*'*50)\n",
    "    display('Проверка на дубликаты:')\n",
    "    display(x.duplicated().sum())    "
   ]
  },
  {
   "cell_type": "markdown",
   "metadata": {},
   "source": [
    "### Предобработка и обзор данных  \n",
    "  \n",
    "* **hypothesis.csv**"
   ]
  },
  {
   "cell_type": "code",
   "execution_count": 6,
   "metadata": {},
   "outputs": [
    {
     "data": {
      "text/plain": [
       "'Первые строки таблицы:'"
      ]
     },
     "metadata": {},
     "output_type": "display_data"
    },
    {
     "data": {
      "text/html": [
       "<div>\n",
       "<style scoped>\n",
       "    .dataframe tbody tr th:only-of-type {\n",
       "        vertical-align: middle;\n",
       "    }\n",
       "\n",
       "    .dataframe tbody tr th {\n",
       "        vertical-align: top;\n",
       "    }\n",
       "\n",
       "    .dataframe thead th {\n",
       "        text-align: right;\n",
       "    }\n",
       "</style>\n",
       "<table border=\"1\" class=\"dataframe\">\n",
       "  <thead>\n",
       "    <tr style=\"text-align: right;\">\n",
       "      <th></th>\n",
       "      <th>Hypothesis</th>\n",
       "      <th>Reach</th>\n",
       "      <th>Impact</th>\n",
       "      <th>Confidence</th>\n",
       "      <th>Efforts</th>\n",
       "    </tr>\n",
       "  </thead>\n",
       "  <tbody>\n",
       "    <tr>\n",
       "      <th>0</th>\n",
       "      <td>Добавить два новых канала привлечения трафика, что позволит привлекать на 30% больше пользователей</td>\n",
       "      <td>3</td>\n",
       "      <td>10</td>\n",
       "      <td>8</td>\n",
       "      <td>6</td>\n",
       "    </tr>\n",
       "    <tr>\n",
       "      <th>1</th>\n",
       "      <td>Запустить собственную службу доставки, что сократит срок доставки заказов</td>\n",
       "      <td>2</td>\n",
       "      <td>5</td>\n",
       "      <td>4</td>\n",
       "      <td>10</td>\n",
       "    </tr>\n",
       "    <tr>\n",
       "      <th>2</th>\n",
       "      <td>Добавить блоки рекомендаций товаров на сайт интернет магазина, чтобы повысить конверсию и средний чек заказа</td>\n",
       "      <td>8</td>\n",
       "      <td>3</td>\n",
       "      <td>7</td>\n",
       "      <td>3</td>\n",
       "    </tr>\n",
       "    <tr>\n",
       "      <th>3</th>\n",
       "      <td>Изменить структура категорий, что увеличит конверсию, т.к. пользователи быстрее найдут нужный товар</td>\n",
       "      <td>8</td>\n",
       "      <td>3</td>\n",
       "      <td>3</td>\n",
       "      <td>8</td>\n",
       "    </tr>\n",
       "    <tr>\n",
       "      <th>4</th>\n",
       "      <td>Изменить цвет фона главной страницы, чтобы увеличить вовлеченность пользователей</td>\n",
       "      <td>3</td>\n",
       "      <td>1</td>\n",
       "      <td>1</td>\n",
       "      <td>1</td>\n",
       "    </tr>\n",
       "  </tbody>\n",
       "</table>\n",
       "</div>"
      ],
      "text/plain": [
       "                                                                                                     Hypothesis  \\\n",
       "0            Добавить два новых канала привлечения трафика, что позволит привлекать на 30% больше пользователей   \n",
       "1                                     Запустить собственную службу доставки, что сократит срок доставки заказов   \n",
       "2  Добавить блоки рекомендаций товаров на сайт интернет магазина, чтобы повысить конверсию и средний чек заказа   \n",
       "3           Изменить структура категорий, что увеличит конверсию, т.к. пользователи быстрее найдут нужный товар   \n",
       "4                              Изменить цвет фона главной страницы, чтобы увеличить вовлеченность пользователей   \n",
       "\n",
       "   Reach  Impact  Confidence  Efforts  \n",
       "0      3      10           8        6  \n",
       "1      2       5           4       10  \n",
       "2      8       3           7        3  \n",
       "3      8       3           3        8  \n",
       "4      3       1           1        1  "
      ]
     },
     "metadata": {},
     "output_type": "display_data"
    },
    {
     "name": "stdout",
     "output_type": "stream",
     "text": [
      "**************************************************\n"
     ]
    },
    {
     "data": {
      "text/plain": [
       "'Общая информации о данных:'"
      ]
     },
     "metadata": {},
     "output_type": "display_data"
    },
    {
     "name": "stdout",
     "output_type": "stream",
     "text": [
      "<class 'pandas.core.frame.DataFrame'>\n",
      "RangeIndex: 9 entries, 0 to 8\n",
      "Data columns (total 5 columns):\n",
      " #   Column      Non-Null Count  Dtype \n",
      "---  ------      --------------  ----- \n",
      " 0   Hypothesis  9 non-null      object\n",
      " 1   Reach       9 non-null      int64 \n",
      " 2   Impact      9 non-null      int64 \n",
      " 3   Confidence  9 non-null      int64 \n",
      " 4   Efforts     9 non-null      int64 \n",
      "dtypes: int64(4), object(1)\n",
      "memory usage: 488.0+ bytes\n"
     ]
    },
    {
     "data": {
      "text/plain": [
       "None"
      ]
     },
     "metadata": {},
     "output_type": "display_data"
    },
    {
     "name": "stdout",
     "output_type": "stream",
     "text": [
      "**************************************************\n"
     ]
    },
    {
     "data": {
      "text/plain": [
       "'Распределение численных показателей:'"
      ]
     },
     "metadata": {},
     "output_type": "display_data"
    },
    {
     "data": {
      "text/html": [
       "<div>\n",
       "<style scoped>\n",
       "    .dataframe tbody tr th:only-of-type {\n",
       "        vertical-align: middle;\n",
       "    }\n",
       "\n",
       "    .dataframe tbody tr th {\n",
       "        vertical-align: top;\n",
       "    }\n",
       "\n",
       "    .dataframe thead th {\n",
       "        text-align: right;\n",
       "    }\n",
       "</style>\n",
       "<table border=\"1\" class=\"dataframe\">\n",
       "  <thead>\n",
       "    <tr style=\"text-align: right;\">\n",
       "      <th></th>\n",
       "      <th>Reach</th>\n",
       "      <th>Impact</th>\n",
       "      <th>Confidence</th>\n",
       "      <th>Efforts</th>\n",
       "    </tr>\n",
       "  </thead>\n",
       "  <tbody>\n",
       "    <tr>\n",
       "      <th>count</th>\n",
       "      <td>9.00</td>\n",
       "      <td>9.00</td>\n",
       "      <td>9.00</td>\n",
       "      <td>9.00</td>\n",
       "    </tr>\n",
       "    <tr>\n",
       "      <th>mean</th>\n",
       "      <td>4.78</td>\n",
       "      <td>4.78</td>\n",
       "      <td>5.56</td>\n",
       "      <td>4.89</td>\n",
       "    </tr>\n",
       "    <tr>\n",
       "      <th>std</th>\n",
       "      <td>3.15</td>\n",
       "      <td>3.19</td>\n",
       "      <td>3.05</td>\n",
       "      <td>2.80</td>\n",
       "    </tr>\n",
       "    <tr>\n",
       "      <th>min</th>\n",
       "      <td>1.00</td>\n",
       "      <td>1.00</td>\n",
       "      <td>1.00</td>\n",
       "      <td>1.00</td>\n",
       "    </tr>\n",
       "    <tr>\n",
       "      <th>25%</th>\n",
       "      <td>3.00</td>\n",
       "      <td>3.00</td>\n",
       "      <td>3.00</td>\n",
       "      <td>3.00</td>\n",
       "    </tr>\n",
       "    <tr>\n",
       "      <th>50%</th>\n",
       "      <td>3.00</td>\n",
       "      <td>3.00</td>\n",
       "      <td>7.00</td>\n",
       "      <td>5.00</td>\n",
       "    </tr>\n",
       "    <tr>\n",
       "      <th>75%</th>\n",
       "      <td>8.00</td>\n",
       "      <td>7.00</td>\n",
       "      <td>8.00</td>\n",
       "      <td>6.00</td>\n",
       "    </tr>\n",
       "    <tr>\n",
       "      <th>max</th>\n",
       "      <td>10.00</td>\n",
       "      <td>10.00</td>\n",
       "      <td>9.00</td>\n",
       "      <td>10.00</td>\n",
       "    </tr>\n",
       "  </tbody>\n",
       "</table>\n",
       "</div>"
      ],
      "text/plain": [
       "       Reach  Impact  Confidence  Efforts\n",
       "count   9.00    9.00        9.00     9.00\n",
       "mean    4.78    4.78        5.56     4.89\n",
       "std     3.15    3.19        3.05     2.80\n",
       "min     1.00    1.00        1.00     1.00\n",
       "25%     3.00    3.00        3.00     3.00\n",
       "50%     3.00    3.00        7.00     5.00\n",
       "75%     8.00    7.00        8.00     6.00\n",
       "max    10.00   10.00        9.00    10.00"
      ]
     },
     "metadata": {},
     "output_type": "display_data"
    },
    {
     "name": "stdout",
     "output_type": "stream",
     "text": [
      "**************************************************\n"
     ]
    },
    {
     "data": {
      "text/plain": [
       "'Проверка на дубликаты:'"
      ]
     },
     "metadata": {},
     "output_type": "display_data"
    },
    {
     "data": {
      "text/plain": [
       "0"
      ]
     },
     "metadata": {},
     "output_type": "display_data"
    }
   ],
   "source": [
    "description(hypothesis)"
   ]
  },
  {
   "cell_type": "markdown",
   "metadata": {},
   "source": [
    "Дано: датафрейм с 9 строками. Дубликатов нет, пропусков нет, типы данных корректные, надо перевести названия столбцов в нижний регистр."
   ]
  },
  {
   "cell_type": "code",
   "execution_count": 7,
   "metadata": {},
   "outputs": [
    {
     "data": {
      "text/html": [
       "<div>\n",
       "<style scoped>\n",
       "    .dataframe tbody tr th:only-of-type {\n",
       "        vertical-align: middle;\n",
       "    }\n",
       "\n",
       "    .dataframe tbody tr th {\n",
       "        vertical-align: top;\n",
       "    }\n",
       "\n",
       "    .dataframe thead th {\n",
       "        text-align: right;\n",
       "    }\n",
       "</style>\n",
       "<table border=\"1\" class=\"dataframe\">\n",
       "  <thead>\n",
       "    <tr style=\"text-align: right;\">\n",
       "      <th></th>\n",
       "      <th>hypothesis</th>\n",
       "      <th>reach</th>\n",
       "      <th>impact</th>\n",
       "      <th>confidence</th>\n",
       "      <th>efforts</th>\n",
       "    </tr>\n",
       "  </thead>\n",
       "  <tbody>\n",
       "    <tr>\n",
       "      <th>0</th>\n",
       "      <td>Добавить два новых канала привлечения трафика, что позволит привлекать на 30% больше пользователей</td>\n",
       "      <td>3</td>\n",
       "      <td>10</td>\n",
       "      <td>8</td>\n",
       "      <td>6</td>\n",
       "    </tr>\n",
       "    <tr>\n",
       "      <th>1</th>\n",
       "      <td>Запустить собственную службу доставки, что сократит срок доставки заказов</td>\n",
       "      <td>2</td>\n",
       "      <td>5</td>\n",
       "      <td>4</td>\n",
       "      <td>10</td>\n",
       "    </tr>\n",
       "    <tr>\n",
       "      <th>2</th>\n",
       "      <td>Добавить блоки рекомендаций товаров на сайт интернет магазина, чтобы повысить конверсию и средний чек заказа</td>\n",
       "      <td>8</td>\n",
       "      <td>3</td>\n",
       "      <td>7</td>\n",
       "      <td>3</td>\n",
       "    </tr>\n",
       "    <tr>\n",
       "      <th>3</th>\n",
       "      <td>Изменить структура категорий, что увеличит конверсию, т.к. пользователи быстрее найдут нужный товар</td>\n",
       "      <td>8</td>\n",
       "      <td>3</td>\n",
       "      <td>3</td>\n",
       "      <td>8</td>\n",
       "    </tr>\n",
       "    <tr>\n",
       "      <th>4</th>\n",
       "      <td>Изменить цвет фона главной страницы, чтобы увеличить вовлеченность пользователей</td>\n",
       "      <td>3</td>\n",
       "      <td>1</td>\n",
       "      <td>1</td>\n",
       "      <td>1</td>\n",
       "    </tr>\n",
       "    <tr>\n",
       "      <th>5</th>\n",
       "      <td>Добавить страницу отзывов клиентов о магазине, что позволит увеличить количество заказов</td>\n",
       "      <td>3</td>\n",
       "      <td>2</td>\n",
       "      <td>2</td>\n",
       "      <td>3</td>\n",
       "    </tr>\n",
       "    <tr>\n",
       "      <th>6</th>\n",
       "      <td>Показать на главной странице баннеры с актуальными акциями и распродажами, чтобы увеличить конверсию</td>\n",
       "      <td>5</td>\n",
       "      <td>3</td>\n",
       "      <td>8</td>\n",
       "      <td>3</td>\n",
       "    </tr>\n",
       "    <tr>\n",
       "      <th>7</th>\n",
       "      <td>Добавить форму подписки на все основные страницы, чтобы собрать базу клиентов для email-рассылок</td>\n",
       "      <td>10</td>\n",
       "      <td>7</td>\n",
       "      <td>8</td>\n",
       "      <td>5</td>\n",
       "    </tr>\n",
       "    <tr>\n",
       "      <th>8</th>\n",
       "      <td>Запустить акцию, дающую скидку на товар в день рождения</td>\n",
       "      <td>1</td>\n",
       "      <td>9</td>\n",
       "      <td>9</td>\n",
       "      <td>5</td>\n",
       "    </tr>\n",
       "  </tbody>\n",
       "</table>\n",
       "</div>"
      ],
      "text/plain": [
       "                                                                                                     hypothesis  \\\n",
       "0            Добавить два новых канала привлечения трафика, что позволит привлекать на 30% больше пользователей   \n",
       "1                                     Запустить собственную службу доставки, что сократит срок доставки заказов   \n",
       "2  Добавить блоки рекомендаций товаров на сайт интернет магазина, чтобы повысить конверсию и средний чек заказа   \n",
       "3           Изменить структура категорий, что увеличит конверсию, т.к. пользователи быстрее найдут нужный товар   \n",
       "4                              Изменить цвет фона главной страницы, чтобы увеличить вовлеченность пользователей   \n",
       "5                      Добавить страницу отзывов клиентов о магазине, что позволит увеличить количество заказов   \n",
       "6          Показать на главной странице баннеры с актуальными акциями и распродажами, чтобы увеличить конверсию   \n",
       "7              Добавить форму подписки на все основные страницы, чтобы собрать базу клиентов для email-рассылок   \n",
       "8                                                       Запустить акцию, дающую скидку на товар в день рождения   \n",
       "\n",
       "   reach  impact  confidence  efforts  \n",
       "0      3      10           8        6  \n",
       "1      2       5           4       10  \n",
       "2      8       3           7        3  \n",
       "3      8       3           3        8  \n",
       "4      3       1           1        1  \n",
       "5      3       2           2        3  \n",
       "6      5       3           8        3  \n",
       "7     10       7           8        5  \n",
       "8      1       9           9        5  "
      ]
     },
     "execution_count": 7,
     "metadata": {},
     "output_type": "execute_result"
    }
   ],
   "source": [
    "hypothesis.columns = hypothesis.columns.str.lower()\n",
    "hypothesis"
   ]
  },
  {
   "cell_type": "markdown",
   "metadata": {},
   "source": [
    "* **orders.csv**"
   ]
  },
  {
   "cell_type": "code",
   "execution_count": 8,
   "metadata": {},
   "outputs": [
    {
     "data": {
      "text/plain": [
       "'Первые строки таблицы:'"
      ]
     },
     "metadata": {},
     "output_type": "display_data"
    },
    {
     "data": {
      "text/html": [
       "<div>\n",
       "<style scoped>\n",
       "    .dataframe tbody tr th:only-of-type {\n",
       "        vertical-align: middle;\n",
       "    }\n",
       "\n",
       "    .dataframe tbody tr th {\n",
       "        vertical-align: top;\n",
       "    }\n",
       "\n",
       "    .dataframe thead th {\n",
       "        text-align: right;\n",
       "    }\n",
       "</style>\n",
       "<table border=\"1\" class=\"dataframe\">\n",
       "  <thead>\n",
       "    <tr style=\"text-align: right;\">\n",
       "      <th></th>\n",
       "      <th>transactionId</th>\n",
       "      <th>visitorId</th>\n",
       "      <th>date</th>\n",
       "      <th>revenue</th>\n",
       "      <th>group</th>\n",
       "    </tr>\n",
       "  </thead>\n",
       "  <tbody>\n",
       "    <tr>\n",
       "      <th>0</th>\n",
       "      <td>3667963787</td>\n",
       "      <td>3312258926</td>\n",
       "      <td>2019-08-15</td>\n",
       "      <td>1650</td>\n",
       "      <td>B</td>\n",
       "    </tr>\n",
       "    <tr>\n",
       "      <th>1</th>\n",
       "      <td>2804400009</td>\n",
       "      <td>3642806036</td>\n",
       "      <td>2019-08-15</td>\n",
       "      <td>730</td>\n",
       "      <td>B</td>\n",
       "    </tr>\n",
       "    <tr>\n",
       "      <th>2</th>\n",
       "      <td>2961555356</td>\n",
       "      <td>4069496402</td>\n",
       "      <td>2019-08-15</td>\n",
       "      <td>400</td>\n",
       "      <td>A</td>\n",
       "    </tr>\n",
       "    <tr>\n",
       "      <th>3</th>\n",
       "      <td>3797467345</td>\n",
       "      <td>1196621759</td>\n",
       "      <td>2019-08-15</td>\n",
       "      <td>9759</td>\n",
       "      <td>B</td>\n",
       "    </tr>\n",
       "    <tr>\n",
       "      <th>4</th>\n",
       "      <td>2282983706</td>\n",
       "      <td>2322279887</td>\n",
       "      <td>2019-08-15</td>\n",
       "      <td>2308</td>\n",
       "      <td>B</td>\n",
       "    </tr>\n",
       "  </tbody>\n",
       "</table>\n",
       "</div>"
      ],
      "text/plain": [
       "   transactionId   visitorId        date  revenue group\n",
       "0     3667963787  3312258926  2019-08-15     1650     B\n",
       "1     2804400009  3642806036  2019-08-15      730     B\n",
       "2     2961555356  4069496402  2019-08-15      400     A\n",
       "3     3797467345  1196621759  2019-08-15     9759     B\n",
       "4     2282983706  2322279887  2019-08-15     2308     B"
      ]
     },
     "metadata": {},
     "output_type": "display_data"
    },
    {
     "name": "stdout",
     "output_type": "stream",
     "text": [
      "**************************************************\n"
     ]
    },
    {
     "data": {
      "text/plain": [
       "'Общая информации о данных:'"
      ]
     },
     "metadata": {},
     "output_type": "display_data"
    },
    {
     "name": "stdout",
     "output_type": "stream",
     "text": [
      "<class 'pandas.core.frame.DataFrame'>\n",
      "RangeIndex: 1197 entries, 0 to 1196\n",
      "Data columns (total 5 columns):\n",
      " #   Column         Non-Null Count  Dtype \n",
      "---  ------         --------------  ----- \n",
      " 0   transactionId  1197 non-null   int64 \n",
      " 1   visitorId      1197 non-null   int64 \n",
      " 2   date           1197 non-null   object\n",
      " 3   revenue        1197 non-null   int64 \n",
      " 4   group          1197 non-null   object\n",
      "dtypes: int64(3), object(2)\n",
      "memory usage: 46.9+ KB\n"
     ]
    },
    {
     "data": {
      "text/plain": [
       "None"
      ]
     },
     "metadata": {},
     "output_type": "display_data"
    },
    {
     "name": "stdout",
     "output_type": "stream",
     "text": [
      "**************************************************\n"
     ]
    },
    {
     "data": {
      "text/plain": [
       "'Распределение численных показателей:'"
      ]
     },
     "metadata": {},
     "output_type": "display_data"
    },
    {
     "data": {
      "text/html": [
       "<div>\n",
       "<style scoped>\n",
       "    .dataframe tbody tr th:only-of-type {\n",
       "        vertical-align: middle;\n",
       "    }\n",
       "\n",
       "    .dataframe tbody tr th {\n",
       "        vertical-align: top;\n",
       "    }\n",
       "\n",
       "    .dataframe thead th {\n",
       "        text-align: right;\n",
       "    }\n",
       "</style>\n",
       "<table border=\"1\" class=\"dataframe\">\n",
       "  <thead>\n",
       "    <tr style=\"text-align: right;\">\n",
       "      <th></th>\n",
       "      <th>transactionId</th>\n",
       "      <th>visitorId</th>\n",
       "      <th>revenue</th>\n",
       "    </tr>\n",
       "  </thead>\n",
       "  <tbody>\n",
       "    <tr>\n",
       "      <th>count</th>\n",
       "      <td>1197.00</td>\n",
       "      <td>1197.00</td>\n",
       "      <td>1197.00</td>\n",
       "    </tr>\n",
       "    <tr>\n",
       "      <th>mean</th>\n",
       "      <td>2155621385.53</td>\n",
       "      <td>2165960143.10</td>\n",
       "      <td>8348.01</td>\n",
       "    </tr>\n",
       "    <tr>\n",
       "      <th>std</th>\n",
       "      <td>1229084904.76</td>\n",
       "      <td>1236014192.15</td>\n",
       "      <td>39191.13</td>\n",
       "    </tr>\n",
       "    <tr>\n",
       "      <th>min</th>\n",
       "      <td>1062393.00</td>\n",
       "      <td>5114589.00</td>\n",
       "      <td>50.00</td>\n",
       "    </tr>\n",
       "    <tr>\n",
       "      <th>25%</th>\n",
       "      <td>1166775572.00</td>\n",
       "      <td>1111826046.00</td>\n",
       "      <td>1220.00</td>\n",
       "    </tr>\n",
       "    <tr>\n",
       "      <th>50%</th>\n",
       "      <td>2145193898.00</td>\n",
       "      <td>2217984702.00</td>\n",
       "      <td>2978.00</td>\n",
       "    </tr>\n",
       "    <tr>\n",
       "      <th>75%</th>\n",
       "      <td>3237740112.00</td>\n",
       "      <td>3177606451.00</td>\n",
       "      <td>8290.00</td>\n",
       "    </tr>\n",
       "    <tr>\n",
       "      <th>max</th>\n",
       "      <td>4293855558.00</td>\n",
       "      <td>4283872382.00</td>\n",
       "      <td>1294500.00</td>\n",
       "    </tr>\n",
       "  </tbody>\n",
       "</table>\n",
       "</div>"
      ],
      "text/plain": [
       "       transactionId     visitorId    revenue\n",
       "count        1197.00       1197.00    1197.00\n",
       "mean   2155621385.53 2165960143.10    8348.01\n",
       "std    1229084904.76 1236014192.15   39191.13\n",
       "min       1062393.00    5114589.00      50.00\n",
       "25%    1166775572.00 1111826046.00    1220.00\n",
       "50%    2145193898.00 2217984702.00    2978.00\n",
       "75%    3237740112.00 3177606451.00    8290.00\n",
       "max    4293855558.00 4283872382.00 1294500.00"
      ]
     },
     "metadata": {},
     "output_type": "display_data"
    },
    {
     "name": "stdout",
     "output_type": "stream",
     "text": [
      "**************************************************\n"
     ]
    },
    {
     "data": {
      "text/plain": [
       "'Проверка на дубликаты:'"
      ]
     },
     "metadata": {},
     "output_type": "display_data"
    },
    {
     "data": {
      "text/plain": [
       "0"
      ]
     },
     "metadata": {},
     "output_type": "display_data"
    }
   ],
   "source": [
    "description(orders)"
   ]
  },
  {
   "cell_type": "markdown",
   "metadata": {},
   "source": [
    "Дано: датафрейм с 1197 строками. Дубликатов нет, пропусков нет. Надо скорректировать тип данных в столбце date, названия столбцов."
   ]
  },
  {
   "cell_type": "code",
   "execution_count": 9,
   "metadata": {},
   "outputs": [],
   "source": [
    "orders['date'] = pd.to_datetime(orders['date'])"
   ]
  },
  {
   "cell_type": "code",
   "execution_count": 10,
   "metadata": {},
   "outputs": [],
   "source": [
    "orders = orders.rename(columns={'transactionId':'transaction_id', 'visitorId':'visitor_id'})\n",
    "#orders.columns\n",
    "#orders.info()"
   ]
  },
  {
   "cell_type": "code",
   "execution_count": 11,
   "metadata": {},
   "outputs": [
    {
     "data": {
      "text/plain": [
       "array(['B', 'A'], dtype=object)"
      ]
     },
     "execution_count": 11,
     "metadata": {},
     "output_type": "execute_result"
    }
   ],
   "source": [
    "orders['group'].unique()"
   ]
  },
  {
   "cell_type": "code",
   "execution_count": 12,
   "metadata": {},
   "outputs": [
    {
     "data": {
      "text/html": [
       "<div>\n",
       "<style scoped>\n",
       "    .dataframe tbody tr th:only-of-type {\n",
       "        vertical-align: middle;\n",
       "    }\n",
       "\n",
       "    .dataframe tbody tr th {\n",
       "        vertical-align: top;\n",
       "    }\n",
       "\n",
       "    .dataframe thead th {\n",
       "        text-align: right;\n",
       "    }\n",
       "</style>\n",
       "<table border=\"1\" class=\"dataframe\">\n",
       "  <thead>\n",
       "    <tr style=\"text-align: right;\">\n",
       "      <th></th>\n",
       "      <th>group</th>\n",
       "      <th>visitor_id</th>\n",
       "    </tr>\n",
       "  </thead>\n",
       "  <tbody>\n",
       "    <tr>\n",
       "      <th>0</th>\n",
       "      <td>A</td>\n",
       "      <td>503</td>\n",
       "    </tr>\n",
       "    <tr>\n",
       "      <th>1</th>\n",
       "      <td>B</td>\n",
       "      <td>586</td>\n",
       "    </tr>\n",
       "  </tbody>\n",
       "</table>\n",
       "</div>"
      ],
      "text/plain": [
       "  group  visitor_id\n",
       "0     A         503\n",
       "1     B         586"
      ]
     },
     "execution_count": 12,
     "metadata": {},
     "output_type": "execute_result"
    }
   ],
   "source": [
    "orders.groupby('group', as_index=False).agg({'visitor_id':'nunique'})"
   ]
  },
  {
   "cell_type": "markdown",
   "metadata": {},
   "source": [
    "Пользователи разделены на две группы: A и B, группа В больше примерно на 16%, что не совсем корректно. Величина выручки имеет большой разброс: от 50 до 1294500 у.е."
   ]
  },
  {
   "cell_type": "markdown",
   "metadata": {},
   "source": [
    "* **visitors.csv**"
   ]
  },
  {
   "cell_type": "code",
   "execution_count": 13,
   "metadata": {},
   "outputs": [
    {
     "data": {
      "text/plain": [
       "'Первые строки таблицы:'"
      ]
     },
     "metadata": {},
     "output_type": "display_data"
    },
    {
     "data": {
      "text/html": [
       "<div>\n",
       "<style scoped>\n",
       "    .dataframe tbody tr th:only-of-type {\n",
       "        vertical-align: middle;\n",
       "    }\n",
       "\n",
       "    .dataframe tbody tr th {\n",
       "        vertical-align: top;\n",
       "    }\n",
       "\n",
       "    .dataframe thead th {\n",
       "        text-align: right;\n",
       "    }\n",
       "</style>\n",
       "<table border=\"1\" class=\"dataframe\">\n",
       "  <thead>\n",
       "    <tr style=\"text-align: right;\">\n",
       "      <th></th>\n",
       "      <th>date</th>\n",
       "      <th>group</th>\n",
       "      <th>visitors</th>\n",
       "    </tr>\n",
       "  </thead>\n",
       "  <tbody>\n",
       "    <tr>\n",
       "      <th>0</th>\n",
       "      <td>2019-08-01</td>\n",
       "      <td>A</td>\n",
       "      <td>719</td>\n",
       "    </tr>\n",
       "    <tr>\n",
       "      <th>1</th>\n",
       "      <td>2019-08-02</td>\n",
       "      <td>A</td>\n",
       "      <td>619</td>\n",
       "    </tr>\n",
       "    <tr>\n",
       "      <th>2</th>\n",
       "      <td>2019-08-03</td>\n",
       "      <td>A</td>\n",
       "      <td>507</td>\n",
       "    </tr>\n",
       "    <tr>\n",
       "      <th>3</th>\n",
       "      <td>2019-08-04</td>\n",
       "      <td>A</td>\n",
       "      <td>717</td>\n",
       "    </tr>\n",
       "    <tr>\n",
       "      <th>4</th>\n",
       "      <td>2019-08-05</td>\n",
       "      <td>A</td>\n",
       "      <td>756</td>\n",
       "    </tr>\n",
       "  </tbody>\n",
       "</table>\n",
       "</div>"
      ],
      "text/plain": [
       "         date group  visitors\n",
       "0  2019-08-01     A       719\n",
       "1  2019-08-02     A       619\n",
       "2  2019-08-03     A       507\n",
       "3  2019-08-04     A       717\n",
       "4  2019-08-05     A       756"
      ]
     },
     "metadata": {},
     "output_type": "display_data"
    },
    {
     "name": "stdout",
     "output_type": "stream",
     "text": [
      "**************************************************\n"
     ]
    },
    {
     "data": {
      "text/plain": [
       "'Общая информации о данных:'"
      ]
     },
     "metadata": {},
     "output_type": "display_data"
    },
    {
     "name": "stdout",
     "output_type": "stream",
     "text": [
      "<class 'pandas.core.frame.DataFrame'>\n",
      "RangeIndex: 62 entries, 0 to 61\n",
      "Data columns (total 3 columns):\n",
      " #   Column    Non-Null Count  Dtype \n",
      "---  ------    --------------  ----- \n",
      " 0   date      62 non-null     object\n",
      " 1   group     62 non-null     object\n",
      " 2   visitors  62 non-null     int64 \n",
      "dtypes: int64(1), object(2)\n",
      "memory usage: 1.6+ KB\n"
     ]
    },
    {
     "data": {
      "text/plain": [
       "None"
      ]
     },
     "metadata": {},
     "output_type": "display_data"
    },
    {
     "name": "stdout",
     "output_type": "stream",
     "text": [
      "**************************************************\n"
     ]
    },
    {
     "data": {
      "text/plain": [
       "'Распределение численных показателей:'"
      ]
     },
     "metadata": {},
     "output_type": "display_data"
    },
    {
     "data": {
      "text/html": [
       "<div>\n",
       "<style scoped>\n",
       "    .dataframe tbody tr th:only-of-type {\n",
       "        vertical-align: middle;\n",
       "    }\n",
       "\n",
       "    .dataframe tbody tr th {\n",
       "        vertical-align: top;\n",
       "    }\n",
       "\n",
       "    .dataframe thead th {\n",
       "        text-align: right;\n",
       "    }\n",
       "</style>\n",
       "<table border=\"1\" class=\"dataframe\">\n",
       "  <thead>\n",
       "    <tr style=\"text-align: right;\">\n",
       "      <th></th>\n",
       "      <th>visitors</th>\n",
       "    </tr>\n",
       "  </thead>\n",
       "  <tbody>\n",
       "    <tr>\n",
       "      <th>count</th>\n",
       "      <td>62.00</td>\n",
       "    </tr>\n",
       "    <tr>\n",
       "      <th>mean</th>\n",
       "      <td>607.29</td>\n",
       "    </tr>\n",
       "    <tr>\n",
       "      <th>std</th>\n",
       "      <td>114.40</td>\n",
       "    </tr>\n",
       "    <tr>\n",
       "      <th>min</th>\n",
       "      <td>361.00</td>\n",
       "    </tr>\n",
       "    <tr>\n",
       "      <th>25%</th>\n",
       "      <td>534.00</td>\n",
       "    </tr>\n",
       "    <tr>\n",
       "      <th>50%</th>\n",
       "      <td>624.50</td>\n",
       "    </tr>\n",
       "    <tr>\n",
       "      <th>75%</th>\n",
       "      <td>710.50</td>\n",
       "    </tr>\n",
       "    <tr>\n",
       "      <th>max</th>\n",
       "      <td>770.00</td>\n",
       "    </tr>\n",
       "  </tbody>\n",
       "</table>\n",
       "</div>"
      ],
      "text/plain": [
       "       visitors\n",
       "count     62.00\n",
       "mean     607.29\n",
       "std      114.40\n",
       "min      361.00\n",
       "25%      534.00\n",
       "50%      624.50\n",
       "75%      710.50\n",
       "max      770.00"
      ]
     },
     "metadata": {},
     "output_type": "display_data"
    },
    {
     "name": "stdout",
     "output_type": "stream",
     "text": [
      "**************************************************\n"
     ]
    },
    {
     "data": {
      "text/plain": [
       "'Проверка на дубликаты:'"
      ]
     },
     "metadata": {},
     "output_type": "display_data"
    },
    {
     "data": {
      "text/plain": [
       "0"
      ]
     },
     "metadata": {},
     "output_type": "display_data"
    }
   ],
   "source": [
    "description(visitors)"
   ]
  },
  {
   "cell_type": "markdown",
   "metadata": {},
   "source": [
    "Дано: датафрейм с 62 строками. Дубликатов нет, пропусков нет, названия столбцов корректные. Надо скорректировать тип данных в столбце date."
   ]
  },
  {
   "cell_type": "code",
   "execution_count": 14,
   "metadata": {},
   "outputs": [],
   "source": [
    "visitors['date'] = pd.to_datetime(visitors['date'])"
   ]
  },
  {
   "cell_type": "code",
   "execution_count": 15,
   "metadata": {},
   "outputs": [
    {
     "name": "stdout",
     "output_type": "stream",
     "text": [
      "Самая ранняя дата наблюдения: 2019-08-01 00:00:00\n",
      "Последняя дата наблюдения: 2019-08-31 00:00:00\n"
     ]
    }
   ],
   "source": [
    "print('Самая ранняя дата наблюдения:', visitors['date'].min())\n",
    "print('Последняя дата наблюдения:', visitors['date'].max())"
   ]
  },
  {
   "cell_type": "code",
   "execution_count": 16,
   "metadata": {},
   "outputs": [
    {
     "data": {
      "image/png": "[encoded data removed]",
      "text/plain": [
       "<Figure size 1080x360 with 1 Axes>"
      ]
     },
     "metadata": {
      "needs_background": "light"
     },
     "output_type": "display_data"
    }
   ],
   "source": [
    "plt.figure(figsize=(15, 5))\n",
    "plt.plot(visitors[visitors['group'] == 'A']['date'], visitors[visitors['group']=='A']['visitors'], label='A')\n",
    "plt.plot(visitors[visitors['group'] == 'B']['date'], visitors[visitors['group']=='B']['visitors'], label='B')\n",
    "plt.legend()\n",
    "plt.grid()\n",
    "plt.xticks(rotation=45)\n",
    "plt.title(\"Динамика посетителей по дням по группам\")\n",
    "plt.ylabel(\"Количество посетителей\")\n",
    "plt.xlabel(\"Дата\")\n",
    "plt.show()"
   ]
  },
  {
   "cell_type": "markdown",
   "metadata": {},
   "source": [
    "В целом динамика посетителей совпадает в обеих группах, циклична, колеблется примерно от 360 до 770 посетителей/день. "
   ]
  },
  {
   "cell_type": "markdown",
   "metadata": {},
   "source": [
    "**Вывод:** \n",
    "* Файл с гипотезами `hypothesis.csv`: имеются данные о 9 гипотезах, для каждой гипотезы проведена оценка параметров reach, impact, confidence, efforts по 10-балльной шкале. Тип данных корректный, названия столбцов приведены к нижнему регистру, пропуски и дубликаты не обнаружены.\n",
    "\n",
    "* Файл с данными о заказах `orders.csv`: 1197 строк с данными об id заказа, пользователей, сделавшем заказ, дате, выручке и группе A/B-теста, в которую попал заказ. Пропусков и дубликатов нет, скорректирован тип данных в столбце с датой заказа, названия столбцов. Пользователи разделены на две группы: A и B, группа В больше примерно на 16%.\n",
    "\n",
    "* Файл с данными о посещениях/активности пользователей `visitors.csv`: 62 строки c данными об активности пользователей за период с 01.08.2019 по 31.08.2019 в каждой из групп теста. Названия столбцов корректны, пропусков нет, скорректирован тип данных в столбце с датой."
   ]
  },
  {
   "cell_type": "markdown",
   "metadata": {},
   "source": [
    "## Приоритизация гипотез"
   ]
  },
  {
   "cell_type": "markdown",
   "metadata": {},
   "source": [
    "### ICE scoring\n",
    "Применим модель ICE для приоритизации гипотез."
   ]
  },
  {
   "cell_type": "code",
   "execution_count": 17,
   "metadata": {},
   "outputs": [
    {
     "data": {
      "text/html": [
       "<div>\n",
       "<style scoped>\n",
       "    .dataframe tbody tr th:only-of-type {\n",
       "        vertical-align: middle;\n",
       "    }\n",
       "\n",
       "    .dataframe tbody tr th {\n",
       "        vertical-align: top;\n",
       "    }\n",
       "\n",
       "    .dataframe thead th {\n",
       "        text-align: right;\n",
       "    }\n",
       "</style>\n",
       "<table border=\"1\" class=\"dataframe\">\n",
       "  <thead>\n",
       "    <tr style=\"text-align: right;\">\n",
       "      <th></th>\n",
       "      <th>hypothesis</th>\n",
       "      <th>ice</th>\n",
       "    </tr>\n",
       "  </thead>\n",
       "  <tbody>\n",
       "    <tr>\n",
       "      <th>8</th>\n",
       "      <td>Запустить акцию, дающую скидку на товар в день рождения</td>\n",
       "      <td>16.20</td>\n",
       "    </tr>\n",
       "    <tr>\n",
       "      <th>0</th>\n",
       "      <td>Добавить два новых канала привлечения трафика, что позволит привлекать на 30% больше пользователей</td>\n",
       "      <td>13.33</td>\n",
       "    </tr>\n",
       "    <tr>\n",
       "      <th>7</th>\n",
       "      <td>Добавить форму подписки на все основные страницы, чтобы собрать базу клиентов для email-рассылок</td>\n",
       "      <td>11.20</td>\n",
       "    </tr>\n",
       "    <tr>\n",
       "      <th>6</th>\n",
       "      <td>Показать на главной странице баннеры с актуальными акциями и распродажами, чтобы увеличить конверсию</td>\n",
       "      <td>8.00</td>\n",
       "    </tr>\n",
       "    <tr>\n",
       "      <th>2</th>\n",
       "      <td>Добавить блоки рекомендаций товаров на сайт интернет магазина, чтобы повысить конверсию и средний чек заказа</td>\n",
       "      <td>7.00</td>\n",
       "    </tr>\n",
       "    <tr>\n",
       "      <th>1</th>\n",
       "      <td>Запустить собственную службу доставки, что сократит срок доставки заказов</td>\n",
       "      <td>2.00</td>\n",
       "    </tr>\n",
       "    <tr>\n",
       "      <th>5</th>\n",
       "      <td>Добавить страницу отзывов клиентов о магазине, что позволит увеличить количество заказов</td>\n",
       "      <td>1.33</td>\n",
       "    </tr>\n",
       "    <tr>\n",
       "      <th>3</th>\n",
       "      <td>Изменить структура категорий, что увеличит конверсию, т.к. пользователи быстрее найдут нужный товар</td>\n",
       "      <td>1.12</td>\n",
       "    </tr>\n",
       "    <tr>\n",
       "      <th>4</th>\n",
       "      <td>Изменить цвет фона главной страницы, чтобы увеличить вовлеченность пользователей</td>\n",
       "      <td>1.00</td>\n",
       "    </tr>\n",
       "  </tbody>\n",
       "</table>\n",
       "</div>"
      ],
      "text/plain": [
       "                                                                                                     hypothesis  \\\n",
       "8                                                       Запустить акцию, дающую скидку на товар в день рождения   \n",
       "0            Добавить два новых канала привлечения трафика, что позволит привлекать на 30% больше пользователей   \n",
       "7              Добавить форму подписки на все основные страницы, чтобы собрать базу клиентов для email-рассылок   \n",
       "6          Показать на главной странице баннеры с актуальными акциями и распродажами, чтобы увеличить конверсию   \n",
       "2  Добавить блоки рекомендаций товаров на сайт интернет магазина, чтобы повысить конверсию и средний чек заказа   \n",
       "1                                     Запустить собственную службу доставки, что сократит срок доставки заказов   \n",
       "5                      Добавить страницу отзывов клиентов о магазине, что позволит увеличить количество заказов   \n",
       "3           Изменить структура категорий, что увеличит конверсию, т.к. пользователи быстрее найдут нужный товар   \n",
       "4                              Изменить цвет фона главной страницы, чтобы увеличить вовлеченность пользователей   \n",
       "\n",
       "    ice  \n",
       "8 16.20  \n",
       "0 13.33  \n",
       "7 11.20  \n",
       "6  8.00  \n",
       "2  7.00  \n",
       "1  2.00  \n",
       "5  1.33  \n",
       "3  1.12  \n",
       "4  1.00  "
      ]
     },
     "metadata": {},
     "output_type": "display_data"
    }
   ],
   "source": [
    "hypothesis['ice'] = hypothesis['impact'] * hypothesis['confidence'] / hypothesis['efforts']\n",
    "display(hypothesis[['hypothesis', 'ice']].sort_values(by='ice', ascending=False))"
   ]
  },
  {
   "cell_type": "markdown",
   "metadata": {},
   "source": [
    "Следующие гипотезы получили самые высокие приорететы:  \n",
    "* Гипотеза № 9: \"Запустить акцию, дающую скидку на товар в день рождения\";  \n",
    "* Гипотеза № 1: \"Добавить два новых канала привлечения трафика, что позволит привлекать на 30% больше пользователей\";  \n",
    "* Гипотеза № 8: \"Добавить форму подписки на все основные страницы, чтобы собрать базу клиентов для email-рассылок\".\n",
    "\n",
    "Фреймворк **ICE** приоритизирует гипотезы с учетом 3 параметров:  \n",
    "* Параметр Impact показывает, насколько сильно изменение повлияет на охваченных пользователей.  \n",
    "* Параметр Confidence показывает, насколько вы уверены в оценках других параметров.  \n",
    "* Параметр Efforts показывает, насколько сложно проверить гипотезу."
   ]
  },
  {
   "cell_type": "markdown",
   "metadata": {},
   "source": [
    "### RICE scoring\n",
    "Применим модель RICE для приоритизации гипотез."
   ]
  },
  {
   "cell_type": "code",
   "execution_count": 18,
   "metadata": {},
   "outputs": [
    {
     "data": {
      "text/html": [
       "<div>\n",
       "<style scoped>\n",
       "    .dataframe tbody tr th:only-of-type {\n",
       "        vertical-align: middle;\n",
       "    }\n",
       "\n",
       "    .dataframe tbody tr th {\n",
       "        vertical-align: top;\n",
       "    }\n",
       "\n",
       "    .dataframe thead th {\n",
       "        text-align: right;\n",
       "    }\n",
       "</style>\n",
       "<table border=\"1\" class=\"dataframe\">\n",
       "  <thead>\n",
       "    <tr style=\"text-align: right;\">\n",
       "      <th></th>\n",
       "      <th>hypothesis</th>\n",
       "      <th>rice</th>\n",
       "    </tr>\n",
       "  </thead>\n",
       "  <tbody>\n",
       "    <tr>\n",
       "      <th>7</th>\n",
       "      <td>Добавить форму подписки на все основные страницы, чтобы собрать базу клиентов для email-рассылок</td>\n",
       "      <td>112.00</td>\n",
       "    </tr>\n",
       "    <tr>\n",
       "      <th>2</th>\n",
       "      <td>Добавить блоки рекомендаций товаров на сайт интернет магазина, чтобы повысить конверсию и средний чек заказа</td>\n",
       "      <td>56.00</td>\n",
       "    </tr>\n",
       "    <tr>\n",
       "      <th>0</th>\n",
       "      <td>Добавить два новых канала привлечения трафика, что позволит привлекать на 30% больше пользователей</td>\n",
       "      <td>40.00</td>\n",
       "    </tr>\n",
       "    <tr>\n",
       "      <th>6</th>\n",
       "      <td>Показать на главной странице баннеры с актуальными акциями и распродажами, чтобы увеличить конверсию</td>\n",
       "      <td>40.00</td>\n",
       "    </tr>\n",
       "    <tr>\n",
       "      <th>8</th>\n",
       "      <td>Запустить акцию, дающую скидку на товар в день рождения</td>\n",
       "      <td>16.20</td>\n",
       "    </tr>\n",
       "    <tr>\n",
       "      <th>3</th>\n",
       "      <td>Изменить структура категорий, что увеличит конверсию, т.к. пользователи быстрее найдут нужный товар</td>\n",
       "      <td>9.00</td>\n",
       "    </tr>\n",
       "    <tr>\n",
       "      <th>1</th>\n",
       "      <td>Запустить собственную службу доставки, что сократит срок доставки заказов</td>\n",
       "      <td>4.00</td>\n",
       "    </tr>\n",
       "    <tr>\n",
       "      <th>5</th>\n",
       "      <td>Добавить страницу отзывов клиентов о магазине, что позволит увеличить количество заказов</td>\n",
       "      <td>4.00</td>\n",
       "    </tr>\n",
       "    <tr>\n",
       "      <th>4</th>\n",
       "      <td>Изменить цвет фона главной страницы, чтобы увеличить вовлеченность пользователей</td>\n",
       "      <td>3.00</td>\n",
       "    </tr>\n",
       "  </tbody>\n",
       "</table>\n",
       "</div>"
      ],
      "text/plain": [
       "                                                                                                     hypothesis  \\\n",
       "7              Добавить форму подписки на все основные страницы, чтобы собрать базу клиентов для email-рассылок   \n",
       "2  Добавить блоки рекомендаций товаров на сайт интернет магазина, чтобы повысить конверсию и средний чек заказа   \n",
       "0            Добавить два новых канала привлечения трафика, что позволит привлекать на 30% больше пользователей   \n",
       "6          Показать на главной странице баннеры с актуальными акциями и распродажами, чтобы увеличить конверсию   \n",
       "8                                                       Запустить акцию, дающую скидку на товар в день рождения   \n",
       "3           Изменить структура категорий, что увеличит конверсию, т.к. пользователи быстрее найдут нужный товар   \n",
       "1                                     Запустить собственную службу доставки, что сократит срок доставки заказов   \n",
       "5                      Добавить страницу отзывов клиентов о магазине, что позволит увеличить количество заказов   \n",
       "4                              Изменить цвет фона главной страницы, чтобы увеличить вовлеченность пользователей   \n",
       "\n",
       "    rice  \n",
       "7 112.00  \n",
       "2  56.00  \n",
       "0  40.00  \n",
       "6  40.00  \n",
       "8  16.20  \n",
       "3   9.00  \n",
       "1   4.00  \n",
       "5   4.00  \n",
       "4   3.00  "
      ]
     },
     "metadata": {},
     "output_type": "display_data"
    }
   ],
   "source": [
    "hypothesis['rice'] = hypothesis['reach']* hypothesis['impact'] * hypothesis['confidence'] / hypothesis['efforts']\n",
    "display(hypothesis[['hypothesis', 'rice']].sort_values(by='rice', ascending=False))"
   ]
  },
  {
   "cell_type": "markdown",
   "metadata": {},
   "source": [
    "Вывод: При применении модели RICE для приоритизации гипотез самые высокие приорететы получили гипотезы:  \n",
    "* Гипотеза № 8: \"Добавить форму подписки на все основные страницы, чтобы собрать базу клиентов для email-рассылок\";  \n",
    "* Гипотеза № 3: \"Добавить блоки рекомендаций товаров на сайт интернет магазина, чтобы повысить конверсию и средний чек заказа\"; \n",
    "* Гипотеза № 1: \"Добавить два новых канала привлечения трафика, что позволит привлекать на 30% больше пользователей\";\n",
    "* Гипотеза № 7: \"Показать на главной странице баннеры с актуальными акциями и распродажами, чтобы увеличить конверсию\".\n",
    "\n",
    "\n",
    "Фреймворк **RICE** приоритизирует гипотезы с учетом 3 параметров:  \n",
    "* Параметр Impact показывает, насколько сильно изменение повлияет на охваченных пользователей.  \n",
    "* Параметр Confidence показывает, насколько вы уверены в оценках других параметров.  \n",
    "* Параметр Efforts показывает, насколько сложно проверить гипотезу.\n",
    "* Параметр Reach показывает, скольких пользователей затронет вносимое изменение."
   ]
  },
  {
   "cell_type": "markdown",
   "metadata": {},
   "source": [
    "**Вывод:**  \n",
    "В отличие от ICE, фреймворк RICE учитывает дополнительно охват пользователей, которых затронет вносимое изменение. Так, гипотеза № 9 о запуске акции, дающей скидку на товар в день рождения, с учетом охвата пользователей получает куда более низкие рейтинги, т.к. охватывает небольшую группу пользователей.  \n",
    "Таким образом, наиболее перспективными гипотезами можно считать следующие:  \n",
    "* Гипотеза № 8: \"Добавить форму подписки на все основные страницы, чтобы собрать базу клиентов для email-рассылок\";  \n",
    "* Гипотеза № 1: \"Добавить два новых канала привлечения трафика, что позволит привлекать на 30% больше пользователей\";  \n",
    "* Гипотеза № 7: \"Показать на главной странице баннеры с актуальными акциями и распродажами, чтобы увеличить конверсию\"."
   ]
  },
  {
   "cell_type": "markdown",
   "metadata": {},
   "source": [
    "## Анализ A/B-теста"
   ]
  },
  {
   "cell_type": "markdown",
   "metadata": {},
   "source": [
    "Перед проведением анализа A/B-теста проверим данные на корректность, в частности нет ли попадания одних и тех же пользователей в разные группы."
   ]
  },
  {
   "cell_type": "code",
   "execution_count": 19,
   "metadata": {},
   "outputs": [
    {
     "data": {
      "text/plain": [
       "array([   8300375,  199603092,  232979603,  237748145,  276558944,\n",
       "        351125977,  393266494,  457167155,  471551937,  477780734,\n",
       "        818047933,  963407295, 1230306981, 1294878855, 1316129916,\n",
       "       1333886533, 1404934699, 1602967004, 1614305549, 1648269707,\n",
       "       1668030113, 1738359350, 1801183820, 1959144690, 2038680547,\n",
       "       2044997962, 2378935119, 2458001652, 2579882178, 2587333274,\n",
       "       2600415354, 2654030115, 2686716486, 2712142231, 2716752286,\n",
       "       2780786433, 2927087541, 2949041841, 2954449915, 3062433592,\n",
       "       3202540741, 3234906277, 3656415546, 3717692402, 3766097110,\n",
       "       3803269165, 3891541246, 3941795274, 3951559397, 3957174400,\n",
       "       3963646447, 3972127743, 3984495233, 4069496402, 4120364173,\n",
       "       4186807279, 4256040402, 4266935830])"
      ]
     },
     "execution_count": 19,
     "metadata": {},
     "output_type": "execute_result"
    }
   ],
   "source": [
    "# список пользователей, попавших в группу А\n",
    "visitors_A = orders[orders['group'] == 'A']['visitor_id'].unique()\n",
    "# список пользователей, попавших в группу В\n",
    "visitors_B = orders[orders['group'] == 'B']['visitor_id'].unique()\n",
    "# пересечения списков\n",
    "visitors_AB = np.intersect1d(visitors_A, visitors_B)\n",
    "visitors_AB\n",
    "# len(visitors_AB)"
   ]
  },
  {
   "cell_type": "code",
   "execution_count": 20,
   "metadata": {},
   "outputs": [
    {
     "data": {
      "text/html": [
       "<div>\n",
       "<style scoped>\n",
       "    .dataframe tbody tr th:only-of-type {\n",
       "        vertical-align: middle;\n",
       "    }\n",
       "\n",
       "    .dataframe tbody tr th {\n",
       "        vertical-align: top;\n",
       "    }\n",
       "\n",
       "    .dataframe thead th {\n",
       "        text-align: right;\n",
       "    }\n",
       "</style>\n",
       "<table border=\"1\" class=\"dataframe\">\n",
       "  <thead>\n",
       "    <tr style=\"text-align: right;\">\n",
       "      <th></th>\n",
       "      <th>transaction_id</th>\n",
       "      <th>visitor_id</th>\n",
       "      <th>date</th>\n",
       "      <th>revenue</th>\n",
       "      <th>group</th>\n",
       "    </tr>\n",
       "  </thead>\n",
       "  <tbody>\n",
       "    <tr>\n",
       "      <th>406</th>\n",
       "      <td>1441855393</td>\n",
       "      <td>1404934699</td>\n",
       "      <td>2019-08-03</td>\n",
       "      <td>26980</td>\n",
       "      <td>B</td>\n",
       "    </tr>\n",
       "    <tr>\n",
       "      <th>1036</th>\n",
       "      <td>2890600501</td>\n",
       "      <td>1404934699</td>\n",
       "      <td>2019-08-09</td>\n",
       "      <td>8340</td>\n",
       "      <td>B</td>\n",
       "    </tr>\n",
       "    <tr>\n",
       "      <th>1044</th>\n",
       "      <td>1814628689</td>\n",
       "      <td>1404934699</td>\n",
       "      <td>2019-08-11</td>\n",
       "      <td>8640</td>\n",
       "      <td>A</td>\n",
       "    </tr>\n",
       "  </tbody>\n",
       "</table>\n",
       "</div>"
      ],
      "text/plain": [
       "      transaction_id  visitor_id       date  revenue group\n",
       "406       1441855393  1404934699 2019-08-03    26980     B\n",
       "1036      2890600501  1404934699 2019-08-09     8340     B\n",
       "1044      1814628689  1404934699 2019-08-11     8640     A"
      ]
     },
     "metadata": {},
     "output_type": "display_data"
    },
    {
     "data": {
      "text/plain": [
       "58"
      ]
     },
     "execution_count": 20,
     "metadata": {},
     "output_type": "execute_result"
    }
   ],
   "source": [
    "display(orders[orders['visitor_id'] == 1404934699])\n",
    "len(visitors_AB)"
   ]
  },
  {
   "cell_type": "markdown",
   "metadata": {},
   "source": [
    "Некоторые пользователи (58) попали одновременно в обе группы тестирования, что некорректно, т.к. сама суть тестирования в том, что пользователь может состоять только в одной группе. Несмотря на потерю данных, считаю необходимым удалить этих пользователей из анализа."
   ]
  },
  {
   "cell_type": "code",
   "execution_count": 21,
   "metadata": {},
   "outputs": [
    {
     "data": {
      "text/plain": [
       "1016"
      ]
     },
     "execution_count": 21,
     "metadata": {},
     "output_type": "execute_result"
    }
   ],
   "source": [
    "orders = orders[orders['visitor_id'].isin(list(visitors_AB)) != True]\n",
    "len(orders)"
   ]
  },
  {
   "cell_type": "code",
   "execution_count": 22,
   "metadata": {},
   "outputs": [
    {
     "data": {
      "text/html": [
       "<div>\n",
       "<style scoped>\n",
       "    .dataframe tbody tr th:only-of-type {\n",
       "        vertical-align: middle;\n",
       "    }\n",
       "\n",
       "    .dataframe tbody tr th {\n",
       "        vertical-align: top;\n",
       "    }\n",
       "\n",
       "    .dataframe thead th {\n",
       "        text-align: right;\n",
       "    }\n",
       "</style>\n",
       "<table border=\"1\" class=\"dataframe\">\n",
       "  <thead>\n",
       "    <tr style=\"text-align: right;\">\n",
       "      <th></th>\n",
       "      <th>group</th>\n",
       "      <th>visitor_id</th>\n",
       "    </tr>\n",
       "  </thead>\n",
       "  <tbody>\n",
       "    <tr>\n",
       "      <th>0</th>\n",
       "      <td>A</td>\n",
       "      <td>445</td>\n",
       "    </tr>\n",
       "    <tr>\n",
       "      <th>1</th>\n",
       "      <td>B</td>\n",
       "      <td>528</td>\n",
       "    </tr>\n",
       "  </tbody>\n",
       "</table>\n",
       "</div>"
      ],
      "text/plain": [
       "  group  visitor_id\n",
       "0     A         445\n",
       "1     B         528"
      ]
     },
     "execution_count": 22,
     "metadata": {},
     "output_type": "execute_result"
    }
   ],
   "source": [
    "orders.groupby('group', as_index=False).agg({'visitor_id':'nunique'})"
   ]
  },
  {
   "cell_type": "markdown",
   "metadata": {},
   "source": [
    "### Кумулятивная выручка по группам"
   ]
  },
  {
   "cell_type": "code",
   "execution_count": 23,
   "metadata": {},
   "outputs": [],
   "source": [
    "orders_a_daily = orders[orders['group'] == 'A'][['date', 'transaction_id', 'visitor_id', 'revenue']]\\\n",
    "                .groupby('date', as_index=False)\\\n",
    "                .agg({'transaction_id':pd.Series.nunique, 'revenue': 'sum'})\n",
    "orders_a_daily.columns = ['date', 'orders_per_date_a', 'revenue_per_date_a']\n",
    "#ordersA_daily.head()\n",
    "orders_a_cumm = orders_a_daily.apply(\n",
    "                                    lambda x: orders_a_daily[orders_a_daily['date'] <= x['date']]\\\n",
    "                                        .agg({\n",
    "                                            'date': 'max', \n",
    "                                            'orders_per_date_a': 'sum', \n",
    "                                            'revenue_per_date_a': 'sum'}\n",
    "                                            ),\n",
    "                                    axis=1\n",
    "                                    ).sort_values(by=['date'])\n",
    "orders_a_cumm.columns = ['date','orders_cumm_a','revenue_cumm_a']\n",
    "\n",
    "\n",
    "orders_b_daily = orders[orders['group'] == 'B'][['date', 'transaction_id', 'visitor_id', 'revenue']]\\\n",
    "                .groupby('date', as_index=False)\\\n",
    "                .agg({'transaction_id':pd.Series.nunique, 'revenue': 'sum'})\n",
    "orders_b_daily.columns = ['date', 'orders_per_date_b', 'revenue_per_date_b']\n",
    "\n",
    "orders_b_cumm = orders_b_daily.apply(\n",
    "                                    lambda x: orders_b_daily[orders_b_daily['date'] <= x['date']]\\\n",
    "                                        .agg({\n",
    "                                            'date': 'max', \n",
    "                                            'orders_per_date_b': 'sum', \n",
    "                                            'revenue_per_date_b': 'sum'}\n",
    "                                            ),\n",
    "                                    axis=1\n",
    "                                    ).sort_values(by=['date'])\n",
    "orders_b_cumm.columns = ['date','orders_cumm_b','revenue_cumm_b']"
   ]
  },
  {
   "cell_type": "code",
   "execution_count": 24,
   "metadata": {},
   "outputs": [],
   "source": [
    "#visitors.head()"
   ]
  },
  {
   "cell_type": "code",
   "execution_count": 25,
   "metadata": {},
   "outputs": [],
   "source": [
    "visitors_a_daily = visitors[visitors['group'] == 'A'][['date', 'visitors']]\n",
    "visitors_a_daily.columns = ['date', 'visitors_per_date_a']\n",
    "\n",
    "visitors_a_cumm = visitors_a_daily.apply(\n",
    "                                        lambda x: visitors_a_daily[visitors_a_daily['date'] <= x['date']]\\\n",
    "                                        .agg({'date': 'max', 'visitors_per_date_a': 'sum'}), axis=1\n",
    "                                        )\n",
    "visitors_a_cumm.columns = ['date', 'visitors_cumm_a']\n",
    "\n",
    "visitors_b_daily = visitors[visitors['group'] == 'B'][['date', 'visitors']]\n",
    "visitors_b_daily.columns = ['date', 'visitors_per_date_b']\n",
    "\n",
    "visitors_b_cumm = visitors_b_daily.apply(\n",
    "                                        lambda x: visitors_b_daily[visitors_b_daily['date'] <= x['date']]\\\n",
    "                                        .agg({'date': 'max', 'visitors_per_date_b': 'sum'}), axis=1\n",
    "                                        )\n",
    "visitors_b_cumm.columns = ['date', 'visitors_cumm_b']"
   ]
  },
  {
   "cell_type": "code",
   "execution_count": 26,
   "metadata": {},
   "outputs": [
    {
     "data": {
      "text/html": [
       "<div>\n",
       "<style scoped>\n",
       "    .dataframe tbody tr th:only-of-type {\n",
       "        vertical-align: middle;\n",
       "    }\n",
       "\n",
       "    .dataframe tbody tr th {\n",
       "        vertical-align: top;\n",
       "    }\n",
       "\n",
       "    .dataframe thead th {\n",
       "        text-align: right;\n",
       "    }\n",
       "</style>\n",
       "<table border=\"1\" class=\"dataframe\">\n",
       "  <thead>\n",
       "    <tr style=\"text-align: right;\">\n",
       "      <th></th>\n",
       "      <th>date</th>\n",
       "      <th>orders_per_date_a</th>\n",
       "      <th>revenue_per_date_a</th>\n",
       "      <th>orders_per_date_b</th>\n",
       "      <th>revenue_per_date_b</th>\n",
       "      <th>orders_cumm_a</th>\n",
       "      <th>revenue_cumm_a</th>\n",
       "      <th>orders_cumm_b</th>\n",
       "      <th>revenue_cumm_b</th>\n",
       "      <th>visitors_per_date_a</th>\n",
       "      <th>visitors_per_date_b</th>\n",
       "      <th>visitors_cumm_a</th>\n",
       "      <th>visitors_cumm_b</th>\n",
       "    </tr>\n",
       "  </thead>\n",
       "  <tbody>\n",
       "    <tr>\n",
       "      <th>0</th>\n",
       "      <td>2019-08-01</td>\n",
       "      <td>23</td>\n",
       "      <td>142779</td>\n",
       "      <td>17</td>\n",
       "      <td>59758</td>\n",
       "      <td>23</td>\n",
       "      <td>142779</td>\n",
       "      <td>17</td>\n",
       "      <td>59758</td>\n",
       "      <td>719</td>\n",
       "      <td>713</td>\n",
       "      <td>719</td>\n",
       "      <td>713</td>\n",
       "    </tr>\n",
       "    <tr>\n",
       "      <th>1</th>\n",
       "      <td>2019-08-02</td>\n",
       "      <td>19</td>\n",
       "      <td>91602</td>\n",
       "      <td>23</td>\n",
       "      <td>162043</td>\n",
       "      <td>42</td>\n",
       "      <td>234381</td>\n",
       "      <td>40</td>\n",
       "      <td>221801</td>\n",
       "      <td>619</td>\n",
       "      <td>581</td>\n",
       "      <td>1338</td>\n",
       "      <td>1294</td>\n",
       "    </tr>\n",
       "    <tr>\n",
       "      <th>2</th>\n",
       "      <td>2019-08-03</td>\n",
       "      <td>24</td>\n",
       "      <td>112473</td>\n",
       "      <td>14</td>\n",
       "      <td>67049</td>\n",
       "      <td>66</td>\n",
       "      <td>346854</td>\n",
       "      <td>54</td>\n",
       "      <td>288850</td>\n",
       "      <td>507</td>\n",
       "      <td>509</td>\n",
       "      <td>1845</td>\n",
       "      <td>1803</td>\n",
       "    </tr>\n",
       "    <tr>\n",
       "      <th>3</th>\n",
       "      <td>2019-08-04</td>\n",
       "      <td>11</td>\n",
       "      <td>41176</td>\n",
       "      <td>14</td>\n",
       "      <td>96890</td>\n",
       "      <td>77</td>\n",
       "      <td>388030</td>\n",
       "      <td>68</td>\n",
       "      <td>385740</td>\n",
       "      <td>717</td>\n",
       "      <td>770</td>\n",
       "      <td>2562</td>\n",
       "      <td>2573</td>\n",
       "    </tr>\n",
       "    <tr>\n",
       "      <th>4</th>\n",
       "      <td>2019-08-05</td>\n",
       "      <td>22</td>\n",
       "      <td>86383</td>\n",
       "      <td>21</td>\n",
       "      <td>89908</td>\n",
       "      <td>99</td>\n",
       "      <td>474413</td>\n",
       "      <td>89</td>\n",
       "      <td>475648</td>\n",
       "      <td>756</td>\n",
       "      <td>707</td>\n",
       "      <td>3318</td>\n",
       "      <td>3280</td>\n",
       "    </tr>\n",
       "  </tbody>\n",
       "</table>\n",
       "</div>"
      ],
      "text/plain": [
       "        date  orders_per_date_a  revenue_per_date_a  orders_per_date_b  \\\n",
       "0 2019-08-01                 23              142779                 17   \n",
       "1 2019-08-02                 19               91602                 23   \n",
       "2 2019-08-03                 24              112473                 14   \n",
       "3 2019-08-04                 11               41176                 14   \n",
       "4 2019-08-05                 22               86383                 21   \n",
       "\n",
       "   revenue_per_date_b  orders_cumm_a  revenue_cumm_a  orders_cumm_b  \\\n",
       "0               59758             23          142779             17   \n",
       "1              162043             42          234381             40   \n",
       "2               67049             66          346854             54   \n",
       "3               96890             77          388030             68   \n",
       "4               89908             99          474413             89   \n",
       "\n",
       "   revenue_cumm_b  visitors_per_date_a  visitors_per_date_b  visitors_cumm_a  \\\n",
       "0           59758                  719                  713              719   \n",
       "1          221801                  619                  581             1338   \n",
       "2          288850                  507                  509             1845   \n",
       "3          385740                  717                  770             2562   \n",
       "4          475648                  756                  707             3318   \n",
       "\n",
       "   visitors_cumm_b  \n",
       "0              713  \n",
       "1             1294  \n",
       "2             1803  \n",
       "3             2573  \n",
       "4             3280  "
      ]
     },
     "execution_count": 26,
     "metadata": {},
     "output_type": "execute_result"
    }
   ],
   "source": [
    "# собираем все вместе\n",
    "data = (\n",
    "    orders_a_daily\n",
    "    .merge(orders_b_daily, left_on='date', right_on='date', how='left')\n",
    "    .merge(orders_a_cumm, left_on='date', right_on='date', how='left')\n",
    "    .merge(orders_b_cumm, left_on='date', right_on='date', how='left')\n",
    "    .merge(visitors_a_daily, left_on='date', right_on='date', how='left')\n",
    "    .merge(visitors_b_daily, left_on='date', right_on='date', how='left')\n",
    "    .merge(visitors_a_cumm, left_on='date', right_on='date', how='left')\n",
    "    .merge(visitors_b_cumm, left_on='date', right_on='date', how='left')\n",
    ")\n",
    "data.head()"
   ]
  },
  {
   "cell_type": "code",
   "execution_count": 27,
   "metadata": {},
   "outputs": [
    {
     "data": {
      "image/png": "[encoded data removed]",
      "text/plain": [
       "<Figure size 1080x360 with 1 Axes>"
      ]
     },
     "metadata": {
      "needs_background": "light"
     },
     "output_type": "display_data"
    }
   ],
   "source": [
    "plt.figure(figsize=(15, 5))\n",
    "plt.plot(data['date'], data['revenue_cumm_a'], label=\"A\")\n",
    "plt.plot(data['date'], data['revenue_cumm_b'], label=\"B\")\n",
    "plt.legend()\n",
    "plt.grid()\n",
    "plt.xticks(rotation=45)\n",
    "plt.title('Динамика кумулятивной выручки по группам')\n",
    "plt.ylabel('Величина кумулятивной выручки')\n",
    "plt.xlabel('Дата')\n",
    "plt.show()"
   ]
  },
  {
   "cell_type": "markdown",
   "metadata": {},
   "source": [
    "**Вывод:** В первые две недели выручка в обеих группах была примерно одинаковой, в районе 17.08. наблюдается резкий рост выручки в группе B. Причиной может быть либо появление каких-то очень дорогих заказов, либо увеличение их общего числа в этот период времени."
   ]
  },
  {
   "cell_type": "markdown",
   "metadata": {},
   "source": [
    "### Кумулятивный средний чек по группам"
   ]
  },
  {
   "cell_type": "code",
   "execution_count": 28,
   "metadata": {},
   "outputs": [
    {
     "data": {
      "image/png": "[encoded data removed]",
      "text/plain": [
       "<Figure size 864x288 with 1 Axes>"
      ]
     },
     "metadata": {
      "needs_background": "light"
     },
     "output_type": "display_data"
    }
   ],
   "source": [
    "plt.figure(figsize=(12, 4))\n",
    "plt.plot(data['date'], data['revenue_cumm_a']/data['orders_cumm_a'], label=\"A\")\n",
    "plt.plot(data['date'], data['revenue_cumm_b']/data['orders_cumm_b'], label=\"B\")\n",
    "plt.legend()\n",
    "plt.grid()\n",
    "plt.xticks(rotation=45)\n",
    "plt.title('Динамика кумулятивного среднего чека по группам')\n",
    "plt.ylabel('Средний кумулятивный чек')\n",
    "plt.xlabel('Дата')\n",
    "plt.show()"
   ]
  },
  {
   "cell_type": "markdown",
   "metadata": {},
   "source": [
    "**Вывод:** В группе А в самом начале наблюдается спад, но потом величина кумулятивного среднего чека начинает плавно расти и стабилизируется. В группе В средний кумулятивный чек как и кумулятивная выручка резко возрастает после 17.08, а после наблюдается плавное падение величины в этой группе. Возможной причиной является появление ощутимо более дорогих заказов в указанный период."
   ]
  },
  {
   "cell_type": "markdown",
   "metadata": {},
   "source": [
    "### Относительное изменение кумулятивного среднего чека группы B к группе A"
   ]
  },
  {
   "cell_type": "code",
   "execution_count": 29,
   "metadata": {},
   "outputs": [
    {
     "data": {
      "image/png": "[encoded data removed]",
      "text/plain": [
       "<Figure size 864x288 with 1 Axes>"
      ]
     },
     "metadata": {
      "needs_background": "light"
     },
     "output_type": "display_data"
    }
   ],
   "source": [
    "plt.figure(figsize=(12, 4))\n",
    "# отношение средних чеков\n",
    "plt.plot(data['date'],\\\n",
    "         (data['revenue_cumm_b']/data['orders_cumm_b']) / (data['revenue_cumm_a']/data['orders_cumm_a']) -1,\\\n",
    "         label='Относительное изменение показателей')\n",
    "\n",
    "# добавляем ось X\n",
    "plt.axhline(y=0, color='black', linestyle='--')\n",
    "plt.legend()\n",
    "plt.grid()\n",
    "plt.xticks(rotation=45)\n",
    "plt.title('Относительное изменение кумулятивного среднего чека группы B к группе A')\n",
    "plt.ylabel('Отношение средних чеков')\n",
    "plt.xlabel('Дата')\n",
    "plt.show()"
   ]
  },
  {
   "cell_type": "markdown",
   "metadata": {},
   "source": [
    "**Вывод:** Средний чек пользователей группы B практически всегда превышает средний чек пользователей группы А. Причиной опять же скорее всего является наличие каких-то аномально дорогих заказов в группе В, выявленных ранее."
   ]
  },
  {
   "cell_type": "markdown",
   "metadata": {},
   "source": [
    "### Кумулятивное среднее количество заказов на посетителя по группам"
   ]
  },
  {
   "cell_type": "code",
   "execution_count": 30,
   "metadata": {},
   "outputs": [],
   "source": [
    "#data.head()"
   ]
  },
  {
   "cell_type": "code",
   "execution_count": 31,
   "metadata": {},
   "outputs": [
    {
     "data": {
      "image/png": "[encoded data removed]",
      "text/plain": [
       "<Figure size 864x288 with 1 Axes>"
      ]
     },
     "metadata": {
      "needs_background": "light"
     },
     "output_type": "display_data"
    }
   ],
   "source": [
    "plt.figure(figsize=(12, 4))\n",
    "plt.plot(data['date'], data['orders_cumm_a']/data['visitors_cumm_a'], label=\"A\")\n",
    "plt.plot(data['date'], data['orders_cumm_b']/data['visitors_cumm_b'], label=\"B\")\n",
    "plt.legend()\n",
    "plt.grid()\n",
    "plt.xticks(rotation=45)\n",
    "plt.title('Динамика кумулятивного среднего количества заказов на посетителя по группам')\n",
    "plt.ylabel('Среднее количество заказов на посетителя')\n",
    "plt.xlabel('Дата')\n",
    "plt.show()"
   ]
  },
  {
   "cell_type": "markdown",
   "metadata": {},
   "source": [
    "**Вывод:** В начале периода наблюдения среднее количество заказов на пользователя в группе А было выше, но потом ощутимо снизилось. В группе В наоборот после спада в первые дни наметился рост показателя, который в последствии стабилизировался. В целом кумулятивное среднее количество заказов на посетителя в группе В превышеает аналогичный показатель для группы А."
   ]
  },
  {
   "cell_type": "markdown",
   "metadata": {},
   "source": [
    "### Относительное изменение кумулятивного среднего количества заказов на посетителя группы B к группе A"
   ]
  },
  {
   "cell_type": "code",
   "execution_count": 32,
   "metadata": {},
   "outputs": [
    {
     "data": {
      "image/png": "[encoded data removed]",
      "text/plain": [
       "<Figure size 864x576 with 1 Axes>"
      ]
     },
     "metadata": {
      "needs_background": "light"
     },
     "output_type": "display_data"
    }
   ],
   "source": [
    "plt.figure(figsize=(12, 8))\n",
    "plt.plot(data['date'],\\\n",
    "         (data['orders_cumm_b']/data['visitors_cumm_b']) / (data['orders_cumm_a']/data['visitors_cumm_a']) - 1,\\\n",
    "         label='Относительное изменение показателей')\n",
    "plt.axhline(y=0, color='green', linestyle='--')\n",
    "plt.axhline(y=0.14, color='red', linestyle='--')\n",
    "plt.axhline(y=0.16, color='orange', linestyle='--')\n",
    "\n",
    "plt.legend()\n",
    "plt.grid()\n",
    "plt.xticks(rotation=45)\n",
    "plt.title('Относительное изменение кумулятивного среднего удельного количества заказов в группе B к группе A')\n",
    "plt.ylabel('Отношение среднего удельного количества заказов')\n",
    "plt.xlabel('Дата')\n",
    "plt.show()"
   ]
  },
  {
   "cell_type": "markdown",
   "metadata": {},
   "source": [
    "**Вывод:** В начале периода проведения теста показатели конверсии группы В были хуже показателей группы А. Однако позже относительный прирост среднего количества заказов на посетителя в группе Б превышал аналогичный показатель группы А в среднем на 15%."
   ]
  },
  {
   "cell_type": "markdown",
   "metadata": {},
   "source": [
    "###\tТочечный график количества заказов по пользователям"
   ]
  },
  {
   "cell_type": "code",
   "execution_count": 33,
   "metadata": {},
   "outputs": [],
   "source": [
    "#orders.head()"
   ]
  },
  {
   "cell_type": "code",
   "execution_count": 34,
   "metadata": {},
   "outputs": [
    {
     "data": {
      "text/plain": [
       "count   973.00\n",
       "mean      1.04\n",
       "std       0.24\n",
       "min       1.00\n",
       "25%       1.00\n",
       "50%       1.00\n",
       "75%       1.00\n",
       "max       3.00\n",
       "Name: orders, dtype: float64"
      ]
     },
     "metadata": {},
     "output_type": "display_data"
    }
   ],
   "source": [
    "orders_by_users = orders.groupby('visitor_id', as_index=False)\\\n",
    "                        .agg({'transaction_id': 'nunique'})\\\n",
    "                        .sort_values(by='transaction_id', ascending=False)\n",
    "orders_by_users.columns =  ['visitor_id', 'orders']\n",
    "\n",
    "display(orders_by_users['orders'].describe())"
   ]
  },
  {
   "cell_type": "markdown",
   "metadata": {},
   "source": [
    "С учетом ранее удаленных пользователей (которые попали в обе группы тестирования), распределение количества заказов по пользователям выглядит весьма неплохо: 1-3 на человека. Однако стоит посмотреть, какое количество пользователей совершило 3 заказа."
   ]
  },
  {
   "cell_type": "code",
   "execution_count": 35,
   "metadata": {},
   "outputs": [
    {
     "data": {
      "image/png": "[encoded data removed]",
      "text/plain": [
       "<Figure size 864x288 with 1 Axes>"
      ]
     },
     "metadata": {
      "needs_background": "light"
     },
     "output_type": "display_data"
    }
   ],
   "source": [
    "# гистограмма распределения числа заказов по пользователям\n",
    "plt.figure(figsize=(12, 4))\n",
    "plt.hist(orders_by_users['orders'], alpha=0.5, color='green')\n",
    "plt.grid()\n",
    "plt.title(\"Гистограмма распределения количества заказов по пользователям\")\n",
    "plt.ylabel(\"Количество пользователей\")\n",
    "plt.xlabel(\"Количество заказов\")\n",
    "plt.show()"
   ]
  },
  {
   "cell_type": "code",
   "execution_count": 36,
   "metadata": {},
   "outputs": [
    {
     "data": {
      "image/png": "[encoded data removed]",
      "text/plain": [
       "<Figure size 864x288 with 1 Axes>"
      ]
     },
     "metadata": {
      "needs_background": "light"
     },
     "output_type": "display_data"
    }
   ],
   "source": [
    "x_values = pd.Series(range(0, len(orders_by_users)))\n",
    "plt.figure(figsize=(12, 4))\n",
    "plt.scatter(x_values, orders_by_users['orders'], color='green', alpha=0.5)\n",
    "plt.title('Точечный график количества заказов по пользователям')\n",
    "plt.ylabel('Количество заказов')\n",
    "plt.xlabel('Пользователи')\n",
    "plt.grid()\n",
    "\n",
    "plt.show()"
   ]
  },
  {
   "cell_type": "markdown",
   "metadata": {},
   "source": [
    "**Вывод:** По гистограмме и точечному графику четко видно, что в основном пользователи делали по одному заказу, совсем редко - два, крайне редко - 3."
   ]
  },
  {
   "cell_type": "markdown",
   "metadata": {},
   "source": [
    "### 95-й и 99-й перцентили количества заказов на пользователя \n",
    "\n",
    "Посчитаем выборочные перцентили количества заказов на одного пользователя:"
   ]
  },
  {
   "cell_type": "code",
   "execution_count": 37,
   "metadata": {},
   "outputs": [
    {
     "name": "stdout",
     "output_type": "stream",
     "text": [
      "[1. 2.]\n"
     ]
    }
   ],
   "source": [
    "print(np.percentile(orders_by_users['orders'], [95, 99])) "
   ]
  },
  {
   "cell_type": "markdown",
   "metadata": {},
   "source": [
    "**Вывод:** Не более 5% пользователей оформляли больше 1 заказа. И всего 1% пользователей совершил более 2 заказов. Таким образом, аномальными пользователями можно считать тех, кто совершил более 1 заказа."
   ]
  },
  {
   "cell_type": "markdown",
   "metadata": {},
   "source": [
    "###\tТочечный график стоимостей заказов"
   ]
  },
  {
   "cell_type": "code",
   "execution_count": 38,
   "metadata": {},
   "outputs": [
    {
     "data": {
      "image/png": "[encoded data removed]",
      "text/plain": [
       "<Figure size 864x288 with 1 Axes>"
      ]
     },
     "metadata": {
      "needs_background": "light"
     },
     "output_type": "display_data"
    }
   ],
   "source": [
    "plt.figure(figsize=(12, 4))\n",
    "plt.hist(orders['revenue']/1000, alpha=0.5, color='green') \n",
    "plt.grid()\n",
    "plt.title('Гистограмма распределения cтоимостей заказов')\n",
    "plt.ylabel('Количество заказов')\n",
    "plt.xlabel('Стоимость заказов, тыс./рублей')\n",
    "plt.show()"
   ]
  },
  {
   "cell_type": "code",
   "execution_count": 39,
   "metadata": {},
   "outputs": [
    {
     "data": {
      "image/png": "[encoded data removed]",
      "text/plain": [
       "<Figure size 864x288 with 1 Axes>"
      ]
     },
     "metadata": {
      "needs_background": "light"
     },
     "output_type": "display_data"
    }
   ],
   "source": [
    "# покрупнее\n",
    "plt.figure(figsize=(12, 4))\n",
    "plt.hist(orders['revenue']/1000, alpha=0.5, color='green') \n",
    "plt.grid()\n",
    "plt.ylim(0,20)\n",
    "plt.title('Гистограмма распределения cтоимостей заказов')\n",
    "plt.ylabel('Количество заказов')\n",
    "plt.xlabel('Стоимость заказов, тыс./рублей')\n",
    "plt.show()"
   ]
  },
  {
   "cell_type": "code",
   "execution_count": 40,
   "metadata": {},
   "outputs": [
    {
     "data": {
      "image/png": "[encoded data removed]",
      "text/plain": [
       "<Figure size 864x288 with 1 Axes>"
      ]
     },
     "metadata": {
      "needs_background": "light"
     },
     "output_type": "display_data"
    }
   ],
   "source": [
    "x_values = pd.Series(range(0, len(orders['revenue'])))\n",
    "plt.figure(figsize=(12, 4))\n",
    "plt.scatter(x_values, orders['revenue'], color='green', alpha=0.5)\n",
    "plt.title('Точечный график стоимостей заказов')\n",
    "plt.ylabel('Стоимость заказов, руб.')\n",
    "plt.xlabel('Количество заказов')\n",
    "plt.grid()\n",
    "plt.show();"
   ]
  },
  {
   "cell_type": "code",
   "execution_count": 41,
   "metadata": {},
   "outputs": [
    {
     "data": {
      "image/png": "[encoded data removed]",
      "text/plain": [
       "<Figure size 864x288 with 1 Axes>"
      ]
     },
     "metadata": {
      "needs_background": "light"
     },
     "output_type": "display_data"
    }
   ],
   "source": [
    "# покрупнее\n",
    "x_values = pd.Series(range(0, len(orders['revenue'])))\n",
    "plt.figure(figsize=(12, 4))\n",
    "plt.scatter(x_values, orders['revenue'], color='green', alpha=0.5)\n",
    "plt.ylim(0, 100000)\n",
    "plt.title('Точечный график стоимостей заказов')\n",
    "plt.ylabel('Стоимость заказов, руб.')\n",
    "plt.xlabel('Количество заказов')\n",
    "plt.grid()\n",
    "plt.show();"
   ]
  },
  {
   "cell_type": "markdown",
   "metadata": {},
   "source": [
    "**Вывод:** Основное количество заказов находится в пределах 20-25 тыс. рублей, есть дорогие заказы (свыше 60 тыс. рублей). *Предварительно* аномальными можно считать заказы дороже 25-40 тыс. рублей."
   ]
  },
  {
   "cell_type": "markdown",
   "metadata": {},
   "source": [
    "###\tПосчитайте 95-й и 99-й перцентили стоимости заказов. Выберите границу для определения аномальных заказов.\n"
   ]
  },
  {
   "cell_type": "code",
   "execution_count": 42,
   "metadata": {},
   "outputs": [
    {
     "name": "stdout",
     "output_type": "stream",
     "text": [
      "[26785. 53904.]\n"
     ]
    }
   ],
   "source": [
    "print(np.percentile(orders['revenue'], [95, 99])) "
   ]
  },
  {
   "cell_type": "markdown",
   "metadata": {},
   "source": [
    "**Вывод:** Не более 5% заказов дороже 26785 рублей и всего 1% заказов дороже 53904 руб. Таким образом, к аномальным можно отнести заказы дороже 26785 руб."
   ]
  },
  {
   "cell_type": "markdown",
   "metadata": {},
   "source": [
    "###\tСтатистическая значимость различий в среднем количестве заказов на посетителя между группами по «сырым» данным\n",
    "\n",
    "Посчитаем статистическую значимость различий в среднем числе заказов на пользователя и среднем чеке между группами по «сырым» данным — без удаления аномальных пользователей.  \n",
    "\n",
    "Сформулируем нулевую и альтернативную гипотезы:  \n",
    "**H0**: Различий в среднем количестве заказов между группами нет.  \n",
    "**H1**: Различия в среднем количестве заказов между группами есть.\n"
   ]
  },
  {
   "cell_type": "code",
   "execution_count": 43,
   "metadata": {},
   "outputs": [],
   "source": [
    "#data.head()\n",
    "#orders.head()"
   ]
  },
  {
   "cell_type": "markdown",
   "metadata": {},
   "source": [
    "Создадим переменные `orders_by_users_a` и `orders_by_users_b` со столбцами ['user_id', 'orders']. В них для пользователей, которые заказывали хотя бы 1 раз, укажем число совершённых заказов. "
   ]
  },
  {
   "cell_type": "code",
   "execution_count": 44,
   "metadata": {},
   "outputs": [],
   "source": [
    "orders_by_users_a = (\n",
    "                     orders[orders['group'] == 'A']\n",
    "                     .groupby('visitor_id', as_index=False)\n",
    "                     .agg({'transaction_id': pd.Series.nunique})\n",
    "                    )\n",
    "orders_by_users_a.columns = ['visitor_id', 'orders']\n",
    "orders_by_users_b = (\n",
    "                     orders[orders['group'] == 'B']\n",
    "                    .groupby('visitor_id', as_index=False)\n",
    "                    .agg({'transaction_id': pd.Series.nunique})\n",
    "                    )\n",
    "orders_by_users_b.columns = ['visitor_id', 'orders']"
   ]
  },
  {
   "cell_type": "markdown",
   "metadata": {},
   "source": [
    "Объявим переменные `sample_a` и `sample_b`, в которых пользователям из разных групп будет соответствовать количество заказов. Тем, кто ничего не заказал, будут соответствовать нули. "
   ]
  },
  {
   "cell_type": "code",
   "execution_count": 45,
   "metadata": {},
   "outputs": [],
   "source": [
    "# Переменные, в ктр. пользователям с заказами будет соответствовать число заказов пользователя,\n",
    "# а пользователям без заказов — нули\n",
    "sample_a = pd.concat([orders_by_users_a['orders'],\\\n",
    "                      pd.Series(0, index=np.arange(data['visitors_per_date_a'].sum() - len(orders_by_users_a['orders'])),\\\n",
    "                                name='orders')], axis=0)\n",
    "\n",
    "sample_b = pd.concat([orders_by_users_b['orders'],\\\n",
    "                      pd.Series(0, index=np.arange(data['visitors_per_date_b'].sum() - len(orders_by_users_b['orders'])),\\\n",
    "                                name='orders')], axis=0) "
   ]
  },
  {
   "cell_type": "markdown",
   "metadata": {},
   "source": [
    "Применим критерий Манна-Уитни и отформатируем p-value, округлив его до трёх знаков после запятой."
   ]
  },
  {
   "cell_type": "code",
   "execution_count": 46,
   "metadata": {},
   "outputs": [
    {
     "name": "stdout",
     "output_type": "stream",
     "text": [
      "p-value = 0.011\n",
      "Относительное различие в средней конверсии между группами по «сырым» данным: 0.160\n"
     ]
    }
   ],
   "source": [
    "# рассчет статистической значимости различия конверсии по результатам теста Манна-Уитни\n",
    "print('p-value =', \n",
    "      '{0:.3f}'.format(stats.mannwhitneyu(sample_a, sample_b)[1]))\n",
    "\n",
    "# рассчет относительного различия в конверсии между группами\n",
    "print('Относительное различие в средней конверсии между группами по «сырым» данным:',\n",
    "      '{0:.3f}'.format(sample_b.mean() / sample_a.mean() - 1))"
   ]
  },
  {
   "cell_type": "markdown",
   "metadata": {},
   "source": [
    "**Вывод:** P-value = 0.011 меньше уровня статистической значимости 0,05. Значит, нулевую гипотезу о том, что статистически значимых различий в среднем числе заказов между группами нет А и В по \"сырым\" данным, отвергаем. Средняя конверсия пользователей группы В больше средней конверсии по группе А на 16%."
   ]
  },
  {
   "cell_type": "markdown",
   "metadata": {},
   "source": [
    "### Статистическая значимость различий в среднем чеке заказа между группами по «сырым» данным  \n",
    "\n",
    "Посчитаем статистическую значимость различий в среднем чеке заказв между группами по «сырым» данным — без удаления аномальных пользователей.  \n",
    "\n",
    "Сформулируем нулевую и альтернативную гипотезы:  \n",
    "**H0**: Различий в среднем чеке между группами нет.  \n",
    "**H1**: Различия в среднем чеке между группами есть.  \n",
    "\n",
    "Для расчета статистической значимости различий в среднем чеке передадим критерию mannwhitneyu() данные о выручке с заказов. Дополнительно найдём относительные различия в среднем чеке между группами."
   ]
  },
  {
   "cell_type": "code",
   "execution_count": 47,
   "metadata": {},
   "outputs": [
    {
     "name": "stdout",
     "output_type": "stream",
     "text": [
      "p-value = 0.829\n",
      "Относительное различие в среднем чеке между группами по «сырым» данным: 0.287\n"
     ]
    }
   ],
   "source": [
    "print('p-value =',\n",
    "      '{0:.3f}'.format(stats.mannwhitneyu(orders[orders['group']=='A']['revenue'], \n",
    "                                          orders[orders['group']=='B']['revenue'])[1]))\n",
    "\n",
    "print('Относительное различие в среднем чеке между группами по «сырым» данным:', \n",
    "      '{0:.3f}'.format(orders[orders['group']=='B']['revenue'].mean()/orders[orders['group']=='A']['revenue'].mean()-1)) "
   ]
  },
  {
   "cell_type": "markdown",
   "metadata": {},
   "source": [
    "**Вывод:** \n",
    "P-value 0.829, что больше 0.05, а значит, нет причин отвергать нулевую гипотезу об отсутствии статистически значимых различий между чеками групп. \n",
    "При этом по расчетам по \"сырым\" данным средний чек по группе В выше, чем по группе А. Это связано с появлением аномально дорогих заказов в группе В в районе 17.08. После очистки данных от выбросов, относительное различие скорректируется."
   ]
  },
  {
   "cell_type": "markdown",
   "metadata": {},
   "source": [
    "### Статистическая значимость различий в среднем количестве заказов на посетителя между группами по «очищенным» данным\n",
    "\n",
    "Ранее мы нашли, что 95-й и 99-й перцентили средних чеков равны 26 785 и 53 904 рублям. А 95-й и 99-й перцентили количества заказов на одного пользователя равны 1 и 2 заказам на пользователя.   \n",
    "  \n",
    "Посчитаем статистическую значимость различий в среднем числе заказов на пользователя и среднем чеке между группами по «очищенным» данным, после удаления аномальных пользователей.  Сформулируем нулевую и альтернативную гипотезы:  \n",
    "**H0:** Различий в среднем количестве заказов между группами нет.  \n",
    "**H1:** Различия в среднем количестве заказов между группами есть.  \n",
    "\n",
    "Примем за аномальных пользователей тех, кто совершил 2 и более заказа или совершил заказ дороже 27 000 рублей. Так мы уберём 5% пользователей с наибольшим числом заказов и от 1% до 5% пользователей с дорогими заказами.  \n",
    "Сделаем срезы пользователей с числом заказов более 2 — `users_with_many_orders` и пользователей, совершивших заказы дороже 27 000 — `users_with_expensive_orders`. Объединим их в таблице `abnormal_users`. Дополнительно узнаем, сколько всего аномальных пользователей методом shape()."
   ]
  },
  {
   "cell_type": "code",
   "execution_count": 48,
   "metadata": {},
   "outputs": [
    {
     "data": {
      "text/plain": [
       "2.0"
      ]
     },
     "metadata": {},
     "output_type": "display_data"
    },
    {
     "data": {
      "text/plain": [
       "26785.0"
      ]
     },
     "metadata": {},
     "output_type": "display_data"
    }
   ],
   "source": [
    "many_orders = np.percentile(orders_by_users['orders'], [95, 99])[1]\n",
    "exp_orders = np.percentile(orders['revenue'], [95,99])[0]\n",
    "display(many_orders, exp_orders)"
   ]
  },
  {
   "cell_type": "code",
   "execution_count": 49,
   "metadata": {},
   "outputs": [
    {
     "data": {
      "text/plain": [
       "568     113298937\n",
       "1099    148427295\n",
       "928     204675465\n",
       "684     358944393\n",
       "36      366673373\n",
       "Name: visitor_id, dtype: int64"
      ]
     },
     "metadata": {},
     "output_type": "display_data"
    },
    {
     "name": "stdout",
     "output_type": "stream",
     "text": [
      "Количестно аномальных пользователей: 68\n"
     ]
    }
   ],
   "source": [
    "users_with_many_orders = pd.concat(\n",
    "                                    [\n",
    "                                        orders_by_users_a[orders_by_users_a['orders'] >= many_orders]['visitor_id'],\\\n",
    "                                        orders_by_users_a[orders_by_users_a['orders'] >= many_orders]['visitor_id'],\n",
    "                                    ], axis = 0\n",
    "                                    )\n",
    "\n",
    "\n",
    "users_with_expensive_orders = orders[orders['revenue'] > exp_orders]['visitor_id']\n",
    "\n",
    "abnormal_users = (\n",
    "                    pd.concat([users_with_many_orders, users_with_expensive_orders], axis = 0)\n",
    "                    .drop_duplicates()\n",
    "                    .sort_values()\n",
    "                 )\n",
    "display(abnormal_users.head(5))\n",
    "print('Количестно аномальных пользователей:', abnormal_users.shape[0])"
   ]
  },
  {
   "cell_type": "markdown",
   "metadata": {},
   "source": [
    "Узнаем, как их действия повлияли на результаты теста. Посчитаем статистическую значимость различий в среднем количестве заказов между группами теста по очищенным данным. Сначала подготовим выборки количества заказов по пользователям по группам теста/\n"
   ]
  },
  {
   "cell_type": "code",
   "execution_count": 50,
   "metadata": {},
   "outputs": [],
   "source": [
    "sample_a_filtered = pd.concat([\n",
    "    orders_by_users_a[np.logical_not(orders_by_users_a['visitor_id'].isin(abnormal_users))]['orders'],\n",
    "    pd.Series(0, \n",
    "              index = np.arange(data['visitors_per_date_a'].sum() - len(orders_by_users_a['orders'])), \n",
    "              name='orders')\n",
    "    ], axis=0)\n",
    "\n",
    "sample_b_filtered = pd.concat([\n",
    "    orders_by_users_b[np.logical_not(orders_by_users_b['visitor_id'].isin(abnormal_users))]['orders'],\n",
    "    pd.Series(0, \n",
    "              index = np.arange(data['visitors_per_date_b'].sum() - len(orders_by_users_b['orders'])),\n",
    "              name='orders')\n",
    "    ], axis=0)"
   ]
  },
  {
   "cell_type": "markdown",
   "metadata": {},
   "source": [
    "Применим статистический критерий Манна-Уитни к полученным выборкам:"
   ]
  },
  {
   "cell_type": "code",
   "execution_count": 51,
   "metadata": {},
   "outputs": [
    {
     "name": "stdout",
     "output_type": "stream",
     "text": [
      "p-value = 0.003\n",
      "Относительное различие в средней конверсии между группами по «очищенным» данным: 0.265\n"
     ]
    }
   ],
   "source": [
    "# рассчет статистической значимости различия конверсии по результатам теста Манна-Уитни\n",
    "print('p-value =', \n",
    "      '{0:.3f}'.format(stats.mannwhitneyu(sample_a_filtered, sample_b_filtered)[1]))\n",
    "\n",
    "# рассчет относительного различия в конверсии между группами\n",
    "print('Относительное различие в средней конверсии между группами по «очищенным» данным:', \n",
    "      '{0:.3f}'.format(sample_b_filtered.mean()/sample_a_filtered.mean()-1))"
   ]
  },
  {
   "cell_type": "markdown",
   "metadata": {},
   "source": [
    "**Вывод:** После очистки данных от аномальных значений общие выводы сохраняются: величина p-value снизилась с 0.011 до 0.003, нулевую гипотезу об отсутствии статистически значимых различий в среднем числе заказов между группами А и В по \"очищенным\" данным также отвергаем. При этом ощутимо возрасло относительное различие в средней конверсии между группами: с 0.16 до до 0.265."
   ]
  },
  {
   "cell_type": "markdown",
   "metadata": {},
   "source": [
    "### Статистическая значимость различий в среднем чеке заказа между группами по «очищенным» данным\n",
    "\n",
    "Проверим, как изменились результаты тестирования после очистки данных в разрезе различий в среднем чеке между группами. Посчитаем статистическую значимость различий в среднем чеке заказв между группами по «очищенным» данным.  \n",
    "Сформулируем нулевую и альтернативную гипотезы:  \n",
    "**H0:** Различий в среднем чеке между группами по \"очищенным\" данным нет.  \n",
    "**H1:** Различия в среднем чеке между группами по \"очищенным\" данным есть.\n",
    "\n",
    "Для расчета статистической значимости различий в среднем чеке передадим критерию mannwhitneyu() данные о выручке с заказов. Дополнительно найдём относительные различия в среднем чеке между группами.\n"
   ]
  },
  {
   "cell_type": "code",
   "execution_count": 52,
   "metadata": {},
   "outputs": [
    {
     "name": "stdout",
     "output_type": "stream",
     "text": [
      "p-value: 0.860\n",
      "Относительное различие в среднем чеке между группами по «очищенным» данным: -0.030\n"
     ]
    }
   ],
   "source": [
    "print('p-value:',\n",
    "      '{0:.3f}'.format(stats.mannwhitneyu(\n",
    "          orders[np.logical_and(orders['group'] == 'A', \n",
    "                                np.logical_not(orders['visitor_id'].isin(abnormal_users)))]['revenue'], \n",
    "          orders[np.logical_and(orders['group'] == 'B', \n",
    "                                np.logical_not(orders['visitor_id'].isin(abnormal_users)))]['revenue'])[1]\n",
    "                      )\n",
    "     )\n",
    "\n",
    "print('Относительное различие в среднем чеке между группами по «очищенным» данным:',\n",
    "      \"{0:.3f}\".format(\n",
    "          orders[np.logical_and(orders['group'] == 'B', \n",
    "                                np.logical_not(orders['visitor_id'].isin(abnormal_users)))]['revenue'].mean()\n",
    "          /\n",
    "          orders[np.logical_and(orders['group'] == 'A', \n",
    "                                np.logical_not(orders['visitor_id'].isin(abnormal_users)))]['revenue'].mean() \n",
    "          - 1)\n",
    "     )"
   ]
  },
  {
   "cell_type": "markdown",
   "metadata": {},
   "source": [
    "**Вывод:** После очистки данных от аномальных значений значение P-value = 0.860 все также больше уровня стат. значимости (0,05). Причин отвергать нулевую гипотезу об отсутствии статистически значимых различий между чеками групп по-прежнему нет.  \n",
    "\n",
    "Относительное различие в среднем чеке между группам после очистки изменилось, средний чек в группе А незначительно (3%) больше чека группе В."
   ]
  },
  {
   "cell_type": "markdown",
   "metadata": {},
   "source": [
    "###\tРешение по результатам теста"
   ]
  },
  {
   "cell_type": "markdown",
   "metadata": {},
   "source": [
    "Результатом проведенного A/B-теста может быть одно из следующих решений:  \n",
    "1. Остановить тест, зафиксировать победу одной из групп.  \n",
    "2. Остановить тест, зафиксировать отсутствие различий между группами.  \n",
    "3. Продолжить тест.  \n",
    "\n",
    "После анализа A/B-теста имеем следующие факты:\n",
    "* Обнаружены статистически значимые различия по среднему количеству заказов между группами как по \"сырым\" данным, так и после фильтрации аномалий. Среднее количество заказов на посетителя в группе В превышает аналогичный показатель группы А на 26.5%. \n",
    "* При этом нет статистически значимого различия по среднему чеку между группами. После фильтрации данных от аномалий относительное различие в средних чеках составляет всего 3% в пользу группы А.  \n",
    "* График различия конверсии между группами показал, что в целом результаты группы B лучше группы A, есть тенденция к улучшению. \n",
    "* График относительного различия кумулятивного среднего чека показал, что этот показатель для группы B выше, но наметились тенденции к снижению. Причиной разницы оказалось наличие небольшого количества ощутимо крупных (дорогих) заказов. \n",
    "\n",
    "Исходя из обнаруженных фактов, считаю, что с учетом наметившегося роста конверсии в группе В **тест следует продолжить**, чтобы лучше отследить в том числе динамику кумулятивного среднего чека. При этом следует обратить внимание на \"качество\" проведения теста, в т.ч.:\n",
    "* Количество пользователей в группах не должно отличаться более чем на 0.5%;\n",
    "* Пользователь, попавший в одну из групп теста, должен оставаться в этой группе до конца проведения теста. Пересечение пользователей разных групп противоречит самой сути А/В-тестирования.\n"
   ]
  },
  {
   "cell_type": "markdown",
   "metadata": {},
   "source": [
    "## Общий вывод"
   ]
  },
  {
   "cell_type": "markdown",
   "metadata": {},
   "source": [
    "На основании предоставленных данных, была выполнена приоритезация гипотез, проведен анализ A/B-тестирования, получены следующие выводы и рекомендации: \n",
    "1. Наиболее перспективными гипотезами можно считать следующие:  \n",
    " * Гипотеза № 8: \"Добавить форму подписки на все основные страницы, чтобы собрать базу клиентов для email-рассылок\";  \n",
    " * Гипотеза № 1: \"Добавить два новых канала привлечения трафика, что позволит привлекать на 30% больше пользователей\";  \n",
    " * Гипотеза № 7: \"Показать на главной странице баннеры с актуальными акциями и распродажами, чтобы увеличить конверсию\".\n",
    "\n",
    "2. По итогам анализа А/В-теста обнаружено относительное увеличение среднего количества заказов на пользователя в группе В по отношению к аналогичному показателю группы А на 26,5%. Относительное различие в среднем чеке между группами незначительное: средний чек в группе А на 3% выше чека в группе В. Рекомендуется продолжить проведение теста, а также обратить внимание на распределение пользователей по группам (они не должны пересекаться, количество  пользователей в группах не должно отличаться более чем на 0.5%)."
   ]
  }
 ],
 "metadata": {
  "ExecuteTimeLog": [
   {
    "duration": 1564,
    "start_time": "2023-07-12T14:01:16.674Z"
   },
   {
    "duration": 4,
    "start_time": "2023-07-12T14:01:28.194Z"
   },
   {
    "duration": 4,
    "start_time": "2023-07-12T14:07:19.347Z"
   },
   {
    "duration": 3,
    "start_time": "2023-07-12T14:07:52.598Z"
   },
   {
    "duration": 254,
    "start_time": "2023-07-12T14:11:19.435Z"
   },
   {
    "duration": 26,
    "start_time": "2023-07-12T14:12:05.803Z"
   },
   {
    "duration": 5,
    "start_time": "2023-07-12T14:17:31.164Z"
   },
   {
    "duration": 45,
    "start_time": "2023-07-12T14:17:45.633Z"
   },
   {
    "duration": 3,
    "start_time": "2023-07-12T14:18:19.563Z"
   },
   {
    "duration": 4,
    "start_time": "2023-07-12T14:18:48.719Z"
   },
   {
    "duration": 43,
    "start_time": "2023-07-12T14:18:49.502Z"
   },
   {
    "duration": 4,
    "start_time": "2023-07-12T14:19:05.053Z"
   },
   {
    "duration": 5,
    "start_time": "2023-07-12T14:19:18.902Z"
   },
   {
    "duration": 51,
    "start_time": "2023-07-12T14:19:54.157Z"
   },
   {
    "duration": 35,
    "start_time": "2023-07-12T14:20:03.204Z"
   },
   {
    "duration": 49,
    "start_time": "2023-07-12T14:20:33.901Z"
   },
   {
    "duration": 1568,
    "start_time": "2023-07-13T07:41:07.754Z"
   },
   {
    "duration": 3,
    "start_time": "2023-07-13T07:41:09.325Z"
   },
   {
    "duration": 226,
    "start_time": "2023-07-13T07:41:11.990Z"
   },
   {
    "duration": 5,
    "start_time": "2023-07-13T07:41:13.698Z"
   },
   {
    "duration": 50,
    "start_time": "2023-07-13T07:41:22.438Z"
   },
   {
    "duration": 13,
    "start_time": "2023-07-13T07:42:47.967Z"
   },
   {
    "duration": 75,
    "start_time": "2023-07-13T07:42:49.006Z"
   },
   {
    "duration": 4,
    "start_time": "2023-07-13T07:43:11.325Z"
   },
   {
    "duration": 40,
    "start_time": "2023-07-13T07:43:12.404Z"
   },
   {
    "duration": 54,
    "start_time": "2023-07-13T07:43:25.952Z"
   },
   {
    "duration": 47,
    "start_time": "2023-07-13T07:43:27.359Z"
   },
   {
    "duration": 5,
    "start_time": "2023-07-13T07:49:08.384Z"
   },
   {
    "duration": 10,
    "start_time": "2023-07-13T07:49:15.414Z"
   },
   {
    "duration": 51,
    "start_time": "2023-07-13T07:54:34.933Z"
   },
   {
    "duration": 6,
    "start_time": "2023-07-13T07:57:23.848Z"
   },
   {
    "duration": 7,
    "start_time": "2023-07-13T07:58:18.490Z"
   },
   {
    "duration": 26,
    "start_time": "2023-07-13T07:58:28.763Z"
   },
   {
    "duration": 10,
    "start_time": "2023-07-13T07:59:22.217Z"
   },
   {
    "duration": 15,
    "start_time": "2023-07-13T07:59:23.140Z"
   },
   {
    "duration": 6,
    "start_time": "2023-07-13T08:02:42.934Z"
   },
   {
    "duration": 5,
    "start_time": "2023-07-13T08:02:43.959Z"
   },
   {
    "duration": 6,
    "start_time": "2023-07-13T08:02:53.413Z"
   },
   {
    "duration": 7,
    "start_time": "2023-07-13T08:03:09.893Z"
   },
   {
    "duration": 16,
    "start_time": "2023-07-13T08:03:28.899Z"
   },
   {
    "duration": 4,
    "start_time": "2023-07-13T08:03:39.501Z"
   },
   {
    "duration": 40,
    "start_time": "2023-07-13T08:08:22.416Z"
   },
   {
    "duration": 5,
    "start_time": "2023-07-13T08:08:56.509Z"
   },
   {
    "duration": 7,
    "start_time": "2023-07-13T08:11:54.930Z"
   },
   {
    "duration": 5,
    "start_time": "2023-07-13T08:12:09.448Z"
   },
   {
    "duration": 7,
    "start_time": "2023-07-13T08:12:44.335Z"
   },
   {
    "duration": 4,
    "start_time": "2023-07-13T08:12:50.332Z"
   },
   {
    "duration": 5,
    "start_time": "2023-07-13T08:13:06.986Z"
   },
   {
    "duration": 17,
    "start_time": "2023-07-13T08:19:44.093Z"
   },
   {
    "duration": 13,
    "start_time": "2023-07-13T08:19:53.121Z"
   },
   {
    "duration": 6,
    "start_time": "2023-07-13T08:27:38.599Z"
   },
   {
    "duration": 5,
    "start_time": "2023-07-13T08:27:55.050Z"
   },
   {
    "duration": 12,
    "start_time": "2023-07-13T08:32:25.902Z"
   },
   {
    "duration": 1877,
    "start_time": "2023-07-13T08:36:06.344Z"
   },
   {
    "duration": 1841,
    "start_time": "2023-07-13T08:36:21.422Z"
   },
   {
    "duration": 6,
    "start_time": "2023-07-13T08:36:47.600Z"
   },
   {
    "duration": 14,
    "start_time": "2023-07-13T08:36:53.949Z"
   },
   {
    "duration": 7,
    "start_time": "2023-07-13T08:37:01.518Z"
   },
   {
    "duration": 7,
    "start_time": "2023-07-13T08:37:35.817Z"
   },
   {
    "duration": 14,
    "start_time": "2023-07-13T08:38:13.409Z"
   },
   {
    "duration": 12,
    "start_time": "2023-07-13T08:38:35.148Z"
   },
   {
    "duration": 9,
    "start_time": "2023-07-13T08:38:47.930Z"
   },
   {
    "duration": 7,
    "start_time": "2023-07-13T08:39:01.807Z"
   },
   {
    "duration": 9,
    "start_time": "2023-07-13T08:39:51.856Z"
   },
   {
    "duration": 13,
    "start_time": "2023-07-13T08:41:03.304Z"
   },
   {
    "duration": 9,
    "start_time": "2023-07-13T08:42:56.554Z"
   },
   {
    "duration": 8,
    "start_time": "2023-07-13T08:43:23.741Z"
   },
   {
    "duration": 8,
    "start_time": "2023-07-13T08:43:51.403Z"
   },
   {
    "duration": 9,
    "start_time": "2023-07-13T08:44:11.546Z"
   },
   {
    "duration": 6,
    "start_time": "2023-07-13T08:44:22.230Z"
   },
   {
    "duration": 7,
    "start_time": "2023-07-13T08:45:23.490Z"
   },
   {
    "duration": 9,
    "start_time": "2023-07-13T08:46:16.048Z"
   },
   {
    "duration": 88,
    "start_time": "2023-07-13T08:47:08.457Z"
   },
   {
    "duration": 13,
    "start_time": "2023-07-13T08:47:19.338Z"
   },
   {
    "duration": 12,
    "start_time": "2023-07-13T08:47:40.311Z"
   },
   {
    "duration": 270,
    "start_time": "2023-07-13T08:52:07.765Z"
   },
   {
    "duration": 305,
    "start_time": "2023-07-13T08:54:10.328Z"
   },
   {
    "duration": 261,
    "start_time": "2023-07-13T08:54:18.306Z"
   },
   {
    "duration": 315,
    "start_time": "2023-07-13T08:54:26.838Z"
   },
   {
    "duration": 11,
    "start_time": "2023-07-13T08:58:44.283Z"
   },
   {
    "duration": 15,
    "start_time": "2023-07-13T08:59:21.064Z"
   },
   {
    "duration": 9,
    "start_time": "2023-07-13T08:59:49.477Z"
   },
   {
    "duration": 58,
    "start_time": "2023-07-13T08:59:54.560Z"
   },
   {
    "duration": 12,
    "start_time": "2023-07-13T09:00:06.536Z"
   },
   {
    "duration": 45,
    "start_time": "2023-07-13T09:00:10.587Z"
   },
   {
    "duration": 6,
    "start_time": "2023-07-13T09:00:16.433Z"
   },
   {
    "duration": 4,
    "start_time": "2023-07-13T09:00:17.004Z"
   },
   {
    "duration": 5,
    "start_time": "2023-07-13T09:00:17.516Z"
   },
   {
    "duration": 12,
    "start_time": "2023-07-13T09:00:18.104Z"
   },
   {
    "duration": 38,
    "start_time": "2023-07-13T09:00:20.801Z"
   },
   {
    "duration": 4,
    "start_time": "2023-07-13T09:00:24.446Z"
   },
   {
    "duration": 6,
    "start_time": "2023-07-13T09:00:24.917Z"
   },
   {
    "duration": 12,
    "start_time": "2023-07-13T09:00:28.624Z"
   },
   {
    "duration": 18,
    "start_time": "2023-07-13T09:00:37.512Z"
   },
   {
    "duration": 11,
    "start_time": "2023-07-13T11:07:48.028Z"
   },
   {
    "duration": 11,
    "start_time": "2023-07-13T11:08:24.207Z"
   },
   {
    "duration": 20,
    "start_time": "2023-07-13T11:08:40.528Z"
   },
   {
    "duration": 6,
    "start_time": "2023-07-13T11:08:55.643Z"
   },
   {
    "duration": 15,
    "start_time": "2023-07-13T11:09:27.519Z"
   },
   {
    "duration": 20,
    "start_time": "2023-07-13T11:10:10.228Z"
   },
   {
    "duration": 17,
    "start_time": "2023-07-13T11:11:29.542Z"
   },
   {
    "duration": 96,
    "start_time": "2023-07-13T11:11:40.128Z"
   },
   {
    "duration": 105,
    "start_time": "2023-07-13T11:11:43.624Z"
   },
   {
    "duration": 13,
    "start_time": "2023-07-13T11:11:46.538Z"
   },
   {
    "duration": 20,
    "start_time": "2023-07-13T11:16:35.019Z"
   },
   {
    "duration": 9,
    "start_time": "2023-07-13T11:18:03.111Z"
   },
   {
    "duration": 7,
    "start_time": "2023-07-13T11:18:37.741Z"
   },
   {
    "duration": 22,
    "start_time": "2023-07-13T11:18:53.261Z"
   },
   {
    "duration": 21,
    "start_time": "2023-07-13T11:19:19.102Z"
   },
   {
    "duration": 21,
    "start_time": "2023-07-13T11:19:30.319Z"
   },
   {
    "duration": 24,
    "start_time": "2023-07-13T11:19:36.765Z"
   },
   {
    "duration": 16,
    "start_time": "2023-07-13T11:20:11.531Z"
   },
   {
    "duration": 67,
    "start_time": "2023-07-13T11:20:51.703Z"
   },
   {
    "duration": 22,
    "start_time": "2023-07-13T11:20:59.167Z"
   },
   {
    "duration": 17,
    "start_time": "2023-07-13T11:21:21.647Z"
   },
   {
    "duration": 13,
    "start_time": "2023-07-13T11:22:32.915Z"
   },
   {
    "duration": 6,
    "start_time": "2023-07-13T11:23:08.511Z"
   },
   {
    "duration": 5,
    "start_time": "2023-07-13T11:23:15.419Z"
   },
   {
    "duration": 7,
    "start_time": "2023-07-13T11:23:32.106Z"
   },
   {
    "duration": 10,
    "start_time": "2023-07-13T11:23:42.219Z"
   },
   {
    "duration": 11,
    "start_time": "2023-07-13T11:24:33.811Z"
   },
   {
    "duration": 1401,
    "start_time": "2023-07-13T11:25:06.907Z"
   },
   {
    "duration": 1262,
    "start_time": "2023-07-13T11:25:18.828Z"
   },
   {
    "duration": 14,
    "start_time": "2023-07-13T11:25:32.026Z"
   },
   {
    "duration": 10,
    "start_time": "2023-07-13T11:27:20.812Z"
   },
   {
    "duration": 12,
    "start_time": "2023-07-13T11:27:33.026Z"
   },
   {
    "duration": 13,
    "start_time": "2023-07-13T11:29:49.752Z"
   },
   {
    "duration": 5,
    "start_time": "2023-07-13T11:32:44.513Z"
   },
   {
    "duration": 14,
    "start_time": "2023-07-13T11:32:48.848Z"
   },
   {
    "duration": 5,
    "start_time": "2023-07-13T11:36:15.410Z"
   },
   {
    "duration": 12,
    "start_time": "2023-07-13T11:36:40.514Z"
   },
   {
    "duration": 20,
    "start_time": "2023-07-13T11:37:05.433Z"
   },
   {
    "duration": 24,
    "start_time": "2023-07-13T11:37:09.929Z"
   },
   {
    "duration": 14,
    "start_time": "2023-07-13T11:37:29.923Z"
   },
   {
    "duration": 16,
    "start_time": "2023-07-13T11:37:38.627Z"
   },
   {
    "duration": 18,
    "start_time": "2023-07-13T11:37:59.831Z"
   },
   {
    "duration": 31,
    "start_time": "2023-07-13T11:38:33.305Z"
   },
   {
    "duration": 17,
    "start_time": "2023-07-13T11:38:46.142Z"
   },
   {
    "duration": 23,
    "start_time": "2023-07-13T11:38:57.756Z"
   },
   {
    "duration": 26,
    "start_time": "2023-07-13T11:39:11.426Z"
   },
   {
    "duration": 28,
    "start_time": "2023-07-13T11:40:00.515Z"
   },
   {
    "duration": 54,
    "start_time": "2023-07-13T13:31:41.816Z"
   },
   {
    "duration": 1558,
    "start_time": "2023-07-13T13:32:01.125Z"
   },
   {
    "duration": 4,
    "start_time": "2023-07-13T13:32:02.685Z"
   },
   {
    "duration": 631,
    "start_time": "2023-07-13T13:32:02.690Z"
   },
   {
    "duration": 2,
    "start_time": "2023-07-13T13:32:03.323Z"
   },
   {
    "duration": 425,
    "start_time": "2023-07-13T13:32:03.328Z"
   },
   {
    "duration": 527,
    "start_time": "2023-07-13T13:32:03.754Z"
   },
   {
    "duration": 10,
    "start_time": "2023-07-13T13:32:04.283Z"
   },
   {
    "duration": 79,
    "start_time": "2023-07-13T13:32:04.295Z"
   },
   {
    "duration": 6,
    "start_time": "2023-07-13T13:32:04.376Z"
   },
   {
    "duration": 4,
    "start_time": "2023-07-13T13:32:04.383Z"
   },
   {
    "duration": 9,
    "start_time": "2023-07-13T13:32:04.388Z"
   },
   {
    "duration": 24,
    "start_time": "2023-07-13T13:32:04.399Z"
   },
   {
    "duration": 71,
    "start_time": "2023-07-13T13:32:04.432Z"
   },
   {
    "duration": 4,
    "start_time": "2023-07-13T13:32:04.506Z"
   },
   {
    "duration": 21,
    "start_time": "2023-07-13T13:32:04.511Z"
   },
   {
    "duration": 460,
    "start_time": "2023-07-13T13:32:04.535Z"
   },
   {
    "duration": 10,
    "start_time": "2023-07-13T13:32:04.997Z"
   },
   {
    "duration": 25,
    "start_time": "2023-07-13T13:32:05.009Z"
   },
   {
    "duration": 43,
    "start_time": "2023-07-13T13:32:05.035Z"
   },
   {
    "duration": 9,
    "start_time": "2023-07-13T13:32:05.080Z"
   },
   {
    "duration": 16,
    "start_time": "2023-07-13T13:32:05.090Z"
   },
   {
    "duration": 10,
    "start_time": "2023-07-13T13:32:05.108Z"
   },
   {
    "duration": 5,
    "start_time": "2023-07-13T13:33:35.257Z"
   },
   {
    "duration": 10,
    "start_time": "2023-07-13T13:33:36.024Z"
   },
   {
    "duration": 13,
    "start_time": "2023-07-13T13:38:37.308Z"
   },
   {
    "duration": 1180,
    "start_time": "2023-07-13T13:39:06.067Z"
   },
   {
    "duration": 3,
    "start_time": "2023-07-13T13:39:07.250Z"
   },
   {
    "duration": 126,
    "start_time": "2023-07-13T13:39:07.254Z"
   },
   {
    "duration": 3,
    "start_time": "2023-07-13T13:39:07.382Z"
   },
   {
    "duration": 10,
    "start_time": "2023-07-13T13:39:07.386Z"
   },
   {
    "duration": 69,
    "start_time": "2023-07-13T13:39:07.397Z"
   },
   {
    "duration": 8,
    "start_time": "2023-07-13T13:39:07.467Z"
   },
   {
    "duration": 66,
    "start_time": "2023-07-13T13:39:07.476Z"
   },
   {
    "duration": 4,
    "start_time": "2023-07-13T13:39:07.546Z"
   },
   {
    "duration": 29,
    "start_time": "2023-07-13T13:39:07.553Z"
   },
   {
    "duration": 20,
    "start_time": "2023-07-13T13:39:07.583Z"
   },
   {
    "duration": 20,
    "start_time": "2023-07-13T13:39:07.605Z"
   },
   {
    "duration": 54,
    "start_time": "2023-07-13T13:39:07.626Z"
   },
   {
    "duration": 4,
    "start_time": "2023-07-13T13:39:07.682Z"
   },
   {
    "duration": 9,
    "start_time": "2023-07-13T13:39:07.688Z"
   },
   {
    "duration": 324,
    "start_time": "2023-07-13T13:39:07.698Z"
   },
   {
    "duration": 13,
    "start_time": "2023-07-13T13:39:08.034Z"
   },
   {
    "duration": 15,
    "start_time": "2023-07-13T13:39:08.048Z"
   },
   {
    "duration": 14,
    "start_time": "2023-07-13T13:39:08.065Z"
   },
   {
    "duration": 13,
    "start_time": "2023-07-13T13:39:08.080Z"
   },
   {
    "duration": 25,
    "start_time": "2023-07-13T13:39:08.094Z"
   },
   {
    "duration": 33,
    "start_time": "2023-07-13T13:39:08.120Z"
   },
   {
    "duration": 30,
    "start_time": "2023-07-13T13:39:08.155Z"
   },
   {
    "duration": 18,
    "start_time": "2023-07-13T13:48:55.104Z"
   },
   {
    "duration": 19,
    "start_time": "2023-07-13T13:49:05.204Z"
   },
   {
    "duration": 19,
    "start_time": "2023-07-13T13:50:15.122Z"
   },
   {
    "duration": 18,
    "start_time": "2023-07-13T13:50:16.824Z"
   },
   {
    "duration": 7,
    "start_time": "2023-07-13T13:51:31.319Z"
   },
   {
    "duration": 19,
    "start_time": "2023-07-13T13:52:20.122Z"
   },
   {
    "duration": 170,
    "start_time": "2023-07-13T13:56:43.418Z"
   },
   {
    "duration": 2,
    "start_time": "2023-07-13T13:57:43.517Z"
   },
   {
    "duration": 22,
    "start_time": "2023-07-13T13:58:10.322Z"
   },
   {
    "duration": 49,
    "start_time": "2023-07-13T13:59:22.464Z"
   },
   {
    "duration": 65,
    "start_time": "2023-07-13T13:59:38.330Z"
   },
   {
    "duration": 54,
    "start_time": "2023-07-13T13:59:43.157Z"
   },
   {
    "duration": 56,
    "start_time": "2023-07-13T14:00:19.112Z"
   },
   {
    "duration": 158,
    "start_time": "2023-07-13T14:00:45.971Z"
   },
   {
    "duration": 179,
    "start_time": "2023-07-13T14:00:55.524Z"
   },
   {
    "duration": 16,
    "start_time": "2023-07-13T14:02:21.864Z"
   },
   {
    "duration": 2,
    "start_time": "2023-07-13T14:02:43.315Z"
   },
   {
    "duration": 71,
    "start_time": "2023-07-13T14:02:47.511Z"
   },
   {
    "duration": 62,
    "start_time": "2023-07-13T14:08:31.654Z"
   },
   {
    "duration": 102,
    "start_time": "2023-07-13T14:10:14.292Z"
   },
   {
    "duration": 100,
    "start_time": "2023-07-13T14:12:05.859Z"
   },
   {
    "duration": 8,
    "start_time": "2023-07-13T14:13:06.025Z"
   },
   {
    "duration": 10,
    "start_time": "2023-07-13T14:14:10.614Z"
   },
   {
    "duration": 10,
    "start_time": "2023-07-13T14:14:16.250Z"
   },
   {
    "duration": 46,
    "start_time": "2023-07-13T14:16:37.439Z"
   },
   {
    "duration": 132,
    "start_time": "2023-07-13T14:18:11.139Z"
   },
   {
    "duration": 81,
    "start_time": "2023-07-13T14:18:19.046Z"
   },
   {
    "duration": 3,
    "start_time": "2023-07-13T14:18:25.049Z"
   },
   {
    "duration": 3,
    "start_time": "2023-07-13T14:18:34.652Z"
   },
   {
    "duration": 11,
    "start_time": "2023-07-13T14:19:55.212Z"
   },
   {
    "duration": 28,
    "start_time": "2023-07-13T14:21:37.713Z"
   },
   {
    "duration": 4,
    "start_time": "2023-07-13T14:22:29.318Z"
   },
   {
    "duration": 261,
    "start_time": "2023-07-13T14:25:30.998Z"
   },
   {
    "duration": 157,
    "start_time": "2023-07-13T14:29:10.216Z"
   },
   {
    "duration": 203,
    "start_time": "2023-07-13T14:30:30.412Z"
   },
   {
    "duration": 192,
    "start_time": "2023-07-13T14:30:45.402Z"
   },
   {
    "duration": 492,
    "start_time": "2023-07-13T14:31:04.314Z"
   },
   {
    "duration": 276,
    "start_time": "2023-07-13T14:31:51.791Z"
   },
   {
    "duration": 3,
    "start_time": "2023-07-13T14:33:37.294Z"
   },
   {
    "duration": 202,
    "start_time": "2023-07-13T14:42:21.832Z"
   },
   {
    "duration": 196,
    "start_time": "2023-07-13T14:43:43.544Z"
   },
   {
    "duration": 201,
    "start_time": "2023-07-13T14:43:49.566Z"
   },
   {
    "duration": 218,
    "start_time": "2023-07-13T14:43:59.160Z"
   },
   {
    "duration": 193,
    "start_time": "2023-07-13T14:44:08.257Z"
   },
   {
    "duration": 197,
    "start_time": "2023-07-13T14:44:14.455Z"
   },
   {
    "duration": 282,
    "start_time": "2023-07-13T14:44:26.215Z"
   },
   {
    "duration": 259,
    "start_time": "2023-07-13T14:44:44.502Z"
   },
   {
    "duration": 182,
    "start_time": "2023-07-13T14:55:31.071Z"
   },
   {
    "duration": 267,
    "start_time": "2023-07-13T14:58:11.600Z"
   },
   {
    "duration": 387,
    "start_time": "2023-07-13T14:58:40.324Z"
   },
   {
    "duration": 306,
    "start_time": "2023-07-13T14:58:48.602Z"
   },
   {
    "duration": 296,
    "start_time": "2023-07-13T14:58:54.364Z"
   },
   {
    "duration": 9,
    "start_time": "2023-07-13T15:29:20.318Z"
   },
   {
    "duration": 198,
    "start_time": "2023-07-13T15:30:44.237Z"
   },
   {
    "duration": 337,
    "start_time": "2023-07-13T16:37:28.103Z"
   },
   {
    "duration": 350,
    "start_time": "2023-07-13T16:37:40.208Z"
   },
   {
    "duration": 221,
    "start_time": "2023-07-13T16:40:03.969Z"
   },
   {
    "duration": 313,
    "start_time": "2023-07-13T16:40:24.963Z"
   },
   {
    "duration": 1448,
    "start_time": "2023-07-13T17:47:18.781Z"
   },
   {
    "duration": 3,
    "start_time": "2023-07-13T17:47:20.231Z"
   },
   {
    "duration": 262,
    "start_time": "2023-07-13T17:47:20.236Z"
   },
   {
    "duration": 3,
    "start_time": "2023-07-13T17:47:20.500Z"
   },
   {
    "duration": 7,
    "start_time": "2023-07-13T17:47:20.505Z"
   },
   {
    "duration": 63,
    "start_time": "2023-07-13T17:47:20.514Z"
   },
   {
    "duration": 19,
    "start_time": "2023-07-13T17:47:20.579Z"
   },
   {
    "duration": 75,
    "start_time": "2023-07-13T17:47:20.599Z"
   },
   {
    "duration": 8,
    "start_time": "2023-07-13T17:47:20.678Z"
   },
   {
    "duration": 6,
    "start_time": "2023-07-13T17:47:20.688Z"
   },
   {
    "duration": 24,
    "start_time": "2023-07-13T17:47:20.696Z"
   },
   {
    "duration": 25,
    "start_time": "2023-07-13T17:47:20.722Z"
   },
   {
    "duration": 43,
    "start_time": "2023-07-13T17:47:20.749Z"
   },
   {
    "duration": 4,
    "start_time": "2023-07-13T17:47:20.795Z"
   },
   {
    "duration": 11,
    "start_time": "2023-07-13T17:47:20.801Z"
   },
   {
    "duration": 419,
    "start_time": "2023-07-13T17:47:20.814Z"
   },
   {
    "duration": 11,
    "start_time": "2023-07-13T17:47:21.235Z"
   },
   {
    "duration": 26,
    "start_time": "2023-07-13T17:47:21.248Z"
   },
   {
    "duration": 15,
    "start_time": "2023-07-13T17:47:21.276Z"
   },
   {
    "duration": 8,
    "start_time": "2023-07-13T17:47:21.293Z"
   },
   {
    "duration": 31,
    "start_time": "2023-07-13T17:47:21.302Z"
   },
   {
    "duration": 10,
    "start_time": "2023-07-13T17:47:21.334Z"
   },
   {
    "duration": 31,
    "start_time": "2023-07-13T17:47:21.346Z"
   },
   {
    "duration": 138,
    "start_time": "2023-07-13T17:47:21.378Z"
   },
   {
    "duration": 8,
    "start_time": "2023-07-13T17:47:21.518Z"
   },
   {
    "duration": 113,
    "start_time": "2023-07-13T17:47:21.527Z"
   },
   {
    "duration": 70,
    "start_time": "2023-07-13T17:47:21.642Z"
   },
   {
    "duration": 229,
    "start_time": "2023-07-13T17:47:21.714Z"
   },
   {
    "duration": 245,
    "start_time": "2023-07-13T17:47:21.945Z"
   },
   {
    "duration": 380,
    "start_time": "2023-07-13T17:47:22.193Z"
   },
   {
    "duration": 16,
    "start_time": "2023-07-13T17:47:22.578Z"
   },
   {
    "duration": 237,
    "start_time": "2023-07-13T17:47:22.596Z"
   },
   {
    "duration": 375,
    "start_time": "2023-07-13T17:47:22.835Z"
   },
   {
    "duration": 484,
    "start_time": "2023-07-13T17:49:04.543Z"
   },
   {
    "duration": 359,
    "start_time": "2023-07-13T17:50:11.690Z"
   },
   {
    "duration": 342,
    "start_time": "2023-07-13T17:51:05.289Z"
   },
   {
    "duration": 345,
    "start_time": "2023-07-13T17:54:11.007Z"
   },
   {
    "duration": 343,
    "start_time": "2023-07-13T17:54:59.289Z"
   },
   {
    "duration": 343,
    "start_time": "2023-07-13T17:55:09.694Z"
   },
   {
    "duration": 320,
    "start_time": "2023-07-13T17:55:17.200Z"
   },
   {
    "duration": 400,
    "start_time": "2023-07-13T17:55:24.632Z"
   },
   {
    "duration": 365,
    "start_time": "2023-07-13T17:55:29.275Z"
   },
   {
    "duration": 384,
    "start_time": "2023-07-13T17:55:35.944Z"
   },
   {
    "duration": 319,
    "start_time": "2023-07-13T18:01:04.092Z"
   },
   {
    "duration": 431,
    "start_time": "2023-07-13T18:01:14.493Z"
   },
   {
    "duration": 9,
    "start_time": "2023-07-13T18:03:44.330Z"
   },
   {
    "duration": 90,
    "start_time": "2023-07-13T18:04:32.968Z"
   },
   {
    "duration": 10,
    "start_time": "2023-07-13T18:04:57.997Z"
   },
   {
    "duration": 7,
    "start_time": "2023-07-13T18:06:01.710Z"
   },
   {
    "duration": 10,
    "start_time": "2023-07-13T18:06:16.099Z"
   },
   {
    "duration": 1384,
    "start_time": "2023-07-14T07:26:59.018Z"
   },
   {
    "duration": 4,
    "start_time": "2023-07-14T07:27:00.405Z"
   },
   {
    "duration": 238,
    "start_time": "2023-07-14T07:27:00.411Z"
   },
   {
    "duration": 3,
    "start_time": "2023-07-14T07:27:00.652Z"
   },
   {
    "duration": 32,
    "start_time": "2023-07-14T07:27:00.657Z"
   },
   {
    "duration": 79,
    "start_time": "2023-07-14T07:27:00.692Z"
   },
   {
    "duration": 9,
    "start_time": "2023-07-14T07:27:00.772Z"
   },
   {
    "duration": 164,
    "start_time": "2023-07-14T07:27:00.783Z"
   },
   {
    "duration": 5,
    "start_time": "2023-07-14T07:27:00.949Z"
   },
   {
    "duration": 91,
    "start_time": "2023-07-14T07:27:00.957Z"
   },
   {
    "duration": 92,
    "start_time": "2023-07-14T07:27:01.050Z"
   },
   {
    "duration": 130,
    "start_time": "2023-07-14T07:27:01.143Z"
   },
   {
    "duration": 64,
    "start_time": "2023-07-14T07:27:01.275Z"
   },
   {
    "duration": 114,
    "start_time": "2023-07-14T07:27:01.340Z"
   },
   {
    "duration": 71,
    "start_time": "2023-07-14T07:27:01.456Z"
   },
   {
    "duration": 393,
    "start_time": "2023-07-14T07:27:01.530Z"
   },
   {
    "duration": 12,
    "start_time": "2023-07-14T07:27:01.925Z"
   },
   {
    "duration": 38,
    "start_time": "2023-07-14T07:27:01.939Z"
   },
   {
    "duration": 81,
    "start_time": "2023-07-14T07:27:01.980Z"
   },
   {
    "duration": 45,
    "start_time": "2023-07-14T07:27:02.063Z"
   },
   {
    "duration": 38,
    "start_time": "2023-07-14T07:27:02.110Z"
   },
   {
    "duration": 28,
    "start_time": "2023-07-14T07:27:02.150Z"
   },
   {
    "duration": 60,
    "start_time": "2023-07-14T07:27:02.180Z"
   },
   {
    "duration": 163,
    "start_time": "2023-07-14T07:27:02.242Z"
   },
   {
    "duration": 7,
    "start_time": "2023-07-14T07:27:02.407Z"
   },
   {
    "duration": 108,
    "start_time": "2023-07-14T07:27:02.416Z"
   },
   {
    "duration": 46,
    "start_time": "2023-07-14T07:27:02.526Z"
   },
   {
    "duration": 214,
    "start_time": "2023-07-14T07:27:02.575Z"
   },
   {
    "duration": 221,
    "start_time": "2023-07-14T07:27:02.791Z"
   },
   {
    "duration": 399,
    "start_time": "2023-07-14T07:27:03.014Z"
   },
   {
    "duration": 10,
    "start_time": "2023-07-14T07:27:03.415Z"
   },
   {
    "duration": 238,
    "start_time": "2023-07-14T07:27:03.426Z"
   },
   {
    "duration": 338,
    "start_time": "2023-07-14T07:27:03.666Z"
   },
   {
    "duration": 9,
    "start_time": "2023-07-14T07:27:04.005Z"
   },
   {
    "duration": 29,
    "start_time": "2023-07-14T07:27:04.015Z"
   },
   {
    "duration": 177,
    "start_time": "2023-07-14T07:29:01.340Z"
   },
   {
    "duration": 11,
    "start_time": "2023-07-14T07:29:04.984Z"
   },
   {
    "duration": 14,
    "start_time": "2023-07-14T07:29:38.999Z"
   },
   {
    "duration": 13,
    "start_time": "2023-07-14T07:29:56.691Z"
   },
   {
    "duration": 13,
    "start_time": "2023-07-14T07:30:08.903Z"
   },
   {
    "duration": 7,
    "start_time": "2023-07-14T07:31:09.633Z"
   },
   {
    "duration": 13,
    "start_time": "2023-07-14T07:32:35.307Z"
   },
   {
    "duration": 225,
    "start_time": "2023-07-14T07:36:15.099Z"
   },
   {
    "duration": 187,
    "start_time": "2023-07-14T07:37:06.756Z"
   },
   {
    "duration": 10698,
    "start_time": "2023-07-14T07:37:40.280Z"
   },
   {
    "duration": 178,
    "start_time": "2023-07-14T07:37:59.863Z"
   },
   {
    "duration": 163,
    "start_time": "2023-07-14T07:38:21.720Z"
   },
   {
    "duration": 155,
    "start_time": "2023-07-14T07:38:29.535Z"
   },
   {
    "duration": 379,
    "start_time": "2023-07-14T07:39:17.960Z"
   },
   {
    "duration": 135,
    "start_time": "2023-07-14T07:41:07.156Z"
   },
   {
    "duration": 134,
    "start_time": "2023-07-14T07:41:12.136Z"
   },
   {
    "duration": 125,
    "start_time": "2023-07-14T07:41:32.891Z"
   },
   {
    "duration": 136,
    "start_time": "2023-07-14T07:42:35.461Z"
   },
   {
    "duration": 152,
    "start_time": "2023-07-14T07:44:30.872Z"
   },
   {
    "duration": 7,
    "start_time": "2023-07-14T07:46:51.723Z"
   },
   {
    "duration": 4,
    "start_time": "2023-07-14T07:47:19.644Z"
   },
   {
    "duration": 5,
    "start_time": "2023-07-14T07:47:26.921Z"
   },
   {
    "duration": 5,
    "start_time": "2023-07-14T07:47:34.561Z"
   },
   {
    "duration": 4,
    "start_time": "2023-07-14T07:51:02.080Z"
   },
   {
    "duration": 152,
    "start_time": "2023-07-14T07:53:04.727Z"
   },
   {
    "duration": 156,
    "start_time": "2023-07-14T07:54:14.262Z"
   },
   {
    "duration": 166,
    "start_time": "2023-07-14T08:02:39.214Z"
   },
   {
    "duration": 163,
    "start_time": "2023-07-14T08:03:33.804Z"
   },
   {
    "duration": 220,
    "start_time": "2023-07-14T08:03:51.065Z"
   },
   {
    "duration": 229,
    "start_time": "2023-07-14T08:03:56.131Z"
   },
   {
    "duration": 162,
    "start_time": "2023-07-14T08:04:03.758Z"
   },
   {
    "duration": 157,
    "start_time": "2023-07-14T08:04:15.710Z"
   },
   {
    "duration": 164,
    "start_time": "2023-07-14T08:04:20.007Z"
   },
   {
    "duration": 168,
    "start_time": "2023-07-14T08:04:31.434Z"
   },
   {
    "duration": 120,
    "start_time": "2023-07-14T08:04:38.657Z"
   },
   {
    "duration": 153,
    "start_time": "2023-07-14T08:04:44.820Z"
   },
   {
    "duration": 162,
    "start_time": "2023-07-14T08:05:14.245Z"
   },
   {
    "duration": 166,
    "start_time": "2023-07-14T08:05:21.934Z"
   },
   {
    "duration": 160,
    "start_time": "2023-07-14T08:05:29.471Z"
   },
   {
    "duration": 157,
    "start_time": "2023-07-14T08:05:43.579Z"
   },
   {
    "duration": 251,
    "start_time": "2023-07-14T08:06:04.850Z"
   },
   {
    "duration": 152,
    "start_time": "2023-07-14T08:06:14.300Z"
   },
   {
    "duration": 153,
    "start_time": "2023-07-14T08:06:43.811Z"
   },
   {
    "duration": 155,
    "start_time": "2023-07-14T08:06:59.674Z"
   },
   {
    "duration": 158,
    "start_time": "2023-07-14T08:07:04.470Z"
   },
   {
    "duration": 170,
    "start_time": "2023-07-14T08:07:07.786Z"
   },
   {
    "duration": 180,
    "start_time": "2023-07-14T08:07:29.464Z"
   },
   {
    "duration": 164,
    "start_time": "2023-07-14T08:07:37.426Z"
   },
   {
    "duration": 170,
    "start_time": "2023-07-14T08:07:42.907Z"
   },
   {
    "duration": 158,
    "start_time": "2023-07-14T08:07:51.449Z"
   },
   {
    "duration": 197,
    "start_time": "2023-07-14T08:08:08.345Z"
   },
   {
    "duration": 248,
    "start_time": "2023-07-14T08:08:13.048Z"
   },
   {
    "duration": 149,
    "start_time": "2023-07-14T08:08:22.455Z"
   },
   {
    "duration": 164,
    "start_time": "2023-07-14T08:08:57.508Z"
   },
   {
    "duration": 161,
    "start_time": "2023-07-14T08:09:05.188Z"
   },
   {
    "duration": 173,
    "start_time": "2023-07-14T08:09:12.174Z"
   },
   {
    "duration": 168,
    "start_time": "2023-07-14T08:09:27.511Z"
   },
   {
    "duration": 183,
    "start_time": "2023-07-14T08:10:57.024Z"
   },
   {
    "duration": 222,
    "start_time": "2023-07-14T08:15:31.684Z"
   },
   {
    "duration": 176,
    "start_time": "2023-07-14T08:16:45.675Z"
   },
   {
    "duration": 37,
    "start_time": "2023-07-14T08:16:57.505Z"
   },
   {
    "duration": 173,
    "start_time": "2023-07-14T08:17:28.869Z"
   },
   {
    "duration": 271,
    "start_time": "2023-07-14T08:17:32.987Z"
   },
   {
    "duration": 216,
    "start_time": "2023-07-14T08:18:27.416Z"
   },
   {
    "duration": 170,
    "start_time": "2023-07-14T08:18:41.448Z"
   },
   {
    "duration": 149,
    "start_time": "2023-07-14T08:19:24.472Z"
   },
   {
    "duration": 149,
    "start_time": "2023-07-14T08:19:50.721Z"
   },
   {
    "duration": 163,
    "start_time": "2023-07-14T08:19:58.109Z"
   },
   {
    "duration": 152,
    "start_time": "2023-07-14T08:20:02.676Z"
   },
   {
    "duration": 156,
    "start_time": "2023-07-14T08:20:18.189Z"
   },
   {
    "duration": 157,
    "start_time": "2023-07-14T08:20:25.921Z"
   },
   {
    "duration": 164,
    "start_time": "2023-07-14T08:22:31.558Z"
   },
   {
    "duration": 186,
    "start_time": "2023-07-14T08:22:41.773Z"
   },
   {
    "duration": 150,
    "start_time": "2023-07-14T08:23:34.926Z"
   },
   {
    "duration": 270,
    "start_time": "2023-07-14T08:23:47.862Z"
   },
   {
    "duration": 183,
    "start_time": "2023-07-14T08:24:07.940Z"
   },
   {
    "duration": 147,
    "start_time": "2023-07-14T08:24:25.488Z"
   },
   {
    "duration": 6,
    "start_time": "2023-07-14T08:24:34.131Z"
   },
   {
    "duration": 209,
    "start_time": "2023-07-14T08:25:53.155Z"
   },
   {
    "duration": 163,
    "start_time": "2023-07-14T08:27:09.759Z"
   },
   {
    "duration": 174,
    "start_time": "2023-07-14T08:27:19.899Z"
   },
   {
    "duration": 160,
    "start_time": "2023-07-14T08:27:34.462Z"
   },
   {
    "duration": 163,
    "start_time": "2023-07-14T08:28:35.094Z"
   },
   {
    "duration": 5,
    "start_time": "2023-07-14T08:33:38.361Z"
   },
   {
    "duration": 183,
    "start_time": "2023-07-14T08:34:32.031Z"
   },
   {
    "duration": 169,
    "start_time": "2023-07-14T08:34:40.027Z"
   },
   {
    "duration": 212,
    "start_time": "2023-07-14T08:34:44.241Z"
   },
   {
    "duration": 12,
    "start_time": "2023-07-14T08:47:59.087Z"
   },
   {
    "duration": 11,
    "start_time": "2023-07-14T08:54:07.644Z"
   },
   {
    "duration": 83,
    "start_time": "2023-07-14T08:54:36.054Z"
   },
   {
    "duration": 89,
    "start_time": "2023-07-14T08:54:48.154Z"
   },
   {
    "duration": 62,
    "start_time": "2023-07-14T08:54:52.040Z"
   },
   {
    "duration": 5,
    "start_time": "2023-07-14T08:57:11.524Z"
   },
   {
    "duration": 81,
    "start_time": "2023-07-14T08:57:40.748Z"
   },
   {
    "duration": 158,
    "start_time": "2023-07-14T08:58:33.607Z"
   },
   {
    "duration": 140,
    "start_time": "2023-07-14T08:58:39.879Z"
   },
   {
    "duration": 14,
    "start_time": "2023-07-14T09:01:11.979Z"
   },
   {
    "duration": 9,
    "start_time": "2023-07-14T09:02:28.302Z"
   },
   {
    "duration": 6,
    "start_time": "2023-07-14T09:02:35.778Z"
   },
   {
    "duration": 8,
    "start_time": "2023-07-14T09:04:20.342Z"
   },
   {
    "duration": 4,
    "start_time": "2023-07-14T09:05:00.067Z"
   },
   {
    "duration": 5,
    "start_time": "2023-07-14T09:05:13.131Z"
   },
   {
    "duration": 9,
    "start_time": "2023-07-14T09:06:22.038Z"
   },
   {
    "duration": 3,
    "start_time": "2023-07-14T09:06:48.328Z"
   },
   {
    "duration": 23,
    "start_time": "2023-07-14T09:07:15.792Z"
   },
   {
    "duration": 32,
    "start_time": "2023-07-14T09:08:18.837Z"
   },
   {
    "duration": 15,
    "start_time": "2023-07-14T09:17:33.569Z"
   },
   {
    "duration": 15,
    "start_time": "2023-07-14T09:19:30.959Z"
   },
   {
    "duration": 14,
    "start_time": "2023-07-14T11:05:48.261Z"
   },
   {
    "duration": 11,
    "start_time": "2023-07-14T11:06:32.789Z"
   },
   {
    "duration": 16,
    "start_time": "2023-07-14T11:07:07.534Z"
   },
   {
    "duration": 6,
    "start_time": "2023-07-14T13:36:53.177Z"
   },
   {
    "duration": 9,
    "start_time": "2023-07-14T13:39:37.780Z"
   },
   {
    "duration": 6,
    "start_time": "2023-07-14T13:39:49.366Z"
   },
   {
    "duration": 11,
    "start_time": "2023-07-14T13:40:31.451Z"
   },
   {
    "duration": 12,
    "start_time": "2023-07-14T13:40:36.853Z"
   },
   {
    "duration": 11,
    "start_time": "2023-07-14T13:40:43.540Z"
   },
   {
    "duration": 9,
    "start_time": "2023-07-14T13:42:23.082Z"
   },
   {
    "duration": 24,
    "start_time": "2023-07-14T13:46:50.775Z"
   },
   {
    "duration": 20,
    "start_time": "2023-07-14T14:08:41.408Z"
   },
   {
    "duration": 6,
    "start_time": "2023-07-14T14:19:33.853Z"
   },
   {
    "duration": 7,
    "start_time": "2023-07-14T14:21:58.188Z"
   },
   {
    "duration": 6,
    "start_time": "2023-07-14T14:22:07.157Z"
   },
   {
    "duration": 6,
    "start_time": "2023-07-14T14:23:03.941Z"
   },
   {
    "duration": 6,
    "start_time": "2023-07-14T14:23:11.003Z"
   },
   {
    "duration": 19,
    "start_time": "2023-07-14T14:23:25.181Z"
   },
   {
    "duration": 4,
    "start_time": "2023-07-14T14:24:20.911Z"
   },
   {
    "duration": 5,
    "start_time": "2023-07-14T14:24:26.256Z"
   },
   {
    "duration": 5,
    "start_time": "2023-07-14T14:26:00.265Z"
   },
   {
    "duration": 6,
    "start_time": "2023-07-14T14:26:07.563Z"
   },
   {
    "duration": 6,
    "start_time": "2023-07-14T14:26:13.290Z"
   },
   {
    "duration": 4,
    "start_time": "2023-07-14T14:26:17.660Z"
   },
   {
    "duration": 13,
    "start_time": "2023-07-14T14:27:01.797Z"
   },
   {
    "duration": 6,
    "start_time": "2023-07-14T14:27:26.095Z"
   },
   {
    "duration": 12,
    "start_time": "2023-07-14T14:27:32.722Z"
   },
   {
    "duration": 8,
    "start_time": "2023-07-14T14:27:36.100Z"
   },
   {
    "duration": 23,
    "start_time": "2023-07-14T14:27:40.352Z"
   },
   {
    "duration": 15,
    "start_time": "2023-07-14T14:27:43.907Z"
   },
   {
    "duration": 4,
    "start_time": "2023-07-14T16:15:54.909Z"
   },
   {
    "duration": 76,
    "start_time": "2023-07-14T16:15:59.988Z"
   },
   {
    "duration": 5,
    "start_time": "2023-07-14T16:16:01.433Z"
   },
   {
    "duration": 6,
    "start_time": "2023-07-14T16:16:05.395Z"
   },
   {
    "duration": 55,
    "start_time": "2023-07-14T16:16:36.853Z"
   },
   {
    "duration": 63,
    "start_time": "2023-07-14T16:17:11.303Z"
   },
   {
    "duration": 10,
    "start_time": "2023-07-14T16:17:16.076Z"
   },
   {
    "duration": 1538,
    "start_time": "2023-07-14T16:22:31.802Z"
   },
   {
    "duration": 12,
    "start_time": "2023-07-14T16:22:33.343Z"
   },
   {
    "duration": 126,
    "start_time": "2023-07-14T16:22:33.358Z"
   },
   {
    "duration": 4,
    "start_time": "2023-07-14T16:22:33.487Z"
   },
   {
    "duration": 52,
    "start_time": "2023-07-14T16:22:33.494Z"
   },
   {
    "duration": 118,
    "start_time": "2023-07-14T16:22:33.548Z"
   },
   {
    "duration": 14,
    "start_time": "2023-07-14T16:22:33.670Z"
   },
   {
    "duration": 97,
    "start_time": "2023-07-14T16:22:33.686Z"
   },
   {
    "duration": 7,
    "start_time": "2023-07-14T16:22:33.789Z"
   },
   {
    "duration": 19,
    "start_time": "2023-07-14T16:22:33.801Z"
   },
   {
    "duration": 46,
    "start_time": "2023-07-14T16:22:33.823Z"
   },
   {
    "duration": 28,
    "start_time": "2023-07-14T16:22:33.872Z"
   },
   {
    "duration": 63,
    "start_time": "2023-07-14T16:22:33.903Z"
   },
   {
    "duration": 4,
    "start_time": "2023-07-14T16:22:33.968Z"
   },
   {
    "duration": 24,
    "start_time": "2023-07-14T16:22:33.974Z"
   },
   {
    "duration": 519,
    "start_time": "2023-07-14T16:22:34.001Z"
   },
   {
    "duration": 22,
    "start_time": "2023-07-14T16:22:34.523Z"
   },
   {
    "duration": 14,
    "start_time": "2023-07-14T16:22:34.548Z"
   },
   {
    "duration": 44,
    "start_time": "2023-07-14T16:22:34.564Z"
   },
   {
    "duration": 18,
    "start_time": "2023-07-14T16:22:34.611Z"
   },
   {
    "duration": 17,
    "start_time": "2023-07-14T16:22:34.631Z"
   },
   {
    "duration": 22,
    "start_time": "2023-07-14T16:22:34.650Z"
   },
   {
    "duration": 25,
    "start_time": "2023-07-14T16:22:34.675Z"
   },
   {
    "duration": 183,
    "start_time": "2023-07-14T16:22:34.703Z"
   },
   {
    "duration": 9,
    "start_time": "2023-07-14T16:22:34.888Z"
   },
   {
    "duration": 124,
    "start_time": "2023-07-14T16:22:34.899Z"
   },
   {
    "duration": 65,
    "start_time": "2023-07-14T16:22:35.027Z"
   },
   {
    "duration": 318,
    "start_time": "2023-07-14T16:22:35.097Z"
   },
   {
    "duration": 355,
    "start_time": "2023-07-14T16:22:35.417Z"
   },
   {
    "duration": 394,
    "start_time": "2023-07-14T16:22:35.776Z"
   },
   {
    "duration": 13,
    "start_time": "2023-07-14T16:22:36.173Z"
   },
   {
    "duration": 279,
    "start_time": "2023-07-14T16:22:36.188Z"
   },
   {
    "duration": 369,
    "start_time": "2023-07-14T16:22:36.473Z"
   },
   {
    "duration": 18,
    "start_time": "2023-07-14T16:22:36.844Z"
   },
   {
    "duration": 21,
    "start_time": "2023-07-14T16:22:36.864Z"
   },
   {
    "duration": 285,
    "start_time": "2023-07-14T16:22:36.887Z"
   },
   {
    "duration": 186,
    "start_time": "2023-07-14T16:22:37.174Z"
   },
   {
    "duration": 7,
    "start_time": "2023-07-14T16:22:37.362Z"
   },
   {
    "duration": 183,
    "start_time": "2023-07-14T16:22:37.371Z"
   },
   {
    "duration": 201,
    "start_time": "2023-07-14T16:22:37.556Z"
   },
   {
    "duration": 185,
    "start_time": "2023-07-14T16:22:37.759Z"
   },
   {
    "duration": 208,
    "start_time": "2023-07-14T16:22:37.951Z"
   },
   {
    "duration": 10,
    "start_time": "2023-07-14T16:22:38.161Z"
   },
   {
    "duration": 77,
    "start_time": "2023-07-14T16:22:38.173Z"
   },
   {
    "duration": 289,
    "start_time": "2023-07-14T16:22:38.253Z"
   },
   {
    "duration": 10,
    "start_time": "2023-07-14T16:22:38.545Z"
   },
   {
    "duration": 68,
    "start_time": "2023-07-14T16:22:38.558Z"
   },
   {
    "duration": 16,
    "start_time": "2023-07-14T16:22:38.628Z"
   },
   {
    "duration": 54,
    "start_time": "2023-07-14T16:22:38.646Z"
   },
   {
    "duration": 20,
    "start_time": "2023-07-14T16:22:38.702Z"
   },
   {
    "duration": 43,
    "start_time": "2023-07-14T16:22:38.724Z"
   },
   {
    "duration": 56,
    "start_time": "2023-07-14T16:22:38.769Z"
   },
   {
    "duration": 23,
    "start_time": "2023-07-14T16:22:38.827Z"
   },
   {
    "duration": 148,
    "start_time": "2023-07-14T16:26:46.803Z"
   },
   {
    "duration": 16,
    "start_time": "2023-07-14T16:26:58.990Z"
   },
   {
    "duration": 15,
    "start_time": "2023-07-14T16:27:05.283Z"
   },
   {
    "duration": 12,
    "start_time": "2023-07-14T16:27:54.640Z"
   },
   {
    "duration": 10,
    "start_time": "2023-07-14T16:30:50.029Z"
   },
   {
    "duration": 12,
    "start_time": "2023-07-14T16:31:00.617Z"
   },
   {
    "duration": 14,
    "start_time": "2023-07-14T16:31:01.984Z"
   },
   {
    "duration": 1276,
    "start_time": "2023-07-14T16:31:24.668Z"
   },
   {
    "duration": 4,
    "start_time": "2023-07-14T16:31:26.702Z"
   },
   {
    "duration": 98,
    "start_time": "2023-07-14T16:31:29.750Z"
   },
   {
    "duration": 6,
    "start_time": "2023-07-14T16:31:31.400Z"
   },
   {
    "duration": 5,
    "start_time": "2023-07-14T16:31:32.127Z"
   },
   {
    "duration": 69,
    "start_time": "2023-07-14T16:31:35.010Z"
   },
   {
    "duration": 13,
    "start_time": "2023-07-14T16:31:40.388Z"
   },
   {
    "duration": 54,
    "start_time": "2023-07-14T16:31:43.861Z"
   },
   {
    "duration": 10,
    "start_time": "2023-07-14T16:31:48.647Z"
   },
   {
    "duration": 4,
    "start_time": "2023-07-14T16:31:49.255Z"
   },
   {
    "duration": 6,
    "start_time": "2023-07-14T16:31:50.027Z"
   },
   {
    "duration": 16,
    "start_time": "2023-07-14T16:31:50.636Z"
   },
   {
    "duration": 8,
    "start_time": "2023-07-14T16:32:09.424Z"
   },
   {
    "duration": 4,
    "start_time": "2023-07-14T16:32:09.953Z"
   },
   {
    "duration": 7,
    "start_time": "2023-07-14T16:32:10.678Z"
   },
   {
    "duration": 13,
    "start_time": "2023-07-14T16:32:11.744Z"
   },
   {
    "duration": 39,
    "start_time": "2023-07-14T16:32:16.001Z"
   },
   {
    "duration": 5,
    "start_time": "2023-07-14T16:32:20.495Z"
   },
   {
    "duration": 5,
    "start_time": "2023-07-14T16:32:20.958Z"
   },
   {
    "duration": 405,
    "start_time": "2023-07-14T16:32:21.694Z"
   },
   {
    "duration": 13,
    "start_time": "2023-07-14T16:32:26.179Z"
   },
   {
    "duration": 19,
    "start_time": "2023-07-14T16:32:30.024Z"
   },
   {
    "duration": 12,
    "start_time": "2023-07-14T16:32:34.687Z"
   },
   {
    "duration": 14,
    "start_time": "2023-07-14T16:32:38.821Z"
   },
   {
    "duration": 8,
    "start_time": "2023-07-14T16:32:53.646Z"
   },
   {
    "duration": 15,
    "start_time": "2023-07-14T16:32:54.761Z"
   },
   {
    "duration": 17,
    "start_time": "2023-07-14T16:34:13.305Z"
   },
   {
    "duration": 128,
    "start_time": "2023-07-14T16:34:17.537Z"
   },
   {
    "duration": 14,
    "start_time": "2023-07-14T16:34:19.368Z"
   },
   {
    "duration": 4,
    "start_time": "2023-07-14T16:34:26.286Z"
   },
   {
    "duration": 129,
    "start_time": "2023-07-14T16:34:27.115Z"
   },
   {
    "duration": 50,
    "start_time": "2023-07-14T16:34:29.162Z"
   },
   {
    "duration": 274,
    "start_time": "2023-07-14T16:34:32.696Z"
   },
   {
    "duration": 383,
    "start_time": "2023-07-14T16:34:50.058Z"
   },
   {
    "duration": 466,
    "start_time": "2023-07-14T16:34:58.405Z"
   },
   {
    "duration": 3,
    "start_time": "2023-07-14T16:35:14.063Z"
   },
   {
    "duration": 303,
    "start_time": "2023-07-14T16:35:14.871Z"
   },
   {
    "duration": 389,
    "start_time": "2023-07-14T16:35:21.064Z"
   },
   {
    "duration": 3,
    "start_time": "2023-07-14T16:35:29.199Z"
   },
   {
    "duration": 19,
    "start_time": "2023-07-14T16:36:07.572Z"
   },
   {
    "duration": 281,
    "start_time": "2023-07-14T16:36:11.318Z"
   },
   {
    "duration": 232,
    "start_time": "2023-07-14T16:36:16.752Z"
   },
   {
    "duration": 6,
    "start_time": "2023-07-14T16:36:22.642Z"
   },
   {
    "duration": 181,
    "start_time": "2023-07-14T16:36:26.182Z"
   },
   {
    "duration": 199,
    "start_time": "2023-07-14T16:36:29.080Z"
   },
   {
    "duration": 280,
    "start_time": "2023-07-14T16:36:31.739Z"
   },
   {
    "duration": 168,
    "start_time": "2023-07-14T16:36:35.487Z"
   },
   {
    "duration": 5,
    "start_time": "2023-07-14T16:37:05.277Z"
   },
   {
    "duration": 3,
    "start_time": "2023-07-14T16:37:43.652Z"
   },
   {
    "duration": 278,
    "start_time": "2023-07-14T16:37:47.420Z"
   },
   {
    "duration": 8,
    "start_time": "2023-07-14T16:37:51.506Z"
   },
   {
    "duration": 37,
    "start_time": "2023-07-14T16:37:53.055Z"
   },
   {
    "duration": 14,
    "start_time": "2023-07-14T16:38:00.832Z"
   },
   {
    "duration": 9,
    "start_time": "2023-07-14T16:38:15.406Z"
   },
   {
    "duration": 17,
    "start_time": "2023-07-14T16:38:18.273Z"
   },
   {
    "duration": 14,
    "start_time": "2023-07-14T16:40:36.665Z"
   },
   {
    "duration": 37,
    "start_time": "2023-07-14T16:40:40.612Z"
   },
   {
    "duration": 25,
    "start_time": "2023-07-14T16:40:46.298Z"
   },
   {
    "duration": 1444,
    "start_time": "2023-07-15T12:26:48.310Z"
   },
   {
    "duration": 3,
    "start_time": "2023-07-15T12:26:49.756Z"
   },
   {
    "duration": 203,
    "start_time": "2023-07-15T12:26:49.761Z"
   },
   {
    "duration": 3,
    "start_time": "2023-07-15T12:26:49.967Z"
   },
   {
    "duration": 82,
    "start_time": "2023-07-15T12:26:49.972Z"
   },
   {
    "duration": 73,
    "start_time": "2023-07-15T12:26:50.056Z"
   },
   {
    "duration": 8,
    "start_time": "2023-07-15T12:26:50.131Z"
   },
   {
    "duration": 74,
    "start_time": "2023-07-15T12:26:50.140Z"
   },
   {
    "duration": 5,
    "start_time": "2023-07-15T12:26:50.217Z"
   },
   {
    "duration": 23,
    "start_time": "2023-07-15T12:26:50.225Z"
   },
   {
    "duration": 29,
    "start_time": "2023-07-15T12:26:50.249Z"
   },
   {
    "duration": 39,
    "start_time": "2023-07-15T12:26:50.280Z"
   },
   {
    "duration": 41,
    "start_time": "2023-07-15T12:26:50.320Z"
   },
   {
    "duration": 4,
    "start_time": "2023-07-15T12:26:50.362Z"
   },
   {
    "duration": 24,
    "start_time": "2023-07-15T12:26:50.367Z"
   },
   {
    "duration": 390,
    "start_time": "2023-07-15T12:26:50.393Z"
   },
   {
    "duration": 12,
    "start_time": "2023-07-15T12:26:50.784Z"
   },
   {
    "duration": 12,
    "start_time": "2023-07-15T12:26:50.798Z"
   },
   {
    "duration": 27,
    "start_time": "2023-07-15T12:26:50.814Z"
   },
   {
    "duration": 12,
    "start_time": "2023-07-15T12:26:50.843Z"
   },
   {
    "duration": 21,
    "start_time": "2023-07-15T12:26:50.858Z"
   },
   {
    "duration": 26,
    "start_time": "2023-07-15T12:26:50.881Z"
   },
   {
    "duration": 138,
    "start_time": "2023-07-15T12:26:50.909Z"
   },
   {
    "duration": 3,
    "start_time": "2023-07-15T12:26:51.049Z"
   },
   {
    "duration": 105,
    "start_time": "2023-07-15T12:26:51.053Z"
   },
   {
    "duration": 56,
    "start_time": "2023-07-15T12:26:51.160Z"
   },
   {
    "duration": 236,
    "start_time": "2023-07-15T12:26:51.218Z"
   },
   {
    "duration": 236,
    "start_time": "2023-07-15T12:26:51.458Z"
   },
   {
    "duration": 381,
    "start_time": "2023-07-15T12:26:51.697Z"
   },
   {
    "duration": 2,
    "start_time": "2023-07-15T12:26:52.081Z"
   },
   {
    "duration": 240,
    "start_time": "2023-07-15T12:26:52.086Z"
   },
   {
    "duration": 356,
    "start_time": "2023-07-15T12:26:52.328Z"
   },
   {
    "duration": 3,
    "start_time": "2023-07-15T12:26:52.685Z"
   },
   {
    "duration": 24,
    "start_time": "2023-07-15T12:26:52.691Z"
   },
   {
    "duration": 267,
    "start_time": "2023-07-15T12:26:52.717Z"
   },
   {
    "duration": 179,
    "start_time": "2023-07-15T12:26:52.985Z"
   },
   {
    "duration": 5,
    "start_time": "2023-07-15T12:26:53.166Z"
   },
   {
    "duration": 187,
    "start_time": "2023-07-15T12:26:53.172Z"
   },
   {
    "duration": 186,
    "start_time": "2023-07-15T12:26:53.360Z"
   },
   {
    "duration": 179,
    "start_time": "2023-07-15T12:26:53.548Z"
   },
   {
    "duration": 163,
    "start_time": "2023-07-15T12:26:53.728Z"
   },
   {
    "duration": 4,
    "start_time": "2023-07-15T12:26:53.893Z"
   },
   {
    "duration": 27,
    "start_time": "2023-07-15T12:26:53.908Z"
   },
   {
    "duration": 140,
    "start_time": "2023-07-15T12:26:53.936Z"
   },
   {
    "duration": 6,
    "start_time": "2023-07-15T12:26:54.078Z"
   },
   {
    "duration": 33,
    "start_time": "2023-07-15T12:26:54.086Z"
   },
   {
    "duration": 11,
    "start_time": "2023-07-15T12:26:54.121Z"
   },
   {
    "duration": 15,
    "start_time": "2023-07-15T12:26:54.134Z"
   },
   {
    "duration": 15,
    "start_time": "2023-07-15T12:26:54.151Z"
   },
   {
    "duration": 10,
    "start_time": "2023-07-15T12:26:54.167Z"
   },
   {
    "duration": 41,
    "start_time": "2023-07-15T12:26:54.179Z"
   },
   {
    "duration": 15,
    "start_time": "2023-07-15T12:26:54.222Z"
   }
  ],
  "kernelspec": {
   "display_name": "Python 3 (ipykernel)",
   "language": "python",
   "name": "python3"
  },
  "language_info": {
   "codemirror_mode": {
    "name": "ipython",
    "version": 3
   },
   "file_extension": ".py",
   "mimetype": "text/x-python",
   "name": "python",
   "nbconvert_exporter": "python",
   "pygments_lexer": "ipython3",
   "version": "3.9.13"
  },
  "toc": {
   "base_numbering": 1,
   "nav_menu": {},
   "number_sections": true,
   "sideBar": true,
   "skip_h1_title": true,
   "title_cell": "Table of Contents",
   "title_sidebar": "Contents",
   "toc_cell": false,
   "toc_position": {
    "height": "calc(100% - 180px)",
    "left": "10px",
    "top": "150px",
    "width": "217.685px"
   },
   "toc_section_display": true,
   "toc_window_display": false
  }
 },
 "nbformat": 4,
 "nbformat_minor": 2
}
